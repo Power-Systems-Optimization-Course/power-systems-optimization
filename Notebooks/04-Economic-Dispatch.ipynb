{
 "cells": [
  {
   "cell_type": "markdown",
   "metadata": {},
   "source": [
    "# Economic Dispatch\n",
    "\n",
    "_**[Power Systems Optimization](https://github.com/east-winds/power-systems-optimization)**_\n",
    "\n",
    "_by Michael R. Davidson and Jesse D. Jenkins (last updated: September 27, 2020)_\n",
    "\n",
    "This notebook will introduce a key operational model&mdash;economic dispatch (ED)&mdash;which minimizes the short-run production costs of meeting electricity demand from a given set of generators subject to various technical constraints.\n",
    "\n",
    "We build up the model in several stages. We begin with a single-time period and simple generator constraints just related to allowable output ranges. This allows us to compare the model with the intuition provided by the merit order supply curve (also known as the \"dispatch stack\"). \n",
    "\n",
    "We then add multiple time periods by considering the economic dispatch over an entire day. Due to the simple generator constraints, this simple model does not introduce any coupling across time.\n",
    "\n",
    "More realism is added by considering complex engineering constraints that introduce time coupling&mdash;namely, ramp rates, which are an important limitation of many generators.\n",
    "\n",
    "Finally, we examine the famous \"duck curve\" by adding more solar onto the system and explore the role that ramp rates play in the solution."
   ]
  },
  {
   "cell_type": "markdown",
   "metadata": {},
   "source": [
    "## Introduction to economic dispatch\n",
    "\n",
    "Every day, system operators need to decide how to meet demand from a large variety of generators with different costs and engineering requirements. Prior to large-scale computational capabilities, this was accomplished by \"priority lists\" or similar heuristics to determine the ordering of plants. However, with modern optimization algorithms, operators can find the global minimum of production costs&mdash;and even incorporate coupling of engineering processes across time periods.\n",
    "\n",
    "**Economic dispatch** (ED) is the problem of minimizing short-run costs of production in order to meet a given demand, considering relevant engineering constraints of the generators. It *does not* fully capture the physics of electricity flows, which will further constrain the feasible space and which we will come back to in later notebooks on optimal power flow, nor does it account for decisions and constraints related to turning on or \"committing\" large thermal generators, which we'll discuss in our next notebook on unit commitment. Typically, *it does* incorporate some type of network representation, which we have ignored here by considering only a single bus. More on the networks in the notebook on optimal power flow."
   ]
  },
  {
   "cell_type": "markdown",
   "metadata": {},
   "source": [
    "## Single-time period, simple generator constraints\n",
    "\n",
    "We will first examine the case where we are optimizing dispatch for a single snapshot in time, with only very simple constraints on the generators.\n",
    "    \n",
    "$$\n",
    "\\begin{align}\n",
    "\\min \\ & \\sum_{g \\in G} VarCost_g \\times GEN_g & \\\\\n",
    "\\text{s.t.} & \\\\\n",
    " & \\sum_{g} GEN_g = Demand & \\\\\n",
    " & GEN_g \\leq Pmax_g & \\forall \\quad g \\in G \\\\\n",
    " & GEN_g \\geq Pmin_g & \\forall \\quad g \\in G \\\\\n",
    "\\end{align}\n",
    "$$\n",
    "\n",
    "The **decision variable** in the above problem is:\n",
    "\n",
    "- $GEN_{g}$, the generation (in MW) produced by each generator, $g$\n",
    "\n",
    "The **parameters** are:\n",
    "\n",
    "- $Pmin_g$, the minimum operating bounds for the generator (based on engineering or natural resource constraints)\n",
    "- $Pmax_g$, the maximum operating bounds for the generator (based on engineering or natural resource constraints)\n",
    "- $Demand$, the demand (in MW)\n",
    "\n",
    "(For this simple problem, we will let $Pmin_g=0$ and revisit this later in the unit commitment notebook.)\n",
    "\n",
    "In addition, we have:\n",
    "\n",
    "$$\n",
    "VarCost_g = VarOM_g + HeatRate_g \\times FuelCost_g\n",
    "$$\n",
    "\n",
    "Note that, in contrast with the basic capacity expansion problem, we are not concerned with fixed costs. Why not?\n",
    "\n",
    "The simplest response is that these costs have already been incurred and regardless of how much a generator produces, its fixed costs will not change. These costs are thus \"[sunk costs](https://en.wikipedia.org/wiki/Sunk_cost)\" and are constant in the objective function. Our optimal decision variables would not change by adjusting this constant up or down.\n",
    "\n",
    "Therefore, we can safely ignore fixed costs for the purposes of finding optimal dispatch. (We will still have to consider them to calculate producer profits, however.)\n",
    "\n",
    "[A famous electricity regulator](https://en.wikipedia.org/wiki/Ignacio_J._P%C3%A9rez_Arriaga), noting that it is frequently misunderstood and ignored even by experienced market participants, has called the application of the \"[sunk cost fallacy](https://en.wikipedia.org/wiki/Sunk_cost#Fallacy_effect)\" to electricity systems \"[Grandma's Inheritance Theorem](http://link.springer.com/content/pdf/bbm%3A978-1-4471-5034-3%2F1.pdf).\" In this hypothetical scenario, if you were to inherit a diamond ring or perhaps a financial contract-for-differences that pays out relative to cleared market prices (you have a very sophisticated grandma in this scenario!), you should not be tempted to change your production strategy.\n",
    "\n",
    "Now, let's implement ED."
   ]
  },
  {
   "cell_type": "markdown",
   "metadata": {},
   "source": [
    "### 1. Load packages"
   ]
  },
  {
   "cell_type": "code",
   "execution_count": 1,
   "metadata": {},
   "outputs": [
    {
     "name": "stderr",
     "output_type": "stream",
     "text": [
      "┌ Info: For saving to png with the Plotly backend PlotlyBase has to be installed.\n",
      "└ @ Plots /home/samie/.julia/packages/Plots/jZRxE/src/backends.jl:373\n"
     ]
    }
   ],
   "source": [
    "# New packages introduced in this tutorial (uncomment to download the first time)\n",
    "# import Pkg; Pkg.add(\"PrettyTables\"); Pkg.add(\"VegaLite\")\n",
    "using JuMP, GLPK\n",
    "using Plots; plotly();\n",
    "using VegaLite  # to make some nice plots\n",
    "using DataFrames, CSV, PrettyTables\n",
    "ENV[\"COLUMNS\"]=120; # Set so all columns of DataFrames and Matrices are displayed"
   ]
  },
  {
   "cell_type": "markdown",
   "metadata": {},
   "source": [
    "### 2. Load and format data\n",
    "\n",
    "We will use data based on San Diego Gas and Electric (SDG&E, via the [PowerGenome](https://github.com/gschivley/PowerGenome) data platform) plus a few neighboring generators, consisting of:\n",
    "\n",
    "- 25 generators (including some clustering of smaller generators, and excluding behind-the-meter solar)\n",
    "- estimated hourly demand for 2020 (net load at the transmission substation level after subtracting 600MW of behind-the-meter solar from original demand)\n",
    "- variable generation capacity factors\n",
    "- estimated natural gas fuel costs"
   ]
  },
  {
   "cell_type": "code",
   "execution_count": 2,
   "metadata": {},
   "outputs": [
    {
     "ename": "MethodError",
     "evalue": "MethodError: no method matching read(::String, ::Type{DataFrame})\nYou may have intended to import Base.read\nClosest candidates are:\n  read(::Any; copycols, kwargs...) at /home/samie/.julia/packages/CSV/GCUID/src/CSV.jl:1071",
     "output_type": "error",
     "traceback": [
      "MethodError: no method matching read(::String, ::Type{DataFrame})\nYou may have intended to import Base.read\nClosest candidates are:\n  read(::Any; copycols, kwargs...) at /home/samie/.julia/packages/CSV/GCUID/src/CSV.jl:1071",
      "",
      "Stacktrace:",
      " [1] top-level scope at In[2]:2"
     ]
    }
   ],
   "source": [
    "datadir = joinpath(\"ed_data\") \n",
    "# Note: joinpath is a good way to create path reference that is agnostic\n",
    "# to what file system you are using (e.g. whether directories are denoted \n",
    "# with a forward or backwards slash).\n",
    "gen_info = CSV.read(joinpath(datadir,\"Generators_data.csv\"), DataFrame);\n",
    "fuels = CSV.read(joinpath(datadir,\"Fuels_data.csv\"), DataFrame);\n",
    "loads = CSV.read(joinpath(datadir,\"Demand.csv\"), DataFrame);\n",
    "gen_variable = CSV.read(joinpath(datadir,\"Generators_variability.csv\"), DataFrame);\n",
    "\n",
    "# Rename all columns to lowercase (by convention)\n",
    "for f in [gen_info, fuels, loads, gen_variable]\n",
    "    rename!(f,lowercase.(names(f)))\n",
    "end"
   ]
  },
  {
   "cell_type": "markdown",
   "metadata": {},
   "source": [
    "**Construct generator dataframe**"
   ]
  },
  {
   "cell_type": "code",
   "execution_count": 3,
   "metadata": {},
   "outputs": [],
   "source": [
    "# Keep only the columns relevant to our ED model \n",
    "# (We'll come back to other columns in our unit commitment notebooks)\n",
    "select!(gen_info, 1:26, :stor) # columns 1:10 and cluster IDs\n",
    "gen_df = outerjoin(gen_info,  fuels, on = :fuel) # load in fuel costs and add to data frame\n",
    "rename!(gen_df, :cost_per_mmbtu => :fuel_cost)   # rename column for fuel cost\n",
    "gen_df.fuel_cost[ismissing.(gen_df[:,:fuel_cost])] .= 0\n",
    "\n",
    "# create \"is_variable\" column to indicate if this is a variable generation source (e.g. wind, solar):\n",
    "gen_df.is_variable = false\n",
    "gen_df[in([\"onshore_wind_turbine\",\"small_hydroelectric\",\"solar_photovoltaic\"]).(gen_df.resource),\n",
    "    :is_variable] .= true;\n",
    "\n",
    "# create full name of generator (including geographic location and cluster number)\n",
    "#  for use with variable generation dataframe\n",
    "gen_df.gen_full = lowercase.(gen_df.region .* \"_\" .* gen_df.resource .* \"_\" .* string.(gen_df.cluster) .* \".0\");\n",
    "\n",
    "# remove generators with no capacity (e.g. new build options that we'd use if this was capacity expansion problem)\n",
    "gen_df = gen_df[gen_df.existing_cap_mw .> 0,:];"
   ]
  },
  {
   "cell_type": "markdown",
   "metadata": {},
   "source": [
    "**Modify load and variable generation dataframes**\n",
    "\n",
    "1. Convert from GMT to GMT-8\n",
    "\n",
    "The load and variable generation files are in GMT. We want to convert to local California time. Here, we will ignore daylight savings and simply subtract 8 hours. (A more proper solution would involve the use of the [TimeZones](https://github.com/JuliaTime/TimeZones.jl/) package.)\n",
    "\n",
    "To accomplish this, we 'wrap' the last 8 hours of the data series (i.e., the last 8 hours of the year) around to the front of the series."
   ]
  },
  {
   "cell_type": "code",
   "execution_count": 4,
   "metadata": {},
   "outputs": [],
   "source": [
    "gen_variable.hour = mod.(gen_variable.hour .- 9, 8760) .+ 1 \n",
    "sort!(gen_variable, :hour)\n",
    "loads.hour = mod.(loads.hour .- 9, 8760) .+ 1\n",
    "sort!(loads, :hour);"
   ]
  },
  {
   "cell_type": "markdown",
   "metadata": {},
   "source": [
    "2. Convert from \"wide\" to \"long\" format:\n",
    "\n",
    "The file is in \"wide\" format, which has separate columns for values from different types of generators. This has more human readability, but often we want to have it in \"long\" format for computation.\n",
    "\n",
    "\"Long\" format refers to a dataframe with a separate row entry for every value. The rest of the columns are \"indexes\" that uniquely identify the row. In Julia, we use the DataFrame package's [`stack`](https://juliadata.github.io/DataFrames.jl/stable/man/reshaping_and_pivoting/) function to accomplish this. (This is similar to the [`melt`](https://www.rdocumentation.org/packages/reshape2/versions/1.4.4/topics/melt) function for those familiar with DataFrames in R)"
   ]
  },
  {
   "cell_type": "code",
   "execution_count": 5,
   "metadata": {},
   "outputs": [
    {
     "data": {
      "text/html": [
       "<table class=\"data-frame\"><thead><tr><th></th><th>hour</th><th>gen_full</th><th>cf</th></tr><tr><th></th><th>Int64</th><th>Cat…</th><th>Float64</th></tr></thead><tbody><p>6 rows × 3 columns</p><tr><th>1</th><td>1</td><td>wec_sdge_onshore_wind_turbine_1.0</td><td>0.1694</td></tr><tr><th>2</th><td>2</td><td>wec_sdge_onshore_wind_turbine_1.0</td><td>0.1658</td></tr><tr><th>3</th><td>3</td><td>wec_sdge_onshore_wind_turbine_1.0</td><td>0.1502</td></tr><tr><th>4</th><td>4</td><td>wec_sdge_onshore_wind_turbine_1.0</td><td>0.1455</td></tr><tr><th>5</th><td>5</td><td>wec_sdge_onshore_wind_turbine_1.0</td><td>0.0932</td></tr><tr><th>6</th><td>6</td><td>wec_sdge_onshore_wind_turbine_1.0</td><td>0.0717</td></tr></tbody></table>"
      ],
      "text/latex": [
       "\\begin{tabular}{r|ccc}\n",
       "\t& hour & gen\\_full & cf\\\\\n",
       "\t\\hline\n",
       "\t& Int64 & Cat… & Float64\\\\\n",
       "\t\\hline\n",
       "\t1 & 1 & wec\\_sdge\\_onshore\\_wind\\_turbine\\_1.0 & 0.1694 \\\\\n",
       "\t2 & 2 & wec\\_sdge\\_onshore\\_wind\\_turbine\\_1.0 & 0.1658 \\\\\n",
       "\t3 & 3 & wec\\_sdge\\_onshore\\_wind\\_turbine\\_1.0 & 0.1502 \\\\\n",
       "\t4 & 4 & wec\\_sdge\\_onshore\\_wind\\_turbine\\_1.0 & 0.1455 \\\\\n",
       "\t5 & 5 & wec\\_sdge\\_onshore\\_wind\\_turbine\\_1.0 & 0.0932 \\\\\n",
       "\t6 & 6 & wec\\_sdge\\_onshore\\_wind\\_turbine\\_1.0 & 0.0717 \\\\\n",
       "\\end{tabular}\n"
      ],
      "text/plain": [
       "6×3 DataFrame\n",
       "│ Row │ hour  │ gen_full                          │ cf      │\n",
       "│     │ \u001b[90mInt64\u001b[39m │ \u001b[90mCategoricalValue{String,UInt32}\u001b[39m   │ \u001b[90mFloat64\u001b[39m │\n",
       "├─────┼───────┼───────────────────────────────────┼─────────┤\n",
       "│ 1   │ 1     │ wec_sdge_onshore_wind_turbine_1.0 │ 0.1694  │\n",
       "│ 2   │ 2     │ wec_sdge_onshore_wind_turbine_1.0 │ 0.1658  │\n",
       "│ 3   │ 3     │ wec_sdge_onshore_wind_turbine_1.0 │ 0.1502  │\n",
       "│ 4   │ 4     │ wec_sdge_onshore_wind_turbine_1.0 │ 0.1455  │\n",
       "│ 5   │ 5     │ wec_sdge_onshore_wind_turbine_1.0 │ 0.0932  │\n",
       "│ 6   │ 6     │ wec_sdge_onshore_wind_turbine_1.0 │ 0.0717  │"
      ]
     },
     "execution_count": 5,
     "metadata": {},
     "output_type": "execute_result"
    }
   ],
   "source": [
    "gen_variable_long = stack(gen_variable, \n",
    "                        Not(:hour), \n",
    "                        variable_name=:gen_full,\n",
    "                        value_name=:cf);\n",
    "# Now we have a \"long\" dataframe; \n",
    "# let's look at the first 6 entries of a wind resource for example\n",
    "first(gen_variable_long[gen_variable_long.gen_full.==\"wec_sdge_onshore_wind_turbine_1.0\",:],6)"
   ]
  },
  {
   "cell_type": "markdown",
   "metadata": {},
   "source": [
    "**Extract single time from the data**\n",
    "(we will get to the full set later)\n",
    "\n",
    "- demand\n",
    "- variable generation\n",
    "\n",
    "Note: variable generation profiles are often encoded in terms of hourly maximum capacity factor, expressed as a per unit value or percentage of installed capacity. Hourly capacity factor is then later multiplied by installed capacity to yield a maximum hourly generation for each resource."
   ]
  },
  {
   "cell_type": "code",
   "execution_count": 6,
   "metadata": {},
   "outputs": [
    {
     "data": {
      "text/html": [
       "<table class=\"data-frame\"><thead><tr><th></th><th>gen_full</th><th>cf</th></tr><tr><th></th><th>Cat…</th><th>Float64</th></tr></thead><tbody><p>30 rows × 2 columns</p><tr><th>1</th><td>wec_sdge_biomass_1.0</td><td>1.0</td></tr><tr><th>2</th><td>wec_sdge_hydroelectric_pumped_storage_1.0</td><td>1.0</td></tr><tr><th>3</th><td>wec_sdge_natural_gas_fired_combined_cycle_1.0</td><td>1.0</td></tr><tr><th>4</th><td>wec_sdge_natural_gas_fired_combined_cycle_2.0</td><td>1.0</td></tr><tr><th>5</th><td>wec_sdge_natural_gas_fired_combined_cycle_3.0</td><td>1.0</td></tr><tr><th>6</th><td>wec_sdge_natural_gas_fired_combined_cycle_4.0</td><td>1.0</td></tr><tr><th>7</th><td>wec_sdge_natural_gas_fired_combustion_turbine_1.0</td><td>1.0</td></tr><tr><th>8</th><td>wec_sdge_natural_gas_fired_combustion_turbine_2.0</td><td>1.0</td></tr><tr><th>9</th><td>wec_sdge_natural_gas_fired_combustion_turbine_3.0</td><td>1.0</td></tr><tr><th>10</th><td>wec_sdge_natural_gas_fired_combustion_turbine_4.0</td><td>1.0</td></tr><tr><th>11</th><td>wec_sdge_natural_gas_fired_combustion_turbine_5.0</td><td>1.0</td></tr><tr><th>12</th><td>wec_sdge_natural_gas_fired_combustion_turbine_6.0</td><td>1.0</td></tr><tr><th>13</th><td>wec_sdge_natural_gas_fired_combustion_turbine_7.0</td><td>1.0</td></tr><tr><th>14</th><td>wec_sdge_natural_gas_fired_combustion_turbine_8.0</td><td>1.0</td></tr><tr><th>15</th><td>wec_sdge_natural_gas_fired_combustion_turbine_9.0</td><td>1.0</td></tr><tr><th>16</th><td>wec_sdge_natural_gas_fired_combustion_turbine_10.0</td><td>1.0</td></tr><tr><th>17</th><td>wec_sdge_natural_gas_fired_combustion_turbine_11.0</td><td>1.0</td></tr><tr><th>18</th><td>wec_sdge_natural_gas_fired_combustion_turbine_12.0</td><td>1.0</td></tr><tr><th>19</th><td>wec_sdge_onshore_wind_turbine_1.0</td><td>0.3006</td></tr><tr><th>20</th><td>wec_sdge_small_hydroelectric_1.0</td><td>0.4351</td></tr><tr><th>21</th><td>wec_sdge_solar_photovoltaic_1.0</td><td>0.5695</td></tr><tr><th>22</th><td>wec_sdge_naturalgas_ccccsavgcf_0.0</td><td>1.0</td></tr><tr><th>23</th><td>wec_sdge_naturalgas_ccavgcf_0.0</td><td>1.0</td></tr><tr><th>24</th><td>wec_sdge_naturalgas_ctavgcf_0.0</td><td>1.0</td></tr><tr><th>25</th><td>wec_sdge_battery_0.0</td><td>1.0</td></tr><tr><th>26</th><td>wec_sdge_naturalgas_ccs100_0.0</td><td>1.0</td></tr><tr><th>27</th><td>wec_sdge_landbasedwind_ltrg1_1.0</td><td>0.482802</td></tr><tr><th>28</th><td>wec_sdge_landbasedwind_ltrg1_2.0</td><td>0.302244</td></tr><tr><th>29</th><td>wec_sdge_utilitypv_losangeles_1.0</td><td>0.690915</td></tr><tr><th>30</th><td>wec_sdge_utilitypv_losangeles_2.0</td><td>0.743176</td></tr></tbody></table>"
      ],
      "text/latex": [
       "\\begin{tabular}{r|cc}\n",
       "\t& gen\\_full & cf\\\\\n",
       "\t\\hline\n",
       "\t& Cat… & Float64\\\\\n",
       "\t\\hline\n",
       "\t1 & wec\\_sdge\\_biomass\\_1.0 & 1.0 \\\\\n",
       "\t2 & wec\\_sdge\\_hydroelectric\\_pumped\\_storage\\_1.0 & 1.0 \\\\\n",
       "\t3 & wec\\_sdge\\_natural\\_gas\\_fired\\_combined\\_cycle\\_1.0 & 1.0 \\\\\n",
       "\t4 & wec\\_sdge\\_natural\\_gas\\_fired\\_combined\\_cycle\\_2.0 & 1.0 \\\\\n",
       "\t5 & wec\\_sdge\\_natural\\_gas\\_fired\\_combined\\_cycle\\_3.0 & 1.0 \\\\\n",
       "\t6 & wec\\_sdge\\_natural\\_gas\\_fired\\_combined\\_cycle\\_4.0 & 1.0 \\\\\n",
       "\t7 & wec\\_sdge\\_natural\\_gas\\_fired\\_combustion\\_turbine\\_1.0 & 1.0 \\\\\n",
       "\t8 & wec\\_sdge\\_natural\\_gas\\_fired\\_combustion\\_turbine\\_2.0 & 1.0 \\\\\n",
       "\t9 & wec\\_sdge\\_natural\\_gas\\_fired\\_combustion\\_turbine\\_3.0 & 1.0 \\\\\n",
       "\t10 & wec\\_sdge\\_natural\\_gas\\_fired\\_combustion\\_turbine\\_4.0 & 1.0 \\\\\n",
       "\t11 & wec\\_sdge\\_natural\\_gas\\_fired\\_combustion\\_turbine\\_5.0 & 1.0 \\\\\n",
       "\t12 & wec\\_sdge\\_natural\\_gas\\_fired\\_combustion\\_turbine\\_6.0 & 1.0 \\\\\n",
       "\t13 & wec\\_sdge\\_natural\\_gas\\_fired\\_combustion\\_turbine\\_7.0 & 1.0 \\\\\n",
       "\t14 & wec\\_sdge\\_natural\\_gas\\_fired\\_combustion\\_turbine\\_8.0 & 1.0 \\\\\n",
       "\t15 & wec\\_sdge\\_natural\\_gas\\_fired\\_combustion\\_turbine\\_9.0 & 1.0 \\\\\n",
       "\t16 & wec\\_sdge\\_natural\\_gas\\_fired\\_combustion\\_turbine\\_10.0 & 1.0 \\\\\n",
       "\t17 & wec\\_sdge\\_natural\\_gas\\_fired\\_combustion\\_turbine\\_11.0 & 1.0 \\\\\n",
       "\t18 & wec\\_sdge\\_natural\\_gas\\_fired\\_combustion\\_turbine\\_12.0 & 1.0 \\\\\n",
       "\t19 & wec\\_sdge\\_onshore\\_wind\\_turbine\\_1.0 & 0.3006 \\\\\n",
       "\t20 & wec\\_sdge\\_small\\_hydroelectric\\_1.0 & 0.4351 \\\\\n",
       "\t21 & wec\\_sdge\\_solar\\_photovoltaic\\_1.0 & 0.5695 \\\\\n",
       "\t22 & wec\\_sdge\\_naturalgas\\_ccccsavgcf\\_0.0 & 1.0 \\\\\n",
       "\t23 & wec\\_sdge\\_naturalgas\\_ccavgcf\\_0.0 & 1.0 \\\\\n",
       "\t24 & wec\\_sdge\\_naturalgas\\_ctavgcf\\_0.0 & 1.0 \\\\\n",
       "\t25 & wec\\_sdge\\_battery\\_0.0 & 1.0 \\\\\n",
       "\t26 & wec\\_sdge\\_naturalgas\\_ccs100\\_0.0 & 1.0 \\\\\n",
       "\t27 & wec\\_sdge\\_landbasedwind\\_ltrg1\\_1.0 & 0.482802 \\\\\n",
       "\t28 & wec\\_sdge\\_landbasedwind\\_ltrg1\\_2.0 & 0.302244 \\\\\n",
       "\t29 & wec\\_sdge\\_utilitypv\\_losangeles\\_1.0 & 0.690915 \\\\\n",
       "\t30 & wec\\_sdge\\_utilitypv\\_losangeles\\_2.0 & 0.743176 \\\\\n",
       "\\end{tabular}\n"
      ],
      "text/plain": [
       "30×2 DataFrame\n",
       "│ Row │ gen_full                                          │ cf       │\n",
       "│     │ \u001b[90mCategoricalValue{String,UInt32}\u001b[39m                   │ \u001b[90mFloat64\u001b[39m  │\n",
       "├─────┼───────────────────────────────────────────────────┼──────────┤\n",
       "│ 1   │ wec_sdge_biomass_1.0                              │ 1.0      │\n",
       "│ 2   │ wec_sdge_hydroelectric_pumped_storage_1.0         │ 1.0      │\n",
       "│ 3   │ wec_sdge_natural_gas_fired_combined_cycle_1.0     │ 1.0      │\n",
       "│ 4   │ wec_sdge_natural_gas_fired_combined_cycle_2.0     │ 1.0      │\n",
       "│ 5   │ wec_sdge_natural_gas_fired_combined_cycle_3.0     │ 1.0      │\n",
       "│ 6   │ wec_sdge_natural_gas_fired_combined_cycle_4.0     │ 1.0      │\n",
       "│ 7   │ wec_sdge_natural_gas_fired_combustion_turbine_1.0 │ 1.0      │\n",
       "│ 8   │ wec_sdge_natural_gas_fired_combustion_turbine_2.0 │ 1.0      │\n",
       "│ 9   │ wec_sdge_natural_gas_fired_combustion_turbine_3.0 │ 1.0      │\n",
       "│ 10  │ wec_sdge_natural_gas_fired_combustion_turbine_4.0 │ 1.0      │\n",
       "⋮\n",
       "│ 20  │ wec_sdge_small_hydroelectric_1.0                  │ 0.4351   │\n",
       "│ 21  │ wec_sdge_solar_photovoltaic_1.0                   │ 0.5695   │\n",
       "│ 22  │ wec_sdge_naturalgas_ccccsavgcf_0.0                │ 1.0      │\n",
       "│ 23  │ wec_sdge_naturalgas_ccavgcf_0.0                   │ 1.0      │\n",
       "│ 24  │ wec_sdge_naturalgas_ctavgcf_0.0                   │ 1.0      │\n",
       "│ 25  │ wec_sdge_battery_0.0                              │ 1.0      │\n",
       "│ 26  │ wec_sdge_naturalgas_ccs100_0.0                    │ 1.0      │\n",
       "│ 27  │ wec_sdge_landbasedwind_ltrg1_1.0                  │ 0.482802 │\n",
       "│ 28  │ wec_sdge_landbasedwind_ltrg1_2.0                  │ 0.302244 │\n",
       "│ 29  │ wec_sdge_utilitypv_losangeles_1.0                 │ 0.690915 │\n",
       "│ 30  │ wec_sdge_utilitypv_losangeles_2.0                 │ 0.743176 │"
      ]
     },
     "execution_count": 6,
     "metadata": {},
     "output_type": "execute_result"
    }
   ],
   "source": [
    "hr = 2416  # pick 4pm on a spring day\n",
    "loads_single = loads[loads[:,:hour] .== hr, Not(:hour)];\n",
    "var_cf_single = gen_variable_long[\n",
    "    gen_variable_long.hour .== hr, \n",
    "    Not(:hour)]"
   ]
  },
  {
   "cell_type": "markdown",
   "metadata": {},
   "source": [
    "### 3. Create solver function\n",
    "\n",
    "Here, we introduce a functionalized version of the optimization problem. We pass the problem parameters to the function, and it constructs and solves the model, returning the result. This will be useful when we wish to call the same basic model multiple times, e.g. for conducting sensitivities on parameters (among other things)."
   ]
  },
  {
   "cell_type": "code",
   "execution_count": 7,
   "metadata": {},
   "outputs": [
    {
     "data": {
      "text/plain": [
       "economic_dispatch_single (generic function with 1 method)"
      ]
     },
     "execution_count": 7,
     "metadata": {},
     "output_type": "execute_result"
    }
   ],
   "source": [
    "#=\n",
    "Function to solve economic dispatch problem (single-time period, single-zone)\n",
    "Inputs:\n",
    "    gen_df -- dataframe with generator info\n",
    "    loads  -- dataframe with load info\n",
    "    gen_variable -- capacity factors of variable generators (in \"long\" format)\n",
    "Note: it is always a good idea to include a comment blog describing your\n",
    "function's inputs clearly!\n",
    "=#\n",
    "function economic_dispatch_single(gen_df, loads, gen_variable)\n",
    "    ED = Model(GLPK.Optimizer) # You could use Clp as well, with Clp.Optimizer\n",
    "    \n",
    "    # Define sets based on data\n",
    "      # A set of all variable generators\n",
    "    G_var = gen_df[gen_df[!,:is_variable] .== 1,:r_id] \n",
    "      # A set of all non-variable generators\n",
    "    G_nonvar = gen_df[gen_df[!,:is_variable] .== 0,:r_id]\n",
    "      # Set of all generators\n",
    "    G = gen_df.r_id\n",
    "    # Extract some parameters given the input data\n",
    "      # Generator capacity factor time series for variable generators\n",
    "    gen_var_cf = innerjoin(gen_variable, \n",
    "                    gen_df[gen_df.is_variable .== 1 , \n",
    "                        [:r_id, :gen_full, :existing_cap_mw]], \n",
    "                    on = :gen_full)\n",
    "        \n",
    "    # Decision variables   \n",
    "    @variables(ED, begin\n",
    "        GEN[G]  >= 0     # generation\n",
    "        # Note: we assume Pmin = 0 for all resources for simplicty here\n",
    "    end)\n",
    "                \n",
    "    # Objective function\n",
    "    @objective(ED, Min, \n",
    "        sum( (gen_df[i,:heat_rate_mmbtu_per_mwh] * gen_df[i,:fuel_cost] +\n",
    "            gen_df[i,:var_om_cost_per_mwh]) * GEN[i] \n",
    "                        for i in G_nonvar) + \n",
    "        sum(gen_df[i,:var_om_cost_per_mwh] * GEN[i] \n",
    "                        for i in G_var)\n",
    "    )\n",
    "\n",
    "    # Demand constraint\n",
    "    @constraint(ED, cDemand, \n",
    "        sum(GEN[i] for i in G) == loads[1,:demand])\n",
    "\n",
    "    # Capacity constraint (non-variable generation)\n",
    "    for i in G_nonvar\n",
    "        @constraint(ED, GEN[i] <= gen_df[i,:existing_cap_mw])\n",
    "    end\n",
    "\n",
    "    # Variable generation capacity constraint\n",
    "    for i in 1:nrow(gen_var_cf)\n",
    "        @constraint(ED, GEN[gen_var_cf[i,:r_id] ] <= \n",
    "                        gen_var_cf[i,:cf] *\n",
    "                        gen_var_cf[i,:existing_cap_mw])\n",
    "    end\n",
    "\n",
    "    # Solve statement (! indicates runs in place)\n",
    "    optimize!(ED)\n",
    "\n",
    "    # Dataframe of optimal decision variables\n",
    "    solution = DataFrame(\n",
    "        r_id = gen_df.r_id,\n",
    "        resource = gen_df.resource,\n",
    "        gen = value.(GEN).data\n",
    "        )\n",
    "\n",
    "    # Return the solution and objective as named tuple\n",
    "    return (\n",
    "        solution = solution, \n",
    "        cost = objective_value(ED),\n",
    "    )\n",
    "end"
   ]
  },
  {
   "cell_type": "markdown",
   "metadata": {},
   "source": [
    "### 4. Solve and print data"
   ]
  },
  {
   "cell_type": "code",
   "execution_count": 8,
   "metadata": {},
   "outputs": [
    {
     "data": {
      "text/html": [
       "<table class=\"data-frame\"><thead><tr><th></th><th>r_id</th><th>resource</th><th>gen</th></tr><tr><th></th><th>Int64?</th><th>String?</th><th>Float64</th></tr></thead><tbody><p>25 rows × 3 columns</p><tr><th>1</th><td>1</td><td>biomass</td><td>21.4</td></tr><tr><th>2</th><td>2</td><td>hydroelectric_pumped_storage</td><td>42.0</td></tr><tr><th>3</th><td>3</td><td>natural_gas_fired_combined_cycle</td><td>607.1</td></tr><tr><th>4</th><td>4</td><td>natural_gas_fired_combined_cycle</td><td>30.0</td></tr><tr><th>5</th><td>5</td><td>natural_gas_fired_combined_cycle</td><td>49.4</td></tr><tr><th>6</th><td>6</td><td>natural_gas_fired_combined_cycle</td><td>570.0</td></tr><tr><th>7</th><td>7</td><td>natural_gas_fired_combined_cycle</td><td>336.0</td></tr><tr><th>8</th><td>8</td><td>natural_gas_fired_combined_cycle</td><td>336.0</td></tr><tr><th>9</th><td>9</td><td>natural_gas_fired_combustion_turbine</td><td>0.0</td></tr><tr><th>10</th><td>10</td><td>natural_gas_fired_combustion_turbine</td><td>49.9</td></tr><tr><th>11</th><td>11</td><td>natural_gas_fired_combustion_turbine</td><td>0.0</td></tr><tr><th>12</th><td>12</td><td>natural_gas_fired_combustion_turbine</td><td>0.0</td></tr><tr><th>13</th><td>13</td><td>natural_gas_fired_combustion_turbine</td><td>86.8545</td></tr><tr><th>14</th><td>14</td><td>natural_gas_fired_combustion_turbine</td><td>0.0</td></tr><tr><th>15</th><td>15</td><td>natural_gas_fired_combustion_turbine</td><td>0.0</td></tr><tr><th>16</th><td>16</td><td>natural_gas_fired_combustion_turbine</td><td>0.0</td></tr><tr><th>17</th><td>17</td><td>natural_gas_fired_combustion_turbine</td><td>0.0</td></tr><tr><th>18</th><td>18</td><td>natural_gas_fired_combustion_turbine</td><td>0.0</td></tr><tr><th>19</th><td>19</td><td>natural_gas_fired_combustion_turbine</td><td>0.0</td></tr><tr><th>20</th><td>20</td><td>natural_gas_fired_combustion_turbine</td><td>0.0</td></tr><tr><th>21</th><td>21</td><td>natural_gas_fired_combustion_turbine</td><td>0.0</td></tr><tr><th>22</th><td>22</td><td>natural_gas_fired_combustion_turbine</td><td>0.0</td></tr><tr><th>23</th><td>23</td><td>onshore_wind_turbine</td><td>65.4106</td></tr><tr><th>24</th><td>24</td><td>small_hydroelectric</td><td>3.18493</td></tr><tr><th>25</th><td>25</td><td>solar_photovoltaic</td><td>284.75</td></tr></tbody></table>"
      ],
      "text/latex": [
       "\\begin{tabular}{r|ccc}\n",
       "\t& r\\_id & resource & gen\\\\\n",
       "\t\\hline\n",
       "\t& Int64? & String? & Float64\\\\\n",
       "\t\\hline\n",
       "\t1 & 1 & biomass & 21.4 \\\\\n",
       "\t2 & 2 & hydroelectric\\_pumped\\_storage & 42.0 \\\\\n",
       "\t3 & 3 & natural\\_gas\\_fired\\_combined\\_cycle & 607.1 \\\\\n",
       "\t4 & 4 & natural\\_gas\\_fired\\_combined\\_cycle & 30.0 \\\\\n",
       "\t5 & 5 & natural\\_gas\\_fired\\_combined\\_cycle & 49.4 \\\\\n",
       "\t6 & 6 & natural\\_gas\\_fired\\_combined\\_cycle & 570.0 \\\\\n",
       "\t7 & 7 & natural\\_gas\\_fired\\_combined\\_cycle & 336.0 \\\\\n",
       "\t8 & 8 & natural\\_gas\\_fired\\_combined\\_cycle & 336.0 \\\\\n",
       "\t9 & 9 & natural\\_gas\\_fired\\_combustion\\_turbine & 0.0 \\\\\n",
       "\t10 & 10 & natural\\_gas\\_fired\\_combustion\\_turbine & 49.9 \\\\\n",
       "\t11 & 11 & natural\\_gas\\_fired\\_combustion\\_turbine & 0.0 \\\\\n",
       "\t12 & 12 & natural\\_gas\\_fired\\_combustion\\_turbine & 0.0 \\\\\n",
       "\t13 & 13 & natural\\_gas\\_fired\\_combustion\\_turbine & 86.8545 \\\\\n",
       "\t14 & 14 & natural\\_gas\\_fired\\_combustion\\_turbine & 0.0 \\\\\n",
       "\t15 & 15 & natural\\_gas\\_fired\\_combustion\\_turbine & 0.0 \\\\\n",
       "\t16 & 16 & natural\\_gas\\_fired\\_combustion\\_turbine & 0.0 \\\\\n",
       "\t17 & 17 & natural\\_gas\\_fired\\_combustion\\_turbine & 0.0 \\\\\n",
       "\t18 & 18 & natural\\_gas\\_fired\\_combustion\\_turbine & 0.0 \\\\\n",
       "\t19 & 19 & natural\\_gas\\_fired\\_combustion\\_turbine & 0.0 \\\\\n",
       "\t20 & 20 & natural\\_gas\\_fired\\_combustion\\_turbine & 0.0 \\\\\n",
       "\t21 & 21 & natural\\_gas\\_fired\\_combustion\\_turbine & 0.0 \\\\\n",
       "\t22 & 22 & natural\\_gas\\_fired\\_combustion\\_turbine & 0.0 \\\\\n",
       "\t23 & 23 & onshore\\_wind\\_turbine & 65.4106 \\\\\n",
       "\t24 & 24 & small\\_hydroelectric & 3.18493 \\\\\n",
       "\t25 & 25 & solar\\_photovoltaic & 284.75 \\\\\n",
       "\\end{tabular}\n"
      ],
      "text/plain": [
       "25×3 DataFrame\n",
       "│ Row │ r_id   │ resource                             │ gen     │\n",
       "│     │ \u001b[90mInt64?\u001b[39m │ \u001b[90mUnion{Missing, String}\u001b[39m               │ \u001b[90mFloat64\u001b[39m │\n",
       "├─────┼────────┼──────────────────────────────────────┼─────────┤\n",
       "│ 1   │ 1      │ biomass                              │ 21.4    │\n",
       "│ 2   │ 2      │ hydroelectric_pumped_storage         │ 42.0    │\n",
       "│ 3   │ 3      │ natural_gas_fired_combined_cycle     │ 607.1   │\n",
       "│ 4   │ 4      │ natural_gas_fired_combined_cycle     │ 30.0    │\n",
       "│ 5   │ 5      │ natural_gas_fired_combined_cycle     │ 49.4    │\n",
       "│ 6   │ 6      │ natural_gas_fired_combined_cycle     │ 570.0   │\n",
       "│ 7   │ 7      │ natural_gas_fired_combined_cycle     │ 336.0   │\n",
       "│ 8   │ 8      │ natural_gas_fired_combined_cycle     │ 336.0   │\n",
       "│ 9   │ 9      │ natural_gas_fired_combustion_turbine │ 0.0     │\n",
       "│ 10  │ 10     │ natural_gas_fired_combustion_turbine │ 49.9    │\n",
       "⋮\n",
       "│ 15  │ 15     │ natural_gas_fired_combustion_turbine │ 0.0     │\n",
       "│ 16  │ 16     │ natural_gas_fired_combustion_turbine │ 0.0     │\n",
       "│ 17  │ 17     │ natural_gas_fired_combustion_turbine │ 0.0     │\n",
       "│ 18  │ 18     │ natural_gas_fired_combustion_turbine │ 0.0     │\n",
       "│ 19  │ 19     │ natural_gas_fired_combustion_turbine │ 0.0     │\n",
       "│ 20  │ 20     │ natural_gas_fired_combustion_turbine │ 0.0     │\n",
       "│ 21  │ 21     │ natural_gas_fired_combustion_turbine │ 0.0     │\n",
       "│ 22  │ 22     │ natural_gas_fired_combustion_turbine │ 0.0     │\n",
       "│ 23  │ 23     │ onshore_wind_turbine                 │ 65.4106 │\n",
       "│ 24  │ 24     │ small_hydroelectric                  │ 3.18493 │\n",
       "│ 25  │ 25     │ solar_photovoltaic                   │ 284.75  │"
      ]
     },
     "execution_count": 8,
     "metadata": {},
     "output_type": "execute_result"
    }
   ],
   "source": [
    "solution = economic_dispatch_single(gen_df, loads_single, var_cf_single);\n",
    "solution.solution"
   ]
  },
  {
   "cell_type": "markdown",
   "metadata": {},
   "source": [
    "We will now plot the **supply curve** (also known as the **dispatch stack**) for this single period to illustrate the concept of **merit order**. First, let's create a dataframe with the variable cost as a column, and then sort on it from lowest to highest."
   ]
  },
  {
   "cell_type": "code",
   "execution_count": 9,
   "metadata": {},
   "outputs": [],
   "source": [
    "supply_curve = leftjoin(gen_df,\n",
    "                var_cf_single, \n",
    "                on = :gen_full)\n",
    "supply_curve.varcost = 0.0\n",
    "supply_curve.cap = 0.0\n",
    "\n",
    "# Store varcost of non-variable generators:\n",
    "I = supply_curve[!,:is_variable] .== 0  # `I` contains indexes to the non-variable generators\n",
    "supply_curve[I,:varcost] .= \n",
    "    supply_curve[I,:heat_rate_mmbtu_per_mwh] .* \n",
    "        supply_curve[I,:fuel_cost] .+\n",
    "    supply_curve[I,:var_om_cost_per_mwh]\n",
    "\n",
    "# Calculate available capacity for each generator\n",
    "supply_curve[I,:cap] = supply_curve[I,:existing_cap_mw]\n",
    "\n",
    "# Store varcost of variable generators (in this case, 0)\n",
    "I = (supply_curve[:,:is_variable] .== 1) # `I` contains indexes to the variable generators\n",
    "supply_curve[I,:varcost] = supply_curve[I,:var_om_cost_per_mwh]\n",
    "\n",
    "# Calculate available capacity for each generator\n",
    "# (adjusted for variable generation)\n",
    "supply_curve[I,:cap] = supply_curve[I,:existing_cap_mw] .* supply_curve[I,:cf]\n",
    "\n",
    "sort!(supply_curve, :varcost);"
   ]
  },
  {
   "cell_type": "markdown",
   "metadata": {},
   "source": [
    "Now, let's plot this as a supply curve where:\n",
    "\n",
    "- width = capacity of the generator (i.e., $Pmax$)\n",
    "- height = variable cost of the generator ($VarCost$)"
   ]
  },
  {
   "cell_type": "code",
   "execution_count": 10,
   "metadata": {
    "scrolled": false
   },
   "outputs": [
    {
     "data": {
      "text/html": [
       "    <script type=\"text/javascript\">\n",
       "        requirejs([\"https://cdn.plot.ly/plotly-1.54.2.min.js\"], function(p) {\n",
       "            window.Plotly = p\n",
       "        });\n",
       "    </script>\n"
      ]
     },
     "metadata": {},
     "output_type": "display_data"
    },
    {
     "data": {
      "application/vnd.plotly.v1+json": {
       "data": [
        {
         "fill": "tozeroy",
         "fillcolor": "rgba(142, 151, 30, 0.500)",
         "hoverinfo": "none",
         "legendgroup": "",
         "line": {
          "color": "rgba(0, 0, 0, 0.500)",
          "dash": "solid",
          "width": 1
         },
         "mode": "lines",
         "name": "",
         "showlegend": false,
         "type": "scatter",
         "x": [
          0,
          42,
          42,
          0,
          0
         ],
         "xaxis": "x1",
         "y": [
          0,
          0,
          0,
          0,
          0
         ],
         "yaxis": "y1"
        },
        {
         "fill": "tozeroy",
         "fillcolor": "rgba(0, 169, 204, 0.500)",
         "hoverinfo": "none",
         "legendgroup": "",
         "line": {
          "color": "rgba(0, 0, 0, 0.500)",
          "dash": "solid",
          "width": 1
         },
         "mode": "lines",
         "name": "",
         "showlegend": false,
         "type": "scatter",
         "x": [
          42,
          107.41055999999999,
          107.41055999999999,
          42,
          42
         ],
         "xaxis": "x1",
         "y": [
          0,
          0,
          0,
          0,
          0
         ],
         "yaxis": "y1"
        },
        {
         "fill": "tozeroy",
         "fillcolor": "rgba(155, 127, 233, 0.500)",
         "hoverinfo": "none",
         "legendgroup": "",
         "line": {
          "color": "rgba(0, 0, 0, 0.500)",
          "dash": "solid",
          "width": 1
         },
         "mode": "lines",
         "name": "",
         "showlegend": false,
         "type": "scatter",
         "x": [
          107.41055999999999,
          110.595492,
          110.595492,
          107.41055999999999,
          107.41055999999999
         ],
         "xaxis": "x1",
         "y": [
          0,
          0,
          0,
          0,
          0
         ],
         "yaxis": "y1"
        },
        {
         "fill": "tozeroy",
         "fillcolor": "rgba(97, 141, 246, 0.500)",
         "hoverinfo": "none",
         "legendgroup": "",
         "line": {
          "color": "rgba(0, 0, 0, 0.500)",
          "dash": "solid",
          "width": 1
         },
         "mode": "lines",
         "name": "",
         "showlegend": false,
         "type": "scatter",
         "x": [
          110.595492,
          395.345492,
          395.345492,
          110.595492,
          110.595492
         ],
         "xaxis": "x1",
         "y": [
          0,
          0,
          0,
          0,
          0
         ],
         "yaxis": "y1"
        },
        {
         "fill": "tozeroy",
         "fillcolor": "rgba(240, 96, 115, 0.500)",
         "hoverinfo": "none",
         "legendgroup": "",
         "line": {
          "color": "rgba(0, 0, 0, 0.500)",
          "dash": "solid",
          "width": 1
         },
         "mode": "lines",
         "name": "",
         "showlegend": false,
         "type": "scatter",
         "x": [
          395.345492,
          416.74549199999996,
          416.74549199999996,
          395.345492,
          395.345492
         ],
         "xaxis": "x1",
         "y": [
          0,
          0,
          5.234,
          5.234,
          0
         ],
         "yaxis": "y1"
        },
        {
         "fill": "tozeroy",
         "fillcolor": "rgba(221, 101, 182, 0.500)",
         "hoverinfo": "none",
         "legendgroup": "",
         "line": {
          "color": "rgba(0, 0, 0, 0.500)",
          "dash": "solid",
          "width": 1
         },
         "mode": "lines",
         "name": "",
         "showlegend": false,
         "type": "scatter",
         "x": [
          416.74549199999996,
          986.745492,
          986.745492,
          416.74549199999996,
          416.74549199999996
         ],
         "xaxis": "x1",
         "y": [
          0,
          0,
          21.775499999999997,
          21.775499999999997,
          0
         ],
         "yaxis": "y1"
        },
        {
         "fill": "tozeroy",
         "fillcolor": "rgba(108, 159, 51, 0.500)",
         "hoverinfo": "none",
         "legendgroup": "",
         "line": {
          "color": "rgba(0, 0, 0, 0.500)",
          "dash": "solid",
          "width": 1
         },
         "mode": "lines",
         "name": "",
         "showlegend": false,
         "type": "scatter",
         "x": [
          986.745492,
          1593.845492,
          1593.845492,
          986.745492,
          986.745492
         ],
         "xaxis": "x1",
         "y": [
          0,
          0,
          22.726399999999995,
          22.726399999999995,
          0
         ],
         "yaxis": "y1"
        },
        {
         "fill": "tozeroy",
         "fillcolor": "rgba(0, 154, 250, 0.500)",
         "hoverinfo": "none",
         "legendgroup": "",
         "line": {
          "color": "rgba(0, 0, 0, 0.500)",
          "dash": "solid",
          "width": 1
         },
         "mode": "lines",
         "name": "",
         "showlegend": false,
         "type": "scatter",
         "x": [
          1593.845492,
          1643.245492,
          1643.245492,
          1593.845492,
          1593.845492
         ],
         "xaxis": "x1",
         "y": [
          0,
          0,
          29.3061,
          29.3061,
          0
         ],
         "yaxis": "y1"
        },
        {
         "fill": "tozeroy",
         "fillcolor": "rgba(227, 111, 71, 0.500)",
         "hoverinfo": "none",
         "legendgroup": "",
         "line": {
          "color": "rgba(0, 0, 0, 0.500)",
          "dash": "solid",
          "width": 1
         },
         "mode": "lines",
         "name": "",
         "showlegend": false,
         "type": "scatter",
         "x": [
          1643.245492,
          1673.245492,
          1673.245492,
          1643.245492,
          1643.245492
         ],
         "xaxis": "x1",
         "y": [
          0,
          0,
          30.128500000000003,
          30.128500000000003,
          0
         ],
         "yaxis": "y1"
        },
        {
         "fill": "tozeroy",
         "fillcolor": "rgba(62, 164, 78, 0.500)",
         "hoverinfo": "none",
         "legendgroup": "",
         "line": {
          "color": "rgba(0, 0, 0, 0.500)",
          "dash": "solid",
          "width": 1
         },
         "mode": "lines",
         "name": "",
         "showlegend": false,
         "type": "scatter",
         "x": [
          1673.245492,
          2009.245492,
          2009.245492,
          1673.245492,
          1673.245492
         ],
         "xaxis": "x1",
         "y": [
          0,
          0,
          36.5771,
          36.5771,
          0
         ],
         "yaxis": "y1"
        },
        {
         "fill": "tozeroy",
         "fillcolor": "rgba(195, 113, 210, 0.500)",
         "hoverinfo": "none",
         "legendgroup": "",
         "line": {
          "color": "rgba(0, 0, 0, 0.500)",
          "dash": "solid",
          "width": 1
         },
         "mode": "lines",
         "name": "",
         "showlegend": false,
         "type": "scatter",
         "x": [
          2009.245492,
          2345.245492,
          2345.245492,
          2009.245492,
          2009.245492
         ],
         "xaxis": "x1",
         "y": [
          0,
          0,
          36.757,
          36.757,
          0
         ],
         "yaxis": "y1"
        },
        {
         "fill": "tozeroy",
         "fillcolor": "rgba(172, 142, 24, 0.500)",
         "hoverinfo": "none",
         "legendgroup": "",
         "line": {
          "color": "rgba(0, 0, 0, 0.500)",
          "dash": "solid",
          "width": 1
         },
         "mode": "lines",
         "name": "",
         "showlegend": false,
         "type": "scatter",
         "x": [
          2345.245492,
          2395.145492,
          2395.145492,
          2345.245492,
          2345.245492
         ],
         "xaxis": "x1",
         "y": [
          0,
          0,
          37.733599999999996,
          37.733599999999996,
          0
         ],
         "yaxis": "y1"
        },
        {
         "fill": "tozeroy",
         "fillcolor": "rgba(0, 170, 174, 0.500)",
         "hoverinfo": "none",
         "legendgroup": "",
         "line": {
          "color": "rgba(0, 0, 0, 0.500)",
          "dash": "solid",
          "width": 1
         },
         "mode": "lines",
         "name": "",
         "showlegend": false,
         "type": "scatter",
         "x": [
          2395.145492,
          2491.745492,
          2491.745492,
          2395.145492,
          2395.145492
         ],
         "xaxis": "x1",
         "y": [
          0,
          0,
          37.785,
          37.785,
          0
         ],
         "yaxis": "y1"
        },
        {
         "fill": "tozeroy",
         "fillcolor": "rgba(237, 94, 147, 0.500)",
         "hoverinfo": "none",
         "legendgroup": "",
         "line": {
          "color": "rgba(0, 0, 0, 0.500)",
          "dash": "solid",
          "width": 1
         },
         "mode": "lines",
         "name": "",
         "showlegend": false,
         "type": "scatter",
         "x": [
          2491.745492,
          2583.345492,
          2583.345492,
          2491.745492,
          2491.745492
         ],
         "xaxis": "x1",
         "y": [
          0,
          0,
          38.2733,
          38.2733,
          0
         ],
         "yaxis": "y1"
        },
        {
         "fill": "tozeroy",
         "fillcolor": "rgba(198, 130, 37, 0.500)",
         "hoverinfo": "none",
         "legendgroup": "",
         "line": {
          "color": "rgba(0, 0, 0, 0.500)",
          "dash": "solid",
          "width": 1
         },
         "mode": "lines",
         "name": "",
         "showlegend": false,
         "type": "scatter",
         "x": [
          2583.345492,
          2631.445492,
          2631.445492,
          2583.345492,
          2583.345492
         ],
         "xaxis": "x1",
         "y": [
          0,
          0,
          39.172799999999995,
          39.172799999999995,
          0
         ],
         "yaxis": "y1"
        },
        {
         "fill": "tozeroy",
         "fillcolor": "rgba(0, 169, 141, 0.500)",
         "hoverinfo": "none",
         "legendgroup": "",
         "line": {
          "color": "rgba(0, 0, 0, 0.500)",
          "dash": "solid",
          "width": 1
         },
         "mode": "lines",
         "name": "",
         "showlegend": false,
         "type": "scatter",
         "x": [
          2631.445492,
          2682.745492,
          2682.745492,
          2631.445492,
          2631.445492
         ],
         "xaxis": "x1",
         "y": [
          0,
          0,
          39.2756,
          39.2756,
          0
         ],
         "yaxis": "y1"
        },
        {
         "fill": "tozeroy",
         "fillcolor": "rgba(142, 151, 30, 0.500)",
         "hoverinfo": "none",
         "legendgroup": "",
         "line": {
          "color": "rgba(0, 0, 0, 0.500)",
          "dash": "solid",
          "width": 1
         },
         "mode": "lines",
         "name": "",
         "showlegend": false,
         "type": "scatter",
         "x": [
          2682.745492,
          2734.045492,
          2734.045492,
          2682.745492,
          2682.745492
         ],
         "xaxis": "x1",
         "y": [
          0,
          0,
          39.3784,
          39.3784,
          0
         ],
         "yaxis": "y1"
        },
        {
         "fill": "tozeroy",
         "fillcolor": "rgba(0, 169, 204, 0.500)",
         "hoverinfo": "none",
         "legendgroup": "",
         "line": {
          "color": "rgba(0, 0, 0, 0.500)",
          "dash": "solid",
          "width": 1
         },
         "mode": "lines",
         "name": "",
         "showlegend": false,
         "type": "scatter",
         "x": [
          2734.045492,
          2832.245492,
          2832.245492,
          2734.045492,
          2734.045492
         ],
         "xaxis": "x1",
         "y": [
          0,
          0,
          39.4555,
          39.4555,
          0
         ],
         "yaxis": "y1"
        },
        {
         "fill": "tozeroy",
         "fillcolor": "rgba(155, 127, 233, 0.500)",
         "hoverinfo": "none",
         "legendgroup": "",
         "line": {
          "color": "rgba(0, 0, 0, 0.500)",
          "dash": "solid",
          "width": 1
         },
         "mode": "lines",
         "name": "",
         "showlegend": false,
         "type": "scatter",
         "x": [
          2832.245492,
          2930.445492,
          2930.445492,
          2832.245492,
          2832.245492
         ],
         "xaxis": "x1",
         "y": [
          0,
          0,
          39.583999999999996,
          39.583999999999996,
          0
         ],
         "yaxis": "y1"
        },
        {
         "fill": "tozeroy",
         "fillcolor": "rgba(97, 141, 246, 0.500)",
         "hoverinfo": "none",
         "legendgroup": "",
         "line": {
          "color": "rgba(0, 0, 0, 0.500)",
          "dash": "solid",
          "width": 1
         },
         "mode": "lines",
         "name": "",
         "showlegend": false,
         "type": "scatter",
         "x": [
          2930.445492,
          2979.345492,
          2979.345492,
          2930.445492,
          2930.445492
         ],
         "xaxis": "x1",
         "y": [
          0,
          0,
          39.635400000000004,
          39.635400000000004,
          0
         ],
         "yaxis": "y1"
        },
        {
         "fill": "tozeroy",
         "fillcolor": "rgba(240, 96, 115, 0.500)",
         "hoverinfo": "none",
         "legendgroup": "",
         "line": {
          "color": "rgba(0, 0, 0, 0.500)",
          "dash": "solid",
          "width": 1
         },
         "mode": "lines",
         "name": "",
         "showlegend": false,
         "type": "scatter",
         "x": [
          2979.345492,
          3028.245492,
          3028.245492,
          2979.345492,
          2979.345492
         ],
         "xaxis": "x1",
         "y": [
          0,
          0,
          39.841,
          39.841,
          0
         ],
         "yaxis": "y1"
        },
        {
         "fill": "tozeroy",
         "fillcolor": "rgba(221, 101, 182, 0.500)",
         "hoverinfo": "none",
         "legendgroup": "",
         "line": {
          "color": "rgba(0, 0, 0, 0.500)",
          "dash": "solid",
          "width": 1
         },
         "mode": "lines",
         "name": "",
         "showlegend": false,
         "type": "scatter",
         "x": [
          3028.245492,
          3076.945492,
          3076.945492,
          3028.245492,
          3028.245492
         ],
         "xaxis": "x1",
         "y": [
          0,
          0,
          40.2522,
          40.2522,
          0
         ],
         "yaxis": "y1"
        },
        {
         "fill": "tozeroy",
         "fillcolor": "rgba(108, 159, 51, 0.500)",
         "hoverinfo": "none",
         "legendgroup": "",
         "line": {
          "color": "rgba(0, 0, 0, 0.500)",
          "dash": "solid",
          "width": 1
         },
         "mode": "lines",
         "name": "",
         "showlegend": false,
         "type": "scatter",
         "x": [
          3076.945492,
          3081.745492,
          3081.745492,
          3076.945492,
          3076.945492
         ],
         "xaxis": "x1",
         "y": [
          0,
          0,
          41.9741,
          41.9741,
          0
         ],
         "yaxis": "y1"
        },
        {
         "fill": "tozeroy",
         "fillcolor": "rgba(0, 154, 250, 0.500)",
         "hoverinfo": "none",
         "legendgroup": "",
         "line": {
          "color": "rgba(0, 0, 0, 0.500)",
          "dash": "solid",
          "width": 1
         },
         "mode": "lines",
         "name": "",
         "showlegend": false,
         "type": "scatter",
         "x": [
          3081.745492,
          3099.045492,
          3099.045492,
          3081.745492,
          3081.745492
         ],
         "xaxis": "x1",
         "y": [
          0,
          0,
          45.674899999999994,
          45.674899999999994,
          0
         ],
         "yaxis": "y1"
        },
        {
         "fill": "tozeroy",
         "fillcolor": "rgba(227, 111, 71, 0.500)",
         "hoverinfo": "none",
         "legendgroup": "",
         "line": {
          "color": "rgba(0, 0, 0, 0.500)",
          "dash": "solid",
          "width": 1
         },
         "mode": "lines",
         "name": "",
         "showlegend": false,
         "type": "scatter",
         "x": [
          3099.045492,
          3133.645492,
          3133.645492,
          3099.045492,
          3099.045492
         ],
         "xaxis": "x1",
         "y": [
          0,
          0,
          54.1302,
          54.1302,
          0
         ],
         "yaxis": "y1"
        },
        {
         "colorbar": {
          "title": ""
         },
         "legendgroup": "demand",
         "line": {
          "color": "rgba(0, 0, 0, 1.000)",
          "dash": "solid",
          "shape": "linear",
          "width": 5
         },
         "mode": "lines",
         "name": "demand",
         "showlegend": true,
         "type": "scatter",
         "x": [
          2482,
          2482
         ],
         "xaxis": "x1",
         "y": [
          -5739.425106,
          5793.555306
         ],
         "yaxis": "y1",
         "zmax": null,
         "zmin": null
        }
       ],
       "layout": {
        "annotations": [
         {
          "font": {
           "color": "rgba(0, 0, 0, 1.000)",
           "family": "sans-serif",
           "size": 20
          },
          "rotation": 0,
          "showarrow": false,
          "text": "Supply curve / dispatch stack",
          "x": 0.5148148148148148,
          "xanchor": "center",
          "xref": "paper",
          "y": 1,
          "yanchor": "top",
          "yref": "paper"
         }
        ],
        "height": 400,
        "legend": {
         "bgcolor": "rgba(255, 255, 255, 1.000)",
         "bordercolor": "rgba(0, 0, 0, 1.000)",
         "borderwidth": 1,
         "font": {
          "color": "rgba(0, 0, 0, 1.000)",
          "family": "sans-serif",
          "size": 11
         },
         "tracegroupgap": 0,
         "traceorder": "normal",
         "x": 1,
         "xanchor": "auto",
         "y": 1,
         "yanchor": "auto"
        },
        "margin": {
         "b": 20,
         "l": 0,
         "r": 0,
         "t": 20
        },
        "paper_bgcolor": "rgba(255, 255, 255, 1.000)",
        "plot_bgcolor": "rgba(255, 255, 255, 1.000)",
        "showlegend": true,
        "width": 600,
        "xaxis": {
         "anchor": "y1",
         "domain": [
          0.03619130941965587,
          0.9934383202099738
         ],
         "gridcolor": "rgba(0, 0, 0, 0.100)",
         "gridwidth": 0.5,
         "linecolor": "rgba(0, 0, 0, 1.000)",
         "mirror": false,
         "range": [
          -94.00936476,
          3227.6548567600003
         ],
         "showgrid": true,
         "showline": true,
         "showticklabels": true,
         "tickangle": 0,
         "tickcolor": "rgb(0, 0, 0)",
         "tickfont": {
          "color": "rgba(0, 0, 0, 1.000)",
          "family": "sans-serif",
          "size": 11
         },
         "tickmode": "array",
         "ticks": "inside",
         "ticktext": [
          "0",
          "1000",
          "2000",
          "3000"
         ],
         "tickvals": [
          0,
          1000,
          2000,
          3000
         ],
         "title": "",
         "titlefont": {
          "color": "rgba(0, 0, 0, 1.000)",
          "family": "sans-serif",
          "size": 15
         },
         "type": "-",
         "visible": true,
         "zeroline": false,
         "zerolinecolor": "rgba(0, 0, 0, 1.000)"
        },
        "yaxis": {
         "anchor": "x1",
         "domain": [
          0.03762029746281716,
          0.9415463692038496
         ],
         "gridcolor": "rgba(0, 0, 0, 0.100)",
         "gridwidth": 0.5,
         "linecolor": "rgba(0, 0, 0, 1.000)",
         "mirror": false,
         "range": [
          -1.623906,
          55.754106
         ],
         "showgrid": true,
         "showline": true,
         "showticklabels": true,
         "tickangle": 0,
         "tickcolor": "rgb(0, 0, 0)",
         "tickfont": {
          "color": "rgba(0, 0, 0, 1.000)",
          "family": "sans-serif",
          "size": 11
         },
         "tickmode": "array",
         "ticks": "inside",
         "ticktext": [
          "0",
          "10",
          "20",
          "30",
          "40",
          "50"
         ],
         "tickvals": [
          0,
          10,
          20,
          30,
          40,
          50
         ],
         "title": "",
         "titlefont": {
          "color": "rgba(0, 0, 0, 1.000)",
          "family": "sans-serif",
          "size": 15
         },
         "type": "-",
         "visible": true,
         "zeroline": false,
         "zerolinecolor": "rgba(0, 0, 0, 1.000)"
        }
       }
      },
      "text/html": [
       "<!DOCTYPE html>\n",
       "<html>\n",
       "    <head>\n",
       "        <title>Plots.jl</title>\n",
       "        <meta http-equiv=\"content-type\" content=\"text/html; charset=UTF-8\">\n",
       "        <script src=\"https://cdn.plot.ly/plotly-1.54.2.min.js\"></script>\n",
       "    </head>\n",
       "    <body>\n",
       "            <div id=\"b9a30696-d802-4a6e-96d8-0f5b9a2b754d\" style=\"width:600px;height:400px;\"></div>\n",
       "    <script>\n",
       "    PLOT = document.getElementById('b9a30696-d802-4a6e-96d8-0f5b9a2b754d');\n",
       "    Plotly.plot(PLOT, [\n",
       "    {\n",
       "        \"xaxis\": \"x1\",\n",
       "        \"fill\": \"tozeroy\",\n",
       "        \"yaxis\": \"y1\",\n",
       "        \"x\": [\n",
       "            0.0,\n",
       "            42.0,\n",
       "            42.0,\n",
       "            0.0,\n",
       "            0.0\n",
       "        ],\n",
       "        \"showlegend\": false,\n",
       "        \"mode\": \"lines\",\n",
       "        \"fillcolor\": \"rgba(142, 151, 30, 0.500)\",\n",
       "        \"name\": \"\",\n",
       "        \"legendgroup\": \"\",\n",
       "        \"line\": {\n",
       "            \"color\": \"rgba(0, 0, 0, 0.500)\",\n",
       "            \"dash\": \"solid\",\n",
       "            \"width\": 1\n",
       "        },\n",
       "        \"y\": [\n",
       "            0.0,\n",
       "            0.0,\n",
       "            0.0,\n",
       "            0.0,\n",
       "            0.0\n",
       "        ],\n",
       "        \"type\": \"scatter\",\n",
       "        \"hoverinfo\": \"none\"\n",
       "    },\n",
       "    {\n",
       "        \"xaxis\": \"x1\",\n",
       "        \"fill\": \"tozeroy\",\n",
       "        \"yaxis\": \"y1\",\n",
       "        \"x\": [\n",
       "            42.0,\n",
       "            107.41055999999999,\n",
       "            107.41055999999999,\n",
       "            42.0,\n",
       "            42.0\n",
       "        ],\n",
       "        \"showlegend\": false,\n",
       "        \"mode\": \"lines\",\n",
       "        \"fillcolor\": \"rgba(0, 169, 204, 0.500)\",\n",
       "        \"name\": \"\",\n",
       "        \"legendgroup\": \"\",\n",
       "        \"line\": {\n",
       "            \"color\": \"rgba(0, 0, 0, 0.500)\",\n",
       "            \"dash\": \"solid\",\n",
       "            \"width\": 1\n",
       "        },\n",
       "        \"y\": [\n",
       "            0.0,\n",
       "            0.0,\n",
       "            0.0,\n",
       "            0.0,\n",
       "            0.0\n",
       "        ],\n",
       "        \"type\": \"scatter\",\n",
       "        \"hoverinfo\": \"none\"\n",
       "    },\n",
       "    {\n",
       "        \"xaxis\": \"x1\",\n",
       "        \"fill\": \"tozeroy\",\n",
       "        \"yaxis\": \"y1\",\n",
       "        \"x\": [\n",
       "            107.41055999999999,\n",
       "            110.595492,\n",
       "            110.595492,\n",
       "            107.41055999999999,\n",
       "            107.41055999999999\n",
       "        ],\n",
       "        \"showlegend\": false,\n",
       "        \"mode\": \"lines\",\n",
       "        \"fillcolor\": \"rgba(155, 127, 233, 0.500)\",\n",
       "        \"name\": \"\",\n",
       "        \"legendgroup\": \"\",\n",
       "        \"line\": {\n",
       "            \"color\": \"rgba(0, 0, 0, 0.500)\",\n",
       "            \"dash\": \"solid\",\n",
       "            \"width\": 1\n",
       "        },\n",
       "        \"y\": [\n",
       "            0.0,\n",
       "            0.0,\n",
       "            0.0,\n",
       "            0.0,\n",
       "            0.0\n",
       "        ],\n",
       "        \"type\": \"scatter\",\n",
       "        \"hoverinfo\": \"none\"\n",
       "    },\n",
       "    {\n",
       "        \"xaxis\": \"x1\",\n",
       "        \"fill\": \"tozeroy\",\n",
       "        \"yaxis\": \"y1\",\n",
       "        \"x\": [\n",
       "            110.595492,\n",
       "            395.345492,\n",
       "            395.345492,\n",
       "            110.595492,\n",
       "            110.595492\n",
       "        ],\n",
       "        \"showlegend\": false,\n",
       "        \"mode\": \"lines\",\n",
       "        \"fillcolor\": \"rgba(97, 141, 246, 0.500)\",\n",
       "        \"name\": \"\",\n",
       "        \"legendgroup\": \"\",\n",
       "        \"line\": {\n",
       "            \"color\": \"rgba(0, 0, 0, 0.500)\",\n",
       "            \"dash\": \"solid\",\n",
       "            \"width\": 1\n",
       "        },\n",
       "        \"y\": [\n",
       "            0.0,\n",
       "            0.0,\n",
       "            0.0,\n",
       "            0.0,\n",
       "            0.0\n",
       "        ],\n",
       "        \"type\": \"scatter\",\n",
       "        \"hoverinfo\": \"none\"\n",
       "    },\n",
       "    {\n",
       "        \"xaxis\": \"x1\",\n",
       "        \"fill\": \"tozeroy\",\n",
       "        \"yaxis\": \"y1\",\n",
       "        \"x\": [\n",
       "            395.345492,\n",
       "            416.74549199999996,\n",
       "            416.74549199999996,\n",
       "            395.345492,\n",
       "            395.345492\n",
       "        ],\n",
       "        \"showlegend\": false,\n",
       "        \"mode\": \"lines\",\n",
       "        \"fillcolor\": \"rgba(240, 96, 115, 0.500)\",\n",
       "        \"name\": \"\",\n",
       "        \"legendgroup\": \"\",\n",
       "        \"line\": {\n",
       "            \"color\": \"rgba(0, 0, 0, 0.500)\",\n",
       "            \"dash\": \"solid\",\n",
       "            \"width\": 1\n",
       "        },\n",
       "        \"y\": [\n",
       "            0.0,\n",
       "            0.0,\n",
       "            5.234,\n",
       "            5.234,\n",
       "            0.0\n",
       "        ],\n",
       "        \"type\": \"scatter\",\n",
       "        \"hoverinfo\": \"none\"\n",
       "    },\n",
       "    {\n",
       "        \"xaxis\": \"x1\",\n",
       "        \"fill\": \"tozeroy\",\n",
       "        \"yaxis\": \"y1\",\n",
       "        \"x\": [\n",
       "            416.74549199999996,\n",
       "            986.745492,\n",
       "            986.745492,\n",
       "            416.74549199999996,\n",
       "            416.74549199999996\n",
       "        ],\n",
       "        \"showlegend\": false,\n",
       "        \"mode\": \"lines\",\n",
       "        \"fillcolor\": \"rgba(221, 101, 182, 0.500)\",\n",
       "        \"name\": \"\",\n",
       "        \"legendgroup\": \"\",\n",
       "        \"line\": {\n",
       "            \"color\": \"rgba(0, 0, 0, 0.500)\",\n",
       "            \"dash\": \"solid\",\n",
       "            \"width\": 1\n",
       "        },\n",
       "        \"y\": [\n",
       "            0.0,\n",
       "            0.0,\n",
       "            21.775499999999997,\n",
       "            21.775499999999997,\n",
       "            0.0\n",
       "        ],\n",
       "        \"type\": \"scatter\",\n",
       "        \"hoverinfo\": \"none\"\n",
       "    },\n",
       "    {\n",
       "        \"xaxis\": \"x1\",\n",
       "        \"fill\": \"tozeroy\",\n",
       "        \"yaxis\": \"y1\",\n",
       "        \"x\": [\n",
       "            986.745492,\n",
       "            1593.845492,\n",
       "            1593.845492,\n",
       "            986.745492,\n",
       "            986.745492\n",
       "        ],\n",
       "        \"showlegend\": false,\n",
       "        \"mode\": \"lines\",\n",
       "        \"fillcolor\": \"rgba(108, 159, 51, 0.500)\",\n",
       "        \"name\": \"\",\n",
       "        \"legendgroup\": \"\",\n",
       "        \"line\": {\n",
       "            \"color\": \"rgba(0, 0, 0, 0.500)\",\n",
       "            \"dash\": \"solid\",\n",
       "            \"width\": 1\n",
       "        },\n",
       "        \"y\": [\n",
       "            0.0,\n",
       "            0.0,\n",
       "            22.726399999999995,\n",
       "            22.726399999999995,\n",
       "            0.0\n",
       "        ],\n",
       "        \"type\": \"scatter\",\n",
       "        \"hoverinfo\": \"none\"\n",
       "    },\n",
       "    {\n",
       "        \"xaxis\": \"x1\",\n",
       "        \"fill\": \"tozeroy\",\n",
       "        \"yaxis\": \"y1\",\n",
       "        \"x\": [\n",
       "            1593.845492,\n",
       "            1643.245492,\n",
       "            1643.245492,\n",
       "            1593.845492,\n",
       "            1593.845492\n",
       "        ],\n",
       "        \"showlegend\": false,\n",
       "        \"mode\": \"lines\",\n",
       "        \"fillcolor\": \"rgba(0, 154, 250, 0.500)\",\n",
       "        \"name\": \"\",\n",
       "        \"legendgroup\": \"\",\n",
       "        \"line\": {\n",
       "            \"color\": \"rgba(0, 0, 0, 0.500)\",\n",
       "            \"dash\": \"solid\",\n",
       "            \"width\": 1\n",
       "        },\n",
       "        \"y\": [\n",
       "            0.0,\n",
       "            0.0,\n",
       "            29.3061,\n",
       "            29.3061,\n",
       "            0.0\n",
       "        ],\n",
       "        \"type\": \"scatter\",\n",
       "        \"hoverinfo\": \"none\"\n",
       "    },\n",
       "    {\n",
       "        \"xaxis\": \"x1\",\n",
       "        \"fill\": \"tozeroy\",\n",
       "        \"yaxis\": \"y1\",\n",
       "        \"x\": [\n",
       "            1643.245492,\n",
       "            1673.245492,\n",
       "            1673.245492,\n",
       "            1643.245492,\n",
       "            1643.245492\n",
       "        ],\n",
       "        \"showlegend\": false,\n",
       "        \"mode\": \"lines\",\n",
       "        \"fillcolor\": \"rgba(227, 111, 71, 0.500)\",\n",
       "        \"name\": \"\",\n",
       "        \"legendgroup\": \"\",\n",
       "        \"line\": {\n",
       "            \"color\": \"rgba(0, 0, 0, 0.500)\",\n",
       "            \"dash\": \"solid\",\n",
       "            \"width\": 1\n",
       "        },\n",
       "        \"y\": [\n",
       "            0.0,\n",
       "            0.0,\n",
       "            30.128500000000003,\n",
       "            30.128500000000003,\n",
       "            0.0\n",
       "        ],\n",
       "        \"type\": \"scatter\",\n",
       "        \"hoverinfo\": \"none\"\n",
       "    },\n",
       "    {\n",
       "        \"xaxis\": \"x1\",\n",
       "        \"fill\": \"tozeroy\",\n",
       "        \"yaxis\": \"y1\",\n",
       "        \"x\": [\n",
       "            1673.245492,\n",
       "            2009.245492,\n",
       "            2009.245492,\n",
       "            1673.245492,\n",
       "            1673.245492\n",
       "        ],\n",
       "        \"showlegend\": false,\n",
       "        \"mode\": \"lines\",\n",
       "        \"fillcolor\": \"rgba(62, 164, 78, 0.500)\",\n",
       "        \"name\": \"\",\n",
       "        \"legendgroup\": \"\",\n",
       "        \"line\": {\n",
       "            \"color\": \"rgba(0, 0, 0, 0.500)\",\n",
       "            \"dash\": \"solid\",\n",
       "            \"width\": 1\n",
       "        },\n",
       "        \"y\": [\n",
       "            0.0,\n",
       "            0.0,\n",
       "            36.5771,\n",
       "            36.5771,\n",
       "            0.0\n",
       "        ],\n",
       "        \"type\": \"scatter\",\n",
       "        \"hoverinfo\": \"none\"\n",
       "    },\n",
       "    {\n",
       "        \"xaxis\": \"x1\",\n",
       "        \"fill\": \"tozeroy\",\n",
       "        \"yaxis\": \"y1\",\n",
       "        \"x\": [\n",
       "            2009.245492,\n",
       "            2345.245492,\n",
       "            2345.245492,\n",
       "            2009.245492,\n",
       "            2009.245492\n",
       "        ],\n",
       "        \"showlegend\": false,\n",
       "        \"mode\": \"lines\",\n",
       "        \"fillcolor\": \"rgba(195, 113, 210, 0.500)\",\n",
       "        \"name\": \"\",\n",
       "        \"legendgroup\": \"\",\n",
       "        \"line\": {\n",
       "            \"color\": \"rgba(0, 0, 0, 0.500)\",\n",
       "            \"dash\": \"solid\",\n",
       "            \"width\": 1\n",
       "        },\n",
       "        \"y\": [\n",
       "            0.0,\n",
       "            0.0,\n",
       "            36.757,\n",
       "            36.757,\n",
       "            0.0\n",
       "        ],\n",
       "        \"type\": \"scatter\",\n",
       "        \"hoverinfo\": \"none\"\n",
       "    },\n",
       "    {\n",
       "        \"xaxis\": \"x1\",\n",
       "        \"fill\": \"tozeroy\",\n",
       "        \"yaxis\": \"y1\",\n",
       "        \"x\": [\n",
       "            2345.245492,\n",
       "            2395.145492,\n",
       "            2395.145492,\n",
       "            2345.245492,\n",
       "            2345.245492\n",
       "        ],\n",
       "        \"showlegend\": false,\n",
       "        \"mode\": \"lines\",\n",
       "        \"fillcolor\": \"rgba(172, 142, 24, 0.500)\",\n",
       "        \"name\": \"\",\n",
       "        \"legendgroup\": \"\",\n",
       "        \"line\": {\n",
       "            \"color\": \"rgba(0, 0, 0, 0.500)\",\n",
       "            \"dash\": \"solid\",\n",
       "            \"width\": 1\n",
       "        },\n",
       "        \"y\": [\n",
       "            0.0,\n",
       "            0.0,\n",
       "            37.733599999999996,\n",
       "            37.733599999999996,\n",
       "            0.0\n",
       "        ],\n",
       "        \"type\": \"scatter\",\n",
       "        \"hoverinfo\": \"none\"\n",
       "    },\n",
       "    {\n",
       "        \"xaxis\": \"x1\",\n",
       "        \"fill\": \"tozeroy\",\n",
       "        \"yaxis\": \"y1\",\n",
       "        \"x\": [\n",
       "            2395.145492,\n",
       "            2491.745492,\n",
       "            2491.745492,\n",
       "            2395.145492,\n",
       "            2395.145492\n",
       "        ],\n",
       "        \"showlegend\": false,\n",
       "        \"mode\": \"lines\",\n",
       "        \"fillcolor\": \"rgba(0, 170, 174, 0.500)\",\n",
       "        \"name\": \"\",\n",
       "        \"legendgroup\": \"\",\n",
       "        \"line\": {\n",
       "            \"color\": \"rgba(0, 0, 0, 0.500)\",\n",
       "            \"dash\": \"solid\",\n",
       "            \"width\": 1\n",
       "        },\n",
       "        \"y\": [\n",
       "            0.0,\n",
       "            0.0,\n",
       "            37.785,\n",
       "            37.785,\n",
       "            0.0\n",
       "        ],\n",
       "        \"type\": \"scatter\",\n",
       "        \"hoverinfo\": \"none\"\n",
       "    },\n",
       "    {\n",
       "        \"xaxis\": \"x1\",\n",
       "        \"fill\": \"tozeroy\",\n",
       "        \"yaxis\": \"y1\",\n",
       "        \"x\": [\n",
       "            2491.745492,\n",
       "            2583.345492,\n",
       "            2583.345492,\n",
       "            2491.745492,\n",
       "            2491.745492\n",
       "        ],\n",
       "        \"showlegend\": false,\n",
       "        \"mode\": \"lines\",\n",
       "        \"fillcolor\": \"rgba(237, 94, 147, 0.500)\",\n",
       "        \"name\": \"\",\n",
       "        \"legendgroup\": \"\",\n",
       "        \"line\": {\n",
       "            \"color\": \"rgba(0, 0, 0, 0.500)\",\n",
       "            \"dash\": \"solid\",\n",
       "            \"width\": 1\n",
       "        },\n",
       "        \"y\": [\n",
       "            0.0,\n",
       "            0.0,\n",
       "            38.2733,\n",
       "            38.2733,\n",
       "            0.0\n",
       "        ],\n",
       "        \"type\": \"scatter\",\n",
       "        \"hoverinfo\": \"none\"\n",
       "    },\n",
       "    {\n",
       "        \"xaxis\": \"x1\",\n",
       "        \"fill\": \"tozeroy\",\n",
       "        \"yaxis\": \"y1\",\n",
       "        \"x\": [\n",
       "            2583.345492,\n",
       "            2631.445492,\n",
       "            2631.445492,\n",
       "            2583.345492,\n",
       "            2583.345492\n",
       "        ],\n",
       "        \"showlegend\": false,\n",
       "        \"mode\": \"lines\",\n",
       "        \"fillcolor\": \"rgba(198, 130, 37, 0.500)\",\n",
       "        \"name\": \"\",\n",
       "        \"legendgroup\": \"\",\n",
       "        \"line\": {\n",
       "            \"color\": \"rgba(0, 0, 0, 0.500)\",\n",
       "            \"dash\": \"solid\",\n",
       "            \"width\": 1\n",
       "        },\n",
       "        \"y\": [\n",
       "            0.0,\n",
       "            0.0,\n",
       "            39.172799999999995,\n",
       "            39.172799999999995,\n",
       "            0.0\n",
       "        ],\n",
       "        \"type\": \"scatter\",\n",
       "        \"hoverinfo\": \"none\"\n",
       "    },\n",
       "    {\n",
       "        \"xaxis\": \"x1\",\n",
       "        \"fill\": \"tozeroy\",\n",
       "        \"yaxis\": \"y1\",\n",
       "        \"x\": [\n",
       "            2631.445492,\n",
       "            2682.745492,\n",
       "            2682.745492,\n",
       "            2631.445492,\n",
       "            2631.445492\n",
       "        ],\n",
       "        \"showlegend\": false,\n",
       "        \"mode\": \"lines\",\n",
       "        \"fillcolor\": \"rgba(0, 169, 141, 0.500)\",\n",
       "        \"name\": \"\",\n",
       "        \"legendgroup\": \"\",\n",
       "        \"line\": {\n",
       "            \"color\": \"rgba(0, 0, 0, 0.500)\",\n",
       "            \"dash\": \"solid\",\n",
       "            \"width\": 1\n",
       "        },\n",
       "        \"y\": [\n",
       "            0.0,\n",
       "            0.0,\n",
       "            39.2756,\n",
       "            39.2756,\n",
       "            0.0\n",
       "        ],\n",
       "        \"type\": \"scatter\",\n",
       "        \"hoverinfo\": \"none\"\n",
       "    },\n",
       "    {\n",
       "        \"xaxis\": \"x1\",\n",
       "        \"fill\": \"tozeroy\",\n",
       "        \"yaxis\": \"y1\",\n",
       "        \"x\": [\n",
       "            2682.745492,\n",
       "            2734.045492,\n",
       "            2734.045492,\n",
       "            2682.745492,\n",
       "            2682.745492\n",
       "        ],\n",
       "        \"showlegend\": false,\n",
       "        \"mode\": \"lines\",\n",
       "        \"fillcolor\": \"rgba(142, 151, 30, 0.500)\",\n",
       "        \"name\": \"\",\n",
       "        \"legendgroup\": \"\",\n",
       "        \"line\": {\n",
       "            \"color\": \"rgba(0, 0, 0, 0.500)\",\n",
       "            \"dash\": \"solid\",\n",
       "            \"width\": 1\n",
       "        },\n",
       "        \"y\": [\n",
       "            0.0,\n",
       "            0.0,\n",
       "            39.3784,\n",
       "            39.3784,\n",
       "            0.0\n",
       "        ],\n",
       "        \"type\": \"scatter\",\n",
       "        \"hoverinfo\": \"none\"\n",
       "    },\n",
       "    {\n",
       "        \"xaxis\": \"x1\",\n",
       "        \"fill\": \"tozeroy\",\n",
       "        \"yaxis\": \"y1\",\n",
       "        \"x\": [\n",
       "            2734.045492,\n",
       "            2832.245492,\n",
       "            2832.245492,\n",
       "            2734.045492,\n",
       "            2734.045492\n",
       "        ],\n",
       "        \"showlegend\": false,\n",
       "        \"mode\": \"lines\",\n",
       "        \"fillcolor\": \"rgba(0, 169, 204, 0.500)\",\n",
       "        \"name\": \"\",\n",
       "        \"legendgroup\": \"\",\n",
       "        \"line\": {\n",
       "            \"color\": \"rgba(0, 0, 0, 0.500)\",\n",
       "            \"dash\": \"solid\",\n",
       "            \"width\": 1\n",
       "        },\n",
       "        \"y\": [\n",
       "            0.0,\n",
       "            0.0,\n",
       "            39.4555,\n",
       "            39.4555,\n",
       "            0.0\n",
       "        ],\n",
       "        \"type\": \"scatter\",\n",
       "        \"hoverinfo\": \"none\"\n",
       "    },\n",
       "    {\n",
       "        \"xaxis\": \"x1\",\n",
       "        \"fill\": \"tozeroy\",\n",
       "        \"yaxis\": \"y1\",\n",
       "        \"x\": [\n",
       "            2832.245492,\n",
       "            2930.445492,\n",
       "            2930.445492,\n",
       "            2832.245492,\n",
       "            2832.245492\n",
       "        ],\n",
       "        \"showlegend\": false,\n",
       "        \"mode\": \"lines\",\n",
       "        \"fillcolor\": \"rgba(155, 127, 233, 0.500)\",\n",
       "        \"name\": \"\",\n",
       "        \"legendgroup\": \"\",\n",
       "        \"line\": {\n",
       "            \"color\": \"rgba(0, 0, 0, 0.500)\",\n",
       "            \"dash\": \"solid\",\n",
       "            \"width\": 1\n",
       "        },\n",
       "        \"y\": [\n",
       "            0.0,\n",
       "            0.0,\n",
       "            39.583999999999996,\n",
       "            39.583999999999996,\n",
       "            0.0\n",
       "        ],\n",
       "        \"type\": \"scatter\",\n",
       "        \"hoverinfo\": \"none\"\n",
       "    },\n",
       "    {\n",
       "        \"xaxis\": \"x1\",\n",
       "        \"fill\": \"tozeroy\",\n",
       "        \"yaxis\": \"y1\",\n",
       "        \"x\": [\n",
       "            2930.445492,\n",
       "            2979.345492,\n",
       "            2979.345492,\n",
       "            2930.445492,\n",
       "            2930.445492\n",
       "        ],\n",
       "        \"showlegend\": false,\n",
       "        \"mode\": \"lines\",\n",
       "        \"fillcolor\": \"rgba(97, 141, 246, 0.500)\",\n",
       "        \"name\": \"\",\n",
       "        \"legendgroup\": \"\",\n",
       "        \"line\": {\n",
       "            \"color\": \"rgba(0, 0, 0, 0.500)\",\n",
       "            \"dash\": \"solid\",\n",
       "            \"width\": 1\n",
       "        },\n",
       "        \"y\": [\n",
       "            0.0,\n",
       "            0.0,\n",
       "            39.635400000000004,\n",
       "            39.635400000000004,\n",
       "            0.0\n",
       "        ],\n",
       "        \"type\": \"scatter\",\n",
       "        \"hoverinfo\": \"none\"\n",
       "    },\n",
       "    {\n",
       "        \"xaxis\": \"x1\",\n",
       "        \"fill\": \"tozeroy\",\n",
       "        \"yaxis\": \"y1\",\n",
       "        \"x\": [\n",
       "            2979.345492,\n",
       "            3028.245492,\n",
       "            3028.245492,\n",
       "            2979.345492,\n",
       "            2979.345492\n",
       "        ],\n",
       "        \"showlegend\": false,\n",
       "        \"mode\": \"lines\",\n",
       "        \"fillcolor\": \"rgba(240, 96, 115, 0.500)\",\n",
       "        \"name\": \"\",\n",
       "        \"legendgroup\": \"\",\n",
       "        \"line\": {\n",
       "            \"color\": \"rgba(0, 0, 0, 0.500)\",\n",
       "            \"dash\": \"solid\",\n",
       "            \"width\": 1\n",
       "        },\n",
       "        \"y\": [\n",
       "            0.0,\n",
       "            0.0,\n",
       "            39.841,\n",
       "            39.841,\n",
       "            0.0\n",
       "        ],\n",
       "        \"type\": \"scatter\",\n",
       "        \"hoverinfo\": \"none\"\n",
       "    },\n",
       "    {\n",
       "        \"xaxis\": \"x1\",\n",
       "        \"fill\": \"tozeroy\",\n",
       "        \"yaxis\": \"y1\",\n",
       "        \"x\": [\n",
       "            3028.245492,\n",
       "            3076.945492,\n",
       "            3076.945492,\n",
       "            3028.245492,\n",
       "            3028.245492\n",
       "        ],\n",
       "        \"showlegend\": false,\n",
       "        \"mode\": \"lines\",\n",
       "        \"fillcolor\": \"rgba(221, 101, 182, 0.500)\",\n",
       "        \"name\": \"\",\n",
       "        \"legendgroup\": \"\",\n",
       "        \"line\": {\n",
       "            \"color\": \"rgba(0, 0, 0, 0.500)\",\n",
       "            \"dash\": \"solid\",\n",
       "            \"width\": 1\n",
       "        },\n",
       "        \"y\": [\n",
       "            0.0,\n",
       "            0.0,\n",
       "            40.2522,\n",
       "            40.2522,\n",
       "            0.0\n",
       "        ],\n",
       "        \"type\": \"scatter\",\n",
       "        \"hoverinfo\": \"none\"\n",
       "    },\n",
       "    {\n",
       "        \"xaxis\": \"x1\",\n",
       "        \"fill\": \"tozeroy\",\n",
       "        \"yaxis\": \"y1\",\n",
       "        \"x\": [\n",
       "            3076.945492,\n",
       "            3081.745492,\n",
       "            3081.745492,\n",
       "            3076.945492,\n",
       "            3076.945492\n",
       "        ],\n",
       "        \"showlegend\": false,\n",
       "        \"mode\": \"lines\",\n",
       "        \"fillcolor\": \"rgba(108, 159, 51, 0.500)\",\n",
       "        \"name\": \"\",\n",
       "        \"legendgroup\": \"\",\n",
       "        \"line\": {\n",
       "            \"color\": \"rgba(0, 0, 0, 0.500)\",\n",
       "            \"dash\": \"solid\",\n",
       "            \"width\": 1\n",
       "        },\n",
       "        \"y\": [\n",
       "            0.0,\n",
       "            0.0,\n",
       "            41.9741,\n",
       "            41.9741,\n",
       "            0.0\n",
       "        ],\n",
       "        \"type\": \"scatter\",\n",
       "        \"hoverinfo\": \"none\"\n",
       "    },\n",
       "    {\n",
       "        \"xaxis\": \"x1\",\n",
       "        \"fill\": \"tozeroy\",\n",
       "        \"yaxis\": \"y1\",\n",
       "        \"x\": [\n",
       "            3081.745492,\n",
       "            3099.045492,\n",
       "            3099.045492,\n",
       "            3081.745492,\n",
       "            3081.745492\n",
       "        ],\n",
       "        \"showlegend\": false,\n",
       "        \"mode\": \"lines\",\n",
       "        \"fillcolor\": \"rgba(0, 154, 250, 0.500)\",\n",
       "        \"name\": \"\",\n",
       "        \"legendgroup\": \"\",\n",
       "        \"line\": {\n",
       "            \"color\": \"rgba(0, 0, 0, 0.500)\",\n",
       "            \"dash\": \"solid\",\n",
       "            \"width\": 1\n",
       "        },\n",
       "        \"y\": [\n",
       "            0.0,\n",
       "            0.0,\n",
       "            45.674899999999994,\n",
       "            45.674899999999994,\n",
       "            0.0\n",
       "        ],\n",
       "        \"type\": \"scatter\",\n",
       "        \"hoverinfo\": \"none\"\n",
       "    },\n",
       "    {\n",
       "        \"xaxis\": \"x1\",\n",
       "        \"fill\": \"tozeroy\",\n",
       "        \"yaxis\": \"y1\",\n",
       "        \"x\": [\n",
       "            3099.045492,\n",
       "            3133.645492,\n",
       "            3133.645492,\n",
       "            3099.045492,\n",
       "            3099.045492\n",
       "        ],\n",
       "        \"showlegend\": false,\n",
       "        \"mode\": \"lines\",\n",
       "        \"fillcolor\": \"rgba(227, 111, 71, 0.500)\",\n",
       "        \"name\": \"\",\n",
       "        \"legendgroup\": \"\",\n",
       "        \"line\": {\n",
       "            \"color\": \"rgba(0, 0, 0, 0.500)\",\n",
       "            \"dash\": \"solid\",\n",
       "            \"width\": 1\n",
       "        },\n",
       "        \"y\": [\n",
       "            0.0,\n",
       "            0.0,\n",
       "            54.1302,\n",
       "            54.1302,\n",
       "            0.0\n",
       "        ],\n",
       "        \"type\": \"scatter\",\n",
       "        \"hoverinfo\": \"none\"\n",
       "    },\n",
       "    {\n",
       "        \"xaxis\": \"x1\",\n",
       "        \"colorbar\": {\n",
       "            \"title\": \"\"\n",
       "        },\n",
       "        \"yaxis\": \"y1\",\n",
       "        \"x\": [\n",
       "            2482.0,\n",
       "            2482.0\n",
       "        ],\n",
       "        \"showlegend\": true,\n",
       "        \"mode\": \"lines\",\n",
       "        \"name\": \"demand\",\n",
       "        \"zmin\": null,\n",
       "        \"legendgroup\": \"demand\",\n",
       "        \"zmax\": null,\n",
       "        \"line\": {\n",
       "            \"color\": \"rgba(0, 0, 0, 1.000)\",\n",
       "            \"shape\": \"linear\",\n",
       "            \"dash\": \"solid\",\n",
       "            \"width\": 5\n",
       "        },\n",
       "        \"y\": [\n",
       "            -5739.425106,\n",
       "            5793.555306\n",
       "        ],\n",
       "        \"type\": \"scatter\"\n",
       "    }\n",
       "]\n",
       ", {\n",
       "    \"showlegend\": true,\n",
       "    \"xaxis\": {\n",
       "        \"showticklabels\": true,\n",
       "        \"gridwidth\": 0.5,\n",
       "        \"tickvals\": [\n",
       "            0.0,\n",
       "            1000.0,\n",
       "            2000.0,\n",
       "            3000.0\n",
       "        ],\n",
       "        \"visible\": true,\n",
       "        \"ticks\": \"inside\",\n",
       "        \"range\": [\n",
       "            -94.00936476,\n",
       "            3227.6548567600003\n",
       "        ],\n",
       "        \"domain\": [\n",
       "            0.03619130941965587,\n",
       "            0.9934383202099738\n",
       "        ],\n",
       "        \"tickmode\": \"array\",\n",
       "        \"linecolor\": \"rgba(0, 0, 0, 1.000)\",\n",
       "        \"showgrid\": true,\n",
       "        \"title\": \"\",\n",
       "        \"mirror\": false,\n",
       "        \"tickangle\": 0,\n",
       "        \"showline\": true,\n",
       "        \"gridcolor\": \"rgba(0, 0, 0, 0.100)\",\n",
       "        \"titlefont\": {\n",
       "            \"color\": \"rgba(0, 0, 0, 1.000)\",\n",
       "            \"family\": \"sans-serif\",\n",
       "            \"size\": 15\n",
       "        },\n",
       "        \"tickcolor\": \"rgb(0, 0, 0)\",\n",
       "        \"ticktext\": [\n",
       "            \"0\",\n",
       "            \"1000\",\n",
       "            \"2000\",\n",
       "            \"3000\"\n",
       "        ],\n",
       "        \"zeroline\": false,\n",
       "        \"type\": \"-\",\n",
       "        \"tickfont\": {\n",
       "            \"color\": \"rgba(0, 0, 0, 1.000)\",\n",
       "            \"family\": \"sans-serif\",\n",
       "            \"size\": 11\n",
       "        },\n",
       "        \"zerolinecolor\": \"rgba(0, 0, 0, 1.000)\",\n",
       "        \"anchor\": \"y1\"\n",
       "    },\n",
       "    \"paper_bgcolor\": \"rgba(255, 255, 255, 1.000)\",\n",
       "    \"annotations\": [\n",
       "        {\n",
       "            \"yanchor\": \"top\",\n",
       "            \"xanchor\": \"center\",\n",
       "            \"rotation\": -0.0,\n",
       "            \"y\": 1.0,\n",
       "            \"font\": {\n",
       "                \"color\": \"rgba(0, 0, 0, 1.000)\",\n",
       "                \"family\": \"sans-serif\",\n",
       "                \"size\": 20\n",
       "            },\n",
       "            \"yref\": \"paper\",\n",
       "            \"showarrow\": false,\n",
       "            \"text\": \"Supply curve / dispatch stack\",\n",
       "            \"xref\": \"paper\",\n",
       "            \"x\": 0.5148148148148148\n",
       "        }\n",
       "    ],\n",
       "    \"height\": 400,\n",
       "    \"margin\": {\n",
       "        \"l\": 0,\n",
       "        \"b\": 20,\n",
       "        \"r\": 0,\n",
       "        \"t\": 20\n",
       "    },\n",
       "    \"plot_bgcolor\": \"rgba(255, 255, 255, 1.000)\",\n",
       "    \"yaxis\": {\n",
       "        \"showticklabels\": true,\n",
       "        \"gridwidth\": 0.5,\n",
       "        \"tickvals\": [\n",
       "            0.0,\n",
       "            10.0,\n",
       "            20.0,\n",
       "            30.0,\n",
       "            40.0,\n",
       "            50.0\n",
       "        ],\n",
       "        \"visible\": true,\n",
       "        \"ticks\": \"inside\",\n",
       "        \"range\": [\n",
       "            -1.623906,\n",
       "            55.754106\n",
       "        ],\n",
       "        \"domain\": [\n",
       "            0.03762029746281716,\n",
       "            0.9415463692038496\n",
       "        ],\n",
       "        \"tickmode\": \"array\",\n",
       "        \"linecolor\": \"rgba(0, 0, 0, 1.000)\",\n",
       "        \"showgrid\": true,\n",
       "        \"title\": \"\",\n",
       "        \"mirror\": false,\n",
       "        \"tickangle\": 0,\n",
       "        \"showline\": true,\n",
       "        \"gridcolor\": \"rgba(0, 0, 0, 0.100)\",\n",
       "        \"titlefont\": {\n",
       "            \"color\": \"rgba(0, 0, 0, 1.000)\",\n",
       "            \"family\": \"sans-serif\",\n",
       "            \"size\": 15\n",
       "        },\n",
       "        \"tickcolor\": \"rgb(0, 0, 0)\",\n",
       "        \"ticktext\": [\n",
       "            \"0\",\n",
       "            \"10\",\n",
       "            \"20\",\n",
       "            \"30\",\n",
       "            \"40\",\n",
       "            \"50\"\n",
       "        ],\n",
       "        \"zeroline\": false,\n",
       "        \"type\": \"-\",\n",
       "        \"tickfont\": {\n",
       "            \"color\": \"rgba(0, 0, 0, 1.000)\",\n",
       "            \"family\": \"sans-serif\",\n",
       "            \"size\": 11\n",
       "        },\n",
       "        \"zerolinecolor\": \"rgba(0, 0, 0, 1.000)\",\n",
       "        \"anchor\": \"x1\"\n",
       "    },\n",
       "    \"legend\": {\n",
       "        \"yanchor\": \"auto\",\n",
       "        \"xanchor\": \"auto\",\n",
       "        \"bordercolor\": \"rgba(0, 0, 0, 1.000)\",\n",
       "        \"bgcolor\": \"rgba(255, 255, 255, 1.000)\",\n",
       "        \"font\": {\n",
       "            \"color\": \"rgba(0, 0, 0, 1.000)\",\n",
       "            \"family\": \"sans-serif\",\n",
       "            \"size\": 11\n",
       "        },\n",
       "        \"tracegroupgap\": 0,\n",
       "        \"y\": 1.0,\n",
       "        \"borderwidth\": 1,\n",
       "        \"traceorder\": \"normal\",\n",
       "        \"x\": 1.0\n",
       "    },\n",
       "    \"width\": 600\n",
       "}\n",
       ");\n",
       "    </script>\n",
       "\n",
       "    </body>\n",
       "</html>\n"
      ]
     },
     "execution_count": 10,
     "metadata": {},
     "output_type": "execute_result"
    }
   ],
   "source": [
    "rectangle(w, h, x, y) = Shape(x .+ [0,w,w,0], y .+ [0,0,h,h])\n",
    "\n",
    "p = plot(nrow(supply_curve))\n",
    "\n",
    "marg_gen = 0\n",
    "x = 0\n",
    "for i in 1:nrow(supply_curve)\n",
    "    plot!(p, rectangle(supply_curve[i,:cap],\n",
    "            supply_curve[i,:varcost],x,0), opacity=.5, \n",
    "            label = \"\")\n",
    "    if (x < loads_single[1,:demand]) && (x + supply_curve[i,:cap] > loads_single[1,:demand])\n",
    "        marg_gen = i\n",
    "    end\n",
    "    x = x + supply_curve[i,:cap]\n",
    "end \n",
    "vline!([loads_single[1,:demand]],linecolor=\"black\",linewidth=5,\n",
    "label = \"demand\")\n",
    "title!(\"Supply curve / dispatch stack\")\n",
    "p"
   ]
  },
  {
   "cell_type": "markdown",
   "metadata": {},
   "source": [
    "In the above, everything to the left of demand is dispatched at full capacity, except for the last generator (the \"marginal generator\") where demand stops. Everything to the right is not dispatched (=0). We stored the marginal generator in `marg_gen`:"
   ]
  },
  {
   "cell_type": "code",
   "execution_count": 11,
   "metadata": {},
   "outputs": [
    {
     "data": {
      "text/html": [
       "<p>DataFrameRow (34 columns)</p><table class=\"data-frame\"><thead><tr><th></th><th>r_id</th><th>resource</th><th>region</th><th>existing_cap_mw</th><th>num_units</th><th>cap_size</th><th>var_om_cost_per_mwh</th><th>var_om_cost_per_mwh_in</th></tr><tr><th></th><th>Int64?</th><th>String?</th><th>String?</th><th>Float64?</th><th>Int64?</th><th>Float64?</th><th>Float64?</th><th>Int64?</th></tr></thead><tbody><tr><th>13</th><td>13</td><td>natural_gas_fired_combustion_turbine</td><td>WEC_SDGE</td><td>96.6</td><td>3</td><td>32.2</td><td>10.8</td><td>0</td></tr></tbody></table>"
      ],
      "text/latex": [
       "\\begin{tabular}{r|ccccccccc}\n",
       "\t& r\\_id & resource & region & existing\\_cap\\_mw & num\\_units & cap\\_size & var\\_om\\_cost\\_per\\_mwh & var\\_om\\_cost\\_per\\_mwh\\_in & \\\\\n",
       "\t\\hline\n",
       "\t& Int64? & String? & String? & Float64? & Int64? & Float64? & Float64? & Int64? & \\\\\n",
       "\t\\hline\n",
       "\t13 & 13 & natural\\_gas\\_fired\\_combustion\\_turbine & WEC\\_SDGE & 96.6 & 3 & 32.2 & 10.8 & 0 & $\\dots$ \\\\\n",
       "\\end{tabular}\n"
      ],
      "text/plain": [
       "DataFrameRow. Omitted printing of 28 columns\n",
       "│ Row │ r_id   │ resource                             │ region   │ existing_cap_mw │ num_units │ cap_size │\n",
       "│     │ \u001b[90mInt64?\u001b[39m │ \u001b[90mUnion{Missing, String}\u001b[39m               │ \u001b[90mString?\u001b[39m  │ \u001b[90mFloat64?\u001b[39m        │ \u001b[90mInt64?\u001b[39m    │ \u001b[90mFloat64?\u001b[39m │\n",
       "├─────┼────────┼──────────────────────────────────────┼──────────┼─────────────────┼───────────┼──────────┤\n",
       "│ 13  │ 13     │ natural_gas_fired_combustion_turbine │ WEC_SDGE │ 96.6            │ 3         │ 32.2     │"
      ]
     },
     "execution_count": 11,
     "metadata": {},
     "output_type": "execute_result"
    }
   ],
   "source": [
    "supply_curve[marg_gen,:]"
   ]
  },
  {
   "cell_type": "markdown",
   "metadata": {},
   "source": [
    "Which is generating $GEN_{marg\\_gen}=$"
   ]
  },
  {
   "cell_type": "code",
   "execution_count": 12,
   "metadata": {},
   "outputs": [
    {
     "data": {
      "text/plain": [
       "86.85450800000007"
      ]
     },
     "execution_count": 12,
     "metadata": {},
     "output_type": "execute_result"
    }
   ],
   "source": [
    "solution.solution[solution.solution.r_id .== supply_curve[marg_gen,:r_id],\n",
    "    :gen][1]"
   ]
  },
  {
   "cell_type": "markdown",
   "metadata": {},
   "source": [
    "**Combine by generation type**\n",
    "\n",
    "We are often interested in the total generation *by type*, not individual generators. We use `combine` and `groupby` methods to sum over resource:"
   ]
  },
  {
   "cell_type": "code",
   "execution_count": 13,
   "metadata": {},
   "outputs": [
    {
     "name": "stdout",
     "output_type": "stream",
     "text": [
      "┌\u001b[0m──────────────────────────────────────\u001b[0m┬\u001b[0m──────────\u001b[0m┐\u001b[0m\n",
      "│\u001b[0m\u001b[1m                             resource \u001b[0m│\u001b[0m\u001b[1m  gen_sum \u001b[0m│\u001b[0m\n",
      "│\u001b[0m\u001b[90m               Union{Missing, String} \u001b[0m│\u001b[0m\u001b[90m  Float64 \u001b[0m│\u001b[0m\n",
      "├\u001b[0m──────────────────────────────────────\u001b[0m┼\u001b[0m──────────\u001b[0m┤\u001b[0m\n",
      "│\u001b[0m                              biomass \u001b[0m│\u001b[0m   21.400 \u001b[0m│\u001b[0m\n",
      "│\u001b[0m         hydroelectric_pumped_storage \u001b[0m│\u001b[0m   42.000 \u001b[0m│\u001b[0m\n",
      "│\u001b[0m     natural_gas_fired_combined_cycle \u001b[0m│\u001b[0m 1928.500 \u001b[0m│\u001b[0m\n",
      "│\u001b[0m natural_gas_fired_combustion_turbine \u001b[0m│\u001b[0m  136.755 \u001b[0m│\u001b[0m\n",
      "│\u001b[0m                 onshore_wind_turbine \u001b[0m│\u001b[0m   65.411 \u001b[0m│\u001b[0m\n",
      "│\u001b[0m                  small_hydroelectric \u001b[0m│\u001b[0m    3.185 \u001b[0m│\u001b[0m\n",
      "│\u001b[0m                   solar_photovoltaic \u001b[0m│\u001b[0m  284.750 \u001b[0m│\u001b[0m\n",
      "└\u001b[0m──────────────────────────────────────\u001b[0m┴\u001b[0m──────────\u001b[0m┘\u001b[0m\n"
     ]
    }
   ],
   "source": [
    "sol_gen = combine(groupby(solution.solution, :resource), \n",
    "            :gen => sum)\n",
    "# We use the PrettyTable package here to round numbers when displaying\n",
    "pretty_table(sol_gen, formatters = ft_printf(\"%5.3f\")) "
   ]
  },
  {
   "cell_type": "markdown",
   "metadata": {},
   "source": [
    "Finally, let's add back the 600MW of behind-the-meter solar to get a full picture of all the electricity on the grid."
   ]
  },
  {
   "cell_type": "code",
   "execution_count": 14,
   "metadata": {},
   "outputs": [
    {
     "name": "stdout",
     "output_type": "stream",
     "text": [
      "┌\u001b[0m──────────────────────────────────────\u001b[0m┬\u001b[0m──────────\u001b[0m┐\u001b[0m\n",
      "│\u001b[0m\u001b[1m                             resource \u001b[0m│\u001b[0m\u001b[1m  gen_sum \u001b[0m│\u001b[0m\n",
      "│\u001b[0m\u001b[90m               Union{Missing, String} \u001b[0m│\u001b[0m\u001b[90m  Float64 \u001b[0m│\u001b[0m\n",
      "├\u001b[0m──────────────────────────────────────\u001b[0m┼\u001b[0m──────────\u001b[0m┤\u001b[0m\n",
      "│\u001b[0m                              biomass \u001b[0m│\u001b[0m   21.400 \u001b[0m│\u001b[0m\n",
      "│\u001b[0m         hydroelectric_pumped_storage \u001b[0m│\u001b[0m   42.000 \u001b[0m│\u001b[0m\n",
      "│\u001b[0m     natural_gas_fired_combined_cycle \u001b[0m│\u001b[0m 1928.500 \u001b[0m│\u001b[0m\n",
      "│\u001b[0m natural_gas_fired_combustion_turbine \u001b[0m│\u001b[0m  136.755 \u001b[0m│\u001b[0m\n",
      "│\u001b[0m                 onshore_wind_turbine \u001b[0m│\u001b[0m   65.411 \u001b[0m│\u001b[0m\n",
      "│\u001b[0m                  small_hydroelectric \u001b[0m│\u001b[0m    3.185 \u001b[0m│\u001b[0m\n",
      "│\u001b[0m                   solar_photovoltaic \u001b[0m│\u001b[0m  284.750 \u001b[0m│\u001b[0m\n",
      "│\u001b[0m               solar_photovoltaic_btm \u001b[0m│\u001b[0m  341.700 \u001b[0m│\u001b[0m\n",
      "└\u001b[0m──────────────────────────────────────\u001b[0m┴\u001b[0m──────────\u001b[0m┘\u001b[0m\n"
     ]
    }
   ],
   "source": [
    "# we use the copy function to create a copy of the dataframe (as opposed to working with the original)\n",
    "sol_gen_btm = copy(sol_gen)\n",
    "\n",
    "# We'll use the same variability profile for BTM solar as the utility-scale solar here (in reality, they would probably differ)\n",
    "btm = DataFrame(resource = [\"solar_photovoltaic_btm\"], gen_sum = var_cf_single[var_cf_single.gen_full .== \"wec_sdge_solar_photovoltaic_1.0\",:cf] * 600)\n",
    "append!(sol_gen_btm, btm)\n",
    "pretty_table(sol_gen_btm, formatters = ft_printf(\"%5.3f\")) # We use the PrettyTable package to round numbers when displaying"
   ]
  },
  {
   "cell_type": "markdown",
   "metadata": {},
   "source": [
    "Hence, the majority of energy is being met by combined cycle natural gas turbines (CCGT), second by solar PV, and third by behind-the-meter solar."
   ]
  },
  {
   "cell_type": "markdown",
   "metadata": {},
   "source": [
    "## Multiple-time period, simple generator constraints\n",
    "\n",
    "We neglected the time dimension above and now we will add it back in. The key changes to the model arise from adding an additional index for time:\n",
    "\n",
    "$$\n",
    "\\begin{align}\n",
    "\\min \\ & \\sum_{g \\in G, t \\in T} VarCost_g \\times GEN_{g,t} & \\\\\n",
    "\\text{s.t.} & \\\\\n",
    " & \\sum_{g} GEN_{g,t} = Demand_t & \\forall \\quad t \\in T \\\\\n",
    " & GEN_{g,t} \\leq Pmax_{g,t} & \\forall \\quad g \\in G , t \\in T \\\\\n",
    " & GEN_{g,t} \\geq Pmin_{g,t} & \\forall \\quad g \\in G , t \\in T\n",
    "\\end{align}\n",
    "$$\n",
    "\n",
    "\n",
    "Note that for conventional generators, we often have $Pmax_{g,t} = Pmax_{g}$ and $Pmin_{g,t} = Pmin_{g}$ constant over time. (We will consider unit commitment later, which will alter this logic.)\n",
    "\n",
    "For variable renewable generators, it is natural that $Pmax_{g,t}$ varies with time (i.e., based on solar irradiation or wind speeds). $Pmin_{g,t}$ for wind and solar resources is usually 0, but for hydropower resources, minimum streamflow constraints can produce a time-variant parameter."
   ]
  },
  {
   "cell_type": "markdown",
   "metadata": {},
   "source": [
    "### 3. Create solver function\n",
    "\n",
    "(We reuse steps 1 and 2 above to load packages and data.)"
   ]
  },
  {
   "cell_type": "code",
   "execution_count": 15,
   "metadata": {},
   "outputs": [
    {
     "data": {
      "text/plain": [
       "economic_dispatch_multi (generic function with 1 method)"
      ]
     },
     "execution_count": 15,
     "metadata": {},
     "output_type": "execute_result"
    }
   ],
   "source": [
    "#=\n",
    "Function to solve economic dispatch problem (multi-time period, single-zone)\n",
    "Inputs:\n",
    "    gen_df -- dataframe with generator info\n",
    "    loads  -- load by time\n",
    "    gen_variable -- capacity factors of variable generators (in \"long\" format)\n",
    "=#\n",
    "function economic_dispatch_multi(gen_df, loads, gen_variable)\n",
    "    ED = Model(GLPK.Optimizer)\n",
    "\n",
    "    # Define sets based on data\n",
    "    G_var = gen_df[gen_df[!,:is_variable] .== 1,:r_id] \n",
    "    G_nonvar = gen_df[gen_df[!,:is_variable] .== 0,:r_id]\n",
    "    G = gen_df.r_id\n",
    "    T = loads.hour\n",
    "\n",
    "    # Generator capacity factor time series for variable generators\n",
    "    gen_var_cf = innerjoin(gen_variable, \n",
    "                    gen_df[gen_df.is_variable .== 1 , \n",
    "                        [:r_id, :gen_full, :existing_cap_mw]], \n",
    "                    on = :gen_full)\n",
    "        \n",
    "    # Decision variables   \n",
    "    @variables(ED, begin\n",
    "        GEN[G, T]  >= 0     # generation\n",
    "        # Note: we assume Pmin = 0 for all resources for simplicty here\n",
    "    end)\n",
    "                \n",
    "    # Objective function\n",
    "    @objective(ED, Min, \n",
    "        sum( (gen_df[gen_df.r_id .== i,:heat_rate_mmbtu_per_mwh][1] * gen_df[gen_df.r_id .== i,:fuel_cost][1] +\n",
    "            gen_df[gen_df.r_id .== i,:var_om_cost_per_mwh][1]) * GEN[i,t] \n",
    "                        for i in G_nonvar for t in T) + \n",
    "        sum(gen_df[gen_df.r_id .== i,:var_om_cost_per_mwh][1] * GEN[i,t] \n",
    "                        for i in G_var for t in T)\n",
    "    )\n",
    "    \n",
    "    # Demand constraint\n",
    "    @constraint(ED, cDemand[t in T], \n",
    "        sum(GEN[i,t] for i in G) == loads[loads.hour .== t,:demand][1])\n",
    "\n",
    "    # Capacity constraints (non-variable generation)\n",
    "    @constraint(ED, Cap_nonvar[i in G_nonvar, t in T], \n",
    "        GEN[i,t] <= gen_df[gen_df.r_id .== i,:existing_cap_mw][1])\n",
    "\n",
    "    # Variable generation capacity constraints\n",
    "    @constraint(ED, Cap_var[i in 1:nrow(gen_var_cf)], \n",
    "            GEN[gen_var_cf[i,:r_id], gen_var_cf[i,:hour] ] <= \n",
    "                        gen_var_cf[i,:cf] *\n",
    "                        gen_var_cf[i,:existing_cap_mw])\n",
    "    \n",
    "    # Solve statement (! indicates runs in place)\n",
    "    optimize!(ED)\n",
    "\n",
    "    # Dataframe of optimal decision variables\n",
    "    # This requires a few extra steps because we are indexing decision variables over two sets: generator and time\n",
    "    solution = DataFrame(value.(GEN).data)\n",
    "    ax1 = value.(GEN).axes[1]\n",
    "    ax2 = value.(GEN).axes[2]\n",
    "    cols = names(solution)\n",
    "    insertcols!(solution, 1, :r_id => ax1)\n",
    "    solution = stack(solution, Not(:r_id), variable_name=:hour)\n",
    "    solution.hour = foldl(replace, [cols[i] => ax2[i] for i in 1:length(ax2)], init=solution.hour)\n",
    "    rename!(solution, :value => :gen)\n",
    "    solution.hour = convert.(Int64,solution.hour)\n",
    "    \n",
    "    # Return the solution and objective as named tuple\n",
    "    return (\n",
    "        solution = solution, \n",
    "        cost = objective_value(ED),\n",
    "        status = termination_status(ED)\n",
    "    )\n",
    "\n",
    "end"
   ]
  },
  {
   "cell_type": "markdown",
   "metadata": {},
   "source": [
    "### 4. Solve a day's economic dispatch\n",
    "\n",
    "We will subset our year-long dataset to a single spring day and solve."
   ]
  },
  {
   "cell_type": "code",
   "execution_count": 16,
   "metadata": {},
   "outputs": [],
   "source": [
    "n=100\n",
    "T_period = (n*24+1):((n+1)*24)\n",
    "\n",
    "loads_multi = loads[in.(loads.hour,Ref(T_period)),:]\n",
    "gen_variable_multi = gen_variable_long[in.(gen_variable_long.hour,Ref(T_period)),:]\n",
    "\n",
    "solution = economic_dispatch_multi(gen_df, loads_multi, gen_variable_multi);"
   ]
  },
  {
   "cell_type": "code",
   "execution_count": 17,
   "metadata": {},
   "outputs": [
    {
     "data": {
      "text/html": [
       "<table class=\"data-frame\"><thead><tr><th></th><th>resource</th><th>gen_sum_sum</th></tr><tr><th></th><th>String?</th><th>Float64</th></tr></thead><tbody><p>8 rows × 2 columns</p><tr><th>1</th><td>_onshore_wind_turbine</td><td>2314.42</td></tr><tr><th>2</th><td>_small_hydroelectric</td><td>76.4384</td></tr><tr><th>3</th><td>_solar_photovoltaic</td><td>2935.15</td></tr><tr><th>4</th><td>_solar_photovoltaic_btm</td><td>3522.18</td></tr><tr><th>5</th><td>biomass</td><td>513.6</td></tr><tr><th>6</th><td>hydroelectric_pumped_storage</td><td>1008.0</td></tr><tr><th>7</th><td>natural_gas_fired_combined_cycle</td><td>42988.9</td></tr><tr><th>8</th><td>natural_gas_fired_combustion_turbine</td><td>5596.49</td></tr></tbody></table>"
      ],
      "text/latex": [
       "\\begin{tabular}{r|cc}\n",
       "\t& resource & gen\\_sum\\_sum\\\\\n",
       "\t\\hline\n",
       "\t& String? & Float64\\\\\n",
       "\t\\hline\n",
       "\t1 & \\_onshore\\_wind\\_turbine & 2314.42 \\\\\n",
       "\t2 & \\_small\\_hydroelectric & 76.4384 \\\\\n",
       "\t3 & \\_solar\\_photovoltaic & 2935.15 \\\\\n",
       "\t4 & \\_solar\\_photovoltaic\\_btm & 3522.18 \\\\\n",
       "\t5 & biomass & 513.6 \\\\\n",
       "\t6 & hydroelectric\\_pumped\\_storage & 1008.0 \\\\\n",
       "\t7 & natural\\_gas\\_fired\\_combined\\_cycle & 42988.9 \\\\\n",
       "\t8 & natural\\_gas\\_fired\\_combustion\\_turbine & 5596.49 \\\\\n",
       "\\end{tabular}\n"
      ],
      "text/plain": [
       "8×2 DataFrame\n",
       "│ Row │ resource                             │ gen_sum_sum │\n",
       "│     │ \u001b[90mUnion{Missing, String}\u001b[39m               │ \u001b[90mFloat64\u001b[39m     │\n",
       "├─────┼──────────────────────────────────────┼─────────────┤\n",
       "│ 1   │ _onshore_wind_turbine                │ 2314.42     │\n",
       "│ 2   │ _small_hydroelectric                 │ 76.4384     │\n",
       "│ 3   │ _solar_photovoltaic                  │ 2935.15     │\n",
       "│ 4   │ _solar_photovoltaic_btm              │ 3522.18     │\n",
       "│ 5   │ biomass                              │ 513.6       │\n",
       "│ 6   │ hydroelectric_pumped_storage         │ 1008.0      │\n",
       "│ 7   │ natural_gas_fired_combined_cycle     │ 42988.9     │\n",
       "│ 8   │ natural_gas_fired_combustion_turbine │ 5596.49     │"
      ]
     },
     "execution_count": 17,
     "metadata": {},
     "output_type": "execute_result"
    }
   ],
   "source": [
    "# **Add back in BTM solar and plot results**\n",
    "\n",
    "sol_gen = innerjoin(solution.solution, \n",
    "                    gen_df[!, [:r_id, :resource]], \n",
    "                    on = :r_id)\n",
    "sol_gen = combine(groupby(sol_gen, [:resource, :hour]), \n",
    "            :gen => sum)\n",
    "sol_gen_btm = copy(sol_gen)\n",
    "sol_gen_btm[sol_gen_btm.resource .== \"solar_photovoltaic\", :resource] .= \"_solar_photovoltaic\"\n",
    "sol_gen_btm[sol_gen_btm.resource .== \"onshore_wind_turbine\", :resource] .= \"_onshore_wind_turbine\"\n",
    "sol_gen_btm[sol_gen_btm.resource .== \"small_hydroelectric\", :resource] .= \"_small_hydroelectric\"\n",
    "\n",
    "btm = DataFrame(resource = repeat([\"_solar_photovoltaic_btm\"]; outer=length(T_period)), \n",
    "    hour = T_period,\n",
    "    gen_sum = gen_variable_multi[gen_variable_multi.gen_full .== \"wec_sdge_solar_photovoltaic_1.0\",:cf] * 600)\n",
    "append!(sol_gen_btm, btm)\n",
    "\n",
    "# Reorder resources\n",
    "sort!(sol_gen_btm, [:hour, :resource])\n",
    "CSV.write(\"sol_gen_btm.csv\",sol_gen_btm)\n",
    "\n",
    "sol_gen_sum = combine(groupby(sol_gen_btm, [:resource]), \n",
    "            :gen_sum => sum)"
   ]
  },
  {
   "cell_type": "markdown",
   "metadata": {},
   "source": [
    "**Plot charts**\n",
    "\n",
    "We use the [VegaLite](https://www.queryverse.org/VegaLite.jl/stable/) library to make some fancier plots.\n",
    "\n",
    "We also introduce the pipe operator `|>`, a helpful syntax that \"pipes\" the data on the left into the first argument of the function on the right. (Some more examples are [here](https://syl1.gitbook.io/julia-language-a-concise-tutorial/useful-packages/pipe).)"
   ]
  },
  {
   "cell_type": "code",
   "execution_count": 18,
   "metadata": {},
   "outputs": [
    {
     "data": {
      "application/vnd.vegalite.v4+json": {
       "data": {
        "values": [
         {
          "gen_sum": 163.3088,
          "hour": 2401,
          "resource": "_onshore_wind_turbine"
         },
         {
          "gen_sum": 3.184932,
          "hour": 2401,
          "resource": "_small_hydroelectric"
         },
         {
          "gen_sum": 0,
          "hour": 2401,
          "resource": "_solar_photovoltaic"
         },
         {
          "gen_sum": 0,
          "hour": 2401,
          "resource": "_solar_photovoltaic_btm"
         },
         {
          "gen_sum": 21.4,
          "hour": 2401,
          "resource": "biomass"
         },
         {
          "gen_sum": 42,
          "hour": 2401,
          "resource": "hydroelectric_pumped_storage"
         },
         {
          "gen_sum": 1385.106268,
          "hour": 2401,
          "resource": "natural_gas_fired_combined_cycle"
         },
         {
          "gen_sum": 0,
          "hour": 2401,
          "resource": "natural_gas_fired_combustion_turbine"
         },
         {
          "gen_sum": 169.79327999999998,
          "hour": 2402,
          "resource": "_onshore_wind_turbine"
         },
         {
          "gen_sum": 3.184932,
          "hour": 2402,
          "resource": "_small_hydroelectric"
         },
         {
          "gen_sum": 0,
          "hour": 2402,
          "resource": "_solar_photovoltaic"
         },
         {
          "gen_sum": 0,
          "hour": 2402,
          "resource": "_solar_photovoltaic_btm"
         },
         {
          "gen_sum": 21.4,
          "hour": 2402,
          "resource": "biomass"
         },
         {
          "gen_sum": 42,
          "hour": 2402,
          "resource": "hydroelectric_pumped_storage"
         },
         {
          "gen_sum": 1316.621788,
          "hour": 2402,
          "resource": "natural_gas_fired_combined_cycle"
         },
         {
          "gen_sum": 0,
          "hour": 2402,
          "resource": "natural_gas_fired_combustion_turbine"
         },
         {
          "gen_sum": 115.1104,
          "hour": 2403,
          "resource": "_onshore_wind_turbine"
         },
         {
          "gen_sum": 3.184932,
          "hour": 2403,
          "resource": "_small_hydroelectric"
         },
         {
          "gen_sum": 0,
          "hour": 2403,
          "resource": "_solar_photovoltaic"
         },
         {
          "gen_sum": 0,
          "hour": 2403,
          "resource": "_solar_photovoltaic_btm"
         },
         {
          "gen_sum": 21.4,
          "hour": 2403,
          "resource": "biomass"
         },
         {
          "gen_sum": 42,
          "hour": 2403,
          "resource": "hydroelectric_pumped_storage"
         },
         {
          "gen_sum": 1336.304668,
          "hour": 2403,
          "resource": "natural_gas_fired_combined_cycle"
         },
         {
          "gen_sum": 0,
          "hour": 2403,
          "resource": "natural_gas_fired_combustion_turbine"
         },
         {
          "gen_sum": 100.55296,
          "hour": 2404,
          "resource": "_onshore_wind_turbine"
         },
         {
          "gen_sum": 3.184932,
          "hour": 2404,
          "resource": "_small_hydroelectric"
         },
         {
          "gen_sum": 0,
          "hour": 2404,
          "resource": "_solar_photovoltaic"
         },
         {
          "gen_sum": 0,
          "hour": 2404,
          "resource": "_solar_photovoltaic_btm"
         },
         {
          "gen_sum": 21.4,
          "hour": 2404,
          "resource": "biomass"
         },
         {
          "gen_sum": 42,
          "hour": 2404,
          "resource": "hydroelectric_pumped_storage"
         },
         {
          "gen_sum": 1394.8621079999998,
          "hour": 2404,
          "resource": "natural_gas_fired_combined_cycle"
         },
         {
          "gen_sum": 0,
          "hour": 2404,
          "resource": "natural_gas_fired_combustion_turbine"
         },
         {
          "gen_sum": 80.57728000000009,
          "hour": 2405,
          "resource": "_onshore_wind_turbine"
         },
         {
          "gen_sum": 3.184932,
          "hour": 2405,
          "resource": "_small_hydroelectric"
         },
         {
          "gen_sum": 0,
          "hour": 2405,
          "resource": "_solar_photovoltaic"
         },
         {
          "gen_sum": 0,
          "hour": 2405,
          "resource": "_solar_photovoltaic_btm"
         },
         {
          "gen_sum": 21.4,
          "hour": 2405,
          "resource": "biomass"
         },
         {
          "gen_sum": 42,
          "hour": 2405,
          "resource": "hydroelectric_pumped_storage"
         },
         {
          "gen_sum": 1585.8377879999998,
          "hour": 2405,
          "resource": "natural_gas_fired_combined_cycle"
         },
         {
          "gen_sum": 0,
          "hour": 2405,
          "resource": "natural_gas_fired_combustion_turbine"
         },
         {
          "gen_sum": 139.17695999999998,
          "hour": 2406,
          "resource": "_onshore_wind_turbine"
         },
         {
          "gen_sum": 3.184932,
          "hour": 2406,
          "resource": "_small_hydroelectric"
         },
         {
          "gen_sum": 0,
          "hour": 2406,
          "resource": "_solar_photovoltaic"
         },
         {
          "gen_sum": 0,
          "hour": 2406,
          "resource": "_solar_photovoltaic_btm"
         },
         {
          "gen_sum": 21.4,
          "hour": 2406,
          "resource": "biomass"
         },
         {
          "gen_sum": 42,
          "hour": 2406,
          "resource": "hydroelectric_pumped_storage"
         },
         {
          "gen_sum": 1770.238108,
          "hour": 2406,
          "resource": "natural_gas_fired_combined_cycle"
         },
         {
          "gen_sum": 0,
          "hour": 2406,
          "resource": "natural_gas_fired_combustion_turbine"
         },
         {
          "gen_sum": 74.17983999999979,
          "hour": 2407,
          "resource": "_onshore_wind_turbine"
         },
         {
          "gen_sum": 3.184932,
          "hour": 2407,
          "resource": "_small_hydroelectric"
         },
         {
          "gen_sum": 27.650000000000208,
          "hour": 2407,
          "resource": "_solar_photovoltaic"
         },
         {
          "gen_sum": 33.18,
          "hour": 2407,
          "resource": "_solar_photovoltaic_btm"
         },
         {
          "gen_sum": 21.4,
          "hour": 2407,
          "resource": "biomass"
         },
         {
          "gen_sum": 42,
          "hour": 2407,
          "resource": "hydroelectric_pumped_storage"
         },
         {
          "gen_sum": 1928.5,
          "hour": 2407,
          "resource": "natural_gas_fired_combined_cycle"
         },
         {
          "gen_sum": 177.08522799999992,
          "hour": 2407,
          "resource": "natural_gas_fired_combustion_turbine"
         },
         {
          "gen_sum": 49.37343999999953,
          "hour": 2408,
          "resource": "_onshore_wind_turbine"
         },
         {
          "gen_sum": 3.184932000000117,
          "hour": 2408,
          "resource": "_small_hydroelectric"
         },
         {
          "gen_sum": 110.55000000000018,
          "hour": 2408,
          "resource": "_solar_photovoltaic"
         },
         {
          "gen_sum": 132.66,
          "hour": 2408,
          "resource": "_solar_photovoltaic_btm"
         },
         {
          "gen_sum": 21.4,
          "hour": 2408,
          "resource": "biomass"
         },
         {
          "gen_sum": 42,
          "hour": 2408,
          "resource": "hydroelectric_pumped_storage"
         },
         {
          "gen_sum": 1928.5,
          "hour": 2408,
          "resource": "natural_gas_fired_combined_cycle"
         },
         {
          "gen_sum": 441.99162800000005,
          "hour": 2408,
          "resource": "natural_gas_fired_combustion_turbine"
         },
         {
          "gen_sum": 167.35616000000016,
          "hour": 2409,
          "resource": "_onshore_wind_turbine"
         },
         {
          "gen_sum": 3.184932,
          "hour": 2409,
          "resource": "_small_hydroelectric"
         },
         {
          "gen_sum": 238.80000000000007,
          "hour": 2409,
          "resource": "_solar_photovoltaic"
         },
         {
          "gen_sum": 286.56,
          "hour": 2409,
          "resource": "_solar_photovoltaic_btm"
         },
         {
          "gen_sum": 21.4,
          "hour": 2409,
          "resource": "biomass"
         },
         {
          "gen_sum": 42,
          "hour": 2409,
          "resource": "hydroelectric_pumped_storage"
         },
         {
          "gen_sum": 1928.5,
          "hour": 2409,
          "resource": "natural_gas_fired_combined_cycle"
         },
         {
          "gen_sum": 436.7589079999996,
          "hour": 2409,
          "resource": "natural_gas_fired_combustion_turbine"
         },
         {
          "gen_sum": 131.56096,
          "hour": 2410,
          "resource": "_onshore_wind_turbine"
         },
         {
          "gen_sum": 3.184932,
          "hour": 2410,
          "resource": "_small_hydroelectric"
         },
         {
          "gen_sum": 287.85000000000014,
          "hour": 2410,
          "resource": "_solar_photovoltaic"
         },
         {
          "gen_sum": 345.42,
          "hour": 2410,
          "resource": "_solar_photovoltaic_btm"
         },
         {
          "gen_sum": 21.4,
          "hour": 2410,
          "resource": "biomass"
         },
         {
          "gen_sum": 42,
          "hour": 2410,
          "resource": "hydroelectric_pumped_storage"
         },
         {
          "gen_sum": 1928.5,
          "hour": 2410,
          "resource": "natural_gas_fired_combined_cycle"
         },
         {
          "gen_sum": 608.5041079999995,
          "hour": 2410,
          "resource": "natural_gas_fired_combustion_turbine"
         },
         {
          "gen_sum": 111.1936,
          "hour": 2411,
          "resource": "_onshore_wind_turbine"
         },
         {
          "gen_sum": 3.184932,
          "hour": 2411,
          "resource": "_small_hydroelectric"
         },
         {
          "gen_sum": 301.95,
          "hour": 2411,
          "resource": "_solar_photovoltaic"
         },
         {
          "gen_sum": 362.34,
          "hour": 2411,
          "resource": "_solar_photovoltaic_btm"
         },
         {
          "gen_sum": 21.4,
          "hour": 2411,
          "resource": "biomass"
         },
         {
          "gen_sum": 42,
          "hour": 2411,
          "resource": "hydroelectric_pumped_storage"
         },
         {
          "gen_sum": 1928.5,
          "hour": 2411,
          "resource": "natural_gas_fired_combined_cycle"
         },
         {
          "gen_sum": 716.7714679999998,
          "hour": 2411,
          "resource": "natural_gas_fired_combustion_turbine"
         },
         {
          "gen_sum": 92.11008,
          "hour": 2412,
          "resource": "_onshore_wind_turbine"
         },
         {
          "gen_sum": 3.184932,
          "hour": 2412,
          "resource": "_small_hydroelectric"
         },
         {
          "gen_sum": 306.95,
          "hour": 2412,
          "resource": "_solar_photovoltaic"
         },
         {
          "gen_sum": 368.34,
          "hour": 2412,
          "resource": "_solar_photovoltaic_btm"
         },
         {
          "gen_sum": 21.4,
          "hour": 2412,
          "resource": "biomass"
         },
         {
          "gen_sum": 42,
          "hour": 2412,
          "resource": "hydroelectric_pumped_storage"
         },
         {
          "gen_sum": 1928.5,
          "hour": 2412,
          "resource": "natural_gas_fired_combined_cycle"
         },
         {
          "gen_sum": 568.8549879999997,
          "hour": 2412,
          "resource": "natural_gas_fired_combustion_turbine"
         },
         {
          "gen_sum": 52.0934399999996,
          "hour": 2413,
          "resource": "_onshore_wind_turbine"
         },
         {
          "gen_sum": 3.184932,
          "hour": 2413,
          "resource": "_small_hydroelectric"
         },
         {
          "gen_sum": 322.3000000000002,
          "hour": 2413,
          "resource": "_solar_photovoltaic"
         },
         {
          "gen_sum": 386.76,
          "hour": 2413,
          "resource": "_solar_photovoltaic_btm"
         },
         {
          "gen_sum": 21.4,
          "hour": 2413,
          "resource": "biomass"
         },
         {
          "gen_sum": 42,
          "hour": 2413,
          "resource": "hydroelectric_pumped_storage"
         },
         {
          "gen_sum": 1928.5,
          "hour": 2413,
          "resource": "natural_gas_fired_combined_cycle"
         },
         {
          "gen_sum": 373.5216280000001,
          "hour": 2413,
          "resource": "natural_gas_fired_combustion_turbine"
         },
         {
          "gen_sum": 64.69247999999996,
          "hour": 2414,
          "resource": "_onshore_wind_turbine"
         },
         {
          "gen_sum": 3.184932,
          "hour": 2414,
          "resource": "_small_hydroelectric"
         },
         {
          "gen_sum": 322.74999999999966,
          "hour": 2414,
          "resource": "_solar_photovoltaic"
         },
         {
          "gen_sum": 387.29999999999995,
          "hour": 2414,
          "resource": "_solar_photovoltaic_btm"
         },
         {
          "gen_sum": 21.4,
          "hour": 2414,
          "resource": "biomass"
         },
         {
          "gen_sum": 42,
          "hour": 2414,
          "resource": "hydroelectric_pumped_storage"
         },
         {
          "gen_sum": 1928.5,
          "hour": 2414,
          "resource": "natural_gas_fired_combined_cycle"
         },
         {
          "gen_sum": 283.4725880000003,
          "hour": 2414,
          "resource": "natural_gas_fired_combustion_turbine"
         },
         {
          "gen_sum": 49.22112,
          "hour": 2415,
          "resource": "_onshore_wind_turbine"
         },
         {
          "gen_sum": 3.184932,
          "hour": 2415,
          "resource": "_small_hydroelectric"
         },
         {
          "gen_sum": 312.05000000000035,
          "hour": 2415,
          "resource": "_solar_photovoltaic"
         },
         {
          "gen_sum": 374.46,
          "hour": 2415,
          "resource": "_solar_photovoltaic_btm"
         },
         {
          "gen_sum": 21.4,
          "hour": 2415,
          "resource": "biomass"
         },
         {
          "gen_sum": 42,
          "hour": 2415,
          "resource": "hydroelectric_pumped_storage"
         },
         {
          "gen_sum": 1928.5,
          "hour": 2415,
          "resource": "natural_gas_fired_combined_cycle"
         },
         {
          "gen_sum": 221.64394799999954,
          "hour": 2415,
          "resource": "natural_gas_fired_combustion_turbine"
         },
         {
          "gen_sum": 65.41055999999963,
          "hour": 2416,
          "resource": "_onshore_wind_turbine"
         },
         {
          "gen_sum": 3.184932,
          "hour": 2416,
          "resource": "_small_hydroelectric"
         },
         {
          "gen_sum": 284.7500000000002,
          "hour": 2416,
          "resource": "_solar_photovoltaic"
         },
         {
          "gen_sum": 341.7,
          "hour": 2416,
          "resource": "_solar_photovoltaic_btm"
         },
         {
          "gen_sum": 21.4,
          "hour": 2416,
          "resource": "biomass"
         },
         {
          "gen_sum": 42,
          "hour": 2416,
          "resource": "hydroelectric_pumped_storage"
         },
         {
          "gen_sum": 1928.5,
          "hour": 2416,
          "resource": "natural_gas_fired_combined_cycle"
         },
         {
          "gen_sum": 136.75450800000007,
          "hour": 2416,
          "resource": "natural_gas_fired_combustion_turbine"
         },
         {
          "gen_sum": 57.18528000000022,
          "hour": 2417,
          "resource": "_onshore_wind_turbine"
         },
         {
          "gen_sum": 3.184932,
          "hour": 2417,
          "resource": "_small_hydroelectric"
         },
         {
          "gen_sum": 233.90000000000015,
          "hour": 2417,
          "resource": "_solar_photovoltaic"
         },
         {
          "gen_sum": 280.68,
          "hour": 2417,
          "resource": "_solar_photovoltaic_btm"
         },
         {
          "gen_sum": 21.4,
          "hour": 2417,
          "resource": "biomass"
         },
         {
          "gen_sum": 42,
          "hour": 2417,
          "resource": "hydroelectric_pumped_storage"
         },
         {
          "gen_sum": 1928.5,
          "hour": 2417,
          "resource": "natural_gas_fired_combined_cycle"
         },
         {
          "gen_sum": 135.82978799999955,
          "hour": 2417,
          "resource": "natural_gas_fired_combustion_turbine"
         },
         {
          "gen_sum": 78.61888000000002,
          "hour": 2418,
          "resource": "_onshore_wind_turbine"
         },
         {
          "gen_sum": 3.184932,
          "hour": 2418,
          "resource": "_small_hydroelectric"
         },
         {
          "gen_sum": 161.8000000000002,
          "hour": 2418,
          "resource": "_solar_photovoltaic"
         },
         {
          "gen_sum": 194.16,
          "hour": 2418,
          "resource": "_solar_photovoltaic_btm"
         },
         {
          "gen_sum": 21.4,
          "hour": 2418,
          "resource": "biomass"
         },
         {
          "gen_sum": 42,
          "hour": 2418,
          "resource": "hydroelectric_pumped_storage"
         },
         {
          "gen_sum": 1928.5,
          "hour": 2418,
          "resource": "natural_gas_fired_combined_cycle"
         },
         {
          "gen_sum": 138.4961879999997,
          "hour": 2418,
          "resource": "natural_gas_fired_combustion_turbine"
         },
         {
          "gen_sum": 52.61567999999997,
          "hour": 2419,
          "resource": "_onshore_wind_turbine"
         },
         {
          "gen_sum": 3.184932,
          "hour": 2419,
          "resource": "_small_hydroelectric"
         },
         {
          "gen_sum": 23.849999999999902,
          "hour": 2419,
          "resource": "_solar_photovoltaic"
         },
         {
          "gen_sum": 28.62,
          "hour": 2419,
          "resource": "_solar_photovoltaic_btm"
         },
         {
          "gen_sum": 21.4,
          "hour": 2419,
          "resource": "biomass"
         },
         {
          "gen_sum": 42,
          "hour": 2419,
          "resource": "hydroelectric_pumped_storage"
         },
         {
          "gen_sum": 1928.5,
          "hour": 2419,
          "resource": "natural_gas_fired_combined_cycle"
         },
         {
          "gen_sum": 306.449388,
          "hour": 2419,
          "resource": "natural_gas_fired_combustion_turbine"
         },
         {
          "gen_sum": 61.42847999999982,
          "hour": 2420,
          "resource": "_onshore_wind_turbine"
         },
         {
          "gen_sum": 3.184932,
          "hour": 2420,
          "resource": "_small_hydroelectric"
         },
         {
          "gen_sum": 0,
          "hour": 2420,
          "resource": "_solar_photovoltaic"
         },
         {
          "gen_sum": 0,
          "hour": 2420,
          "resource": "_solar_photovoltaic_btm"
         },
         {
          "gen_sum": 21.4,
          "hour": 2420,
          "resource": "biomass"
         },
         {
          "gen_sum": 42,
          "hour": 2420,
          "resource": "hydroelectric_pumped_storage"
         },
         {
          "gen_sum": 1928.5,
          "hour": 2420,
          "resource": "natural_gas_fired_combined_cycle"
         },
         {
          "gen_sum": 444.48658800000004,
          "hour": 2420,
          "resource": "natural_gas_fired_combustion_turbine"
         },
         {
          "gen_sum": 71.91679999999975,
          "hour": 2421,
          "resource": "_onshore_wind_turbine"
         },
         {
          "gen_sum": 3.184932,
          "hour": 2421,
          "resource": "_small_hydroelectric"
         },
         {
          "gen_sum": 0,
          "hour": 2421,
          "resource": "_solar_photovoltaic"
         },
         {
          "gen_sum": 0,
          "hour": 2421,
          "resource": "_solar_photovoltaic_btm"
         },
         {
          "gen_sum": 21.4,
          "hour": 2421,
          "resource": "biomass"
         },
         {
          "gen_sum": 42,
          "hour": 2421,
          "resource": "hydroelectric_pumped_storage"
         },
         {
          "gen_sum": 1928.5,
          "hour": 2421,
          "resource": "natural_gas_fired_combined_cycle"
         },
         {
          "gen_sum": 438.9982680000001,
          "hour": 2421,
          "resource": "natural_gas_fired_combustion_turbine"
         },
         {
          "gen_sum": 96.04863999999998,
          "hour": 2422,
          "resource": "_onshore_wind_turbine"
         },
         {
          "gen_sum": 3.184932,
          "hour": 2422,
          "resource": "_small_hydroelectric"
         },
         {
          "gen_sum": 0,
          "hour": 2422,
          "resource": "_solar_photovoltaic"
         },
         {
          "gen_sum": 0,
          "hour": 2422,
          "resource": "_solar_photovoltaic_btm"
         },
         {
          "gen_sum": 21.4,
          "hour": 2422,
          "resource": "biomass"
         },
         {
          "gen_sum": 42,
          "hour": 2422,
          "resource": "hydroelectric_pumped_storage"
         },
         {
          "gen_sum": 1928.5,
          "hour": 2422,
          "resource": "natural_gas_fired_combined_cycle"
         },
         {
          "gen_sum": 166.86642799999993,
          "hour": 2422,
          "resource": "natural_gas_fired_combustion_turbine"
         },
         {
          "gen_sum": 126.46912,
          "hour": 2423,
          "resource": "_onshore_wind_turbine"
         },
         {
          "gen_sum": 3.184932,
          "hour": 2423,
          "resource": "_small_hydroelectric"
         },
         {
          "gen_sum": 0,
          "hour": 2423,
          "resource": "_solar_photovoltaic"
         },
         {
          "gen_sum": 0,
          "hour": 2423,
          "resource": "_solar_photovoltaic_btm"
         },
         {
          "gen_sum": 21.4,
          "hour": 2423,
          "resource": "biomass"
         },
         {
          "gen_sum": 42,
          "hour": 2423,
          "resource": "hydroelectric_pumped_storage"
         },
         {
          "gen_sum": 1794.9459479999998,
          "hour": 2423,
          "resource": "natural_gas_fired_combined_cycle"
         },
         {
          "gen_sum": 0,
          "hour": 2423,
          "resource": "natural_gas_fired_combustion_turbine"
         },
         {
          "gen_sum": 144.4211200000001,
          "hour": 2424,
          "resource": "_onshore_wind_turbine"
         },
         {
          "gen_sum": 3.184932,
          "hour": 2424,
          "resource": "_small_hydroelectric"
         },
         {
          "gen_sum": 0,
          "hour": 2424,
          "resource": "_solar_photovoltaic"
         },
         {
          "gen_sum": 0,
          "hour": 2424,
          "resource": "_solar_photovoltaic_btm"
         },
         {
          "gen_sum": 21.4,
          "hour": 2424,
          "resource": "biomass"
         },
         {
          "gen_sum": 42,
          "hour": 2424,
          "resource": "hydroelectric_pumped_storage"
         },
         {
          "gen_sum": 1548.9939479999998,
          "hour": 2424,
          "resource": "natural_gas_fired_combined_cycle"
         },
         {
          "gen_sum": 0,
          "hour": 2424,
          "resource": "natural_gas_fired_combustion_turbine"
         }
        ]
       },
       "encoding": {
        "color": {
         "field": "resource",
         "scale": {
          "scheme": "category20"
         },
         "type": "nominal"
        },
        "x": {
         "field": "hour",
         "type": "quantitative"
        },
        "y": {
         "field": "gen_sum",
         "type": "quantitative"
        }
       },
       "mark": "line"
      },
      "image/png": "[encoded data removed]",
      "image/svg+xml": [
       "<?xml version=\"1.0\" encoding=\"utf-8\"?>\n",
       "<!DOCTYPE svg PUBLIC \"-//W3C//DTD SVG 1.1//EN\" \"http://www.w3.org/Graphics/SVG/1.1/DTD/svg11.dtd\">\n",
       "<svg class=\"marks\" width=\"454\" height=\"247\" viewBox=\"0 0 454 247\" version=\"1.1\" xmlns=\"http://www.w3.org/2000/svg\" xmlns:xlink=\"http://www.w3.org/1999/xlink\"><rect width=\"454\" height=\"247\" fill=\"white\"></rect><g fill=\"none\" stroke-miterlimit=\"10\" transform=\"translate(54,10)\"><g class=\"mark-group role-frame root\" role=\"graphics-object\" aria-roledescription=\"group mark container\"><g transform=\"translate(0,0)\"><path class=\"background\" aria-hidden=\"true\" d=\"M0.5,0.5h200v200h-200Z\" stroke=\"#ddd\"></path><g><g class=\"mark-group role-axis\" aria-hidden=\"true\"><g transform=\"translate(0.5,200.5)\"><path class=\"background\" aria-hidden=\"true\" d=\"M0,0h0v0h0Z\" pointer-events=\"none\"></path><g><g class=\"mark-rule role-axis-grid\" pointer-events=\"none\"><line transform=\"translate(0,-200)\" x2=\"0\" y2=\"200\" stroke=\"#ddd\" stroke-width=\"1\" opacity=\"1\"></line><line transform=\"translate(42,-200)\" x2=\"0\" y2=\"200\" stroke=\"#ddd\" stroke-width=\"1\" opacity=\"1\"></line><line transform=\"translate(83,-200)\" x2=\"0\" y2=\"200\" stroke=\"#ddd\" stroke-width=\"1\" opacity=\"1\"></line><line transform=\"translate(125,-200)\" x2=\"0\" y2=\"200\" stroke=\"#ddd\" stroke-width=\"1\" opacity=\"1\"></line><line transform=\"translate(167,-200)\" x2=\"0\" y2=\"200\" stroke=\"#ddd\" stroke-width=\"1\" opacity=\"1\"></line></g></g><path class=\"foreground\" aria-hidden=\"true\" d=\"\" pointer-events=\"none\" display=\"none\"></path></g></g><g class=\"mark-group role-axis\" aria-hidden=\"true\"><g transform=\"translate(0.5,0.5)\"><path class=\"background\" aria-hidden=\"true\" d=\"M0,0h0v0h0Z\" pointer-events=\"none\"></path><g><g class=\"mark-rule role-axis-grid\" pointer-events=\"none\"><line transform=\"translate(0,200)\" x2=\"200\" y2=\"0\" stroke=\"#ddd\" stroke-width=\"1\" opacity=\"1\"></line><line transform=\"translate(0,150)\" x2=\"200\" y2=\"0\" stroke=\"#ddd\" stroke-width=\"1\" opacity=\"1\"></line><line transform=\"translate(0,100)\" x2=\"200\" y2=\"0\" stroke=\"#ddd\" stroke-width=\"1\" opacity=\"1\"></line><line transform=\"translate(0,50)\" x2=\"200\" y2=\"0\" stroke=\"#ddd\" stroke-width=\"1\" opacity=\"1\"></line><line transform=\"translate(0,0)\" x2=\"200\" y2=\"0\" stroke=\"#ddd\" stroke-width=\"1\" opacity=\"1\"></line></g></g><path class=\"foreground\" aria-hidden=\"true\" d=\"\" pointer-events=\"none\" display=\"none\"></path></g></g><g class=\"mark-group role-axis\" role=\"graphics-symbol\" aria-roledescription=\"axis\" aria-label=\"X-axis titled 'hour' for a linear scale with values from 2,400 to 2,424\"><g transform=\"translate(0.5,200.5)\"><path class=\"background\" aria-hidden=\"true\" d=\"M0,0h0v0h0Z\" pointer-events=\"none\"></path><g><g class=\"mark-rule role-axis-tick\" pointer-events=\"none\"><line transform=\"translate(0,0)\" x2=\"0\" y2=\"5\" stroke=\"#888\" stroke-width=\"1\" opacity=\"1\"></line><line transform=\"translate(42,0)\" x2=\"0\" y2=\"5\" stroke=\"#888\" stroke-width=\"1\" opacity=\"1\"></line><line transform=\"translate(83,0)\" x2=\"0\" y2=\"5\" stroke=\"#888\" stroke-width=\"1\" opacity=\"1\"></line><line transform=\"translate(125,0)\" x2=\"0\" y2=\"5\" stroke=\"#888\" stroke-width=\"1\" opacity=\"1\"></line><line transform=\"translate(167,0)\" x2=\"0\" y2=\"5\" stroke=\"#888\" stroke-width=\"1\" opacity=\"1\"></line></g><g class=\"mark-text role-axis-label\" pointer-events=\"none\"><text text-anchor=\"start\" transform=\"translate(0,15)\" font-family=\"sans-serif\" font-size=\"10px\" fill=\"#000\" opacity=\"1\">2,400</text><text text-anchor=\"middle\" transform=\"translate(41.66666666666667,15)\" font-family=\"sans-serif\" font-size=\"10px\" fill=\"#000\" opacity=\"1\">2,405</text><text text-anchor=\"middle\" transform=\"translate(83.33333333333334,15)\" font-family=\"sans-serif\" font-size=\"10px\" fill=\"#000\" opacity=\"1\">2,410</text><text text-anchor=\"middle\" transform=\"translate(125,15)\" font-family=\"sans-serif\" font-size=\"10px\" fill=\"#000\" opacity=\"1\">2,415</text><text text-anchor=\"middle\" transform=\"translate(166.66666666666669,15)\" font-family=\"sans-serif\" font-size=\"10px\" fill=\"#000\" opacity=\"1\">2,420</text></g><g class=\"mark-rule role-axis-domain\" pointer-events=\"none\"><line transform=\"translate(0,0)\" x2=\"200\" y2=\"0\" stroke=\"#888\" stroke-width=\"1\" opacity=\"1\"></line></g><g class=\"mark-text role-axis-title\" pointer-events=\"none\"><text text-anchor=\"middle\" transform=\"translate(100,30)\" font-family=\"sans-serif\" font-size=\"11px\" font-weight=\"bold\" fill=\"#000\" opacity=\"1\">hour</text></g></g><path class=\"foreground\" aria-hidden=\"true\" d=\"\" pointer-events=\"none\" display=\"none\"></path></g></g><g class=\"mark-group role-axis\" role=\"graphics-symbol\" aria-roledescription=\"axis\" aria-label=\"Y-axis titled 'gen_sum' for a linear scale with values from 0 to 2,000\"><g transform=\"translate(0.5,0.5)\"><path class=\"background\" aria-hidden=\"true\" d=\"M0,0h0v0h0Z\" pointer-events=\"none\"></path><g><g class=\"mark-rule role-axis-tick\" pointer-events=\"none\"><line transform=\"translate(0,200)\" x2=\"-5\" y2=\"0\" stroke=\"#888\" stroke-width=\"1\" opacity=\"1\"></line><line transform=\"translate(0,150)\" x2=\"-5\" y2=\"0\" stroke=\"#888\" stroke-width=\"1\" opacity=\"1\"></line><line transform=\"translate(0,100)\" x2=\"-5\" y2=\"0\" stroke=\"#888\" stroke-width=\"1\" opacity=\"1\"></line><line transform=\"translate(0,50)\" x2=\"-5\" y2=\"0\" stroke=\"#888\" stroke-width=\"1\" opacity=\"1\"></line><line transform=\"translate(0,0)\" x2=\"-5\" y2=\"0\" stroke=\"#888\" stroke-width=\"1\" opacity=\"1\"></line></g><g class=\"mark-text role-axis-label\" pointer-events=\"none\"><text text-anchor=\"end\" transform=\"translate(-7,203)\" font-family=\"sans-serif\" font-size=\"10px\" fill=\"#000\" opacity=\"1\">0</text><text text-anchor=\"end\" transform=\"translate(-7,153)\" font-family=\"sans-serif\" font-size=\"10px\" fill=\"#000\" opacity=\"1\">500</text><text text-anchor=\"end\" transform=\"translate(-7,103)\" font-family=\"sans-serif\" font-size=\"10px\" fill=\"#000\" opacity=\"1\">1,000</text><text text-anchor=\"end\" transform=\"translate(-7,53)\" font-family=\"sans-serif\" font-size=\"10px\" fill=\"#000\" opacity=\"1\">1,500</text><text text-anchor=\"end\" transform=\"translate(-7,3)\" font-family=\"sans-serif\" font-size=\"10px\" fill=\"#000\" opacity=\"1\">2,000</text></g><g class=\"mark-rule role-axis-domain\" pointer-events=\"none\"><line transform=\"translate(0,200)\" x2=\"0\" y2=\"-200\" stroke=\"#888\" stroke-width=\"1\" opacity=\"1\"></line></g><g class=\"mark-text role-axis-title\" pointer-events=\"none\"><text text-anchor=\"middle\" transform=\"translate(-38,100) rotate(-90) translate(0,-2)\" font-family=\"sans-serif\" font-size=\"11px\" font-weight=\"bold\" fill=\"#000\" opacity=\"1\">gen_sum</text></g></g><path class=\"foreground\" aria-hidden=\"true\" d=\"\" pointer-events=\"none\" display=\"none\"></path></g></g><g class=\"mark-group role-scope pathgroup\" role=\"graphics-object\" aria-roledescription=\"group mark container\"><g transform=\"translate(0,0)\"><path class=\"background\" aria-hidden=\"true\" d=\"M0,0h200v200h-200Z\"></path><g><g class=\"mark-line role-mark marks\" role=\"graphics-object\" aria-roledescription=\"line mark container\"><path aria-label=\"hour: 2401; gen_sum: 163.3088; resource: _onshore_wind_turbine\" role=\"graphics-symbol\" aria-roledescription=\"line mark\" d=\"M8.333333333333332,183.66912L16.666666666666664,183.02067200000002L25,188.48896L33.33333333333333,189.944704L41.66666666666667,191.942272L50,186.08230400000002L58.333333333333336,192.582016L66.66666666666666,195.06265600000006L75,183.26438399999998L83.33333333333334,186.84390399999998L91.66666666666666,188.88064L100,190.78899199999998L108.33333333333333,194.79065600000004L116.66666666666667,193.530752L125,195.077888L133.33333333333331,193.45894400000003L141.66666666666669,194.28147199999998L150,192.138112L158.33333333333331,194.73843200000002L166.66666666666669,193.857152L175,192.80832000000004L183.33333333333331,190.395136L191.66666666666669,187.353088L200,185.557888\" stroke=\"#1f77b4\" stroke-width=\"2\"></path></g></g><path class=\"foreground\" aria-hidden=\"true\" d=\"\" display=\"none\"></path></g><g transform=\"translate(0,0)\"><path class=\"background\" aria-hidden=\"true\" d=\"M0,0h200v200h-200Z\"></path><g><g class=\"mark-line role-mark marks\" role=\"graphics-object\" aria-roledescription=\"line mark container\"><path aria-label=\"hour: 2401; gen_sum: 3.184932; resource: _small_hydroelectric\" role=\"graphics-symbol\" aria-roledescription=\"line mark\" d=\"M8.333333333333332,199.68150680000002L16.666666666666664,199.68150680000002L25,199.68150680000002L33.33333333333333,199.68150680000002L41.66666666666667,199.68150680000002L50,199.68150680000002L58.333333333333336,199.68150680000002L66.66666666666666,199.6815068L75,199.68150680000002L83.33333333333334,199.68150680000002L91.66666666666666,199.68150680000002L100,199.68150680000002L108.33333333333333,199.68150680000002L116.66666666666667,199.68150680000002L125,199.68150680000002L133.33333333333331,199.68150680000002L141.66666666666669,199.68150680000002L150,199.68150680000002L158.33333333333331,199.68150680000002L166.66666666666669,199.68150680000002L175,199.68150680000002L183.33333333333331,199.68150680000002L191.66666666666669,199.68150680000002L200,199.68150680000002\" stroke=\"#aec7e8\" stroke-width=\"2\"></path></g></g><path class=\"foreground\" aria-hidden=\"true\" d=\"\" display=\"none\"></path></g><g transform=\"translate(0,0)\"><path class=\"background\" aria-hidden=\"true\" d=\"M0,0h200v200h-200Z\"></path><g><g class=\"mark-line role-mark marks\" role=\"graphics-object\" aria-roledescription=\"line mark container\"><path aria-label=\"hour: 2401; gen_sum: 0; resource: _solar_photovoltaic\" role=\"graphics-symbol\" aria-roledescription=\"line mark\" d=\"M8.333333333333332,200L16.666666666666664,200L25,200L33.33333333333333,200L41.66666666666667,200L50,200L58.333333333333336,197.23499999999999L66.66666666666666,188.945L75,176.11999999999998L83.33333333333334,171.21499999999997L91.66666666666666,169.805L100,169.305L108.33333333333333,167.76999999999998L116.66666666666667,167.72500000000002L125,168.79499999999996L133.33333333333331,171.52499999999998L141.66666666666669,176.60999999999999L150,183.82L158.33333333333331,197.615L166.66666666666669,200L175,200L183.33333333333331,200L191.66666666666669,200L200,200\" stroke=\"#ff7f0e\" stroke-width=\"2\"></path></g></g><path class=\"foreground\" aria-hidden=\"true\" d=\"\" display=\"none\"></path></g><g transform=\"translate(0,0)\"><path class=\"background\" aria-hidden=\"true\" d=\"M0,0h200v200h-200Z\"></path><g><g class=\"mark-line role-mark marks\" role=\"graphics-object\" aria-roledescription=\"line mark container\"><path aria-label=\"hour: 2401; gen_sum: 0; resource: _solar_photovoltaic_btm\" role=\"graphics-symbol\" aria-roledescription=\"line mark\" d=\"M8.333333333333332,200L16.666666666666664,200L25,200L33.33333333333333,200L41.66666666666667,200L50,200L58.333333333333336,196.682L66.66666666666666,186.734L75,171.344L83.33333333333334,165.458L91.66666666666666,163.766L100,163.166L108.33333333333333,161.324L116.66666666666667,161.27L125,162.554L133.33333333333331,165.83L141.66666666666669,171.932L150,180.584L158.33333333333331,197.13799999999998L166.66666666666669,200L175,200L183.33333333333331,200L191.66666666666669,200L200,200\" stroke=\"#ffbb78\" stroke-width=\"2\"></path></g></g><path class=\"foreground\" aria-hidden=\"true\" d=\"\" display=\"none\"></path></g><g transform=\"translate(0,0)\"><path class=\"background\" aria-hidden=\"true\" d=\"M0,0h200v200h-200Z\"></path><g><g class=\"mark-line role-mark marks\" role=\"graphics-object\" aria-roledescription=\"line mark container\"><path aria-label=\"hour: 2401; gen_sum: 21.4; resource: biomass\" role=\"graphics-symbol\" aria-roledescription=\"line mark\" d=\"M8.333333333333332,197.85999999999999L16.666666666666664,197.85999999999999L25,197.85999999999999L33.33333333333333,197.85999999999999L41.66666666666667,197.85999999999999L50,197.85999999999999L58.333333333333336,197.85999999999999L66.66666666666666,197.85999999999999L75,197.85999999999999L83.33333333333334,197.85999999999999L91.66666666666666,197.85999999999999L100,197.85999999999999L108.33333333333333,197.85999999999999L116.66666666666667,197.85999999999999L125,197.85999999999999L133.33333333333331,197.85999999999999L141.66666666666669,197.85999999999999L150,197.85999999999999L158.33333333333331,197.85999999999999L166.66666666666669,197.85999999999999L175,197.85999999999999L183.33333333333331,197.85999999999999L191.66666666666669,197.85999999999999L200,197.85999999999999\" stroke=\"#2ca02c\" stroke-width=\"2\"></path></g></g><path class=\"foreground\" aria-hidden=\"true\" d=\"\" display=\"none\"></path></g><g transform=\"translate(0,0)\"><path class=\"background\" aria-hidden=\"true\" d=\"M0,0h200v200h-200Z\"></path><g><g class=\"mark-line role-mark marks\" role=\"graphics-object\" aria-roledescription=\"line mark container\"><path aria-label=\"hour: 2401; gen_sum: 42; resource: hydroelectric_pumped_storage\" role=\"graphics-symbol\" aria-roledescription=\"line mark\" d=\"M8.333333333333332,195.79999999999998L16.666666666666664,195.79999999999998L25,195.79999999999998L33.33333333333333,195.79999999999998L41.66666666666667,195.79999999999998L50,195.79999999999998L58.333333333333336,195.79999999999998L66.66666666666666,195.79999999999998L75,195.79999999999998L83.33333333333334,195.79999999999998L91.66666666666666,195.79999999999998L100,195.79999999999998L108.33333333333333,195.79999999999998L116.66666666666667,195.79999999999998L125,195.79999999999998L133.33333333333331,195.79999999999998L141.66666666666669,195.79999999999998L150,195.79999999999998L158.33333333333331,195.79999999999998L166.66666666666669,195.79999999999998L175,195.79999999999998L183.33333333333331,195.79999999999998L191.66666666666669,195.79999999999998L200,195.79999999999998\" stroke=\"#98df8a\" stroke-width=\"2\"></path></g></g><path class=\"foreground\" aria-hidden=\"true\" d=\"\" display=\"none\"></path></g><g transform=\"translate(0,0)\"><path class=\"background\" aria-hidden=\"true\" d=\"M0,0h200v200h-200Z\"></path><g><g class=\"mark-line role-mark marks\" role=\"graphics-object\" aria-roledescription=\"line mark container\"><path aria-label=\"hour: 2401; gen_sum: 1385.106268; resource: natural_gas_fired_combined_cycle\" role=\"graphics-symbol\" aria-roledescription=\"line mark\" d=\"M8.333333333333332,61.48937320000001L16.666666666666664,68.33782120000001L25,66.3695332L33.33333333333333,60.51378920000001L41.66666666666667,41.41622120000002L50,22.976189199999997L58.333333333333336,7.14999999999999L66.66666666666666,7.14999999999999L75,7.14999999999999L83.33333333333334,7.14999999999999L91.66666666666666,7.14999999999999L100,7.14999999999999L108.33333333333333,7.14999999999999L116.66666666666667,7.14999999999999L125,7.14999999999999L133.33333333333331,7.14999999999999L141.66666666666669,7.14999999999999L150,7.14999999999999L158.33333333333331,7.14999999999999L166.66666666666669,7.14999999999999L175,7.14999999999999L183.33333333333331,7.14999999999999L191.66666666666669,20.505405200000016L200,45.10060520000001\" stroke=\"#d62728\" stroke-width=\"2\"></path></g></g><path class=\"foreground\" aria-hidden=\"true\" d=\"\" display=\"none\"></path></g><g transform=\"translate(0,0)\"><path class=\"background\" aria-hidden=\"true\" d=\"M0,0h200v200h-200Z\"></path><g><g class=\"mark-line role-mark marks\" role=\"graphics-object\" aria-roledescription=\"line mark container\"><path aria-label=\"hour: 2401; gen_sum: 0; resource: natural_gas_fired_combustion_turbine\" role=\"graphics-symbol\" aria-roledescription=\"line mark\" d=\"M8.333333333333332,200L16.666666666666664,200L25,200L33.33333333333333,200L41.66666666666667,200L50,200L58.333333333333336,182.2914772L66.66666666666666,155.8008372L75,156.32410920000004L83.33333333333334,139.14958920000004L91.66666666666666,128.32285320000003L100,143.11450120000003L108.33333333333333,162.64783719999997L116.66666666666667,171.65274119999995L125,177.83560520000003L133.33333333333331,186.32454919999998L141.66666666666669,186.41702120000002L150,186.15038120000003L158.33333333333331,169.35506120000002L166.66666666666669,155.5513412L175,156.10017319999997L183.33333333333331,183.3133572L191.66666666666669,200L200,200\" stroke=\"#ff9896\" stroke-width=\"2\"></path></g></g><path class=\"foreground\" aria-hidden=\"true\" d=\"\" display=\"none\"></path></g></g><g class=\"mark-group role-legend\" role=\"graphics-symbol\" aria-roledescription=\"legend\" aria-label=\"Symbol legend titled 'resource' for stroke color with 8 values: _onshore_wind_turbine, _small_hydroelectric, _solar_photovoltaic, _solar_photovoltaic_btm, biomass, ending with natural_gas_fired_combustion_turbine\"><g transform=\"translate(220,0)\"><path class=\"background\" aria-hidden=\"true\" d=\"M0,0h175v118h-175Z\" pointer-events=\"none\"></path><g><g class=\"mark-group role-legend-entry\"><g transform=\"translate(0,16)\"><path class=\"background\" aria-hidden=\"true\" d=\"M0,0h0v0h0Z\" pointer-events=\"none\"></path><g><g class=\"mark-group role-scope\" role=\"graphics-object\" aria-roledescription=\"group mark container\"><g transform=\"translate(0,0)\"><path class=\"background\" aria-hidden=\"true\" d=\"M0,0h175v11h-175Z\" pointer-events=\"none\" opacity=\"1\"></path><g><g class=\"mark-symbol role-legend-symbol\" pointer-events=\"none\"><path transform=\"translate(6,6)\" d=\"M-5,0L5,0\" stroke=\"#1f77b4\" stroke-width=\"1.5\" opacity=\"1\"></path></g><g class=\"mark-text role-legend-label\" pointer-events=\"none\"><text text-anchor=\"start\" transform=\"translate(16,9)\" font-family=\"sans-serif\" font-size=\"10px\" fill=\"#000\" opacity=\"1\">_onshore_wind_turbine</text></g></g><path class=\"foreground\" aria-hidden=\"true\" d=\"\" pointer-events=\"none\" display=\"none\"></path></g><g transform=\"translate(0,13)\"><path class=\"background\" aria-hidden=\"true\" d=\"M0,0h175v11h-175Z\" pointer-events=\"none\" opacity=\"1\"></path><g><g class=\"mark-symbol role-legend-symbol\" pointer-events=\"none\"><path transform=\"translate(6,6)\" d=\"M-5,0L5,0\" stroke=\"#aec7e8\" stroke-width=\"1.5\" opacity=\"1\"></path></g><g class=\"mark-text role-legend-label\" pointer-events=\"none\"><text text-anchor=\"start\" transform=\"translate(16,9)\" font-family=\"sans-serif\" font-size=\"10px\" fill=\"#000\" opacity=\"1\">_small_hydroelectric</text></g></g><path class=\"foreground\" aria-hidden=\"true\" d=\"\" pointer-events=\"none\" display=\"none\"></path></g><g transform=\"translate(0,26)\"><path class=\"background\" aria-hidden=\"true\" d=\"M0,0h175v11h-175Z\" pointer-events=\"none\" opacity=\"1\"></path><g><g class=\"mark-symbol role-legend-symbol\" pointer-events=\"none\"><path transform=\"translate(6,6)\" d=\"M-5,0L5,0\" stroke=\"#ff7f0e\" stroke-width=\"1.5\" opacity=\"1\"></path></g><g class=\"mark-text role-legend-label\" pointer-events=\"none\"><text text-anchor=\"start\" transform=\"translate(16,9)\" font-family=\"sans-serif\" font-size=\"10px\" fill=\"#000\" opacity=\"1\">_solar_photovoltaic</text></g></g><path class=\"foreground\" aria-hidden=\"true\" d=\"\" pointer-events=\"none\" display=\"none\"></path></g><g transform=\"translate(0,39)\"><path class=\"background\" aria-hidden=\"true\" d=\"M0,0h175v11h-175Z\" pointer-events=\"none\" opacity=\"1\"></path><g><g class=\"mark-symbol role-legend-symbol\" pointer-events=\"none\"><path transform=\"translate(6,6)\" d=\"M-5,0L5,0\" stroke=\"#ffbb78\" stroke-width=\"1.5\" opacity=\"1\"></path></g><g class=\"mark-text role-legend-label\" pointer-events=\"none\"><text text-anchor=\"start\" transform=\"translate(16,9)\" font-family=\"sans-serif\" font-size=\"10px\" fill=\"#000\" opacity=\"1\">_solar_photovoltaic_btm</text></g></g><path class=\"foreground\" aria-hidden=\"true\" d=\"\" pointer-events=\"none\" display=\"none\"></path></g><g transform=\"translate(0,52)\"><path class=\"background\" aria-hidden=\"true\" d=\"M0,0h175v11h-175Z\" pointer-events=\"none\" opacity=\"1\"></path><g><g class=\"mark-symbol role-legend-symbol\" pointer-events=\"none\"><path transform=\"translate(6,6)\" d=\"M-5,0L5,0\" stroke=\"#2ca02c\" stroke-width=\"1.5\" opacity=\"1\"></path></g><g class=\"mark-text role-legend-label\" pointer-events=\"none\"><text text-anchor=\"start\" transform=\"translate(16,9)\" font-family=\"sans-serif\" font-size=\"10px\" fill=\"#000\" opacity=\"1\">biomass</text></g></g><path class=\"foreground\" aria-hidden=\"true\" d=\"\" pointer-events=\"none\" display=\"none\"></path></g><g transform=\"translate(0,65)\"><path class=\"background\" aria-hidden=\"true\" d=\"M0,0h175v11h-175Z\" pointer-events=\"none\" opacity=\"1\"></path><g><g class=\"mark-symbol role-legend-symbol\" pointer-events=\"none\"><path transform=\"translate(6,6)\" d=\"M-5,0L5,0\" stroke=\"#98df8a\" stroke-width=\"1.5\" opacity=\"1\"></path></g><g class=\"mark-text role-legend-label\" pointer-events=\"none\"><text text-anchor=\"start\" transform=\"translate(16,9)\" font-family=\"sans-serif\" font-size=\"10px\" fill=\"#000\" opacity=\"1\">hydroelectric_pumped_storage</text></g></g><path class=\"foreground\" aria-hidden=\"true\" d=\"\" pointer-events=\"none\" display=\"none\"></path></g><g transform=\"translate(0,78)\"><path class=\"background\" aria-hidden=\"true\" d=\"M0,0h175v11h-175Z\" pointer-events=\"none\" opacity=\"1\"></path><g><g class=\"mark-symbol role-legend-symbol\" pointer-events=\"none\"><path transform=\"translate(6,6)\" d=\"M-5,0L5,0\" stroke=\"#d62728\" stroke-width=\"1.5\" opacity=\"1\"></path></g><g class=\"mark-text role-legend-label\" pointer-events=\"none\"><text text-anchor=\"start\" transform=\"translate(16,9)\" font-family=\"sans-serif\" font-size=\"10px\" fill=\"#000\" opacity=\"1\">natural_gas_fired_combined_cy…</text></g></g><path class=\"foreground\" aria-hidden=\"true\" d=\"\" pointer-events=\"none\" display=\"none\"></path></g><g transform=\"translate(0,91)\"><path class=\"background\" aria-hidden=\"true\" d=\"M0,0h175v11h-175Z\" pointer-events=\"none\" opacity=\"1\"></path><g><g class=\"mark-symbol role-legend-symbol\" pointer-events=\"none\"><path transform=\"translate(6,6)\" d=\"M-5,0L5,0\" stroke=\"#ff9896\" stroke-width=\"1.5\" opacity=\"1\"></path></g><g class=\"mark-text role-legend-label\" pointer-events=\"none\"><text text-anchor=\"start\" transform=\"translate(16,9)\" font-family=\"sans-serif\" font-size=\"10px\" fill=\"#000\" opacity=\"1\">natural_gas_fired_combustion_t…</text></g></g><path class=\"foreground\" aria-hidden=\"true\" d=\"\" pointer-events=\"none\" display=\"none\"></path></g></g></g><path class=\"foreground\" aria-hidden=\"true\" d=\"\" pointer-events=\"none\" display=\"none\"></path></g></g><g class=\"mark-text role-legend-title\" pointer-events=\"none\"><text text-anchor=\"start\" transform=\"translate(0,9)\" font-family=\"sans-serif\" font-size=\"11px\" font-weight=\"bold\" fill=\"#000\" opacity=\"1\">resource</text></g></g><path class=\"foreground\" aria-hidden=\"true\" d=\"\" pointer-events=\"none\" display=\"none\"></path></g></g></g><path class=\"foreground\" aria-hidden=\"true\" d=\"\" display=\"none\"></path></g></g></g></svg>\n"
      ],
      "text/plain": [
       "@vlplot(\n",
       "    mark=\"line\",\n",
       "    encoding={\n",
       "        x={\n",
       "            field=\"hour\"\n",
       "        },\n",
       "        y={\n",
       "            field=\"gen_sum\"\n",
       "        },\n",
       "        color={\n",
       "            scale={\n",
       "                scheme=\"category20\"\n",
       "            },\n",
       "            field=\"resource\",\n",
       "            type=\"nominal\"\n",
       "        }\n",
       "    },\n",
       "    data={\n",
       "        values=...\n",
       "    }\n",
       ")"
      ]
     },
     "execution_count": 18,
     "metadata": {},
     "output_type": "execute_result"
    }
   ],
   "source": [
    "sol_gen_btm |>\n",
    "@vlplot(:line, \n",
    "    x=:hour, y=:gen_sum, \n",
    "    color={\"resource:n\", scale={scheme=\"category20\"}})\n"
   ]
  },
  {
   "cell_type": "code",
   "execution_count": 19,
   "metadata": {},
   "outputs": [
    {
     "data": {
      "application/vnd.vegalite.v4+json": {
       "data": {
        "values": [
         {
          "gen_sum": 163.3088,
          "hour": 2401,
          "resource": "_onshore_wind_turbine"
         },
         {
          "gen_sum": 3.184932,
          "hour": 2401,
          "resource": "_small_hydroelectric"
         },
         {
          "gen_sum": 0,
          "hour": 2401,
          "resource": "_solar_photovoltaic"
         },
         {
          "gen_sum": 0,
          "hour": 2401,
          "resource": "_solar_photovoltaic_btm"
         },
         {
          "gen_sum": 21.4,
          "hour": 2401,
          "resource": "biomass"
         },
         {
          "gen_sum": 42,
          "hour": 2401,
          "resource": "hydroelectric_pumped_storage"
         },
         {
          "gen_sum": 1385.106268,
          "hour": 2401,
          "resource": "natural_gas_fired_combined_cycle"
         },
         {
          "gen_sum": 0,
          "hour": 2401,
          "resource": "natural_gas_fired_combustion_turbine"
         },
         {
          "gen_sum": 169.79327999999998,
          "hour": 2402,
          "resource": "_onshore_wind_turbine"
         },
         {
          "gen_sum": 3.184932,
          "hour": 2402,
          "resource": "_small_hydroelectric"
         },
         {
          "gen_sum": 0,
          "hour": 2402,
          "resource": "_solar_photovoltaic"
         },
         {
          "gen_sum": 0,
          "hour": 2402,
          "resource": "_solar_photovoltaic_btm"
         },
         {
          "gen_sum": 21.4,
          "hour": 2402,
          "resource": "biomass"
         },
         {
          "gen_sum": 42,
          "hour": 2402,
          "resource": "hydroelectric_pumped_storage"
         },
         {
          "gen_sum": 1316.621788,
          "hour": 2402,
          "resource": "natural_gas_fired_combined_cycle"
         },
         {
          "gen_sum": 0,
          "hour": 2402,
          "resource": "natural_gas_fired_combustion_turbine"
         },
         {
          "gen_sum": 115.1104,
          "hour": 2403,
          "resource": "_onshore_wind_turbine"
         },
         {
          "gen_sum": 3.184932,
          "hour": 2403,
          "resource": "_small_hydroelectric"
         },
         {
          "gen_sum": 0,
          "hour": 2403,
          "resource": "_solar_photovoltaic"
         },
         {
          "gen_sum": 0,
          "hour": 2403,
          "resource": "_solar_photovoltaic_btm"
         },
         {
          "gen_sum": 21.4,
          "hour": 2403,
          "resource": "biomass"
         },
         {
          "gen_sum": 42,
          "hour": 2403,
          "resource": "hydroelectric_pumped_storage"
         },
         {
          "gen_sum": 1336.304668,
          "hour": 2403,
          "resource": "natural_gas_fired_combined_cycle"
         },
         {
          "gen_sum": 0,
          "hour": 2403,
          "resource": "natural_gas_fired_combustion_turbine"
         },
         {
          "gen_sum": 100.55296,
          "hour": 2404,
          "resource": "_onshore_wind_turbine"
         },
         {
          "gen_sum": 3.184932,
          "hour": 2404,
          "resource": "_small_hydroelectric"
         },
         {
          "gen_sum": 0,
          "hour": 2404,
          "resource": "_solar_photovoltaic"
         },
         {
          "gen_sum": 0,
          "hour": 2404,
          "resource": "_solar_photovoltaic_btm"
         },
         {
          "gen_sum": 21.4,
          "hour": 2404,
          "resource": "biomass"
         },
         {
          "gen_sum": 42,
          "hour": 2404,
          "resource": "hydroelectric_pumped_storage"
         },
         {
          "gen_sum": 1394.8621079999998,
          "hour": 2404,
          "resource": "natural_gas_fired_combined_cycle"
         },
         {
          "gen_sum": 0,
          "hour": 2404,
          "resource": "natural_gas_fired_combustion_turbine"
         },
         {
          "gen_sum": 80.57728000000009,
          "hour": 2405,
          "resource": "_onshore_wind_turbine"
         },
         {
          "gen_sum": 3.184932,
          "hour": 2405,
          "resource": "_small_hydroelectric"
         },
         {
          "gen_sum": 0,
          "hour": 2405,
          "resource": "_solar_photovoltaic"
         },
         {
          "gen_sum": 0,
          "hour": 2405,
          "resource": "_solar_photovoltaic_btm"
         },
         {
          "gen_sum": 21.4,
          "hour": 2405,
          "resource": "biomass"
         },
         {
          "gen_sum": 42,
          "hour": 2405,
          "resource": "hydroelectric_pumped_storage"
         },
         {
          "gen_sum": 1585.8377879999998,
          "hour": 2405,
          "resource": "natural_gas_fired_combined_cycle"
         },
         {
          "gen_sum": 0,
          "hour": 2405,
          "resource": "natural_gas_fired_combustion_turbine"
         },
         {
          "gen_sum": 139.17695999999998,
          "hour": 2406,
          "resource": "_onshore_wind_turbine"
         },
         {
          "gen_sum": 3.184932,
          "hour": 2406,
          "resource": "_small_hydroelectric"
         },
         {
          "gen_sum": 0,
          "hour": 2406,
          "resource": "_solar_photovoltaic"
         },
         {
          "gen_sum": 0,
          "hour": 2406,
          "resource": "_solar_photovoltaic_btm"
         },
         {
          "gen_sum": 21.4,
          "hour": 2406,
          "resource": "biomass"
         },
         {
          "gen_sum": 42,
          "hour": 2406,
          "resource": "hydroelectric_pumped_storage"
         },
         {
          "gen_sum": 1770.238108,
          "hour": 2406,
          "resource": "natural_gas_fired_combined_cycle"
         },
         {
          "gen_sum": 0,
          "hour": 2406,
          "resource": "natural_gas_fired_combustion_turbine"
         },
         {
          "gen_sum": 74.17983999999979,
          "hour": 2407,
          "resource": "_onshore_wind_turbine"
         },
         {
          "gen_sum": 3.184932,
          "hour": 2407,
          "resource": "_small_hydroelectric"
         },
         {
          "gen_sum": 27.650000000000208,
          "hour": 2407,
          "resource": "_solar_photovoltaic"
         },
         {
          "gen_sum": 33.18,
          "hour": 2407,
          "resource": "_solar_photovoltaic_btm"
         },
         {
          "gen_sum": 21.4,
          "hour": 2407,
          "resource": "biomass"
         },
         {
          "gen_sum": 42,
          "hour": 2407,
          "resource": "hydroelectric_pumped_storage"
         },
         {
          "gen_sum": 1928.5,
          "hour": 2407,
          "resource": "natural_gas_fired_combined_cycle"
         },
         {
          "gen_sum": 177.08522799999992,
          "hour": 2407,
          "resource": "natural_gas_fired_combustion_turbine"
         },
         {
          "gen_sum": 49.37343999999953,
          "hour": 2408,
          "resource": "_onshore_wind_turbine"
         },
         {
          "gen_sum": 3.184932000000117,
          "hour": 2408,
          "resource": "_small_hydroelectric"
         },
         {
          "gen_sum": 110.55000000000018,
          "hour": 2408,
          "resource": "_solar_photovoltaic"
         },
         {
          "gen_sum": 132.66,
          "hour": 2408,
          "resource": "_solar_photovoltaic_btm"
         },
         {
          "gen_sum": 21.4,
          "hour": 2408,
          "resource": "biomass"
         },
         {
          "gen_sum": 42,
          "hour": 2408,
          "resource": "hydroelectric_pumped_storage"
         },
         {
          "gen_sum": 1928.5,
          "hour": 2408,
          "resource": "natural_gas_fired_combined_cycle"
         },
         {
          "gen_sum": 441.99162800000005,
          "hour": 2408,
          "resource": "natural_gas_fired_combustion_turbine"
         },
         {
          "gen_sum": 167.35616000000016,
          "hour": 2409,
          "resource": "_onshore_wind_turbine"
         },
         {
          "gen_sum": 3.184932,
          "hour": 2409,
          "resource": "_small_hydroelectric"
         },
         {
          "gen_sum": 238.80000000000007,
          "hour": 2409,
          "resource": "_solar_photovoltaic"
         },
         {
          "gen_sum": 286.56,
          "hour": 2409,
          "resource": "_solar_photovoltaic_btm"
         },
         {
          "gen_sum": 21.4,
          "hour": 2409,
          "resource": "biomass"
         },
         {
          "gen_sum": 42,
          "hour": 2409,
          "resource": "hydroelectric_pumped_storage"
         },
         {
          "gen_sum": 1928.5,
          "hour": 2409,
          "resource": "natural_gas_fired_combined_cycle"
         },
         {
          "gen_sum": 436.7589079999996,
          "hour": 2409,
          "resource": "natural_gas_fired_combustion_turbine"
         },
         {
          "gen_sum": 131.56096,
          "hour": 2410,
          "resource": "_onshore_wind_turbine"
         },
         {
          "gen_sum": 3.184932,
          "hour": 2410,
          "resource": "_small_hydroelectric"
         },
         {
          "gen_sum": 287.85000000000014,
          "hour": 2410,
          "resource": "_solar_photovoltaic"
         },
         {
          "gen_sum": 345.42,
          "hour": 2410,
          "resource": "_solar_photovoltaic_btm"
         },
         {
          "gen_sum": 21.4,
          "hour": 2410,
          "resource": "biomass"
         },
         {
          "gen_sum": 42,
          "hour": 2410,
          "resource": "hydroelectric_pumped_storage"
         },
         {
          "gen_sum": 1928.5,
          "hour": 2410,
          "resource": "natural_gas_fired_combined_cycle"
         },
         {
          "gen_sum": 608.5041079999995,
          "hour": 2410,
          "resource": "natural_gas_fired_combustion_turbine"
         },
         {
          "gen_sum": 111.1936,
          "hour": 2411,
          "resource": "_onshore_wind_turbine"
         },
         {
          "gen_sum": 3.184932,
          "hour": 2411,
          "resource": "_small_hydroelectric"
         },
         {
          "gen_sum": 301.95,
          "hour": 2411,
          "resource": "_solar_photovoltaic"
         },
         {
          "gen_sum": 362.34,
          "hour": 2411,
          "resource": "_solar_photovoltaic_btm"
         },
         {
          "gen_sum": 21.4,
          "hour": 2411,
          "resource": "biomass"
         },
         {
          "gen_sum": 42,
          "hour": 2411,
          "resource": "hydroelectric_pumped_storage"
         },
         {
          "gen_sum": 1928.5,
          "hour": 2411,
          "resource": "natural_gas_fired_combined_cycle"
         },
         {
          "gen_sum": 716.7714679999998,
          "hour": 2411,
          "resource": "natural_gas_fired_combustion_turbine"
         },
         {
          "gen_sum": 92.11008,
          "hour": 2412,
          "resource": "_onshore_wind_turbine"
         },
         {
          "gen_sum": 3.184932,
          "hour": 2412,
          "resource": "_small_hydroelectric"
         },
         {
          "gen_sum": 306.95,
          "hour": 2412,
          "resource": "_solar_photovoltaic"
         },
         {
          "gen_sum": 368.34,
          "hour": 2412,
          "resource": "_solar_photovoltaic_btm"
         },
         {
          "gen_sum": 21.4,
          "hour": 2412,
          "resource": "biomass"
         },
         {
          "gen_sum": 42,
          "hour": 2412,
          "resource": "hydroelectric_pumped_storage"
         },
         {
          "gen_sum": 1928.5,
          "hour": 2412,
          "resource": "natural_gas_fired_combined_cycle"
         },
         {
          "gen_sum": 568.8549879999997,
          "hour": 2412,
          "resource": "natural_gas_fired_combustion_turbine"
         },
         {
          "gen_sum": 52.0934399999996,
          "hour": 2413,
          "resource": "_onshore_wind_turbine"
         },
         {
          "gen_sum": 3.184932,
          "hour": 2413,
          "resource": "_small_hydroelectric"
         },
         {
          "gen_sum": 322.3000000000002,
          "hour": 2413,
          "resource": "_solar_photovoltaic"
         },
         {
          "gen_sum": 386.76,
          "hour": 2413,
          "resource": "_solar_photovoltaic_btm"
         },
         {
          "gen_sum": 21.4,
          "hour": 2413,
          "resource": "biomass"
         },
         {
          "gen_sum": 42,
          "hour": 2413,
          "resource": "hydroelectric_pumped_storage"
         },
         {
          "gen_sum": 1928.5,
          "hour": 2413,
          "resource": "natural_gas_fired_combined_cycle"
         },
         {
          "gen_sum": 373.5216280000001,
          "hour": 2413,
          "resource": "natural_gas_fired_combustion_turbine"
         },
         {
          "gen_sum": 64.69247999999996,
          "hour": 2414,
          "resource": "_onshore_wind_turbine"
         },
         {
          "gen_sum": 3.184932,
          "hour": 2414,
          "resource": "_small_hydroelectric"
         },
         {
          "gen_sum": 322.74999999999966,
          "hour": 2414,
          "resource": "_solar_photovoltaic"
         },
         {
          "gen_sum": 387.29999999999995,
          "hour": 2414,
          "resource": "_solar_photovoltaic_btm"
         },
         {
          "gen_sum": 21.4,
          "hour": 2414,
          "resource": "biomass"
         },
         {
          "gen_sum": 42,
          "hour": 2414,
          "resource": "hydroelectric_pumped_storage"
         },
         {
          "gen_sum": 1928.5,
          "hour": 2414,
          "resource": "natural_gas_fired_combined_cycle"
         },
         {
          "gen_sum": 283.4725880000003,
          "hour": 2414,
          "resource": "natural_gas_fired_combustion_turbine"
         },
         {
          "gen_sum": 49.22112,
          "hour": 2415,
          "resource": "_onshore_wind_turbine"
         },
         {
          "gen_sum": 3.184932,
          "hour": 2415,
          "resource": "_small_hydroelectric"
         },
         {
          "gen_sum": 312.05000000000035,
          "hour": 2415,
          "resource": "_solar_photovoltaic"
         },
         {
          "gen_sum": 374.46,
          "hour": 2415,
          "resource": "_solar_photovoltaic_btm"
         },
         {
          "gen_sum": 21.4,
          "hour": 2415,
          "resource": "biomass"
         },
         {
          "gen_sum": 42,
          "hour": 2415,
          "resource": "hydroelectric_pumped_storage"
         },
         {
          "gen_sum": 1928.5,
          "hour": 2415,
          "resource": "natural_gas_fired_combined_cycle"
         },
         {
          "gen_sum": 221.64394799999954,
          "hour": 2415,
          "resource": "natural_gas_fired_combustion_turbine"
         },
         {
          "gen_sum": 65.41055999999963,
          "hour": 2416,
          "resource": "_onshore_wind_turbine"
         },
         {
          "gen_sum": 3.184932,
          "hour": 2416,
          "resource": "_small_hydroelectric"
         },
         {
          "gen_sum": 284.7500000000002,
          "hour": 2416,
          "resource": "_solar_photovoltaic"
         },
         {
          "gen_sum": 341.7,
          "hour": 2416,
          "resource": "_solar_photovoltaic_btm"
         },
         {
          "gen_sum": 21.4,
          "hour": 2416,
          "resource": "biomass"
         },
         {
          "gen_sum": 42,
          "hour": 2416,
          "resource": "hydroelectric_pumped_storage"
         },
         {
          "gen_sum": 1928.5,
          "hour": 2416,
          "resource": "natural_gas_fired_combined_cycle"
         },
         {
          "gen_sum": 136.75450800000007,
          "hour": 2416,
          "resource": "natural_gas_fired_combustion_turbine"
         },
         {
          "gen_sum": 57.18528000000022,
          "hour": 2417,
          "resource": "_onshore_wind_turbine"
         },
         {
          "gen_sum": 3.184932,
          "hour": 2417,
          "resource": "_small_hydroelectric"
         },
         {
          "gen_sum": 233.90000000000015,
          "hour": 2417,
          "resource": "_solar_photovoltaic"
         },
         {
          "gen_sum": 280.68,
          "hour": 2417,
          "resource": "_solar_photovoltaic_btm"
         },
         {
          "gen_sum": 21.4,
          "hour": 2417,
          "resource": "biomass"
         },
         {
          "gen_sum": 42,
          "hour": 2417,
          "resource": "hydroelectric_pumped_storage"
         },
         {
          "gen_sum": 1928.5,
          "hour": 2417,
          "resource": "natural_gas_fired_combined_cycle"
         },
         {
          "gen_sum": 135.82978799999955,
          "hour": 2417,
          "resource": "natural_gas_fired_combustion_turbine"
         },
         {
          "gen_sum": 78.61888000000002,
          "hour": 2418,
          "resource": "_onshore_wind_turbine"
         },
         {
          "gen_sum": 3.184932,
          "hour": 2418,
          "resource": "_small_hydroelectric"
         },
         {
          "gen_sum": 161.8000000000002,
          "hour": 2418,
          "resource": "_solar_photovoltaic"
         },
         {
          "gen_sum": 194.16,
          "hour": 2418,
          "resource": "_solar_photovoltaic_btm"
         },
         {
          "gen_sum": 21.4,
          "hour": 2418,
          "resource": "biomass"
         },
         {
          "gen_sum": 42,
          "hour": 2418,
          "resource": "hydroelectric_pumped_storage"
         },
         {
          "gen_sum": 1928.5,
          "hour": 2418,
          "resource": "natural_gas_fired_combined_cycle"
         },
         {
          "gen_sum": 138.4961879999997,
          "hour": 2418,
          "resource": "natural_gas_fired_combustion_turbine"
         },
         {
          "gen_sum": 52.61567999999997,
          "hour": 2419,
          "resource": "_onshore_wind_turbine"
         },
         {
          "gen_sum": 3.184932,
          "hour": 2419,
          "resource": "_small_hydroelectric"
         },
         {
          "gen_sum": 23.849999999999902,
          "hour": 2419,
          "resource": "_solar_photovoltaic"
         },
         {
          "gen_sum": 28.62,
          "hour": 2419,
          "resource": "_solar_photovoltaic_btm"
         },
         {
          "gen_sum": 21.4,
          "hour": 2419,
          "resource": "biomass"
         },
         {
          "gen_sum": 42,
          "hour": 2419,
          "resource": "hydroelectric_pumped_storage"
         },
         {
          "gen_sum": 1928.5,
          "hour": 2419,
          "resource": "natural_gas_fired_combined_cycle"
         },
         {
          "gen_sum": 306.449388,
          "hour": 2419,
          "resource": "natural_gas_fired_combustion_turbine"
         },
         {
          "gen_sum": 61.42847999999982,
          "hour": 2420,
          "resource": "_onshore_wind_turbine"
         },
         {
          "gen_sum": 3.184932,
          "hour": 2420,
          "resource": "_small_hydroelectric"
         },
         {
          "gen_sum": 0,
          "hour": 2420,
          "resource": "_solar_photovoltaic"
         },
         {
          "gen_sum": 0,
          "hour": 2420,
          "resource": "_solar_photovoltaic_btm"
         },
         {
          "gen_sum": 21.4,
          "hour": 2420,
          "resource": "biomass"
         },
         {
          "gen_sum": 42,
          "hour": 2420,
          "resource": "hydroelectric_pumped_storage"
         },
         {
          "gen_sum": 1928.5,
          "hour": 2420,
          "resource": "natural_gas_fired_combined_cycle"
         },
         {
          "gen_sum": 444.48658800000004,
          "hour": 2420,
          "resource": "natural_gas_fired_combustion_turbine"
         },
         {
          "gen_sum": 71.91679999999975,
          "hour": 2421,
          "resource": "_onshore_wind_turbine"
         },
         {
          "gen_sum": 3.184932,
          "hour": 2421,
          "resource": "_small_hydroelectric"
         },
         {
          "gen_sum": 0,
          "hour": 2421,
          "resource": "_solar_photovoltaic"
         },
         {
          "gen_sum": 0,
          "hour": 2421,
          "resource": "_solar_photovoltaic_btm"
         },
         {
          "gen_sum": 21.4,
          "hour": 2421,
          "resource": "biomass"
         },
         {
          "gen_sum": 42,
          "hour": 2421,
          "resource": "hydroelectric_pumped_storage"
         },
         {
          "gen_sum": 1928.5,
          "hour": 2421,
          "resource": "natural_gas_fired_combined_cycle"
         },
         {
          "gen_sum": 438.9982680000001,
          "hour": 2421,
          "resource": "natural_gas_fired_combustion_turbine"
         },
         {
          "gen_sum": 96.04863999999998,
          "hour": 2422,
          "resource": "_onshore_wind_turbine"
         },
         {
          "gen_sum": 3.184932,
          "hour": 2422,
          "resource": "_small_hydroelectric"
         },
         {
          "gen_sum": 0,
          "hour": 2422,
          "resource": "_solar_photovoltaic"
         },
         {
          "gen_sum": 0,
          "hour": 2422,
          "resource": "_solar_photovoltaic_btm"
         },
         {
          "gen_sum": 21.4,
          "hour": 2422,
          "resource": "biomass"
         },
         {
          "gen_sum": 42,
          "hour": 2422,
          "resource": "hydroelectric_pumped_storage"
         },
         {
          "gen_sum": 1928.5,
          "hour": 2422,
          "resource": "natural_gas_fired_combined_cycle"
         },
         {
          "gen_sum": 166.86642799999993,
          "hour": 2422,
          "resource": "natural_gas_fired_combustion_turbine"
         },
         {
          "gen_sum": 126.46912,
          "hour": 2423,
          "resource": "_onshore_wind_turbine"
         },
         {
          "gen_sum": 3.184932,
          "hour": 2423,
          "resource": "_small_hydroelectric"
         },
         {
          "gen_sum": 0,
          "hour": 2423,
          "resource": "_solar_photovoltaic"
         },
         {
          "gen_sum": 0,
          "hour": 2423,
          "resource": "_solar_photovoltaic_btm"
         },
         {
          "gen_sum": 21.4,
          "hour": 2423,
          "resource": "biomass"
         },
         {
          "gen_sum": 42,
          "hour": 2423,
          "resource": "hydroelectric_pumped_storage"
         },
         {
          "gen_sum": 1794.9459479999998,
          "hour": 2423,
          "resource": "natural_gas_fired_combined_cycle"
         },
         {
          "gen_sum": 0,
          "hour": 2423,
          "resource": "natural_gas_fired_combustion_turbine"
         },
         {
          "gen_sum": 144.4211200000001,
          "hour": 2424,
          "resource": "_onshore_wind_turbine"
         },
         {
          "gen_sum": 3.184932,
          "hour": 2424,
          "resource": "_small_hydroelectric"
         },
         {
          "gen_sum": 0,
          "hour": 2424,
          "resource": "_solar_photovoltaic"
         },
         {
          "gen_sum": 0,
          "hour": 2424,
          "resource": "_solar_photovoltaic_btm"
         },
         {
          "gen_sum": 21.4,
          "hour": 2424,
          "resource": "biomass"
         },
         {
          "gen_sum": 42,
          "hour": 2424,
          "resource": "hydroelectric_pumped_storage"
         },
         {
          "gen_sum": 1548.9939479999998,
          "hour": 2424,
          "resource": "natural_gas_fired_combined_cycle"
         },
         {
          "gen_sum": 0,
          "hour": 2424,
          "resource": "natural_gas_fired_combustion_turbine"
         }
        ]
       },
       "encoding": {
        "color": {
         "field": "resource",
         "scale": {
          "scheme": "category20"
         },
         "type": "nominal"
        },
        "x": {
         "field": "hour",
         "type": "quantitative"
        },
        "y": {
         "field": "gen_sum",
         "stack": "zero",
         "type": "quantitative"
        }
       },
       "mark": "area"
      },
      "image/png": "[encoded data removed]",
      "image/svg+xml": [
       "<?xml version=\"1.0\" encoding=\"utf-8\"?>\n",
       "<!DOCTYPE svg PUBLIC \"-//W3C//DTD SVG 1.1//EN\" \"http://www.w3.org/Graphics/SVG/1.1/DTD/svg11.dtd\">\n",
       "<svg class=\"marks\" width=\"452\" height=\"247\" viewBox=\"0 0 452 247\" version=\"1.1\" xmlns=\"http://www.w3.org/2000/svg\" xmlns:xlink=\"http://www.w3.org/1999/xlink\"><rect width=\"452\" height=\"247\" fill=\"white\"></rect><g fill=\"none\" stroke-miterlimit=\"10\" transform=\"translate(54,10)\"><g class=\"mark-group role-frame root\" role=\"graphics-object\" aria-roledescription=\"group mark container\"><g transform=\"translate(0,0)\"><path class=\"background\" aria-hidden=\"true\" d=\"M0.5,0.5h200v200h-200Z\" stroke=\"#ddd\"></path><g><g class=\"mark-group role-axis\" aria-hidden=\"true\"><g transform=\"translate(0.5,200.5)\"><path class=\"background\" aria-hidden=\"true\" d=\"M0,0h0v0h0Z\" pointer-events=\"none\"></path><g><g class=\"mark-rule role-axis-grid\" pointer-events=\"none\"><line transform=\"translate(0,-200)\" x2=\"0\" y2=\"200\" stroke=\"#ddd\" stroke-width=\"1\" opacity=\"1\"></line><line transform=\"translate(42,-200)\" x2=\"0\" y2=\"200\" stroke=\"#ddd\" stroke-width=\"1\" opacity=\"1\"></line><line transform=\"translate(83,-200)\" x2=\"0\" y2=\"200\" stroke=\"#ddd\" stroke-width=\"1\" opacity=\"1\"></line><line transform=\"translate(125,-200)\" x2=\"0\" y2=\"200\" stroke=\"#ddd\" stroke-width=\"1\" opacity=\"1\"></line><line transform=\"translate(167,-200)\" x2=\"0\" y2=\"200\" stroke=\"#ddd\" stroke-width=\"1\" opacity=\"1\"></line></g></g><path class=\"foreground\" aria-hidden=\"true\" d=\"\" pointer-events=\"none\" display=\"none\"></path></g></g><g class=\"mark-group role-axis\" aria-hidden=\"true\"><g transform=\"translate(0.5,0.5)\"><path class=\"background\" aria-hidden=\"true\" d=\"M0,0h0v0h0Z\" pointer-events=\"none\"></path><g><g class=\"mark-rule role-axis-grid\" pointer-events=\"none\"><line transform=\"translate(0,200)\" x2=\"200\" y2=\"0\" stroke=\"#ddd\" stroke-width=\"1\" opacity=\"1\"></line><line transform=\"translate(0,171)\" x2=\"200\" y2=\"0\" stroke=\"#ddd\" stroke-width=\"1\" opacity=\"1\"></line><line transform=\"translate(0,143)\" x2=\"200\" y2=\"0\" stroke=\"#ddd\" stroke-width=\"1\" opacity=\"1\"></line><line transform=\"translate(0,114)\" x2=\"200\" y2=\"0\" stroke=\"#ddd\" stroke-width=\"1\" opacity=\"1\"></line><line transform=\"translate(0,86)\" x2=\"200\" y2=\"0\" stroke=\"#ddd\" stroke-width=\"1\" opacity=\"1\"></line><line transform=\"translate(0,57)\" x2=\"200\" y2=\"0\" stroke=\"#ddd\" stroke-width=\"1\" opacity=\"1\"></line><line transform=\"translate(0,29)\" x2=\"200\" y2=\"0\" stroke=\"#ddd\" stroke-width=\"1\" opacity=\"1\"></line><line transform=\"translate(0,0)\" x2=\"200\" y2=\"0\" stroke=\"#ddd\" stroke-width=\"1\" opacity=\"1\"></line></g></g><path class=\"foreground\" aria-hidden=\"true\" d=\"\" pointer-events=\"none\" display=\"none\"></path></g></g><g class=\"mark-group role-axis\" role=\"graphics-symbol\" aria-roledescription=\"axis\" aria-label=\"X-axis titled 'hour' for a linear scale with values from 2,400 to 2,424\"><g transform=\"translate(0.5,200.5)\"><path class=\"background\" aria-hidden=\"true\" d=\"M0,0h0v0h0Z\" pointer-events=\"none\"></path><g><g class=\"mark-rule role-axis-tick\" pointer-events=\"none\"><line transform=\"translate(0,0)\" x2=\"0\" y2=\"5\" stroke=\"#888\" stroke-width=\"1\" opacity=\"1\"></line><line transform=\"translate(42,0)\" x2=\"0\" y2=\"5\" stroke=\"#888\" stroke-width=\"1\" opacity=\"1\"></line><line transform=\"translate(83,0)\" x2=\"0\" y2=\"5\" stroke=\"#888\" stroke-width=\"1\" opacity=\"1\"></line><line transform=\"translate(125,0)\" x2=\"0\" y2=\"5\" stroke=\"#888\" stroke-width=\"1\" opacity=\"1\"></line><line transform=\"translate(167,0)\" x2=\"0\" y2=\"5\" stroke=\"#888\" stroke-width=\"1\" opacity=\"1\"></line></g><g class=\"mark-text role-axis-label\" pointer-events=\"none\"><text text-anchor=\"start\" transform=\"translate(0,15)\" font-family=\"sans-serif\" font-size=\"10px\" fill=\"#000\" opacity=\"1\">2,400</text><text text-anchor=\"middle\" transform=\"translate(41.66666666666667,15)\" font-family=\"sans-serif\" font-size=\"10px\" fill=\"#000\" opacity=\"1\">2,405</text><text text-anchor=\"middle\" transform=\"translate(83.33333333333334,15)\" font-family=\"sans-serif\" font-size=\"10px\" fill=\"#000\" opacity=\"1\">2,410</text><text text-anchor=\"middle\" transform=\"translate(125,15)\" font-family=\"sans-serif\" font-size=\"10px\" fill=\"#000\" opacity=\"1\">2,415</text><text text-anchor=\"middle\" transform=\"translate(166.66666666666669,15)\" font-family=\"sans-serif\" font-size=\"10px\" fill=\"#000\" opacity=\"1\">2,420</text></g><g class=\"mark-rule role-axis-domain\" pointer-events=\"none\"><line transform=\"translate(0,0)\" x2=\"200\" y2=\"0\" stroke=\"#888\" stroke-width=\"1\" opacity=\"1\"></line></g><g class=\"mark-text role-axis-title\" pointer-events=\"none\"><text text-anchor=\"middle\" transform=\"translate(100,30)\" font-family=\"sans-serif\" font-size=\"11px\" font-weight=\"bold\" fill=\"#000\" opacity=\"1\">hour</text></g></g><path class=\"foreground\" aria-hidden=\"true\" d=\"\" pointer-events=\"none\" display=\"none\"></path></g></g><g class=\"mark-group role-axis\" role=\"graphics-symbol\" aria-roledescription=\"axis\" aria-label=\"Y-axis titled 'gen_sum' for a linear scale with values from 0 to 3,500\"><g transform=\"translate(0.5,0.5)\"><path class=\"background\" aria-hidden=\"true\" d=\"M0,0h0v0h0Z\" pointer-events=\"none\"></path><g><g class=\"mark-rule role-axis-tick\" pointer-events=\"none\"><line transform=\"translate(0,200)\" x2=\"-5\" y2=\"0\" stroke=\"#888\" stroke-width=\"1\" opacity=\"1\"></line><line transform=\"translate(0,171)\" x2=\"-5\" y2=\"0\" stroke=\"#888\" stroke-width=\"1\" opacity=\"1\"></line><line transform=\"translate(0,143)\" x2=\"-5\" y2=\"0\" stroke=\"#888\" stroke-width=\"1\" opacity=\"1\"></line><line transform=\"translate(0,114)\" x2=\"-5\" y2=\"0\" stroke=\"#888\" stroke-width=\"1\" opacity=\"1\"></line><line transform=\"translate(0,86)\" x2=\"-5\" y2=\"0\" stroke=\"#888\" stroke-width=\"1\" opacity=\"1\"></line><line transform=\"translate(0,57)\" x2=\"-5\" y2=\"0\" stroke=\"#888\" stroke-width=\"1\" opacity=\"1\"></line><line transform=\"translate(0,29)\" x2=\"-5\" y2=\"0\" stroke=\"#888\" stroke-width=\"1\" opacity=\"1\"></line><line transform=\"translate(0,0)\" x2=\"-5\" y2=\"0\" stroke=\"#888\" stroke-width=\"1\" opacity=\"1\"></line></g><g class=\"mark-text role-axis-label\" pointer-events=\"none\"><text text-anchor=\"end\" transform=\"translate(-7,203)\" font-family=\"sans-serif\" font-size=\"10px\" fill=\"#000\" opacity=\"1\">0</text><text text-anchor=\"end\" transform=\"translate(-7,174.42857142857144)\" font-family=\"sans-serif\" font-size=\"10px\" fill=\"#000\" opacity=\"1\">500</text><text text-anchor=\"end\" transform=\"translate(-7,145.85714285714286)\" font-family=\"sans-serif\" font-size=\"10px\" fill=\"#000\" opacity=\"1\">1,000</text><text text-anchor=\"end\" transform=\"translate(-7,117.28571428571428)\" font-family=\"sans-serif\" font-size=\"10px\" fill=\"#000\" opacity=\"1\">1,500</text><text text-anchor=\"end\" transform=\"translate(-7,88.71428571428572)\" font-family=\"sans-serif\" font-size=\"10px\" fill=\"#000\" opacity=\"1\">2,000</text><text text-anchor=\"end\" transform=\"translate(-7,60.14285714285714)\" font-family=\"sans-serif\" font-size=\"10px\" fill=\"#000\" opacity=\"1\">2,500</text><text text-anchor=\"end\" transform=\"translate(-7,31.57142857142858)\" font-family=\"sans-serif\" font-size=\"10px\" fill=\"#000\" opacity=\"1\">3,000</text><text text-anchor=\"end\" transform=\"translate(-7,3)\" font-family=\"sans-serif\" font-size=\"10px\" fill=\"#000\" opacity=\"1\">3,500</text></g><g class=\"mark-rule role-axis-domain\" pointer-events=\"none\"><line transform=\"translate(0,200)\" x2=\"0\" y2=\"-200\" stroke=\"#888\" stroke-width=\"1\" opacity=\"1\"></line></g><g class=\"mark-text role-axis-title\" pointer-events=\"none\"><text text-anchor=\"middle\" transform=\"translate(-38,100) rotate(-90) translate(0,-2)\" font-family=\"sans-serif\" font-size=\"11px\" font-weight=\"bold\" fill=\"#000\" opacity=\"1\">gen_sum</text></g></g><path class=\"foreground\" aria-hidden=\"true\" d=\"\" pointer-events=\"none\" display=\"none\"></path></g></g><g class=\"mark-group role-scope pathgroup\" role=\"graphics-object\" aria-roledescription=\"group mark container\"><g transform=\"translate(0,0)\"><path class=\"background\" aria-hidden=\"true\" d=\"M0,0h200v200h-200Z\"></path><g><g class=\"mark-area role-mark marks\" role=\"graphics-object\" aria-roledescription=\"area mark container\"><path aria-label=\"hour: 2401; gen_sum: 163.3088; resource: _onshore_wind_turbine\" role=\"graphics-symbol\" aria-roledescription=\"area mark\" d=\"M8.333333333333332,107.71428571428572L16.666666666666664,111.25714285714285L25,113.25714285714285L33.33333333333333,110.74285714285716L41.66666666666667,100.97142857142858L50,87.08571428571427L58.333333333333336,68.16114285714288L66.66666666666666,44.01942857142858L75,21.453714285714256L83.33333333333334,7.518857142857138L91.66666666666666,0.7234285714285527L100,9.637714285714294L108.33333333333333,21.156571428571414L116.66666666666667,25.525714285714287L125,31.288000000000004L133.33333333333331,38.64571428571426L141.66666666666669,45.561142857142855L150,53.248000000000005L158.33333333333331,62.478857142857144L166.66666666666669,57.08571428571425L175,56.79999999999998L183.33333333333331,70.97142857142858L191.66666666666669,86.4L200,99.42857142857142L200,107.68120685714287L191.66666666666669,93.62680685714287L183.33333333333331,76.45992228571427L175,60.909531428571405L166.66666666666669,60.59591314285713L158.33333333333331,65.48546742857143L150,57.74050742857144L141.66666666666669,48.828873142857155L133.33333333333331,42.38346057142854L125,34.100635428571444L116.66666666666667,29.222427428571418L108.33333333333333,24.13333942857139L100,14.901147428571448L91.66666666666666,7.0773485714285655L83.33333333333334,15.036626285714272L75,31.01692342857143L66.66666666666666,46.84076799999997L58.333333333333336,72.39999085714285L50,95.03868342857143L41.66666666666667,105.57584457142859L33.33333333333333,116.4887405714286L25,119.83488L16.666666666666664,120.959616L8.333333333333332,117.04621714285715Z\" fill=\"#1f77b4\"></path></g></g><path class=\"foreground\" aria-hidden=\"true\" d=\"\" display=\"none\"></path></g><g transform=\"translate(0,0)\"><path class=\"background\" aria-hidden=\"true\" d=\"M0,0h200v200h-200Z\"></path><g><g class=\"mark-area role-mark marks\" role=\"graphics-object\" aria-roledescription=\"area mark container\"><path aria-label=\"hour: 2401; gen_sum: 3.184932; resource: _small_hydroelectric\" role=\"graphics-symbol\" aria-roledescription=\"area mark\" d=\"M8.333333333333332,117.04621714285715L16.666666666666664,120.959616L25,119.83488L33.33333333333333,116.4887405714286L41.66666666666667,105.57584457142859L50,95.03868342857143L58.333333333333336,72.39999085714285L66.66666666666666,46.84076799999997L75,31.01692342857143L83.33333333333334,15.036626285714272L91.66666666666666,7.0773485714285655L100,14.901147428571448L108.33333333333333,24.13333942857139L116.66666666666667,29.222427428571418L125,34.100635428571444L133.33333333333331,42.38346057142854L141.66666666666669,48.828873142857155L150,57.74050742857144L158.33333333333331,65.48546742857143L166.66666666666669,60.59591314285713L175,60.909531428571405L183.33333333333331,76.45992228571427L191.66666666666669,93.62680685714287L200,107.68120685714287L200,107.86320297142858L191.66666666666669,93.80880297142858L183.33333333333331,76.64191840000001L175,61.091527542857115L166.66666666666669,60.77790925714284L158.33333333333331,65.66746354285715L150,57.92250354285715L141.66666666666669,49.010869257142886L133.33333333333331,42.565456685714274L125,34.28263154285715L116.66666666666667,29.40442354285715L108.33333333333333,24.31533554285712L100,15.083143542857158L91.66666666666666,7.259344685714297L83.33333333333334,15.218622399999981L75,31.19891954285714L66.66666666666666,47.0227641142857L58.333333333333336,72.58198697142856L50,95.22067954285714L41.66666666666667,105.7578406857143L33.33333333333333,116.6707366857143L25,120.01687611428571L16.666666666666664,121.1416121142857L8.333333333333332,117.22821325714285Z\" fill=\"#aec7e8\"></path></g></g><path class=\"foreground\" aria-hidden=\"true\" d=\"\" display=\"none\"></path></g><g transform=\"translate(0,0)\"><path class=\"background\" aria-hidden=\"true\" d=\"M0,0h200v200h-200Z\"></path><g><g class=\"mark-area role-mark marks\" role=\"graphics-object\" aria-roledescription=\"area mark container\"><path aria-label=\"hour: 2401; gen_sum: 0; resource: _solar_photovoltaic\" role=\"graphics-symbol\" aria-roledescription=\"area mark\" d=\"M8.333333333333332,117.22821325714285L16.666666666666664,121.1416121142857L25,120.01687611428571L33.33333333333333,116.6707366857143L41.66666666666667,105.7578406857143L50,95.22067954285714L58.333333333333336,72.58198697142856L66.66666666666666,47.0227641142857L75,31.19891954285714L83.33333333333334,15.218622399999981L91.66666666666666,7.259344685714297L100,15.083143542857158L108.33333333333333,24.31533554285712L116.66666666666667,29.40442354285715L125,34.28263154285715L133.33333333333331,42.565456685714274L141.66666666666669,49.010869257142886L150,57.92250354285715L158.33333333333331,65.66746354285715L166.66666666666669,60.77790925714284L175,61.091527542857115L183.33333333333331,76.64191840000001L191.66666666666669,93.80880297142858L200,107.86320297142858L200,107.86320297142858L191.66666666666669,93.80880297142858L183.33333333333331,76.64191840000001L175,61.091527542857115L166.66666666666669,60.77790925714284L158.33333333333331,67.03032068571429L150,67.16821782857146L141.66666666666669,62.376583542857176L133.33333333333331,58.83688525714285L125,52.11406011428574L116.66666666666667,47.84728068571427L108.33333333333333,42.732478399999984L100,32.62314354285716L91.66666666666666,24.513630399999986L83.33333333333334,31.667193828571435L75,44.844633828571446L66.66666666666666,53.33990697142856L58.333333333333336,74.16198697142858L50,95.22067954285714L41.66666666666667,105.7578406857143L33.33333333333333,116.6707366857143L25,120.01687611428571L16.666666666666664,121.1416121142857L8.333333333333332,117.22821325714285Z\" fill=\"#ff7f0e\"></path></g></g><path class=\"foreground\" aria-hidden=\"true\" d=\"\" display=\"none\"></path></g><g transform=\"translate(0,0)\"><path class=\"background\" aria-hidden=\"true\" d=\"M0,0h200v200h-200Z\"></path><g><g class=\"mark-area role-mark marks\" role=\"graphics-object\" aria-roledescription=\"area mark container\"><path aria-label=\"hour: 2401; gen_sum: 0; resource: _solar_photovoltaic_btm\" role=\"graphics-symbol\" aria-roledescription=\"area mark\" d=\"M8.333333333333332,117.22821325714285L16.666666666666664,121.1416121142857L25,120.01687611428571L33.33333333333333,116.6707366857143L41.66666666666667,105.7578406857143L50,95.22067954285714L58.333333333333336,74.16198697142858L66.66666666666666,53.33990697142856L75,44.844633828571446L83.33333333333334,31.66719382857144L91.66666666666666,24.513630399999986L100,32.62314354285716L108.33333333333333,42.732478399999984L116.66666666666667,47.84728068571427L125,52.11406011428574L133.33333333333331,58.83688525714285L141.66666666666669,62.376583542857176L150,67.16821782857146L158.33333333333331,67.03032068571429L166.66666666666669,60.77790925714284L175,61.091527542857115L183.33333333333331,76.64191840000001L191.66666666666669,93.80880297142858L200,107.86320297142858L200,107.86320297142858L191.66666666666669,93.80880297142858L183.33333333333331,76.64191840000001L175,61.091527542857115L166.66666666666669,60.77790925714284L158.33333333333331,68.66574925714286L150,78.2630749714286L141.66666666666669,78.41544068571432L133.33333333333331,78.36259954285714L125,73.51177440000004L116.66666666666667,69.97870925714282L108.33333333333333,64.83304982857143L100,53.67114354285716L91.66666666666666,45.21877325714285L83.33333333333334,51.405479542857165L75,61.219490971428584L66.66666666666666,60.920478399999986L58.333333333333336,76.05798697142858L50,95.22067954285714L41.66666666666667,105.7578406857143L33.33333333333333,116.6707366857143L25,120.01687611428571L16.666666666666664,121.1416121142857L8.333333333333332,117.22821325714285Z\" fill=\"#ffbb78\"></path></g></g><path class=\"foreground\" aria-hidden=\"true\" d=\"\" display=\"none\"></path></g><g transform=\"translate(0,0)\"><path class=\"background\" aria-hidden=\"true\" d=\"M0,0h200v200h-200Z\"></path><g><g class=\"mark-area role-mark marks\" role=\"graphics-object\" aria-roledescription=\"area mark container\"><path aria-label=\"hour: 2401; gen_sum: 21.4; resource: biomass\" role=\"graphics-symbol\" aria-roledescription=\"area mark\" d=\"M8.333333333333332,117.22821325714285L16.666666666666664,121.1416121142857L25,120.01687611428571L33.33333333333333,116.6707366857143L41.66666666666667,105.7578406857143L50,95.22067954285714L58.333333333333336,76.05798697142858L66.66666666666666,60.920478399999986L75,61.219490971428584L83.33333333333334,51.405479542857165L91.66666666666666,45.21877325714285L100,53.67114354285716L108.33333333333333,64.83304982857143L116.66666666666667,69.97870925714282L125,73.51177440000004L133.33333333333331,78.36259954285714L141.66666666666669,78.41544068571432L150,78.2630749714286L158.33333333333331,68.66574925714286L166.66666666666669,60.77790925714284L175,61.091527542857115L183.33333333333331,76.64191840000001L191.66666666666669,93.80880297142858L200,107.86320297142858L200,109.08606011428571L191.66666666666669,95.03166011428573L183.33333333333331,77.86477554285716L175,62.314384685714266L166.66666666666669,62.00076639999998L158.33333333333331,69.88860640000001L150,79.48593211428575L141.66666666666669,79.63829782857145L133.33333333333331,79.58545668571429L125,74.73463154285717L116.66666666666667,71.20156639999998L108.33333333333333,66.05590697142858L100,54.8940006857143L91.66666666666666,46.4416304L83.33333333333334,52.628336685714316L75,62.44234811428573L66.66666666666666,62.14333554285714L58.333333333333336,77.28084411428573L50,96.44353668571428L41.66666666666667,106.98069782857145L33.33333333333333,117.89359382857145L25,121.23973325714286L16.666666666666664,122.36446925714286L8.333333333333332,118.4510704Z\" fill=\"#2ca02c\"></path></g></g><path class=\"foreground\" aria-hidden=\"true\" d=\"\" display=\"none\"></path></g><g transform=\"translate(0,0)\"><path class=\"background\" aria-hidden=\"true\" d=\"M0,0h200v200h-200Z\"></path><g><g class=\"mark-area role-mark marks\" role=\"graphics-object\" aria-roledescription=\"area mark container\"><path aria-label=\"hour: 2401; gen_sum: 42; resource: hydroelectric_pumped_storage\" role=\"graphics-symbol\" aria-roledescription=\"area mark\" d=\"M8.333333333333332,118.4510704L16.666666666666664,122.36446925714286L25,121.23973325714286L33.33333333333333,117.89359382857145L41.66666666666667,106.98069782857145L50,96.44353668571428L58.333333333333336,77.28084411428573L66.66666666666666,62.14333554285714L75,62.44234811428573L83.33333333333334,52.628336685714316L91.66666666666666,46.4416304L100,54.8940006857143L108.33333333333333,66.05590697142858L116.66666666666667,71.20156639999998L125,74.73463154285717L133.33333333333331,79.58545668571429L141.66666666666669,79.63829782857145L150,79.48593211428575L158.33333333333331,69.88860640000001L166.66666666666669,62.00076639999998L175,62.314384685714266L183.33333333333331,77.86477554285716L191.66666666666669,95.03166011428573L200,109.08606011428571L200,111.48606011428572L191.66666666666669,97.43166011428572L183.33333333333331,80.26477554285717L175,64.71438468571426L166.66666666666669,64.40076639999998L158.33333333333331,72.2886064L150,81.88593211428574L141.66666666666669,82.03829782857146L133.33333333333331,81.98545668571428L125,77.13463154285718L116.66666666666667,73.60156639999997L108.33333333333333,68.45590697142858L100,57.29400068571431L91.66666666666666,48.8416304L83.33333333333334,55.028336685714294L75,64.84234811428573L66.66666666666666,64.54333554285714L58.333333333333336,79.6808441142857L50,98.84353668571428L41.66666666666667,109.38069782857144L33.33333333333333,120.29359382857146L25,123.63973325714286L16.666666666666664,124.76446925714286L8.333333333333332,120.8510704Z\" fill=\"#98df8a\"></path></g></g><path class=\"foreground\" aria-hidden=\"true\" d=\"\" display=\"none\"></path></g><g transform=\"translate(0,0)\"><path class=\"background\" aria-hidden=\"true\" d=\"M0,0h200v200h-200Z\"></path><g><g class=\"mark-area role-mark marks\" role=\"graphics-object\" aria-roledescription=\"area mark container\"><path aria-label=\"hour: 2401; gen_sum: 1385.106268; resource: natural_gas_fired_combined_cycle\" role=\"graphics-symbol\" aria-roledescription=\"area mark\" d=\"M8.333333333333332,120.8510704L16.666666666666664,124.76446925714286L25,123.63973325714286L33.33333333333333,120.29359382857146L41.66666666666667,109.38069782857144L50,98.84353668571428L58.333333333333336,79.6808441142857L66.66666666666666,64.54333554285714L75,64.84234811428573L83.33333333333334,55.028336685714294L91.66666666666666,48.8416304L100,57.29400068571431L108.33333333333333,68.45590697142858L116.66666666666667,73.60156639999997L125,77.13463154285718L133.33333333333331,81.98545668571428L141.66666666666669,82.03829782857146L150,81.88593211428574L158.33333333333331,72.2886064L166.66666666666669,64.40076639999998L175,64.71438468571426L183.33333333333331,80.26477554285717L191.66666666666669,97.43166011428572L200,111.48606011428572L200,200L191.66666666666669,200L183.33333333333331,190.46477554285715L175,174.91438468571428L166.66666666666669,174.6007664L158.33333333333331,182.4886064L150,192.08593211428573L141.66666666666669,192.23829782857143L133.33333333333331,192.18545668571429L125,187.33463154285715L116.66666666666667,183.80156639999998L108.33333333333333,178.65590697142858L100,167.4940006857143L91.66666666666666,159.0416304L83.33333333333334,165.2283366857143L75,175.04234811428574L66.66666666666666,174.74333554285715L58.333333333333336,189.8808441142857L50,200L41.66666666666667,200L33.33333333333333,200L25,200L16.666666666666664,200L8.333333333333332,200Z\" fill=\"#d62728\"></path></g></g><path class=\"foreground\" aria-hidden=\"true\" d=\"\" display=\"none\"></path></g><g transform=\"translate(0,0)\"><path class=\"background\" aria-hidden=\"true\" d=\"M0,0h200v200h-200Z\"></path><g><g class=\"mark-area role-mark marks\" role=\"graphics-object\" aria-roledescription=\"area mark container\"><path aria-label=\"hour: 2401; gen_sum: 0; resource: natural_gas_fired_combustion_turbine\" role=\"graphics-symbol\" aria-roledescription=\"area mark\" d=\"M8.333333333333332,200L16.666666666666664,200L25,200L33.33333333333333,200L41.66666666666667,200L50,200L58.333333333333336,189.8808441142857L66.66666666666666,174.74333554285715L75,175.04234811428574L83.33333333333334,165.2283366857143L91.66666666666666,159.0416304L100,167.4940006857143L108.33333333333333,178.65590697142858L116.66666666666667,183.80156639999998L125,187.33463154285715L133.33333333333331,192.18545668571429L141.66666666666669,192.23829782857143L150,192.08593211428573L158.33333333333331,182.4886064L166.66666666666669,174.6007664L175,174.91438468571428L183.33333333333331,190.46477554285715L191.66666666666669,200L200,200L200,200L191.66666666666669,200L183.33333333333331,200L175,200L166.66666666666669,200L158.33333333333331,200L150,200L141.66666666666669,200L133.33333333333331,200L125,200L116.66666666666667,200L108.33333333333333,200L100,200L91.66666666666666,200L83.33333333333334,200L75,200L66.66666666666666,200L58.333333333333336,200L50,200L41.66666666666667,200L33.33333333333333,200L25,200L16.666666666666664,200L8.333333333333332,200Z\" fill=\"#ff9896\"></path></g></g><path class=\"foreground\" aria-hidden=\"true\" d=\"\" display=\"none\"></path></g></g><g class=\"mark-group role-legend\" role=\"graphics-symbol\" aria-roledescription=\"legend\" aria-label=\"Symbol legend titled 'resource' for fill color with 8 values: _onshore_wind_turbine, _small_hydroelectric, _solar_photovoltaic, _solar_photovoltaic_btm, biomass, ending with natural_gas_fired_combustion_turbine\"><g transform=\"translate(218,0)\"><path class=\"background\" aria-hidden=\"true\" d=\"M0,0h175v118h-175Z\" pointer-events=\"none\"></path><g><g class=\"mark-group role-legend-entry\"><g transform=\"translate(0,16)\"><path class=\"background\" aria-hidden=\"true\" d=\"M0,0h0v0h0Z\" pointer-events=\"none\"></path><g><g class=\"mark-group role-scope\" role=\"graphics-object\" aria-roledescription=\"group mark container\"><g transform=\"translate(0,0)\"><path class=\"background\" aria-hidden=\"true\" d=\"M0,0h175v11h-175Z\" pointer-events=\"none\" opacity=\"1\"></path><g><g class=\"mark-symbol role-legend-symbol\" pointer-events=\"none\"><path transform=\"translate(6,6)\" d=\"M5,0A5,5,0,1,1,-5,0A5,5,0,1,1,5,0\" fill=\"#1f77b4\" stroke-width=\"1.5\" opacity=\"1\"></path></g><g class=\"mark-text role-legend-label\" pointer-events=\"none\"><text text-anchor=\"start\" transform=\"translate(16,9)\" font-family=\"sans-serif\" font-size=\"10px\" fill=\"#000\" opacity=\"1\">_onshore_wind_turbine</text></g></g><path class=\"foreground\" aria-hidden=\"true\" d=\"\" pointer-events=\"none\" display=\"none\"></path></g><g transform=\"translate(0,13)\"><path class=\"background\" aria-hidden=\"true\" d=\"M0,0h175v11h-175Z\" pointer-events=\"none\" opacity=\"1\"></path><g><g class=\"mark-symbol role-legend-symbol\" pointer-events=\"none\"><path transform=\"translate(6,6)\" d=\"M5,0A5,5,0,1,1,-5,0A5,5,0,1,1,5,0\" fill=\"#aec7e8\" stroke-width=\"1.5\" opacity=\"1\"></path></g><g class=\"mark-text role-legend-label\" pointer-events=\"none\"><text text-anchor=\"start\" transform=\"translate(16,9)\" font-family=\"sans-serif\" font-size=\"10px\" fill=\"#000\" opacity=\"1\">_small_hydroelectric</text></g></g><path class=\"foreground\" aria-hidden=\"true\" d=\"\" pointer-events=\"none\" display=\"none\"></path></g><g transform=\"translate(0,26)\"><path class=\"background\" aria-hidden=\"true\" d=\"M0,0h175v11h-175Z\" pointer-events=\"none\" opacity=\"1\"></path><g><g class=\"mark-symbol role-legend-symbol\" pointer-events=\"none\"><path transform=\"translate(6,6)\" d=\"M5,0A5,5,0,1,1,-5,0A5,5,0,1,1,5,0\" fill=\"#ff7f0e\" stroke-width=\"1.5\" opacity=\"1\"></path></g><g class=\"mark-text role-legend-label\" pointer-events=\"none\"><text text-anchor=\"start\" transform=\"translate(16,9)\" font-family=\"sans-serif\" font-size=\"10px\" fill=\"#000\" opacity=\"1\">_solar_photovoltaic</text></g></g><path class=\"foreground\" aria-hidden=\"true\" d=\"\" pointer-events=\"none\" display=\"none\"></path></g><g transform=\"translate(0,39)\"><path class=\"background\" aria-hidden=\"true\" d=\"M0,0h175v11h-175Z\" pointer-events=\"none\" opacity=\"1\"></path><g><g class=\"mark-symbol role-legend-symbol\" pointer-events=\"none\"><path transform=\"translate(6,6)\" d=\"M5,0A5,5,0,1,1,-5,0A5,5,0,1,1,5,0\" fill=\"#ffbb78\" stroke-width=\"1.5\" opacity=\"1\"></path></g><g class=\"mark-text role-legend-label\" pointer-events=\"none\"><text text-anchor=\"start\" transform=\"translate(16,9)\" font-family=\"sans-serif\" font-size=\"10px\" fill=\"#000\" opacity=\"1\">_solar_photovoltaic_btm</text></g></g><path class=\"foreground\" aria-hidden=\"true\" d=\"\" pointer-events=\"none\" display=\"none\"></path></g><g transform=\"translate(0,52)\"><path class=\"background\" aria-hidden=\"true\" d=\"M0,0h175v11h-175Z\" pointer-events=\"none\" opacity=\"1\"></path><g><g class=\"mark-symbol role-legend-symbol\" pointer-events=\"none\"><path transform=\"translate(6,6)\" d=\"M5,0A5,5,0,1,1,-5,0A5,5,0,1,1,5,0\" fill=\"#2ca02c\" stroke-width=\"1.5\" opacity=\"1\"></path></g><g class=\"mark-text role-legend-label\" pointer-events=\"none\"><text text-anchor=\"start\" transform=\"translate(16,9)\" font-family=\"sans-serif\" font-size=\"10px\" fill=\"#000\" opacity=\"1\">biomass</text></g></g><path class=\"foreground\" aria-hidden=\"true\" d=\"\" pointer-events=\"none\" display=\"none\"></path></g><g transform=\"translate(0,65)\"><path class=\"background\" aria-hidden=\"true\" d=\"M0,0h175v11h-175Z\" pointer-events=\"none\" opacity=\"1\"></path><g><g class=\"mark-symbol role-legend-symbol\" pointer-events=\"none\"><path transform=\"translate(6,6)\" d=\"M5,0A5,5,0,1,1,-5,0A5,5,0,1,1,5,0\" fill=\"#98df8a\" stroke-width=\"1.5\" opacity=\"1\"></path></g><g class=\"mark-text role-legend-label\" pointer-events=\"none\"><text text-anchor=\"start\" transform=\"translate(16,9)\" font-family=\"sans-serif\" font-size=\"10px\" fill=\"#000\" opacity=\"1\">hydroelectric_pumped_storage</text></g></g><path class=\"foreground\" aria-hidden=\"true\" d=\"\" pointer-events=\"none\" display=\"none\"></path></g><g transform=\"translate(0,78)\"><path class=\"background\" aria-hidden=\"true\" d=\"M0,0h175v11h-175Z\" pointer-events=\"none\" opacity=\"1\"></path><g><g class=\"mark-symbol role-legend-symbol\" pointer-events=\"none\"><path transform=\"translate(6,6)\" d=\"M5,0A5,5,0,1,1,-5,0A5,5,0,1,1,5,0\" fill=\"#d62728\" stroke-width=\"1.5\" opacity=\"1\"></path></g><g class=\"mark-text role-legend-label\" pointer-events=\"none\"><text text-anchor=\"start\" transform=\"translate(16,9)\" font-family=\"sans-serif\" font-size=\"10px\" fill=\"#000\" opacity=\"1\">natural_gas_fired_combined_cy…</text></g></g><path class=\"foreground\" aria-hidden=\"true\" d=\"\" pointer-events=\"none\" display=\"none\"></path></g><g transform=\"translate(0,91)\"><path class=\"background\" aria-hidden=\"true\" d=\"M0,0h175v11h-175Z\" pointer-events=\"none\" opacity=\"1\"></path><g><g class=\"mark-symbol role-legend-symbol\" pointer-events=\"none\"><path transform=\"translate(6,6)\" d=\"M5,0A5,5,0,1,1,-5,0A5,5,0,1,1,5,0\" fill=\"#ff9896\" stroke-width=\"1.5\" opacity=\"1\"></path></g><g class=\"mark-text role-legend-label\" pointer-events=\"none\"><text text-anchor=\"start\" transform=\"translate(16,9)\" font-family=\"sans-serif\" font-size=\"10px\" fill=\"#000\" opacity=\"1\">natural_gas_fired_combustion_t…</text></g></g><path class=\"foreground\" aria-hidden=\"true\" d=\"\" pointer-events=\"none\" display=\"none\"></path></g></g></g><path class=\"foreground\" aria-hidden=\"true\" d=\"\" pointer-events=\"none\" display=\"none\"></path></g></g><g class=\"mark-text role-legend-title\" pointer-events=\"none\"><text text-anchor=\"start\" transform=\"translate(0,9)\" font-family=\"sans-serif\" font-size=\"11px\" font-weight=\"bold\" fill=\"#000\" opacity=\"1\">resource</text></g></g><path class=\"foreground\" aria-hidden=\"true\" d=\"\" pointer-events=\"none\" display=\"none\"></path></g></g></g><path class=\"foreground\" aria-hidden=\"true\" d=\"\" display=\"none\"></path></g></g></g></svg>\n"
      ],
      "text/plain": [
       "@vlplot(\n",
       "    mark=\"area\",\n",
       "    encoding={\n",
       "        x={\n",
       "            field=\"hour\"\n",
       "        },\n",
       "        y={\n",
       "            stack=\"zero\",\n",
       "            field=\"gen_sum\"\n",
       "        },\n",
       "        color={\n",
       "            scale={\n",
       "                scheme=\"category20\"\n",
       "            },\n",
       "            field=\"resource\",\n",
       "            type=\"nominal\"\n",
       "        }\n",
       "    },\n",
       "    data={\n",
       "        values=...\n",
       "    }\n",
       ")"
      ]
     },
     "execution_count": 19,
     "metadata": {},
     "output_type": "execute_result"
    }
   ],
   "source": [
    "sol_gen_btm |>\n",
    "@vlplot(:area, \n",
    "    x=:hour, y={:gen_sum, stack=:zero}, \n",
    "    color={\"resource:n\", scale={scheme=\"category20\"}})"
   ]
  },
  {
   "cell_type": "markdown",
   "metadata": {},
   "source": [
    "For reference, here is the load shape (after subtracting BTM solar) we are trying solve:"
   ]
  },
  {
   "cell_type": "code",
   "execution_count": 20,
   "metadata": {},
   "outputs": [
    {
     "data": {
      "application/vnd.vegalite.v4+json": {
       "data": {
        "values": [
         {
          "demand": 1615,
          "hour": 2401
         },
         {
          "demand": 1553,
          "hour": 2402
         },
         {
          "demand": 1518,
          "hour": 2403
         },
         {
          "demand": 1562,
          "hour": 2404
         },
         {
          "demand": 1733,
          "hour": 2405
         },
         {
          "demand": 1976,
          "hour": 2406
         },
         {
          "demand": 2274,
          "hour": 2407
         },
         {
          "demand": 2597,
          "hour": 2408
         },
         {
          "demand": 2838,
          "hour": 2409
         },
         {
          "demand": 3023,
          "hour": 2410
         },
         {
          "demand": 3125,
          "hour": 2411
         },
         {
          "demand": 2963,
          "hour": 2412
         },
         {
          "demand": 2743,
          "hour": 2413
         },
         {
          "demand": 2666,
          "hour": 2414
         },
         {
          "demand": 2578,
          "hour": 2415
         },
         {
          "demand": 2482,
          "hour": 2416
         },
         {
          "demand": 2422,
          "hour": 2417
         },
         {
          "demand": 2374,
          "hour": 2418
         },
         {
          "demand": 2378,
          "hour": 2419
         },
         {
          "demand": 2501,
          "hour": 2420
         },
         {
          "demand": 2506,
          "hour": 2421
         },
         {
          "demand": 2258,
          "hour": 2422
         },
         {
          "demand": 1988,
          "hour": 2423
         },
         {
          "demand": 1760,
          "hour": 2424
         }
        ]
       },
       "encoding": {
        "x": {
         "field": "hour",
         "type": "quantitative"
        },
        "y": {
         "field": "demand",
         "type": "quantitative"
        }
       },
       "mark": "line"
      },
      "image/png": "[encoded data removed]",
      "image/svg+xml": [
       "<?xml version=\"1.0\" encoding=\"utf-8\"?>\n",
       "<!DOCTYPE svg PUBLIC \"-//W3C//DTD SVG 1.1//EN\" \"http://www.w3.org/Graphics/SVG/1.1/DTD/svg11.dtd\">\n",
       "<svg class=\"marks\" width=\"261\" height=\"247\" viewBox=\"0 0 261 247\" version=\"1.1\" xmlns=\"http://www.w3.org/2000/svg\" xmlns:xlink=\"http://www.w3.org/1999/xlink\"><rect width=\"261\" height=\"247\" fill=\"white\"></rect><g fill=\"none\" stroke-miterlimit=\"10\" transform=\"translate(54,10)\"><g class=\"mark-group role-frame root\" role=\"graphics-object\" aria-roledescription=\"group mark container\"><g transform=\"translate(0,0)\"><path class=\"background\" aria-hidden=\"true\" d=\"M0.5,0.5h200v200h-200Z\" stroke=\"#ddd\"></path><g><g class=\"mark-group role-axis\" aria-hidden=\"true\"><g transform=\"translate(0.5,200.5)\"><path class=\"background\" aria-hidden=\"true\" d=\"M0,0h0v0h0Z\" pointer-events=\"none\"></path><g><g class=\"mark-rule role-axis-grid\" pointer-events=\"none\"><line transform=\"translate(0,-200)\" x2=\"0\" y2=\"200\" stroke=\"#ddd\" stroke-width=\"1\" opacity=\"1\"></line><line transform=\"translate(42,-200)\" x2=\"0\" y2=\"200\" stroke=\"#ddd\" stroke-width=\"1\" opacity=\"1\"></line><line transform=\"translate(83,-200)\" x2=\"0\" y2=\"200\" stroke=\"#ddd\" stroke-width=\"1\" opacity=\"1\"></line><line transform=\"translate(125,-200)\" x2=\"0\" y2=\"200\" stroke=\"#ddd\" stroke-width=\"1\" opacity=\"1\"></line><line transform=\"translate(167,-200)\" x2=\"0\" y2=\"200\" stroke=\"#ddd\" stroke-width=\"1\" opacity=\"1\"></line></g></g><path class=\"foreground\" aria-hidden=\"true\" d=\"\" pointer-events=\"none\" display=\"none\"></path></g></g><g class=\"mark-group role-axis\" aria-hidden=\"true\"><g transform=\"translate(0.5,0.5)\"><path class=\"background\" aria-hidden=\"true\" d=\"M0,0h0v0h0Z\" pointer-events=\"none\"></path><g><g class=\"mark-rule role-axis-grid\" pointer-events=\"none\"><line transform=\"translate(0,200)\" x2=\"200\" y2=\"0\" stroke=\"#ddd\" stroke-width=\"1\" opacity=\"1\"></line><line transform=\"translate(0,171)\" x2=\"200\" y2=\"0\" stroke=\"#ddd\" stroke-width=\"1\" opacity=\"1\"></line><line transform=\"translate(0,143)\" x2=\"200\" y2=\"0\" stroke=\"#ddd\" stroke-width=\"1\" opacity=\"1\"></line><line transform=\"translate(0,114)\" x2=\"200\" y2=\"0\" stroke=\"#ddd\" stroke-width=\"1\" opacity=\"1\"></line><line transform=\"translate(0,86)\" x2=\"200\" y2=\"0\" stroke=\"#ddd\" stroke-width=\"1\" opacity=\"1\"></line><line transform=\"translate(0,57)\" x2=\"200\" y2=\"0\" stroke=\"#ddd\" stroke-width=\"1\" opacity=\"1\"></line><line transform=\"translate(0,29)\" x2=\"200\" y2=\"0\" stroke=\"#ddd\" stroke-width=\"1\" opacity=\"1\"></line><line transform=\"translate(0,0)\" x2=\"200\" y2=\"0\" stroke=\"#ddd\" stroke-width=\"1\" opacity=\"1\"></line></g></g><path class=\"foreground\" aria-hidden=\"true\" d=\"\" pointer-events=\"none\" display=\"none\"></path></g></g><g class=\"mark-group role-axis\" role=\"graphics-symbol\" aria-roledescription=\"axis\" aria-label=\"X-axis titled 'hour' for a linear scale with values from 2,400 to 2,424\"><g transform=\"translate(0.5,200.5)\"><path class=\"background\" aria-hidden=\"true\" d=\"M0,0h0v0h0Z\" pointer-events=\"none\"></path><g><g class=\"mark-rule role-axis-tick\" pointer-events=\"none\"><line transform=\"translate(0,0)\" x2=\"0\" y2=\"5\" stroke=\"#888\" stroke-width=\"1\" opacity=\"1\"></line><line transform=\"translate(42,0)\" x2=\"0\" y2=\"5\" stroke=\"#888\" stroke-width=\"1\" opacity=\"1\"></line><line transform=\"translate(83,0)\" x2=\"0\" y2=\"5\" stroke=\"#888\" stroke-width=\"1\" opacity=\"1\"></line><line transform=\"translate(125,0)\" x2=\"0\" y2=\"5\" stroke=\"#888\" stroke-width=\"1\" opacity=\"1\"></line><line transform=\"translate(167,0)\" x2=\"0\" y2=\"5\" stroke=\"#888\" stroke-width=\"1\" opacity=\"1\"></line></g><g class=\"mark-text role-axis-label\" pointer-events=\"none\"><text text-anchor=\"start\" transform=\"translate(0,15)\" font-family=\"sans-serif\" font-size=\"10px\" fill=\"#000\" opacity=\"1\">2,400</text><text text-anchor=\"middle\" transform=\"translate(41.66666666666667,15)\" font-family=\"sans-serif\" font-size=\"10px\" fill=\"#000\" opacity=\"1\">2,405</text><text text-anchor=\"middle\" transform=\"translate(83.33333333333334,15)\" font-family=\"sans-serif\" font-size=\"10px\" fill=\"#000\" opacity=\"1\">2,410</text><text text-anchor=\"middle\" transform=\"translate(125,15)\" font-family=\"sans-serif\" font-size=\"10px\" fill=\"#000\" opacity=\"1\">2,415</text><text text-anchor=\"middle\" transform=\"translate(166.66666666666669,15)\" font-family=\"sans-serif\" font-size=\"10px\" fill=\"#000\" opacity=\"1\">2,420</text></g><g class=\"mark-rule role-axis-domain\" pointer-events=\"none\"><line transform=\"translate(0,0)\" x2=\"200\" y2=\"0\" stroke=\"#888\" stroke-width=\"1\" opacity=\"1\"></line></g><g class=\"mark-text role-axis-title\" pointer-events=\"none\"><text text-anchor=\"middle\" transform=\"translate(100,30)\" font-family=\"sans-serif\" font-size=\"11px\" font-weight=\"bold\" fill=\"#000\" opacity=\"1\">hour</text></g></g><path class=\"foreground\" aria-hidden=\"true\" d=\"\" pointer-events=\"none\" display=\"none\"></path></g></g><g class=\"mark-group role-axis\" role=\"graphics-symbol\" aria-roledescription=\"axis\" aria-label=\"Y-axis titled 'demand' for a linear scale with values from 0 to 3,500\"><g transform=\"translate(0.5,0.5)\"><path class=\"background\" aria-hidden=\"true\" d=\"M0,0h0v0h0Z\" pointer-events=\"none\"></path><g><g class=\"mark-rule role-axis-tick\" pointer-events=\"none\"><line transform=\"translate(0,200)\" x2=\"-5\" y2=\"0\" stroke=\"#888\" stroke-width=\"1\" opacity=\"1\"></line><line transform=\"translate(0,171)\" x2=\"-5\" y2=\"0\" stroke=\"#888\" stroke-width=\"1\" opacity=\"1\"></line><line transform=\"translate(0,143)\" x2=\"-5\" y2=\"0\" stroke=\"#888\" stroke-width=\"1\" opacity=\"1\"></line><line transform=\"translate(0,114)\" x2=\"-5\" y2=\"0\" stroke=\"#888\" stroke-width=\"1\" opacity=\"1\"></line><line transform=\"translate(0,86)\" x2=\"-5\" y2=\"0\" stroke=\"#888\" stroke-width=\"1\" opacity=\"1\"></line><line transform=\"translate(0,57)\" x2=\"-5\" y2=\"0\" stroke=\"#888\" stroke-width=\"1\" opacity=\"1\"></line><line transform=\"translate(0,29)\" x2=\"-5\" y2=\"0\" stroke=\"#888\" stroke-width=\"1\" opacity=\"1\"></line><line transform=\"translate(0,0)\" x2=\"-5\" y2=\"0\" stroke=\"#888\" stroke-width=\"1\" opacity=\"1\"></line></g><g class=\"mark-text role-axis-label\" pointer-events=\"none\"><text text-anchor=\"end\" transform=\"translate(-7,203)\" font-family=\"sans-serif\" font-size=\"10px\" fill=\"#000\" opacity=\"1\">0</text><text text-anchor=\"end\" transform=\"translate(-7,174.42857142857144)\" font-family=\"sans-serif\" font-size=\"10px\" fill=\"#000\" opacity=\"1\">500</text><text text-anchor=\"end\" transform=\"translate(-7,145.85714285714286)\" font-family=\"sans-serif\" font-size=\"10px\" fill=\"#000\" opacity=\"1\">1,000</text><text text-anchor=\"end\" transform=\"translate(-7,117.28571428571428)\" font-family=\"sans-serif\" font-size=\"10px\" fill=\"#000\" opacity=\"1\">1,500</text><text text-anchor=\"end\" transform=\"translate(-7,88.71428571428572)\" font-family=\"sans-serif\" font-size=\"10px\" fill=\"#000\" opacity=\"1\">2,000</text><text text-anchor=\"end\" transform=\"translate(-7,60.14285714285714)\" font-family=\"sans-serif\" font-size=\"10px\" fill=\"#000\" opacity=\"1\">2,500</text><text text-anchor=\"end\" transform=\"translate(-7,31.57142857142858)\" font-family=\"sans-serif\" font-size=\"10px\" fill=\"#000\" opacity=\"1\">3,000</text><text text-anchor=\"end\" transform=\"translate(-7,3)\" font-family=\"sans-serif\" font-size=\"10px\" fill=\"#000\" opacity=\"1\">3,500</text></g><g class=\"mark-rule role-axis-domain\" pointer-events=\"none\"><line transform=\"translate(0,200)\" x2=\"0\" y2=\"-200\" stroke=\"#888\" stroke-width=\"1\" opacity=\"1\"></line></g><g class=\"mark-text role-axis-title\" pointer-events=\"none\"><text text-anchor=\"middle\" transform=\"translate(-38,100) rotate(-90) translate(0,-2)\" font-family=\"sans-serif\" font-size=\"11px\" font-weight=\"bold\" fill=\"#000\" opacity=\"1\">demand</text></g></g><path class=\"foreground\" aria-hidden=\"true\" d=\"\" pointer-events=\"none\" display=\"none\"></path></g></g><g class=\"mark-line role-mark marks\" role=\"graphics-object\" aria-roledescription=\"line mark container\"><path aria-label=\"hour: 2401; demand: 1615\" role=\"graphics-symbol\" aria-roledescription=\"line mark\" d=\"M8.333333333333332,107.71428571428572L16.666666666666664,111.25714285714285L25,113.25714285714285L33.33333333333333,110.74285714285715L41.66666666666667,100.97142857142858L50,87.08571428571427L58.333333333333336,70.05714285714286L66.66666666666666,51.6L75,37.828571428571436L83.33333333333334,27.257142857142846L91.66666666666666,21.42857142857142L100,30.685714285714294L108.33333333333333,43.25714285714286L116.66666666666667,47.657142857142865L125,52.68571428571429L133.33333333333331,58.171428571428564L141.66666666666669,61.60000000000001L150,64.34285714285714L158.33333333333331,64.11428571428573L166.66666666666669,57.085714285714296L175,56.800000000000004L183.33333333333331,70.97142857142858L191.66666666666669,86.4L200,99.42857142857142\" stroke=\"#4c78a8\" stroke-width=\"2\"></path></g></g><path class=\"foreground\" aria-hidden=\"true\" d=\"\" display=\"none\"></path></g></g></g></svg>\n"
      ],
      "text/plain": [
       "@vlplot(\n",
       "    mark=\"line\",\n",
       "    encoding={\n",
       "        x={\n",
       "            field=\"hour\"\n",
       "        },\n",
       "        y={\n",
       "            field=\"demand\"\n",
       "        }\n",
       "    },\n",
       "    data={\n",
       "        values=...\n",
       "    }\n",
       ")"
      ]
     },
     "execution_count": 20,
     "metadata": {},
     "output_type": "execute_result"
    }
   ],
   "source": [
    "loads_multi |>\n",
    "@vlplot(:line, \n",
    "    x=:hour, y=:demand)"
   ]
  },
  {
   "cell_type": "markdown",
   "metadata": {},
   "source": [
    "## Multiple-time period, complex generator constraints with time coupling\n",
    "\n",
    "The above problem did not include more than one time index per constraint. Hence, we could actually solve this each time period separately without regard to what is happening before or after. (These are known as \"separable\" problems.)\n",
    "\n",
    "We now introduce time coupling into the model, by considering ramp rates, which limit how much generators can change output from one period to the next (an engineering constraint).\n",
    "\n",
    "The new model:\n",
    "\n",
    "$$\n",
    "\\begin{align}\n",
    "\\min \\ & \\sum_{g \\in G, t \\in T} VarCost_g \\times GEN_{g,t} & \\\\\n",
    "\\text{s.t.} & \\\\\n",
    " & \\sum_{g} GEN_{g,t} = Demand_t & \\forall \\quad t \\in T \\\\\n",
    " & GEN_{g,t} \\leq Pmax_{g,t} & \\forall \\quad g \\in G , t \\in T \\\\\n",
    " & GEN_{g,t} \\geq Pmin_{g,t} & \\forall \\quad g \\in G , t \\in T \\\\\n",
    " & GEN_{g,t+1} - GEN_{g,t} \\leq RampUp_{g} & \\forall \\quad g \\in G , t = 1..T-1 \\\\\n",
    "  & GEN_{g,t} - GEN_{g,t+1} \\leq RampDn_{g} & \\forall \\quad g \\in G , t = 1..T-1\n",
    "\\end{align}\n",
    "$$\n",
    "\n"
   ]
  },
  {
   "cell_type": "markdown",
   "metadata": {},
   "source": [
    "### 3. Create solver function\n",
    "\n",
    "(We reuse steps 1 and 2 above to load packages and data.)\n",
    "\n",
    "First, we define a function to convert two-dimensional outputs from JuMP into easy-to-read dataframes."
   ]
  },
  {
   "cell_type": "code",
   "execution_count": 21,
   "metadata": {},
   "outputs": [
    {
     "data": {
      "text/plain": [
       "value_to_df_2dim (generic function with 1 method)"
      ]
     },
     "execution_count": 21,
     "metadata": {},
     "output_type": "execute_result"
    }
   ],
   "source": [
    "#=\n",
    "Function to convert JuMP outputs (technically, AxisArrays) with two-indexes to a dataframe\n",
    "Inputs:\n",
    "    var -- JuMP AxisArray (e.g., value.(GEN))\n",
    "Reference: https://jump.dev/JuMP.jl/v0.19/containers/\n",
    "=#\n",
    "function value_to_df_2dim(var)\n",
    "    solution = DataFrame(var.data)\n",
    "    ax1 = var.axes[1]\n",
    "    ax2 = var.axes[2]\n",
    "    cols = names(solution)\n",
    "    insertcols!(solution, 1, :r_id => ax1)\n",
    "    solution = stack(solution, Not(:r_id), variable_name=:hour)\n",
    "    solution.hour = foldl(replace, [cols[i] => ax2[i] for i in 1:length(ax2)], init=solution.hour)\n",
    "    rename!(solution, :value => :gen)\n",
    "    solution.hour = convert.(Int64,solution.hour)\n",
    "    return solution\n",
    "end"
   ]
  },
  {
   "cell_type": "code",
   "execution_count": 22,
   "metadata": {},
   "outputs": [
    {
     "data": {
      "text/plain": [
       "economic_dispatch_multi_time (generic function with 1 method)"
      ]
     },
     "execution_count": 22,
     "metadata": {},
     "output_type": "execute_result"
    }
   ],
   "source": [
    "#=\n",
    "Function to solve economic dispatch problem (multi-time period, single-zone)\n",
    "Inputs:\n",
    "    gen_df -- dataframe with generator info\n",
    "    loads  -- load by time\n",
    "    gen_variable -- capacity factors of variable generators (in \"long\" format)\n",
    "=#\n",
    "function economic_dispatch_multi_time(gen_df, loads, gen_variable)\n",
    "    ED = Model(GLPK.Optimizer)\n",
    "\n",
    "    # Define sets based on data\n",
    "    G_var = gen_df[gen_df[!,:is_variable] .== 1,:r_id] \n",
    "    G_nonvar = gen_df[gen_df[!,:is_variable] .== 0,:r_id]\n",
    "    G = gen_df.r_id\n",
    "    T = loads.hour\n",
    "    T_red = loads.hour[1:end-1]  # time periods used for ramp constraints\n",
    "    \n",
    "    # Generator capacity factor time series for variable generators\n",
    "    gen_var_cf = innerjoin(gen_variable, \n",
    "                    gen_df[gen_df.is_variable .== 1 , \n",
    "                        [:r_id, :gen_full, :existing_cap_mw]], \n",
    "                    on = :gen_full)\n",
    "        \n",
    "    # Decision variables   \n",
    "    @variables(ED, begin\n",
    "        GEN[G, T]  >= 0     # generation\n",
    "        # Note: we assume Pmin = 0 for all resources for simplicty here\n",
    "    end)\n",
    "                \n",
    "    # Objective function\n",
    "    @objective(ED, Min, \n",
    "        sum( (gen_df[gen_df.r_id .== i,:heat_rate_mmbtu_per_mwh][1] * gen_df[gen_df.r_id .== i,:fuel_cost][1] +\n",
    "            gen_df[gen_df.r_id .== i,:var_om_cost_per_mwh][1]) * GEN[i,t] \n",
    "                        for i in G_nonvar for t in T) + \n",
    "        sum(gen_df[gen_df.r_id .== i,:var_om_cost_per_mwh][1] * GEN[i,t] \n",
    "                        for i in G_var for t in T)\n",
    "    )\n",
    "    \n",
    "    # Demand constraint\n",
    "    @constraint(ED, cDemand[t in T], \n",
    "        sum(GEN[i,t] for i in G) == loads[loads.hour .== t,:demand][1])\n",
    "\n",
    "    # Capacity constraints (non-variable generation)\n",
    "    @constraint(ED, Cap_nonvar[i in G_nonvar, t in T], \n",
    "        GEN[i,t] <= gen_df[gen_df.r_id .== i,:existing_cap_mw][1])\n",
    "\n",
    "    # Variable generation capacity constraints\n",
    "    @constraint(ED, Cap_var[i in 1:nrow(gen_var_cf)], \n",
    "            GEN[gen_var_cf[i,:r_id], gen_var_cf[i,:hour] ] <= \n",
    "                        gen_var_cf[i,:cf] *\n",
    "                        gen_var_cf[i,:existing_cap_mw])\n",
    "    \n",
    "    # Ramp up constraints\n",
    "    @constraint(ED, RampUp[i in G, t in T_red], \n",
    "        GEN[i,t+1] - GEN[i,t] <= gen_df[gen_df.r_id .== i,:existing_cap_mw][1] * \n",
    "                                 gen_df[gen_df.r_id .== i,:ramp_up_percentage][1] )\n",
    "\n",
    "    # Ramp down constraints\n",
    "    @constraint(ED, RampDn[i in G, t in T_red], \n",
    "        GEN[i,t] - GEN[i,t+1] <= gen_df[gen_df.r_id .== i,:existing_cap_mw][1] * \n",
    "                                 gen_df[gen_df.r_id .== i,:ramp_dn_percentage][1] )\n",
    "\n",
    "    \n",
    "    # Solve statement (! indicates runs in place)\n",
    "    optimize!(ED)\n",
    "\n",
    "    # Dataframe of optimal decision variables\n",
    "    solution = value_to_df_2dim(value.(GEN))\n",
    "    \n",
    "    # Dataframe of ramp up constraint marginal values \n",
    "    # (aka \"dual values\" of the ramp constraint)\n",
    "    # (to be used in solar sensitivity case)\n",
    "    marginals = value_to_df_2dim(dual.(RampUp))\n",
    "    \n",
    "    # Return the solution, objective, and marginals as named tuple\n",
    "    return (\n",
    "        solution = solution, \n",
    "        cost = objective_value(ED),\n",
    "        marginals = marginals\n",
    "    )\n",
    "\n",
    "end"
   ]
  },
  {
   "cell_type": "markdown",
   "metadata": {},
   "source": [
    "### 4. Solve a day's economic dispatch"
   ]
  },
  {
   "cell_type": "code",
   "execution_count": 23,
   "metadata": {},
   "outputs": [
    {
     "data": {
      "application/vnd.vegalite.v4+json": {
       "data": {
        "values": [
         {
          "gen_sum": 163.3088,
          "hour": 2401,
          "resource": "_onshore_wind_turbine"
         },
         {
          "gen_sum": 3.184932,
          "hour": 2401,
          "resource": "_small_hydroelectric"
         },
         {
          "gen_sum": 0,
          "hour": 2401,
          "resource": "_solar_photovoltaic"
         },
         {
          "gen_sum": 0,
          "hour": 2401,
          "resource": "_solar_photovoltaic_btm"
         },
         {
          "gen_sum": 21.4,
          "hour": 2401,
          "resource": "biomass"
         },
         {
          "gen_sum": 42,
          "hour": 2401,
          "resource": "hydroelectric_pumped_storage"
         },
         {
          "gen_sum": 1385.106268,
          "hour": 2401,
          "resource": "natural_gas_fired_combined_cycle"
         },
         {
          "gen_sum": 0,
          "hour": 2401,
          "resource": "natural_gas_fired_combustion_turbine"
         },
         {
          "gen_sum": 169.79327999999998,
          "hour": 2402,
          "resource": "_onshore_wind_turbine"
         },
         {
          "gen_sum": 3.184932,
          "hour": 2402,
          "resource": "_small_hydroelectric"
         },
         {
          "gen_sum": 0,
          "hour": 2402,
          "resource": "_solar_photovoltaic"
         },
         {
          "gen_sum": 0,
          "hour": 2402,
          "resource": "_solar_photovoltaic_btm"
         },
         {
          "gen_sum": 21.4,
          "hour": 2402,
          "resource": "biomass"
         },
         {
          "gen_sum": 42,
          "hour": 2402,
          "resource": "hydroelectric_pumped_storage"
         },
         {
          "gen_sum": 1316.621788,
          "hour": 2402,
          "resource": "natural_gas_fired_combined_cycle"
         },
         {
          "gen_sum": 0,
          "hour": 2402,
          "resource": "natural_gas_fired_combustion_turbine"
         },
         {
          "gen_sum": 115.1104,
          "hour": 2403,
          "resource": "_onshore_wind_turbine"
         },
         {
          "gen_sum": 3.184932,
          "hour": 2403,
          "resource": "_small_hydroelectric"
         },
         {
          "gen_sum": 0,
          "hour": 2403,
          "resource": "_solar_photovoltaic"
         },
         {
          "gen_sum": 0,
          "hour": 2403,
          "resource": "_solar_photovoltaic_btm"
         },
         {
          "gen_sum": 21.4,
          "hour": 2403,
          "resource": "biomass"
         },
         {
          "gen_sum": 42,
          "hour": 2403,
          "resource": "hydroelectric_pumped_storage"
         },
         {
          "gen_sum": 1336.304668,
          "hour": 2403,
          "resource": "natural_gas_fired_combined_cycle"
         },
         {
          "gen_sum": 0,
          "hour": 2403,
          "resource": "natural_gas_fired_combustion_turbine"
         },
         {
          "gen_sum": 100.55296,
          "hour": 2404,
          "resource": "_onshore_wind_turbine"
         },
         {
          "gen_sum": 3.184932,
          "hour": 2404,
          "resource": "_small_hydroelectric"
         },
         {
          "gen_sum": 0,
          "hour": 2404,
          "resource": "_solar_photovoltaic"
         },
         {
          "gen_sum": 0,
          "hour": 2404,
          "resource": "_solar_photovoltaic_btm"
         },
         {
          "gen_sum": 21.4,
          "hour": 2404,
          "resource": "biomass"
         },
         {
          "gen_sum": 42,
          "hour": 2404,
          "resource": "hydroelectric_pumped_storage"
         },
         {
          "gen_sum": 1394.8621079999998,
          "hour": 2404,
          "resource": "natural_gas_fired_combined_cycle"
         },
         {
          "gen_sum": 0,
          "hour": 2404,
          "resource": "natural_gas_fired_combustion_turbine"
         },
         {
          "gen_sum": 80.57727999999997,
          "hour": 2405,
          "resource": "_onshore_wind_turbine"
         },
         {
          "gen_sum": 3.184932,
          "hour": 2405,
          "resource": "_small_hydroelectric"
         },
         {
          "gen_sum": 0,
          "hour": 2405,
          "resource": "_solar_photovoltaic"
         },
         {
          "gen_sum": 0,
          "hour": 2405,
          "resource": "_solar_photovoltaic_btm"
         },
         {
          "gen_sum": 21.4,
          "hour": 2405,
          "resource": "biomass"
         },
         {
          "gen_sum": 42,
          "hour": 2405,
          "resource": "hydroelectric_pumped_storage"
         },
         {
          "gen_sum": 1585.8377880000003,
          "hour": 2405,
          "resource": "natural_gas_fired_combined_cycle"
         },
         {
          "gen_sum": 0,
          "hour": 2405,
          "resource": "natural_gas_fired_combustion_turbine"
         },
         {
          "gen_sum": 139.17695999999998,
          "hour": 2406,
          "resource": "_onshore_wind_turbine"
         },
         {
          "gen_sum": 3.184932,
          "hour": 2406,
          "resource": "_small_hydroelectric"
         },
         {
          "gen_sum": 0,
          "hour": 2406,
          "resource": "_solar_photovoltaic"
         },
         {
          "gen_sum": 0,
          "hour": 2406,
          "resource": "_solar_photovoltaic_btm"
         },
         {
          "gen_sum": 21.4,
          "hour": 2406,
          "resource": "biomass"
         },
         {
          "gen_sum": 42,
          "hour": 2406,
          "resource": "hydroelectric_pumped_storage"
         },
         {
          "gen_sum": 1770.238108,
          "hour": 2406,
          "resource": "natural_gas_fired_combined_cycle"
         },
         {
          "gen_sum": 0,
          "hour": 2406,
          "resource": "natural_gas_fired_combustion_turbine"
         },
         {
          "gen_sum": 74.17983999999933,
          "hour": 2407,
          "resource": "_onshore_wind_turbine"
         },
         {
          "gen_sum": 3.184932,
          "hour": 2407,
          "resource": "_small_hydroelectric"
         },
         {
          "gen_sum": 27.650000000000006,
          "hour": 2407,
          "resource": "_solar_photovoltaic"
         },
         {
          "gen_sum": 33.18,
          "hour": 2407,
          "resource": "_solar_photovoltaic_btm"
         },
         {
          "gen_sum": 21.4,
          "hour": 2407,
          "resource": "biomass"
         },
         {
          "gen_sum": 42,
          "hour": 2407,
          "resource": "hydroelectric_pumped_storage"
         },
         {
          "gen_sum": 1928.5,
          "hour": 2407,
          "resource": "natural_gas_fired_combined_cycle"
         },
         {
          "gen_sum": 177.08522800000023,
          "hour": 2407,
          "resource": "natural_gas_fired_combustion_turbine"
         },
         {
          "gen_sum": 49.373439999999995,
          "hour": 2408,
          "resource": "_onshore_wind_turbine"
         },
         {
          "gen_sum": 3.184932,
          "hour": 2408,
          "resource": "_small_hydroelectric"
         },
         {
          "gen_sum": 110.55,
          "hour": 2408,
          "resource": "_solar_photovoltaic"
         },
         {
          "gen_sum": 132.66,
          "hour": 2408,
          "resource": "_solar_photovoltaic_btm"
         },
         {
          "gen_sum": 21.4,
          "hour": 2408,
          "resource": "biomass"
         },
         {
          "gen_sum": 42,
          "hour": 2408,
          "resource": "hydroelectric_pumped_storage"
         },
         {
          "gen_sum": 1928.5,
          "hour": 2408,
          "resource": "natural_gas_fired_combined_cycle"
         },
         {
          "gen_sum": 441.991628,
          "hour": 2408,
          "resource": "natural_gas_fired_combustion_turbine"
         },
         {
          "gen_sum": 167.35616,
          "hour": 2409,
          "resource": "_onshore_wind_turbine"
         },
         {
          "gen_sum": 3.184932,
          "hour": 2409,
          "resource": "_small_hydroelectric"
         },
         {
          "gen_sum": 238.8,
          "hour": 2409,
          "resource": "_solar_photovoltaic"
         },
         {
          "gen_sum": 286.56,
          "hour": 2409,
          "resource": "_solar_photovoltaic_btm"
         },
         {
          "gen_sum": 21.4,
          "hour": 2409,
          "resource": "biomass"
         },
         {
          "gen_sum": 42,
          "hour": 2409,
          "resource": "hydroelectric_pumped_storage"
         },
         {
          "gen_sum": 1928.5,
          "hour": 2409,
          "resource": "natural_gas_fired_combined_cycle"
         },
         {
          "gen_sum": 436.75890799999945,
          "hour": 2409,
          "resource": "natural_gas_fired_combustion_turbine"
         },
         {
          "gen_sum": 131.56096,
          "hour": 2410,
          "resource": "_onshore_wind_turbine"
         },
         {
          "gen_sum": 3.184932,
          "hour": 2410,
          "resource": "_small_hydroelectric"
         },
         {
          "gen_sum": 287.85,
          "hour": 2410,
          "resource": "_solar_photovoltaic"
         },
         {
          "gen_sum": 345.42,
          "hour": 2410,
          "resource": "_solar_photovoltaic_btm"
         },
         {
          "gen_sum": 21.4,
          "hour": 2410,
          "resource": "biomass"
         },
         {
          "gen_sum": 42,
          "hour": 2410,
          "resource": "hydroelectric_pumped_storage"
         },
         {
          "gen_sum": 1928.5,
          "hour": 2410,
          "resource": "natural_gas_fired_combined_cycle"
         },
         {
          "gen_sum": 608.5041080000001,
          "hour": 2410,
          "resource": "natural_gas_fired_combustion_turbine"
         },
         {
          "gen_sum": 111.1936,
          "hour": 2411,
          "resource": "_onshore_wind_turbine"
         },
         {
          "gen_sum": 3.184932,
          "hour": 2411,
          "resource": "_small_hydroelectric"
         },
         {
          "gen_sum": 301.95,
          "hour": 2411,
          "resource": "_solar_photovoltaic"
         },
         {
          "gen_sum": 362.34,
          "hour": 2411,
          "resource": "_solar_photovoltaic_btm"
         },
         {
          "gen_sum": 21.4,
          "hour": 2411,
          "resource": "biomass"
         },
         {
          "gen_sum": 42,
          "hour": 2411,
          "resource": "hydroelectric_pumped_storage"
         },
         {
          "gen_sum": 1928.5,
          "hour": 2411,
          "resource": "natural_gas_fired_combined_cycle"
         },
         {
          "gen_sum": 716.7714679999996,
          "hour": 2411,
          "resource": "natural_gas_fired_combustion_turbine"
         },
         {
          "gen_sum": 92.11008,
          "hour": 2412,
          "resource": "_onshore_wind_turbine"
         },
         {
          "gen_sum": 3.184932,
          "hour": 2412,
          "resource": "_small_hydroelectric"
         },
         {
          "gen_sum": 306.95,
          "hour": 2412,
          "resource": "_solar_photovoltaic"
         },
         {
          "gen_sum": 368.34,
          "hour": 2412,
          "resource": "_solar_photovoltaic_btm"
         },
         {
          "gen_sum": 21.4,
          "hour": 2412,
          "resource": "biomass"
         },
         {
          "gen_sum": 42,
          "hour": 2412,
          "resource": "hydroelectric_pumped_storage"
         },
         {
          "gen_sum": 1928.5,
          "hour": 2412,
          "resource": "natural_gas_fired_combined_cycle"
         },
         {
          "gen_sum": 568.8549879999997,
          "hour": 2412,
          "resource": "natural_gas_fired_combustion_turbine"
         },
         {
          "gen_sum": 52.0934400000001,
          "hour": 2413,
          "resource": "_onshore_wind_turbine"
         },
         {
          "gen_sum": 3.184932,
          "hour": 2413,
          "resource": "_small_hydroelectric"
         },
         {
          "gen_sum": 322.29999999999995,
          "hour": 2413,
          "resource": "_solar_photovoltaic"
         },
         {
          "gen_sum": 386.76,
          "hour": 2413,
          "resource": "_solar_photovoltaic_btm"
         },
         {
          "gen_sum": 21.4,
          "hour": 2413,
          "resource": "biomass"
         },
         {
          "gen_sum": 42,
          "hour": 2413,
          "resource": "hydroelectric_pumped_storage"
         },
         {
          "gen_sum": 1928.5,
          "hour": 2413,
          "resource": "natural_gas_fired_combined_cycle"
         },
         {
          "gen_sum": 373.5216279999998,
          "hour": 2413,
          "resource": "natural_gas_fired_combustion_turbine"
         },
         {
          "gen_sum": 64.69248,
          "hour": 2414,
          "resource": "_onshore_wind_turbine"
         },
         {
          "gen_sum": 3.184932,
          "hour": 2414,
          "resource": "_small_hydroelectric"
         },
         {
          "gen_sum": 322.75000000000006,
          "hour": 2414,
          "resource": "_solar_photovoltaic"
         },
         {
          "gen_sum": 387.29999999999995,
          "hour": 2414,
          "resource": "_solar_photovoltaic_btm"
         },
         {
          "gen_sum": 21.4,
          "hour": 2414,
          "resource": "biomass"
         },
         {
          "gen_sum": 42,
          "hour": 2414,
          "resource": "hydroelectric_pumped_storage"
         },
         {
          "gen_sum": 1928.5,
          "hour": 2414,
          "resource": "natural_gas_fired_combined_cycle"
         },
         {
          "gen_sum": 283.47258799999986,
          "hour": 2414,
          "resource": "natural_gas_fired_combustion_turbine"
         },
         {
          "gen_sum": 49.22112,
          "hour": 2415,
          "resource": "_onshore_wind_turbine"
         },
         {
          "gen_sum": 3.184932,
          "hour": 2415,
          "resource": "_small_hydroelectric"
         },
         {
          "gen_sum": 312.0499999999997,
          "hour": 2415,
          "resource": "_solar_photovoltaic"
         },
         {
          "gen_sum": 374.46,
          "hour": 2415,
          "resource": "_solar_photovoltaic_btm"
         },
         {
          "gen_sum": 21.4,
          "hour": 2415,
          "resource": "biomass"
         },
         {
          "gen_sum": 42,
          "hour": 2415,
          "resource": "hydroelectric_pumped_storage"
         },
         {
          "gen_sum": 1928.5,
          "hour": 2415,
          "resource": "natural_gas_fired_combined_cycle"
         },
         {
          "gen_sum": 221.64394799999982,
          "hour": 2415,
          "resource": "natural_gas_fired_combustion_turbine"
         },
         {
          "gen_sum": 65.41055999999999,
          "hour": 2416,
          "resource": "_onshore_wind_turbine"
         },
         {
          "gen_sum": 3.184932,
          "hour": 2416,
          "resource": "_small_hydroelectric"
         },
         {
          "gen_sum": 284.7499999999994,
          "hour": 2416,
          "resource": "_solar_photovoltaic"
         },
         {
          "gen_sum": 341.7,
          "hour": 2416,
          "resource": "_solar_photovoltaic_btm"
         },
         {
          "gen_sum": 21.4,
          "hour": 2416,
          "resource": "biomass"
         },
         {
          "gen_sum": 42,
          "hour": 2416,
          "resource": "hydroelectric_pumped_storage"
         },
         {
          "gen_sum": 1928.5,
          "hour": 2416,
          "resource": "natural_gas_fired_combined_cycle"
         },
         {
          "gen_sum": 136.75450800000021,
          "hour": 2416,
          "resource": "natural_gas_fired_combustion_turbine"
         },
         {
          "gen_sum": 57.18527999999969,
          "hour": 2417,
          "resource": "_onshore_wind_turbine"
         },
         {
          "gen_sum": 3.184932,
          "hour": 2417,
          "resource": "_small_hydroelectric"
         },
         {
          "gen_sum": 233.9,
          "hour": 2417,
          "resource": "_solar_photovoltaic"
         },
         {
          "gen_sum": 280.68,
          "hour": 2417,
          "resource": "_solar_photovoltaic_btm"
         },
         {
          "gen_sum": 21.4,
          "hour": 2417,
          "resource": "biomass"
         },
         {
          "gen_sum": 42,
          "hour": 2417,
          "resource": "hydroelectric_pumped_storage"
         },
         {
          "gen_sum": 1928.5,
          "hour": 2417,
          "resource": "natural_gas_fired_combined_cycle"
         },
         {
          "gen_sum": 135.82978799999972,
          "hour": 2417,
          "resource": "natural_gas_fired_combustion_turbine"
         },
         {
          "gen_sum": 78.61888,
          "hour": 2418,
          "resource": "_onshore_wind_turbine"
         },
         {
          "gen_sum": 3.184932,
          "hour": 2418,
          "resource": "_small_hydroelectric"
         },
         {
          "gen_sum": 161.79999999999973,
          "hour": 2418,
          "resource": "_solar_photovoltaic"
         },
         {
          "gen_sum": 194.16,
          "hour": 2418,
          "resource": "_solar_photovoltaic_btm"
         },
         {
          "gen_sum": 21.4,
          "hour": 2418,
          "resource": "biomass"
         },
         {
          "gen_sum": 42,
          "hour": 2418,
          "resource": "hydroelectric_pumped_storage"
         },
         {
          "gen_sum": 1928.5,
          "hour": 2418,
          "resource": "natural_gas_fired_combined_cycle"
         },
         {
          "gen_sum": 138.49618799999985,
          "hour": 2418,
          "resource": "natural_gas_fired_combustion_turbine"
         },
         {
          "gen_sum": 52.61568,
          "hour": 2419,
          "resource": "_onshore_wind_turbine"
         },
         {
          "gen_sum": 3.184932,
          "hour": 2419,
          "resource": "_small_hydroelectric"
         },
         {
          "gen_sum": 23.85,
          "hour": 2419,
          "resource": "_solar_photovoltaic"
         },
         {
          "gen_sum": 28.62,
          "hour": 2419,
          "resource": "_solar_photovoltaic_btm"
         },
         {
          "gen_sum": 21.4,
          "hour": 2419,
          "resource": "biomass"
         },
         {
          "gen_sum": 42,
          "hour": 2419,
          "resource": "hydroelectric_pumped_storage"
         },
         {
          "gen_sum": 1928.5,
          "hour": 2419,
          "resource": "natural_gas_fired_combined_cycle"
         },
         {
          "gen_sum": 306.44938800000006,
          "hour": 2419,
          "resource": "natural_gas_fired_combustion_turbine"
         },
         {
          "gen_sum": 61.42848,
          "hour": 2420,
          "resource": "_onshore_wind_turbine"
         },
         {
          "gen_sum": 3.184932,
          "hour": 2420,
          "resource": "_small_hydroelectric"
         },
         {
          "gen_sum": 0,
          "hour": 2420,
          "resource": "_solar_photovoltaic"
         },
         {
          "gen_sum": 0,
          "hour": 2420,
          "resource": "_solar_photovoltaic_btm"
         },
         {
          "gen_sum": 21.4,
          "hour": 2420,
          "resource": "biomass"
         },
         {
          "gen_sum": 42,
          "hour": 2420,
          "resource": "hydroelectric_pumped_storage"
         },
         {
          "gen_sum": 1928.5,
          "hour": 2420,
          "resource": "natural_gas_fired_combined_cycle"
         },
         {
          "gen_sum": 444.48658799999987,
          "hour": 2420,
          "resource": "natural_gas_fired_combustion_turbine"
         },
         {
          "gen_sum": 71.9168,
          "hour": 2421,
          "resource": "_onshore_wind_turbine"
         },
         {
          "gen_sum": 3.184932,
          "hour": 2421,
          "resource": "_small_hydroelectric"
         },
         {
          "gen_sum": 0,
          "hour": 2421,
          "resource": "_solar_photovoltaic"
         },
         {
          "gen_sum": 0,
          "hour": 2421,
          "resource": "_solar_photovoltaic_btm"
         },
         {
          "gen_sum": 21.4,
          "hour": 2421,
          "resource": "biomass"
         },
         {
          "gen_sum": 42,
          "hour": 2421,
          "resource": "hydroelectric_pumped_storage"
         },
         {
          "gen_sum": 1928.5,
          "hour": 2421,
          "resource": "natural_gas_fired_combined_cycle"
         },
         {
          "gen_sum": 438.99826799999994,
          "hour": 2421,
          "resource": "natural_gas_fired_combustion_turbine"
         },
         {
          "gen_sum": 96.04863999999952,
          "hour": 2422,
          "resource": "_onshore_wind_turbine"
         },
         {
          "gen_sum": 3.184932,
          "hour": 2422,
          "resource": "_small_hydroelectric"
         },
         {
          "gen_sum": 0,
          "hour": 2422,
          "resource": "_solar_photovoltaic"
         },
         {
          "gen_sum": 0,
          "hour": 2422,
          "resource": "_solar_photovoltaic_btm"
         },
         {
          "gen_sum": 21.4,
          "hour": 2422,
          "resource": "biomass"
         },
         {
          "gen_sum": 42,
          "hour": 2422,
          "resource": "hydroelectric_pumped_storage"
         },
         {
          "gen_sum": 1928.5,
          "hour": 2422,
          "resource": "natural_gas_fired_combined_cycle"
         },
         {
          "gen_sum": 166.86642800000004,
          "hour": 2422,
          "resource": "natural_gas_fired_combustion_turbine"
         },
         {
          "gen_sum": 126.46912,
          "hour": 2423,
          "resource": "_onshore_wind_turbine"
         },
         {
          "gen_sum": 3.184932,
          "hour": 2423,
          "resource": "_small_hydroelectric"
         },
         {
          "gen_sum": 0,
          "hour": 2423,
          "resource": "_solar_photovoltaic"
         },
         {
          "gen_sum": 0,
          "hour": 2423,
          "resource": "_solar_photovoltaic_btm"
         },
         {
          "gen_sum": 21.4,
          "hour": 2423,
          "resource": "biomass"
         },
         {
          "gen_sum": 42,
          "hour": 2423,
          "resource": "hydroelectric_pumped_storage"
         },
         {
          "gen_sum": 1794.945948,
          "hour": 2423,
          "resource": "natural_gas_fired_combined_cycle"
         },
         {
          "gen_sum": 0,
          "hour": 2423,
          "resource": "natural_gas_fired_combustion_turbine"
         },
         {
          "gen_sum": 144.42112000000006,
          "hour": 2424,
          "resource": "_onshore_wind_turbine"
         },
         {
          "gen_sum": 3.184932,
          "hour": 2424,
          "resource": "_small_hydroelectric"
         },
         {
          "gen_sum": 0,
          "hour": 2424,
          "resource": "_solar_photovoltaic"
         },
         {
          "gen_sum": 0,
          "hour": 2424,
          "resource": "_solar_photovoltaic_btm"
         },
         {
          "gen_sum": 21.4,
          "hour": 2424,
          "resource": "biomass"
         },
         {
          "gen_sum": 42,
          "hour": 2424,
          "resource": "hydroelectric_pumped_storage"
         },
         {
          "gen_sum": 1548.9939479999998,
          "hour": 2424,
          "resource": "natural_gas_fired_combined_cycle"
         },
         {
          "gen_sum": 0,
          "hour": 2424,
          "resource": "natural_gas_fired_combustion_turbine"
         }
        ]
       },
       "encoding": {
        "color": {
         "field": "resource",
         "scale": {
          "scheme": "category20"
         },
         "type": "nominal"
        },
        "x": {
         "field": "hour",
         "type": "quantitative"
        },
        "y": {
         "field": "gen_sum",
         "stack": "zero",
         "type": "quantitative"
        }
       },
       "mark": "area"
      },
      "image/png": "[encoded data removed]",
      "image/svg+xml": [
       "<?xml version=\"1.0\" encoding=\"utf-8\"?>\n",
       "<!DOCTYPE svg PUBLIC \"-//W3C//DTD SVG 1.1//EN\" \"http://www.w3.org/Graphics/SVG/1.1/DTD/svg11.dtd\">\n",
       "<svg class=\"marks\" width=\"452\" height=\"247\" viewBox=\"0 0 452 247\" version=\"1.1\" xmlns=\"http://www.w3.org/2000/svg\" xmlns:xlink=\"http://www.w3.org/1999/xlink\"><rect width=\"452\" height=\"247\" fill=\"white\"></rect><g fill=\"none\" stroke-miterlimit=\"10\" transform=\"translate(54,10)\"><g class=\"mark-group role-frame root\" role=\"graphics-object\" aria-roledescription=\"group mark container\"><g transform=\"translate(0,0)\"><path class=\"background\" aria-hidden=\"true\" d=\"M0.5,0.5h200v200h-200Z\" stroke=\"#ddd\"></path><g><g class=\"mark-group role-axis\" aria-hidden=\"true\"><g transform=\"translate(0.5,200.5)\"><path class=\"background\" aria-hidden=\"true\" d=\"M0,0h0v0h0Z\" pointer-events=\"none\"></path><g><g class=\"mark-rule role-axis-grid\" pointer-events=\"none\"><line transform=\"translate(0,-200)\" x2=\"0\" y2=\"200\" stroke=\"#ddd\" stroke-width=\"1\" opacity=\"1\"></line><line transform=\"translate(42,-200)\" x2=\"0\" y2=\"200\" stroke=\"#ddd\" stroke-width=\"1\" opacity=\"1\"></line><line transform=\"translate(83,-200)\" x2=\"0\" y2=\"200\" stroke=\"#ddd\" stroke-width=\"1\" opacity=\"1\"></line><line transform=\"translate(125,-200)\" x2=\"0\" y2=\"200\" stroke=\"#ddd\" stroke-width=\"1\" opacity=\"1\"></line><line transform=\"translate(167,-200)\" x2=\"0\" y2=\"200\" stroke=\"#ddd\" stroke-width=\"1\" opacity=\"1\"></line></g></g><path class=\"foreground\" aria-hidden=\"true\" d=\"\" pointer-events=\"none\" display=\"none\"></path></g></g><g class=\"mark-group role-axis\" aria-hidden=\"true\"><g transform=\"translate(0.5,0.5)\"><path class=\"background\" aria-hidden=\"true\" d=\"M0,0h0v0h0Z\" pointer-events=\"none\"></path><g><g class=\"mark-rule role-axis-grid\" pointer-events=\"none\"><line transform=\"translate(0,200)\" x2=\"200\" y2=\"0\" stroke=\"#ddd\" stroke-width=\"1\" opacity=\"1\"></line><line transform=\"translate(0,171)\" x2=\"200\" y2=\"0\" stroke=\"#ddd\" stroke-width=\"1\" opacity=\"1\"></line><line transform=\"translate(0,143)\" x2=\"200\" y2=\"0\" stroke=\"#ddd\" stroke-width=\"1\" opacity=\"1\"></line><line transform=\"translate(0,114)\" x2=\"200\" y2=\"0\" stroke=\"#ddd\" stroke-width=\"1\" opacity=\"1\"></line><line transform=\"translate(0,86)\" x2=\"200\" y2=\"0\" stroke=\"#ddd\" stroke-width=\"1\" opacity=\"1\"></line><line transform=\"translate(0,57)\" x2=\"200\" y2=\"0\" stroke=\"#ddd\" stroke-width=\"1\" opacity=\"1\"></line><line transform=\"translate(0,29)\" x2=\"200\" y2=\"0\" stroke=\"#ddd\" stroke-width=\"1\" opacity=\"1\"></line><line transform=\"translate(0,0)\" x2=\"200\" y2=\"0\" stroke=\"#ddd\" stroke-width=\"1\" opacity=\"1\"></line></g></g><path class=\"foreground\" aria-hidden=\"true\" d=\"\" pointer-events=\"none\" display=\"none\"></path></g></g><g class=\"mark-group role-axis\" role=\"graphics-symbol\" aria-roledescription=\"axis\" aria-label=\"X-axis titled 'hour' for a linear scale with values from 2,400 to 2,424\"><g transform=\"translate(0.5,200.5)\"><path class=\"background\" aria-hidden=\"true\" d=\"M0,0h0v0h0Z\" pointer-events=\"none\"></path><g><g class=\"mark-rule role-axis-tick\" pointer-events=\"none\"><line transform=\"translate(0,0)\" x2=\"0\" y2=\"5\" stroke=\"#888\" stroke-width=\"1\" opacity=\"1\"></line><line transform=\"translate(42,0)\" x2=\"0\" y2=\"5\" stroke=\"#888\" stroke-width=\"1\" opacity=\"1\"></line><line transform=\"translate(83,0)\" x2=\"0\" y2=\"5\" stroke=\"#888\" stroke-width=\"1\" opacity=\"1\"></line><line transform=\"translate(125,0)\" x2=\"0\" y2=\"5\" stroke=\"#888\" stroke-width=\"1\" opacity=\"1\"></line><line transform=\"translate(167,0)\" x2=\"0\" y2=\"5\" stroke=\"#888\" stroke-width=\"1\" opacity=\"1\"></line></g><g class=\"mark-text role-axis-label\" pointer-events=\"none\"><text text-anchor=\"start\" transform=\"translate(0,15)\" font-family=\"sans-serif\" font-size=\"10px\" fill=\"#000\" opacity=\"1\">2,400</text><text text-anchor=\"middle\" transform=\"translate(41.66666666666667,15)\" font-family=\"sans-serif\" font-size=\"10px\" fill=\"#000\" opacity=\"1\">2,405</text><text text-anchor=\"middle\" transform=\"translate(83.33333333333334,15)\" font-family=\"sans-serif\" font-size=\"10px\" fill=\"#000\" opacity=\"1\">2,410</text><text text-anchor=\"middle\" transform=\"translate(125,15)\" font-family=\"sans-serif\" font-size=\"10px\" fill=\"#000\" opacity=\"1\">2,415</text><text text-anchor=\"middle\" transform=\"translate(166.66666666666669,15)\" font-family=\"sans-serif\" font-size=\"10px\" fill=\"#000\" opacity=\"1\">2,420</text></g><g class=\"mark-rule role-axis-domain\" pointer-events=\"none\"><line transform=\"translate(0,0)\" x2=\"200\" y2=\"0\" stroke=\"#888\" stroke-width=\"1\" opacity=\"1\"></line></g><g class=\"mark-text role-axis-title\" pointer-events=\"none\"><text text-anchor=\"middle\" transform=\"translate(100,30)\" font-family=\"sans-serif\" font-size=\"11px\" font-weight=\"bold\" fill=\"#000\" opacity=\"1\">hour</text></g></g><path class=\"foreground\" aria-hidden=\"true\" d=\"\" pointer-events=\"none\" display=\"none\"></path></g></g><g class=\"mark-group role-axis\" role=\"graphics-symbol\" aria-roledescription=\"axis\" aria-label=\"Y-axis titled 'gen_sum' for a linear scale with values from 0 to 3,500\"><g transform=\"translate(0.5,0.5)\"><path class=\"background\" aria-hidden=\"true\" d=\"M0,0h0v0h0Z\" pointer-events=\"none\"></path><g><g class=\"mark-rule role-axis-tick\" pointer-events=\"none\"><line transform=\"translate(0,200)\" x2=\"-5\" y2=\"0\" stroke=\"#888\" stroke-width=\"1\" opacity=\"1\"></line><line transform=\"translate(0,171)\" x2=\"-5\" y2=\"0\" stroke=\"#888\" stroke-width=\"1\" opacity=\"1\"></line><line transform=\"translate(0,143)\" x2=\"-5\" y2=\"0\" stroke=\"#888\" stroke-width=\"1\" opacity=\"1\"></line><line transform=\"translate(0,114)\" x2=\"-5\" y2=\"0\" stroke=\"#888\" stroke-width=\"1\" opacity=\"1\"></line><line transform=\"translate(0,86)\" x2=\"-5\" y2=\"0\" stroke=\"#888\" stroke-width=\"1\" opacity=\"1\"></line><line transform=\"translate(0,57)\" x2=\"-5\" y2=\"0\" stroke=\"#888\" stroke-width=\"1\" opacity=\"1\"></line><line transform=\"translate(0,29)\" x2=\"-5\" y2=\"0\" stroke=\"#888\" stroke-width=\"1\" opacity=\"1\"></line><line transform=\"translate(0,0)\" x2=\"-5\" y2=\"0\" stroke=\"#888\" stroke-width=\"1\" opacity=\"1\"></line></g><g class=\"mark-text role-axis-label\" pointer-events=\"none\"><text text-anchor=\"end\" transform=\"translate(-7,203)\" font-family=\"sans-serif\" font-size=\"10px\" fill=\"#000\" opacity=\"1\">0</text><text text-anchor=\"end\" transform=\"translate(-7,174.42857142857144)\" font-family=\"sans-serif\" font-size=\"10px\" fill=\"#000\" opacity=\"1\">500</text><text text-anchor=\"end\" transform=\"translate(-7,145.85714285714286)\" font-family=\"sans-serif\" font-size=\"10px\" fill=\"#000\" opacity=\"1\">1,000</text><text text-anchor=\"end\" transform=\"translate(-7,117.28571428571428)\" font-family=\"sans-serif\" font-size=\"10px\" fill=\"#000\" opacity=\"1\">1,500</text><text text-anchor=\"end\" transform=\"translate(-7,88.71428571428572)\" font-family=\"sans-serif\" font-size=\"10px\" fill=\"#000\" opacity=\"1\">2,000</text><text text-anchor=\"end\" transform=\"translate(-7,60.14285714285714)\" font-family=\"sans-serif\" font-size=\"10px\" fill=\"#000\" opacity=\"1\">2,500</text><text text-anchor=\"end\" transform=\"translate(-7,31.57142857142858)\" font-family=\"sans-serif\" font-size=\"10px\" fill=\"#000\" opacity=\"1\">3,000</text><text text-anchor=\"end\" transform=\"translate(-7,3)\" font-family=\"sans-serif\" font-size=\"10px\" fill=\"#000\" opacity=\"1\">3,500</text></g><g class=\"mark-rule role-axis-domain\" pointer-events=\"none\"><line transform=\"translate(0,200)\" x2=\"0\" y2=\"-200\" stroke=\"#888\" stroke-width=\"1\" opacity=\"1\"></line></g><g class=\"mark-text role-axis-title\" pointer-events=\"none\"><text text-anchor=\"middle\" transform=\"translate(-38,100) rotate(-90) translate(0,-2)\" font-family=\"sans-serif\" font-size=\"11px\" font-weight=\"bold\" fill=\"#000\" opacity=\"1\">gen_sum</text></g></g><path class=\"foreground\" aria-hidden=\"true\" d=\"\" pointer-events=\"none\" display=\"none\"></path></g></g><g class=\"mark-group role-scope pathgroup\" role=\"graphics-object\" aria-roledescription=\"group mark container\"><g transform=\"translate(0,0)\"><path class=\"background\" aria-hidden=\"true\" d=\"M0,0h200v200h-200Z\"></path><g><g class=\"mark-area role-mark marks\" role=\"graphics-object\" aria-roledescription=\"area mark container\"><path aria-label=\"hour: 2401; gen_sum: 163.3088; resource: _onshore_wind_turbine\" role=\"graphics-symbol\" aria-roledescription=\"area mark\" d=\"M8.333333333333332,107.71428571428572L16.666666666666664,111.25714285714285L25,113.25714285714285L33.33333333333333,110.74285714285716L41.66666666666667,100.97142857142856L50,87.08571428571427L58.333333333333336,68.16114285714288L66.66666666666666,44.01942857142858L75,21.45371428571432L83.33333333333334,7.518857142857138L91.66666666666666,0.7234285714285971L100,9.637714285714294L108.33333333333333,21.15657142857139L116.66666666666667,25.525714285714308L125,31.288000000000004L133.33333333333331,38.64571428571433L141.66666666666669,45.5611428571429L150,53.248000000000005L158.33333333333331,62.478857142857144L166.66666666666669,57.085714285714296L175,56.800000000000004L183.33333333333331,70.97142857142858L191.66666666666669,86.4L200,99.42857142857144L200,107.68120685714287L191.66666666666669,93.62680685714287L183.33333333333331,76.45992228571426L175,60.90953142857143L166.66666666666669,60.59591314285715L158.33333333333331,65.48546742857143L150,57.74050742857144L141.66666666666669,48.828873142857155L133.33333333333331,42.383460571428586L125,34.100635428571444L116.66666666666667,29.222427428571464L108.33333333333333,24.13333942857139L100,14.901147428571448L91.66666666666666,7.077348571428588L83.33333333333334,15.036626285714272L75,31.016923428571452L66.66666666666666,46.84076800000001L58.333333333333336,72.39999085714284L50,95.03868342857143L41.66666666666667,105.57584457142855L33.33333333333333,116.4887405714286L25,119.83488L16.666666666666664,120.959616L8.333333333333332,117.04621714285715Z\" fill=\"#1f77b4\"></path></g></g><path class=\"foreground\" aria-hidden=\"true\" d=\"\" display=\"none\"></path></g><g transform=\"translate(0,0)\"><path class=\"background\" aria-hidden=\"true\" d=\"M0,0h200v200h-200Z\"></path><g><g class=\"mark-area role-mark marks\" role=\"graphics-object\" aria-roledescription=\"area mark container\"><path aria-label=\"hour: 2401; gen_sum: 3.184932; resource: _small_hydroelectric\" role=\"graphics-symbol\" aria-roledescription=\"area mark\" d=\"M8.333333333333332,117.04621714285715L16.666666666666664,120.959616L25,119.83488L33.33333333333333,116.4887405714286L41.66666666666667,105.57584457142855L50,95.03868342857143L58.333333333333336,72.39999085714284L66.66666666666666,46.84076800000001L75,31.016923428571452L83.33333333333334,15.036626285714272L91.66666666666666,7.077348571428588L100,14.901147428571448L108.33333333333333,24.13333942857139L116.66666666666667,29.222427428571464L125,34.100635428571444L133.33333333333331,42.383460571428586L141.66666666666669,48.828873142857155L150,57.74050742857144L158.33333333333331,65.48546742857143L166.66666666666669,60.59591314285715L175,60.90953142857143L183.33333333333331,76.45992228571426L191.66666666666669,93.62680685714287L200,107.68120685714287L200,107.86320297142858L191.66666666666669,93.80880297142858L183.33333333333331,76.64191839999998L175,61.091527542857136L166.66666666666669,60.77790925714286L158.33333333333331,65.66746354285715L150,57.92250354285715L141.66666666666669,49.010869257142886L133.33333333333331,42.565456685714324L125,34.28263154285715L116.66666666666667,29.404423542857174L108.33333333333333,24.31533554285712L100,15.083143542857158L91.66666666666666,7.25934468571432L83.33333333333334,15.218622399999981L75,31.198919542857162L66.66666666666666,47.02276411428572L58.333333333333336,72.58198697142855L50,95.22067954285714L41.66666666666667,105.75784068571426L33.33333333333333,116.6707366857143L25,120.01687611428571L16.666666666666664,121.1416121142857L8.333333333333332,117.22821325714285Z\" fill=\"#aec7e8\"></path></g></g><path class=\"foreground\" aria-hidden=\"true\" d=\"\" display=\"none\"></path></g><g transform=\"translate(0,0)\"><path class=\"background\" aria-hidden=\"true\" d=\"M0,0h200v200h-200Z\"></path><g><g class=\"mark-area role-mark marks\" role=\"graphics-object\" aria-roledescription=\"area mark container\"><path aria-label=\"hour: 2401; gen_sum: 0; resource: _solar_photovoltaic\" role=\"graphics-symbol\" aria-roledescription=\"area mark\" d=\"M8.333333333333332,117.22821325714285L16.666666666666664,121.1416121142857L25,120.01687611428571L33.33333333333333,116.6707366857143L41.66666666666667,105.75784068571426L50,95.22067954285714L58.333333333333336,72.58198697142855L66.66666666666666,47.02276411428572L75,31.198919542857162L83.33333333333334,15.218622399999981L91.66666666666666,7.25934468571432L100,15.083143542857158L108.33333333333333,24.31533554285712L116.66666666666667,29.404423542857174L125,34.28263154285715L133.33333333333331,42.565456685714324L141.66666666666669,49.010869257142886L150,57.92250354285715L158.33333333333331,65.66746354285715L166.66666666666669,60.77790925714286L175,61.091527542857136L183.33333333333331,76.64191839999998L191.66666666666669,93.80880297142858L200,107.86320297142858L200,107.86320297142858L191.66666666666669,93.80880297142858L183.33333333333331,76.64191839999998L175,61.091527542857136L166.66666666666669,60.77790925714286L158.33333333333331,67.03032068571429L150,67.16821782857143L141.66666666666669,62.376583542857176L133.33333333333331,58.83688525714285L125,52.11406011428572L116.66666666666667,47.84728068571431L108.33333333333333,42.732478399999984L100,32.62314354285716L91.66666666666666,24.513630400000004L83.33333333333334,31.667193828571413L75,44.84463382857147L66.66666666666666,53.33990697142858L58.333333333333336,74.16198697142855L50,95.22067954285714L41.66666666666667,105.75784068571426L33.33333333333333,116.6707366857143L25,120.01687611428571L16.666666666666664,121.1416121142857L8.333333333333332,117.22821325714285Z\" fill=\"#ff7f0e\"></path></g></g><path class=\"foreground\" aria-hidden=\"true\" d=\"\" display=\"none\"></path></g><g transform=\"translate(0,0)\"><path class=\"background\" aria-hidden=\"true\" d=\"M0,0h200v200h-200Z\"></path><g><g class=\"mark-area role-mark marks\" role=\"graphics-object\" aria-roledescription=\"area mark container\"><path aria-label=\"hour: 2401; gen_sum: 0; resource: _solar_photovoltaic_btm\" role=\"graphics-symbol\" aria-roledescription=\"area mark\" d=\"M8.333333333333332,117.22821325714285L16.666666666666664,121.1416121142857L25,120.01687611428571L33.33333333333333,116.6707366857143L41.66666666666667,105.75784068571426L50,95.22067954285714L58.333333333333336,74.16198697142855L66.66666666666666,53.33990697142858L75,44.84463382857147L83.33333333333334,31.667193828571417L91.66666666666666,24.513630400000007L100,32.62314354285716L108.33333333333333,42.732478399999984L116.66666666666667,47.84728068571431L125,52.11406011428572L133.33333333333331,58.83688525714285L141.66666666666669,62.376583542857176L150,67.16821782857143L158.33333333333331,67.03032068571429L166.66666666666669,60.77790925714286L175,61.091527542857136L183.33333333333331,76.64191839999998L191.66666666666669,93.80880297142858L200,107.86320297142858L200,107.86320297142858L191.66666666666669,93.80880297142858L183.33333333333331,76.64191839999998L175,61.091527542857136L166.66666666666669,60.77790925714286L158.33333333333331,68.66574925714286L150,78.26307497142857L141.66666666666669,78.41544068571432L133.33333333333331,78.36259954285714L125,73.51177440000001L116.66666666666667,69.97870925714287L108.33333333333333,64.83304982857143L100,53.67114354285716L91.66666666666666,45.21877325714287L83.33333333333334,51.40547954285712L75,61.219490971428606L66.66666666666666,60.92047840000001L58.333333333333336,76.05798697142853L50,95.22067954285714L41.66666666666667,105.75784068571426L33.33333333333333,116.6707366857143L25,120.01687611428571L16.666666666666664,121.1416121142857L8.333333333333332,117.22821325714285Z\" fill=\"#ffbb78\"></path></g></g><path class=\"foreground\" aria-hidden=\"true\" d=\"\" display=\"none\"></path></g><g transform=\"translate(0,0)\"><path class=\"background\" aria-hidden=\"true\" d=\"M0,0h200v200h-200Z\"></path><g><g class=\"mark-area role-mark marks\" role=\"graphics-object\" aria-roledescription=\"area mark container\"><path aria-label=\"hour: 2401; gen_sum: 21.4; resource: biomass\" role=\"graphics-symbol\" aria-roledescription=\"area mark\" d=\"M8.333333333333332,117.22821325714285L16.666666666666664,121.1416121142857L25,120.01687611428571L33.33333333333333,116.6707366857143L41.66666666666667,105.75784068571426L50,95.22067954285714L58.333333333333336,76.05798697142853L66.66666666666666,60.92047840000001L75,61.219490971428606L83.33333333333334,51.40547954285712L91.66666666666666,45.21877325714287L100,53.67114354285716L108.33333333333333,64.83304982857143L116.66666666666667,69.97870925714287L125,73.51177440000001L133.33333333333331,78.36259954285714L141.66666666666669,78.41544068571432L150,78.26307497142857L158.33333333333331,68.66574925714286L166.66666666666669,60.77790925714286L175,61.091527542857136L183.33333333333331,76.64191839999998L191.66666666666669,93.80880297142858L200,107.86320297142858L200,109.08606011428571L191.66666666666669,95.03166011428573L183.33333333333331,77.86477554285713L175,62.31438468571429L166.66666666666669,62.0007664L158.33333333333331,69.88860640000001L150,79.48593211428572L141.66666666666669,79.63829782857145L133.33333333333331,79.58545668571429L125,74.73463154285716L116.66666666666667,71.20156640000002L108.33333333333333,66.05590697142858L100,54.8940006857143L91.66666666666666,46.44163040000002L83.33333333333334,52.628336685714274L75,62.44234811428575L66.66666666666666,62.14333554285716L58.333333333333336,77.28084411428569L50,96.44353668571428L41.66666666666667,106.98069782857141L33.33333333333333,117.89359382857145L25,121.23973325714286L16.666666666666664,122.36446925714286L8.333333333333332,118.4510704Z\" fill=\"#2ca02c\"></path></g></g><path class=\"foreground\" aria-hidden=\"true\" d=\"\" display=\"none\"></path></g><g transform=\"translate(0,0)\"><path class=\"background\" aria-hidden=\"true\" d=\"M0,0h200v200h-200Z\"></path><g><g class=\"mark-area role-mark marks\" role=\"graphics-object\" aria-roledescription=\"area mark container\"><path aria-label=\"hour: 2401; gen_sum: 42; resource: hydroelectric_pumped_storage\" role=\"graphics-symbol\" aria-roledescription=\"area mark\" d=\"M8.333333333333332,118.4510704L16.666666666666664,122.36446925714286L25,121.23973325714286L33.33333333333333,117.89359382857145L41.66666666666667,106.98069782857141L50,96.44353668571428L58.333333333333336,77.28084411428569L66.66666666666666,62.14333554285716L75,62.44234811428575L83.33333333333334,52.628336685714274L91.66666666666666,46.44163040000002L100,54.8940006857143L108.33333333333333,66.05590697142858L116.66666666666667,71.20156640000002L125,74.73463154285716L133.33333333333331,79.58545668571429L141.66666666666669,79.63829782857145L150,79.48593211428572L158.33333333333331,69.88860640000001L166.66666666666669,62.0007664L175,62.31438468571429L183.33333333333331,77.86477554285713L191.66666666666669,95.03166011428573L200,109.08606011428571L200,111.48606011428572L191.66666666666669,97.4316601142857L183.33333333333331,80.26477554285714L175,64.7143846857143L166.66666666666669,64.40076640000001L158.33333333333331,72.2886064L150,81.88593211428572L141.66666666666669,82.03829782857146L133.33333333333331,81.98545668571428L125,77.13463154285716L116.66666666666667,73.60156640000002L108.33333333333333,68.45590697142858L100,57.29400068571431L91.66666666666666,48.84163040000003L83.33333333333334,55.02833668571427L75,64.84234811428576L66.66666666666666,64.54333554285716L58.333333333333336,79.68084411428569L50,98.84353668571428L41.66666666666667,109.3806978285714L33.33333333333333,120.29359382857146L25,123.63973325714286L16.666666666666664,124.76446925714286L8.333333333333332,120.8510704Z\" fill=\"#98df8a\"></path></g></g><path class=\"foreground\" aria-hidden=\"true\" d=\"\" display=\"none\"></path></g><g transform=\"translate(0,0)\"><path class=\"background\" aria-hidden=\"true\" d=\"M0,0h200v200h-200Z\"></path><g><g class=\"mark-area role-mark marks\" role=\"graphics-object\" aria-roledescription=\"area mark container\"><path aria-label=\"hour: 2401; gen_sum: 1385.106268; resource: natural_gas_fired_combined_cycle\" role=\"graphics-symbol\" aria-roledescription=\"area mark\" d=\"M8.333333333333332,120.8510704L16.666666666666664,124.76446925714286L25,123.63973325714286L33.33333333333333,120.29359382857146L41.66666666666667,109.3806978285714L50,98.84353668571428L58.333333333333336,79.68084411428569L66.66666666666666,64.54333554285716L75,64.84234811428576L83.33333333333334,55.02833668571427L91.66666666666666,48.84163040000003L100,57.29400068571431L108.33333333333333,68.45590697142858L116.66666666666667,73.60156640000002L125,77.13463154285716L133.33333333333331,81.98545668571428L141.66666666666669,82.03829782857146L150,81.88593211428572L158.33333333333331,72.2886064L166.66666666666669,64.40076640000001L175,64.7143846857143L183.33333333333331,80.26477554285714L191.66666666666669,97.4316601142857L200,111.48606011428572L200,200L191.66666666666669,200L183.33333333333331,190.46477554285715L175,174.9143846857143L166.66666666666669,174.6007664L158.33333333333331,182.4886064L150,192.08593211428573L141.66666666666669,192.23829782857143L133.33333333333331,192.18545668571429L125,187.33463154285715L116.66666666666667,183.8015664L108.33333333333333,178.65590697142858L100,167.4940006857143L91.66666666666666,159.0416304L83.33333333333334,165.22833668571428L75,175.04234811428574L66.66666666666666,174.74333554285715L58.333333333333336,189.8808441142857L50,200L41.66666666666667,200L33.33333333333333,200L25,200L16.666666666666664,200L8.333333333333332,200Z\" fill=\"#d62728\"></path></g></g><path class=\"foreground\" aria-hidden=\"true\" d=\"\" display=\"none\"></path></g><g transform=\"translate(0,0)\"><path class=\"background\" aria-hidden=\"true\" d=\"M0,0h200v200h-200Z\"></path><g><g class=\"mark-area role-mark marks\" role=\"graphics-object\" aria-roledescription=\"area mark container\"><path aria-label=\"hour: 2401; gen_sum: 0; resource: natural_gas_fired_combustion_turbine\" role=\"graphics-symbol\" aria-roledescription=\"area mark\" d=\"M8.333333333333332,200L16.666666666666664,200L25,200L33.33333333333333,200L41.66666666666667,200L50,200L58.333333333333336,189.8808441142857L66.66666666666666,174.74333554285715L75,175.04234811428574L83.33333333333334,165.22833668571428L91.66666666666666,159.0416304L100,167.4940006857143L108.33333333333333,178.65590697142858L116.66666666666667,183.8015664L125,187.33463154285715L133.33333333333331,192.18545668571429L141.66666666666669,192.23829782857143L150,192.08593211428573L158.33333333333331,182.4886064L166.66666666666669,174.6007664L175,174.9143846857143L183.33333333333331,190.46477554285715L191.66666666666669,200L200,200L200,200L191.66666666666669,200L183.33333333333331,200L175,200L166.66666666666669,200L158.33333333333331,200L150,200L141.66666666666669,200L133.33333333333331,200L125,200L116.66666666666667,200L108.33333333333333,200L100,200L91.66666666666666,200L83.33333333333334,200L75,200L66.66666666666666,200L58.333333333333336,200L50,200L41.66666666666667,200L33.33333333333333,200L25,200L16.666666666666664,200L8.333333333333332,200Z\" fill=\"#ff9896\"></path></g></g><path class=\"foreground\" aria-hidden=\"true\" d=\"\" display=\"none\"></path></g></g><g class=\"mark-group role-legend\" role=\"graphics-symbol\" aria-roledescription=\"legend\" aria-label=\"Symbol legend titled 'resource' for fill color with 8 values: _onshore_wind_turbine, _small_hydroelectric, _solar_photovoltaic, _solar_photovoltaic_btm, biomass, ending with natural_gas_fired_combustion_turbine\"><g transform=\"translate(218,0)\"><path class=\"background\" aria-hidden=\"true\" d=\"M0,0h175v118h-175Z\" pointer-events=\"none\"></path><g><g class=\"mark-group role-legend-entry\"><g transform=\"translate(0,16)\"><path class=\"background\" aria-hidden=\"true\" d=\"M0,0h0v0h0Z\" pointer-events=\"none\"></path><g><g class=\"mark-group role-scope\" role=\"graphics-object\" aria-roledescription=\"group mark container\"><g transform=\"translate(0,0)\"><path class=\"background\" aria-hidden=\"true\" d=\"M0,0h175v11h-175Z\" pointer-events=\"none\" opacity=\"1\"></path><g><g class=\"mark-symbol role-legend-symbol\" pointer-events=\"none\"><path transform=\"translate(6,6)\" d=\"M5,0A5,5,0,1,1,-5,0A5,5,0,1,1,5,0\" fill=\"#1f77b4\" stroke-width=\"1.5\" opacity=\"1\"></path></g><g class=\"mark-text role-legend-label\" pointer-events=\"none\"><text text-anchor=\"start\" transform=\"translate(16,9)\" font-family=\"sans-serif\" font-size=\"10px\" fill=\"#000\" opacity=\"1\">_onshore_wind_turbine</text></g></g><path class=\"foreground\" aria-hidden=\"true\" d=\"\" pointer-events=\"none\" display=\"none\"></path></g><g transform=\"translate(0,13)\"><path class=\"background\" aria-hidden=\"true\" d=\"M0,0h175v11h-175Z\" pointer-events=\"none\" opacity=\"1\"></path><g><g class=\"mark-symbol role-legend-symbol\" pointer-events=\"none\"><path transform=\"translate(6,6)\" d=\"M5,0A5,5,0,1,1,-5,0A5,5,0,1,1,5,0\" fill=\"#aec7e8\" stroke-width=\"1.5\" opacity=\"1\"></path></g><g class=\"mark-text role-legend-label\" pointer-events=\"none\"><text text-anchor=\"start\" transform=\"translate(16,9)\" font-family=\"sans-serif\" font-size=\"10px\" fill=\"#000\" opacity=\"1\">_small_hydroelectric</text></g></g><path class=\"foreground\" aria-hidden=\"true\" d=\"\" pointer-events=\"none\" display=\"none\"></path></g><g transform=\"translate(0,26)\"><path class=\"background\" aria-hidden=\"true\" d=\"M0,0h175v11h-175Z\" pointer-events=\"none\" opacity=\"1\"></path><g><g class=\"mark-symbol role-legend-symbol\" pointer-events=\"none\"><path transform=\"translate(6,6)\" d=\"M5,0A5,5,0,1,1,-5,0A5,5,0,1,1,5,0\" fill=\"#ff7f0e\" stroke-width=\"1.5\" opacity=\"1\"></path></g><g class=\"mark-text role-legend-label\" pointer-events=\"none\"><text text-anchor=\"start\" transform=\"translate(16,9)\" font-family=\"sans-serif\" font-size=\"10px\" fill=\"#000\" opacity=\"1\">_solar_photovoltaic</text></g></g><path class=\"foreground\" aria-hidden=\"true\" d=\"\" pointer-events=\"none\" display=\"none\"></path></g><g transform=\"translate(0,39)\"><path class=\"background\" aria-hidden=\"true\" d=\"M0,0h175v11h-175Z\" pointer-events=\"none\" opacity=\"1\"></path><g><g class=\"mark-symbol role-legend-symbol\" pointer-events=\"none\"><path transform=\"translate(6,6)\" d=\"M5,0A5,5,0,1,1,-5,0A5,5,0,1,1,5,0\" fill=\"#ffbb78\" stroke-width=\"1.5\" opacity=\"1\"></path></g><g class=\"mark-text role-legend-label\" pointer-events=\"none\"><text text-anchor=\"start\" transform=\"translate(16,9)\" font-family=\"sans-serif\" font-size=\"10px\" fill=\"#000\" opacity=\"1\">_solar_photovoltaic_btm</text></g></g><path class=\"foreground\" aria-hidden=\"true\" d=\"\" pointer-events=\"none\" display=\"none\"></path></g><g transform=\"translate(0,52)\"><path class=\"background\" aria-hidden=\"true\" d=\"M0,0h175v11h-175Z\" pointer-events=\"none\" opacity=\"1\"></path><g><g class=\"mark-symbol role-legend-symbol\" pointer-events=\"none\"><path transform=\"translate(6,6)\" d=\"M5,0A5,5,0,1,1,-5,0A5,5,0,1,1,5,0\" fill=\"#2ca02c\" stroke-width=\"1.5\" opacity=\"1\"></path></g><g class=\"mark-text role-legend-label\" pointer-events=\"none\"><text text-anchor=\"start\" transform=\"translate(16,9)\" font-family=\"sans-serif\" font-size=\"10px\" fill=\"#000\" opacity=\"1\">biomass</text></g></g><path class=\"foreground\" aria-hidden=\"true\" d=\"\" pointer-events=\"none\" display=\"none\"></path></g><g transform=\"translate(0,65)\"><path class=\"background\" aria-hidden=\"true\" d=\"M0,0h175v11h-175Z\" pointer-events=\"none\" opacity=\"1\"></path><g><g class=\"mark-symbol role-legend-symbol\" pointer-events=\"none\"><path transform=\"translate(6,6)\" d=\"M5,0A5,5,0,1,1,-5,0A5,5,0,1,1,5,0\" fill=\"#98df8a\" stroke-width=\"1.5\" opacity=\"1\"></path></g><g class=\"mark-text role-legend-label\" pointer-events=\"none\"><text text-anchor=\"start\" transform=\"translate(16,9)\" font-family=\"sans-serif\" font-size=\"10px\" fill=\"#000\" opacity=\"1\">hydroelectric_pumped_storage</text></g></g><path class=\"foreground\" aria-hidden=\"true\" d=\"\" pointer-events=\"none\" display=\"none\"></path></g><g transform=\"translate(0,78)\"><path class=\"background\" aria-hidden=\"true\" d=\"M0,0h175v11h-175Z\" pointer-events=\"none\" opacity=\"1\"></path><g><g class=\"mark-symbol role-legend-symbol\" pointer-events=\"none\"><path transform=\"translate(6,6)\" d=\"M5,0A5,5,0,1,1,-5,0A5,5,0,1,1,5,0\" fill=\"#d62728\" stroke-width=\"1.5\" opacity=\"1\"></path></g><g class=\"mark-text role-legend-label\" pointer-events=\"none\"><text text-anchor=\"start\" transform=\"translate(16,9)\" font-family=\"sans-serif\" font-size=\"10px\" fill=\"#000\" opacity=\"1\">natural_gas_fired_combined_cy…</text></g></g><path class=\"foreground\" aria-hidden=\"true\" d=\"\" pointer-events=\"none\" display=\"none\"></path></g><g transform=\"translate(0,91)\"><path class=\"background\" aria-hidden=\"true\" d=\"M0,0h175v11h-175Z\" pointer-events=\"none\" opacity=\"1\"></path><g><g class=\"mark-symbol role-legend-symbol\" pointer-events=\"none\"><path transform=\"translate(6,6)\" d=\"M5,0A5,5,0,1,1,-5,0A5,5,0,1,1,5,0\" fill=\"#ff9896\" stroke-width=\"1.5\" opacity=\"1\"></path></g><g class=\"mark-text role-legend-label\" pointer-events=\"none\"><text text-anchor=\"start\" transform=\"translate(16,9)\" font-family=\"sans-serif\" font-size=\"10px\" fill=\"#000\" opacity=\"1\">natural_gas_fired_combustion_t…</text></g></g><path class=\"foreground\" aria-hidden=\"true\" d=\"\" pointer-events=\"none\" display=\"none\"></path></g></g></g><path class=\"foreground\" aria-hidden=\"true\" d=\"\" pointer-events=\"none\" display=\"none\"></path></g></g><g class=\"mark-text role-legend-title\" pointer-events=\"none\"><text text-anchor=\"start\" transform=\"translate(0,9)\" font-family=\"sans-serif\" font-size=\"11px\" font-weight=\"bold\" fill=\"#000\" opacity=\"1\">resource</text></g></g><path class=\"foreground\" aria-hidden=\"true\" d=\"\" pointer-events=\"none\" display=\"none\"></path></g></g></g><path class=\"foreground\" aria-hidden=\"true\" d=\"\" display=\"none\"></path></g></g></g></svg>\n"
      ],
      "text/plain": [
       "@vlplot(\n",
       "    mark=\"area\",\n",
       "    encoding={\n",
       "        x={\n",
       "            field=\"hour\"\n",
       "        },\n",
       "        y={\n",
       "            stack=\"zero\",\n",
       "            field=\"gen_sum\"\n",
       "        },\n",
       "        color={\n",
       "            scale={\n",
       "                scheme=\"category20\"\n",
       "            },\n",
       "            field=\"resource\",\n",
       "            type=\"nominal\"\n",
       "        }\n",
       "    },\n",
       "    data={\n",
       "        values=...\n",
       "    }\n",
       ")"
      ]
     },
     "execution_count": 23,
     "metadata": {},
     "output_type": "execute_result"
    }
   ],
   "source": [
    "solution = economic_dispatch_multi_time(gen_df, loads_multi, gen_variable_multi);\n",
    "\n",
    "sol_gen = innerjoin(solution.solution, \n",
    "                    gen_df[!, [:r_id, :resource]], \n",
    "                    on = :r_id)\n",
    "sol_gen = combine(groupby(sol_gen, [:resource, :hour]), \n",
    "            :gen => sum)\n",
    "sol_gen_btm = sol_gen\n",
    "sol_gen_btm[sol_gen_btm.resource .== \"solar_photovoltaic\", :resource] .= \"_solar_photovoltaic\"\n",
    "sol_gen_btm[sol_gen_btm.resource .== \"onshore_wind_turbine\", :resource] .= \"_onshore_wind_turbine\"\n",
    "sol_gen_btm[sol_gen_btm.resource .== \"small_hydroelectric\", :resource] .= \"_small_hydroelectric\"\n",
    "\n",
    "btm = DataFrame(resource = repeat([\"_solar_photovoltaic_btm\"]; outer=length(T_period)), \n",
    "    hour = T_period,\n",
    "    gen_sum = gen_variable_multi[gen_variable_multi.gen_full .== \"wec_sdge_solar_photovoltaic_1.0\",:cf] * 600)\n",
    "append!(sol_gen_btm, btm)\n",
    "\n",
    "# Reorder resources\n",
    "sort!(sol_gen_btm, [:hour, :resource])\n",
    "\n",
    "sol_gen_btm |>\n",
    "@vlplot(:area, \n",
    "    x=:hour, y={:gen_sum, stack=:zero}, \n",
    "    color={\"resource:n\", scale={scheme=\"category20\"}})"
   ]
  },
  {
   "cell_type": "markdown",
   "metadata": {},
   "source": [
    "### 5. Run sensitivity on solar capacity\n",
    "\n",
    "Let's now examine what happens if we increase utility solar capacity from the current 500MW up to 3,500MW."
   ]
  },
  {
   "cell_type": "code",
   "execution_count": 24,
   "metadata": {},
   "outputs": [
    {
     "data": {
      "application/vnd.vegalite.v4+json": {
       "data": {
        "values": [
         {
          "gen_sum": 163.3088,
          "hour": 2401,
          "resource": "_onshore_wind_turbine"
         },
         {
          "gen_sum": 3.184932,
          "hour": 2401,
          "resource": "_small_hydroelectric"
         },
         {
          "gen_sum": 0,
          "hour": 2401,
          "resource": "_solar_photovoltaic"
         },
         {
          "gen_sum": 0,
          "hour": 2401,
          "resource": "_solar_photovoltaic_btm"
         },
         {
          "gen_sum": 21.4,
          "hour": 2401,
          "resource": "biomass"
         },
         {
          "gen_sum": 42,
          "hour": 2401,
          "resource": "hydroelectric_pumped_storage"
         },
         {
          "gen_sum": 1385.106268,
          "hour": 2401,
          "resource": "natural_gas_fired_combined_cycle"
         },
         {
          "gen_sum": 0,
          "hour": 2401,
          "resource": "natural_gas_fired_combustion_turbine"
         },
         {
          "gen_sum": 169.79327999999998,
          "hour": 2402,
          "resource": "_onshore_wind_turbine"
         },
         {
          "gen_sum": 3.184932,
          "hour": 2402,
          "resource": "_small_hydroelectric"
         },
         {
          "gen_sum": 0,
          "hour": 2402,
          "resource": "_solar_photovoltaic"
         },
         {
          "gen_sum": 0,
          "hour": 2402,
          "resource": "_solar_photovoltaic_btm"
         },
         {
          "gen_sum": 21.4,
          "hour": 2402,
          "resource": "biomass"
         },
         {
          "gen_sum": 42,
          "hour": 2402,
          "resource": "hydroelectric_pumped_storage"
         },
         {
          "gen_sum": 1316.621788,
          "hour": 2402,
          "resource": "natural_gas_fired_combined_cycle"
         },
         {
          "gen_sum": 0,
          "hour": 2402,
          "resource": "natural_gas_fired_combustion_turbine"
         },
         {
          "gen_sum": 115.1104,
          "hour": 2403,
          "resource": "_onshore_wind_turbine"
         },
         {
          "gen_sum": 3.184932,
          "hour": 2403,
          "resource": "_small_hydroelectric"
         },
         {
          "gen_sum": 0,
          "hour": 2403,
          "resource": "_solar_photovoltaic"
         },
         {
          "gen_sum": 0,
          "hour": 2403,
          "resource": "_solar_photovoltaic_btm"
         },
         {
          "gen_sum": 21.4,
          "hour": 2403,
          "resource": "biomass"
         },
         {
          "gen_sum": 42,
          "hour": 2403,
          "resource": "hydroelectric_pumped_storage"
         },
         {
          "gen_sum": 1336.304668,
          "hour": 2403,
          "resource": "natural_gas_fired_combined_cycle"
         },
         {
          "gen_sum": 0,
          "hour": 2403,
          "resource": "natural_gas_fired_combustion_turbine"
         },
         {
          "gen_sum": 100.55296,
          "hour": 2404,
          "resource": "_onshore_wind_turbine"
         },
         {
          "gen_sum": 3.184932,
          "hour": 2404,
          "resource": "_small_hydroelectric"
         },
         {
          "gen_sum": 0,
          "hour": 2404,
          "resource": "_solar_photovoltaic"
         },
         {
          "gen_sum": 0,
          "hour": 2404,
          "resource": "_solar_photovoltaic_btm"
         },
         {
          "gen_sum": 21.4,
          "hour": 2404,
          "resource": "biomass"
         },
         {
          "gen_sum": 42,
          "hour": 2404,
          "resource": "hydroelectric_pumped_storage"
         },
         {
          "gen_sum": 1394.8621079999998,
          "hour": 2404,
          "resource": "natural_gas_fired_combined_cycle"
         },
         {
          "gen_sum": 0,
          "hour": 2404,
          "resource": "natural_gas_fired_combustion_turbine"
         },
         {
          "gen_sum": 80.57727999999997,
          "hour": 2405,
          "resource": "_onshore_wind_turbine"
         },
         {
          "gen_sum": 3.184932,
          "hour": 2405,
          "resource": "_small_hydroelectric"
         },
         {
          "gen_sum": 0,
          "hour": 2405,
          "resource": "_solar_photovoltaic"
         },
         {
          "gen_sum": 0,
          "hour": 2405,
          "resource": "_solar_photovoltaic_btm"
         },
         {
          "gen_sum": 21.4,
          "hour": 2405,
          "resource": "biomass"
         },
         {
          "gen_sum": 42,
          "hour": 2405,
          "resource": "hydroelectric_pumped_storage"
         },
         {
          "gen_sum": 1585.8377880000003,
          "hour": 2405,
          "resource": "natural_gas_fired_combined_cycle"
         },
         {
          "gen_sum": 0,
          "hour": 2405,
          "resource": "natural_gas_fired_combustion_turbine"
         },
         {
          "gen_sum": 139.17695999999998,
          "hour": 2406,
          "resource": "_onshore_wind_turbine"
         },
         {
          "gen_sum": 3.184932,
          "hour": 2406,
          "resource": "_small_hydroelectric"
         },
         {
          "gen_sum": 0,
          "hour": 2406,
          "resource": "_solar_photovoltaic"
         },
         {
          "gen_sum": 0,
          "hour": 2406,
          "resource": "_solar_photovoltaic_btm"
         },
         {
          "gen_sum": 21.4,
          "hour": 2406,
          "resource": "biomass"
         },
         {
          "gen_sum": 42,
          "hour": 2406,
          "resource": "hydroelectric_pumped_storage"
         },
         {
          "gen_sum": 1770.238108,
          "hour": 2406,
          "resource": "natural_gas_fired_combined_cycle"
         },
         {
          "gen_sum": 0,
          "hour": 2406,
          "resource": "natural_gas_fired_combustion_turbine"
         },
         {
          "gen_sum": 74.17984,
          "hour": 2407,
          "resource": "_onshore_wind_turbine"
         },
         {
          "gen_sum": 3.184932,
          "hour": 2407,
          "resource": "_small_hydroelectric"
         },
         {
          "gen_sum": 193.55000000000052,
          "hour": 2407,
          "resource": "_solar_photovoltaic"
         },
         {
          "gen_sum": 33.18,
          "hour": 2407,
          "resource": "_solar_photovoltaic_btm"
         },
         {
          "gen_sum": 21.4,
          "hour": 2407,
          "resource": "biomass"
         },
         {
          "gen_sum": 42,
          "hour": 2407,
          "resource": "hydroelectric_pumped_storage"
         },
         {
          "gen_sum": 1928.5,
          "hour": 2407,
          "resource": "natural_gas_fired_combined_cycle"
         },
         {
          "gen_sum": 11.185227999999483,
          "hour": 2407,
          "resource": "natural_gas_fired_combustion_turbine"
         },
         {
          "gen_sum": 49.373439999999995,
          "hour": 2408,
          "resource": "_onshore_wind_turbine"
         },
         {
          "gen_sum": 3.184932,
          "hour": 2408,
          "resource": "_small_hydroelectric"
         },
         {
          "gen_sum": 773.8499999999999,
          "hour": 2408,
          "resource": "_solar_photovoltaic"
         },
         {
          "gen_sum": 132.66,
          "hour": 2408,
          "resource": "_solar_photovoltaic_btm"
         },
         {
          "gen_sum": 21.4,
          "hour": 2408,
          "resource": "biomass"
         },
         {
          "gen_sum": 42,
          "hour": 2408,
          "resource": "hydroelectric_pumped_storage"
         },
         {
          "gen_sum": 1707.1916279999998,
          "hour": 2408,
          "resource": "natural_gas_fired_combined_cycle"
         },
         {
          "gen_sum": 0,
          "hour": 2408,
          "resource": "natural_gas_fired_combustion_turbine"
         },
         {
          "gen_sum": 167.35616,
          "hour": 2409,
          "resource": "_onshore_wind_turbine"
         },
         {
          "gen_sum": 3.184932,
          "hour": 2409,
          "resource": "_small_hydroelectric"
         },
         {
          "gen_sum": 1671.6,
          "hour": 2409,
          "resource": "_solar_photovoltaic"
         },
         {
          "gen_sum": 286.56,
          "hour": 2409,
          "resource": "_solar_photovoltaic_btm"
         },
         {
          "gen_sum": 21.4,
          "hour": 2409,
          "resource": "biomass"
         },
         {
          "gen_sum": 42,
          "hour": 2409,
          "resource": "hydroelectric_pumped_storage"
         },
         {
          "gen_sum": 932.458908,
          "hour": 2409,
          "resource": "natural_gas_fired_combined_cycle"
         },
         {
          "gen_sum": 0,
          "hour": 2409,
          "resource": "natural_gas_fired_combustion_turbine"
         },
         {
          "gen_sum": 131.56096,
          "hour": 2410,
          "resource": "_onshore_wind_turbine"
         },
         {
          "gen_sum": 3.184932,
          "hour": 2410,
          "resource": "_small_hydroelectric"
         },
         {
          "gen_sum": 2014.95,
          "hour": 2410,
          "resource": "_solar_photovoltaic"
         },
         {
          "gen_sum": 345.42,
          "hour": 2410,
          "resource": "_solar_photovoltaic_btm"
         },
         {
          "gen_sum": 21.4,
          "hour": 2410,
          "resource": "biomass"
         },
         {
          "gen_sum": 42,
          "hour": 2410,
          "resource": "hydroelectric_pumped_storage"
         },
         {
          "gen_sum": 809.904108,
          "hour": 2410,
          "resource": "natural_gas_fired_combined_cycle"
         },
         {
          "gen_sum": 0,
          "hour": 2410,
          "resource": "natural_gas_fired_combustion_turbine"
         },
         {
          "gen_sum": 111.1936,
          "hour": 2411,
          "resource": "_onshore_wind_turbine"
         },
         {
          "gen_sum": 3.184932,
          "hour": 2411,
          "resource": "_small_hydroelectric"
         },
         {
          "gen_sum": 2113.6499999999996,
          "hour": 2411,
          "resource": "_solar_photovoltaic"
         },
         {
          "gen_sum": 362.34,
          "hour": 2411,
          "resource": "_solar_photovoltaic_btm"
         },
         {
          "gen_sum": 21.4,
          "hour": 2411,
          "resource": "biomass"
         },
         {
          "gen_sum": 42,
          "hour": 2411,
          "resource": "hydroelectric_pumped_storage"
         },
         {
          "gen_sum": 833.5714679999999,
          "hour": 2411,
          "resource": "natural_gas_fired_combined_cycle"
         },
         {
          "gen_sum": 0,
          "hour": 2411,
          "resource": "natural_gas_fired_combustion_turbine"
         },
         {
          "gen_sum": 92.11008,
          "hour": 2412,
          "resource": "_onshore_wind_turbine"
         },
         {
          "gen_sum": 3.184932,
          "hour": 2412,
          "resource": "_small_hydroelectric"
         },
         {
          "gen_sum": 2148.65,
          "hour": 2412,
          "resource": "_solar_photovoltaic"
         },
         {
          "gen_sum": 368.34,
          "hour": 2412,
          "resource": "_solar_photovoltaic_btm"
         },
         {
          "gen_sum": 21.4,
          "hour": 2412,
          "resource": "biomass"
         },
         {
          "gen_sum": 42,
          "hour": 2412,
          "resource": "hydroelectric_pumped_storage"
         },
         {
          "gen_sum": 655.6549879999999,
          "hour": 2412,
          "resource": "natural_gas_fired_combined_cycle"
         },
         {
          "gen_sum": 0,
          "hour": 2412,
          "resource": "natural_gas_fired_combustion_turbine"
         },
         {
          "gen_sum": 52.09344,
          "hour": 2413,
          "resource": "_onshore_wind_turbine"
         },
         {
          "gen_sum": 3.184932,
          "hour": 2413,
          "resource": "_small_hydroelectric"
         },
         {
          "gen_sum": 2256.0999999999995,
          "hour": 2413,
          "resource": "_solar_photovoltaic"
         },
         {
          "gen_sum": 386.76,
          "hour": 2413,
          "resource": "_solar_photovoltaic_btm"
         },
         {
          "gen_sum": 21.4,
          "hour": 2413,
          "resource": "biomass"
         },
         {
          "gen_sum": 42,
          "hour": 2413,
          "resource": "hydroelectric_pumped_storage"
         },
         {
          "gen_sum": 368.2216280000001,
          "hour": 2413,
          "resource": "natural_gas_fired_combined_cycle"
         },
         {
          "gen_sum": 0,
          "hour": 2413,
          "resource": "natural_gas_fired_combustion_turbine"
         },
         {
          "gen_sum": 64.69248,
          "hour": 2414,
          "resource": "_onshore_wind_turbine"
         },
         {
          "gen_sum": 3.184932,
          "hour": 2414,
          "resource": "_small_hydroelectric"
         },
         {
          "gen_sum": 2259.2499999999995,
          "hour": 2414,
          "resource": "_solar_photovoltaic"
         },
         {
          "gen_sum": 387.29999999999995,
          "hour": 2414,
          "resource": "_solar_photovoltaic_btm"
         },
         {
          "gen_sum": 21.4,
          "hour": 2414,
          "resource": "biomass"
         },
         {
          "gen_sum": 42,
          "hour": 2414,
          "resource": "hydroelectric_pumped_storage"
         },
         {
          "gen_sum": 275.472588,
          "hour": 2414,
          "resource": "natural_gas_fired_combined_cycle"
         },
         {
          "gen_sum": 0,
          "hour": 2414,
          "resource": "natural_gas_fired_combustion_turbine"
         },
         {
          "gen_sum": 49.22112,
          "hour": 2415,
          "resource": "_onshore_wind_turbine"
         },
         {
          "gen_sum": 3.184932,
          "hour": 2415,
          "resource": "_small_hydroelectric"
         },
         {
          "gen_sum": 2184.3499999999995,
          "hour": 2415,
          "resource": "_solar_photovoltaic"
         },
         {
          "gen_sum": 374.46,
          "hour": 2415,
          "resource": "_solar_photovoltaic_btm"
         },
         {
          "gen_sum": 21.4,
          "hour": 2415,
          "resource": "biomass"
         },
         {
          "gen_sum": 42,
          "hour": 2415,
          "resource": "hydroelectric_pumped_storage"
         },
         {
          "gen_sum": 277.84394800000007,
          "hour": 2415,
          "resource": "natural_gas_fired_combined_cycle"
         },
         {
          "gen_sum": 0,
          "hour": 2415,
          "resource": "natural_gas_fired_combustion_turbine"
         },
         {
          "gen_sum": 65.41055999999999,
          "hour": 2416,
          "resource": "_onshore_wind_turbine"
         },
         {
          "gen_sum": 3.184932,
          "hour": 2416,
          "resource": "_small_hydroelectric"
         },
         {
          "gen_sum": 1993.2499999999993,
          "hour": 2416,
          "resource": "_solar_photovoltaic"
         },
         {
          "gen_sum": 341.7,
          "hour": 2416,
          "resource": "_solar_photovoltaic_btm"
         },
         {
          "gen_sum": 21.4,
          "hour": 2416,
          "resource": "biomass"
         },
         {
          "gen_sum": 42,
          "hour": 2416,
          "resource": "hydroelectric_pumped_storage"
         },
         {
          "gen_sum": 356.7545080000001,
          "hour": 2416,
          "resource": "natural_gas_fired_combined_cycle"
         },
         {
          "gen_sum": 0,
          "hour": 2416,
          "resource": "natural_gas_fired_combustion_turbine"
         },
         {
          "gen_sum": 57.18527999999999,
          "hour": 2417,
          "resource": "_onshore_wind_turbine"
         },
         {
          "gen_sum": 3.184932,
          "hour": 2417,
          "resource": "_small_hydroelectric"
         },
         {
          "gen_sum": 1637.3,
          "hour": 2417,
          "resource": "_solar_photovoltaic"
         },
         {
          "gen_sum": 280.68,
          "hour": 2417,
          "resource": "_solar_photovoltaic_btm"
         },
         {
          "gen_sum": 21.4,
          "hour": 2417,
          "resource": "biomass"
         },
         {
          "gen_sum": 42,
          "hour": 2417,
          "resource": "hydroelectric_pumped_storage"
         },
         {
          "gen_sum": 660.929788,
          "hour": 2417,
          "resource": "natural_gas_fired_combined_cycle"
         },
         {
          "gen_sum": 0,
          "hour": 2417,
          "resource": "natural_gas_fired_combustion_turbine"
         },
         {
          "gen_sum": 78.61888,
          "hour": 2418,
          "resource": "_onshore_wind_turbine"
         },
         {
          "gen_sum": 3.184932,
          "hour": 2418,
          "resource": "_small_hydroelectric"
         },
         {
          "gen_sum": 1132.5999999999997,
          "hour": 2418,
          "resource": "_solar_photovoltaic"
         },
         {
          "gen_sum": 194.16,
          "hour": 2418,
          "resource": "_solar_photovoltaic_btm"
         },
         {
          "gen_sum": 21.4,
          "hour": 2418,
          "resource": "biomass"
         },
         {
          "gen_sum": 42,
          "hour": 2418,
          "resource": "hydroelectric_pumped_storage"
         },
         {
          "gen_sum": 1096.1961880000001,
          "hour": 2418,
          "resource": "natural_gas_fired_combined_cycle"
         },
         {
          "gen_sum": 0,
          "hour": 2418,
          "resource": "natural_gas_fired_combustion_turbine"
         },
         {
          "gen_sum": 52.61568,
          "hour": 2419,
          "resource": "_onshore_wind_turbine"
         },
         {
          "gen_sum": 3.184932,
          "hour": 2419,
          "resource": "_small_hydroelectric"
         },
         {
          "gen_sum": 166.95,
          "hour": 2419,
          "resource": "_solar_photovoltaic"
         },
         {
          "gen_sum": 28.62,
          "hour": 2419,
          "resource": "_solar_photovoltaic_btm"
         },
         {
          "gen_sum": 21.4,
          "hour": 2419,
          "resource": "biomass"
         },
         {
          "gen_sum": 42,
          "hour": 2419,
          "resource": "hydroelectric_pumped_storage"
         },
         {
          "gen_sum": 1912.62,
          "hour": 2419,
          "resource": "natural_gas_fired_combined_cycle"
         },
         {
          "gen_sum": 179.22938799999997,
          "hour": 2419,
          "resource": "natural_gas_fired_combustion_turbine"
         },
         {
          "gen_sum": 61.42848,
          "hour": 2420,
          "resource": "_onshore_wind_turbine"
         },
         {
          "gen_sum": 3.184932,
          "hour": 2420,
          "resource": "_small_hydroelectric"
         },
         {
          "gen_sum": 0,
          "hour": 2420,
          "resource": "_solar_photovoltaic"
         },
         {
          "gen_sum": 0,
          "hour": 2420,
          "resource": "_solar_photovoltaic_btm"
         },
         {
          "gen_sum": 21.4,
          "hour": 2420,
          "resource": "biomass"
         },
         {
          "gen_sum": 42,
          "hour": 2420,
          "resource": "hydroelectric_pumped_storage"
         },
         {
          "gen_sum": 1928.5,
          "hour": 2420,
          "resource": "natural_gas_fired_combined_cycle"
         },
         {
          "gen_sum": 444.48658799999987,
          "hour": 2420,
          "resource": "natural_gas_fired_combustion_turbine"
         },
         {
          "gen_sum": 71.9168,
          "hour": 2421,
          "resource": "_onshore_wind_turbine"
         },
         {
          "gen_sum": 3.184932,
          "hour": 2421,
          "resource": "_small_hydroelectric"
         },
         {
          "gen_sum": 0,
          "hour": 2421,
          "resource": "_solar_photovoltaic"
         },
         {
          "gen_sum": 0,
          "hour": 2421,
          "resource": "_solar_photovoltaic_btm"
         },
         {
          "gen_sum": 21.4,
          "hour": 2421,
          "resource": "biomass"
         },
         {
          "gen_sum": 42,
          "hour": 2421,
          "resource": "hydroelectric_pumped_storage"
         },
         {
          "gen_sum": 1928.5,
          "hour": 2421,
          "resource": "natural_gas_fired_combined_cycle"
         },
         {
          "gen_sum": 438.99826799999994,
          "hour": 2421,
          "resource": "natural_gas_fired_combustion_turbine"
         },
         {
          "gen_sum": 96.04863999999952,
          "hour": 2422,
          "resource": "_onshore_wind_turbine"
         },
         {
          "gen_sum": 3.184932,
          "hour": 2422,
          "resource": "_small_hydroelectric"
         },
         {
          "gen_sum": 0,
          "hour": 2422,
          "resource": "_solar_photovoltaic"
         },
         {
          "gen_sum": 0,
          "hour": 2422,
          "resource": "_solar_photovoltaic_btm"
         },
         {
          "gen_sum": 21.4,
          "hour": 2422,
          "resource": "biomass"
         },
         {
          "gen_sum": 42,
          "hour": 2422,
          "resource": "hydroelectric_pumped_storage"
         },
         {
          "gen_sum": 1928.5,
          "hour": 2422,
          "resource": "natural_gas_fired_combined_cycle"
         },
         {
          "gen_sum": 166.86642800000004,
          "hour": 2422,
          "resource": "natural_gas_fired_combustion_turbine"
         },
         {
          "gen_sum": 126.46912,
          "hour": 2423,
          "resource": "_onshore_wind_turbine"
         },
         {
          "gen_sum": 3.184932,
          "hour": 2423,
          "resource": "_small_hydroelectric"
         },
         {
          "gen_sum": 0,
          "hour": 2423,
          "resource": "_solar_photovoltaic"
         },
         {
          "gen_sum": 0,
          "hour": 2423,
          "resource": "_solar_photovoltaic_btm"
         },
         {
          "gen_sum": 21.4,
          "hour": 2423,
          "resource": "biomass"
         },
         {
          "gen_sum": 42,
          "hour": 2423,
          "resource": "hydroelectric_pumped_storage"
         },
         {
          "gen_sum": 1794.945948,
          "hour": 2423,
          "resource": "natural_gas_fired_combined_cycle"
         },
         {
          "gen_sum": 0,
          "hour": 2423,
          "resource": "natural_gas_fired_combustion_turbine"
         },
         {
          "gen_sum": 144.42112000000006,
          "hour": 2424,
          "resource": "_onshore_wind_turbine"
         },
         {
          "gen_sum": 3.184932,
          "hour": 2424,
          "resource": "_small_hydroelectric"
         },
         {
          "gen_sum": 0,
          "hour": 2424,
          "resource": "_solar_photovoltaic"
         },
         {
          "gen_sum": 0,
          "hour": 2424,
          "resource": "_solar_photovoltaic_btm"
         },
         {
          "gen_sum": 21.4,
          "hour": 2424,
          "resource": "biomass"
         },
         {
          "gen_sum": 42,
          "hour": 2424,
          "resource": "hydroelectric_pumped_storage"
         },
         {
          "gen_sum": 1548.9939479999998,
          "hour": 2424,
          "resource": "natural_gas_fired_combined_cycle"
         },
         {
          "gen_sum": 0,
          "hour": 2424,
          "resource": "natural_gas_fired_combustion_turbine"
         }
        ]
       },
       "encoding": {
        "color": {
         "field": "resource",
         "scale": {
          "scheme": "category20"
         },
         "type": "nominal"
        },
        "x": {
         "field": "hour",
         "type": "quantitative"
        },
        "y": {
         "field": "gen_sum",
         "stack": "zero",
         "type": "quantitative"
        }
       },
       "mark": "area"
      },
      "image/png": "[encoded data removed]",
      "image/svg+xml": [
       "<?xml version=\"1.0\" encoding=\"utf-8\"?>\n",
       "<!DOCTYPE svg PUBLIC \"-//W3C//DTD SVG 1.1//EN\" \"http://www.w3.org/Graphics/SVG/1.1/DTD/svg11.dtd\">\n",
       "<svg class=\"marks\" width=\"452\" height=\"247\" viewBox=\"0 0 452 247\" version=\"1.1\" xmlns=\"http://www.w3.org/2000/svg\" xmlns:xlink=\"http://www.w3.org/1999/xlink\"><rect width=\"452\" height=\"247\" fill=\"white\"></rect><g fill=\"none\" stroke-miterlimit=\"10\" transform=\"translate(54,10)\"><g class=\"mark-group role-frame root\" role=\"graphics-object\" aria-roledescription=\"group mark container\"><g transform=\"translate(0,0)\"><path class=\"background\" aria-hidden=\"true\" d=\"M0.5,0.5h200v200h-200Z\" stroke=\"#ddd\"></path><g><g class=\"mark-group role-axis\" aria-hidden=\"true\"><g transform=\"translate(0.5,200.5)\"><path class=\"background\" aria-hidden=\"true\" d=\"M0,0h0v0h0Z\" pointer-events=\"none\"></path><g><g class=\"mark-rule role-axis-grid\" pointer-events=\"none\"><line transform=\"translate(0,-200)\" x2=\"0\" y2=\"200\" stroke=\"#ddd\" stroke-width=\"1\" opacity=\"1\"></line><line transform=\"translate(42,-200)\" x2=\"0\" y2=\"200\" stroke=\"#ddd\" stroke-width=\"1\" opacity=\"1\"></line><line transform=\"translate(83,-200)\" x2=\"0\" y2=\"200\" stroke=\"#ddd\" stroke-width=\"1\" opacity=\"1\"></line><line transform=\"translate(125,-200)\" x2=\"0\" y2=\"200\" stroke=\"#ddd\" stroke-width=\"1\" opacity=\"1\"></line><line transform=\"translate(167,-200)\" x2=\"0\" y2=\"200\" stroke=\"#ddd\" stroke-width=\"1\" opacity=\"1\"></line></g></g><path class=\"foreground\" aria-hidden=\"true\" d=\"\" pointer-events=\"none\" display=\"none\"></path></g></g><g class=\"mark-group role-axis\" aria-hidden=\"true\"><g transform=\"translate(0.5,0.5)\"><path class=\"background\" aria-hidden=\"true\" d=\"M0,0h0v0h0Z\" pointer-events=\"none\"></path><g><g class=\"mark-rule role-axis-grid\" pointer-events=\"none\"><line transform=\"translate(0,200)\" x2=\"200\" y2=\"0\" stroke=\"#ddd\" stroke-width=\"1\" opacity=\"1\"></line><line transform=\"translate(0,171)\" x2=\"200\" y2=\"0\" stroke=\"#ddd\" stroke-width=\"1\" opacity=\"1\"></line><line transform=\"translate(0,143)\" x2=\"200\" y2=\"0\" stroke=\"#ddd\" stroke-width=\"1\" opacity=\"1\"></line><line transform=\"translate(0,114)\" x2=\"200\" y2=\"0\" stroke=\"#ddd\" stroke-width=\"1\" opacity=\"1\"></line><line transform=\"translate(0,86)\" x2=\"200\" y2=\"0\" stroke=\"#ddd\" stroke-width=\"1\" opacity=\"1\"></line><line transform=\"translate(0,57)\" x2=\"200\" y2=\"0\" stroke=\"#ddd\" stroke-width=\"1\" opacity=\"1\"></line><line transform=\"translate(0,29)\" x2=\"200\" y2=\"0\" stroke=\"#ddd\" stroke-width=\"1\" opacity=\"1\"></line><line transform=\"translate(0,0)\" x2=\"200\" y2=\"0\" stroke=\"#ddd\" stroke-width=\"1\" opacity=\"1\"></line></g></g><path class=\"foreground\" aria-hidden=\"true\" d=\"\" pointer-events=\"none\" display=\"none\"></path></g></g><g class=\"mark-group role-axis\" role=\"graphics-symbol\" aria-roledescription=\"axis\" aria-label=\"X-axis titled 'hour' for a linear scale with values from 2,400 to 2,424\"><g transform=\"translate(0.5,200.5)\"><path class=\"background\" aria-hidden=\"true\" d=\"M0,0h0v0h0Z\" pointer-events=\"none\"></path><g><g class=\"mark-rule role-axis-tick\" pointer-events=\"none\"><line transform=\"translate(0,0)\" x2=\"0\" y2=\"5\" stroke=\"#888\" stroke-width=\"1\" opacity=\"1\"></line><line transform=\"translate(42,0)\" x2=\"0\" y2=\"5\" stroke=\"#888\" stroke-width=\"1\" opacity=\"1\"></line><line transform=\"translate(83,0)\" x2=\"0\" y2=\"5\" stroke=\"#888\" stroke-width=\"1\" opacity=\"1\"></line><line transform=\"translate(125,0)\" x2=\"0\" y2=\"5\" stroke=\"#888\" stroke-width=\"1\" opacity=\"1\"></line><line transform=\"translate(167,0)\" x2=\"0\" y2=\"5\" stroke=\"#888\" stroke-width=\"1\" opacity=\"1\"></line></g><g class=\"mark-text role-axis-label\" pointer-events=\"none\"><text text-anchor=\"start\" transform=\"translate(0,15)\" font-family=\"sans-serif\" font-size=\"10px\" fill=\"#000\" opacity=\"1\">2,400</text><text text-anchor=\"middle\" transform=\"translate(41.66666666666667,15)\" font-family=\"sans-serif\" font-size=\"10px\" fill=\"#000\" opacity=\"1\">2,405</text><text text-anchor=\"middle\" transform=\"translate(83.33333333333334,15)\" font-family=\"sans-serif\" font-size=\"10px\" fill=\"#000\" opacity=\"1\">2,410</text><text text-anchor=\"middle\" transform=\"translate(125,15)\" font-family=\"sans-serif\" font-size=\"10px\" fill=\"#000\" opacity=\"1\">2,415</text><text text-anchor=\"middle\" transform=\"translate(166.66666666666669,15)\" font-family=\"sans-serif\" font-size=\"10px\" fill=\"#000\" opacity=\"1\">2,420</text></g><g class=\"mark-rule role-axis-domain\" pointer-events=\"none\"><line transform=\"translate(0,0)\" x2=\"200\" y2=\"0\" stroke=\"#888\" stroke-width=\"1\" opacity=\"1\"></line></g><g class=\"mark-text role-axis-title\" pointer-events=\"none\"><text text-anchor=\"middle\" transform=\"translate(100,30)\" font-family=\"sans-serif\" font-size=\"11px\" font-weight=\"bold\" fill=\"#000\" opacity=\"1\">hour</text></g></g><path class=\"foreground\" aria-hidden=\"true\" d=\"\" pointer-events=\"none\" display=\"none\"></path></g></g><g class=\"mark-group role-axis\" role=\"graphics-symbol\" aria-roledescription=\"axis\" aria-label=\"Y-axis titled 'gen_sum' for a linear scale with values from 0 to 3,500\"><g transform=\"translate(0.5,0.5)\"><path class=\"background\" aria-hidden=\"true\" d=\"M0,0h0v0h0Z\" pointer-events=\"none\"></path><g><g class=\"mark-rule role-axis-tick\" pointer-events=\"none\"><line transform=\"translate(0,200)\" x2=\"-5\" y2=\"0\" stroke=\"#888\" stroke-width=\"1\" opacity=\"1\"></line><line transform=\"translate(0,171)\" x2=\"-5\" y2=\"0\" stroke=\"#888\" stroke-width=\"1\" opacity=\"1\"></line><line transform=\"translate(0,143)\" x2=\"-5\" y2=\"0\" stroke=\"#888\" stroke-width=\"1\" opacity=\"1\"></line><line transform=\"translate(0,114)\" x2=\"-5\" y2=\"0\" stroke=\"#888\" stroke-width=\"1\" opacity=\"1\"></line><line transform=\"translate(0,86)\" x2=\"-5\" y2=\"0\" stroke=\"#888\" stroke-width=\"1\" opacity=\"1\"></line><line transform=\"translate(0,57)\" x2=\"-5\" y2=\"0\" stroke=\"#888\" stroke-width=\"1\" opacity=\"1\"></line><line transform=\"translate(0,29)\" x2=\"-5\" y2=\"0\" stroke=\"#888\" stroke-width=\"1\" opacity=\"1\"></line><line transform=\"translate(0,0)\" x2=\"-5\" y2=\"0\" stroke=\"#888\" stroke-width=\"1\" opacity=\"1\"></line></g><g class=\"mark-text role-axis-label\" pointer-events=\"none\"><text text-anchor=\"end\" transform=\"translate(-7,203)\" font-family=\"sans-serif\" font-size=\"10px\" fill=\"#000\" opacity=\"1\">0</text><text text-anchor=\"end\" transform=\"translate(-7,174.42857142857144)\" font-family=\"sans-serif\" font-size=\"10px\" fill=\"#000\" opacity=\"1\">500</text><text text-anchor=\"end\" transform=\"translate(-7,145.85714285714286)\" font-family=\"sans-serif\" font-size=\"10px\" fill=\"#000\" opacity=\"1\">1,000</text><text text-anchor=\"end\" transform=\"translate(-7,117.28571428571428)\" font-family=\"sans-serif\" font-size=\"10px\" fill=\"#000\" opacity=\"1\">1,500</text><text text-anchor=\"end\" transform=\"translate(-7,88.71428571428572)\" font-family=\"sans-serif\" font-size=\"10px\" fill=\"#000\" opacity=\"1\">2,000</text><text text-anchor=\"end\" transform=\"translate(-7,60.14285714285714)\" font-family=\"sans-serif\" font-size=\"10px\" fill=\"#000\" opacity=\"1\">2,500</text><text text-anchor=\"end\" transform=\"translate(-7,31.57142857142858)\" font-family=\"sans-serif\" font-size=\"10px\" fill=\"#000\" opacity=\"1\">3,000</text><text text-anchor=\"end\" transform=\"translate(-7,3)\" font-family=\"sans-serif\" font-size=\"10px\" fill=\"#000\" opacity=\"1\">3,500</text></g><g class=\"mark-rule role-axis-domain\" pointer-events=\"none\"><line transform=\"translate(0,200)\" x2=\"0\" y2=\"-200\" stroke=\"#888\" stroke-width=\"1\" opacity=\"1\"></line></g><g class=\"mark-text role-axis-title\" pointer-events=\"none\"><text text-anchor=\"middle\" transform=\"translate(-38,100) rotate(-90) translate(0,-2)\" font-family=\"sans-serif\" font-size=\"11px\" font-weight=\"bold\" fill=\"#000\" opacity=\"1\">gen_sum</text></g></g><path class=\"foreground\" aria-hidden=\"true\" d=\"\" pointer-events=\"none\" display=\"none\"></path></g></g><g class=\"mark-group role-scope pathgroup\" role=\"graphics-object\" aria-roledescription=\"group mark container\"><g transform=\"translate(0,0)\"><path class=\"background\" aria-hidden=\"true\" d=\"M0,0h200v200h-200Z\"></path><g><g class=\"mark-area role-mark marks\" role=\"graphics-object\" aria-roledescription=\"area mark container\"><path aria-label=\"hour: 2401; gen_sum: 163.3088; resource: _onshore_wind_turbine\" role=\"graphics-symbol\" aria-roledescription=\"area mark\" d=\"M8.333333333333332,107.71428571428572L16.666666666666664,111.25714285714285L25,113.25714285714285L33.33333333333333,110.74285714285716L41.66666666666667,100.97142857142856L50,87.08571428571427L58.333333333333336,68.16114285714288L66.66666666666666,44.01942857142858L75,21.453714285714298L83.33333333333334,7.518857142857138L91.66666666666666,0.7234285714285971L100,9.637714285714294L108.33333333333333,21.156571428571436L116.66666666666667,25.525714285714308L125,31.288000000000004L133.33333333333331,38.64571428571433L141.66666666666669,45.56114285714283L150,53.248000000000005L158.33333333333331,62.478857142857166L166.66666666666669,57.085714285714296L175,56.800000000000004L183.33333333333331,70.97142857142858L191.66666666666669,86.4L200,99.42857142857144L200,107.68120685714287L191.66666666666669,93.62680685714287L183.33333333333331,76.45992228571426L175,60.90953142857143L166.66666666666669,60.59591314285715L158.33333333333331,65.48546742857147L150,57.74050742857144L141.66666666666669,48.828873142857134L133.33333333333331,42.383460571428586L125,34.100635428571444L116.66666666666667,29.222427428571464L108.33333333333333,24.133339428571453L100,14.901147428571448L91.66666666666666,7.077348571428588L83.33333333333334,15.036626285714272L75,31.01692342857143L66.66666666666666,46.84076800000001L58.333333333333336,72.39999085714285L50,95.03868342857143L41.66666666666667,105.57584457142855L33.33333333333333,116.4887405714286L25,119.83488L16.666666666666664,120.959616L8.333333333333332,117.04621714285715Z\" fill=\"#1f77b4\"></path></g></g><path class=\"foreground\" aria-hidden=\"true\" d=\"\" display=\"none\"></path></g><g transform=\"translate(0,0)\"><path class=\"background\" aria-hidden=\"true\" d=\"M0,0h200v200h-200Z\"></path><g><g class=\"mark-area role-mark marks\" role=\"graphics-object\" aria-roledescription=\"area mark container\"><path aria-label=\"hour: 2401; gen_sum: 3.184932; resource: _small_hydroelectric\" role=\"graphics-symbol\" aria-roledescription=\"area mark\" d=\"M8.333333333333332,117.04621714285715L16.666666666666664,120.959616L25,119.83488L33.33333333333333,116.4887405714286L41.66666666666667,105.57584457142855L50,95.03868342857143L58.333333333333336,72.39999085714285L66.66666666666666,46.84076800000001L75,31.01692342857143L83.33333333333334,15.036626285714272L91.66666666666666,7.077348571428588L100,14.901147428571448L108.33333333333333,24.133339428571453L116.66666666666667,29.222427428571464L125,34.100635428571444L133.33333333333331,42.383460571428586L141.66666666666669,48.828873142857134L150,57.74050742857144L158.33333333333331,65.48546742857147L166.66666666666669,60.59591314285715L175,60.90953142857143L183.33333333333331,76.45992228571426L191.66666666666669,93.62680685714287L200,107.68120685714287L200,107.86320297142858L191.66666666666669,93.80880297142858L183.33333333333331,76.64191839999998L175,61.091527542857136L166.66666666666669,60.77790925714286L158.33333333333331,65.66746354285718L150,57.92250354285715L141.66666666666669,49.010869257142865L133.33333333333331,42.565456685714324L125,34.28263154285715L116.66666666666667,29.404423542857174L108.33333333333333,24.315335542857163L100,15.083143542857158L91.66666666666666,7.25934468571432L83.33333333333334,15.218622399999981L75,31.19891954285714L66.66666666666666,47.02276411428572L58.333333333333336,72.58198697142856L50,95.22067954285714L41.66666666666667,105.75784068571426L33.33333333333333,116.6707366857143L25,120.01687611428571L16.666666666666664,121.1416121142857L8.333333333333332,117.22821325714285Z\" fill=\"#aec7e8\"></path></g></g><path class=\"foreground\" aria-hidden=\"true\" d=\"\" display=\"none\"></path></g><g transform=\"translate(0,0)\"><path class=\"background\" aria-hidden=\"true\" d=\"M0,0h200v200h-200Z\"></path><g><g class=\"mark-area role-mark marks\" role=\"graphics-object\" aria-roledescription=\"area mark container\"><path aria-label=\"hour: 2401; gen_sum: 0; resource: _solar_photovoltaic\" role=\"graphics-symbol\" aria-roledescription=\"area mark\" d=\"M8.333333333333332,117.22821325714285L16.666666666666664,121.1416121142857L25,120.01687611428571L33.33333333333333,116.6707366857143L41.66666666666667,105.75784068571426L50,95.22067954285714L58.333333333333336,72.58198697142856L66.66666666666666,47.02276411428572L75,31.19891954285714L83.33333333333334,15.218622399999981L91.66666666666666,7.25934468571432L100,15.083143542857158L108.33333333333333,24.315335542857163L116.66666666666667,29.404423542857174L125,34.28263154285715L133.33333333333331,42.565456685714324L141.66666666666669,49.010869257142865L150,57.92250354285715L158.33333333333331,65.66746354285718L166.66666666666669,60.77790925714286L175,61.091527542857136L183.33333333333331,76.64191839999998L191.66666666666669,93.80880297142858L200,107.86320297142858L200,107.86320297142858L191.66666666666669,93.80880297142858L183.33333333333331,76.64191839999998L175,61.091527542857136L166.66666666666669,60.77790925714286L158.33333333333331,75.20746354285717L150,122.64250354285713L141.66666666666669,142.57086925714285L133.33333333333331,156.4654566857143L125,159.10263154285713L116.66666666666667,158.50442354285713L108.33333333333333,153.23533554285714L100,137.86314354285716L91.66666666666666,128.0393446857143L83.33333333333334,130.3586224L75,126.71891954285715L66.66666666666666,91.2427641142857L58.333333333333336,83.6419869714286L50,95.22067954285714L41.66666666666667,105.75784068571426L33.33333333333333,116.6707366857143L25,120.01687611428571L16.666666666666664,121.1416121142857L8.333333333333332,117.22821325714285Z\" fill=\"#ff7f0e\"></path></g></g><path class=\"foreground\" aria-hidden=\"true\" d=\"\" display=\"none\"></path></g><g transform=\"translate(0,0)\"><path class=\"background\" aria-hidden=\"true\" d=\"M0,0h200v200h-200Z\"></path><g><g class=\"mark-area role-mark marks\" role=\"graphics-object\" aria-roledescription=\"area mark container\"><path aria-label=\"hour: 2401; gen_sum: 0; resource: _solar_photovoltaic_btm\" role=\"graphics-symbol\" aria-roledescription=\"area mark\" d=\"M8.333333333333332,117.22821325714285L16.666666666666664,121.1416121142857L25,120.01687611428571L33.33333333333333,116.6707366857143L41.66666666666667,105.75784068571426L50,95.22067954285714L58.333333333333336,83.6419869714286L66.66666666666666,91.2427641142857L75,126.71891954285715L83.33333333333334,130.3586224L91.66666666666666,128.0393446857143L100,137.86314354285716L108.33333333333333,153.23533554285714L116.66666666666667,158.50442354285715L125,159.10263154285713L133.33333333333331,156.4654566857143L141.66666666666669,142.57086925714285L150,122.64250354285713L158.33333333333331,75.20746354285717L166.66666666666669,60.77790925714286L175,61.091527542857136L183.33333333333331,76.64191839999998L191.66666666666669,93.80880297142858L200,107.86320297142858L200,107.86320297142858L191.66666666666669,93.80880297142858L183.33333333333331,76.64191839999998L175,61.091527542857136L166.66666666666669,60.77790925714286L158.33333333333331,76.84289211428572L150,133.73736068571426L141.66666666666669,158.6097264L133.33333333333331,175.99117097142857L125,180.50034582857143L116.66666666666667,180.6358521142857L108.33333333333333,175.33590697142856L100,158.91114354285716L91.66666666666666,148.74448754285714L83.33333333333334,150.09690811428572L75,143.0937766857143L66.66666666666666,98.82333554285714L58.333333333333336,85.53798697142861L50,95.22067954285714L41.66666666666667,105.75784068571426L33.33333333333333,116.6707366857143L25,120.01687611428571L16.666666666666664,121.1416121142857L8.333333333333332,117.22821325714285Z\" fill=\"#ffbb78\"></path></g></g><path class=\"foreground\" aria-hidden=\"true\" d=\"\" display=\"none\"></path></g><g transform=\"translate(0,0)\"><path class=\"background\" aria-hidden=\"true\" d=\"M0,0h200v200h-200Z\"></path><g><g class=\"mark-area role-mark marks\" role=\"graphics-object\" aria-roledescription=\"area mark container\"><path aria-label=\"hour: 2401; gen_sum: 21.4; resource: biomass\" role=\"graphics-symbol\" aria-roledescription=\"area mark\" d=\"M8.333333333333332,117.22821325714285L16.666666666666664,121.1416121142857L25,120.01687611428571L33.33333333333333,116.6707366857143L41.66666666666667,105.75784068571426L50,95.22067954285714L58.333333333333336,85.53798697142861L66.66666666666666,98.82333554285714L75,143.0937766857143L83.33333333333334,150.09690811428572L91.66666666666666,148.74448754285714L100,158.91114354285716L108.33333333333333,175.33590697142856L116.66666666666667,180.6358521142857L125,180.50034582857143L133.33333333333331,175.99117097142857L141.66666666666669,158.6097264L150,133.73736068571426L158.33333333333331,76.84289211428572L166.66666666666669,60.77790925714286L175,61.091527542857136L183.33333333333331,76.64191839999998L191.66666666666669,93.80880297142858L200,107.86320297142858L200,109.08606011428571L191.66666666666669,95.03166011428573L183.33333333333331,77.86477554285713L175,62.31438468571429L166.66666666666669,62.0007664L158.33333333333331,78.06574925714287L150,134.96021782857142L141.66666666666669,159.83258354285715L133.33333333333331,177.2140281142857L125,181.72320297142858L116.66666666666667,181.85870925714286L108.33333333333333,176.5587641142857L100,160.13400068571428L91.66666666666666,149.9673446857143L83.33333333333334,151.31976525714285L75,144.31663382857144L66.66666666666666,100.0461926857143L58.333333333333336,86.76084411428575L50,96.44353668571428L41.66666666666667,106.98069782857141L33.33333333333333,117.89359382857145L25,121.23973325714286L16.666666666666664,122.36446925714286L8.333333333333332,118.4510704Z\" fill=\"#2ca02c\"></path></g></g><path class=\"foreground\" aria-hidden=\"true\" d=\"\" display=\"none\"></path></g><g transform=\"translate(0,0)\"><path class=\"background\" aria-hidden=\"true\" d=\"M0,0h200v200h-200Z\"></path><g><g class=\"mark-area role-mark marks\" role=\"graphics-object\" aria-roledescription=\"area mark container\"><path aria-label=\"hour: 2401; gen_sum: 42; resource: hydroelectric_pumped_storage\" role=\"graphics-symbol\" aria-roledescription=\"area mark\" d=\"M8.333333333333332,118.4510704L16.666666666666664,122.36446925714286L25,121.23973325714286L33.33333333333333,117.89359382857145L41.66666666666667,106.98069782857141L50,96.44353668571428L58.333333333333336,86.76084411428575L66.66666666666666,100.0461926857143L75,144.31663382857144L83.33333333333334,151.31976525714285L91.66666666666666,149.9673446857143L100,160.13400068571428L108.33333333333333,176.5587641142857L116.66666666666667,181.85870925714286L125,181.72320297142858L133.33333333333331,177.2140281142857L141.66666666666669,159.83258354285715L150,134.96021782857142L158.33333333333331,78.06574925714287L166.66666666666669,62.0007664L175,62.31438468571429L183.33333333333331,77.86477554285713L191.66666666666669,95.03166011428573L200,109.08606011428571L200,111.48606011428572L191.66666666666669,97.4316601142857L183.33333333333331,80.26477554285714L175,64.7143846857143L166.66666666666669,64.40076640000001L158.33333333333331,80.46574925714287L150,137.36021782857142L141.66666666666669,162.23258354285716L133.33333333333331,179.6140281142857L125,184.12320297142855L116.66666666666667,184.25870925714284L108.33333333333333,178.9587641142857L100,162.5340006857143L91.66666666666666,152.3673446857143L83.33333333333334,153.71976525714285L75,146.71663382857142L66.66666666666666,102.44619268571431L58.333333333333336,89.16084411428575L50,98.84353668571428L41.66666666666667,109.3806978285714L33.33333333333333,120.29359382857146L25,123.63973325714286L16.666666666666664,124.76446925714286L8.333333333333332,120.8510704Z\" fill=\"#98df8a\"></path></g></g><path class=\"foreground\" aria-hidden=\"true\" d=\"\" display=\"none\"></path></g><g transform=\"translate(0,0)\"><path class=\"background\" aria-hidden=\"true\" d=\"M0,0h200v200h-200Z\"></path><g><g class=\"mark-area role-mark marks\" role=\"graphics-object\" aria-roledescription=\"area mark container\"><path aria-label=\"hour: 2401; gen_sum: 1385.106268; resource: natural_gas_fired_combined_cycle\" role=\"graphics-symbol\" aria-roledescription=\"area mark\" d=\"M8.333333333333332,120.8510704L16.666666666666664,124.76446925714286L25,123.63973325714286L33.33333333333333,120.29359382857146L41.66666666666667,109.3806978285714L50,98.84353668571428L58.333333333333336,89.16084411428575L66.66666666666666,102.44619268571431L75,146.71663382857142L83.33333333333334,153.71976525714285L91.66666666666666,152.3673446857143L100,162.5340006857143L108.33333333333333,178.9587641142857L116.66666666666667,184.25870925714284L125,184.12320297142855L133.33333333333331,179.6140281142857L141.66666666666669,162.23258354285716L150,137.36021782857142L158.33333333333331,80.46574925714287L166.66666666666669,64.40076640000001L175,64.7143846857143L183.33333333333331,80.26477554285714L191.66666666666669,97.4316601142857L200,111.48606011428572L200,200L191.66666666666669,200L183.33333333333331,190.46477554285715L175,174.9143846857143L166.66666666666669,174.6007664L158.33333333333331,189.7583206857143L150,200L141.66666666666669,200L133.33333333333331,200L125,200L116.66666666666667,200L108.33333333333333,200L100,200L91.66666666666666,200L83.33333333333334,200L75,200L66.66666666666666,200L58.333333333333336,199.36084411428573L50,200L41.66666666666667,200L33.33333333333333,200L25,200L16.666666666666664,200L8.333333333333332,200Z\" fill=\"#d62728\"></path></g></g><path class=\"foreground\" aria-hidden=\"true\" d=\"\" display=\"none\"></path></g><g transform=\"translate(0,0)\"><path class=\"background\" aria-hidden=\"true\" d=\"M0,0h200v200h-200Z\"></path><g><g class=\"mark-area role-mark marks\" role=\"graphics-object\" aria-roledescription=\"area mark container\"><path aria-label=\"hour: 2401; gen_sum: 0; resource: natural_gas_fired_combustion_turbine\" role=\"graphics-symbol\" aria-roledescription=\"area mark\" d=\"M8.333333333333332,200L16.666666666666664,200L25,200L33.33333333333333,200L41.66666666666667,200L50,200L58.333333333333336,199.36084411428573L66.66666666666666,200L75,200L83.33333333333334,200L91.66666666666666,200L100,200L108.33333333333333,200L116.66666666666667,200L125,200L133.33333333333331,200L141.66666666666669,200L150,200L158.33333333333331,189.7583206857143L166.66666666666669,174.6007664L175,174.9143846857143L183.33333333333331,190.46477554285715L191.66666666666669,200L200,200L200,200L191.66666666666669,200L183.33333333333331,200L175,200L166.66666666666669,200L158.33333333333331,200L150,200L141.66666666666669,200L133.33333333333331,200L125,200L116.66666666666667,200L108.33333333333333,200L100,200L91.66666666666666,200L83.33333333333334,200L75,200L66.66666666666666,200L58.333333333333336,200L50,200L41.66666666666667,200L33.33333333333333,200L25,200L16.666666666666664,200L8.333333333333332,200Z\" fill=\"#ff9896\"></path></g></g><path class=\"foreground\" aria-hidden=\"true\" d=\"\" display=\"none\"></path></g></g><g class=\"mark-group role-legend\" role=\"graphics-symbol\" aria-roledescription=\"legend\" aria-label=\"Symbol legend titled 'resource' for fill color with 8 values: _onshore_wind_turbine, _small_hydroelectric, _solar_photovoltaic, _solar_photovoltaic_btm, biomass, ending with natural_gas_fired_combustion_turbine\"><g transform=\"translate(218,0)\"><path class=\"background\" aria-hidden=\"true\" d=\"M0,0h175v118h-175Z\" pointer-events=\"none\"></path><g><g class=\"mark-group role-legend-entry\"><g transform=\"translate(0,16)\"><path class=\"background\" aria-hidden=\"true\" d=\"M0,0h0v0h0Z\" pointer-events=\"none\"></path><g><g class=\"mark-group role-scope\" role=\"graphics-object\" aria-roledescription=\"group mark container\"><g transform=\"translate(0,0)\"><path class=\"background\" aria-hidden=\"true\" d=\"M0,0h175v11h-175Z\" pointer-events=\"none\" opacity=\"1\"></path><g><g class=\"mark-symbol role-legend-symbol\" pointer-events=\"none\"><path transform=\"translate(6,6)\" d=\"M5,0A5,5,0,1,1,-5,0A5,5,0,1,1,5,0\" fill=\"#1f77b4\" stroke-width=\"1.5\" opacity=\"1\"></path></g><g class=\"mark-text role-legend-label\" pointer-events=\"none\"><text text-anchor=\"start\" transform=\"translate(16,9)\" font-family=\"sans-serif\" font-size=\"10px\" fill=\"#000\" opacity=\"1\">_onshore_wind_turbine</text></g></g><path class=\"foreground\" aria-hidden=\"true\" d=\"\" pointer-events=\"none\" display=\"none\"></path></g><g transform=\"translate(0,13)\"><path class=\"background\" aria-hidden=\"true\" d=\"M0,0h175v11h-175Z\" pointer-events=\"none\" opacity=\"1\"></path><g><g class=\"mark-symbol role-legend-symbol\" pointer-events=\"none\"><path transform=\"translate(6,6)\" d=\"M5,0A5,5,0,1,1,-5,0A5,5,0,1,1,5,0\" fill=\"#aec7e8\" stroke-width=\"1.5\" opacity=\"1\"></path></g><g class=\"mark-text role-legend-label\" pointer-events=\"none\"><text text-anchor=\"start\" transform=\"translate(16,9)\" font-family=\"sans-serif\" font-size=\"10px\" fill=\"#000\" opacity=\"1\">_small_hydroelectric</text></g></g><path class=\"foreground\" aria-hidden=\"true\" d=\"\" pointer-events=\"none\" display=\"none\"></path></g><g transform=\"translate(0,26)\"><path class=\"background\" aria-hidden=\"true\" d=\"M0,0h175v11h-175Z\" pointer-events=\"none\" opacity=\"1\"></path><g><g class=\"mark-symbol role-legend-symbol\" pointer-events=\"none\"><path transform=\"translate(6,6)\" d=\"M5,0A5,5,0,1,1,-5,0A5,5,0,1,1,5,0\" fill=\"#ff7f0e\" stroke-width=\"1.5\" opacity=\"1\"></path></g><g class=\"mark-text role-legend-label\" pointer-events=\"none\"><text text-anchor=\"start\" transform=\"translate(16,9)\" font-family=\"sans-serif\" font-size=\"10px\" fill=\"#000\" opacity=\"1\">_solar_photovoltaic</text></g></g><path class=\"foreground\" aria-hidden=\"true\" d=\"\" pointer-events=\"none\" display=\"none\"></path></g><g transform=\"translate(0,39)\"><path class=\"background\" aria-hidden=\"true\" d=\"M0,0h175v11h-175Z\" pointer-events=\"none\" opacity=\"1\"></path><g><g class=\"mark-symbol role-legend-symbol\" pointer-events=\"none\"><path transform=\"translate(6,6)\" d=\"M5,0A5,5,0,1,1,-5,0A5,5,0,1,1,5,0\" fill=\"#ffbb78\" stroke-width=\"1.5\" opacity=\"1\"></path></g><g class=\"mark-text role-legend-label\" pointer-events=\"none\"><text text-anchor=\"start\" transform=\"translate(16,9)\" font-family=\"sans-serif\" font-size=\"10px\" fill=\"#000\" opacity=\"1\">_solar_photovoltaic_btm</text></g></g><path class=\"foreground\" aria-hidden=\"true\" d=\"\" pointer-events=\"none\" display=\"none\"></path></g><g transform=\"translate(0,52)\"><path class=\"background\" aria-hidden=\"true\" d=\"M0,0h175v11h-175Z\" pointer-events=\"none\" opacity=\"1\"></path><g><g class=\"mark-symbol role-legend-symbol\" pointer-events=\"none\"><path transform=\"translate(6,6)\" d=\"M5,0A5,5,0,1,1,-5,0A5,5,0,1,1,5,0\" fill=\"#2ca02c\" stroke-width=\"1.5\" opacity=\"1\"></path></g><g class=\"mark-text role-legend-label\" pointer-events=\"none\"><text text-anchor=\"start\" transform=\"translate(16,9)\" font-family=\"sans-serif\" font-size=\"10px\" fill=\"#000\" opacity=\"1\">biomass</text></g></g><path class=\"foreground\" aria-hidden=\"true\" d=\"\" pointer-events=\"none\" display=\"none\"></path></g><g transform=\"translate(0,65)\"><path class=\"background\" aria-hidden=\"true\" d=\"M0,0h175v11h-175Z\" pointer-events=\"none\" opacity=\"1\"></path><g><g class=\"mark-symbol role-legend-symbol\" pointer-events=\"none\"><path transform=\"translate(6,6)\" d=\"M5,0A5,5,0,1,1,-5,0A5,5,0,1,1,5,0\" fill=\"#98df8a\" stroke-width=\"1.5\" opacity=\"1\"></path></g><g class=\"mark-text role-legend-label\" pointer-events=\"none\"><text text-anchor=\"start\" transform=\"translate(16,9)\" font-family=\"sans-serif\" font-size=\"10px\" fill=\"#000\" opacity=\"1\">hydroelectric_pumped_storage</text></g></g><path class=\"foreground\" aria-hidden=\"true\" d=\"\" pointer-events=\"none\" display=\"none\"></path></g><g transform=\"translate(0,78)\"><path class=\"background\" aria-hidden=\"true\" d=\"M0,0h175v11h-175Z\" pointer-events=\"none\" opacity=\"1\"></path><g><g class=\"mark-symbol role-legend-symbol\" pointer-events=\"none\"><path transform=\"translate(6,6)\" d=\"M5,0A5,5,0,1,1,-5,0A5,5,0,1,1,5,0\" fill=\"#d62728\" stroke-width=\"1.5\" opacity=\"1\"></path></g><g class=\"mark-text role-legend-label\" pointer-events=\"none\"><text text-anchor=\"start\" transform=\"translate(16,9)\" font-family=\"sans-serif\" font-size=\"10px\" fill=\"#000\" opacity=\"1\">natural_gas_fired_combined_cy…</text></g></g><path class=\"foreground\" aria-hidden=\"true\" d=\"\" pointer-events=\"none\" display=\"none\"></path></g><g transform=\"translate(0,91)\"><path class=\"background\" aria-hidden=\"true\" d=\"M0,0h175v11h-175Z\" pointer-events=\"none\" opacity=\"1\"></path><g><g class=\"mark-symbol role-legend-symbol\" pointer-events=\"none\"><path transform=\"translate(6,6)\" d=\"M5,0A5,5,0,1,1,-5,0A5,5,0,1,1,5,0\" fill=\"#ff9896\" stroke-width=\"1.5\" opacity=\"1\"></path></g><g class=\"mark-text role-legend-label\" pointer-events=\"none\"><text text-anchor=\"start\" transform=\"translate(16,9)\" font-family=\"sans-serif\" font-size=\"10px\" fill=\"#000\" opacity=\"1\">natural_gas_fired_combustion_t…</text></g></g><path class=\"foreground\" aria-hidden=\"true\" d=\"\" pointer-events=\"none\" display=\"none\"></path></g></g></g><path class=\"foreground\" aria-hidden=\"true\" d=\"\" pointer-events=\"none\" display=\"none\"></path></g></g><g class=\"mark-text role-legend-title\" pointer-events=\"none\"><text text-anchor=\"start\" transform=\"translate(0,9)\" font-family=\"sans-serif\" font-size=\"11px\" font-weight=\"bold\" fill=\"#000\" opacity=\"1\">resource</text></g></g><path class=\"foreground\" aria-hidden=\"true\" d=\"\" pointer-events=\"none\" display=\"none\"></path></g></g></g><path class=\"foreground\" aria-hidden=\"true\" d=\"\" display=\"none\"></path></g></g></g></svg>\n"
      ],
      "text/plain": [
       "@vlplot(\n",
       "    mark=\"area\",\n",
       "    encoding={\n",
       "        x={\n",
       "            field=\"hour\"\n",
       "        },\n",
       "        y={\n",
       "            stack=\"zero\",\n",
       "            field=\"gen_sum\"\n",
       "        },\n",
       "        color={\n",
       "            scale={\n",
       "                scheme=\"category20\"\n",
       "            },\n",
       "            field=\"resource\",\n",
       "            type=\"nominal\"\n",
       "        }\n",
       "    },\n",
       "    data={\n",
       "        values=...\n",
       "    }\n",
       ")"
      ]
     },
     "execution_count": 24,
     "metadata": {},
     "output_type": "execute_result"
    }
   ],
   "source": [
    "# Increase solar photovoltaic capacity\n",
    "gen_df_sens = copy(gen_df)\n",
    "gen_df_sens[gen_df_sens.resource .== \"solar_photovoltaic\",\n",
    "    :existing_cap_mw] = 3500\n",
    "\n",
    "solution = economic_dispatch_multi_time(gen_df_sens, loads_multi, gen_variable_multi);\n",
    "\n",
    "sol_gen = innerjoin(solution.solution, \n",
    "                    gen_df[!, [:r_id, :resource]], \n",
    "                    on = :r_id)\n",
    "\n",
    "sol_gen = combine(groupby(sol_gen, [:resource, :hour]), \n",
    "            :gen => sum)\n",
    "sol_gen_btm = copy(sol_gen)\n",
    "sol_gen_btm[sol_gen_btm.resource .== \"solar_photovoltaic\", :resource] .= \"_solar_photovoltaic\"\n",
    "sol_gen_btm[sol_gen_btm.resource .== \"onshore_wind_turbine\", :resource] .= \"_onshore_wind_turbine\"\n",
    "sol_gen_btm[sol_gen_btm.resource .== \"small_hydroelectric\", :resource] .= \"_small_hydroelectric\"\n",
    "\n",
    "btm = DataFrame(resource = repeat([\"_solar_photovoltaic_btm\"]; outer=length(T_period)), \n",
    "    hour = T_period,\n",
    "    gen_sum = gen_variable_multi[gen_variable_multi.gen_full .== \"wec_sdge_solar_photovoltaic_1.0\",:cf] * 600)\n",
    "append!(sol_gen_btm, btm)\n",
    "\n",
    "# Reorder resources\n",
    "sort!(sol_gen_btm, [:hour, :resource])\n",
    "\n",
    "# Plot and save the resulting generation figure\n",
    "p = sol_gen_btm |>\n",
    "@vlplot(:area, \n",
    "    x=:hour, y={:gen_sum, stack=:zero}, \n",
    "    color={\"resource:n\", scale={scheme=\"category20\"}})\n",
    "save(\"sol_gen_btm.png\",p)\n",
    "p"
   ]
  },
  {
   "cell_type": "markdown",
   "metadata": {},
   "source": [
    "The large reduction in net load during the day and the loss of solar (orange) in the late afternoon timed with the rise in the evening peak is sometimes called the **\"duck curve\"** because of their passing resemblance to a duck's belly and head. Squint at it and then examine this (https://www.energy.gov/eere/articles/confronting-duck-curve-how-address-over-generation-solar-energy):\n",
    "\n",
    "<img src=\"https://www.energy.gov/sites/prod/files/styles/borealis_photo_gallery_large_respondmedium/public/CAISO_DuckCurve_720_469_80.jpg?itok=99uYAxGo\" style=\"width: 450px; height: auto\" align=\"left\">"
   ]
  },
  {
   "cell_type": "markdown",
   "metadata": {},
   "source": [
    "You may notice that the model still uses combustion turbines (light pink above) during hours when there is sufficient capacity of combined cycle plants, which are more efficient. This is because of ramp limits, which we will examine now.\n",
    "\n",
    "All constraints (in a linear program) have a **\"marginal value\"** (also known as \"shadow price\" or \"dual value\") which is how much the objective would change if the right-hand-side (RHS) of the constraint were increased by one unit. Let's examine the marginals of the ramp up constraint for the combined cycle plants using the values from the new equation we added to `economic_dispatch_multi_time` (line 72)."
   ]
  },
  {
   "cell_type": "code",
   "execution_count": 25,
   "metadata": {},
   "outputs": [
    {
     "data": {
      "application/vnd.vegalite.v4+json": {
       "data": {
        "values": [
         {
          "gen": 0,
          "hour": 2401,
          "r_id": 3,
          "resource": "natural_gas_fired_combined_cycle"
         },
         {
          "gen": 0,
          "hour": 2401,
          "r_id": 4,
          "resource": "natural_gas_fired_combined_cycle"
         },
         {
          "gen": 0,
          "hour": 2401,
          "r_id": 5,
          "resource": "natural_gas_fired_combined_cycle"
         },
         {
          "gen": 0,
          "hour": 2401,
          "r_id": 6,
          "resource": "natural_gas_fired_combined_cycle"
         },
         {
          "gen": 0,
          "hour": 2401,
          "r_id": 7,
          "resource": "natural_gas_fired_combined_cycle"
         },
         {
          "gen": 0,
          "hour": 2401,
          "r_id": 8,
          "resource": "natural_gas_fired_combined_cycle"
         },
         {
          "gen": 0,
          "hour": 2402,
          "r_id": 3,
          "resource": "natural_gas_fired_combined_cycle"
         },
         {
          "gen": 0,
          "hour": 2402,
          "r_id": 4,
          "resource": "natural_gas_fired_combined_cycle"
         },
         {
          "gen": 0,
          "hour": 2402,
          "r_id": 5,
          "resource": "natural_gas_fired_combined_cycle"
         },
         {
          "gen": 0,
          "hour": 2402,
          "r_id": 6,
          "resource": "natural_gas_fired_combined_cycle"
         },
         {
          "gen": 0,
          "hour": 2402,
          "r_id": 7,
          "resource": "natural_gas_fired_combined_cycle"
         },
         {
          "gen": 0,
          "hour": 2402,
          "r_id": 8,
          "resource": "natural_gas_fired_combined_cycle"
         },
         {
          "gen": 0,
          "hour": 2403,
          "r_id": 3,
          "resource": "natural_gas_fired_combined_cycle"
         },
         {
          "gen": 0,
          "hour": 2403,
          "r_id": 4,
          "resource": "natural_gas_fired_combined_cycle"
         },
         {
          "gen": 0,
          "hour": 2403,
          "r_id": 5,
          "resource": "natural_gas_fired_combined_cycle"
         },
         {
          "gen": 0,
          "hour": 2403,
          "r_id": 6,
          "resource": "natural_gas_fired_combined_cycle"
         },
         {
          "gen": 0,
          "hour": 2403,
          "r_id": 7,
          "resource": "natural_gas_fired_combined_cycle"
         },
         {
          "gen": 0,
          "hour": 2403,
          "r_id": 8,
          "resource": "natural_gas_fired_combined_cycle"
         },
         {
          "gen": 0,
          "hour": 2404,
          "r_id": 3,
          "resource": "natural_gas_fired_combined_cycle"
         },
         {
          "gen": 0,
          "hour": 2404,
          "r_id": 4,
          "resource": "natural_gas_fired_combined_cycle"
         },
         {
          "gen": 0,
          "hour": 2404,
          "r_id": 5,
          "resource": "natural_gas_fired_combined_cycle"
         },
         {
          "gen": 0,
          "hour": 2404,
          "r_id": 6,
          "resource": "natural_gas_fired_combined_cycle"
         },
         {
          "gen": 0,
          "hour": 2404,
          "r_id": 7,
          "resource": "natural_gas_fired_combined_cycle"
         },
         {
          "gen": 0,
          "hour": 2404,
          "r_id": 8,
          "resource": "natural_gas_fired_combined_cycle"
         },
         {
          "gen": 0,
          "hour": 2405,
          "r_id": 3,
          "resource": "natural_gas_fired_combined_cycle"
         },
         {
          "gen": 0,
          "hour": 2405,
          "r_id": 4,
          "resource": "natural_gas_fired_combined_cycle"
         },
         {
          "gen": 0,
          "hour": 2405,
          "r_id": 5,
          "resource": "natural_gas_fired_combined_cycle"
         },
         {
          "gen": 0,
          "hour": 2405,
          "r_id": 6,
          "resource": "natural_gas_fired_combined_cycle"
         },
         {
          "gen": 0,
          "hour": 2405,
          "r_id": 7,
          "resource": "natural_gas_fired_combined_cycle"
         },
         {
          "gen": 0,
          "hour": 2405,
          "r_id": 8,
          "resource": "natural_gas_fired_combined_cycle"
         },
         {
          "gen": 0,
          "hour": 2406,
          "r_id": 3,
          "resource": "natural_gas_fired_combined_cycle"
         },
         {
          "gen": 0,
          "hour": 2406,
          "r_id": 4,
          "resource": "natural_gas_fired_combined_cycle"
         },
         {
          "gen": 0,
          "hour": 2406,
          "r_id": 5,
          "resource": "natural_gas_fired_combined_cycle"
         },
         {
          "gen": 0,
          "hour": 2406,
          "r_id": 6,
          "resource": "natural_gas_fired_combined_cycle"
         },
         {
          "gen": 0,
          "hour": 2406,
          "r_id": 7,
          "resource": "natural_gas_fired_combined_cycle"
         },
         {
          "gen": 0,
          "hour": 2406,
          "r_id": 8,
          "resource": "natural_gas_fired_combined_cycle"
         },
         {
          "gen": 0,
          "hour": 2407,
          "r_id": 3,
          "resource": "natural_gas_fired_combined_cycle"
         },
         {
          "gen": 0,
          "hour": 2407,
          "r_id": 4,
          "resource": "natural_gas_fired_combined_cycle"
         },
         {
          "gen": 0,
          "hour": 2407,
          "r_id": 5,
          "resource": "natural_gas_fired_combined_cycle"
         },
         {
          "gen": 0,
          "hour": 2407,
          "r_id": 6,
          "resource": "natural_gas_fired_combined_cycle"
         },
         {
          "gen": 0,
          "hour": 2407,
          "r_id": 7,
          "resource": "natural_gas_fired_combined_cycle"
         },
         {
          "gen": 0,
          "hour": 2407,
          "r_id": 8,
          "resource": "natural_gas_fired_combined_cycle"
         },
         {
          "gen": 0,
          "hour": 2408,
          "r_id": 3,
          "resource": "natural_gas_fired_combined_cycle"
         },
         {
          "gen": 0,
          "hour": 2408,
          "r_id": 4,
          "resource": "natural_gas_fired_combined_cycle"
         },
         {
          "gen": 0,
          "hour": 2408,
          "r_id": 5,
          "resource": "natural_gas_fired_combined_cycle"
         },
         {
          "gen": 0,
          "hour": 2408,
          "r_id": 6,
          "resource": "natural_gas_fired_combined_cycle"
         },
         {
          "gen": 0,
          "hour": 2408,
          "r_id": 7,
          "resource": "natural_gas_fired_combined_cycle"
         },
         {
          "gen": 0,
          "hour": 2408,
          "r_id": 8,
          "resource": "natural_gas_fired_combined_cycle"
         },
         {
          "gen": 0,
          "hour": 2409,
          "r_id": 3,
          "resource": "natural_gas_fired_combined_cycle"
         },
         {
          "gen": 0,
          "hour": 2409,
          "r_id": 4,
          "resource": "natural_gas_fired_combined_cycle"
         },
         {
          "gen": 0,
          "hour": 2409,
          "r_id": 5,
          "resource": "natural_gas_fired_combined_cycle"
         },
         {
          "gen": 0,
          "hour": 2409,
          "r_id": 6,
          "resource": "natural_gas_fired_combined_cycle"
         },
         {
          "gen": 0,
          "hour": 2409,
          "r_id": 7,
          "resource": "natural_gas_fired_combined_cycle"
         },
         {
          "gen": 0,
          "hour": 2409,
          "r_id": 8,
          "resource": "natural_gas_fired_combined_cycle"
         },
         {
          "gen": 0,
          "hour": 2410,
          "r_id": 3,
          "resource": "natural_gas_fired_combined_cycle"
         },
         {
          "gen": 0,
          "hour": 2410,
          "r_id": 4,
          "resource": "natural_gas_fired_combined_cycle"
         },
         {
          "gen": 0,
          "hour": 2410,
          "r_id": 5,
          "resource": "natural_gas_fired_combined_cycle"
         },
         {
          "gen": 0,
          "hour": 2410,
          "r_id": 6,
          "resource": "natural_gas_fired_combined_cycle"
         },
         {
          "gen": 0,
          "hour": 2410,
          "r_id": 7,
          "resource": "natural_gas_fired_combined_cycle"
         },
         {
          "gen": 0,
          "hour": 2410,
          "r_id": 8,
          "resource": "natural_gas_fired_combined_cycle"
         },
         {
          "gen": 0,
          "hour": 2411,
          "r_id": 3,
          "resource": "natural_gas_fired_combined_cycle"
         },
         {
          "gen": 0,
          "hour": 2411,
          "r_id": 4,
          "resource": "natural_gas_fired_combined_cycle"
         },
         {
          "gen": 0,
          "hour": 2411,
          "r_id": 5,
          "resource": "natural_gas_fired_combined_cycle"
         },
         {
          "gen": 0,
          "hour": 2411,
          "r_id": 6,
          "resource": "natural_gas_fired_combined_cycle"
         },
         {
          "gen": 0,
          "hour": 2411,
          "r_id": 7,
          "resource": "natural_gas_fired_combined_cycle"
         },
         {
          "gen": 0,
          "hour": 2411,
          "r_id": 8,
          "resource": "natural_gas_fired_combined_cycle"
         },
         {
          "gen": 0,
          "hour": 2412,
          "r_id": 3,
          "resource": "natural_gas_fired_combined_cycle"
         },
         {
          "gen": 0,
          "hour": 2412,
          "r_id": 4,
          "resource": "natural_gas_fired_combined_cycle"
         },
         {
          "gen": 0,
          "hour": 2412,
          "r_id": 5,
          "resource": "natural_gas_fired_combined_cycle"
         },
         {
          "gen": 0,
          "hour": 2412,
          "r_id": 6,
          "resource": "natural_gas_fired_combined_cycle"
         },
         {
          "gen": 0,
          "hour": 2412,
          "r_id": 7,
          "resource": "natural_gas_fired_combined_cycle"
         },
         {
          "gen": 0,
          "hour": 2412,
          "r_id": 8,
          "resource": "natural_gas_fired_combined_cycle"
         },
         {
          "gen": 0,
          "hour": 2413,
          "r_id": 3,
          "resource": "natural_gas_fired_combined_cycle"
         },
         {
          "gen": 0,
          "hour": 2413,
          "r_id": 4,
          "resource": "natural_gas_fired_combined_cycle"
         },
         {
          "gen": 0,
          "hour": 2413,
          "r_id": 5,
          "resource": "natural_gas_fired_combined_cycle"
         },
         {
          "gen": 0,
          "hour": 2413,
          "r_id": 6,
          "resource": "natural_gas_fired_combined_cycle"
         },
         {
          "gen": 0,
          "hour": 2413,
          "r_id": 7,
          "resource": "natural_gas_fired_combined_cycle"
         },
         {
          "gen": 0,
          "hour": 2413,
          "r_id": 8,
          "resource": "natural_gas_fired_combined_cycle"
         },
         {
          "gen": 0,
          "hour": 2414,
          "r_id": 3,
          "resource": "natural_gas_fired_combined_cycle"
         },
         {
          "gen": 0,
          "hour": 2414,
          "r_id": 4,
          "resource": "natural_gas_fired_combined_cycle"
         },
         {
          "gen": 0,
          "hour": 2414,
          "r_id": 5,
          "resource": "natural_gas_fired_combined_cycle"
         },
         {
          "gen": 0,
          "hour": 2414,
          "r_id": 6,
          "resource": "natural_gas_fired_combined_cycle"
         },
         {
          "gen": 0,
          "hour": 2414,
          "r_id": 7,
          "resource": "natural_gas_fired_combined_cycle"
         },
         {
          "gen": 0,
          "hour": 2414,
          "r_id": 8,
          "resource": "natural_gas_fired_combined_cycle"
         },
         {
          "gen": 0,
          "hour": 2415,
          "r_id": 3,
          "resource": "natural_gas_fired_combined_cycle"
         },
         {
          "gen": 0,
          "hour": 2415,
          "r_id": 4,
          "resource": "natural_gas_fired_combined_cycle"
         },
         {
          "gen": 0,
          "hour": 2415,
          "r_id": 5,
          "resource": "natural_gas_fired_combined_cycle"
         },
         {
          "gen": 0,
          "hour": 2415,
          "r_id": 6,
          "resource": "natural_gas_fired_combined_cycle"
         },
         {
          "gen": 0,
          "hour": 2415,
          "r_id": 7,
          "resource": "natural_gas_fired_combined_cycle"
         },
         {
          "gen": 0,
          "hour": 2415,
          "r_id": 8,
          "resource": "natural_gas_fired_combined_cycle"
         },
         {
          "gen": -0.9508999999999972,
          "hour": 2416,
          "r_id": 3,
          "resource": "natural_gas_fired_combined_cycle"
         },
         {
          "gen": 0,
          "hour": 2416,
          "r_id": 4,
          "resource": "natural_gas_fired_combined_cycle"
         },
         {
          "gen": 0,
          "hour": 2416,
          "r_id": 5,
          "resource": "natural_gas_fired_combined_cycle"
         },
         {
          "gen": 0,
          "hour": 2416,
          "r_id": 6,
          "resource": "natural_gas_fired_combined_cycle"
         },
         {
          "gen": 0,
          "hour": 2416,
          "r_id": 7,
          "resource": "natural_gas_fired_combined_cycle"
         },
         {
          "gen": 0,
          "hour": 2416,
          "r_id": 8,
          "resource": "natural_gas_fired_combined_cycle"
         },
         {
          "gen": -1.9017999999999944,
          "hour": 2417,
          "r_id": 3,
          "resource": "natural_gas_fired_combined_cycle"
         },
         {
          "gen": -2.644499999999983,
          "hour": 2417,
          "r_id": 4,
          "resource": "natural_gas_fired_combined_cycle"
         },
         {
          "gen": -4.289299999999987,
          "hour": 2417,
          "r_id": 5,
          "resource": "natural_gas_fired_combined_cycle"
         },
         {
          "gen": 0,
          "hour": 2417,
          "r_id": 6,
          "resource": "natural_gas_fired_combined_cycle"
         },
         {
          "gen": 0,
          "hour": 2417,
          "r_id": 7,
          "resource": "natural_gas_fired_combined_cycle"
         },
         {
          "gen": 0,
          "hour": 2417,
          "r_id": 8,
          "resource": "natural_gas_fired_combined_cycle"
         },
         {
          "gen": 0,
          "hour": 2418,
          "r_id": 3,
          "resource": "natural_gas_fired_combined_cycle"
         },
         {
          "gen": -8.144799999999996,
          "hour": 2418,
          "r_id": 4,
          "resource": "natural_gas_fired_combined_cycle"
         },
         {
          "gen": -8.967199999999998,
          "hour": 2418,
          "r_id": 5,
          "resource": "natural_gas_fired_combined_cycle"
         },
         {
          "gen": 0,
          "hour": 2418,
          "r_id": 6,
          "resource": "natural_gas_fired_combined_cycle"
         },
         {
          "gen": 0,
          "hour": 2418,
          "r_id": 7,
          "resource": "natural_gas_fired_combined_cycle"
         },
         {
          "gen": 0,
          "hour": 2418,
          "r_id": 8,
          "resource": "natural_gas_fired_combined_cycle"
         },
         {
          "gen": 0,
          "hour": 2419,
          "r_id": 3,
          "resource": "natural_gas_fired_combined_cycle"
         },
         {
          "gen": 0,
          "hour": 2419,
          "r_id": 4,
          "resource": "natural_gas_fired_combined_cycle"
         },
         {
          "gen": 0,
          "hour": 2419,
          "r_id": 5,
          "resource": "natural_gas_fired_combined_cycle"
         },
         {
          "gen": 0,
          "hour": 2419,
          "r_id": 6,
          "resource": "natural_gas_fired_combined_cycle"
         },
         {
          "gen": 0,
          "hour": 2419,
          "r_id": 7,
          "resource": "natural_gas_fired_combined_cycle"
         },
         {
          "gen": 0,
          "hour": 2419,
          "r_id": 8,
          "resource": "natural_gas_fired_combined_cycle"
         },
         {
          "gen": 0,
          "hour": 2420,
          "r_id": 3,
          "resource": "natural_gas_fired_combined_cycle"
         },
         {
          "gen": 0,
          "hour": 2420,
          "r_id": 4,
          "resource": "natural_gas_fired_combined_cycle"
         },
         {
          "gen": 0,
          "hour": 2420,
          "r_id": 5,
          "resource": "natural_gas_fired_combined_cycle"
         },
         {
          "gen": 0,
          "hour": 2420,
          "r_id": 6,
          "resource": "natural_gas_fired_combined_cycle"
         },
         {
          "gen": 0,
          "hour": 2420,
          "r_id": 7,
          "resource": "natural_gas_fired_combined_cycle"
         },
         {
          "gen": 0,
          "hour": 2420,
          "r_id": 8,
          "resource": "natural_gas_fired_combined_cycle"
         },
         {
          "gen": 0,
          "hour": 2421,
          "r_id": 3,
          "resource": "natural_gas_fired_combined_cycle"
         },
         {
          "gen": 0,
          "hour": 2421,
          "r_id": 4,
          "resource": "natural_gas_fired_combined_cycle"
         },
         {
          "gen": 0,
          "hour": 2421,
          "r_id": 5,
          "resource": "natural_gas_fired_combined_cycle"
         },
         {
          "gen": 0,
          "hour": 2421,
          "r_id": 6,
          "resource": "natural_gas_fired_combined_cycle"
         },
         {
          "gen": 0,
          "hour": 2421,
          "r_id": 7,
          "resource": "natural_gas_fired_combined_cycle"
         },
         {
          "gen": 0,
          "hour": 2421,
          "r_id": 8,
          "resource": "natural_gas_fired_combined_cycle"
         },
         {
          "gen": 0,
          "hour": 2422,
          "r_id": 3,
          "resource": "natural_gas_fired_combined_cycle"
         },
         {
          "gen": 0,
          "hour": 2422,
          "r_id": 4,
          "resource": "natural_gas_fired_combined_cycle"
         },
         {
          "gen": 0,
          "hour": 2422,
          "r_id": 5,
          "resource": "natural_gas_fired_combined_cycle"
         },
         {
          "gen": 0,
          "hour": 2422,
          "r_id": 6,
          "resource": "natural_gas_fired_combined_cycle"
         },
         {
          "gen": 0,
          "hour": 2422,
          "r_id": 7,
          "resource": "natural_gas_fired_combined_cycle"
         },
         {
          "gen": 0,
          "hour": 2422,
          "r_id": 8,
          "resource": "natural_gas_fired_combined_cycle"
         },
         {
          "gen": 0,
          "hour": 2423,
          "r_id": 3,
          "resource": "natural_gas_fired_combined_cycle"
         },
         {
          "gen": 0,
          "hour": 2423,
          "r_id": 4,
          "resource": "natural_gas_fired_combined_cycle"
         },
         {
          "gen": 0,
          "hour": 2423,
          "r_id": 5,
          "resource": "natural_gas_fired_combined_cycle"
         },
         {
          "gen": 0,
          "hour": 2423,
          "r_id": 6,
          "resource": "natural_gas_fired_combined_cycle"
         },
         {
          "gen": 0,
          "hour": 2423,
          "r_id": 7,
          "resource": "natural_gas_fired_combined_cycle"
         },
         {
          "gen": 0,
          "hour": 2423,
          "r_id": 8,
          "resource": "natural_gas_fired_combined_cycle"
         }
        ]
       },
       "encoding": {
        "color": {
         "field": "r_id",
         "scale": {
          "scheme": "category20"
         },
         "type": "nominal"
        },
        "x": {
         "field": "hour",
         "type": "quantitative"
        },
        "y": {
         "field": "gen",
         "title": "Marginal",
         "type": "quantitative"
        }
       },
       "mark": "line"
      },
      "image/png": "[encoded data removed]",
      "image/svg+xml": [
       "<?xml version=\"1.0\" encoding=\"utf-8\"?>\n",
       "<!DOCTYPE svg PUBLIC \"-//W3C//DTD SVG 1.1//EN\" \"http://www.w3.org/Graphics/SVG/1.1/DTD/svg11.dtd\">\n",
       "<svg class=\"marks\" width=\"281\" height=\"247\" viewBox=\"0 0 281 247\" version=\"1.1\" xmlns=\"http://www.w3.org/2000/svg\" xmlns:xlink=\"http://www.w3.org/1999/xlink\"><rect width=\"281\" height=\"247\" fill=\"white\"></rect><g fill=\"none\" stroke-miterlimit=\"10\" transform=\"translate(36,10)\"><g class=\"mark-group role-frame root\" role=\"graphics-object\" aria-roledescription=\"group mark container\"><g transform=\"translate(0,0)\"><path class=\"background\" aria-hidden=\"true\" d=\"M0.5,0.5h200v200h-200Z\" stroke=\"#ddd\"></path><g><g class=\"mark-group role-axis\" aria-hidden=\"true\"><g transform=\"translate(0.5,200.5)\"><path class=\"background\" aria-hidden=\"true\" d=\"M0,0h0v0h0Z\" pointer-events=\"none\"></path><g><g class=\"mark-rule role-axis-grid\" pointer-events=\"none\"><line transform=\"translate(0,-200)\" x2=\"0\" y2=\"200\" stroke=\"#ddd\" stroke-width=\"1\" opacity=\"1\"></line><line transform=\"translate(42,-200)\" x2=\"0\" y2=\"200\" stroke=\"#ddd\" stroke-width=\"1\" opacity=\"1\"></line><line transform=\"translate(83,-200)\" x2=\"0\" y2=\"200\" stroke=\"#ddd\" stroke-width=\"1\" opacity=\"1\"></line><line transform=\"translate(125,-200)\" x2=\"0\" y2=\"200\" stroke=\"#ddd\" stroke-width=\"1\" opacity=\"1\"></line><line transform=\"translate(167,-200)\" x2=\"0\" y2=\"200\" stroke=\"#ddd\" stroke-width=\"1\" opacity=\"1\"></line></g></g><path class=\"foreground\" aria-hidden=\"true\" d=\"\" pointer-events=\"none\" display=\"none\"></path></g></g><g class=\"mark-group role-axis\" aria-hidden=\"true\"><g transform=\"translate(0.5,0.5)\"><path class=\"background\" aria-hidden=\"true\" d=\"M0,0h0v0h0Z\" pointer-events=\"none\"></path><g><g class=\"mark-rule role-axis-grid\" pointer-events=\"none\"><line transform=\"translate(0,178)\" x2=\"200\" y2=\"0\" stroke=\"#ddd\" stroke-width=\"1\" opacity=\"1\"></line><line transform=\"translate(0,133)\" x2=\"200\" y2=\"0\" stroke=\"#ddd\" stroke-width=\"1\" opacity=\"1\"></line><line transform=\"translate(0,89)\" x2=\"200\" y2=\"0\" stroke=\"#ddd\" stroke-width=\"1\" opacity=\"1\"></line><line transform=\"translate(0,44)\" x2=\"200\" y2=\"0\" stroke=\"#ddd\" stroke-width=\"1\" opacity=\"1\"></line><line transform=\"translate(0,0)\" x2=\"200\" y2=\"0\" stroke=\"#ddd\" stroke-width=\"1\" opacity=\"1\"></line></g></g><path class=\"foreground\" aria-hidden=\"true\" d=\"\" pointer-events=\"none\" display=\"none\"></path></g></g><g class=\"mark-group role-axis\" role=\"graphics-symbol\" aria-roledescription=\"axis\" aria-label=\"X-axis titled 'hour' for a linear scale with values from 2,400 to 2,424\"><g transform=\"translate(0.5,200.5)\"><path class=\"background\" aria-hidden=\"true\" d=\"M0,0h0v0h0Z\" pointer-events=\"none\"></path><g><g class=\"mark-rule role-axis-tick\" pointer-events=\"none\"><line transform=\"translate(0,0)\" x2=\"0\" y2=\"5\" stroke=\"#888\" stroke-width=\"1\" opacity=\"1\"></line><line transform=\"translate(42,0)\" x2=\"0\" y2=\"5\" stroke=\"#888\" stroke-width=\"1\" opacity=\"1\"></line><line transform=\"translate(83,0)\" x2=\"0\" y2=\"5\" stroke=\"#888\" stroke-width=\"1\" opacity=\"1\"></line><line transform=\"translate(125,0)\" x2=\"0\" y2=\"5\" stroke=\"#888\" stroke-width=\"1\" opacity=\"1\"></line><line transform=\"translate(167,0)\" x2=\"0\" y2=\"5\" stroke=\"#888\" stroke-width=\"1\" opacity=\"1\"></line></g><g class=\"mark-text role-axis-label\" pointer-events=\"none\"><text text-anchor=\"start\" transform=\"translate(0,15)\" font-family=\"sans-serif\" font-size=\"10px\" fill=\"#000\" opacity=\"1\">2,400</text><text text-anchor=\"middle\" transform=\"translate(41.66666666666667,15)\" font-family=\"sans-serif\" font-size=\"10px\" fill=\"#000\" opacity=\"1\">2,405</text><text text-anchor=\"middle\" transform=\"translate(83.33333333333334,15)\" font-family=\"sans-serif\" font-size=\"10px\" fill=\"#000\" opacity=\"1\">2,410</text><text text-anchor=\"middle\" transform=\"translate(125,15)\" font-family=\"sans-serif\" font-size=\"10px\" fill=\"#000\" opacity=\"1\">2,415</text><text text-anchor=\"middle\" transform=\"translate(166.66666666666669,15)\" font-family=\"sans-serif\" font-size=\"10px\" fill=\"#000\" opacity=\"1\">2,420</text></g><g class=\"mark-rule role-axis-domain\" pointer-events=\"none\"><line transform=\"translate(0,0)\" x2=\"200\" y2=\"0\" stroke=\"#888\" stroke-width=\"1\" opacity=\"1\"></line></g><g class=\"mark-text role-axis-title\" pointer-events=\"none\"><text text-anchor=\"middle\" transform=\"translate(100,30)\" font-family=\"sans-serif\" font-size=\"11px\" font-weight=\"bold\" fill=\"#000\" opacity=\"1\">hour</text></g></g><path class=\"foreground\" aria-hidden=\"true\" d=\"\" pointer-events=\"none\" display=\"none\"></path></g></g><g class=\"mark-group role-axis\" role=\"graphics-symbol\" aria-roledescription=\"axis\" aria-label=\"Y-axis titled 'Marginal' for a linear scale with values from -9 to 0\"><g transform=\"translate(0.5,0.5)\"><path class=\"background\" aria-hidden=\"true\" d=\"M0,0h0v0h0Z\" pointer-events=\"none\"></path><g><g class=\"mark-rule role-axis-tick\" pointer-events=\"none\"><line transform=\"translate(0,178)\" x2=\"-5\" y2=\"0\" stroke=\"#888\" stroke-width=\"1\" opacity=\"1\"></line><line transform=\"translate(0,133)\" x2=\"-5\" y2=\"0\" stroke=\"#888\" stroke-width=\"1\" opacity=\"1\"></line><line transform=\"translate(0,89)\" x2=\"-5\" y2=\"0\" stroke=\"#888\" stroke-width=\"1\" opacity=\"1\"></line><line transform=\"translate(0,44)\" x2=\"-5\" y2=\"0\" stroke=\"#888\" stroke-width=\"1\" opacity=\"1\"></line><line transform=\"translate(0,0)\" x2=\"-5\" y2=\"0\" stroke=\"#888\" stroke-width=\"1\" opacity=\"1\"></line></g><g class=\"mark-text role-axis-label\" pointer-events=\"none\"><text text-anchor=\"end\" transform=\"translate(-7,180.77777777777777)\" font-family=\"sans-serif\" font-size=\"10px\" fill=\"#000\" opacity=\"1\">-8</text><text text-anchor=\"end\" transform=\"translate(-7,136.33333333333334)\" font-family=\"sans-serif\" font-size=\"10px\" fill=\"#000\" opacity=\"1\">-6</text><text text-anchor=\"end\" transform=\"translate(-7,91.88888888888889)\" font-family=\"sans-serif\" font-size=\"10px\" fill=\"#000\" opacity=\"1\">-4</text><text text-anchor=\"end\" transform=\"translate(-7,47.44444444444444)\" font-family=\"sans-serif\" font-size=\"10px\" fill=\"#000\" opacity=\"1\">-2</text><text text-anchor=\"end\" transform=\"translate(-7,3)\" font-family=\"sans-serif\" font-size=\"10px\" fill=\"#000\" opacity=\"1\">0</text></g><g class=\"mark-rule role-axis-domain\" pointer-events=\"none\"><line transform=\"translate(0,200)\" x2=\"0\" y2=\"-200\" stroke=\"#888\" stroke-width=\"1\" opacity=\"1\"></line></g><g class=\"mark-text role-axis-title\" pointer-events=\"none\"><text text-anchor=\"middle\" transform=\"translate(-20,100) rotate(-90) translate(0,-2)\" font-family=\"sans-serif\" font-size=\"11px\" font-weight=\"bold\" fill=\"#000\" opacity=\"1\">Marginal</text></g></g><path class=\"foreground\" aria-hidden=\"true\" d=\"\" pointer-events=\"none\" display=\"none\"></path></g></g><g class=\"mark-group role-scope pathgroup\" role=\"graphics-object\" aria-roledescription=\"group mark container\"><g transform=\"translate(0,0)\"><path class=\"background\" aria-hidden=\"true\" d=\"M0,0h200v200h-200Z\"></path><g><g class=\"mark-line role-mark marks\" role=\"graphics-object\" aria-roledescription=\"line mark container\"><path aria-label=\"hour: 2401; Marginal: 0; r_id: 3\" role=\"graphics-symbol\" aria-roledescription=\"line mark\" d=\"M8.333333333333332,0L16.666666666666664,0L25,0L33.33333333333333,0L41.66666666666667,0L50,0L58.333333333333336,0L66.66666666666666,0L75,0L83.33333333333334,0L91.66666666666666,0L100,0L108.33333333333333,0L116.66666666666667,0L125,0L133.33333333333331,21.131111111111057L141.66666666666669,42.26222222222209L150,0L158.33333333333331,0L166.66666666666669,0L175,0L183.33333333333331,0L191.66666666666669,0\" stroke=\"#1f77b4\" stroke-width=\"2\"></path></g></g><path class=\"foreground\" aria-hidden=\"true\" d=\"\" display=\"none\"></path></g><g transform=\"translate(0,0)\"><path class=\"background\" aria-hidden=\"true\" d=\"M0,0h200v200h-200Z\"></path><g><g class=\"mark-line role-mark marks\" role=\"graphics-object\" aria-roledescription=\"line mark container\"><path aria-label=\"hour: 2401; Marginal: 0; r_id: 4\" role=\"graphics-symbol\" aria-roledescription=\"line mark\" d=\"M8.333333333333332,0L16.666666666666664,0L25,0L33.33333333333333,0L41.66666666666667,0L50,0L58.333333333333336,0L66.66666666666666,0L75,0L83.33333333333334,0L91.66666666666666,0L100,0L108.33333333333333,0L116.66666666666667,0L125,0L133.33333333333331,0L141.66666666666669,58.76666666666628L150,180.99555555555548L158.33333333333331,0L166.66666666666669,0L175,0L183.33333333333331,0L191.66666666666669,0\" stroke=\"#aec7e8\" stroke-width=\"2\"></path></g></g><path class=\"foreground\" aria-hidden=\"true\" d=\"\" display=\"none\"></path></g><g transform=\"translate(0,0)\"><path class=\"background\" aria-hidden=\"true\" d=\"M0,0h200v200h-200Z\"></path><g><g class=\"mark-line role-mark marks\" role=\"graphics-object\" aria-roledescription=\"line mark container\"><path aria-label=\"hour: 2401; Marginal: 0; r_id: 5\" role=\"graphics-symbol\" aria-roledescription=\"line mark\" d=\"M8.333333333333332,0L16.666666666666664,0L25,0L33.33333333333333,0L41.66666666666667,0L50,0L58.333333333333336,0L66.66666666666666,0L75,0L83.33333333333334,0L91.66666666666666,0L100,0L108.33333333333333,0L116.66666666666667,0L125,0L133.33333333333331,0L141.66666666666669,95.31777777777748L150,199.27111111111105L158.33333333333331,0L166.66666666666669,0L175,0L183.33333333333331,0L191.66666666666669,0\" stroke=\"#ff7f0e\" stroke-width=\"2\"></path></g></g><path class=\"foreground\" aria-hidden=\"true\" d=\"\" display=\"none\"></path></g><g transform=\"translate(0,0)\"><path class=\"background\" aria-hidden=\"true\" d=\"M0,0h200v200h-200Z\"></path><g><g class=\"mark-line role-mark marks\" role=\"graphics-object\" aria-roledescription=\"line mark container\"><path aria-label=\"hour: 2401; Marginal: 0; r_id: 6\" role=\"graphics-symbol\" aria-roledescription=\"line mark\" d=\"M8.333333333333332,0L16.666666666666664,0L25,0L33.33333333333333,0L41.66666666666667,0L50,0L58.333333333333336,0L66.66666666666666,0L75,0L83.33333333333334,0L91.66666666666666,0L100,0L108.33333333333333,0L116.66666666666667,0L125,0L133.33333333333331,0L141.66666666666669,0L150,0L158.33333333333331,0L166.66666666666669,0L175,0L183.33333333333331,0L191.66666666666669,0\" stroke=\"#ffbb78\" stroke-width=\"2\"></path></g></g><path class=\"foreground\" aria-hidden=\"true\" d=\"\" display=\"none\"></path></g><g transform=\"translate(0,0)\"><path class=\"background\" aria-hidden=\"true\" d=\"M0,0h200v200h-200Z\"></path><g><g class=\"mark-line role-mark marks\" role=\"graphics-object\" aria-roledescription=\"line mark container\"><path aria-label=\"hour: 2401; Marginal: 0; r_id: 7\" role=\"graphics-symbol\" aria-roledescription=\"line mark\" d=\"M8.333333333333332,0L16.666666666666664,0L25,0L33.33333333333333,0L41.66666666666667,0L50,0L58.333333333333336,0L66.66666666666666,0L75,0L83.33333333333334,0L91.66666666666666,0L100,0L108.33333333333333,0L116.66666666666667,0L125,0L133.33333333333331,0L141.66666666666669,0L150,0L158.33333333333331,0L166.66666666666669,0L175,0L183.33333333333331,0L191.66666666666669,0\" stroke=\"#2ca02c\" stroke-width=\"2\"></path></g></g><path class=\"foreground\" aria-hidden=\"true\" d=\"\" display=\"none\"></path></g><g transform=\"translate(0,0)\"><path class=\"background\" aria-hidden=\"true\" d=\"M0,0h200v200h-200Z\"></path><g><g class=\"mark-line role-mark marks\" role=\"graphics-object\" aria-roledescription=\"line mark container\"><path aria-label=\"hour: 2401; Marginal: 0; r_id: 8\" role=\"graphics-symbol\" aria-roledescription=\"line mark\" d=\"M8.333333333333332,0L16.666666666666664,0L25,0L33.33333333333333,0L41.66666666666667,0L50,0L58.333333333333336,0L66.66666666666666,0L75,0L83.33333333333334,0L91.66666666666666,0L100,0L108.33333333333333,0L116.66666666666667,0L125,0L133.33333333333331,0L141.66666666666669,0L150,0L158.33333333333331,0L166.66666666666669,0L175,0L183.33333333333331,0L191.66666666666669,0\" stroke=\"#98df8a\" stroke-width=\"2\"></path></g></g><path class=\"foreground\" aria-hidden=\"true\" d=\"\" display=\"none\"></path></g></g><g class=\"mark-group role-legend\" role=\"graphics-symbol\" aria-roledescription=\"legend\" aria-label=\"Symbol legend titled 'r_id' for stroke color with 6 values: 3, 4, 5, 6, 7, 8\"><g transform=\"translate(218,0)\"><path class=\"background\" aria-hidden=\"true\" d=\"M0,0h22v92h-22Z\" pointer-events=\"none\"></path><g><g class=\"mark-group role-legend-entry\"><g transform=\"translate(0,16)\"><path class=\"background\" aria-hidden=\"true\" d=\"M0,0h0v0h0Z\" pointer-events=\"none\"></path><g><g class=\"mark-group role-scope\" role=\"graphics-object\" aria-roledescription=\"group mark container\"><g transform=\"translate(0,0)\"><path class=\"background\" aria-hidden=\"true\" d=\"M0,0h22v11h-22Z\" pointer-events=\"none\" opacity=\"1\"></path><g><g class=\"mark-symbol role-legend-symbol\" pointer-events=\"none\"><path transform=\"translate(6,6)\" d=\"M-5,0L5,0\" stroke=\"#1f77b4\" stroke-width=\"1.5\" opacity=\"1\"></path></g><g class=\"mark-text role-legend-label\" pointer-events=\"none\"><text text-anchor=\"start\" transform=\"translate(16,9)\" font-family=\"sans-serif\" font-size=\"10px\" fill=\"#000\" opacity=\"1\">3</text></g></g><path class=\"foreground\" aria-hidden=\"true\" d=\"\" pointer-events=\"none\" display=\"none\"></path></g><g transform=\"translate(0,13)\"><path class=\"background\" aria-hidden=\"true\" d=\"M0,0h22v11h-22Z\" pointer-events=\"none\" opacity=\"1\"></path><g><g class=\"mark-symbol role-legend-symbol\" pointer-events=\"none\"><path transform=\"translate(6,6)\" d=\"M-5,0L5,0\" stroke=\"#aec7e8\" stroke-width=\"1.5\" opacity=\"1\"></path></g><g class=\"mark-text role-legend-label\" pointer-events=\"none\"><text text-anchor=\"start\" transform=\"translate(16,9)\" font-family=\"sans-serif\" font-size=\"10px\" fill=\"#000\" opacity=\"1\">4</text></g></g><path class=\"foreground\" aria-hidden=\"true\" d=\"\" pointer-events=\"none\" display=\"none\"></path></g><g transform=\"translate(0,26)\"><path class=\"background\" aria-hidden=\"true\" d=\"M0,0h22v11h-22Z\" pointer-events=\"none\" opacity=\"1\"></path><g><g class=\"mark-symbol role-legend-symbol\" pointer-events=\"none\"><path transform=\"translate(6,6)\" d=\"M-5,0L5,0\" stroke=\"#ff7f0e\" stroke-width=\"1.5\" opacity=\"1\"></path></g><g class=\"mark-text role-legend-label\" pointer-events=\"none\"><text text-anchor=\"start\" transform=\"translate(16,9)\" font-family=\"sans-serif\" font-size=\"10px\" fill=\"#000\" opacity=\"1\">5</text></g></g><path class=\"foreground\" aria-hidden=\"true\" d=\"\" pointer-events=\"none\" display=\"none\"></path></g><g transform=\"translate(0,39)\"><path class=\"background\" aria-hidden=\"true\" d=\"M0,0h22v11h-22Z\" pointer-events=\"none\" opacity=\"1\"></path><g><g class=\"mark-symbol role-legend-symbol\" pointer-events=\"none\"><path transform=\"translate(6,6)\" d=\"M-5,0L5,0\" stroke=\"#ffbb78\" stroke-width=\"1.5\" opacity=\"1\"></path></g><g class=\"mark-text role-legend-label\" pointer-events=\"none\"><text text-anchor=\"start\" transform=\"translate(16,9)\" font-family=\"sans-serif\" font-size=\"10px\" fill=\"#000\" opacity=\"1\">6</text></g></g><path class=\"foreground\" aria-hidden=\"true\" d=\"\" pointer-events=\"none\" display=\"none\"></path></g><g transform=\"translate(0,52)\"><path class=\"background\" aria-hidden=\"true\" d=\"M0,0h22v11h-22Z\" pointer-events=\"none\" opacity=\"1\"></path><g><g class=\"mark-symbol role-legend-symbol\" pointer-events=\"none\"><path transform=\"translate(6,6)\" d=\"M-5,0L5,0\" stroke=\"#2ca02c\" stroke-width=\"1.5\" opacity=\"1\"></path></g><g class=\"mark-text role-legend-label\" pointer-events=\"none\"><text text-anchor=\"start\" transform=\"translate(16,9)\" font-family=\"sans-serif\" font-size=\"10px\" fill=\"#000\" opacity=\"1\">7</text></g></g><path class=\"foreground\" aria-hidden=\"true\" d=\"\" pointer-events=\"none\" display=\"none\"></path></g><g transform=\"translate(0,65)\"><path class=\"background\" aria-hidden=\"true\" d=\"M0,0h22v11h-22Z\" pointer-events=\"none\" opacity=\"1\"></path><g><g class=\"mark-symbol role-legend-symbol\" pointer-events=\"none\"><path transform=\"translate(6,6)\" d=\"M-5,0L5,0\" stroke=\"#98df8a\" stroke-width=\"1.5\" opacity=\"1\"></path></g><g class=\"mark-text role-legend-label\" pointer-events=\"none\"><text text-anchor=\"start\" transform=\"translate(16,9)\" font-family=\"sans-serif\" font-size=\"10px\" fill=\"#000\" opacity=\"1\">8</text></g></g><path class=\"foreground\" aria-hidden=\"true\" d=\"\" pointer-events=\"none\" display=\"none\"></path></g></g></g><path class=\"foreground\" aria-hidden=\"true\" d=\"\" pointer-events=\"none\" display=\"none\"></path></g></g><g class=\"mark-text role-legend-title\" pointer-events=\"none\"><text text-anchor=\"start\" transform=\"translate(0,9)\" font-family=\"sans-serif\" font-size=\"11px\" font-weight=\"bold\" fill=\"#000\" opacity=\"1\">r_id</text></g></g><path class=\"foreground\" aria-hidden=\"true\" d=\"\" pointer-events=\"none\" display=\"none\"></path></g></g></g><path class=\"foreground\" aria-hidden=\"true\" d=\"\" display=\"none\"></path></g></g></g></svg>\n"
      ],
      "text/plain": [
       "@vlplot(\n",
       "    mark=\"line\",\n",
       "    encoding={\n",
       "        x={\n",
       "            field=\"hour\"\n",
       "        },\n",
       "        y={\n",
       "            title=\"Marginal\",\n",
       "            field=\"gen\"\n",
       "        },\n",
       "        color={\n",
       "            scale={\n",
       "                scheme=\"category20\"\n",
       "            },\n",
       "            field=\"r_id\",\n",
       "            type=\"nominal\"\n",
       "        }\n",
       "    },\n",
       "    data={\n",
       "        values=...\n",
       "    }\n",
       ")"
      ]
     },
     "execution_count": 25,
     "metadata": {},
     "output_type": "execute_result"
    }
   ],
   "source": [
    "marg_gen = innerjoin(solution.marginals, \n",
    "                    gen_df[!, [:r_id, :resource]], \n",
    "                    on = :r_id)\n",
    "marg_gen[marg_gen.resource .== \"natural_gas_fired_combined_cycle\",:] |>\n",
    "@vlplot(:line, \n",
    "    x=:hour, y={:gen, title=\"Marginal\"}, \n",
    "    color={\"r_id:n\", scale={scheme=\"category20\"}})\n"
   ]
  },
  {
   "cell_type": "markdown",
   "metadata": {},
   "source": [
    "Thus, during the ramp hours, the marginal value becomes negative&mdash;in this case, reaching ~ -9 for the combined cycle plant with `r_id=5`. This is the interpretation:\n",
    "\n",
    "**If the RHS of the RampUp constraint for `r_id=5` combined cycle plant were increased by 1 unit, the problem objective would reduce by about 9.** \n",
    "\n",
    "The precise value of the largest magnitude ramp marginal is:"
   ]
  },
  {
   "cell_type": "code",
   "execution_count": 26,
   "metadata": {},
   "outputs": [
    {
     "data": {
      "text/html": [
       "<p>DataFrameRow (4 columns)</p><table class=\"data-frame\"><thead><tr><th></th><th>r_id</th><th>hour</th><th>gen</th><th>resource</th></tr><tr><th></th><th>Int64?</th><th>Int64</th><th>Float64</th><th>String?</th></tr></thead><tbody><tr><th>430</th><td>5</td><td>2418</td><td>-8.9672</td><td>natural_gas_fired_combined_cycle</td></tr></tbody></table>"
      ],
      "text/latex": [
       "\\begin{tabular}{r|cccc}\n",
       "\t& r\\_id & hour & gen & resource\\\\\n",
       "\t\\hline\n",
       "\t& Int64? & Int64 & Float64 & String?\\\\\n",
       "\t\\hline\n",
       "\t430 & 5 & 2418 & -8.9672 & natural\\_gas\\_fired\\_combined\\_cycle \\\\\n",
       "\\end{tabular}\n"
      ],
      "text/plain": [
       "DataFrameRow\n",
       "│ Row │ r_id   │ hour  │ gen     │ resource                         │\n",
       "│     │ \u001b[90mInt64?\u001b[39m │ \u001b[90mInt64\u001b[39m │ \u001b[90mFloat64\u001b[39m │ \u001b[90mUnion{Missing, String}\u001b[39m           │\n",
       "├─────┼────────┼───────┼─────────┼──────────────────────────────────┤\n",
       "│ 430 │ 5      │ 2418  │ -8.9672 │ natural_gas_fired_combined_cycle │"
      ]
     },
     "execution_count": 26,
     "metadata": {},
     "output_type": "execute_result"
    }
   ],
   "source": [
    "marg_gen[argmin(marg_gen.gen),:]"
   ]
  },
  {
   "cell_type": "markdown",
   "metadata": {},
   "source": [
    "**Why is this the case?** Due to the ramp constraint, we have to substitute some generation from `r_id=5` with a more expensive unit, in this case the more flexible `r_id=9` combustion turbine. \n",
    "\n",
    "We can, in fact, recover this marginal value by re-examining the variable costs of these generators at the top of the notebook:"
   ]
  },
  {
   "cell_type": "code",
   "execution_count": 27,
   "metadata": {},
   "outputs": [
    {
     "data": {
      "text/html": [
       "<table class=\"data-frame\"><thead><tr><th></th><th>r_id</th><th>varcost</th></tr><tr><th></th><th>Int64?</th><th>Float64</th></tr></thead><tbody><p>2 rows × 2 columns</p><tr><th>1</th><td>5</td><td>29.3061</td></tr><tr><th>2</th><td>9</td><td>38.2733</td></tr></tbody></table>"
      ],
      "text/latex": [
       "\\begin{tabular}{r|cc}\n",
       "\t& r\\_id & varcost\\\\\n",
       "\t\\hline\n",
       "\t& Int64? & Float64\\\\\n",
       "\t\\hline\n",
       "\t1 & 5 & 29.3061 \\\\\n",
       "\t2 & 9 & 38.2733 \\\\\n",
       "\\end{tabular}\n"
      ],
      "text/plain": [
       "2×2 DataFrame\n",
       "│ Row │ r_id   │ varcost │\n",
       "│     │ \u001b[90mInt64?\u001b[39m │ \u001b[90mFloat64\u001b[39m │\n",
       "├─────┼────────┼─────────┤\n",
       "│ 1   │ 5      │ 29.3061 │\n",
       "│ 2   │ 9      │ 38.2733 │"
      ]
     },
     "execution_count": 27,
     "metadata": {},
     "output_type": "execute_result"
    }
   ],
   "source": [
    "varcost_comp = supply_curve[in.(supply_curve.r_id,Ref([5,9])),[:r_id,:varcost]]\n",
    "varcost_comp"
   ]
  },
  {
   "cell_type": "markdown",
   "metadata": {},
   "source": [
    "If our guess is true, the difference between these should be our marginal value, and voila:"
   ]
  },
  {
   "cell_type": "code",
   "execution_count": 28,
   "metadata": {},
   "outputs": [
    {
     "data": {
      "text/plain": [
       "8.967199999999998"
      ]
     },
     "execution_count": 28,
     "metadata": {},
     "output_type": "execute_result"
    }
   ],
   "source": [
    "varcost_comp[2,2] - varcost_comp[1,2]"
   ]
  },
  {
   "cell_type": "markdown",
   "metadata": {},
   "source": [
    "Also notice that the marginals are zero for most of the day. Recalling from Notebook 1 our discussion on \"binding\" constraints, this is because the RampUp constraint is **not binding** during these hours. Alternatively, changing the RHS of the RampUp constraint does not affect the problem objective."
   ]
  }
 ],
 "metadata": {
  "@webio": {
   "lastCommId": null,
   "lastKernelId": null
  },
  "kernelspec": {
   "display_name": "Julia 1.3.1",
   "language": "julia",
   "name": "julia-1.3"
  },
  "language_info": {
   "file_extension": ".jl",
   "mimetype": "application/julia",
   "name": "julia",
   "version": "1.3.1"
  }
 },
 "nbformat": 4,
 "nbformat_minor": 2
}
