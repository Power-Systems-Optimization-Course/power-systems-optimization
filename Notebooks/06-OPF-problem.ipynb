{
 "cells": [
  {
   "cell_type": "markdown",
   "metadata": {},
   "source": [
    "## Optimal Power Flow\n",
    "**Power Systems Optimization**\n",
    "\n",
    "by Michael R. Davidson and Jesse D. Jenkins (last updated: September 27, 2020)\n",
    "\n",
    "This notebook consists an introductory glimpse of and s few hands-on activities and demostrations of the Optimal Power Flow (OPF) problem—which minimizes the short-run production costs of meeting electricity demand from a given set of generators subject to various technical and flow limit constraints.\n",
    "\n",
    "We will talk about a single-time period, simple generator, and line flow limit constraints (while modeling the network flows as dictated by the laws of physics). This is adds a layer of complexity and sophistication on top of the Economic Dispatch (ED) problem.\n",
    "\n",
    "Since we will only discuss single time-period version of the problem, we will not be considering inter-temporal constraints, like ramp-rate limits. However, this model can easily be extended to allow for such constraints.\n",
    "\n",
    "We will start off with some simple systems, whose solutions can be worked out manually without resorting to any mathematical optimization model and software. But, eventually we will be solving larger system, thereby emphasizing the importance of such software and mathematical models."
   ]
  },
  {
   "cell_type": "markdown",
   "metadata": {},
   "source": [
    "## Introduction to OPF\n",
    "Every day, system operators need to decide how to meet demand from a large variety of generators with different costs and engineering requirements. Prior to large-scale computational capabilities, this was accomplished by \"priority lists\" or similar heuristics to determine the ordering of plants. However, with modern optimization algorithms, operators can find the global minimum of production costs—and even incorporate coupling of engineering processes across time periods.\n",
    "\n",
    "Economic dispatch (ED) is the problem of minimizing short-run costs of production in order to meet a given demand, considering relevant engineering constraints of the generators. It does not fully capture the physics of electricity flows, which will further constrain the feasible space and which we will come back to in later notebooks on optimal power flow, nor does it account for decisions and constraints related to turning on or \"committing\" large thermal generators, which we'll discuss in our next notebook on unit commitment. Typically, it does incorporate some type of network representation, which we have ignored here by considering only a single bus. More on the networks in the notebook on optimal power flow."
   ]
  },
  {
   "cell_type": "markdown",
   "metadata": {},
   "source": [
    "## Single-time period, simple generator constraints\n",
    "We will first examine the case where we are optimizing dispatch for a single snapshot in time, with only very simple constraints on the generators. $x^2$\n",
    "\n",
    "\n",
    "$$\n",
    "\\begin{align}\n",
    "\t\t\\mathbf{Objective\\;Function:}\\min_{P_g}\\sum_{g\\in{G}}C_{g}(P_{g})\\longleftarrow\\mathbf{power generation cost}\\\\\n",
    "\t\t\\mathbf{Subject\\;to:\\:}{\\underline{P}_{g}}\\leqslant{P_{g}}\\leqslant{{\\overline{P}_{g}}},\\;\\forall{g\\in{G}}\\longleftarrow\\mathbf{MW generation limits}\\\\\n",
    "\t\tP_{g(i)}-P_{d(i)}\\longleftarrow\\mathbf{real power injection}\\notag\\\\=\\sum_{j\\in J(i)}B_{ij}(\\theta_j-\\theta_i),\\;\\forall{{i}\\in\\mathcal{N}}\\\\\n",
    "\t\t|P_{ij}|\\leqslant{\\overline{P}_{ij}},\\;\\forall{ij}\\in{T}\\longleftarrow\\mathbf{MW line limit}\\\\\n",
    "\\end{align}\n",
    "$$\n",
    " \n",
    "The decision variable in the above problem is:\n",
    "\n",
    "𝐺𝐸𝑁𝑔 , the generation (in MW) produced by each generator,  𝑔 \n",
    "The parameters are:\n",
    "\n",
    "𝑃𝑚𝑖𝑛𝑔 , the minimum operating bounds for the generator (based on engineering or natural resource constraints)\n",
    "𝑃𝑚𝑎𝑥𝑔 , the maximum operating bounds for the generator (based on engineering or natural resource constraints)\n",
    "𝐷𝑒𝑚𝑎𝑛𝑑 , the demand (in MW)\n",
    "(For this simple problem, we will let  𝑃𝑚𝑖𝑛𝑔=0  and revisit this later in the unit commitment notebook.)\n",
    "\n",
    "In addition, we have:\n",
    "\n",
    "𝑉𝑎𝑟𝐶𝑜𝑠𝑡𝑔=𝑉𝑎𝑟𝑂𝑀𝑔+𝐻𝑒𝑎𝑡𝑅𝑎𝑡𝑒𝑔×𝐹𝑢𝑒𝑙𝐶𝑜𝑠𝑡𝑔\n",
    " \n",
    "Note that, in contrast with the basic capacity expansion problem, we are not concerned with fixed costs. Why not?\n",
    "\n",
    "The simplest response is that these costs have already been incurred and regardless of how much a generator produces, its fixed costs will not change. These costs are thus \"sunk costs\" and are constant in the objective function. Our optimal decision variables would not change by adjusting this constant up or down.\n",
    "\n",
    "Therefore, we can safely ignore fixed costs for the purposes of finding optimal dispatch. (We will still have to consider them to calculate producer profits, however.)\n",
    "\n",
    "A famous electricity regulator, noting that it is frequently misunderstood and ignored even by experienced market participants, has called the application of the \"sunk cost fallacy\" to electricity systems \"Grandma's Inheritance Theorem.\" In this hypothetical scenario, if you were to inherit a diamond ring or perhaps a financial contract-for-differences that pays out relative to cleared market prices (you have a very sophisticated grandma in this scenario!), you should not be tempted to change your production strategy.\n",
    "\n",
    "Now, let's implement ED."
   ]
  },
  {
   "cell_type": "code",
   "execution_count": 12,
   "metadata": {},
   "outputs": [
    {
     "ename": "LoadError",
     "evalue": "syntax: extra token \"Load\" after end of expression",
     "output_type": "error",
     "traceback": [
      "syntax: extra token \"Load\" after end of expression",
      ""
     ]
    }
   ],
   "source": [
    "1. Load packages¶"
   ]
  },
  {
   "cell_type": "code",
   "execution_count": 7,
   "metadata": {},
   "outputs": [
    {
     "name": "stderr",
     "output_type": "stream",
     "text": [
      "┌ Info: Precompiling JuMP [4076af6c-e467-56ae-b986-b466b2749572]\n",
      "└ @ Base loading.jl:1273\n",
      "┌ Info: Precompiling GLPK [60bf3e95-4087-53dc-ae20-288a0d20c6a6]\n",
      "└ @ Base loading.jl:1273\n",
      "┌ Info: Precompiling Plots [91a5bcdd-55d7-5caf-9e0b-520d859cae80]\n",
      "└ @ Base loading.jl:1273\n",
      "┌ Info: For saving to png with the Plotly backend PlotlyBase has to be installed.\n",
      "└ @ Plots /home/samie/.julia/packages/Plots/jZRxE/src/backends.jl:373\n",
      "┌ Info: Precompiling VegaLite [112f6efa-9a02-5b7d-90c0-432ed331239a]\n",
      "└ @ Base loading.jl:1273\n",
      "┌ Info: Precompiling DataFrames [a93c6f00-e57d-5684-b7b6-d8193f3e46c0]\n",
      "└ @ Base loading.jl:1273\n",
      "┌ Info: Precompiling CSV [336ed68f-0bac-5ca0-87d4-7b16caf5d00b]\n",
      "└ @ Base loading.jl:1273\n",
      "┌ Info: Precompiling PrettyTables [08abe8d2-0d0c-5749-adfa-8a2ac140af0d]\n",
      "└ @ Base loading.jl:1273\n"
     ]
    }
   ],
   "source": [
    "# New packages introduced in this tutorial (uncomment to download the first time)\n",
    "# import Pkg; Pkg.add(\"PrettyTables\"); Pkg.add(\"VegaLite\")\n",
    "using JuMP, GLPK\n",
    "using Plots; plotly();\n",
    "using VegaLite  # to make some nice plots\n",
    "using DataFrames, CSV, PrettyTables\n",
    "ENV[\"COLUMNS\"]=120; # Set so all columns of DataFrames and Matrices are displayed"
   ]
  },
  {
   "cell_type": "code",
   "execution_count": 8,
   "metadata": {},
   "outputs": [
    {
     "ename": "LoadError",
     "evalue": "syntax: extra token \"Load\" after end of expression",
     "output_type": "error",
     "traceback": [
      "syntax: extra token \"Load\" after end of expression",
      ""
     ]
    }
   ],
   "source": [
    "2. Load and format data\n",
    "We will use data based on San Diego Gas and Electric (SDG&E, via the PowerGenome data platform) plus a few neighboring generators, consisting of:\n",
    "\n",
    "25 generators (including some clustering of smaller generators, and excluding behind-the-meter solar)\n",
    "estimated hourly demand for 2020 (net load at the transmission substation level after subtracting 600MW of behind-the-meter solar from original demand)\n",
    "variable generation capacity factors\n",
    "estimated natural gas fuel costs"
   ]
  },
  {
   "cell_type": "code",
   "execution_count": 10,
   "metadata": {},
   "outputs": [
    {
     "ename": "MethodError",
     "evalue": "MethodError: no method matching read(::String, ::Type{DataFrame})\nYou may have intended to import Base.read\nClosest candidates are:\n  read(::Any; copycols, kwargs...) at /home/samie/.julia/packages/CSV/GCUID/src/CSV.jl:1071",
     "output_type": "error",
     "traceback": [
      "MethodError: no method matching read(::String, ::Type{DataFrame})\nYou may have intended to import Base.read\nClosest candidates are:\n  read(::Any; copycols, kwargs...) at /home/samie/.julia/packages/CSV/GCUID/src/CSV.jl:1071",
      "",
      "Stacktrace:",
      " [1] top-level scope at In[10]:2"
     ]
    }
   ],
   "source": [
    "datadir = joinpath(\"OPF_data\") \n",
    "# Note: joinpath is a good way to create path reference that is agnostic\n",
    "# to what file system you are using (e.g. whether directories are denoted \n",
    "# with a forward or backwards slash).\n",
    "gen_info = CSV.read(joinpath(datadir,\"Gen118.csv\"), DataFrame);\n",
    "line_info = CSV.read(joinpath(datadir,\"Tran118.csv\"), DataFrame);\n",
    "loads = CSV.read(joinpath(datadir,\"Load118.csv\"), DataFrame);\n",
    "\n",
    "# Rename all columns to lowercase (by convention)\n",
    "for f in [gen_info, line_info, loads]\n",
    "    rename!(f,lowercase.(names(f)))\n",
    "end"
   ]
  },
  {
   "cell_type": "code",
   "execution_count": 11,
   "metadata": {},
   "outputs": [
    {
     "data": {
      "text/plain": [
       "OPF_single (generic function with 1 method)"
      ]
     },
     "execution_count": 11,
     "metadata": {},
     "output_type": "execute_result"
    }
   ],
   "source": [
    "#=\n",
    "Function to solve Optimal Power Flow (OPF) problem (single-time period)\n",
    "Inputs:\n",
    "    gen_info -- dataframe with generator info\n",
    "    line_info -- dataframe with transmission lines info\n",
    "    loads  -- dataframe with load info\n",
    "Note: it is always a good idea to include a comment blog describing your\n",
    "function's inputs clearly!\n",
    "=#\n",
    "function OPF_single(gen_df, line_info, loads)\n",
    "    OPF = Model(GLPK.Optimizer) # You could use Clp as well, with Clp.Optimizer\n",
    "    \n",
    "    # Define sets based on data\n",
    "      # A set of all variable generators\n",
    "    G_var = gen_df[gen_df[!,:is_variable] .== 1,:r_id] \n",
    "      # A set of all non-variable generators\n",
    "    G_nonvar = gen_df[gen_df[!,:is_variable] .== 0,:r_id]\n",
    "      # Set of all generators\n",
    "    G = gen_df.r_id\n",
    "    # Extract some parameters given the input data\n",
    "      # Generator capacity factor time series for variable generators\n",
    "    gen_var_cf = innerjoin(gen_variable, \n",
    "                    gen_df[gen_df.is_variable .== 1 , \n",
    "                        [:r_id, :gen_full, :existing_cap_mw]], \n",
    "                    on = :gen_full)\n",
    "        \n",
    "    # Decision variables   \n",
    "    @variables(ED, begin\n",
    "        GEN[G]  >= 0     # generation\n",
    "        # Note: we assume Pmin = 0 for all resources for simplicty here\n",
    "    end)\n",
    "                \n",
    "    # Objective function\n",
    "    @objective(ED, Min, \n",
    "        sum( (gen_df[i,:heat_rate_mmbtu_per_mwh] * gen_df[i,:fuel_cost] +\n",
    "            gen_df[i,:var_om_cost_per_mwh]) * GEN[i] \n",
    "                        for i in G_nonvar) + \n",
    "        sum(gen_df[i,:var_om_cost_per_mwh] * GEN[i] \n",
    "                        for i in G_var)\n",
    "    )\n",
    "\n",
    "    # Demand constraint\n",
    "    @constraint(ED, cDemand, \n",
    "        sum(GEN[i] for i in G) == loads[1,:demand])\n",
    "\n",
    "    # Capacity constraint (non-variable generation)\n",
    "    for i in G_nonvar\n",
    "        @constraint(ED, GEN[i] <= gen_df[i,:existing_cap_mw])\n",
    "    end\n",
    "\n",
    "    # Variable generation capacity constraint\n",
    "    for i in 1:nrow(gen_var_cf)\n",
    "        @constraint(ED, GEN[gen_var_cf[i,:r_id] ] <= \n",
    "                        gen_var_cf[i,:cf] *\n",
    "                        gen_var_cf[i,:existing_cap_mw])\n",
    "    end\n",
    "\n",
    "    # Solve statement (! indicates runs in place)\n",
    "    optimize!(ED)\n",
    "\n",
    "    # Dataframe of optimal decision variables\n",
    "    solution = DataFrame(\n",
    "        r_id = gen_df.r_id,\n",
    "        resource = gen_df.resource,\n",
    "        gen = value.(GEN).data\n",
    "        )\n",
    "\n",
    "    # Return the solution and objective as named tuple\n",
    "    return (\n",
    "        solution = solution, \n",
    "        cost = objective_value(ED),\n",
    "    )\n",
    "end"
   ]
  },
  {
   "cell_type": "code",
   "execution_count": null,
   "metadata": {},
   "outputs": [],
   "source": []
  }
 ],
 "metadata": {
  "kernelspec": {
   "display_name": "Julia 1.3.1",
   "language": "julia",
   "name": "julia-1.3"
  },
  "language_info": {
   "file_extension": ".jl",
   "mimetype": "application/julia",
   "name": "julia",
   "version": "1.3.1"
  }
 },
 "nbformat": 4,
 "nbformat_minor": 4
}
