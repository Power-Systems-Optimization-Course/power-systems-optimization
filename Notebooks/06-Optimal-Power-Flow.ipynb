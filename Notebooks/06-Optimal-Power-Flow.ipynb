{
 "cells": [
  {
   "cell_type": "markdown",
   "metadata": {},
   "source": [
    "## Optimal Power Flow\n",
    "**Power Systems Optimization**\n",
    "\n",
    "by Michael R. Davidson, Jesse D. Jenkins and Sambuddha Chakrabarti (last updated: October 24, 2022)\n",
    "\n",
    "This notebook provides an introduction to the Optimal Power Flow (OPF) problem in electric power systems&mdash;which minimizes the short-run production costs of meeting electricity demand at a number of connected locations from a given set of generators subject to various technical and transmission network flow limit constraints. This will be our first treatment of a *network*, which is critical to all power systems.\n",
    "\n",
    "We will first introduce a model of transmission flows that assumes we can control the flow along each path, in what is called a \"**transport model**.\" This is a straightforward extension to [Economic Dispatch](04-Economic-Dispatch.ipynb) (ED), where we have multiple supply and demand balance constraints at each location or \"node\" in the network, and a new set of flow constraints between nodes. This is also similar to other common optimization problems such as fleet routing of shipments.\n",
    "\n",
    "We will then introduce a linear approximation to the optimal power flow problem known as \"**DC-OPF**\", where we begin to incorporate some of the physics involved in how electricity flows along transmission lines. With this formulation, we recognize that given \"injections\" (i.e., generation) and \"withdrawals\" (i.e., demand) of power at each node in the network, flows along lines are not independently controllable. Instead, electrical power flows across transmission lines in relation to their physical properties, namely power flows across parallel circuits or paths in inverse proportion to the [electrical impedance](https://en.wikipedia.org/wiki/Electrical_impedance) of the lines. This can (very frequently) result in hitting flow constraints before we would if could control power flows across all lines as in the transport problem.\n",
    "\n",
    "This notebook does not explore the full functionality of DC-OPF, which can include inter-temporal constraints, additional generation constraints (e.g., on voltage), security constraints to ensure stability in the case of contingencies, and network losses.\n",
    "\n",
    "Full \"AC optimal power flow\" models are also beyond the scope of this notebook, as the full set of physics associated with the interactions of AC flows introduces non-convexities that make this problem much harder to solve. Due to the non-convex nature of the AC power flow problem, simplified formulations that linearize and approximate these complex constraints are frequently employed in power systems operations, including by electricity system operators, which use a linearized \"security-constrained\" optimal power flow (which ensures power flows would remain simulatenously feasible across a range of possible contingencies) to clear real-time electricity markets.\n",
    "\n",
    "We will start off with some simple systems, whose solutions can be worked out manually without resorting to any mathematical optimization model and software. But, eventually we will be solving larger system, thereby emphasizing the importance of such software and mathematical models."
   ]
  },
  {
   "cell_type": "markdown",
   "metadata": {},
   "source": [
    "## Introduction to OPF\n",
    "\n",
    "\n",
    "The Optimal Power Flow (OPF) problem is a power system optimal scheduling problem which captures the physics of electricity flows across electricity networks, adding a layer of complexity and more realism to the Economic Dispatch (ED) problem. OPF usually attempts to capture the entire network topology by representing the transmission line interconnections between different nodes (also known as buses, or locations where generators or demand inject or withdraw power into/from the network) including various electrical parameters, such as resistance, series reactance, shunt admittance, etc. The full alternating current or \"AC\" OPF is a non-convex problem and turns out to be an extremely hard problem to solve (usually NP-hard). Hence, system operators and power marketers usually go about solving a linearized version of it, called the \"DC-OPF.\" The DC-OPF approximation works satisfactorily for bulk power transmission networks as long as such networks are not operated at the brink of instability or under heavily loaded conditions."
   ]
  },
  {
   "cell_type": "markdown",
   "metadata": {},
   "source": [
    "## \"Transport\" model\n",
    "We will first examine the case where we allow for transmission but ignore the physics of electricity flows, and instead treat it like transporting an ordinary commodity.\n",
    "\n",
    "$$\n",
    "\\begin{align}\n",
    "\\min \\ & \\sum_{g \\in G} VarCost_g \\times GEN_g & \\\\\n",
    "\\text{s.t.} & \\\\\n",
    " & \\sum_{g \\in G_i} GEN_g - Demand_i = \\sum_{j \\in J_i} FLOW_{ij} & \\forall \\quad i \\in \\mathcal{N}\\\\\n",
    " & FLOW_{ij} \\leq MaxFlow_{ij} & \\forall \\quad i \\in \\mathcal{N}, \\forall j \\in J_i \\\\\n",
    " & FLOW_{ij} = - FLOW_{ji} & \\forall \\quad i, j \\in \\mathcal{N} \\\\\n",
    " & GEN_g \\leq Pmax_g & \\forall \\quad g \\in G \\\\\n",
    " & GEN_g \\geq Pmin_g & \\forall \\quad g \\in G  \n",
    "\\end{align}\n",
    "$$\n",
    "\n",
    "We introduce a few new **sets** in the above:\n",
    "- $\\mathcal{N}$, the set of all nodes (or buses) in the network where generation, storage, or demand (load) are located\n",
    "- $J_i \\subset \\mathcal{N}$, the subset of nodes that are connected to node $i$\n",
    "- $G_i \\subset G$, the subset of generators located at node $i$\n",
    " \n",
    "The **decision variables** in the above problem are:\n",
    "\n",
    "- $GEN_{g}$, the generation (in MW) produced by each generator, $g$\n",
    "- $FLOW_{ij}$, the flow (in MW) along the line from $i$ to $j$\n",
    "\n",
    "The **parameters** are:\n",
    "\n",
    "- $Pmin_g$, the minimum operating bounds for the generator (based on engineering or natural resource constraints)\n",
    "- $Pmax_g$, the maximum operating bounds for the generator (based on engineering or natural resource constraints)\n",
    "- $Demand_i$, the demand (in MW) at bus $i$\n",
    "- $MaxFlow_{ij}$, the maximum allowable flow along the line from $i$ to $j$\n",
    "- $VarCost_g$, the variable cost of generator $g$\n",
    "\n",
    "Notice how the problem above is equivalent to producing a single type of good at a set of factories and shipping them along capacity-limited corridors (roads, rail lines, etc.) to meet a set of demands in other locations. "
   ]
  },
  {
   "cell_type": "markdown",
   "metadata": {},
   "source": [
    "### 1. Load packages"
   ]
  },
  {
   "cell_type": "code",
   "execution_count": 1,
   "metadata": {},
   "outputs": [
    {
     "name": "stderr",
     "output_type": "stream",
     "text": [
      "\u001b[32m\u001b[1m   Resolving\u001b[22m\u001b[39m package versions...\n",
      "\u001b[32m\u001b[1m  No Changes\u001b[22m\u001b[39m to `~/.julia/environments/v1.9/Project.toml`\n",
      "\u001b[32m\u001b[1m  No Changes\u001b[22m\u001b[39m to `~/.julia/environments/v1.9/Manifest.toml`\n",
      "\u001b[32m\u001b[1m   Resolving\u001b[22m\u001b[39m package versions...\n",
      "\u001b[32m\u001b[1m  No Changes\u001b[22m\u001b[39m to `~/.julia/environments/v1.9/Project.toml`\n",
      "\u001b[32m\u001b[1m  No Changes\u001b[22m\u001b[39m to `~/.julia/environments/v1.9/Manifest.toml`\n"
     ]
    }
   ],
   "source": [
    "import Pkg; Pkg.add(\"VegaLite\"); Pkg.add(\"PrettyTables\")\n",
    "using JuMP, HiGHS\n",
    "using Plots;\n",
    "using VegaLite  # to make some nice plots\n",
    "using DataFrames, CSV, PrettyTables\n",
    "ENV[\"COLUMNS\"]=120; # Set so all columns of DataFrames and Matrices are displayed"
   ]
  },
  {
   "cell_type": "markdown",
   "metadata": {},
   "source": [
    "### 2. Load and format data\n",
    "\n",
    "We will load a modified 3-bus case stored in the [MATPOWER case format](https://matpower.org/docs/ref/matpower5.0/caseformat.html). It consists of:\n",
    "\n",
    "- two generator buses where 1000 MW generators are located, one with variable cost of 50/MWh and another with variable cost of 100/MWh\n",
    "- one load bus where 600 MW of demand is located\n",
    "- three lines connecting the buses, each with a maximum flow of 500 MW\n",
    "\n",
    "The location and numbering of the components:\n",
    "\n",
    "<img src=\"img/opf_network.png\" style=\"width: 450px; height: auto\" align=\"left\">"
   ]
  },
  {
   "cell_type": "code",
   "execution_count": 2,
   "metadata": {},
   "outputs": [
    {
     "data": {
      "text/html": [
       "<div><div style = \"float: left;\"><span>3×13 DataFrame</span></div><div style = \"clear: both;\"></div></div><div class = \"data-frame\" style = \"overflow-x: scroll;\"><table class = \"data-frame\" style = \"margin-bottom: 6px;\"><thead><tr class = \"header\"><th class = \"rowNumber\" style = \"font-weight: bold; text-align: right;\">Row</th><th style = \"text-align: left;\">bus_i</th><th style = \"text-align: left;\">type</th><th style = \"text-align: left;\">pd</th><th style = \"text-align: left;\">qd</th><th style = \"text-align: left;\">gs</th><th style = \"text-align: left;\">bs</th><th style = \"text-align: left;\">area</th><th style = \"text-align: left;\">vm</th><th style = \"text-align: left;\">va</th><th style = \"text-align: left;\">basekv</th><th style = \"text-align: left;\">zone</th><th style = \"text-align: left;\">vmax</th><th style = \"text-align: left;\">vmin</th></tr><tr class = \"subheader headerLastRow\"><th class = \"rowNumber\" style = \"font-weight: bold; text-align: right;\"></th><th title = \"Int64\" style = \"text-align: left;\">Int64</th><th title = \"Int64\" style = \"text-align: left;\">Int64</th><th title = \"Int64\" style = \"text-align: left;\">Int64</th><th title = \"Float64\" style = \"text-align: left;\">Float64</th><th title = \"Int64\" style = \"text-align: left;\">Int64</th><th title = \"Int64\" style = \"text-align: left;\">Int64</th><th title = \"Int64\" style = \"text-align: left;\">Int64</th><th title = \"Int64\" style = \"text-align: left;\">Int64</th><th title = \"Int64\" style = \"text-align: left;\">Int64</th><th title = \"Int64\" style = \"text-align: left;\">Int64</th><th title = \"Int64\" style = \"text-align: left;\">Int64</th><th title = \"Float64\" style = \"text-align: left;\">Float64</th><th title = \"Float64\" style = \"text-align: left;\">Float64</th></tr></thead><tbody><tr><td class = \"rowNumber\" style = \"font-weight: bold; text-align: right;\">1</td><td style = \"text-align: right;\">1</td><td style = \"text-align: right;\">2</td><td style = \"text-align: right;\">0</td><td style = \"text-align: right;\">0.0</td><td style = \"text-align: right;\">0</td><td style = \"text-align: right;\">0</td><td style = \"text-align: right;\">1</td><td style = \"text-align: right;\">1</td><td style = \"text-align: right;\">0</td><td style = \"text-align: right;\">230</td><td style = \"text-align: right;\">1</td><td style = \"text-align: right;\">1.1</td><td style = \"text-align: right;\">0.9</td></tr><tr><td class = \"rowNumber\" style = \"font-weight: bold; text-align: right;\">2</td><td style = \"text-align: right;\">2</td><td style = \"text-align: right;\">2</td><td style = \"text-align: right;\">0</td><td style = \"text-align: right;\">0.0</td><td style = \"text-align: right;\">0</td><td style = \"text-align: right;\">0</td><td style = \"text-align: right;\">1</td><td style = \"text-align: right;\">1</td><td style = \"text-align: right;\">0</td><td style = \"text-align: right;\">230</td><td style = \"text-align: right;\">1</td><td style = \"text-align: right;\">1.1</td><td style = \"text-align: right;\">0.9</td></tr><tr><td class = \"rowNumber\" style = \"font-weight: bold; text-align: right;\">3</td><td style = \"text-align: right;\">3</td><td style = \"text-align: right;\">1</td><td style = \"text-align: right;\">600</td><td style = \"text-align: right;\">98.61</td><td style = \"text-align: right;\">0</td><td style = \"text-align: right;\">0</td><td style = \"text-align: right;\">1</td><td style = \"text-align: right;\">1</td><td style = \"text-align: right;\">0</td><td style = \"text-align: right;\">230</td><td style = \"text-align: right;\">1</td><td style = \"text-align: right;\">1.1</td><td style = \"text-align: right;\">0.9</td></tr></tbody></table></div>"
      ],
      "text/latex": [
       "\\begin{tabular}{r|ccccccccccccc}\n",
       "\t& bus\\_i & type & pd & qd & gs & bs & area & vm & va & basekv & zone & vmax & vmin\\\\\n",
       "\t\\hline\n",
       "\t& Int64 & Int64 & Int64 & Float64 & Int64 & Int64 & Int64 & Int64 & Int64 & Int64 & Int64 & Float64 & Float64\\\\\n",
       "\t\\hline\n",
       "\t1 & 1 & 2 & 0 & 0.0 & 0 & 0 & 1 & 1 & 0 & 230 & 1 & 1.1 & 0.9 \\\\\n",
       "\t2 & 2 & 2 & 0 & 0.0 & 0 & 0 & 1 & 1 & 0 & 230 & 1 & 1.1 & 0.9 \\\\\n",
       "\t3 & 3 & 1 & 600 & 98.61 & 0 & 0 & 1 & 1 & 0 & 230 & 1 & 1.1 & 0.9 \\\\\n",
       "\\end{tabular}\n"
      ],
      "text/plain": [
       "\u001b[1m3×13 DataFrame\u001b[0m\n",
       "\u001b[1m Row \u001b[0m│\u001b[1m bus_i \u001b[0m\u001b[1m type  \u001b[0m\u001b[1m pd    \u001b[0m\u001b[1m qd      \u001b[0m\u001b[1m gs    \u001b[0m\u001b[1m bs    \u001b[0m\u001b[1m area  \u001b[0m\u001b[1m vm    \u001b[0m\u001b[1m va    \u001b[0m\u001b[1m basekv \u001b[0m\u001b[1m zone  \u001b[0m\u001b[1m vmax    \u001b[0m\u001b[1m vmin    \u001b[0m\n",
       "     │\u001b[90m Int64 \u001b[0m\u001b[90m Int64 \u001b[0m\u001b[90m Int64 \u001b[0m\u001b[90m Float64 \u001b[0m\u001b[90m Int64 \u001b[0m\u001b[90m Int64 \u001b[0m\u001b[90m Int64 \u001b[0m\u001b[90m Int64 \u001b[0m\u001b[90m Int64 \u001b[0m\u001b[90m Int64  \u001b[0m\u001b[90m Int64 \u001b[0m\u001b[90m Float64 \u001b[0m\u001b[90m Float64 \u001b[0m\n",
       "─────┼──────────────────────────────────────────────────────────────────────────────────────────────────\n",
       "   1 │     1      2      0     0.0       0      0      1      1      0     230      1      1.1      0.9\n",
       "   2 │     2      2      0     0.0       0      0      1      1      0     230      1      1.1      0.9\n",
       "   3 │     3      1    600    98.61      0      0      1      1      0     230      1      1.1      0.9"
      ]
     },
     "execution_count": 2,
     "metadata": {},
     "output_type": "execute_result"
    }
   ],
   "source": [
    "datadir = joinpath(\"OPF_data\") \n",
    "gen = CSV.read(joinpath(datadir,\"gen.csv\"), DataFrame);\n",
    "gencost = CSV.read(joinpath(datadir,\"gencost.csv\"), DataFrame);\n",
    "branch = CSV.read(joinpath(datadir,\"branch.csv\"), DataFrame);\n",
    "bus = CSV.read(joinpath(datadir,\"bus.csv\"), DataFrame);\n",
    "\n",
    "# Rename all columns to lowercase (by convention)\n",
    "for f in [gen, gencost, branch, bus]\n",
    "    rename!(f,lowercase.(names(f)))\n",
    "end\n",
    "\n",
    "# create generator ids \n",
    "gen.id = 1:nrow(gen);\n",
    "gencost.id = 1:nrow(gencost);\n",
    "\n",
    "# create line ids \n",
    "branch.id = 1:nrow(branch);\n",
    "# add set of rows for reverse direction with same parameters\n",
    "branch2 = copy(branch)\n",
    "branch2.f = branch2.fbus\n",
    "branch2.fbus = branch.tbus\n",
    "branch2.tbus = branch2.f\n",
    "branch2 = branch2[:,names(branch)]\n",
    "append!(branch,branch2)\n",
    "\n",
    "# Calculate the susceptance of each line, on the assumption that\n",
    "# reactance is >> resistance, such that we can approximate \n",
    "# resistance as = 0 and treat susceptance as the simple  \n",
    "# reciprocal of reactance (x). \n",
    "# See https://en.wikipedia.org/wiki/Susceptance#Relationship_to_reactance\n",
    "branch.sus = 1 ./ branch.x \n",
    "\n",
    "# Here are the buses:\n",
    "bus"
   ]
  },
  {
   "cell_type": "markdown",
   "metadata": {},
   "source": [
    "Columns pd and qd indicate the [active and reactive power](https://en.wikipedia.org/wiki/AC_power#Active,_reactive,_and_apparent_power) withdrawal at the bus. (We will ignore qd for this notebook, since we are not considering full AC power flows.) We do not need any of other columns for our purposes."
   ]
  },
  {
   "cell_type": "code",
   "execution_count": 3,
   "metadata": {},
   "outputs": [
    {
     "data": {
      "text/html": [
       "<div><div style = \"float: left;\"><span>2×22 DataFrame</span></div><div style = \"clear: both;\"></div></div><div class = \"data-frame\" style = \"overflow-x: scroll;\"><table class = \"data-frame\" style = \"margin-bottom: 6px;\"><thead><tr class = \"header\"><th class = \"rowNumber\" style = \"font-weight: bold; text-align: right;\">Row</th><th style = \"text-align: left;\">bus</th><th style = \"text-align: left;\">pg</th><th style = \"text-align: left;\">qg</th><th style = \"text-align: left;\">qmax</th><th style = \"text-align: left;\">qmin</th><th style = \"text-align: left;\">vg</th><th style = \"text-align: left;\">mbase</th><th style = \"text-align: left;\">status</th><th style = \"text-align: left;\">pmax</th><th style = \"text-align: left;\">pmin</th><th style = \"text-align: left;\">pc1</th><th style = \"text-align: left;\">pc2</th><th style = \"text-align: left;\">qc1min</th><th style = \"text-align: left;\">qc1max</th><th style = \"text-align: left;\">qc2min</th><th style = \"text-align: left;\">qc2max</th><th style = \"text-align: left;\">ramp_agc</th><th style = \"text-align: left;\">ramp_10</th><th style = \"text-align: left;\">ramp_30</th><th style = \"text-align: left;\">ramp_q</th><th style = \"text-align: left;\">apf</th><th style = \"text-align: left;\">id</th></tr><tr class = \"subheader headerLastRow\"><th class = \"rowNumber\" style = \"font-weight: bold; text-align: right;\"></th><th title = \"Int64\" style = \"text-align: left;\">Int64</th><th title = \"Int64\" style = \"text-align: left;\">Int64</th><th title = \"Int64\" style = \"text-align: left;\">Int64</th><th title = \"Float64\" style = \"text-align: left;\">Float64</th><th title = \"Float64\" style = \"text-align: left;\">Float64</th><th title = \"Int64\" style = \"text-align: left;\">Int64</th><th title = \"Int64\" style = \"text-align: left;\">Int64</th><th title = \"Int64\" style = \"text-align: left;\">Int64</th><th title = \"Int64\" style = \"text-align: left;\">Int64</th><th title = \"Int64\" style = \"text-align: left;\">Int64</th><th title = \"Int64\" style = \"text-align: left;\">Int64</th><th title = \"Int64\" style = \"text-align: left;\">Int64</th><th title = \"Int64\" style = \"text-align: left;\">Int64</th><th title = \"Int64\" style = \"text-align: left;\">Int64</th><th title = \"Int64\" style = \"text-align: left;\">Int64</th><th title = \"Int64\" style = \"text-align: left;\">Int64</th><th title = \"Int64\" style = \"text-align: left;\">Int64</th><th title = \"Int64\" style = \"text-align: left;\">Int64</th><th title = \"Int64\" style = \"text-align: left;\">Int64</th><th title = \"Int64\" style = \"text-align: left;\">Int64</th><th title = \"Int64\" style = \"text-align: left;\">Int64</th><th title = \"Int64\" style = \"text-align: left;\">Int64</th></tr></thead><tbody><tr><td class = \"rowNumber\" style = \"font-weight: bold; text-align: right;\">1</td><td style = \"text-align: right;\">1</td><td style = \"text-align: right;\">40</td><td style = \"text-align: right;\">0</td><td style = \"text-align: right;\">30.0</td><td style = \"text-align: right;\">-30.0</td><td style = \"text-align: right;\">1</td><td style = \"text-align: right;\">100</td><td style = \"text-align: right;\">1</td><td style = \"text-align: right;\">1000</td><td style = \"text-align: right;\">0</td><td style = \"text-align: right;\">0</td><td style = \"text-align: right;\">0</td><td style = \"text-align: right;\">0</td><td style = \"text-align: right;\">0</td><td style = \"text-align: right;\">0</td><td style = \"text-align: right;\">0</td><td style = \"text-align: right;\">0</td><td style = \"text-align: right;\">0</td><td style = \"text-align: right;\">0</td><td style = \"text-align: right;\">0</td><td style = \"text-align: right;\">0</td><td style = \"text-align: right;\">1</td></tr><tr><td class = \"rowNumber\" style = \"font-weight: bold; text-align: right;\">2</td><td style = \"text-align: right;\">2</td><td style = \"text-align: right;\">170</td><td style = \"text-align: right;\">0</td><td style = \"text-align: right;\">127.5</td><td style = \"text-align: right;\">-127.5</td><td style = \"text-align: right;\">1</td><td style = \"text-align: right;\">100</td><td style = \"text-align: right;\">1</td><td style = \"text-align: right;\">1000</td><td style = \"text-align: right;\">0</td><td style = \"text-align: right;\">0</td><td style = \"text-align: right;\">0</td><td style = \"text-align: right;\">0</td><td style = \"text-align: right;\">0</td><td style = \"text-align: right;\">0</td><td style = \"text-align: right;\">0</td><td style = \"text-align: right;\">0</td><td style = \"text-align: right;\">0</td><td style = \"text-align: right;\">0</td><td style = \"text-align: right;\">0</td><td style = \"text-align: right;\">0</td><td style = \"text-align: right;\">2</td></tr></tbody></table></div>"
      ],
      "text/latex": [
       "\\begin{tabular}{r|ccccccccccccccccc}\n",
       "\t& bus & pg & qg & qmax & qmin & vg & mbase & status & pmax & pmin & pc1 & pc2 & qc1min & qc1max & qc2min & qc2max & \\\\\n",
       "\t\\hline\n",
       "\t& Int64 & Int64 & Int64 & Float64 & Float64 & Int64 & Int64 & Int64 & Int64 & Int64 & Int64 & Int64 & Int64 & Int64 & Int64 & Int64 & \\\\\n",
       "\t\\hline\n",
       "\t1 & 1 & 40 & 0 & 30.0 & -30.0 & 1 & 100 & 1 & 1000 & 0 & 0 & 0 & 0 & 0 & 0 & 0 & $\\dots$ \\\\\n",
       "\t2 & 2 & 170 & 0 & 127.5 & -127.5 & 1 & 100 & 1 & 1000 & 0 & 0 & 0 & 0 & 0 & 0 & 0 & $\\dots$ \\\\\n",
       "\\end{tabular}\n"
      ],
      "text/plain": [
       "\u001b[1m2×22 DataFrame\u001b[0m\n",
       "\u001b[1m Row \u001b[0m│\u001b[1m bus   \u001b[0m\u001b[1m pg    \u001b[0m\u001b[1m qg    \u001b[0m\u001b[1m qmax    \u001b[0m\u001b[1m qmin    \u001b[0m\u001b[1m vg    \u001b[0m\u001b[1m mbase \u001b[0m\u001b[1m status \u001b[0m\u001b[1m pmax  \u001b[0m\u001b[1m pmin  \u001b[0m\u001b[1m pc1   \u001b[0m\u001b[1m pc2   \u001b[0m\u001b[1m qc1min \u001b[0m\u001b[1m qc1max \u001b[0m\u001b[1m qc2min\u001b[0m ⋯\n",
       "     │\u001b[90m Int64 \u001b[0m\u001b[90m Int64 \u001b[0m\u001b[90m Int64 \u001b[0m\u001b[90m Float64 \u001b[0m\u001b[90m Float64 \u001b[0m\u001b[90m Int64 \u001b[0m\u001b[90m Int64 \u001b[0m\u001b[90m Int64  \u001b[0m\u001b[90m Int64 \u001b[0m\u001b[90m Int64 \u001b[0m\u001b[90m Int64 \u001b[0m\u001b[90m Int64 \u001b[0m\u001b[90m Int64  \u001b[0m\u001b[90m Int64  \u001b[0m\u001b[90m Int64 \u001b[0m ⋯\n",
       "─────┼──────────────────────────────────────────────────────────────────────────────────────────────────────────────────\n",
       "   1 │     1     40      0     30.0    -30.0      1    100       1   1000      0      0      0       0       0       0 ⋯\n",
       "   2 │     2    170      0    127.5   -127.5      1    100       1   1000      0      0      0       0       0       0\n",
       "\u001b[36m                                                                                                       7 columns omitted\u001b[0m"
      ]
     },
     "execution_count": 3,
     "metadata": {},
     "output_type": "execute_result"
    }
   ],
   "source": [
    "# This is what the generator dataset looks like:\n",
    "gen"
   ]
  },
  {
   "cell_type": "code",
   "execution_count": 4,
   "metadata": {},
   "outputs": [
    {
     "data": {
      "text/html": [
       "<div><div style = \"float: left;\"><span>2×7 DataFrame</span></div><div style = \"clear: both;\"></div></div><div class = \"data-frame\" style = \"overflow-x: scroll;\"><table class = \"data-frame\" style = \"margin-bottom: 6px;\"><thead><tr class = \"header\"><th class = \"rowNumber\" style = \"font-weight: bold; text-align: right;\">Row</th><th style = \"text-align: left;\">model</th><th style = \"text-align: left;\">startup</th><th style = \"text-align: left;\">shutdown</th><th style = \"text-align: left;\">n</th><th style = \"text-align: left;\">x1</th><th style = \"text-align: left;\">y1</th><th style = \"text-align: left;\">id</th></tr><tr class = \"subheader headerLastRow\"><th class = \"rowNumber\" style = \"font-weight: bold; text-align: right;\"></th><th title = \"Int64\" style = \"text-align: left;\">Int64</th><th title = \"Int64\" style = \"text-align: left;\">Int64</th><th title = \"Int64\" style = \"text-align: left;\">Int64</th><th title = \"Int64\" style = \"text-align: left;\">Int64</th><th title = \"Int64\" style = \"text-align: left;\">Int64</th><th title = \"Int64\" style = \"text-align: left;\">Int64</th><th title = \"Int64\" style = \"text-align: left;\">Int64</th></tr></thead><tbody><tr><td class = \"rowNumber\" style = \"font-weight: bold; text-align: right;\">1</td><td style = \"text-align: right;\">2</td><td style = \"text-align: right;\">0</td><td style = \"text-align: right;\">0</td><td style = \"text-align: right;\">2</td><td style = \"text-align: right;\">50</td><td style = \"text-align: right;\">0</td><td style = \"text-align: right;\">1</td></tr><tr><td class = \"rowNumber\" style = \"font-weight: bold; text-align: right;\">2</td><td style = \"text-align: right;\">2</td><td style = \"text-align: right;\">0</td><td style = \"text-align: right;\">0</td><td style = \"text-align: right;\">2</td><td style = \"text-align: right;\">100</td><td style = \"text-align: right;\">0</td><td style = \"text-align: right;\">2</td></tr></tbody></table></div>"
      ],
      "text/latex": [
       "\\begin{tabular}{r|ccccccc}\n",
       "\t& model & startup & shutdown & n & x1 & y1 & id\\\\\n",
       "\t\\hline\n",
       "\t& Int64 & Int64 & Int64 & Int64 & Int64 & Int64 & Int64\\\\\n",
       "\t\\hline\n",
       "\t1 & 2 & 0 & 0 & 2 & 50 & 0 & 1 \\\\\n",
       "\t2 & 2 & 0 & 0 & 2 & 100 & 0 & 2 \\\\\n",
       "\\end{tabular}\n"
      ],
      "text/plain": [
       "\u001b[1m2×7 DataFrame\u001b[0m\n",
       "\u001b[1m Row \u001b[0m│\u001b[1m model \u001b[0m\u001b[1m startup \u001b[0m\u001b[1m shutdown \u001b[0m\u001b[1m n     \u001b[0m\u001b[1m x1    \u001b[0m\u001b[1m y1    \u001b[0m\u001b[1m id    \u001b[0m\n",
       "     │\u001b[90m Int64 \u001b[0m\u001b[90m Int64   \u001b[0m\u001b[90m Int64    \u001b[0m\u001b[90m Int64 \u001b[0m\u001b[90m Int64 \u001b[0m\u001b[90m Int64 \u001b[0m\u001b[90m Int64 \u001b[0m\n",
       "─────┼──────────────────────────────────────────────────────\n",
       "   1 │     2        0         0      2     50      0      1\n",
       "   2 │     2        0         0      2    100      0      2"
      ]
     },
     "execution_count": 4,
     "metadata": {},
     "output_type": "execute_result"
    }
   ],
   "source": [
    "# and generator cost dataset:\n",
    "gencost"
   ]
  },
  {
   "cell_type": "markdown",
   "metadata": {},
   "source": [
    "In the above, model=2 indicates a polynomial variable cost formulation and the column n=2 indicates that there are two terms. Thus, we have a linear cost (in the x1 column) without any quadratic terms (and a zero constant term):\n",
    "\n",
    "$$\n",
    "VarCost_g = x1_g\n",
    "$$"
   ]
  },
  {
   "cell_type": "code",
   "execution_count": 5,
   "metadata": {},
   "outputs": [
    {
     "data": {
      "text/html": [
       "<div><div style = \"float: left;\"><span>6×15 DataFrame</span></div><div style = \"clear: both;\"></div></div><div class = \"data-frame\" style = \"overflow-x: scroll;\"><table class = \"data-frame\" style = \"margin-bottom: 6px;\"><thead><tr class = \"header\"><th class = \"rowNumber\" style = \"font-weight: bold; text-align: right;\">Row</th><th style = \"text-align: left;\">fbus</th><th style = \"text-align: left;\">tbus</th><th style = \"text-align: left;\">r</th><th style = \"text-align: left;\">x</th><th style = \"text-align: left;\">b</th><th style = \"text-align: left;\">ratea</th><th style = \"text-align: left;\">rateb</th><th style = \"text-align: left;\">ratec</th><th style = \"text-align: left;\">ratio</th><th style = \"text-align: left;\">angle</th><th style = \"text-align: left;\">status</th><th style = \"text-align: left;\">angmin</th><th style = \"text-align: left;\">angmax</th><th style = \"text-align: left;\">id</th><th style = \"text-align: left;\">sus</th></tr><tr class = \"subheader headerLastRow\"><th class = \"rowNumber\" style = \"font-weight: bold; text-align: right;\"></th><th title = \"Int64\" style = \"text-align: left;\">Int64</th><th title = \"Int64\" style = \"text-align: left;\">Int64</th><th title = \"Float64\" style = \"text-align: left;\">Float64</th><th title = \"Float64\" style = \"text-align: left;\">Float64</th><th title = \"Float64\" style = \"text-align: left;\">Float64</th><th title = \"Int64\" style = \"text-align: left;\">Int64</th><th title = \"Int64\" style = \"text-align: left;\">Int64</th><th title = \"Int64\" style = \"text-align: left;\">Int64</th><th title = \"Int64\" style = \"text-align: left;\">Int64</th><th title = \"Int64\" style = \"text-align: left;\">Int64</th><th title = \"Int64\" style = \"text-align: left;\">Int64</th><th title = \"Int64\" style = \"text-align: left;\">Int64</th><th title = \"Int64\" style = \"text-align: left;\">Int64</th><th title = \"Int64\" style = \"text-align: left;\">Int64</th><th title = \"Float64\" style = \"text-align: left;\">Float64</th></tr></thead><tbody><tr><td class = \"rowNumber\" style = \"font-weight: bold; text-align: right;\">1</td><td style = \"text-align: right;\">1</td><td style = \"text-align: right;\">3</td><td style = \"text-align: right;\">0.00281</td><td style = \"text-align: right;\">0.0281</td><td style = \"text-align: right;\">0.00712</td><td style = \"text-align: right;\">500</td><td style = \"text-align: right;\">500</td><td style = \"text-align: right;\">500</td><td style = \"text-align: right;\">0</td><td style = \"text-align: right;\">0</td><td style = \"text-align: right;\">1</td><td style = \"text-align: right;\">-360</td><td style = \"text-align: right;\">360</td><td style = \"text-align: right;\">1</td><td style = \"text-align: right;\">35.5872</td></tr><tr><td class = \"rowNumber\" style = \"font-weight: bold; text-align: right;\">2</td><td style = \"text-align: right;\">1</td><td style = \"text-align: right;\">2</td><td style = \"text-align: right;\">0.00281</td><td style = \"text-align: right;\">0.0281</td><td style = \"text-align: right;\">0.00712</td><td style = \"text-align: right;\">500</td><td style = \"text-align: right;\">500</td><td style = \"text-align: right;\">500</td><td style = \"text-align: right;\">0</td><td style = \"text-align: right;\">0</td><td style = \"text-align: right;\">1</td><td style = \"text-align: right;\">-360</td><td style = \"text-align: right;\">360</td><td style = \"text-align: right;\">2</td><td style = \"text-align: right;\">35.5872</td></tr><tr><td class = \"rowNumber\" style = \"font-weight: bold; text-align: right;\">3</td><td style = \"text-align: right;\">2</td><td style = \"text-align: right;\">3</td><td style = \"text-align: right;\">0.00281</td><td style = \"text-align: right;\">0.0281</td><td style = \"text-align: right;\">0.00712</td><td style = \"text-align: right;\">500</td><td style = \"text-align: right;\">500</td><td style = \"text-align: right;\">500</td><td style = \"text-align: right;\">0</td><td style = \"text-align: right;\">0</td><td style = \"text-align: right;\">1</td><td style = \"text-align: right;\">-360</td><td style = \"text-align: right;\">360</td><td style = \"text-align: right;\">3</td><td style = \"text-align: right;\">35.5872</td></tr><tr><td class = \"rowNumber\" style = \"font-weight: bold; text-align: right;\">4</td><td style = \"text-align: right;\">3</td><td style = \"text-align: right;\">1</td><td style = \"text-align: right;\">0.00281</td><td style = \"text-align: right;\">0.0281</td><td style = \"text-align: right;\">0.00712</td><td style = \"text-align: right;\">500</td><td style = \"text-align: right;\">500</td><td style = \"text-align: right;\">500</td><td style = \"text-align: right;\">0</td><td style = \"text-align: right;\">0</td><td style = \"text-align: right;\">1</td><td style = \"text-align: right;\">-360</td><td style = \"text-align: right;\">360</td><td style = \"text-align: right;\">1</td><td style = \"text-align: right;\">35.5872</td></tr><tr><td class = \"rowNumber\" style = \"font-weight: bold; text-align: right;\">5</td><td style = \"text-align: right;\">2</td><td style = \"text-align: right;\">1</td><td style = \"text-align: right;\">0.00281</td><td style = \"text-align: right;\">0.0281</td><td style = \"text-align: right;\">0.00712</td><td style = \"text-align: right;\">500</td><td style = \"text-align: right;\">500</td><td style = \"text-align: right;\">500</td><td style = \"text-align: right;\">0</td><td style = \"text-align: right;\">0</td><td style = \"text-align: right;\">1</td><td style = \"text-align: right;\">-360</td><td style = \"text-align: right;\">360</td><td style = \"text-align: right;\">2</td><td style = \"text-align: right;\">35.5872</td></tr><tr><td class = \"rowNumber\" style = \"font-weight: bold; text-align: right;\">6</td><td style = \"text-align: right;\">3</td><td style = \"text-align: right;\">2</td><td style = \"text-align: right;\">0.00281</td><td style = \"text-align: right;\">0.0281</td><td style = \"text-align: right;\">0.00712</td><td style = \"text-align: right;\">500</td><td style = \"text-align: right;\">500</td><td style = \"text-align: right;\">500</td><td style = \"text-align: right;\">0</td><td style = \"text-align: right;\">0</td><td style = \"text-align: right;\">1</td><td style = \"text-align: right;\">-360</td><td style = \"text-align: right;\">360</td><td style = \"text-align: right;\">3</td><td style = \"text-align: right;\">35.5872</td></tr></tbody></table></div>"
      ],
      "text/latex": [
       "\\begin{tabular}{r|ccccccccccccccc}\n",
       "\t& fbus & tbus & r & x & b & ratea & rateb & ratec & ratio & angle & status & angmin & angmax & id & sus\\\\\n",
       "\t\\hline\n",
       "\t& Int64 & Int64 & Float64 & Float64 & Float64 & Int64 & Int64 & Int64 & Int64 & Int64 & Int64 & Int64 & Int64 & Int64 & Float64\\\\\n",
       "\t\\hline\n",
       "\t1 & 1 & 3 & 0.00281 & 0.0281 & 0.00712 & 500 & 500 & 500 & 0 & 0 & 1 & -360 & 360 & 1 & 35.5872 \\\\\n",
       "\t2 & 1 & 2 & 0.00281 & 0.0281 & 0.00712 & 500 & 500 & 500 & 0 & 0 & 1 & -360 & 360 & 2 & 35.5872 \\\\\n",
       "\t3 & 2 & 3 & 0.00281 & 0.0281 & 0.00712 & 500 & 500 & 500 & 0 & 0 & 1 & -360 & 360 & 3 & 35.5872 \\\\\n",
       "\t4 & 3 & 1 & 0.00281 & 0.0281 & 0.00712 & 500 & 500 & 500 & 0 & 0 & 1 & -360 & 360 & 1 & 35.5872 \\\\\n",
       "\t5 & 2 & 1 & 0.00281 & 0.0281 & 0.00712 & 500 & 500 & 500 & 0 & 0 & 1 & -360 & 360 & 2 & 35.5872 \\\\\n",
       "\t6 & 3 & 2 & 0.00281 & 0.0281 & 0.00712 & 500 & 500 & 500 & 0 & 0 & 1 & -360 & 360 & 3 & 35.5872 \\\\\n",
       "\\end{tabular}\n"
      ],
      "text/plain": [
       "\u001b[1m6×15 DataFrame\u001b[0m\n",
       "\u001b[1m Row \u001b[0m│\u001b[1m fbus  \u001b[0m\u001b[1m tbus  \u001b[0m\u001b[1m r       \u001b[0m\u001b[1m x       \u001b[0m\u001b[1m b       \u001b[0m\u001b[1m ratea \u001b[0m\u001b[1m rateb \u001b[0m\u001b[1m ratec \u001b[0m\u001b[1m ratio \u001b[0m\u001b[1m angle \u001b[0m\u001b[1m status \u001b[0m\u001b[1m angmin \u001b[0m\u001b[1m angmax \u001b[0m\u001b[1m id    \u001b[0m\u001b[1m sus \u001b[0m ⋯\n",
       "     │\u001b[90m Int64 \u001b[0m\u001b[90m Int64 \u001b[0m\u001b[90m Float64 \u001b[0m\u001b[90m Float64 \u001b[0m\u001b[90m Float64 \u001b[0m\u001b[90m Int64 \u001b[0m\u001b[90m Int64 \u001b[0m\u001b[90m Int64 \u001b[0m\u001b[90m Int64 \u001b[0m\u001b[90m Int64 \u001b[0m\u001b[90m Int64  \u001b[0m\u001b[90m Int64  \u001b[0m\u001b[90m Int64  \u001b[0m\u001b[90m Int64 \u001b[0m\u001b[90m Floa\u001b[0m ⋯\n",
       "─────┼──────────────────────────────────────────────────────────────────────────────────────────────────────────────────\n",
       "   1 │     1      3  0.00281   0.0281  0.00712    500    500    500      0      0       1    -360     360      1  35.5 ⋯\n",
       "   2 │     1      2  0.00281   0.0281  0.00712    500    500    500      0      0       1    -360     360      2  35.5\n",
       "   3 │     2      3  0.00281   0.0281  0.00712    500    500    500      0      0       1    -360     360      3  35.5\n",
       "   4 │     3      1  0.00281   0.0281  0.00712    500    500    500      0      0       1    -360     360      1  35.5\n",
       "   5 │     2      1  0.00281   0.0281  0.00712    500    500    500      0      0       1    -360     360      2  35.5 ⋯\n",
       "   6 │     3      2  0.00281   0.0281  0.00712    500    500    500      0      0       1    -360     360      3  35.5\n",
       "\u001b[36m                                                                                                        1 column omitted\u001b[0m"
      ]
     },
     "execution_count": 5,
     "metadata": {},
     "output_type": "execute_result"
    }
   ],
   "source": [
    "# Here are the transmission lines:\n",
    "branch"
   ]
  },
  {
   "cell_type": "markdown",
   "metadata": {},
   "source": [
    "Note that while there are three lines, there are six entries here. There is an entry for each 'direction' of flow the lines can accomodate, hence six entries for three lines. The column `fbus` denotes the ID of the \"from bus\" or origin bus and the column `tbus` denotes the ID of the \"to bus\" or destination bus (e.g. `fbus`=1, `tbus`=3 is the flow in the direction from bus 1 to bus 3). \n",
    "\n",
    "For this transport model formulation, we are only using transmission line capacity (known as \"ratings\"), given in `ratea`, `rateb`, and `ratec`. These correspond to different ratings based on how long the line might be overloaded, with `ratec` known as an \"emergency rating\", which could exceed the long-term rating, `ratea`. We will use `ratea` for this model. The dataset also contains resistance and reactance."
   ]
  },
  {
   "cell_type": "markdown",
   "metadata": {},
   "source": [
    "### 3. Create solver function (transport)"
   ]
  },
  {
   "cell_type": "code",
   "execution_count": 6,
   "metadata": {},
   "outputs": [
    {
     "data": {
      "text/plain": [
       "transport (generic function with 1 method)"
      ]
     },
     "execution_count": 6,
     "metadata": {},
     "output_type": "execute_result"
    }
   ],
   "source": [
    "#=\n",
    "Function to solve transport flow problem \n",
    "Inputs:\n",
    "    gen -- dataframe with generator info\n",
    "    branch -- dataframe with transmission lines info\n",
    "    gencost -- dataframe with generator info\n",
    "    bus -- dataframe with bus types and loads\n",
    "Note: it is always a good idea to include a comment blog describing your\n",
    "function's inputs clearly!\n",
    "=#\n",
    "function transport(gen, branch, gencost, bus)\n",
    "    Transport = Model(HiGHS.Optimizer) # You could use Clp as well, with Clp.Optimizer\n",
    "    \n",
    "    # Define sets\n",
    "      # Set of all generators\n",
    "    G = gen.id\n",
    "      # Set of all nodes\n",
    "    N = bus.bus_i\n",
    "      # Note: sets J_i and G_i will be described using dataframe indexing below\n",
    "\n",
    "    # Decision variables   \n",
    "    @variables(Transport, begin\n",
    "        GEN[G]  >= 0     # generation        \n",
    "        # Note: we assume Pmin = 0 for all resources for simplicty here\n",
    "        FLOW[N,N]        # flow\n",
    "        # Note: flow is not constrained to be positive\n",
    "        # By convention, positive values will indicate flow from the first to second node\n",
    "        # in the tuple, and a negative flow will indicate flow from the second to the first\n",
    "        # This matrix is thus \"anti-symmetric\", which we will ensure with an appropriate\n",
    "        # constraint.\n",
    "    end)\n",
    "                \n",
    "    # Objective function: minimize sum of generation variable costs for all generators\n",
    "    @objective(Transport, Min, \n",
    "        sum( gencost[g,:x1] * GEN[g] \n",
    "                        for g in G)\n",
    "    )\n",
    "\n",
    "    # Supply/demand balance constraints, accounting for power flows in/out of each node\n",
    "    @constraint(Transport, cBalance[i in N], \n",
    "        sum(GEN[g] for g in gen[gen.bus .== i,:id]) \n",
    "                - bus[bus.bus_i .== i,:pd][1] ==\n",
    "        sum(FLOW[i,j] for j in branch[branch.tbus .== i,:fbus]))\n",
    "\n",
    "    # Max generation constraints\n",
    "    @constraint(Transport, cMaxGen[g in G],\n",
    "                    GEN[g] <= gen[g,:pmax])\n",
    "\n",
    "    # Flow constraints on each branch\n",
    "    for l in 1:nrow(branch)\n",
    "        @constraint(Transport, \n",
    "            FLOW[branch[l,:fbus][1],branch[l,:tbus][1]] <= \n",
    "                        branch[l,:ratea])\n",
    "    end\n",
    "    \n",
    "    # Anti-symmetric flow constraints\n",
    "    @constraint(Transport, cFlowSymmetric[i in N, j in N],\n",
    "                    FLOW[i,j] == -FLOW[j,i])\n",
    "\n",
    "    # Solve statement (! indicates runs in place)\n",
    "    optimize!(Transport)\n",
    "\n",
    "    # Dataframe of optimal decision variables\n",
    "    generation = DataFrame(\n",
    "        id = gen.id,\n",
    "        node = gen.bus,\n",
    "        gen = value.(GEN).data\n",
    "        )\n",
    "    \n",
    "    flows = value.(FLOW).data\n",
    "\n",
    "    # Return the solution and objective as named tuple\n",
    "    return (\n",
    "        generation = generation, \n",
    "        flows,\n",
    "        cost = objective_value(Transport),\n",
    "        status = termination_status(Transport)\n",
    "    )\n",
    "end"
   ]
  },
  {
   "cell_type": "markdown",
   "metadata": {},
   "source": [
    "### 4. Solve"
   ]
  },
  {
   "cell_type": "code",
   "execution_count": 7,
   "metadata": {},
   "outputs": [
    {
     "name": "stdout",
     "output_type": "stream",
     "text": [
      "Running HiGHS 1.5.3 [date: 1970-01-01, git hash: 45a127b78]\n",
      "Copyright (c) 2023 HiGHS under MIT licence terms\n",
      "Presolving model\n",
      "2 rows, 4 cols, 6 nonzeros\n",
      "1 rows, 3 cols, 2 nonzeros\n",
      "0 rows, 0 cols, 0 nonzeros\n",
      "Presolve : Reductions: rows 0(-20); columns 0(-11); elements 0(-31) - Reduced to empty\n",
      "Solving the original LP from the solution after postsolve\n",
      "Model   status      : Optimal\n",
      "Objective value     :  3.0000000000e+04\n",
      "HiGHS run time      :          0.00\n"
     ]
    },
    {
     "data": {
      "text/html": [
       "<div><div style = \"float: left;\"><span>2×3 DataFrame</span></div><div style = \"clear: both;\"></div></div><div class = \"data-frame\" style = \"overflow-x: scroll;\"><table class = \"data-frame\" style = \"margin-bottom: 6px;\"><thead><tr class = \"header\"><th class = \"rowNumber\" style = \"font-weight: bold; text-align: right;\">Row</th><th style = \"text-align: left;\">id</th><th style = \"text-align: left;\">node</th><th style = \"text-align: left;\">gen</th></tr><tr class = \"subheader headerLastRow\"><th class = \"rowNumber\" style = \"font-weight: bold; text-align: right;\"></th><th title = \"Int64\" style = \"text-align: left;\">Int64</th><th title = \"Int64\" style = \"text-align: left;\">Int64</th><th title = \"Float64\" style = \"text-align: left;\">Float64</th></tr></thead><tbody><tr><td class = \"rowNumber\" style = \"font-weight: bold; text-align: right;\">1</td><td style = \"text-align: right;\">1</td><td style = \"text-align: right;\">1</td><td style = \"text-align: right;\">600.0</td></tr><tr><td class = \"rowNumber\" style = \"font-weight: bold; text-align: right;\">2</td><td style = \"text-align: right;\">2</td><td style = \"text-align: right;\">2</td><td style = \"text-align: right;\">0.0</td></tr></tbody></table></div>"
      ],
      "text/latex": [
       "\\begin{tabular}{r|ccc}\n",
       "\t& id & node & gen\\\\\n",
       "\t\\hline\n",
       "\t& Int64 & Int64 & Float64\\\\\n",
       "\t\\hline\n",
       "\t1 & 1 & 1 & 600.0 \\\\\n",
       "\t2 & 2 & 2 & 0.0 \\\\\n",
       "\\end{tabular}\n"
      ],
      "text/plain": [
       "\u001b[1m2×3 DataFrame\u001b[0m\n",
       "\u001b[1m Row \u001b[0m│\u001b[1m id    \u001b[0m\u001b[1m node  \u001b[0m\u001b[1m gen     \u001b[0m\n",
       "     │\u001b[90m Int64 \u001b[0m\u001b[90m Int64 \u001b[0m\u001b[90m Float64 \u001b[0m\n",
       "─────┼───────────────────────\n",
       "   1 │     1      1    600.0\n",
       "   2 │     2      2      0.0"
      ]
     },
     "execution_count": 7,
     "metadata": {},
     "output_type": "execute_result"
    }
   ],
   "source": [
    "solution = transport(gen, branch, gencost, bus)\n",
    "solution.generation"
   ]
  },
  {
   "cell_type": "markdown",
   "metadata": {},
   "source": [
    "We generate all 600 MW from Gen A at Bus 1."
   ]
  },
  {
   "cell_type": "code",
   "execution_count": 8,
   "metadata": {},
   "outputs": [
    {
     "data": {
      "text/plain": [
       "3×3 Matrix{Float64}:\n",
       "   -0.0   100.0  500.0\n",
       " -100.0    -0.0  100.0\n",
       " -500.0  -100.0   -0.0"
      ]
     },
     "execution_count": 8,
     "metadata": {},
     "output_type": "execute_result"
    }
   ],
   "source": [
    "solution.flows"
   ]
  },
  {
   "cell_type": "markdown",
   "metadata": {},
   "source": [
    "In turn, the following flows are created: \n",
    "\n",
    "- $l_{13}$ = 500 MW\n",
    "- $l_{12}$ = 100 MW\n",
    "- $l_{23}$ = 100 MW\n",
    "\n",
    "Hence, we are able to maximize the capacity of the line from 1 to 3 ($l_{13}$), and then route the remaining power through Bus 2."
   ]
  },
  {
   "cell_type": "markdown",
   "metadata": {},
   "source": [
    "## The \"DC\" Optimal Power Flow problem\n",
    "\n",
    "The above model is not physically correct as we cannot arbitrarily route power through lines. We will now introduce a linear approximation to the optimal power flow problem that incorporates this limitation and is tractable and reasonably accurate. This is commonly called the \"DC\" optimal power flow problem, but in reality (as we'll see below), it is a linearization that still relates to the physics of AC power flows, it just simplifies (and ignores) certain non-convexities to produce a tractable linear programming problem that remains a valid approximation under certain circumstances.\n",
    "\n",
    "In the \"DC\" or linear approximation of the AC optimal power flow problem, power flows along a line from bus $i$ to bus $j$ are driven by voltage [phase angle](https://en.wikipedia.org/wiki/Phasor) differences, denoted by $\\theta_i$ and $\\theta_j$:\n",
    "\n",
    "$$\n",
    "FLOW_{ij} = BaseMVA \\times B_{ij} (\\theta_i-\\theta_j)\n",
    "$$\n",
    "\n",
    "Where $FLOW_{ij}$ is the flow across the line from node $i$ to node $j$ (in MW), $BaseMVA$ is the base power for the network (in MVA), $B_{ij}$ is the [susceptance](https://en.wikipedia.org/wiki/Susceptance) for the line connecting buses $i$ and $j$ (in per unit terms) and $(\\theta_i-\\theta_j)$ is the difference in voltage angles between buses (in radians).\n",
    "\n",
    "Susceptance is the imaginary part of the [admittance](https://en.wikipedia.org/wiki/Admittance) of a line, where [admittance](https://en.wikipedia.org/wiki/Admittance) is a complex number that describes how easy it is for AC current to flow across a given conductor. Power flows in parallel circuits in an AC network in proportion to their admittance (or inverse proportion to [impedance](https://en.wikipedia.org/wiki/Electrical_impedance), which describes how hard it is a measure of the opposition that a circuit presents to a current when a voltage is applied).\n",
    "\n",
    "Voltage [phase](https://www.allaboutcircuits.com/textbook/alternating-current/chpt-1/ac-phase/) angles describe the displacement of the AC voltage waveform at each node, relative to a reference or \"slack\" bus. A difference in voltage angles between buses $i$ and $j$ indicates that the peaks and troughs in the sinusoidal voltage waveform at bus $i$ are shifted in time relative to the voltage waveform at bus $j$, as in the image below.\n",
    "\n",
    "<img src=\"img/phase_shift.png\" style=\"width: 450px; height: auto\"> (*Image source: [allaboutcircuits.com](https://www.allaboutcircuits.com/textbook/alternating-current/chpt-1/ac-phase/)*)\n",
    "\n",
    "In AC circuits, power flows from nodes with higher voltage angle to buses with lower voltage angle, just as power flows from higher voltage magnitude to lower voltage magnitude in DC circuits.\n",
    "\n",
    "What causes the shift in voltage phase angle? An AC current flowing across a conductor encountering either [inductive reactance](https://en.wikipedia.org/wiki/Electrical_impedance#Inductive_reactance) (which relates to the magnetizing current, or the energy required to continually induce or establish magnetic fields around a conductor as AC current polarity flips each cycle) or [capacitive reactance](https://en.wikipedia.org/wiki/Electrical_impedance#Capacitive_reactance) (which relates to the charging current, or the energy required to sustain capacitive charges between two conductors separated by an insulator) will experience a shift in the voltage waveform, relative to the current wave form. Inductive reactance causes the voltage waveform to shift forward relative to the current, while capacitive reactive cases the voltage to shift backwards relative to the current. In overhead transmission lines, the primary source of voltage phase angle shifts is the inductance of the transmission lines themselves (although capacitance is relevant for underground lines).\n",
    "\n",
    "(For (a bit) more on the physics of power flow on AC transmissio lines, you can review [this tutorial from the PJM Interconnection](https://learn.pjm.com/~/media/training/nerc-certifications/gen-exam-materials/bet/20160104-basics-of-elec-power-flow-on-ac.ashx))\n",
    "\n",
    "The reason this approximation is known as the \"DC OPF\" is because we ignore [reactive power](https://en.wikipedia.org/wiki/AC_power#Reactive_power_flows) and focus only on flows of real power as in a DC network. But you can see why \"DC\" OPF is actually a misnomer: we're still dealing with AC voltages and susceptance terms here, we're just linearizing the problem through some simplifying assumptions. In particular, the three basic assumptions used to derive a linearized or \"DC\" OPF approximation from the underlying AC OPF problem are as follows:\n",
    "\n",
    "1. The resistance for each branch is negligible relative to the reactance, and can therefore be approximated as ~0.\n",
    "2. The voltage magnitude at each bus is constant and equal to the base voltage (e.g. equal to 1 p.u).\n",
    "3. The voltage angle difference $(\\theta_j-\\theta_i)$ across any branch from bus $i$ to $j$ is sufficiently small such that $cos(\\theta_i-\\theta_j) \\approx 1$ and $sin(\\theta_i-\\theta_j) \\approx (\\theta_i-\\theta_j)$. Note that $\\theta_i,\\theta_j$ are measured in [radians](https://en.wikipedia.org/wiki/Radian).\n",
    "\n",
    "Fortunately, under normal operating conditions, these conditions hold for electricity transmission networks (although note they are not generally acceptable simplifying assumptions for lower voltage distribution networks). "
   ]
  },
  {
   "cell_type": "markdown",
   "metadata": {},
   "source": [
    "We can now modify the above transport model to incorporate these new power flow-related decision variables and constraints:\n",
    "\n",
    "$$\n",
    "\\begin{align}\n",
    "\\min \\ & \\sum_{g \\in G} VarCost_g \\times GEN_g & \\\\\n",
    "\\text{s.t.} & \\\\\n",
    " & \\sum_{g \\in G_i} GEN_g - Demand_i = \\sum_{j\\in J(i)} FLOW_{i,j} & \\forall \\quad i \\in \\mathcal{N}\\\\\n",
    " & FLOW_{i,j} \\leq MaxFlow_{ij} & \\forall \\quad i \\in \\mathcal{N}, \\forall j \\in J_i \\\\\n",
    " & FLOW_{i,j} = BaseMVA \\times B_{ij}(\\theta_i-\\theta_j) & \\forall \\quad i \\in \\mathcal{N}, \\forall j \\in J_i \\\\\n",
    " & GEN_g \\leq Pmax_g & \\forall \\quad g \\in G \\\\\n",
    " & GEN_g \\geq Pmin_g & \\forall \\quad g \\in G \\\\\n",
    " & \\theta_{slack} = 0\n",
    "\\end{align}\n",
    "$$\n",
    "\n",
    "Note that we no longer require a constraint to enforce anti-symmetric flows.\n",
    "\n",
    "We have the following **sets**:\n",
    "- $\\mathcal{N}$, the set of all nodes (or buses) in the network\n",
    "- $J_i \\subset \\mathcal{N}$, the subset of nodes that are connected to node $i$\n",
    "- $G_i \\subset G$, the subset of generators located at node $i$\n",
    " \n",
    "The **decision variables** in the above problem are:\n",
    "\n",
    "- $GEN_{g}$, the generation (in MW) produced by each generator, $g$\n",
    "- $\\theta_i$, the voltage phase angle at bus $i$ relative to the slack or reference bus ($\\theta_{slack}$)\n",
    "- $FLOW_{i,j}$, the flow from bus i to bus j (in MW)\n",
    "\n",
    "Note that unlike the transport flow problem, in the OPF problem we *do not* directly choose the flows across lines, but rather choose the real power injections at generator buses via $GEN_{g}$ and the voltage angles $\\theta_i$, which collectively determine the power flows across lines via the collection of constraints above. The $FLOW$ decision variable is thus an \"auxialiary\" variable, as it is precisely determined by the constraint $FLOW_{i,j} = BaseMVA \\times B_{ij}(\\theta_i-\\theta_j)$ for all pairs ($i,j$) for which transmission lines exist. \n",
    "\n",
    "(Note that we create $FLOW$ decisions for some pairs of nodes ($i,j$) that are not connected by lines; these variables are \"free\" variables, as they are not constrained and do not show up in/effect the objective function, so the solver will generally remove these variables in pre-solve step. We could try a different approach to sets for the $FLOW$ variable, e.g. by setting across lines instead of pairs of nodes, to avoid creating these unecessary free variables, but for convenience, we'll create and ignore them for now).\n",
    "\n",
    "The **parameters** are:\n",
    "\n",
    "- $Pmin_g$, the minimum operating bounds for the generator (based on engineering or natural resource constraints)\n",
    "- $Pmax_g$, the maximum operating bounds for the generator (based on engineering or natural resource constraints)\n",
    "- $Demand_i$, the demand (in MW) at bus $i$\n",
    "- $MaxFlow_{ij}$, the maximum allowable flow along the line from $i$ to $j$\n",
    "- $VarCost_g$, the variable cost of generator $g$\n",
    "- $B_{ij}$, susceptance for line connecting buses $i$ and $j$\n",
    "- $\\theta_{slack}$, the \"slack\" bus or reference bus from which relative voltage angles at all other buses are calcluated. Thus $\\theta_{slack}=0$.\n",
    "- $BaseMVA$, the base power in MVA for the network (used to scale from standard units to per unit values or vice versa)."
   ]
  },
  {
   "cell_type": "markdown",
   "metadata": {},
   "source": [
    "### 3. Create solver function (dcopf)"
   ]
  },
  {
   "cell_type": "code",
   "execution_count": 9,
   "metadata": {},
   "outputs": [
    {
     "data": {
      "text/plain": [
       "dcopf (generic function with 1 method)"
      ]
     },
     "execution_count": 9,
     "metadata": {},
     "output_type": "execute_result"
    }
   ],
   "source": [
    "#=\n",
    "Function to solve DC OPF problem \n",
    "Inputs:\n",
    "    gen -- dataframe with generator info\n",
    "    branch -- dataframe with transmission lines info\n",
    "    gencost -- dataframe with generator info\n",
    "    bus -- dataframe with bus types and loads\n",
    "Note: it is always a good idea to include a comment blog describing your\n",
    "function's inputs clearly!\n",
    "=#\n",
    "function dcopf(gen, branch, gencost, bus)\n",
    "    DCOPF = Model(HiGHS.Optimizer) # You could use Clp as well, with Clp.Optimizer\n",
    "    \n",
    "    # Define sets\n",
    "      # Set of all generators\n",
    "    G = gen.id\n",
    "      # Set of all nodes\n",
    "    N = bus.bus_i\n",
    "      # sets J_i and G_i will be described using dataframe indexing below\n",
    "\n",
    "    \n",
    "    # Define per unit base units for the system \n",
    "    # used to convert from per unit values to standard unit\n",
    "    # values (e.g. p.u. power flows to MW/MVA)\n",
    "    baseMVA = gen.mbase[1] # base MVA is 100 MVA for this system\n",
    "    \n",
    "    # Decision variables   \n",
    "    @variables(DCOPF, begin\n",
    "        GEN[G]  >= 0     # generation        \n",
    "        # Note: we assume Pmin = 0 for all resources for simplicty here\n",
    "        THETA[N]         # voltage phase angle of bus\n",
    "        FLOW[N,N]        # flows between all pairs of nodes\n",
    "    end)\n",
    "    \n",
    "    # Create slack bus with reference angle = 0\n",
    "    # Note: by convention this is a generator bus. Hence, we will select bus 1\n",
    "    fix(THETA[1],0)\n",
    "                \n",
    "    # Objective function\n",
    "    @objective(DCOPF, Min, \n",
    "        sum( gencost[g,:x1] * GEN[g] \n",
    "                        for g in G)\n",
    "    )\n",
    "    \n",
    "    # Supply demand balances\n",
    "    @constraint(DCOPF, cBalance[i in N], \n",
    "        sum(GEN[g] for g in gen[gen.bus .== i,:id]) \n",
    "                - bus[bus.bus_i .== i,:pd][1] ==\n",
    "        sum(FLOW[i,j] for j in branch[branch.fbus .== i,:tbus])\n",
    "    )\n",
    "    \n",
    "    # Max generation constraint\n",
    "    @constraint(DCOPF, cMaxGen[g in G],\n",
    "                    GEN[g] <= gen[g,:pmax])\n",
    "\n",
    "    # Flow constraints on each branch; \n",
    "    # In DCOPF, line flow is a function of voltage angles\n",
    "         # Create an array of references to the line constraints, \n",
    "       # which we \"fill\" below in loop\n",
    "    cLineFlows = JuMP.Containers.DenseAxisArray{Any}(undef, 1:nrow(branch)) \n",
    "    for l in 1:nrow(branch)\n",
    "        cLineFlows[l] = @constraint(DCOPF, \n",
    "            FLOW[branch[l,:fbus],branch[l,:tbus]] == \n",
    "            baseMVA*branch[l,:sus]*(THETA[branch[l,:fbus]] - THETA[branch[l,:tbus]])\n",
    "        )\n",
    "    end\n",
    "    \n",
    "    # Max line flow constraints\n",
    "       # Create an array of references to the line constraints, \n",
    "       # which we \"fill\" below in loop\n",
    "    cLineLimits = JuMP.Containers.DenseAxisArray{Any}(undef, 1:nrow(branch)) \n",
    "    for l in 1:nrow(branch)\n",
    "        cLineLimits[l] = @constraint(DCOPF,\n",
    "           FLOW[branch[l,:fbus],branch[l,:tbus]] \n",
    "           <= branch[l,:ratea]\n",
    "        ) \n",
    "    end\n",
    "\n",
    "    # Solve statement (! indicates runs in place)\n",
    "    optimize!(DCOPF)\n",
    "\n",
    "    # Output variables\n",
    "    generation = DataFrame(\n",
    "        id = gen.id,\n",
    "        node = gen.bus,\n",
    "        gen = value.(GEN).data\n",
    "        )\n",
    "    \n",
    "    angles = value.(THETA).data\n",
    "    \n",
    "    flows = DataFrame(\n",
    "        fbus = branch.fbus,\n",
    "        tbus = branch.tbus,\n",
    "        flow = baseMVA .* branch.sus .* (angles[branch.fbus] .- angles[branch.tbus])\n",
    "    )\n",
    "    \n",
    "    # We output the marginal values of the demand constraints, \n",
    "    # which will in fact be the prices to deliver power at a given bus.\n",
    "    prices = DataFrame(\n",
    "        node = bus.bus_i,\n",
    "        value = dual.(cBalance).data)\n",
    "    \n",
    "    # Return the solution and objective as named tuple\n",
    "    return (\n",
    "        generation = generation, \n",
    "        angles,\n",
    "        flows,\n",
    "        prices,\n",
    "        cost = objective_value(DCOPF),\n",
    "        status = termination_status(DCOPF)\n",
    "    )\n",
    "end"
   ]
  },
  {
   "cell_type": "markdown",
   "metadata": {},
   "source": [
    "### 4. Solve"
   ]
  },
  {
   "cell_type": "code",
   "execution_count": 10,
   "metadata": {},
   "outputs": [
    {
     "name": "stdout",
     "output_type": "stream",
     "text": [
      "Running HiGHS 1.5.3 [date: 1970-01-01, git hash: 45a127b78]\n",
      "Copyright (c) 2023 HiGHS under MIT licence terms\n",
      "Presolving model\n",
      "8 rows, 9 cols, 20 nonzeros\n",
      "0 rows, 0 cols, 0 nonzeros\n",
      "Presolve : Reductions: rows 0(-17); columns 0(-14); elements 0(-34) - Reduced to empty\n",
      "Solving the original LP from the solution after postsolve\n",
      "Model   status      : Optimal\n",
      "Objective value     :  3.0000000000e+04\n",
      "HiGHS run time      :          0.00\n"
     ]
    },
    {
     "data": {
      "text/html": [
       "<div><div style = \"float: left;\"><span>2×3 DataFrame</span></div><div style = \"clear: both;\"></div></div><div class = \"data-frame\" style = \"overflow-x: scroll;\"><table class = \"data-frame\" style = \"margin-bottom: 6px;\"><thead><tr class = \"header\"><th class = \"rowNumber\" style = \"font-weight: bold; text-align: right;\">Row</th><th style = \"text-align: left;\">id</th><th style = \"text-align: left;\">node</th><th style = \"text-align: left;\">gen</th></tr><tr class = \"subheader headerLastRow\"><th class = \"rowNumber\" style = \"font-weight: bold; text-align: right;\"></th><th title = \"Int64\" style = \"text-align: left;\">Int64</th><th title = \"Int64\" style = \"text-align: left;\">Int64</th><th title = \"Float64\" style = \"text-align: left;\">Float64</th></tr></thead><tbody><tr><td class = \"rowNumber\" style = \"font-weight: bold; text-align: right;\">1</td><td style = \"text-align: right;\">1</td><td style = \"text-align: right;\">1</td><td style = \"text-align: right;\">600.0</td></tr><tr><td class = \"rowNumber\" style = \"font-weight: bold; text-align: right;\">2</td><td style = \"text-align: right;\">2</td><td style = \"text-align: right;\">2</td><td style = \"text-align: right;\">0.0</td></tr></tbody></table></div>"
      ],
      "text/latex": [
       "\\begin{tabular}{r|ccc}\n",
       "\t& id & node & gen\\\\\n",
       "\t\\hline\n",
       "\t& Int64 & Int64 & Float64\\\\\n",
       "\t\\hline\n",
       "\t1 & 1 & 1 & 600.0 \\\\\n",
       "\t2 & 2 & 2 & 0.0 \\\\\n",
       "\\end{tabular}\n"
      ],
      "text/plain": [
       "\u001b[1m2×3 DataFrame\u001b[0m\n",
       "\u001b[1m Row \u001b[0m│\u001b[1m id    \u001b[0m\u001b[1m node  \u001b[0m\u001b[1m gen     \u001b[0m\n",
       "     │\u001b[90m Int64 \u001b[0m\u001b[90m Int64 \u001b[0m\u001b[90m Float64 \u001b[0m\n",
       "─────┼───────────────────────\n",
       "   1 │     1      1    600.0\n",
       "   2 │     2      2      0.0"
      ]
     },
     "execution_count": 10,
     "metadata": {},
     "output_type": "execute_result"
    }
   ],
   "source": [
    "solution = dcopf(gen, branch, gencost, bus)\n",
    "solution.generation"
   ]
  },
  {
   "cell_type": "markdown",
   "metadata": {},
   "source": [
    "Hence, we still generate all 600 MW from Gen A at Bus 1."
   ]
  },
  {
   "cell_type": "code",
   "execution_count": 11,
   "metadata": {},
   "outputs": [
    {
     "data": {
      "text/plain": [
       "3-element Vector{Float64}:\n",
       "  0.0\n",
       " -0.0562\n",
       " -0.1124"
      ]
     },
     "execution_count": 11,
     "metadata": {},
     "output_type": "execute_result"
    }
   ],
   "source": [
    "# These are the voltage phase angles of the buses relative to Bus 1.\n",
    "solution.angles"
   ]
  },
  {
   "cell_type": "code",
   "execution_count": 12,
   "metadata": {},
   "outputs": [
    {
     "data": {
      "text/html": [
       "<div><div style = \"float: left;\"><span>6×3 DataFrame</span></div><div style = \"clear: both;\"></div></div><div class = \"data-frame\" style = \"overflow-x: scroll;\"><table class = \"data-frame\" style = \"margin-bottom: 6px;\"><thead><tr class = \"header\"><th class = \"rowNumber\" style = \"font-weight: bold; text-align: right;\">Row</th><th style = \"text-align: left;\">fbus</th><th style = \"text-align: left;\">tbus</th><th style = \"text-align: left;\">flow</th></tr><tr class = \"subheader headerLastRow\"><th class = \"rowNumber\" style = \"font-weight: bold; text-align: right;\"></th><th title = \"Int64\" style = \"text-align: left;\">Int64</th><th title = \"Int64\" style = \"text-align: left;\">Int64</th><th title = \"Float64\" style = \"text-align: left;\">Float64</th></tr></thead><tbody><tr><td class = \"rowNumber\" style = \"font-weight: bold; text-align: right;\">1</td><td style = \"text-align: right;\">1</td><td style = \"text-align: right;\">3</td><td style = \"text-align: right;\">400.0</td></tr><tr><td class = \"rowNumber\" style = \"font-weight: bold; text-align: right;\">2</td><td style = \"text-align: right;\">1</td><td style = \"text-align: right;\">2</td><td style = \"text-align: right;\">200.0</td></tr><tr><td class = \"rowNumber\" style = \"font-weight: bold; text-align: right;\">3</td><td style = \"text-align: right;\">2</td><td style = \"text-align: right;\">3</td><td style = \"text-align: right;\">200.0</td></tr><tr><td class = \"rowNumber\" style = \"font-weight: bold; text-align: right;\">4</td><td style = \"text-align: right;\">3</td><td style = \"text-align: right;\">1</td><td style = \"text-align: right;\">-400.0</td></tr><tr><td class = \"rowNumber\" style = \"font-weight: bold; text-align: right;\">5</td><td style = \"text-align: right;\">2</td><td style = \"text-align: right;\">1</td><td style = \"text-align: right;\">-200.0</td></tr><tr><td class = \"rowNumber\" style = \"font-weight: bold; text-align: right;\">6</td><td style = \"text-align: right;\">3</td><td style = \"text-align: right;\">2</td><td style = \"text-align: right;\">-200.0</td></tr></tbody></table></div>"
      ],
      "text/latex": [
       "\\begin{tabular}{r|ccc}\n",
       "\t& fbus & tbus & flow\\\\\n",
       "\t\\hline\n",
       "\t& Int64 & Int64 & Float64\\\\\n",
       "\t\\hline\n",
       "\t1 & 1 & 3 & 400.0 \\\\\n",
       "\t2 & 1 & 2 & 200.0 \\\\\n",
       "\t3 & 2 & 3 & 200.0 \\\\\n",
       "\t4 & 3 & 1 & -400.0 \\\\\n",
       "\t5 & 2 & 1 & -200.0 \\\\\n",
       "\t6 & 3 & 2 & -200.0 \\\\\n",
       "\\end{tabular}\n"
      ],
      "text/plain": [
       "\u001b[1m6×3 DataFrame\u001b[0m\n",
       "\u001b[1m Row \u001b[0m│\u001b[1m fbus  \u001b[0m\u001b[1m tbus  \u001b[0m\u001b[1m flow    \u001b[0m\n",
       "     │\u001b[90m Int64 \u001b[0m\u001b[90m Int64 \u001b[0m\u001b[90m Float64 \u001b[0m\n",
       "─────┼───────────────────────\n",
       "   1 │     1      3    400.0\n",
       "   2 │     1      2    200.0\n",
       "   3 │     2      3    200.0\n",
       "   4 │     3      1   -400.0\n",
       "   5 │     2      1   -200.0\n",
       "   6 │     3      2   -200.0"
      ]
     },
     "execution_count": 12,
     "metadata": {},
     "output_type": "execute_result"
    }
   ],
   "source": [
    "solution.flows"
   ]
  },
  {
   "cell_type": "markdown",
   "metadata": {},
   "source": [
    "Thus, we notice that, in contrast to the transport model, we do not max out the capacity of $l_{13}$. The following flows are created:\n",
    "\n",
    "- $l_{1,3}$ = 400 MW\n",
    "- $l_{1,2}$ = 200 MW\n",
    "- $l_{2,3}$ = 200 MW\n",
    "\n",
    "The reason we can't make maximum use of line $l_{1,3}$ is because power flows split across parallel circuits in inverse proportion to the impedance of the circuit paths. Here, all three branches have equal susceptance, and thus equal impedance (since we are assuming resistance is ~0). Thus, the path $l_{1,2} \\rightarrow l_{2,3}$ has twice the impedance as the path $l_{1,3}$ and thus takes half as much power flow coming from Gen A at Bus 1."
   ]
  },
  {
   "cell_type": "markdown",
   "metadata": {},
   "source": [
    "### 5. Solve high demand case\n",
    "\n",
    "Now, let's increase demand at Bus 3 to 800 MW. Despite spare capacity at Gen A, it turns out we will no longer be able to generate all of our power from Gen A alone."
   ]
  },
  {
   "cell_type": "code",
   "execution_count": 13,
   "metadata": {},
   "outputs": [
    {
     "name": "stdout",
     "output_type": "stream",
     "text": [
      "Running HiGHS 1.5.3 [date: 1970-01-01, git hash: 45a127b78]\n",
      "Copyright (c) 2023 HiGHS under MIT licence terms\n",
      "Presolving model\n",
      "8 rows, 9 cols, 20 nonzeros\n",
      "0 rows, 0 cols, 0 nonzeros\n",
      "Presolve : Reductions: rows 0(-17); columns 0(-14); elements 0(-34) - Reduced to empty\n",
      "Solving the original LP from the solution after postsolve\n",
      "Model   status      : Optimal\n",
      "Objective value     :  4.5000000000e+04\n",
      "HiGHS run time      :          0.00\n"
     ]
    },
    {
     "data": {
      "text/html": [
       "<div><div style = \"float: left;\"><span>2×3 DataFrame</span></div><div style = \"clear: both;\"></div></div><div class = \"data-frame\" style = \"overflow-x: scroll;\"><table class = \"data-frame\" style = \"margin-bottom: 6px;\"><thead><tr class = \"header\"><th class = \"rowNumber\" style = \"font-weight: bold; text-align: right;\">Row</th><th style = \"text-align: left;\">id</th><th style = \"text-align: left;\">node</th><th style = \"text-align: left;\">gen</th></tr><tr class = \"subheader headerLastRow\"><th class = \"rowNumber\" style = \"font-weight: bold; text-align: right;\"></th><th title = \"Int64\" style = \"text-align: left;\">Int64</th><th title = \"Int64\" style = \"text-align: left;\">Int64</th><th title = \"Float64\" style = \"text-align: left;\">Float64</th></tr></thead><tbody><tr><td class = \"rowNumber\" style = \"font-weight: bold; text-align: right;\">1</td><td style = \"text-align: right;\">1</td><td style = \"text-align: right;\">1</td><td style = \"text-align: right;\">700.0</td></tr><tr><td class = \"rowNumber\" style = \"font-weight: bold; text-align: right;\">2</td><td style = \"text-align: right;\">2</td><td style = \"text-align: right;\">2</td><td style = \"text-align: right;\">100.0</td></tr></tbody></table></div>"
      ],
      "text/latex": [
       "\\begin{tabular}{r|ccc}\n",
       "\t& id & node & gen\\\\\n",
       "\t\\hline\n",
       "\t& Int64 & Int64 & Float64\\\\\n",
       "\t\\hline\n",
       "\t1 & 1 & 1 & 700.0 \\\\\n",
       "\t2 & 2 & 2 & 100.0 \\\\\n",
       "\\end{tabular}\n"
      ],
      "text/plain": [
       "\u001b[1m2×3 DataFrame\u001b[0m\n",
       "\u001b[1m Row \u001b[0m│\u001b[1m id    \u001b[0m\u001b[1m node  \u001b[0m\u001b[1m gen     \u001b[0m\n",
       "     │\u001b[90m Int64 \u001b[0m\u001b[90m Int64 \u001b[0m\u001b[90m Float64 \u001b[0m\n",
       "─────┼───────────────────────\n",
       "   1 │     1      1    700.0\n",
       "   2 │     2      2    100.0"
      ]
     },
     "execution_count": 13,
     "metadata": {},
     "output_type": "execute_result"
    }
   ],
   "source": [
    "bus_high = copy(bus)\n",
    "bus_high[3,:pd] = 800 # set demand at bus 3 to 800 MW\n",
    "\n",
    "sol_high = dcopf(gen, branch, gencost, bus_high)\n",
    "sol_high.generation"
   ]
  },
  {
   "cell_type": "markdown",
   "metadata": {},
   "source": [
    "This situation is explained by flow patterns, where the capacity of $l_{13}$ is at its maximum, but in order to meet demand at Bus 3, more power needs to be injected in Bus 2, requiring the more costly generator at Bus 2 to dispatch, despite spare capacity at the generator at Bus 1."
   ]
  },
  {
   "cell_type": "code",
   "execution_count": 14,
   "metadata": {},
   "outputs": [
    {
     "data": {
      "text/html": [
       "<div><div style = \"float: left;\"><span>6×3 DataFrame</span></div><div style = \"clear: both;\"></div></div><div class = \"data-frame\" style = \"overflow-x: scroll;\"><table class = \"data-frame\" style = \"margin-bottom: 6px;\"><thead><tr class = \"header\"><th class = \"rowNumber\" style = \"font-weight: bold; text-align: right;\">Row</th><th style = \"text-align: left;\">fbus</th><th style = \"text-align: left;\">tbus</th><th style = \"text-align: left;\">flow</th></tr><tr class = \"subheader headerLastRow\"><th class = \"rowNumber\" style = \"font-weight: bold; text-align: right;\"></th><th title = \"Int64\" style = \"text-align: left;\">Int64</th><th title = \"Int64\" style = \"text-align: left;\">Int64</th><th title = \"Float64\" style = \"text-align: left;\">Float64</th></tr></thead><tbody><tr><td class = \"rowNumber\" style = \"font-weight: bold; text-align: right;\">1</td><td style = \"text-align: right;\">1</td><td style = \"text-align: right;\">3</td><td style = \"text-align: right;\">500.0</td></tr><tr><td class = \"rowNumber\" style = \"font-weight: bold; text-align: right;\">2</td><td style = \"text-align: right;\">1</td><td style = \"text-align: right;\">2</td><td style = \"text-align: right;\">200.0</td></tr><tr><td class = \"rowNumber\" style = \"font-weight: bold; text-align: right;\">3</td><td style = \"text-align: right;\">2</td><td style = \"text-align: right;\">3</td><td style = \"text-align: right;\">300.0</td></tr><tr><td class = \"rowNumber\" style = \"font-weight: bold; text-align: right;\">4</td><td style = \"text-align: right;\">3</td><td style = \"text-align: right;\">1</td><td style = \"text-align: right;\">-500.0</td></tr><tr><td class = \"rowNumber\" style = \"font-weight: bold; text-align: right;\">5</td><td style = \"text-align: right;\">2</td><td style = \"text-align: right;\">1</td><td style = \"text-align: right;\">-200.0</td></tr><tr><td class = \"rowNumber\" style = \"font-weight: bold; text-align: right;\">6</td><td style = \"text-align: right;\">3</td><td style = \"text-align: right;\">2</td><td style = \"text-align: right;\">-300.0</td></tr></tbody></table></div>"
      ],
      "text/latex": [
       "\\begin{tabular}{r|ccc}\n",
       "\t& fbus & tbus & flow\\\\\n",
       "\t\\hline\n",
       "\t& Int64 & Int64 & Float64\\\\\n",
       "\t\\hline\n",
       "\t1 & 1 & 3 & 500.0 \\\\\n",
       "\t2 & 1 & 2 & 200.0 \\\\\n",
       "\t3 & 2 & 3 & 300.0 \\\\\n",
       "\t4 & 3 & 1 & -500.0 \\\\\n",
       "\t5 & 2 & 1 & -200.0 \\\\\n",
       "\t6 & 3 & 2 & -300.0 \\\\\n",
       "\\end{tabular}\n"
      ],
      "text/plain": [
       "\u001b[1m6×3 DataFrame\u001b[0m\n",
       "\u001b[1m Row \u001b[0m│\u001b[1m fbus  \u001b[0m\u001b[1m tbus  \u001b[0m\u001b[1m flow    \u001b[0m\n",
       "     │\u001b[90m Int64 \u001b[0m\u001b[90m Int64 \u001b[0m\u001b[90m Float64 \u001b[0m\n",
       "─────┼───────────────────────\n",
       "   1 │     1      3    500.0\n",
       "   2 │     1      2    200.0\n",
       "   3 │     2      3    300.0\n",
       "   4 │     3      1   -500.0\n",
       "   5 │     2      1   -200.0\n",
       "   6 │     3      2   -300.0"
      ]
     },
     "execution_count": 14,
     "metadata": {},
     "output_type": "execute_result"
    }
   ],
   "source": [
    "sol_high.flows"
   ]
  },
  {
   "cell_type": "code",
   "execution_count": 15,
   "metadata": {},
   "outputs": [
    {
     "data": {
      "text/plain": [
       "3-element Vector{Float64}:\n",
       "  0.0\n",
       " -0.056199999999999986\n",
       " -0.14049999999999999"
      ]
     },
     "execution_count": 15,
     "metadata": {},
     "output_type": "execute_result"
    }
   ],
   "source": [
    "sol_high.angles"
   ]
  },
  {
   "cell_type": "markdown",
   "metadata": {},
   "source": [
    "The following flows are created: \n",
    "\n",
    "- $l_{1,3}$ = 500 MW\n",
    "- $l_{1,2}$ = 200 MW\n",
    "- $l_{2,3}$ = 300 MW\n",
    "\n",
    "What is going on here?\n",
    "\n",
    "Generator 1 at Bus 1 produces 700 MW, which must split in proportion to impedance once again, with 2/3 of the power or 466.67 MW flowing along $l_{13}$ and 233.33 MW must flow along the route $l_{1,2} \\rightarrow l_{2,3}$ with double the impedance. \n",
    "\n",
    "At the same time, the 100 MW injected by generator 2 at Bus 2 *also* splits with 2/3 or 66.67 flowing along $l_{2,3}$ and 1/3 or 33.33 along $l_{2,1} \\rightarrow l_{1,3}$. \n",
    "\n",
    "The total flows across each segment are thus: \n",
    "\n",
    "- $l_{1,3}$ = 466.67 + 33.33 = 500 MW\n",
    "- $l_{1,2}$ = 233.33 - 33.33 = 200 MW\n",
    "- $l_{2,3}$ = 233. 33 + 66.67 = 300 MW"
   ]
  },
  {
   "cell_type": "markdown",
   "metadata": {},
   "source": [
    "### 6. Compare prices\n",
    "\n",
    "The marginal values of the demand constraints at a given bus represent the change in the objective that results from increasing demand at the bus by one unit. This is the natural definition of a \"value\" of power at that location, and is the basis for **[locational marginal prices](https://www.iso-ne.com/participate/support/faq/lmp)** (LMPs) found in electricity markets.\n",
    "\n",
    "We examine first the regular case of demand = 600 MW, then the high demand case = 800 MW."
   ]
  },
  {
   "cell_type": "code",
   "execution_count": 16,
   "metadata": {},
   "outputs": [
    {
     "data": {
      "text/html": [
       "<div><div style = \"float: left;\"><span>3×2 DataFrame</span></div><div style = \"clear: both;\"></div></div><div class = \"data-frame\" style = \"overflow-x: scroll;\"><table class = \"data-frame\" style = \"margin-bottom: 6px;\"><thead><tr class = \"header\"><th class = \"rowNumber\" style = \"font-weight: bold; text-align: right;\">Row</th><th style = \"text-align: left;\">node</th><th style = \"text-align: left;\">value</th></tr><tr class = \"subheader headerLastRow\"><th class = \"rowNumber\" style = \"font-weight: bold; text-align: right;\"></th><th title = \"Int64\" style = \"text-align: left;\">Int64</th><th title = \"Float64\" style = \"text-align: left;\">Float64</th></tr></thead><tbody><tr><td class = \"rowNumber\" style = \"font-weight: bold; text-align: right;\">1</td><td style = \"text-align: right;\">1</td><td style = \"text-align: right;\">50.0</td></tr><tr><td class = \"rowNumber\" style = \"font-weight: bold; text-align: right;\">2</td><td style = \"text-align: right;\">2</td><td style = \"text-align: right;\">50.0</td></tr><tr><td class = \"rowNumber\" style = \"font-weight: bold; text-align: right;\">3</td><td style = \"text-align: right;\">3</td><td style = \"text-align: right;\">50.0</td></tr></tbody></table></div>"
      ],
      "text/latex": [
       "\\begin{tabular}{r|cc}\n",
       "\t& node & value\\\\\n",
       "\t\\hline\n",
       "\t& Int64 & Float64\\\\\n",
       "\t\\hline\n",
       "\t1 & 1 & 50.0 \\\\\n",
       "\t2 & 2 & 50.0 \\\\\n",
       "\t3 & 3 & 50.0 \\\\\n",
       "\\end{tabular}\n"
      ],
      "text/plain": [
       "\u001b[1m3×2 DataFrame\u001b[0m\n",
       "\u001b[1m Row \u001b[0m│\u001b[1m node  \u001b[0m\u001b[1m value   \u001b[0m\n",
       "     │\u001b[90m Int64 \u001b[0m\u001b[90m Float64 \u001b[0m\n",
       "─────┼────────────────\n",
       "   1 │     1     50.0\n",
       "   2 │     2     50.0\n",
       "   3 │     3     50.0"
      ]
     },
     "execution_count": 16,
     "metadata": {},
     "output_type": "execute_result"
    }
   ],
   "source": [
    "solution.prices"
   ]
  },
  {
   "cell_type": "markdown",
   "metadata": {},
   "source": [
    "All prices are the same in this case. The interpretation: if we were to add an incremental load at any of the buses, we could meet it from additional production from Gen A which has marginal cost of \\$50 / MWh. We are not going to hit any transmission limits."
   ]
  },
  {
   "cell_type": "code",
   "execution_count": 17,
   "metadata": {},
   "outputs": [
    {
     "data": {
      "text/html": [
       "<div><div style = \"float: left;\"><span>3×2 DataFrame</span></div><div style = \"clear: both;\"></div></div><div class = \"data-frame\" style = \"overflow-x: scroll;\"><table class = \"data-frame\" style = \"margin-bottom: 6px;\"><thead><tr class = \"header\"><th class = \"rowNumber\" style = \"font-weight: bold; text-align: right;\">Row</th><th style = \"text-align: left;\">node</th><th style = \"text-align: left;\">value</th></tr><tr class = \"subheader headerLastRow\"><th class = \"rowNumber\" style = \"font-weight: bold; text-align: right;\"></th><th title = \"Int64\" style = \"text-align: left;\">Int64</th><th title = \"Float64\" style = \"text-align: left;\">Float64</th></tr></thead><tbody><tr><td class = \"rowNumber\" style = \"font-weight: bold; text-align: right;\">1</td><td style = \"text-align: right;\">1</td><td style = \"text-align: right;\">50.0</td></tr><tr><td class = \"rowNumber\" style = \"font-weight: bold; text-align: right;\">2</td><td style = \"text-align: right;\">2</td><td style = \"text-align: right;\">100.0</td></tr><tr><td class = \"rowNumber\" style = \"font-weight: bold; text-align: right;\">3</td><td style = \"text-align: right;\">3</td><td style = \"text-align: right;\">150.0</td></tr></tbody></table></div>"
      ],
      "text/latex": [
       "\\begin{tabular}{r|cc}\n",
       "\t& node & value\\\\\n",
       "\t\\hline\n",
       "\t& Int64 & Float64\\\\\n",
       "\t\\hline\n",
       "\t1 & 1 & 50.0 \\\\\n",
       "\t2 & 2 & 100.0 \\\\\n",
       "\t3 & 3 & 150.0 \\\\\n",
       "\\end{tabular}\n"
      ],
      "text/plain": [
       "\u001b[1m3×2 DataFrame\u001b[0m\n",
       "\u001b[1m Row \u001b[0m│\u001b[1m node  \u001b[0m\u001b[1m value   \u001b[0m\n",
       "     │\u001b[90m Int64 \u001b[0m\u001b[90m Float64 \u001b[0m\n",
       "─────┼────────────────\n",
       "   1 │     1     50.0\n",
       "   2 │     2    100.0\n",
       "   3 │     3    150.0"
      ]
     },
     "execution_count": 17,
     "metadata": {},
     "output_type": "execute_result"
    }
   ],
   "source": [
    "sol_high.prices"
   ]
  },
  {
   "cell_type": "markdown",
   "metadata": {},
   "source": [
    "Something interesting has happened! \n",
    "\n",
    "First, note that the prices are different. Hence, we will not be able to meet incremental load from production by Gen A (except if we add load right at Gen A located at Bus 1). Similarly, load at Bus 2 can be met by increasing production from Gen B with marginal cost = \\$100 / MWh.\n",
    "\n",
    "However, why does Bus 3 have a marginal price of \\$150 / MWh?! That's higher than the marginal cost of either of our two generators?\n",
    "\n",
    "The answer lies in what must happen to meet an incremental load at Bus 3 while respecting transmission constraints. We must increase from Gen B, but in doing so, part of the power from Gen B will go through $l_{2,1} \\rightarrow l_{1,3}$ in addition to $l_{2,3}$, since power flows split across parallel paths in proportion to admittance (or inverse proportion to impedance). However, without adjusting Gen A's output, an increase in production from Gen B will cause us to exceed the transmission constraint on line $l_{1,3}$, requiring us to throttle back power from Gen A to keep power flows feasible.\n",
    "\n",
    "The exact change in generation for an incremental 1 MW load at Bus 3 is thus:\n",
    "- Gen B $\\uparrow$ 2 MW\n",
    "- Gen A $\\downarrow$ 1 MW\n",
    "\n",
    "Hence:\n",
    "\n",
    "$$\n",
    "Price_3 = 2 \\times VarCost_B - VarCost_A = \\$150 \\text{ / MWh}\n",
    "$$\n",
    "\n",
    "In a network with thousands of nodes and many parallel paths and loop flows, one can see quite quickly how prices may vary in unexpected ways; hence, the need for detailed mathematical models to compute locational marginal prices."
   ]
  },
  {
   "cell_type": "markdown",
   "metadata": {},
   "source": [
    "### 6. The IEEE 14 bus test system\n",
    "\n",
    "We now explore a complicated system, the 14-bus IEEE test system, illustrated here:\n",
    "\n",
    "<img src=\"ieee_test_cases/IEEE14BusTestSystem.png\" style=\"width: 450px; height: auto\" align=\"center\">\n",
    "\n",
    "The system consists of:\n",
    "- 2 generators (located at nodes 1 and 2)\n",
    "- 11 loads\n",
    "- a meshed transmission network including transformers and multiple voltages\n",
    "\n",
    "Our data files for the test system contain parameters for resistance and reactance of the transmission lines, which are related to complex impedance:\n",
    "\n",
    "$$\n",
    "Z = R + iX\n",
    "$$\n",
    "\n",
    "where $R$ = resistance is the real part, $X$ = reactance is the imaginary part. Recall from above that impedance is the inverse of admittance; hence, we have the following transformation for susceptance:\n",
    "\n",
    "$$\n",
    "B = \\text{Im}\\left(\\frac{1}{R + iX}\\right) = \\frac{-X}{|R + iX|^2} = \\frac{-X}{R^2 + X^2}\n",
    "$$\n",
    "\n",
    "But, since we neglect the resistance for the purpose of solving the DC-OPF, we can approximate the susceptance from above as:\n",
    "\n",
    "$$\n",
    "B = \\frac{1}{X}\n",
    "$$\n",
    "\n",
    "The data are converted to have positive values of both $X$ and $B$, hence we remove the negative sign."
   ]
  },
  {
   "cell_type": "code",
   "execution_count": 18,
   "metadata": {},
   "outputs": [
    {
     "data": {
      "text/html": [
       "<div><div style = \"float: left;\"><span>40×8 DataFrame</span></div><div style = \"float: right;\"><span style = \"font-style: italic;\">15 rows omitted</span></div><div style = \"clear: both;\"></div></div><div class = \"data-frame\" style = \"overflow-x: scroll;\"><table class = \"data-frame\" style = \"margin-bottom: 6px;\"><thead><tr class = \"header\"><th class = \"rowNumber\" style = \"font-weight: bold; text-align: right;\">Row</th><th style = \"text-align: left;\">fromnode</th><th style = \"text-align: left;\">tonode</th><th style = \"text-align: left;\">resistance</th><th style = \"text-align: left;\">reactance</th><th style = \"text-align: left;\">contingencymarked</th><th style = \"text-align: left;\">capacity</th><th style = \"text-align: left;\">id</th><th style = \"text-align: left;\">b</th></tr><tr class = \"subheader headerLastRow\"><th class = \"rowNumber\" style = \"font-weight: bold; text-align: right;\"></th><th title = \"Int64\" style = \"text-align: left;\">Int64</th><th title = \"Int64\" style = \"text-align: left;\">Int64</th><th title = \"Float64\" style = \"text-align: left;\">Float64</th><th title = \"Float64\" style = \"text-align: left;\">Float64</th><th title = \"Int64\" style = \"text-align: left;\">Int64</th><th title = \"Int64\" style = \"text-align: left;\">Int64</th><th title = \"Int64\" style = \"text-align: left;\">Int64</th><th title = \"Float64\" style = \"text-align: left;\">Float64</th></tr></thead><tbody><tr><td class = \"rowNumber\" style = \"font-weight: bold; text-align: right;\">1</td><td style = \"text-align: right;\">1</td><td style = \"text-align: right;\">2</td><td style = \"text-align: right;\">0.01938</td><td style = \"text-align: right;\">0.05917</td><td style = \"text-align: right;\">1</td><td style = \"text-align: right;\">10000</td><td style = \"text-align: right;\">1</td><td style = \"text-align: right;\">16.9005</td></tr><tr><td class = \"rowNumber\" style = \"font-weight: bold; text-align: right;\">2</td><td style = \"text-align: right;\">1</td><td style = \"text-align: right;\">5</td><td style = \"text-align: right;\">0.05403</td><td style = \"text-align: right;\">0.22304</td><td style = \"text-align: right;\">1</td><td style = \"text-align: right;\">10000</td><td style = \"text-align: right;\">2</td><td style = \"text-align: right;\">4.4835</td></tr><tr><td class = \"rowNumber\" style = \"font-weight: bold; text-align: right;\">3</td><td style = \"text-align: right;\">2</td><td style = \"text-align: right;\">3</td><td style = \"text-align: right;\">0.04699</td><td style = \"text-align: right;\">0.19797</td><td style = \"text-align: right;\">1</td><td style = \"text-align: right;\">10000</td><td style = \"text-align: right;\">3</td><td style = \"text-align: right;\">5.05127</td></tr><tr><td class = \"rowNumber\" style = \"font-weight: bold; text-align: right;\">4</td><td style = \"text-align: right;\">2</td><td style = \"text-align: right;\">4</td><td style = \"text-align: right;\">0.05811</td><td style = \"text-align: right;\">0.17632</td><td style = \"text-align: right;\">1</td><td style = \"text-align: right;\">10000</td><td style = \"text-align: right;\">4</td><td style = \"text-align: right;\">5.67151</td></tr><tr><td class = \"rowNumber\" style = \"font-weight: bold; text-align: right;\">5</td><td style = \"text-align: right;\">2</td><td style = \"text-align: right;\">5</td><td style = \"text-align: right;\">0.05695</td><td style = \"text-align: right;\">0.17388</td><td style = \"text-align: right;\">1</td><td style = \"text-align: right;\">10000</td><td style = \"text-align: right;\">5</td><td style = \"text-align: right;\">5.75109</td></tr><tr><td class = \"rowNumber\" style = \"font-weight: bold; text-align: right;\">6</td><td style = \"text-align: right;\">3</td><td style = \"text-align: right;\">4</td><td style = \"text-align: right;\">0.06701</td><td style = \"text-align: right;\">0.17103</td><td style = \"text-align: right;\">1</td><td style = \"text-align: right;\">10000</td><td style = \"text-align: right;\">6</td><td style = \"text-align: right;\">5.84693</td></tr><tr><td class = \"rowNumber\" style = \"font-weight: bold; text-align: right;\">7</td><td style = \"text-align: right;\">4</td><td style = \"text-align: right;\">5</td><td style = \"text-align: right;\">0.01335</td><td style = \"text-align: right;\">0.04211</td><td style = \"text-align: right;\">1</td><td style = \"text-align: right;\">10000</td><td style = \"text-align: right;\">7</td><td style = \"text-align: right;\">23.7473</td></tr><tr><td class = \"rowNumber\" style = \"font-weight: bold; text-align: right;\">8</td><td style = \"text-align: right;\">4</td><td style = \"text-align: right;\">7</td><td style = \"text-align: right;\">0.0</td><td style = \"text-align: right;\">0.20912</td><td style = \"text-align: right;\">1</td><td style = \"text-align: right;\">10000</td><td style = \"text-align: right;\">8</td><td style = \"text-align: right;\">4.78194</td></tr><tr><td class = \"rowNumber\" style = \"font-weight: bold; text-align: right;\">9</td><td style = \"text-align: right;\">4</td><td style = \"text-align: right;\">9</td><td style = \"text-align: right;\">0.0</td><td style = \"text-align: right;\">0.55618</td><td style = \"text-align: right;\">1</td><td style = \"text-align: right;\">10000</td><td style = \"text-align: right;\">9</td><td style = \"text-align: right;\">1.79798</td></tr><tr><td class = \"rowNumber\" style = \"font-weight: bold; text-align: right;\">10</td><td style = \"text-align: right;\">5</td><td style = \"text-align: right;\">6</td><td style = \"text-align: right;\">0.0</td><td style = \"text-align: right;\">0.25202</td><td style = \"text-align: right;\">1</td><td style = \"text-align: right;\">10000</td><td style = \"text-align: right;\">10</td><td style = \"text-align: right;\">3.96794</td></tr><tr><td class = \"rowNumber\" style = \"font-weight: bold; text-align: right;\">11</td><td style = \"text-align: right;\">6</td><td style = \"text-align: right;\">11</td><td style = \"text-align: right;\">0.09498</td><td style = \"text-align: right;\">0.1989</td><td style = \"text-align: right;\">1</td><td style = \"text-align: right;\">10000</td><td style = \"text-align: right;\">11</td><td style = \"text-align: right;\">5.02765</td></tr><tr><td class = \"rowNumber\" style = \"font-weight: bold; text-align: right;\">12</td><td style = \"text-align: right;\">6</td><td style = \"text-align: right;\">12</td><td style = \"text-align: right;\">0.12291</td><td style = \"text-align: right;\">0.25581</td><td style = \"text-align: right;\">1</td><td style = \"text-align: right;\">10000</td><td style = \"text-align: right;\">12</td><td style = \"text-align: right;\">3.90915</td></tr><tr><td class = \"rowNumber\" style = \"font-weight: bold; text-align: right;\">13</td><td style = \"text-align: right;\">6</td><td style = \"text-align: right;\">13</td><td style = \"text-align: right;\">0.06615</td><td style = \"text-align: right;\">0.13027</td><td style = \"text-align: right;\">1</td><td style = \"text-align: right;\">10000</td><td style = \"text-align: right;\">13</td><td style = \"text-align: right;\">7.67636</td></tr><tr><td style = \"text-align: right;\">&vellip;</td><td style = \"text-align: right;\">&vellip;</td><td style = \"text-align: right;\">&vellip;</td><td style = \"text-align: right;\">&vellip;</td><td style = \"text-align: right;\">&vellip;</td><td style = \"text-align: right;\">&vellip;</td><td style = \"text-align: right;\">&vellip;</td><td style = \"text-align: right;\">&vellip;</td><td style = \"text-align: right;\">&vellip;</td></tr><tr><td class = \"rowNumber\" style = \"font-weight: bold; text-align: right;\">29</td><td style = \"text-align: right;\">9</td><td style = \"text-align: right;\">4</td><td style = \"text-align: right;\">0.0</td><td style = \"text-align: right;\">0.55618</td><td style = \"text-align: right;\">1</td><td style = \"text-align: right;\">10000</td><td style = \"text-align: right;\">9</td><td style = \"text-align: right;\">1.79798</td></tr><tr><td class = \"rowNumber\" style = \"font-weight: bold; text-align: right;\">30</td><td style = \"text-align: right;\">6</td><td style = \"text-align: right;\">5</td><td style = \"text-align: right;\">0.0</td><td style = \"text-align: right;\">0.25202</td><td style = \"text-align: right;\">1</td><td style = \"text-align: right;\">10000</td><td style = \"text-align: right;\">10</td><td style = \"text-align: right;\">3.96794</td></tr><tr><td class = \"rowNumber\" style = \"font-weight: bold; text-align: right;\">31</td><td style = \"text-align: right;\">11</td><td style = \"text-align: right;\">6</td><td style = \"text-align: right;\">0.09498</td><td style = \"text-align: right;\">0.1989</td><td style = \"text-align: right;\">1</td><td style = \"text-align: right;\">10000</td><td style = \"text-align: right;\">11</td><td style = \"text-align: right;\">5.02765</td></tr><tr><td class = \"rowNumber\" style = \"font-weight: bold; text-align: right;\">32</td><td style = \"text-align: right;\">12</td><td style = \"text-align: right;\">6</td><td style = \"text-align: right;\">0.12291</td><td style = \"text-align: right;\">0.25581</td><td style = \"text-align: right;\">1</td><td style = \"text-align: right;\">10000</td><td style = \"text-align: right;\">12</td><td style = \"text-align: right;\">3.90915</td></tr><tr><td class = \"rowNumber\" style = \"font-weight: bold; text-align: right;\">33</td><td style = \"text-align: right;\">13</td><td style = \"text-align: right;\">6</td><td style = \"text-align: right;\">0.06615</td><td style = \"text-align: right;\">0.13027</td><td style = \"text-align: right;\">1</td><td style = \"text-align: right;\">10000</td><td style = \"text-align: right;\">13</td><td style = \"text-align: right;\">7.67636</td></tr><tr><td class = \"rowNumber\" style = \"font-weight: bold; text-align: right;\">34</td><td style = \"text-align: right;\">8</td><td style = \"text-align: right;\">7</td><td style = \"text-align: right;\">0.0</td><td style = \"text-align: right;\">0.17615</td><td style = \"text-align: right;\">1</td><td style = \"text-align: right;\">10000</td><td style = \"text-align: right;\">14</td><td style = \"text-align: right;\">5.67698</td></tr><tr><td class = \"rowNumber\" style = \"font-weight: bold; text-align: right;\">35</td><td style = \"text-align: right;\">9</td><td style = \"text-align: right;\">7</td><td style = \"text-align: right;\">0.0</td><td style = \"text-align: right;\">0.11001</td><td style = \"text-align: right;\">1</td><td style = \"text-align: right;\">10000</td><td style = \"text-align: right;\">15</td><td style = \"text-align: right;\">9.09008</td></tr><tr><td class = \"rowNumber\" style = \"font-weight: bold; text-align: right;\">36</td><td style = \"text-align: right;\">10</td><td style = \"text-align: right;\">9</td><td style = \"text-align: right;\">0.03181</td><td style = \"text-align: right;\">0.0845</td><td style = \"text-align: right;\">1</td><td style = \"text-align: right;\">10000</td><td style = \"text-align: right;\">16</td><td style = \"text-align: right;\">11.8343</td></tr><tr><td class = \"rowNumber\" style = \"font-weight: bold; text-align: right;\">37</td><td style = \"text-align: right;\">14</td><td style = \"text-align: right;\">9</td><td style = \"text-align: right;\">0.12711</td><td style = \"text-align: right;\">0.27038</td><td style = \"text-align: right;\">1</td><td style = \"text-align: right;\">10000</td><td style = \"text-align: right;\">17</td><td style = \"text-align: right;\">3.6985</td></tr><tr><td class = \"rowNumber\" style = \"font-weight: bold; text-align: right;\">38</td><td style = \"text-align: right;\">11</td><td style = \"text-align: right;\">10</td><td style = \"text-align: right;\">0.08205</td><td style = \"text-align: right;\">0.19207</td><td style = \"text-align: right;\">1</td><td style = \"text-align: right;\">10000</td><td style = \"text-align: right;\">18</td><td style = \"text-align: right;\">5.20644</td></tr><tr><td class = \"rowNumber\" style = \"font-weight: bold; text-align: right;\">39</td><td style = \"text-align: right;\">13</td><td style = \"text-align: right;\">12</td><td style = \"text-align: right;\">0.22092</td><td style = \"text-align: right;\">0.19988</td><td style = \"text-align: right;\">1</td><td style = \"text-align: right;\">10000</td><td style = \"text-align: right;\">19</td><td style = \"text-align: right;\">5.003</td></tr><tr><td class = \"rowNumber\" style = \"font-weight: bold; text-align: right;\">40</td><td style = \"text-align: right;\">14</td><td style = \"text-align: right;\">13</td><td style = \"text-align: right;\">0.17093</td><td style = \"text-align: right;\">0.34802</td><td style = \"text-align: right;\">1</td><td style = \"text-align: right;\">10000</td><td style = \"text-align: right;\">20</td><td style = \"text-align: right;\">2.8734</td></tr></tbody></table></div>"
      ],
      "text/latex": [
       "\\begin{tabular}{r|cccccccc}\n",
       "\t& fromnode & tonode & resistance & reactance & contingencymarked & capacity & id & b\\\\\n",
       "\t\\hline\n",
       "\t& Int64 & Int64 & Float64 & Float64 & Int64 & Int64 & Int64 & Float64\\\\\n",
       "\t\\hline\n",
       "\t1 & 1 & 2 & 0.01938 & 0.05917 & 1 & 10000 & 1 & 16.9005 \\\\\n",
       "\t2 & 1 & 5 & 0.05403 & 0.22304 & 1 & 10000 & 2 & 4.4835 \\\\\n",
       "\t3 & 2 & 3 & 0.04699 & 0.19797 & 1 & 10000 & 3 & 5.05127 \\\\\n",
       "\t4 & 2 & 4 & 0.05811 & 0.17632 & 1 & 10000 & 4 & 5.67151 \\\\\n",
       "\t5 & 2 & 5 & 0.05695 & 0.17388 & 1 & 10000 & 5 & 5.75109 \\\\\n",
       "\t6 & 3 & 4 & 0.06701 & 0.17103 & 1 & 10000 & 6 & 5.84693 \\\\\n",
       "\t7 & 4 & 5 & 0.01335 & 0.04211 & 1 & 10000 & 7 & 23.7473 \\\\\n",
       "\t8 & 4 & 7 & 0.0 & 0.20912 & 1 & 10000 & 8 & 4.78194 \\\\\n",
       "\t9 & 4 & 9 & 0.0 & 0.55618 & 1 & 10000 & 9 & 1.79798 \\\\\n",
       "\t10 & 5 & 6 & 0.0 & 0.25202 & 1 & 10000 & 10 & 3.96794 \\\\\n",
       "\t11 & 6 & 11 & 0.09498 & 0.1989 & 1 & 10000 & 11 & 5.02765 \\\\\n",
       "\t12 & 6 & 12 & 0.12291 & 0.25581 & 1 & 10000 & 12 & 3.90915 \\\\\n",
       "\t13 & 6 & 13 & 0.06615 & 0.13027 & 1 & 10000 & 13 & 7.67636 \\\\\n",
       "\t14 & 7 & 8 & 0.0 & 0.17615 & 1 & 10000 & 14 & 5.67698 \\\\\n",
       "\t15 & 7 & 9 & 0.0 & 0.11001 & 1 & 10000 & 15 & 9.09008 \\\\\n",
       "\t16 & 9 & 10 & 0.03181 & 0.0845 & 1 & 10000 & 16 & 11.8343 \\\\\n",
       "\t17 & 9 & 14 & 0.12711 & 0.27038 & 1 & 10000 & 17 & 3.6985 \\\\\n",
       "\t18 & 10 & 11 & 0.08205 & 0.19207 & 1 & 10000 & 18 & 5.20644 \\\\\n",
       "\t19 & 12 & 13 & 0.22092 & 0.19988 & 1 & 10000 & 19 & 5.003 \\\\\n",
       "\t20 & 13 & 14 & 0.17093 & 0.34802 & 1 & 10000 & 20 & 2.8734 \\\\\n",
       "\t21 & 2 & 1 & 0.01938 & 0.05917 & 1 & 10000 & 1 & 16.9005 \\\\\n",
       "\t22 & 5 & 1 & 0.05403 & 0.22304 & 1 & 10000 & 2 & 4.4835 \\\\\n",
       "\t23 & 3 & 2 & 0.04699 & 0.19797 & 1 & 10000 & 3 & 5.05127 \\\\\n",
       "\t24 & 4 & 2 & 0.05811 & 0.17632 & 1 & 10000 & 4 & 5.67151 \\\\\n",
       "\t25 & 5 & 2 & 0.05695 & 0.17388 & 1 & 10000 & 5 & 5.75109 \\\\\n",
       "\t26 & 4 & 3 & 0.06701 & 0.17103 & 1 & 10000 & 6 & 5.84693 \\\\\n",
       "\t27 & 5 & 4 & 0.01335 & 0.04211 & 1 & 10000 & 7 & 23.7473 \\\\\n",
       "\t28 & 7 & 4 & 0.0 & 0.20912 & 1 & 10000 & 8 & 4.78194 \\\\\n",
       "\t29 & 9 & 4 & 0.0 & 0.55618 & 1 & 10000 & 9 & 1.79798 \\\\\n",
       "\t30 & 6 & 5 & 0.0 & 0.25202 & 1 & 10000 & 10 & 3.96794 \\\\\n",
       "\t$\\dots$ & $\\dots$ & $\\dots$ & $\\dots$ & $\\dots$ & $\\dots$ & $\\dots$ & $\\dots$ & $\\dots$ \\\\\n",
       "\\end{tabular}\n"
      ],
      "text/plain": [
       "\u001b[1m40×8 DataFrame\u001b[0m\n",
       "\u001b[1m Row \u001b[0m│\u001b[1m fromnode \u001b[0m\u001b[1m tonode \u001b[0m\u001b[1m resistance \u001b[0m\u001b[1m reactance \u001b[0m\u001b[1m contingencymarked \u001b[0m\u001b[1m capacity \u001b[0m\u001b[1m id    \u001b[0m\u001b[1m b        \u001b[0m\n",
       "     │\u001b[90m Int64    \u001b[0m\u001b[90m Int64  \u001b[0m\u001b[90m Float64    \u001b[0m\u001b[90m Float64   \u001b[0m\u001b[90m Int64             \u001b[0m\u001b[90m Int64    \u001b[0m\u001b[90m Int64 \u001b[0m\u001b[90m Float64  \u001b[0m\n",
       "─────┼───────────────────────────────────────────────────────────────────────────────────────\n",
       "   1 │        1       2     0.01938    0.05917                  1     10000      1  16.9005\n",
       "   2 │        1       5     0.05403    0.22304                  1     10000      2   4.4835\n",
       "   3 │        2       3     0.04699    0.19797                  1     10000      3   5.05127\n",
       "   4 │        2       4     0.05811    0.17632                  1     10000      4   5.67151\n",
       "   5 │        2       5     0.05695    0.17388                  1     10000      5   5.75109\n",
       "   6 │        3       4     0.06701    0.17103                  1     10000      6   5.84693\n",
       "   7 │        4       5     0.01335    0.04211                  1     10000      7  23.7473\n",
       "   8 │        4       7     0.0        0.20912                  1     10000      8   4.78194\n",
       "   9 │        4       9     0.0        0.55618                  1     10000      9   1.79798\n",
       "  10 │        5       6     0.0        0.25202                  1     10000     10   3.96794\n",
       "  11 │        6      11     0.09498    0.1989                   1     10000     11   5.02765\n",
       "  ⋮  │    ⋮        ⋮         ⋮           ⋮              ⋮             ⋮        ⋮       ⋮\n",
       "  31 │       11       6     0.09498    0.1989                   1     10000     11   5.02765\n",
       "  32 │       12       6     0.12291    0.25581                  1     10000     12   3.90915\n",
       "  33 │       13       6     0.06615    0.13027                  1     10000     13   7.67636\n",
       "  34 │        8       7     0.0        0.17615                  1     10000     14   5.67698\n",
       "  35 │        9       7     0.0        0.11001                  1     10000     15   9.09008\n",
       "  36 │       10       9     0.03181    0.0845                   1     10000     16  11.8343\n",
       "  37 │       14       9     0.12711    0.27038                  1     10000     17   3.6985\n",
       "  38 │       11      10     0.08205    0.19207                  1     10000     18   5.20644\n",
       "  39 │       13      12     0.22092    0.19988                  1     10000     19   5.003\n",
       "  40 │       14      13     0.17093    0.34802                  1     10000     20   2.8734\n",
       "\u001b[36m                                                                              19 rows omitted\u001b[0m"
      ]
     },
     "execution_count": 18,
     "metadata": {},
     "output_type": "execute_result"
    }
   ],
   "source": [
    "datadir = joinpath(\"ieee_test_cases\") \n",
    "gens = CSV.read(joinpath(datadir,\"Gen14.csv\"), DataFrame);\n",
    "lines = CSV.read(joinpath(datadir,\"Tran14_b.csv\"), DataFrame);\n",
    "loads = CSV.read(joinpath(datadir,\"Load14.csv\"), DataFrame);\n",
    "\n",
    "# Rename all columns to lowercase (by convention)\n",
    "for f in [gens, lines, loads]\n",
    "    rename!(f,lowercase.(names(f)))\n",
    "end\n",
    "\n",
    "# create generator ids \n",
    "gens.id = 1:nrow(gens);\n",
    "\n",
    "# create line ids \n",
    "lines.id = 1:nrow(lines);\n",
    "# add set of rows for reverse direction with same parameters\n",
    "lines2 = copy(lines)\n",
    "lines2.f = lines2.fromnode\n",
    "lines2.fromnode = lines.tonode\n",
    "lines2.tonode = lines2.f\n",
    "lines2 = lines2[:,names(lines)]\n",
    "append!(lines,lines2)\n",
    "\n",
    "# calculate simple susceptance, ignoring resistance as earlier \n",
    "lines.b = 1 ./ lines.reactance\n",
    "\n",
    "# keep only a single time period\n",
    "loads = loads[:,[\"connnode\",\"interval-1_load\"]]\n",
    "rename!(loads,\"interval-1_load\" => \"demand\");\n",
    "\n",
    "lines"
   ]
  },
  {
   "cell_type": "code",
   "execution_count": 19,
   "metadata": {},
   "outputs": [],
   "source": [
    "lines.b = lines.reactance ./ (lines.reactance.^2 + lines.resistance.^2);\n",
    "lines.g = lines.resistance ./ (lines.reactance.^2 + lines.resistance.^2);"
   ]
  },
  {
   "cell_type": "code",
   "execution_count": 20,
   "metadata": {},
   "outputs": [
    {
     "data": {
      "text/html": [
       "<div><div style = \"float: left;\"><span>40×9 DataFrame</span></div><div style = \"float: right;\"><span style = \"font-style: italic;\">15 rows omitted</span></div><div style = \"clear: both;\"></div></div><div class = \"data-frame\" style = \"overflow-x: scroll;\"><table class = \"data-frame\" style = \"margin-bottom: 6px;\"><thead><tr class = \"header\"><th class = \"rowNumber\" style = \"font-weight: bold; text-align: right;\">Row</th><th style = \"text-align: left;\">fromnode</th><th style = \"text-align: left;\">tonode</th><th style = \"text-align: left;\">resistance</th><th style = \"text-align: left;\">reactance</th><th style = \"text-align: left;\">contingencymarked</th><th style = \"text-align: left;\">capacity</th><th style = \"text-align: left;\">id</th><th style = \"text-align: left;\">b</th><th style = \"text-align: left;\">g</th></tr><tr class = \"subheader headerLastRow\"><th class = \"rowNumber\" style = \"font-weight: bold; text-align: right;\"></th><th title = \"Int64\" style = \"text-align: left;\">Int64</th><th title = \"Int64\" style = \"text-align: left;\">Int64</th><th title = \"Float64\" style = \"text-align: left;\">Float64</th><th title = \"Float64\" style = \"text-align: left;\">Float64</th><th title = \"Int64\" style = \"text-align: left;\">Int64</th><th title = \"Int64\" style = \"text-align: left;\">Int64</th><th title = \"Int64\" style = \"text-align: left;\">Int64</th><th title = \"Float64\" style = \"text-align: left;\">Float64</th><th title = \"Float64\" style = \"text-align: left;\">Float64</th></tr></thead><tbody><tr><td class = \"rowNumber\" style = \"font-weight: bold; text-align: right;\">1</td><td style = \"text-align: right;\">1</td><td style = \"text-align: right;\">2</td><td style = \"text-align: right;\">0.01938</td><td style = \"text-align: right;\">0.05917</td><td style = \"text-align: right;\">1</td><td style = \"text-align: right;\">10000</td><td style = \"text-align: right;\">1</td><td style = \"text-align: right;\">15.2631</td><td style = \"text-align: right;\">4.99913</td></tr><tr><td class = \"rowNumber\" style = \"font-weight: bold; text-align: right;\">2</td><td style = \"text-align: right;\">1</td><td style = \"text-align: right;\">5</td><td style = \"text-align: right;\">0.05403</td><td style = \"text-align: right;\">0.22304</td><td style = \"text-align: right;\">1</td><td style = \"text-align: right;\">10000</td><td style = \"text-align: right;\">2</td><td style = \"text-align: right;\">4.23498</td><td style = \"text-align: right;\">1.0259</td></tr><tr><td class = \"rowNumber\" style = \"font-weight: bold; text-align: right;\">3</td><td style = \"text-align: right;\">2</td><td style = \"text-align: right;\">3</td><td style = \"text-align: right;\">0.04699</td><td style = \"text-align: right;\">0.19797</td><td style = \"text-align: right;\">1</td><td style = \"text-align: right;\">10000</td><td style = \"text-align: right;\">3</td><td style = \"text-align: right;\">4.78186</td><td style = \"text-align: right;\">1.13502</td></tr><tr><td class = \"rowNumber\" style = \"font-weight: bold; text-align: right;\">4</td><td style = \"text-align: right;\">2</td><td style = \"text-align: right;\">4</td><td style = \"text-align: right;\">0.05811</td><td style = \"text-align: right;\">0.17632</td><td style = \"text-align: right;\">1</td><td style = \"text-align: right;\">10000</td><td style = \"text-align: right;\">4</td><td style = \"text-align: right;\">5.11584</td><td style = \"text-align: right;\">1.68603</td></tr><tr><td class = \"rowNumber\" style = \"font-weight: bold; text-align: right;\">5</td><td style = \"text-align: right;\">2</td><td style = \"text-align: right;\">5</td><td style = \"text-align: right;\">0.05695</td><td style = \"text-align: right;\">0.17388</td><td style = \"text-align: right;\">1</td><td style = \"text-align: right;\">10000</td><td style = \"text-align: right;\">5</td><td style = \"text-align: right;\">5.19393</td><td style = \"text-align: right;\">1.70114</td></tr><tr><td class = \"rowNumber\" style = \"font-weight: bold; text-align: right;\">6</td><td style = \"text-align: right;\">3</td><td style = \"text-align: right;\">4</td><td style = \"text-align: right;\">0.06701</td><td style = \"text-align: right;\">0.17103</td><td style = \"text-align: right;\">1</td><td style = \"text-align: right;\">10000</td><td style = \"text-align: right;\">6</td><td style = \"text-align: right;\">5.06882</td><td style = \"text-align: right;\">1.98598</td></tr><tr><td class = \"rowNumber\" style = \"font-weight: bold; text-align: right;\">7</td><td style = \"text-align: right;\">4</td><td style = \"text-align: right;\">5</td><td style = \"text-align: right;\">0.01335</td><td style = \"text-align: right;\">0.04211</td><td style = \"text-align: right;\">1</td><td style = \"text-align: right;\">10000</td><td style = \"text-align: right;\">7</td><td style = \"text-align: right;\">21.5786</td><td style = \"text-align: right;\">6.84098</td></tr><tr><td class = \"rowNumber\" style = \"font-weight: bold; text-align: right;\">8</td><td style = \"text-align: right;\">4</td><td style = \"text-align: right;\">7</td><td style = \"text-align: right;\">0.0</td><td style = \"text-align: right;\">0.20912</td><td style = \"text-align: right;\">1</td><td style = \"text-align: right;\">10000</td><td style = \"text-align: right;\">8</td><td style = \"text-align: right;\">4.78194</td><td style = \"text-align: right;\">0.0</td></tr><tr><td class = \"rowNumber\" style = \"font-weight: bold; text-align: right;\">9</td><td style = \"text-align: right;\">4</td><td style = \"text-align: right;\">9</td><td style = \"text-align: right;\">0.0</td><td style = \"text-align: right;\">0.55618</td><td style = \"text-align: right;\">1</td><td style = \"text-align: right;\">10000</td><td style = \"text-align: right;\">9</td><td style = \"text-align: right;\">1.79798</td><td style = \"text-align: right;\">0.0</td></tr><tr><td class = \"rowNumber\" style = \"font-weight: bold; text-align: right;\">10</td><td style = \"text-align: right;\">5</td><td style = \"text-align: right;\">6</td><td style = \"text-align: right;\">0.0</td><td style = \"text-align: right;\">0.25202</td><td style = \"text-align: right;\">1</td><td style = \"text-align: right;\">10000</td><td style = \"text-align: right;\">10</td><td style = \"text-align: right;\">3.96794</td><td style = \"text-align: right;\">0.0</td></tr><tr><td class = \"rowNumber\" style = \"font-weight: bold; text-align: right;\">11</td><td style = \"text-align: right;\">6</td><td style = \"text-align: right;\">11</td><td style = \"text-align: right;\">0.09498</td><td style = \"text-align: right;\">0.1989</td><td style = \"text-align: right;\">1</td><td style = \"text-align: right;\">10000</td><td style = \"text-align: right;\">11</td><td style = \"text-align: right;\">4.09407</td><td style = \"text-align: right;\">1.95503</td></tr><tr><td class = \"rowNumber\" style = \"font-weight: bold; text-align: right;\">12</td><td style = \"text-align: right;\">6</td><td style = \"text-align: right;\">12</td><td style = \"text-align: right;\">0.12291</td><td style = \"text-align: right;\">0.25581</td><td style = \"text-align: right;\">1</td><td style = \"text-align: right;\">10000</td><td style = \"text-align: right;\">12</td><td style = \"text-align: right;\">3.17596</td><td style = \"text-align: right;\">1.52597</td></tr><tr><td class = \"rowNumber\" style = \"font-weight: bold; text-align: right;\">13</td><td style = \"text-align: right;\">6</td><td style = \"text-align: right;\">13</td><td style = \"text-align: right;\">0.06615</td><td style = \"text-align: right;\">0.13027</td><td style = \"text-align: right;\">1</td><td style = \"text-align: right;\">10000</td><td style = \"text-align: right;\">13</td><td style = \"text-align: right;\">6.10276</td><td style = \"text-align: right;\">3.09893</td></tr><tr><td style = \"text-align: right;\">&vellip;</td><td style = \"text-align: right;\">&vellip;</td><td style = \"text-align: right;\">&vellip;</td><td style = \"text-align: right;\">&vellip;</td><td style = \"text-align: right;\">&vellip;</td><td style = \"text-align: right;\">&vellip;</td><td style = \"text-align: right;\">&vellip;</td><td style = \"text-align: right;\">&vellip;</td><td style = \"text-align: right;\">&vellip;</td><td style = \"text-align: right;\">&vellip;</td></tr><tr><td class = \"rowNumber\" style = \"font-weight: bold; text-align: right;\">29</td><td style = \"text-align: right;\">9</td><td style = \"text-align: right;\">4</td><td style = \"text-align: right;\">0.0</td><td style = \"text-align: right;\">0.55618</td><td style = \"text-align: right;\">1</td><td style = \"text-align: right;\">10000</td><td style = \"text-align: right;\">9</td><td style = \"text-align: right;\">1.79798</td><td style = \"text-align: right;\">0.0</td></tr><tr><td class = \"rowNumber\" style = \"font-weight: bold; text-align: right;\">30</td><td style = \"text-align: right;\">6</td><td style = \"text-align: right;\">5</td><td style = \"text-align: right;\">0.0</td><td style = \"text-align: right;\">0.25202</td><td style = \"text-align: right;\">1</td><td style = \"text-align: right;\">10000</td><td style = \"text-align: right;\">10</td><td style = \"text-align: right;\">3.96794</td><td style = \"text-align: right;\">0.0</td></tr><tr><td class = \"rowNumber\" style = \"font-weight: bold; text-align: right;\">31</td><td style = \"text-align: right;\">11</td><td style = \"text-align: right;\">6</td><td style = \"text-align: right;\">0.09498</td><td style = \"text-align: right;\">0.1989</td><td style = \"text-align: right;\">1</td><td style = \"text-align: right;\">10000</td><td style = \"text-align: right;\">11</td><td style = \"text-align: right;\">4.09407</td><td style = \"text-align: right;\">1.95503</td></tr><tr><td class = \"rowNumber\" style = \"font-weight: bold; text-align: right;\">32</td><td style = \"text-align: right;\">12</td><td style = \"text-align: right;\">6</td><td style = \"text-align: right;\">0.12291</td><td style = \"text-align: right;\">0.25581</td><td style = \"text-align: right;\">1</td><td style = \"text-align: right;\">10000</td><td style = \"text-align: right;\">12</td><td style = \"text-align: right;\">3.17596</td><td style = \"text-align: right;\">1.52597</td></tr><tr><td class = \"rowNumber\" style = \"font-weight: bold; text-align: right;\">33</td><td style = \"text-align: right;\">13</td><td style = \"text-align: right;\">6</td><td style = \"text-align: right;\">0.06615</td><td style = \"text-align: right;\">0.13027</td><td style = \"text-align: right;\">1</td><td style = \"text-align: right;\">10000</td><td style = \"text-align: right;\">13</td><td style = \"text-align: right;\">6.10276</td><td style = \"text-align: right;\">3.09893</td></tr><tr><td class = \"rowNumber\" style = \"font-weight: bold; text-align: right;\">34</td><td style = \"text-align: right;\">8</td><td style = \"text-align: right;\">7</td><td style = \"text-align: right;\">0.0</td><td style = \"text-align: right;\">0.17615</td><td style = \"text-align: right;\">1</td><td style = \"text-align: right;\">10000</td><td style = \"text-align: right;\">14</td><td style = \"text-align: right;\">5.67698</td><td style = \"text-align: right;\">0.0</td></tr><tr><td class = \"rowNumber\" style = \"font-weight: bold; text-align: right;\">35</td><td style = \"text-align: right;\">9</td><td style = \"text-align: right;\">7</td><td style = \"text-align: right;\">0.0</td><td style = \"text-align: right;\">0.11001</td><td style = \"text-align: right;\">1</td><td style = \"text-align: right;\">10000</td><td style = \"text-align: right;\">15</td><td style = \"text-align: right;\">9.09008</td><td style = \"text-align: right;\">0.0</td></tr><tr><td class = \"rowNumber\" style = \"font-weight: bold; text-align: right;\">36</td><td style = \"text-align: right;\">10</td><td style = \"text-align: right;\">9</td><td style = \"text-align: right;\">0.03181</td><td style = \"text-align: right;\">0.0845</td><td style = \"text-align: right;\">1</td><td style = \"text-align: right;\">10000</td><td style = \"text-align: right;\">16</td><td style = \"text-align: right;\">10.3654</td><td style = \"text-align: right;\">3.90205</td></tr><tr><td class = \"rowNumber\" style = \"font-weight: bold; text-align: right;\">37</td><td style = \"text-align: right;\">14</td><td style = \"text-align: right;\">9</td><td style = \"text-align: right;\">0.12711</td><td style = \"text-align: right;\">0.27038</td><td style = \"text-align: right;\">1</td><td style = \"text-align: right;\">10000</td><td style = \"text-align: right;\">17</td><td style = \"text-align: right;\">3.02905</td><td style = \"text-align: right;\">1.42401</td></tr><tr><td class = \"rowNumber\" style = \"font-weight: bold; text-align: right;\">38</td><td style = \"text-align: right;\">11</td><td style = \"text-align: right;\">10</td><td style = \"text-align: right;\">0.08205</td><td style = \"text-align: right;\">0.19207</td><td style = \"text-align: right;\">1</td><td style = \"text-align: right;\">10000</td><td style = \"text-align: right;\">18</td><td style = \"text-align: right;\">4.40294</td><td style = \"text-align: right;\">1.88088</td></tr><tr><td class = \"rowNumber\" style = \"font-weight: bold; text-align: right;\">39</td><td style = \"text-align: right;\">13</td><td style = \"text-align: right;\">12</td><td style = \"text-align: right;\">0.22092</td><td style = \"text-align: right;\">0.19988</td><td style = \"text-align: right;\">1</td><td style = \"text-align: right;\">10000</td><td style = \"text-align: right;\">19</td><td style = \"text-align: right;\">2.25197</td><td style = \"text-align: right;\">2.48902</td></tr><tr><td class = \"rowNumber\" style = \"font-weight: bold; text-align: right;\">40</td><td style = \"text-align: right;\">14</td><td style = \"text-align: right;\">13</td><td style = \"text-align: right;\">0.17093</td><td style = \"text-align: right;\">0.34802</td><td style = \"text-align: right;\">1</td><td style = \"text-align: right;\">10000</td><td style = \"text-align: right;\">20</td><td style = \"text-align: right;\">2.31496</td><td style = \"text-align: right;\">1.13699</td></tr></tbody></table></div>"
      ],
      "text/latex": [
       "\\begin{tabular}{r|ccccccccc}\n",
       "\t& fromnode & tonode & resistance & reactance & contingencymarked & capacity & id & b & g\\\\\n",
       "\t\\hline\n",
       "\t& Int64 & Int64 & Float64 & Float64 & Int64 & Int64 & Int64 & Float64 & Float64\\\\\n",
       "\t\\hline\n",
       "\t1 & 1 & 2 & 0.01938 & 0.05917 & 1 & 10000 & 1 & 15.2631 & 4.99913 \\\\\n",
       "\t2 & 1 & 5 & 0.05403 & 0.22304 & 1 & 10000 & 2 & 4.23498 & 1.0259 \\\\\n",
       "\t3 & 2 & 3 & 0.04699 & 0.19797 & 1 & 10000 & 3 & 4.78186 & 1.13502 \\\\\n",
       "\t4 & 2 & 4 & 0.05811 & 0.17632 & 1 & 10000 & 4 & 5.11584 & 1.68603 \\\\\n",
       "\t5 & 2 & 5 & 0.05695 & 0.17388 & 1 & 10000 & 5 & 5.19393 & 1.70114 \\\\\n",
       "\t6 & 3 & 4 & 0.06701 & 0.17103 & 1 & 10000 & 6 & 5.06882 & 1.98598 \\\\\n",
       "\t7 & 4 & 5 & 0.01335 & 0.04211 & 1 & 10000 & 7 & 21.5786 & 6.84098 \\\\\n",
       "\t8 & 4 & 7 & 0.0 & 0.20912 & 1 & 10000 & 8 & 4.78194 & 0.0 \\\\\n",
       "\t9 & 4 & 9 & 0.0 & 0.55618 & 1 & 10000 & 9 & 1.79798 & 0.0 \\\\\n",
       "\t10 & 5 & 6 & 0.0 & 0.25202 & 1 & 10000 & 10 & 3.96794 & 0.0 \\\\\n",
       "\t11 & 6 & 11 & 0.09498 & 0.1989 & 1 & 10000 & 11 & 4.09407 & 1.95503 \\\\\n",
       "\t12 & 6 & 12 & 0.12291 & 0.25581 & 1 & 10000 & 12 & 3.17596 & 1.52597 \\\\\n",
       "\t13 & 6 & 13 & 0.06615 & 0.13027 & 1 & 10000 & 13 & 6.10276 & 3.09893 \\\\\n",
       "\t14 & 7 & 8 & 0.0 & 0.17615 & 1 & 10000 & 14 & 5.67698 & 0.0 \\\\\n",
       "\t15 & 7 & 9 & 0.0 & 0.11001 & 1 & 10000 & 15 & 9.09008 & 0.0 \\\\\n",
       "\t16 & 9 & 10 & 0.03181 & 0.0845 & 1 & 10000 & 16 & 10.3654 & 3.90205 \\\\\n",
       "\t17 & 9 & 14 & 0.12711 & 0.27038 & 1 & 10000 & 17 & 3.02905 & 1.42401 \\\\\n",
       "\t18 & 10 & 11 & 0.08205 & 0.19207 & 1 & 10000 & 18 & 4.40294 & 1.88088 \\\\\n",
       "\t19 & 12 & 13 & 0.22092 & 0.19988 & 1 & 10000 & 19 & 2.25197 & 2.48902 \\\\\n",
       "\t20 & 13 & 14 & 0.17093 & 0.34802 & 1 & 10000 & 20 & 2.31496 & 1.13699 \\\\\n",
       "\t21 & 2 & 1 & 0.01938 & 0.05917 & 1 & 10000 & 1 & 15.2631 & 4.99913 \\\\\n",
       "\t22 & 5 & 1 & 0.05403 & 0.22304 & 1 & 10000 & 2 & 4.23498 & 1.0259 \\\\\n",
       "\t23 & 3 & 2 & 0.04699 & 0.19797 & 1 & 10000 & 3 & 4.78186 & 1.13502 \\\\\n",
       "\t24 & 4 & 2 & 0.05811 & 0.17632 & 1 & 10000 & 4 & 5.11584 & 1.68603 \\\\\n",
       "\t25 & 5 & 2 & 0.05695 & 0.17388 & 1 & 10000 & 5 & 5.19393 & 1.70114 \\\\\n",
       "\t26 & 4 & 3 & 0.06701 & 0.17103 & 1 & 10000 & 6 & 5.06882 & 1.98598 \\\\\n",
       "\t27 & 5 & 4 & 0.01335 & 0.04211 & 1 & 10000 & 7 & 21.5786 & 6.84098 \\\\\n",
       "\t28 & 7 & 4 & 0.0 & 0.20912 & 1 & 10000 & 8 & 4.78194 & 0.0 \\\\\n",
       "\t29 & 9 & 4 & 0.0 & 0.55618 & 1 & 10000 & 9 & 1.79798 & 0.0 \\\\\n",
       "\t30 & 6 & 5 & 0.0 & 0.25202 & 1 & 10000 & 10 & 3.96794 & 0.0 \\\\\n",
       "\t$\\dots$ & $\\dots$ & $\\dots$ & $\\dots$ & $\\dots$ & $\\dots$ & $\\dots$ & $\\dots$ & $\\dots$ & $\\dots$ \\\\\n",
       "\\end{tabular}\n"
      ],
      "text/plain": [
       "\u001b[1m40×9 DataFrame\u001b[0m\n",
       "\u001b[1m Row \u001b[0m│\u001b[1m fromnode \u001b[0m\u001b[1m tonode \u001b[0m\u001b[1m resistance \u001b[0m\u001b[1m reactance \u001b[0m\u001b[1m contingencymarked \u001b[0m\u001b[1m capacity \u001b[0m\u001b[1m id    \u001b[0m\u001b[1m b        \u001b[0m\u001b[1m g       \u001b[0m\n",
       "     │\u001b[90m Int64    \u001b[0m\u001b[90m Int64  \u001b[0m\u001b[90m Float64    \u001b[0m\u001b[90m Float64   \u001b[0m\u001b[90m Int64             \u001b[0m\u001b[90m Int64    \u001b[0m\u001b[90m Int64 \u001b[0m\u001b[90m Float64  \u001b[0m\u001b[90m Float64 \u001b[0m\n",
       "─────┼────────────────────────────────────────────────────────────────────────────────────────────────\n",
       "   1 │        1       2     0.01938    0.05917                  1     10000      1  15.2631   4.99913\n",
       "   2 │        1       5     0.05403    0.22304                  1     10000      2   4.23498  1.0259\n",
       "   3 │        2       3     0.04699    0.19797                  1     10000      3   4.78186  1.13502\n",
       "   4 │        2       4     0.05811    0.17632                  1     10000      4   5.11584  1.68603\n",
       "   5 │        2       5     0.05695    0.17388                  1     10000      5   5.19393  1.70114\n",
       "   6 │        3       4     0.06701    0.17103                  1     10000      6   5.06882  1.98598\n",
       "   7 │        4       5     0.01335    0.04211                  1     10000      7  21.5786   6.84098\n",
       "   8 │        4       7     0.0        0.20912                  1     10000      8   4.78194  0.0\n",
       "   9 │        4       9     0.0        0.55618                  1     10000      9   1.79798  0.0\n",
       "  10 │        5       6     0.0        0.25202                  1     10000     10   3.96794  0.0\n",
       "  11 │        6      11     0.09498    0.1989                   1     10000     11   4.09407  1.95503\n",
       "  ⋮  │    ⋮        ⋮         ⋮           ⋮              ⋮             ⋮        ⋮       ⋮         ⋮\n",
       "  31 │       11       6     0.09498    0.1989                   1     10000     11   4.09407  1.95503\n",
       "  32 │       12       6     0.12291    0.25581                  1     10000     12   3.17596  1.52597\n",
       "  33 │       13       6     0.06615    0.13027                  1     10000     13   6.10276  3.09893\n",
       "  34 │        8       7     0.0        0.17615                  1     10000     14   5.67698  0.0\n",
       "  35 │        9       7     0.0        0.11001                  1     10000     15   9.09008  0.0\n",
       "  36 │       10       9     0.03181    0.0845                   1     10000     16  10.3654   3.90205\n",
       "  37 │       14       9     0.12711    0.27038                  1     10000     17   3.02905  1.42401\n",
       "  38 │       11      10     0.08205    0.19207                  1     10000     18   4.40294  1.88088\n",
       "  39 │       13      12     0.22092    0.19988                  1     10000     19   2.25197  2.48902\n",
       "  40 │       14      13     0.17093    0.34802                  1     10000     20   2.31496  1.13699\n",
       "\u001b[36m                                                                                       19 rows omitted\u001b[0m"
      ]
     },
     "execution_count": 20,
     "metadata": {},
     "output_type": "execute_result"
    }
   ],
   "source": [
    "lines"
   ]
  },
  {
   "cell_type": "code",
   "execution_count": 21,
   "metadata": {
    "scrolled": true
   },
   "outputs": [
    {
     "data": {
      "text/html": [
       "<div><div style = \"float: left;\"><span>2×10 DataFrame</span></div><div style = \"clear: both;\"></div></div><div class = \"data-frame\" style = \"overflow-x: scroll;\"><table class = \"data-frame\" style = \"margin-bottom: 6px;\"><thead><tr class = \"header\"><th class = \"rowNumber\" style = \"font-weight: bold; text-align: right;\">Row</th><th style = \"text-align: left;\">connnode</th><th style = \"text-align: left;\">c2</th><th style = \"text-align: left;\">c1</th><th style = \"text-align: left;\">c0</th><th style = \"text-align: left;\">pgmax</th><th style = \"text-align: left;\">pgmin</th><th style = \"text-align: left;\">rgmax</th><th style = \"text-align: left;\">rgmin</th><th style = \"text-align: left;\">pgprev</th><th style = \"text-align: left;\">id</th></tr><tr class = \"subheader headerLastRow\"><th class = \"rowNumber\" style = \"font-weight: bold; text-align: right;\"></th><th title = \"Int64\" style = \"text-align: left;\">Int64</th><th title = \"Float64\" style = \"text-align: left;\">Float64</th><th title = \"Int64\" style = \"text-align: left;\">Int64</th><th title = \"Int64\" style = \"text-align: left;\">Int64</th><th title = \"Int64\" style = \"text-align: left;\">Int64</th><th title = \"Int64\" style = \"text-align: left;\">Int64</th><th title = \"Int64\" style = \"text-align: left;\">Int64</th><th title = \"Int64\" style = \"text-align: left;\">Int64</th><th title = \"Float64\" style = \"text-align: left;\">Float64</th><th title = \"Int64\" style = \"text-align: left;\">Int64</th></tr></thead><tbody><tr><td class = \"rowNumber\" style = \"font-weight: bold; text-align: right;\">1</td><td style = \"text-align: right;\">1</td><td style = \"text-align: right;\">0.0430293</td><td style = \"text-align: right;\">20</td><td style = \"text-align: right;\">0</td><td style = \"text-align: right;\">300</td><td style = \"text-align: right;\">0</td><td style = \"text-align: right;\">100</td><td style = \"text-align: right;\">-100</td><td style = \"text-align: right;\">161.62</td><td style = \"text-align: right;\">1</td></tr><tr><td class = \"rowNumber\" style = \"font-weight: bold; text-align: right;\">2</td><td style = \"text-align: right;\">2</td><td style = \"text-align: right;\">0.25</td><td style = \"text-align: right;\">25</td><td style = \"text-align: right;\">0</td><td style = \"text-align: right;\">140</td><td style = \"text-align: right;\">0</td><td style = \"text-align: right;\">100</td><td style = \"text-align: right;\">-100</td><td style = \"text-align: right;\">97.47</td><td style = \"text-align: right;\">2</td></tr></tbody></table></div>"
      ],
      "text/latex": [
       "\\begin{tabular}{r|cccccccccc}\n",
       "\t& connnode & c2 & c1 & c0 & pgmax & pgmin & rgmax & rgmin & pgprev & id\\\\\n",
       "\t\\hline\n",
       "\t& Int64 & Float64 & Int64 & Int64 & Int64 & Int64 & Int64 & Int64 & Float64 & Int64\\\\\n",
       "\t\\hline\n",
       "\t1 & 1 & 0.0430293 & 20 & 0 & 300 & 0 & 100 & -100 & 161.62 & 1 \\\\\n",
       "\t2 & 2 & 0.25 & 25 & 0 & 140 & 0 & 100 & -100 & 97.47 & 2 \\\\\n",
       "\\end{tabular}\n"
      ],
      "text/plain": [
       "\u001b[1m2×10 DataFrame\u001b[0m\n",
       "\u001b[1m Row \u001b[0m│\u001b[1m connnode \u001b[0m\u001b[1m c2        \u001b[0m\u001b[1m c1    \u001b[0m\u001b[1m c0    \u001b[0m\u001b[1m pgmax \u001b[0m\u001b[1m pgmin \u001b[0m\u001b[1m rgmax \u001b[0m\u001b[1m rgmin \u001b[0m\u001b[1m pgprev  \u001b[0m\u001b[1m id    \u001b[0m\n",
       "     │\u001b[90m Int64    \u001b[0m\u001b[90m Float64   \u001b[0m\u001b[90m Int64 \u001b[0m\u001b[90m Int64 \u001b[0m\u001b[90m Int64 \u001b[0m\u001b[90m Int64 \u001b[0m\u001b[90m Int64 \u001b[0m\u001b[90m Int64 \u001b[0m\u001b[90m Float64 \u001b[0m\u001b[90m Int64 \u001b[0m\n",
       "─────┼───────────────────────────────────────────────────────────────────────────────\n",
       "   1 │        1  0.0430293     20      0    300      0    100   -100   161.62      1\n",
       "   2 │        2  0.25          25      0    140      0    100   -100    97.47      2"
      ]
     },
     "execution_count": 21,
     "metadata": {},
     "output_type": "execute_result"
    }
   ],
   "source": [
    "gens"
   ]
  },
  {
   "cell_type": "code",
   "execution_count": 22,
   "metadata": {},
   "outputs": [
    {
     "data": {
      "text/html": [
       "<div><div style = \"float: left;\"><span>11×2 DataFrame</span></div><div style = \"clear: both;\"></div></div><div class = \"data-frame\" style = \"overflow-x: scroll;\"><table class = \"data-frame\" style = \"margin-bottom: 6px;\"><thead><tr class = \"header\"><th class = \"rowNumber\" style = \"font-weight: bold; text-align: right;\">Row</th><th style = \"text-align: left;\">connnode</th><th style = \"text-align: left;\">demand</th></tr><tr class = \"subheader headerLastRow\"><th class = \"rowNumber\" style = \"font-weight: bold; text-align: right;\"></th><th title = \"Int64\" style = \"text-align: left;\">Int64</th><th title = \"Float64\" style = \"text-align: left;\">Float64</th></tr></thead><tbody><tr><td class = \"rowNumber\" style = \"font-weight: bold; text-align: right;\">1</td><td style = \"text-align: right;\">2</td><td style = \"text-align: right;\">-21.7</td></tr><tr><td class = \"rowNumber\" style = \"font-weight: bold; text-align: right;\">2</td><td style = \"text-align: right;\">3</td><td style = \"text-align: right;\">-94.2</td></tr><tr><td class = \"rowNumber\" style = \"font-weight: bold; text-align: right;\">3</td><td style = \"text-align: right;\">4</td><td style = \"text-align: right;\">-47.8</td></tr><tr><td class = \"rowNumber\" style = \"font-weight: bold; text-align: right;\">4</td><td style = \"text-align: right;\">5</td><td style = \"text-align: right;\">-7.6</td></tr><tr><td class = \"rowNumber\" style = \"font-weight: bold; text-align: right;\">5</td><td style = \"text-align: right;\">6</td><td style = \"text-align: right;\">-11.2</td></tr><tr><td class = \"rowNumber\" style = \"font-weight: bold; text-align: right;\">6</td><td style = \"text-align: right;\">9</td><td style = \"text-align: right;\">-29.5</td></tr><tr><td class = \"rowNumber\" style = \"font-weight: bold; text-align: right;\">7</td><td style = \"text-align: right;\">10</td><td style = \"text-align: right;\">-9.0</td></tr><tr><td class = \"rowNumber\" style = \"font-weight: bold; text-align: right;\">8</td><td style = \"text-align: right;\">11</td><td style = \"text-align: right;\">-3.5</td></tr><tr><td class = \"rowNumber\" style = \"font-weight: bold; text-align: right;\">9</td><td style = \"text-align: right;\">12</td><td style = \"text-align: right;\">-6.1</td></tr><tr><td class = \"rowNumber\" style = \"font-weight: bold; text-align: right;\">10</td><td style = \"text-align: right;\">13</td><td style = \"text-align: right;\">-13.5</td></tr><tr><td class = \"rowNumber\" style = \"font-weight: bold; text-align: right;\">11</td><td style = \"text-align: right;\">14</td><td style = \"text-align: right;\">-14.9</td></tr></tbody></table></div>"
      ],
      "text/latex": [
       "\\begin{tabular}{r|cc}\n",
       "\t& connnode & demand\\\\\n",
       "\t\\hline\n",
       "\t& Int64 & Float64\\\\\n",
       "\t\\hline\n",
       "\t1 & 2 & -21.7 \\\\\n",
       "\t2 & 3 & -94.2 \\\\\n",
       "\t3 & 4 & -47.8 \\\\\n",
       "\t4 & 5 & -7.6 \\\\\n",
       "\t5 & 6 & -11.2 \\\\\n",
       "\t6 & 9 & -29.5 \\\\\n",
       "\t7 & 10 & -9.0 \\\\\n",
       "\t8 & 11 & -3.5 \\\\\n",
       "\t9 & 12 & -6.1 \\\\\n",
       "\t10 & 13 & -13.5 \\\\\n",
       "\t11 & 14 & -14.9 \\\\\n",
       "\\end{tabular}\n"
      ],
      "text/plain": [
       "\u001b[1m11×2 DataFrame\u001b[0m\n",
       "\u001b[1m Row \u001b[0m│\u001b[1m connnode \u001b[0m\u001b[1m demand  \u001b[0m\n",
       "     │\u001b[90m Int64    \u001b[0m\u001b[90m Float64 \u001b[0m\n",
       "─────┼───────────────────\n",
       "   1 │        2    -21.7\n",
       "   2 │        3    -94.2\n",
       "   3 │        4    -47.8\n",
       "   4 │        5     -7.6\n",
       "   5 │        6    -11.2\n",
       "   6 │        9    -29.5\n",
       "   7 │       10     -9.0\n",
       "   8 │       11     -3.5\n",
       "   9 │       12     -6.1\n",
       "  10 │       13    -13.5\n",
       "  11 │       14    -14.9"
      ]
     },
     "execution_count": 22,
     "metadata": {},
     "output_type": "execute_result"
    }
   ],
   "source": [
    "loads"
   ]
  },
  {
   "cell_type": "markdown",
   "metadata": {},
   "source": [
    "The structure of these data are different than the above case formats, hence we write a modified solver function:"
   ]
  },
  {
   "cell_type": "code",
   "execution_count": 23,
   "metadata": {},
   "outputs": [
    {
     "data": {
      "text/plain": [
       "dcopf_ieee (generic function with 1 method)"
      ]
     },
     "execution_count": 23,
     "metadata": {},
     "output_type": "execute_result"
    }
   ],
   "source": [
    "#=\n",
    "Function to solve DC OPF problem using IEEE test cases\n",
    "Inputs:\n",
    "    gen_info -- dataframe with generator info\n",
    "    line_info -- dataframe with transmission lines info\n",
    "    loads  -- dataframe with load info\n",
    "=#\n",
    "function dcopf_ieee(gens, lines, loads)\n",
    "    DCOPF = Model(HiGHS.Optimizer) # You could use Clp as well, with Clp.Optimizer\n",
    "    \n",
    "    # Define sets based on data\n",
    "      # Set of generator buses\n",
    "    G = gens.connnode\n",
    "    \n",
    "      # Set of all nodes\n",
    "    N = sort(union(unique(lines.fromnode), \n",
    "            unique(lines.tonode)))\n",
    "    \n",
    "      # sets J_i and G_i will be described using dataframe indexing below\n",
    "\n",
    "    # Define per unit base units for the system \n",
    "    # used to convert from per unit values to standard unit\n",
    "    # values (e.g. p.u. power flows to MW/MVA)\n",
    "    baseMVA = 100 # base MVA is 100 MVA for this system\n",
    "    \n",
    "    # Decision variables   \n",
    "    @variables(DCOPF, begin\n",
    "        GEN[N]  >= 0     # generation        \n",
    "        # Note: we assume Pmin = 0 for all resources for simplicty here\n",
    "        THETA[N]         # voltage phase angle of bus\n",
    "        FLOW[N,N]        # flows between all pairs of nodes\n",
    "    end)\n",
    "    \n",
    "    # Create slack bus with reference angle = 0; use bus 1 with generator\n",
    "    fix(THETA[1],0)\n",
    "                \n",
    "    # Objective function\n",
    "    @objective(DCOPF, Min, \n",
    "        sum( gens[g,:c1] * GEN[g] for g in G)\n",
    "    )\n",
    "    \n",
    "    # Supply demand balances\n",
    "    @constraint(DCOPF, cBalance[i in N], \n",
    "        sum(GEN[g] for g in gens[gens.connnode .== i,:connnode]) \n",
    "            + sum(load for load in loads[loads.connnode .== i,:demand]) \n",
    "        == sum(FLOW[i,j] for j in lines[lines.fromnode .== i,:tonode])\n",
    "    )\n",
    "\n",
    "    # Max generation constraint\n",
    "    @constraint(DCOPF, cMaxGen[g in G],\n",
    "                    GEN[g] <= gens[g,:pgmax])\n",
    "\n",
    "    # Flow constraints on each branch; \n",
    "    # In DCOPF, line flow is a function of voltage angles\n",
    "       # Create an array of references to the line constraints, \n",
    "       # which we \"fill\" below in loop\n",
    "    cLineFlows = JuMP.Containers.DenseAxisArray{Any}(undef, 1:nrow(lines)) \n",
    "    for l in 1:nrow(lines)\n",
    "        cLineFlows[l] = @constraint(DCOPF, \n",
    "            FLOW[lines[l,:fromnode],lines[l,:tonode]] == \n",
    "            baseMVA * lines[l,:b] * \n",
    "            (THETA[lines[l,:fromnode]] - THETA[lines[l,:tonode]])\n",
    "        )\n",
    "    end\n",
    "    \n",
    "    # Max line flow limits\n",
    "       # Create an array of references to the line constraints, \n",
    "       # which we \"fill\" below in loop\n",
    "    cLineLimits = JuMP.Containers.DenseAxisArray{Any}(undef, 1:nrow(lines)) \n",
    "    for l in 1:nrow(lines)\n",
    "        cLineLimits[l] = @constraint(DCOPF,\n",
    "            FLOW[lines[l,:fromnode],lines[l,:tonode]] <=\n",
    "            lines[l,:capacity]\n",
    "        ) \n",
    "    end\n",
    "\n",
    "    # Solve statement (! indicates runs in place)\n",
    "    optimize!(DCOPF)\n",
    "\n",
    "    # Output variables\n",
    "    generation = DataFrame(\n",
    "        node = gens.connnode,\n",
    "        gen = value.(GEN).data[gens.connnode]\n",
    "        )\n",
    "    \n",
    "    angles = value.(THETA).data\n",
    "    \n",
    "    flows = DataFrame(\n",
    "        fbus = lines.fromnode,\n",
    "        tbus = lines.tonode,\n",
    "        flow = baseMVA * lines.b .* (angles[lines.fromnode] .- \n",
    "                        angles[lines.tonode]))\n",
    "    \n",
    "    # We output the marginal values of the demand constraints, \n",
    "    # which will in fact be the prices to deliver power at a given bus.\n",
    "    prices = DataFrame(\n",
    "        node = N,\n",
    "        value = dual.(cBalance).data)\n",
    "    \n",
    "    # Return the solution and objective as named tuple\n",
    "    return (\n",
    "        generation = generation, \n",
    "        angles,\n",
    "        flows,\n",
    "        prices,\n",
    "        cost = objective_value(DCOPF),\n",
    "        status = termination_status(DCOPF)\n",
    "    )\n",
    "end"
   ]
  },
  {
   "cell_type": "code",
   "execution_count": 24,
   "metadata": {},
   "outputs": [
    {
     "name": "stdout",
     "output_type": "stream",
     "text": [
      "Running HiGHS 1.5.3 [date: 1970-01-01, git hash: 45a127b78]\n",
      "Copyright (c) 2023 HiGHS under MIT licence terms\n",
      "Presolving model\n",
      "46 rows, 47 cols, 140 nonzeros\n",
      "41 rows, 42 cols, 130 nonzeros\n",
      "Presolve : Reductions: rows 41(-55); columns 42(-182); elements 130(-74)\n",
      "Solving the presolved LP\n",
      "Using EKK dual simplex solver - serial\n",
      "  Iteration        Objective     Infeasibilities num(sum)\n",
      "          0    -4.3143091881e+00 Pr: 41(743849); Du: 0(7.01557e-12) 0s\n",
      "         42     5.1800000000e+03 Pr: 0(0) 0s\n",
      "Solving the original LP from the solution after postsolve\n",
      "Model   status      : Optimal\n",
      "Simplex   iterations: 42\n",
      "Objective value     :  5.1800000000e+03\n",
      "HiGHS run time      :          0.00\n"
     ]
    }
   ],
   "source": [
    "solution = dcopf_ieee(gens, lines, loads);"
   ]
  },
  {
   "cell_type": "code",
   "execution_count": 25,
   "metadata": {},
   "outputs": [
    {
     "data": {
      "text/html": [
       "<div><div style = \"float: left;\"><span>2×2 DataFrame</span></div><div style = \"clear: both;\"></div></div><div class = \"data-frame\" style = \"overflow-x: scroll;\"><table class = \"data-frame\" style = \"margin-bottom: 6px;\"><thead><tr class = \"header\"><th class = \"rowNumber\" style = \"font-weight: bold; text-align: right;\">Row</th><th style = \"text-align: left;\">node</th><th style = \"text-align: left;\">gen</th></tr><tr class = \"subheader headerLastRow\"><th class = \"rowNumber\" style = \"font-weight: bold; text-align: right;\"></th><th title = \"Int64\" style = \"text-align: left;\">Int64</th><th title = \"Float64\" style = \"text-align: left;\">Float64</th></tr></thead><tbody><tr><td class = \"rowNumber\" style = \"font-weight: bold; text-align: right;\">1</td><td style = \"text-align: right;\">1</td><td style = \"text-align: right;\">259.0</td></tr><tr><td class = \"rowNumber\" style = \"font-weight: bold; text-align: right;\">2</td><td style = \"text-align: right;\">2</td><td style = \"text-align: right;\">0.0</td></tr></tbody></table></div>"
      ],
      "text/latex": [
       "\\begin{tabular}{r|cc}\n",
       "\t& node & gen\\\\\n",
       "\t\\hline\n",
       "\t& Int64 & Float64\\\\\n",
       "\t\\hline\n",
       "\t1 & 1 & 259.0 \\\\\n",
       "\t2 & 2 & 0.0 \\\\\n",
       "\\end{tabular}\n"
      ],
      "text/plain": [
       "\u001b[1m2×2 DataFrame\u001b[0m\n",
       "\u001b[1m Row \u001b[0m│\u001b[1m node  \u001b[0m\u001b[1m gen     \u001b[0m\n",
       "     │\u001b[90m Int64 \u001b[0m\u001b[90m Float64 \u001b[0m\n",
       "─────┼────────────────\n",
       "   1 │     1    259.0\n",
       "   2 │     2      0.0"
      ]
     },
     "execution_count": 25,
     "metadata": {},
     "output_type": "execute_result"
    }
   ],
   "source": [
    "solution.generation"
   ]
  },
  {
   "cell_type": "code",
   "execution_count": 26,
   "metadata": {},
   "outputs": [
    {
     "data": {
      "text/plain": [
       "14-element Vector{Float64}:\n",
       "  0.0\n",
       " -0.11768346358632928\n",
       " -0.26490396022749335\n",
       " -0.21794788882459049\n",
       " -0.1874356957372686\n",
       " -0.29370399556841936\n",
       " -0.2784511797657695\n",
       " -0.2784511797657695\n",
       " -0.3102796372850843\n",
       " -0.31612353087789996\n",
       " -0.30944033405589544\n",
       " -0.3166582896510005\n",
       " -0.32194343394642977\n",
       " -0.34321391954752184"
      ]
     },
     "execution_count": 26,
     "metadata": {},
     "output_type": "execute_result"
    }
   ],
   "source": [
    "solution.angles"
   ]
  },
  {
   "cell_type": "code",
   "execution_count": 27,
   "metadata": {},
   "outputs": [
    {
     "data": {
      "text/html": [
       "<div><div style = \"float: left;\"><span>14×2 DataFrame</span></div><div style = \"clear: both;\"></div></div><div class = \"data-frame\" style = \"overflow-x: scroll;\"><table class = \"data-frame\" style = \"margin-bottom: 6px;\"><thead><tr class = \"header\"><th class = \"rowNumber\" style = \"font-weight: bold; text-align: right;\">Row</th><th style = \"text-align: left;\">node</th><th style = \"text-align: left;\">value</th></tr><tr class = \"subheader headerLastRow\"><th class = \"rowNumber\" style = \"font-weight: bold; text-align: right;\"></th><th title = \"Int64\" style = \"text-align: left;\">Int64</th><th title = \"Float64\" style = \"text-align: left;\">Float64</th></tr></thead><tbody><tr><td class = \"rowNumber\" style = \"font-weight: bold; text-align: right;\">1</td><td style = \"text-align: right;\">1</td><td style = \"text-align: right;\">20.0</td></tr><tr><td class = \"rowNumber\" style = \"font-weight: bold; text-align: right;\">2</td><td style = \"text-align: right;\">2</td><td style = \"text-align: right;\">20.0</td></tr><tr><td class = \"rowNumber\" style = \"font-weight: bold; text-align: right;\">3</td><td style = \"text-align: right;\">3</td><td style = \"text-align: right;\">20.0</td></tr><tr><td class = \"rowNumber\" style = \"font-weight: bold; text-align: right;\">4</td><td style = \"text-align: right;\">4</td><td style = \"text-align: right;\">20.0</td></tr><tr><td class = \"rowNumber\" style = \"font-weight: bold; text-align: right;\">5</td><td style = \"text-align: right;\">5</td><td style = \"text-align: right;\">20.0</td></tr><tr><td class = \"rowNumber\" style = \"font-weight: bold; text-align: right;\">6</td><td style = \"text-align: right;\">6</td><td style = \"text-align: right;\">20.0</td></tr><tr><td class = \"rowNumber\" style = \"font-weight: bold; text-align: right;\">7</td><td style = \"text-align: right;\">7</td><td style = \"text-align: right;\">20.0</td></tr><tr><td class = \"rowNumber\" style = \"font-weight: bold; text-align: right;\">8</td><td style = \"text-align: right;\">8</td><td style = \"text-align: right;\">20.0</td></tr><tr><td class = \"rowNumber\" style = \"font-weight: bold; text-align: right;\">9</td><td style = \"text-align: right;\">9</td><td style = \"text-align: right;\">20.0</td></tr><tr><td class = \"rowNumber\" style = \"font-weight: bold; text-align: right;\">10</td><td style = \"text-align: right;\">10</td><td style = \"text-align: right;\">20.0</td></tr><tr><td class = \"rowNumber\" style = \"font-weight: bold; text-align: right;\">11</td><td style = \"text-align: right;\">11</td><td style = \"text-align: right;\">20.0</td></tr><tr><td class = \"rowNumber\" style = \"font-weight: bold; text-align: right;\">12</td><td style = \"text-align: right;\">12</td><td style = \"text-align: right;\">20.0</td></tr><tr><td class = \"rowNumber\" style = \"font-weight: bold; text-align: right;\">13</td><td style = \"text-align: right;\">13</td><td style = \"text-align: right;\">20.0</td></tr><tr><td class = \"rowNumber\" style = \"font-weight: bold; text-align: right;\">14</td><td style = \"text-align: right;\">14</td><td style = \"text-align: right;\">20.0</td></tr></tbody></table></div>"
      ],
      "text/latex": [
       "\\begin{tabular}{r|cc}\n",
       "\t& node & value\\\\\n",
       "\t\\hline\n",
       "\t& Int64 & Float64\\\\\n",
       "\t\\hline\n",
       "\t1 & 1 & 20.0 \\\\\n",
       "\t2 & 2 & 20.0 \\\\\n",
       "\t3 & 3 & 20.0 \\\\\n",
       "\t4 & 4 & 20.0 \\\\\n",
       "\t5 & 5 & 20.0 \\\\\n",
       "\t6 & 6 & 20.0 \\\\\n",
       "\t7 & 7 & 20.0 \\\\\n",
       "\t8 & 8 & 20.0 \\\\\n",
       "\t9 & 9 & 20.0 \\\\\n",
       "\t10 & 10 & 20.0 \\\\\n",
       "\t11 & 11 & 20.0 \\\\\n",
       "\t12 & 12 & 20.0 \\\\\n",
       "\t13 & 13 & 20.0 \\\\\n",
       "\t14 & 14 & 20.0 \\\\\n",
       "\\end{tabular}\n"
      ],
      "text/plain": [
       "\u001b[1m14×2 DataFrame\u001b[0m\n",
       "\u001b[1m Row \u001b[0m│\u001b[1m node  \u001b[0m\u001b[1m value   \u001b[0m\n",
       "     │\u001b[90m Int64 \u001b[0m\u001b[90m Float64 \u001b[0m\n",
       "─────┼────────────────\n",
       "   1 │     1     20.0\n",
       "   2 │     2     20.0\n",
       "   3 │     3     20.0\n",
       "   4 │     4     20.0\n",
       "   5 │     5     20.0\n",
       "   6 │     6     20.0\n",
       "   7 │     7     20.0\n",
       "   8 │     8     20.0\n",
       "   9 │     9     20.0\n",
       "  10 │    10     20.0\n",
       "  11 │    11     20.0\n",
       "  12 │    12     20.0\n",
       "  13 │    13     20.0\n",
       "  14 │    14     20.0"
      ]
     },
     "execution_count": 27,
     "metadata": {},
     "output_type": "execute_result"
    }
   ],
   "source": [
    "solution.prices"
   ]
  },
  {
   "cell_type": "markdown",
   "metadata": {},
   "source": [
    "Note that this system is uncongested, we ignore transmissions losses here, and the lowest cost generator supplies demand at all nodes, leading to equal locational marginal price at all nodes. In [Homework 4](https://github.com/east-winds/power-systems-optimization/tree/master/Homeworks), you can explore more complicated examples that modify this test system..."
   ]
  },
  {
   "cell_type": "code",
   "execution_count": null,
   "metadata": {},
   "outputs": [],
   "source": []
  }
 ],
 "metadata": {
  "@webio": {
   "lastCommId": null,
   "lastKernelId": null
  },
  "kernelspec": {
   "display_name": "Julia 1.9.3",
   "language": "julia",
   "name": "julia-1.9"
  },
  "language_info": {
   "file_extension": ".jl",
   "mimetype": "application/julia",
   "name": "julia",
   "version": "1.9.3"
  }
 },
 "nbformat": 4,
 "nbformat_minor": 4
}
