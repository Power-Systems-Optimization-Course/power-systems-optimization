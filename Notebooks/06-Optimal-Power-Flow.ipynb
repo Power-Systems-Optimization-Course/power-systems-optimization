{
 "cells": [
  {
   "cell_type": "markdown",
   "metadata": {},
   "source": [
    "## Optimal Power Flow\n",
    "**Power Systems Optimization**\n",
    "\n",
    "by Michael R. Davidson and Jesse D. Jenkins (last updated: September 27, 2020)\n",
    "\n",
    "This notebook provides an introductory glimpse of the Optimal Power Flow (OPF) problem&mdash;which minimizes the short-run production costs of meeting electricity demand at a number of connected locations from a given set of generators subject to various technical and flow limit constraints. This will be our first treatment of a **network**, which is critical to all power systems.\n",
    "\n",
    "We will first introduce a model of transmission flows that assumes we can control the flow along each path, in what is called a \"transport model\". This is a straightforward extension to Economic Dispatch (ED), where we have multiple supply and demand balance constraints, and a new set of flow constraints. This is also similar to other common optimization problems such as fleet routing of shipments.\n",
    "\n",
    "We will then introduce a linear approximation to the optimal power flow problem known as \"DC-OPF\", where we begin to incorporate some of the physics involved in how electricity flows along transmission lines. With this, we recognize that given \"injections\" (i.e., generation) and withdrawals (i.e., demand) of power, flows along lines are not independently controllable. This can (very frequently) result in hitting flow constraints before we would if could control them as in the transport problem.\n",
    "\n",
    "Our model does not explore the full functionality of DC-OPF, which can include inter-temporal constraints, additional generation constraints (e.g., on voltage), security constraints to ensure stability in the case of contingencies, and network losses.\n",
    "\n",
    "Full \"AC optimal power flow\" models are also beyond the scope of this notebook, as the full set of physics associated with the interactions of AC flows introduces non-linearities that are much harder to solve.\n",
    "\n",
    "We will start off with some simple systems, whose solutions can be worked out manually without resorting to any mathematical optimization model and software. But, eventually we will be solving larger system, thereby emphasizing the importance of such software and mathematical models."
   ]
  },
  {
   "cell_type": "markdown",
   "metadata": {},
   "source": [
    "## Introduction to OPF\n",
    "\n",
    "\n",
    "Optimal Power Flow (OPF) is a power system optimal scheduling problem which fully captures the physics of electricity flows, which adds a leyr of complexity, as well gives a more realistic version of the Economic Dispatch (ED) problem. It usually attempts to capture the entire network topology by representing the interconnections between the different nodes through transmission lines and also representing the electrical parameters, like the resistance, series reactance, shunt admittance etc. of the lines. however, the full-blown \"AC\" OPF turns out to be an extremely hard problem to solve (usually NP-hard). Hence, system operators and power marketers usually go about solving a linearized version of it, called the DC-OPF. The DC-OPF approximation works satisfactorily for bulk power transmission networks as long as such networks are not operated at the brink of instability or, under very heavily heavily loaded conditions.\n"
   ]
  },
  {
   "cell_type": "markdown",
   "metadata": {},
   "source": [
    "## \"Transport\" model\n",
    "We will first examine the case where we ignore the physics of electricity flows, and instead treat it like transporting an ordinary commodity.\n",
    "\n",
    "$$\n",
    "\\begin{align}\n",
    "\\min \\ & \\sum_{g \\in G} VarCost_g \\times GEN_g & \\\\\n",
    "\\text{s.t.} & \\\\\n",
    " & \\sum_{g \\in G_i} GEN_g - Demand_i = \\sum_{j \\in J_i} FLOW_{ji} & \\forall \\quad i \\in \\mathcal{N}\\\\\n",
    " & FLOW_{ji} \\leq MaxFlow_{ji} & \\forall \\quad i \\in \\mathcal{N}, \\forall j \\in J_i \\\\\n",
    " & FLOW_{ji} = - FLOW_{ij} & \\forall \\quad i, j \\in \\mathcal{N} \\\\\n",
    " & GEN_g \\leq Pmax_g & \\forall \\quad g \\in G \\\\\n",
    " & GEN_g \\geq Pmin_g & \\forall \\quad g \\in G  \n",
    "\\end{align}\n",
    "$$\n",
    "\n",
    "We introduce a few new **sets** in the above:\n",
    "- $\\mathcal{N}$, the set of all nodes (or buses) in the network\n",
    "- $J_i$, the subset of nodes that are connected to node $i$\n",
    "- $G_i \\subset G$, the subset of generators located at node $i$\n",
    " \n",
    "The **decision variables** in the above problem are:\n",
    "\n",
    "- $GEN_{g}$, the generation (in MW) produced by each generator, $g$\n",
    "- $FLOW_{ji}$, the flow (in MW) along the line from $j$ to $i$\n",
    "\n",
    "The **parameters** are:\n",
    "\n",
    "- $Pmin_g$, the minimum operating bounds for the generator (based on engineering or natural resource constraints)\n",
    "- $Pmax_g$, the maximum operating bounds for the generator (based on engineering or natural resource constraints)\n",
    "- $Demand$, the demand (in MW)\n",
    "- $MaxFlow_{ji}$, the maximum allowable flow along the line from $j$ to $i$ (0, if no line exists)\n",
    "- $VarCost_g$, the variable cost of generator $g$\n",
    "\n",
    "Notice how the problem above is equivalent to producing a single type of good at a set of factories and shipping them along capacity-limited corridors (roads, rail lines, etc.) to meet a set of demands in other locations. "
   ]
  },
  {
   "cell_type": "markdown",
   "metadata": {},
   "source": [
    "### 1. Load packages"
   ]
  },
  {
   "cell_type": "code",
   "execution_count": 1,
   "metadata": {},
   "outputs": [
    {
     "name": "stderr",
     "output_type": "stream",
     "text": [
      "┌ Info: For saving to png with the Plotly backend ORCA has to be installed.\n",
      "└ @ Plots /Users/michd/.julia/packages/Plots/ViMfq/src/backends.jl:373\n"
     ]
    }
   ],
   "source": [
    "using JuMP, GLPK\n",
    "using Plots; plotly();\n",
    "using VegaLite  # to make some nice plots\n",
    "using DataFrames, CSV, PrettyTables\n",
    "ENV[\"COLUMNS\"]=120; # Set so all columns of DataFrames and Matrices are displayed"
   ]
  },
  {
   "cell_type": "markdown",
   "metadata": {},
   "source": [
    "### 2. Load and format data\n",
    "\n",
    "TO ADD: information on source of data"
   ]
  },
  {
   "cell_type": "code",
   "execution_count": 43,
   "metadata": {},
   "outputs": [
    {
     "data": {
      "text/html": [
       "<table class=\"data-frame\"><thead><tr><th></th><th>connnode</th><th>demand</th></tr><tr><th></th><th>Int64</th><th>Int64</th></tr></thead><tbody><p>3 rows × 2 columns</p><tr><th>1</th><td>1</td><td>-200</td></tr><tr><th>2</th><td>2</td><td>-100</td></tr><tr><th>3</th><td>3</td><td>-100</td></tr></tbody></table>"
      ],
      "text/latex": [
       "\\begin{tabular}{r|cc}\n",
       "\t& connnode & demand\\\\\n",
       "\t\\hline\n",
       "\t& Int64 & Int64\\\\\n",
       "\t\\hline\n",
       "\t1 & 1 & -200 \\\\\n",
       "\t2 & 2 & -100 \\\\\n",
       "\t3 & 3 & -100 \\\\\n",
       "\\end{tabular}\n"
      ],
      "text/plain": [
       "3×2 DataFrame\n",
       "│ Row │ connnode │ demand │\n",
       "│     │ \u001b[90mInt64\u001b[39m    │ \u001b[90mInt64\u001b[39m  │\n",
       "├─────┼──────────┼────────┤\n",
       "│ 1   │ 1        │ -200   │\n",
       "│ 2   │ 2        │ -100   │\n",
       "│ 3   │ 3        │ -100   │"
      ]
     },
     "execution_count": 43,
     "metadata": {},
     "output_type": "execute_result"
    }
   ],
   "source": [
    "datadir = joinpath(\"OPF_data\") \n",
    "gens = CSV.read(joinpath(datadir,\"Gen3.csv\"), DataFrame);\n",
    "lines = CSV.read(joinpath(datadir,\"Tran3.csv\"), DataFrame);\n",
    "loads = CSV.read(joinpath(datadir,\"Load3.csv\"), DataFrame);\n",
    "\n",
    "# Rename all columns to lowercase (by convention)\n",
    "for f in [gens, lines, loads]\n",
    "    rename!(f,lowercase.(names(f)))\n",
    "end\n",
    "\n",
    "# create generator ids \n",
    "gens.id = 1:nrow(gens);\n",
    "\n",
    "# create line ids \n",
    "lines.id = 1:nrow(lines);\n",
    "# add set of rows for reverse direction with same parameters\n",
    "lines2 = copy(lines)\n",
    "lines2.f = lines2.fromnode\n",
    "lines2.fromnode = lines.tonode\n",
    "lines2.tonode = lines2.f\n",
    "lines2 = lines2[:,names(lines)]\n",
    "append!(lines,lines2)\n",
    "\n",
    "# keep only single time period\n",
    "loads = loads[:,[\"connnode\",\"interval-1_load\"]]\n",
    "rename!(loads,\"interval-1_load\" => \"demand\")"
   ]
  },
  {
   "cell_type": "code",
   "execution_count": 41,
   "metadata": {},
   "outputs": [
    {
     "data": {
      "text/html": [
       "<table class=\"data-frame\"><thead><tr><th></th><th>connnode</th><th>c2</th><th>c1</th><th>c0</th><th>pgmax</th><th>pgmin</th><th>rgmax</th><th>rgmin</th><th>pgprev</th><th>id</th></tr><tr><th></th><th>Int64</th><th>Int64</th><th>Int64</th><th>Int64</th><th>Int64</th><th>Int64</th><th>Int64</th><th>Int64</th><th>Int64</th><th>Int64</th></tr></thead><tbody><p>3 rows × 10 columns</p><tr><th>1</th><td>1</td><td>0</td><td>10</td><td>0</td><td>150</td><td>0</td><td>150</td><td>-150</td><td>0</td><td>1</td></tr><tr><th>2</th><td>2</td><td>0</td><td>10</td><td>0</td><td>100</td><td>0</td><td>100</td><td>-100</td><td>0</td><td>2</td></tr><tr><th>3</th><td>3</td><td>0</td><td>10</td><td>0</td><td>150</td><td>0</td><td>150</td><td>-150</td><td>0</td><td>3</td></tr></tbody></table>"
      ],
      "text/latex": [
       "\\begin{tabular}{r|cccccccccc}\n",
       "\t& connnode & c2 & c1 & c0 & pgmax & pgmin & rgmax & rgmin & pgprev & id\\\\\n",
       "\t\\hline\n",
       "\t& Int64 & Int64 & Int64 & Int64 & Int64 & Int64 & Int64 & Int64 & Int64 & Int64\\\\\n",
       "\t\\hline\n",
       "\t1 & 1 & 0 & 10 & 0 & 150 & 0 & 150 & -150 & 0 & 1 \\\\\n",
       "\t2 & 2 & 0 & 10 & 0 & 100 & 0 & 100 & -100 & 0 & 2 \\\\\n",
       "\t3 & 3 & 0 & 10 & 0 & 150 & 0 & 150 & -150 & 0 & 3 \\\\\n",
       "\\end{tabular}\n"
      ],
      "text/plain": [
       "3×10 DataFrame\n",
       "│ Row │ connnode │ c2    │ c1    │ c0    │ pgmax │ pgmin │ rgmax │ rgmin │ pgprev │ id    │\n",
       "│     │ \u001b[90mInt64\u001b[39m    │ \u001b[90mInt64\u001b[39m │ \u001b[90mInt64\u001b[39m │ \u001b[90mInt64\u001b[39m │ \u001b[90mInt64\u001b[39m │ \u001b[90mInt64\u001b[39m │ \u001b[90mInt64\u001b[39m │ \u001b[90mInt64\u001b[39m │ \u001b[90mInt64\u001b[39m  │ \u001b[90mInt64\u001b[39m │\n",
       "├─────┼──────────┼───────┼───────┼───────┼───────┼───────┼───────┼───────┼────────┼───────┤\n",
       "│ 1   │ 1        │ 0     │ 10    │ 0     │ 150   │ 0     │ 150   │ -150  │ 0      │ 1     │\n",
       "│ 2   │ 2        │ 0     │ 10    │ 0     │ 100   │ 0     │ 100   │ -100  │ 0      │ 2     │\n",
       "│ 3   │ 3        │ 0     │ 10    │ 0     │ 150   │ 0     │ 150   │ -150  │ 0      │ 3     │"
      ]
     },
     "execution_count": 41,
     "metadata": {},
     "output_type": "execute_result"
    }
   ],
   "source": [
    "# This is what the generator dataset looks like:\n",
    "gens"
   ]
  },
  {
   "cell_type": "markdown",
   "metadata": {},
   "source": [
    "In the above, c2, c1, and c0 are variable cost components of the generators (quadratic, linear and constant, respectively). We will ignore the quadratic and fixed constant costs, leaving:\n",
    "\n",
    "$$\n",
    "VarCost_g = c1_g\n",
    "$$"
   ]
  },
  {
   "cell_type": "markdown",
   "metadata": {},
   "source": [
    "Here are the transmission lines:"
   ]
  },
  {
   "cell_type": "code",
   "execution_count": 21,
   "metadata": {},
   "outputs": [
    {
     "data": {
      "text/html": [
       "<table class=\"data-frame\"><thead><tr><th></th><th>fromnode</th><th>tonode</th><th>resistance</th><th>reactance</th><th>contingencymarked</th><th>capacity</th><th>id</th></tr><tr><th></th><th>Int64</th><th>Int64</th><th>Float64</th><th>Float64</th><th>Int64</th><th>Int64</th><th>Int64</th></tr></thead><tbody><p>4 rows × 7 columns</p><tr><th>1</th><td>1</td><td>3</td><td>0.01938</td><td>0.05917</td><td>0</td><td>10000</td><td>1</td></tr><tr><th>2</th><td>2</td><td>3</td><td>0.01938</td><td>0.05917</td><td>0</td><td>10000</td><td>2</td></tr><tr><th>3</th><td>3</td><td>1</td><td>0.01938</td><td>0.05917</td><td>0</td><td>10000</td><td>1</td></tr><tr><th>4</th><td>3</td><td>2</td><td>0.01938</td><td>0.05917</td><td>0</td><td>10000</td><td>2</td></tr></tbody></table>"
      ],
      "text/latex": [
       "\\begin{tabular}{r|ccccccc}\n",
       "\t& fromnode & tonode & resistance & reactance & contingencymarked & capacity & id\\\\\n",
       "\t\\hline\n",
       "\t& Int64 & Int64 & Float64 & Float64 & Int64 & Int64 & Int64\\\\\n",
       "\t\\hline\n",
       "\t1 & 1 & 3 & 0.01938 & 0.05917 & 0 & 10000 & 1 \\\\\n",
       "\t2 & 2 & 3 & 0.01938 & 0.05917 & 0 & 10000 & 2 \\\\\n",
       "\t3 & 3 & 1 & 0.01938 & 0.05917 & 0 & 10000 & 1 \\\\\n",
       "\t4 & 3 & 2 & 0.01938 & 0.05917 & 0 & 10000 & 2 \\\\\n",
       "\\end{tabular}\n"
      ],
      "text/plain": [
       "4×7 DataFrame\n",
       "│ Row │ fromnode │ tonode │ resistance │ reactance │ contingencymarked │ capacity │ id    │\n",
       "│     │ \u001b[90mInt64\u001b[39m    │ \u001b[90mInt64\u001b[39m  │ \u001b[90mFloat64\u001b[39m    │ \u001b[90mFloat64\u001b[39m   │ \u001b[90mInt64\u001b[39m             │ \u001b[90mInt64\u001b[39m    │ \u001b[90mInt64\u001b[39m │\n",
       "├─────┼──────────┼────────┼────────────┼───────────┼───────────────────┼──────────┼───────┤\n",
       "│ 1   │ 1        │ 3      │ 0.01938    │ 0.05917   │ 0                 │ 10000    │ 1     │\n",
       "│ 2   │ 2        │ 3      │ 0.01938    │ 0.05917   │ 0                 │ 10000    │ 2     │\n",
       "│ 3   │ 3        │ 1      │ 0.01938    │ 0.05917   │ 0                 │ 10000    │ 1     │\n",
       "│ 4   │ 3        │ 2      │ 0.01938    │ 0.05917   │ 0                 │ 10000    │ 2     │"
      ]
     },
     "execution_count": 21,
     "metadata": {},
     "output_type": "execute_result"
    }
   ],
   "source": [
    "lines"
   ]
  },
  {
   "cell_type": "markdown",
   "metadata": {},
   "source": [
    "We are only using capacity for this model. The dataset also contains resistance and reactance which we will need to calculate losses."
   ]
  },
  {
   "cell_type": "markdown",
   "metadata": {},
   "source": [
    "### 3. Create solver function (transport_flow)"
   ]
  },
  {
   "cell_type": "code",
   "execution_count": 36,
   "metadata": {},
   "outputs": [
    {
     "data": {
      "text/plain": [
       "transport_flow (generic function with 1 method)"
      ]
     },
     "execution_count": 36,
     "metadata": {},
     "output_type": "execute_result"
    }
   ],
   "source": [
    "#=\n",
    "Function to solve transport flow problem \n",
    "Inputs:\n",
    "    gen_info -- dataframe with generator info\n",
    "    line_info -- dataframe with transmission lines info\n",
    "    loads  -- dataframe with load info\n",
    "Note: it is always a good idea to include a comment blog describing your\n",
    "function's inputs clearly!\n",
    "=#\n",
    "function transport_flow(gens, lines, loads)\n",
    "    Transport = Model(GLPK.Optimizer) # You could use Clp as well, with Clp.Optimizer\n",
    "    \n",
    "    # Define sets based on data\n",
    "      # Set of all generators\n",
    "    G = gens.id\n",
    "    \n",
    "      # Set of all nodes\n",
    "    N = union(unique(gens.connnode), \n",
    "            unique(loads.connnode))\n",
    "    \n",
    "      # sets J_i and G_i will be described using dataframe indexing below\n",
    "\n",
    "    # Decision variables   \n",
    "    @variables(Transport, begin\n",
    "        GEN[G]  >= 0     # generation        \n",
    "        # Note: we assume Pmin = 0 for all resources for simplicty here\n",
    "        FLOW[N,N]        # flow\n",
    "        # Note: flow is not constrained to be positive\n",
    "        # By convention, positive will indicate flow from the first to second node\n",
    "        #  and a negative flow will indicate flow from the second to the first\n",
    "        # This matrix is thus \"anti-symmetric\", which we will ensure with an appropriate\n",
    "        #  constraint\n",
    "    end)\n",
    "                \n",
    "    # Objective function\n",
    "    @objective(Transport, Min, \n",
    "        sum( gens[g,:c0] + gens[g,:c1] * GEN[g] \n",
    "                        for g in G)\n",
    "    )\n",
    "\n",
    "    # Supply demand balances\n",
    "    @constraint(Transport, cBalance[i in N], \n",
    "        sum(GEN[g] for g in gens[gens.connnode .== i,:id]) \n",
    "                + loads[loads.connnode .== i,:demand][1] ==\n",
    "        sum(FLOW[j,i] for j in lines[lines.tonode .== i,:fromnode]))\n",
    "\n",
    "    # Max generation constraint\n",
    "    @constraint(Transport, cMaxGen[g in G],\n",
    "                    GEN[g] <= gens[g,:pgmax])\n",
    "\n",
    "    # Flow constraints\n",
    "    for l in 1:nrow(lines)\n",
    "        @constraint(Transport, \n",
    "            FLOW[lines[l,:fromnode][1],lines[l,:tonode][1]] <= \n",
    "                        lines[l,:capacity])\n",
    "    end\n",
    "    \n",
    "    @constraint(Transport, cFlowSymmetric[i in N, j in N],\n",
    "                    FLOW[j,i] == -FLOW[i,j])\n",
    "\n",
    "    # Solve statement (! indicates runs in place)\n",
    "    optimize!(Transport)\n",
    "\n",
    "    # Dataframe of optimal decision variables\n",
    "    generation = DataFrame(\n",
    "        id = gens.id,\n",
    "        node = gens.connnode,\n",
    "        gen = value.(GEN).data\n",
    "        )\n",
    "    \n",
    "    flows = value.(FLOW).data\n",
    "\n",
    "    # Return the solution and objective as named tuple\n",
    "    return (\n",
    "        generation = generation, \n",
    "        flows,\n",
    "        cost = objective_value(Transport)\n",
    "    )\n",
    "end"
   ]
  },
  {
   "cell_type": "code",
   "execution_count": 37,
   "metadata": {},
   "outputs": [
    {
     "data": {
      "text/html": [
       "<table class=\"data-frame\"><thead><tr><th></th><th>id</th><th>node</th><th>gen</th></tr><tr><th></th><th>Int64</th><th>Int64</th><th>Float64</th></tr></thead><tbody><p>3 rows × 3 columns</p><tr><th>1</th><td>1</td><td>1</td><td>150.0</td></tr><tr><th>2</th><td>2</td><td>2</td><td>100.0</td></tr><tr><th>3</th><td>3</td><td>3</td><td>150.0</td></tr></tbody></table>"
      ],
      "text/latex": [
       "\\begin{tabular}{r|ccc}\n",
       "\t& id & node & gen\\\\\n",
       "\t\\hline\n",
       "\t& Int64 & Int64 & Float64\\\\\n",
       "\t\\hline\n",
       "\t1 & 1 & 1 & 150.0 \\\\\n",
       "\t2 & 2 & 2 & 100.0 \\\\\n",
       "\t3 & 3 & 3 & 150.0 \\\\\n",
       "\\end{tabular}\n"
      ],
      "text/plain": [
       "3×3 DataFrame\n",
       "│ Row │ id    │ node  │ gen     │\n",
       "│     │ \u001b[90mInt64\u001b[39m │ \u001b[90mInt64\u001b[39m │ \u001b[90mFloat64\u001b[39m │\n",
       "├─────┼───────┼───────┼─────────┤\n",
       "│ 1   │ 1     │ 1     │ 150.0   │\n",
       "│ 2   │ 2     │ 2     │ 100.0   │\n",
       "│ 3   │ 3     │ 3     │ 150.0   │"
      ]
     },
     "execution_count": 37,
     "metadata": {},
     "output_type": "execute_result"
    }
   ],
   "source": [
    "solution = transport_flow(gens, lines, loads);\n",
    "solution.generation"
   ]
  },
  {
   "cell_type": "code",
   "execution_count": 38,
   "metadata": {},
   "outputs": [
    {
     "data": {
      "text/plain": [
       "3×3 Array{Float64,2}:\n",
       "   0.0  0.0  50.0\n",
       "   0.0  0.0   0.0\n",
       " -50.0  0.0   0.0"
      ]
     },
     "execution_count": 38,
     "metadata": {},
     "output_type": "execute_result"
    }
   ],
   "source": [
    "solution.flows"
   ]
  },
  {
   "cell_type": "markdown",
   "metadata": {},
   "source": [
    "Hence, the generator located at node 3 (also with id=3) generates 50 MW greater than demand at node 3 and this flows to node 1, which has a total demand of 200. There are no flows into and out of node 2 "
   ]
  },
  {
   "cell_type": "code",
   "execution_count": null,
   "metadata": {},
   "outputs": [],
   "source": []
  },
  {
   "cell_type": "markdown",
   "metadata": {},
   "source": [
    "## EDIT HERE: DC linear approximation\n",
    "We will now introduce a linear approximation to the optimal power flow problem that is tractable and reasonably accurate.\n",
    "\n",
    "$$\n",
    "\\begin{align}\n",
    "\\min \\ & \\sum_{g \\in G} VarCost_g \\times GEN_g & \\\\\n",
    "\\text{s.t.} & \\\\\n",
    " & \\sum_{g \\in G_i} GEN_g - Demand_i = \\sum_{j \\in J_i} FLOW_{ji} & \\forall \\quad i \\in \\mathcal{N}\\\\\n",
    " & FLOW_{ji} \\leq MaxFlow_{ji} & \\forall \\quad i \\in \\mathcal{N}, \\forall j \\in J_i \\\\\n",
    " & FLOW_{ji} = - FLOW_{ij} & \\forall \\quad i, j \\in \\mathcal{N} \\\\\n",
    " & GEN_g \\leq Pmax_g & \\forall \\quad g \\in G \\\\\n",
    " & GEN_g \\geq Pmin_g & \\forall \\quad g \\in G  \n",
    "\\end{align}\n",
    "$$\n",
    "\n",
    "and:\n",
    "\n",
    "$$\n",
    "\\begin{align}\n",
    "\t\t\\mathbf{Objective\\;Function:}\\min_{P_g}\\sum_{g\\in{G}}C_{g}(P_{g})\\longleftarrow\\mathbf{power\\;generation\\; cost}\\\\\n",
    "\t\t\\mathbf{Subject\\;to:\\:}{\\underline{P}_{g}}\\leqslant{P_{g}}\\leqslant{{\\overline{P}_{g}}},\\;\\forall{g\\in{G}}\\longleftarrow\\mathbf{MW\\; generation\\; limits}\\\\\n",
    "\t\tP_{g(i)}-P_{d(i)}\\longleftarrow\\mathbf{real\\; power\\; injection}\\notag\\\\=\\sum_{j\\in J(i)}B_{ij}(\\theta_j-\\theta_i),\\;\\forall{{i}\\in\\mathcal{N}}\\\\\n",
    "\t\t|P_{ij}|\\leqslant{\\overline{P}_{ij}},\\;\\forall{ij}\\in{T}\\longleftarrow\\mathbf{MW\\; line\\; limit}\\\\\n",
    "\\end{align}\n",
    "$$\n",
    " \n",
    "The **decision variable** in the above problem is:\n",
    "\n",
    "- $P_{g}$, the generation (in MW) produced by each generator, $g$\n",
    "- $\\theta_i$, $\\theta_j$ the voltage phase angle of each bus/node, $i,j$\n",
    "\n",
    "The **parameters** are:\n",
    "\n",
    "- ${\\underline{P}_{g}}$, the minimum operating bounds for the generator (based on engineering or natural resource constraints)\n",
    "- ${\\overline{P}_{g}}$, the maximum operating bounds for the generator (based on engineering or natural resource constraints)\n",
    "- $P_{d(i)}$, the demand (in MW) at node $i$\n",
    "- ${\\overline{P}_{ij}}$, the line-flow limit for line connecting buses $i$ and $j$\n",
    "- $B_{ij}$, susceptance for line connecting buses $i$ and $j$\n",
    "\n",
    "just like the ED problem, here also, we can safely ignore fixed costs for the purposes of finding optimal dispatch.\n",
    "\n",
    "In addition, we have:\n",
    "\n",
    "$$\n",
    "VarCost_g = VarOM_g + HeatRate_g \\times FuelCost_g\n",
    "$$\n",
    "\n",
    "With that, let's implement OPF."
   ]
  },
  {
   "cell_type": "code",
   "execution_count": null,
   "metadata": {},
   "outputs": [],
   "source": []
  }
 ],
 "metadata": {
  "kernelspec": {
   "display_name": "Julia 1.3.1",
   "language": "julia",
   "name": "julia-1.3"
  },
  "language_info": {
   "file_extension": ".jl",
   "mimetype": "application/julia",
   "name": "julia",
   "version": "1.3.1"
  }
 },
 "nbformat": 4,
 "nbformat_minor": 4
}
