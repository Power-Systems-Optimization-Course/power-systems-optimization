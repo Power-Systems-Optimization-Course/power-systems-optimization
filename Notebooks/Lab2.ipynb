{
 "cells": [
  {
   "cell_type": "markdown",
   "id": "0babee90-1732-4f57-8794-1fecc74621a4",
   "metadata": {},
   "source": [
    "# Lab 2: Unit commitment under uncertainty"
   ]
  },
  {
   "cell_type": "markdown",
   "id": "066df5a5-9eb9-4837-8383-d3febc9f8fb4",
   "metadata": {},
   "source": [
    "In this lab we will introduce the unit commitment problem **under uncertainty**, following the sequential decision analytics framework introduced in lecture. We will then introduce three policies for solving this problem: deterministic unit commitment, deterministic unit commitment with operating reserves, and stochastic unit commitment. Finally you will be tasked to compare these three policies, and to attempt to find an optimal policy."
   ]
  },
  {
   "cell_type": "markdown",
   "id": "a976f200-912e-4d1d-9283-f6976a7dc421",
   "metadata": {},
   "source": [
    "## The problem"
   ]
  },
  {
   "cell_type": "markdown",
   "id": "6a6fcd2a-b627-40d7-9fd3-b037043af749",
   "metadata": {},
   "source": [
    "In this problem, we are the system operator of the San Diego electric grid, and we have to decide which generators to commit to being on vs off for the next day. **We assume that our decision environment is realistic: we do not actually know the net load for the next day; rather, we only have a forecast.** To simplify the problem, we assume that **all** thermal generators have to be commited in advance; in reality, more flexible generators can often be turned on with just a few hours' notice. We also work with **net load** here instead of overall load, because this is the load that thermal generators have to meet and as a result is the metric that system operators often focus on. See the below example for CAISO:\n",
    "\n",
    "<img src=\"img/net_demand.png\" style=\"width: 700px; height: auto\" align=\"left\">"
   ]
  },
  {
   "cell_type": "markdown",
   "id": "84b8b025-5609-44b4-93ee-1598ca7da8c5",
   "metadata": {},
   "source": [
    "Following the framework introduced in lecture, let's examine our metrics, decisions, and sources of uncertainty:\n",
    "- **Metrics**: we want to minimize costs as measured by start costs, energy costs, and non-served energy (NSE).\n",
    "- **Decision**: which thermal generators to commit to being on for the next day.\n",
    "- **Sources of uncertainty**: variations in net load due to weather and consumer decisions."
   ]
  },
  {
   "cell_type": "markdown",
   "id": "bf738257-18be-4be6-bf01-5e68ccc7a6e8",
   "metadata": {},
   "source": [
    "## How we model the problem"
   ]
  },
  {
   "cell_type": "markdown",
   "id": "9393b9cd-6748-4011-853e-19f4f8a89a9c",
   "metadata": {},
   "source": [
    "We next identify the components of our problem in order to model and simulate it. The components are:\n",
    "\n",
    "- **State variable**\n",
    "    - Static state variable:\n",
    "        - Generator parameters\n",
    "        - Historical net load data\n",
    "        - Non-served energy cost\n",
    "    - Dynamic state variable:\n",
    "        - Previous day's net load, which we use to develop a forecast\n",
    "        - (For a better forecast we might also consider looking at weather forecasts, etc.)\n",
    "- **Decision variable**\n",
    "    - $ x_{G,t} $, the commitment schedule for each generator G at each hour t.\n",
    "- **Exogenous information**\n",
    "    - $ W_{t+1} = $ actual net load, actual energy cost, actual non-served energy (NSE)\n",
    "- **Transition function**\n",
    "    - Update previous day's net load\n",
    "- **Contribution function**\n",
    "    - Sum of start costs (known), energy costs, and NSE costs"
   ]
  },
  {
   "cell_type": "markdown",
   "id": "ee3a2599-265d-4e9a-8be9-0cfeaa1b4d4b",
   "metadata": {},
   "source": [
    "### In this framework, a unit commitment model is a **policy** for making decisions about the decision variable, which is the commitment schedule, at each time step."
   ]
  },
  {
   "cell_type": "markdown",
   "id": "89412d08-0f77-4acf-8093-1f05db80c9f0",
   "metadata": {},
   "source": [
    "Let's now introduce the three types of policies we will compare:\n",
    "\n",
    "- **Deterministic unit commitment**, as previously seen in Notebook 5 (variable descriptions are omitted here for brevity):\n",
    "$$\n",
    "\\begin{align}\n",
    "\\min \\ & \\sum_{g \\in G, t \\in T} VarCost_g \\times GEN_{g,t} + \\sum_{g \\in G_{thermal}, t \\in T} StartUpCost_g \\times START_{g,t} \\\\\n",
    "\\end{align}\n",
    "$$\n",
    "$$\n",
    "\\begin{align}\n",
    "\\text{s.t.} & \\\\\n",
    " & \\sum_{g} GEN_{g,t} = Demand_t & \\forall \\quad t \\in T \\\\\n",
    " & GEN_{g,t} \\leq Pmax_{g,t} & \\forall \\quad g \\notin G_{thermal} , t \\in T \\\\\n",
    " & GEN_{g,t} \\geq Pmin_{g,t} & \\forall \\quad g \\notin G_{thermal} , t \\in T \\\\\n",
    " & GEN_{g,t} \\leq Pmax_{g,t} \\times COMMIT_{g,t} & \\forall \\quad g \\in G_{thermal} , t \\in T \\\\\n",
    " & GEN_{g,t} \\geq Pmin_{g,t} \\times COMMIT_{g,t} & \\forall \\quad g \\in G_{thermal} , t \\in T \\\\\n",
    " & COMMIT_{g,t} \\geq \\sum_{t'≥t-MinUp_g}^{t} START_{g,t} & \\forall \\quad g \\in G_{thermal} , t \\in T \\\\\n",
    " & 1-COMMIT_{g,t} \\geq \\sum_{t'≥t-MinDown_g}^{t} SHUT_{g,t} &\\forall \\quad g \\in G_{thermal} , t \\in T \\\\\n",
    "  & COMMIT_{g,t+1} - COMMIT_{g,t} =&\\\\\n",
    " & \\quad START_{g,t+1} - SHUT_{g,t+1} &\\forall \\quad G_{thermal} \\in G , t = 1..T-1 \\\\\n",
    "  & GENAUX_{g,t} = GEN_{g,t} - Pmin_{g,t}COMMIT_{g,t} & \\forall \\quad g \\in G_{thermal} , t \\in T \\\\\n",
    " & GENAUX_{g,t+1} - GENAUX_{g,t} \\leq RampUp_{g} & \\forall \\quad g \\in G_{thermal} , t = 1..T-1 \\\\\n",
    "  & GENAUX_{g,t} - GENAUX_{g,t+1} \\leq RampDn_{g} & \\forall \\quad g \\in G_{thermal} , t = 1..T-1 \\\\\n",
    " & GEN_{g,t+1} - GEN_{g,t} \\leq RampUp_{g} & \\forall \\quad g \\notin G_{thermal} , t = 1..T-1 \\\\\n",
    "  & GEN_{g,t} - GEN_{g,t+1} \\leq RampDn_{g} & \\forall \\quad g \\notin G_{thermal} , t = 1..T-1  \n",
    "\\end{align}\n",
    "$$"
   ]
  },
  {
   "cell_type": "markdown",
   "id": "4500159c-59c6-4de2-bbd8-5b1be70c18c0",
   "metadata": {},
   "source": [
    "- **Deterministic unit commitment with operating reserves**, which is the same but with the following additions:\n",
    "$$\n",
    "\\begin{align}\n",
    " & ResReqUp_t = 300 MW + 5\\% \\times Demand_t  &\\forall \\quad t \\in T \\\\\n",
    " & ResReqDn_t = 5\\% \\times Demand_t & \\forall \\quad t \\in T\n",
    "\\end{align}\n",
    "$$\n",
    "\n",
    "$$\n",
    "\\begin{align}\n",
    " & RESUP_{g,t} \\leq Pmax_{g,t}COMMIT_{g,t} - GEN_{g,t} & \\forall \\quad g \\in G_{thermal} , t \\in T \\\\\n",
    " & RESDN_{g,t} \\leq GEN_{g,t} - Pmin_{g,t}COMMIT_{g,t} & \\forall \\quad g \\in G_{thermal} , t \\in T \\\\\n",
    " & RESUP_{g,t} \\leq RampUp_{g} & \\forall \\quad g \\in G_{thermal}, t \\in T\\\\ \n",
    " & RESDN_{g,t} \\leq RampDn_{g} & \\forall \\quad g \\in G_{thermal}, t \\in T \\\\\n",
    " & \\sum_{g \\in G_{thermal}} RESUP_{g,t} \\geq ResReqUp_t & \\forall \\quad t \\in T \\\\\n",
    " & \\sum_{g \\in G_{thermal}} RESDN_{g,t} \\geq ResReqDn_t & \\forall \\quad t \\in T\n",
    "\\end{align}\n",
    "$$"
   ]
  },
  {
   "cell_type": "markdown",
   "id": "d55cae94-f9bc-4b3e-b821-fd08efbb0131",
   "metadata": {},
   "source": [
    "- **Stochastic unit commitment**, which simply adds scenarios and averages over them (note the commitment variables are not scenario-specific; we have to decide on only one schedule).\n",
    "$$\n",
    "\\begin{align}\n",
    "\\min \\ & \\sum_{g \\in G, t \\in T, n \\in N} VarCost_g \\times GEN_{g,t,n} * \\frac{1}{N} + \\sum_{g \\in G_{thermal}, t \\in T} StartUpCost_g \\times START_{g,t} \\\\\n",
    "\\end{align}\n",
    "$$\n",
    "$$\n",
    "\\begin{align}\n",
    "\\text{s.t.} & \\\\\n",
    " & \\sum_{g} GEN_{g,t,n} = Demand_t & \\forall \\quad t \\in T \\\\\n",
    " & GEN_{g,t,n} \\leq Pmax_{g,t} & \\forall \\quad g \\notin G_{thermal} , t \\in T, n \\in N \\\\\n",
    " & GEN_{g,t,n} \\geq Pmin_{g,t} & \\forall \\quad g \\notin G_{thermal} , t \\in T, n \\in N  \\\\\n",
    " & GEN_{g,t,n} \\leq Pmax_{g,t} \\times COMMIT_{g,t} & \\forall \\quad g \\in G_{thermal} , t \\in T, n \\in N  \\\\\n",
    " & GEN_{g,t,n} \\geq Pmin_{g,t} \\times COMMIT_{g,t} & \\forall \\quad g \\in G_{thermal} , t \\in T, n \\in N  \\\\\n",
    " & COMMIT_{g,t} \\geq \\sum_{t'≥t-MinUp_g}^{t} START_{g,t} & \\forall \\quad g \\in G_{thermal} , t \\in T \\\\\n",
    " & 1-COMMIT_{g,t} \\geq \\sum_{t'≥t-MinDown_g}^{t} SHUT_{g,t} &\\forall \\quad g \\in G_{thermal} , t \\in T \\\\\n",
    "  & COMMIT_{g,t+1} - COMMIT_{g,t} =&\\\\\n",
    " & \\quad START_{g,t+1} - SHUT_{g,t+1} &\\forall \\quad G_{thermal} \\in G , t = 1..T-1 \\\\\n",
    "  & GENAUX_{g,t,n} = GEN_{g,t,n} - Pmin_{g,t}COMMIT_{g,t} & \\forall \\quad g \\in G_{thermal} , t \\in T, n \\in N  \\\\\n",
    " & GENAUX_{g,t+1,n} - GENAUX_{g,t,n} \\leq RampUp_{g} & \\forall \\quad g \\in G_{thermal} , t = 1..T-1, n \\in N  \\\\\n",
    "  & GENAUX_{g,t,n} - GENAUX_{g,t+1,n} \\leq RampDn_{g} & \\forall \\quad g \\in G_{thermal} , t = 1..T-1, n \\in N  \\\\\n",
    " & GEN_{g,t+1,n} - GEN_{g,t,n} \\leq RampUp_{g} & \\forall \\quad g \\notin G_{thermal} , t = 1..T-1, n \\in N  \\\\\n",
    "  & GEN_{g,t,n} - GEN_{g,t+1,n} \\leq RampDn_{g} & \\forall \\quad g \\notin G_{thermal} , t = 1..T-1, n \\in N   \n",
    "\\end{align}\n",
    "$$"
   ]
  },
  {
   "cell_type": "markdown",
   "id": "5dee6d66-aa3c-4b07-8758-876e972f82ac",
   "metadata": {},
   "source": [
    "Now let's add the code. First we will load in the data, then add the code for each model."
   ]
  },
  {
   "cell_type": "code",
   "execution_count": 3,
   "id": "3a7b5552-bc4c-4d26-b174-df01bf7f06e7",
   "metadata": {},
   "outputs": [
    {
     "data": {
      "text/plain": [
       "value_to_df_2dim (generic function with 1 method)"
      ]
     },
     "execution_count": 3,
     "metadata": {},
     "output_type": "execute_result"
    }
   ],
   "source": [
    "using JuMP, Gurobi\n",
    "using Plots;\n",
    "using VegaLite  # to make some nice plots\n",
    "using DataFrames, CSV, PrettyTables\n",
    "ENV[\"COLUMNS\"]=120; # Set so all columns of DataFrames and Matrices are displayed\n",
    "\n",
    "datadir = joinpath(\"Lab2_data\") \n",
    "gen_info = CSV.read(joinpath(datadir,\"Generators_data.csv\"), DataFrame);\n",
    "fuels = CSV.read(joinpath(datadir,\"Fuels_data.csv\"), DataFrame);\n",
    "loads = CSV.read(joinpath(datadir,\"Demand.csv\"), DataFrame);\n",
    "gen_variable = CSV.read(joinpath(datadir,\"Generators_variability.csv\"), DataFrame);\n",
    "\n",
    "# Rename all columns to lowercase (by convention)\n",
    "for f in [gen_info, fuels, loads, gen_variable]\n",
    "    rename!(f,lowercase.(names(f)))\n",
    "end\n",
    "\n",
    "# Keep columns relevant to our UC model \n",
    "select!(gen_info, 1:26) # columns 1:26\n",
    "gen_df = outerjoin(gen_info,  fuels, on = :fuel) # load in fuel costs and add to data frame\n",
    "rename!(gen_df, :cost_per_mmbtu => :fuel_cost)   # rename column for fuel cost\n",
    "gen_df.fuel_cost[ismissing.(gen_df[:,:fuel_cost])] .= 0\n",
    "\n",
    "# # create \"is_variable\" column to indicate if this is a variable generation source (e.g. wind, solar):\n",
    "gen_df[!, :is_variable] .= false\n",
    "gen_df[in([\"onshore_wind_turbine\",\"small_hydroelectric\",\"solar_photovoltaic\"]).(gen_df.resource),:is_variable] .= true;\n",
    "\n",
    "# create full name of generator (including geographic location and cluster number)\n",
    "#  for use with variable generation dataframe\n",
    "gen_df.gen_full = lowercase.(gen_df.region .* \"_\" .* gen_df.resource .* \"_\" .* string.(gen_df.cluster) .* \".0\");\n",
    "\n",
    "# remove generators with no capacity (e.g. new build options that we'd use if this was capacity expansion problem)\n",
    "gen_df = gen_df[gen_df.existing_cap_mw .> 0,:];\n",
    "\n",
    "# increase solar\n",
    "gen_df[gen_df.resource .== \"solar_photovoltaic\",:existing_cap_mw] .= 2500\n",
    "\n",
    "# convert from GMT to GMT-8\n",
    "gen_variable.hour = mod.(gen_variable.hour .- 9, 8760) .+ 1 \n",
    "sort!(gen_variable, :hour)\n",
    "loads.hour = mod.(loads.hour .- 9, 8760) .+ 1\n",
    "sort!(loads, :hour);\n",
    "\n",
    "# get net load\n",
    "\n",
    "gen_variable_copy = copy(gen_variable)\n",
    "gen_variable_vre = gen_variable_copy[:,end-2:end]\n",
    "vre_gen = vec(sum(Matrix(gen_variable_vre) .* gen_df[end-2:end,:existing_cap_mw]', dims=2))\n",
    "net_load = copy(loads)\n",
    "net_load[!,:demand] = net_load[!,:demand] - vre_gen\n",
    "\n",
    "# remove renewables from generator inputs\n",
    "gen_df_no_vre=copy(gen_df[1:end-3,:])\n",
    "gen_variable_no_vre=copy(gen_variable[:,1:end-3])\n",
    "\n",
    "# # 2. Convert from \"wide\" to \"long\" format\n",
    "gen_variable_long = stack(gen_variable_no_vre, \n",
    "                        Not(:hour), \n",
    "                        variable_name=:gen_full,\n",
    "                        value_name=:cf);\n",
    "\n",
    "function value_to_df_2dim(var)\n",
    "    solution = DataFrame(var.data, :auto)\n",
    "    ax1 = var.axes[1]\n",
    "    ax2 = var.axes[2]\n",
    "    cols = names(solution)\n",
    "    insertcols!(solution, 1, :r_id => ax1)\n",
    "    solution = stack(solution, Not(:r_id), variable_name=:hour)\n",
    "    solution.hour = foldl(replace, [cols[i] => ax2[i] for i in 1:length(ax2)], init=solution.hour)\n",
    "    rename!(solution, :value => :gen)\n",
    "    solution.hour = convert.(Int64,solution.hour)\n",
    "    return solution\n",
    "end"
   ]
  },
  {
   "cell_type": "code",
   "execution_count": 4,
   "id": "3bd4d678-77ae-4633-8975-c342bff199a5",
   "metadata": {},
   "outputs": [
    {
     "data": {
      "text/plain": [
       "unit_commitment_deterministic (generic function with 1 method)"
      ]
     },
     "execution_count": 4,
     "metadata": {},
     "output_type": "execute_result"
    }
   ],
   "source": [
    "function unit_commitment_deterministic(gen_df, loads, mip_gap, nse_cost)\n",
    "    UC = Model(Gurobi.Optimizer)\n",
    "    set_optimizer_attribute(UC, \"MIPGap\", mip_gap) \n",
    "    set_optimizer_attribute(UC, \"OutputFlag\", 0)\n",
    "\n",
    "    # Define sets based on data\n",
    "    # Note the creation of several different sets of generators for use in\n",
    "    # different equations.\n",
    "    G_thermal = gen_df[gen_df[!,:up_time] .> 0,:r_id]\n",
    "    G_nonthermal = gen_df[gen_df[!,:up_time] .== 0,:r_id]\n",
    "    G_nonvar = gen_df[gen_df[!,:is_variable] .== 0,:r_id]\n",
    "    G_nt_nonvar = intersect(G_nonvar, G_nonthermal)\n",
    "    G = gen_df.r_id\n",
    "    T = loads.hour\n",
    "    T_red = loads.hour[1:end-1]  # reduced time periods without last one\n",
    "        \n",
    "    # Decision variables   \n",
    "    @variables(UC, begin\n",
    "        GEN[G, T]  >= 0     # generation\n",
    "        GENAUX[G_thermal, T] >= 0 # auxiliary generation variable\n",
    "        COMMIT[G_thermal, T], Bin # commitment status (Bin=binary)\n",
    "        START[G_thermal, T], Bin  # startup decision\n",
    "        SHUT[G_thermal, T], Bin   # shutdown decision\n",
    "        NSE[T]>=0 #non-served energy\n",
    "    end)\n",
    "\n",
    "    @expression(UC, eStartCost, sum(\n",
    "            gen_df[gen_df.r_id .== i,:start_cost_per_mw][1] * \n",
    "            gen_df[gen_df.r_id .== i,:existing_cap_mw][1] *\n",
    "            START[i,t] \n",
    "            for i in G_thermal for t in T))\n",
    "                \n",
    "    # Objective function\n",
    "    @objective(UC, Min, sum(\n",
    "            (\n",
    "                gen_df[gen_df.r_id .== i,:heat_rate_mmbtu_per_mwh][1] * gen_df[gen_df.r_id .== i,:fuel_cost][1]\n",
    "                + gen_df[gen_df.r_id .== i,:var_om_cost_per_mwh][1]\n",
    "            )\n",
    "            * GEN[i,t] \n",
    "            for i in G_nonvar for t in T\n",
    "        )\n",
    "        + eStartCost\n",
    "        + sum(NSE[t]*nse_cost for t in T)\n",
    "    )\n",
    "    \n",
    "    # Demand constraint\n",
    "    @constraint(UC, cDemand[t in T], \n",
    "        sum(GEN[i,t] for i in G) + NSE[t] == loads[loads.hour .== t,:demand][1])\n",
    "\n",
    "    # Capacity constraints (thermal generators requiring commitment)\n",
    "    @constraint(UC, Cap_thermal_min[i in G_thermal, t in T], \n",
    "        GEN[i,t] >= COMMIT[i, t] * gen_df[gen_df.r_id .== i,:existing_cap_mw][1] *\n",
    "                        gen_df[gen_df.r_id .== i,:min_power][1])\n",
    "    @constraint(UC, Cap_thermal_max[i in G_thermal, t in T], \n",
    "        GEN[i,t] <= COMMIT[i, t] * gen_df[gen_df.r_id .== i,:existing_cap_mw][1])\n",
    "\n",
    "    # Capacity constraints (non-variable generation not requiring commitment)\n",
    "    @constraint(UC, Cap_nt_nonvar[i in G_nt_nonvar, t in T], \n",
    "        GEN[i,t] <= gen_df[gen_df.r_id .== i,:existing_cap_mw][1])\n",
    "    \n",
    "    # Unit commitment constraints\n",
    "    @constraint(UC, Startup[i in G_thermal, t in T],\n",
    "        COMMIT[i, t] >= sum(START[i, tt] \n",
    "                        for tt in intersect(T,\n",
    "                            (t-gen_df[gen_df.r_id .== i,:up_time][1]):t)))\n",
    "\n",
    "    @constraint(UC, Shutdown[i in G_thermal, t in T],\n",
    "        1-COMMIT[i, t] >= sum(SHUT[i, tt] \n",
    "                        for tt in intersect(T,\n",
    "                            (t-gen_df[gen_df.r_id .== i,:down_time][1]):t)))\n",
    "    \n",
    "    @constraint(UC, CommitmentStatus[i in G_thermal, t in T_red],\n",
    "        COMMIT[i,t+1] - COMMIT[i,t] == START[i,t+1] - SHUT[i,t+1])\n",
    "    \n",
    "    # New auxiliary variable GENAUX for generation above the minimum output level\n",
    "    # for committed thermal units (only created for thermal generators)\n",
    "    @constraint(UC, AuxGen[i in G_thermal, t in T],\n",
    "        GENAUX[i,t] == GEN[i,t] - COMMIT[i, t] * gen_df[gen_df.r_id .== i,:existing_cap_mw][1] *\n",
    "                        gen_df[gen_df.r_id .== i,:min_power][1])\n",
    "    \n",
    "    # Ramp equations for thermal generators (constraining GENAUX)\n",
    "    @constraint(UC, RampUp_thermal[i in G_thermal, t in T_red], \n",
    "        GENAUX[i,t+1] - GENAUX[i,t] <= gen_df[gen_df.r_id .== i,:existing_cap_mw][1] * \n",
    "                                 gen_df[gen_df.r_id .== i,:ramp_up_percentage][1] )\n",
    "\n",
    "    @constraint(UC, RampDn_thermal[i in G_thermal, t in T_red], \n",
    "        GENAUX[i,t] - GENAUX[i,t+1] <= gen_df[gen_df.r_id .== i,:existing_cap_mw][1] * \n",
    "                                 gen_df[gen_df.r_id .== i,:ramp_dn_percentage][1] )\n",
    "\n",
    "    # Ramp equations for non-thermal generators (constraining total generation GEN)\n",
    "    @constraint(UC, RampUp_nonthermal[i in G_nonthermal, t in T_red], \n",
    "        GEN[i,t+1] - GEN[i,t] <= gen_df[gen_df.r_id .== i,:existing_cap_mw][1] * \n",
    "                                 gen_df[gen_df.r_id .== i,:ramp_up_percentage][1] )\n",
    "\n",
    "    @constraint(UC, RampDn[i in G, t in T_red], \n",
    "        GEN[i,t] - GEN[i,t+1] <= gen_df[gen_df.r_id .== i,:existing_cap_mw][1] * \n",
    "                                 gen_df[gen_df.r_id .== i,:ramp_dn_percentage][1] )\n",
    "      \n",
    "    \n",
    "    # Solve statement (! indicates runs in place)\n",
    "    optimize!(UC)\n",
    "\n",
    "    # Generation solution\n",
    "    gen = value_to_df_2dim(value.(GEN))\n",
    "\n",
    "    # Commitment status solution\n",
    "    commit = value_to_df_2dim(value.(COMMIT))\n",
    "    rename!(commit, \"gen\" => \"commit\")\n",
    "\n",
    "    nse=value.(NSE).data\n",
    "    \n",
    "    # Return the solution and objective as named tuple\n",
    "    return (\n",
    "        gen,\n",
    "        commit,\n",
    "        nse,\n",
    "        cost = objective_value(UC),\n",
    "        status = termination_status(UC),\n",
    "        start_cost = value.(eStartCost),\n",
    "    )\n",
    "\n",
    "end"
   ]
  },
  {
   "cell_type": "code",
   "execution_count": 5,
   "id": "1a5dd7a3-f4e1-4409-9a85-6f3b310d11bc",
   "metadata": {},
   "outputs": [
    {
     "data": {
      "text/plain": [
       "unit_commitment_reserves (generic function with 1 method)"
      ]
     },
     "execution_count": 5,
     "metadata": {},
     "output_type": "execute_result"
    }
   ],
   "source": [
    "function unit_commitment_reserves(gen_df, loads, mip_gap, nse_cost, reserve_requirement_pct)\n",
    "    UC = Model(Gurobi.Optimizer)\n",
    "    set_optimizer_attribute(UC, \"MIPGap\", mip_gap)\n",
    "    set_optimizer_attribute(UC, \"OutputFlag\", 0)\n",
    "\n",
    "    # Define sets based on data\n",
    "    # Note the creation of several different sets of generators for use in\n",
    "    # different equations.\n",
    "    G_thermal = gen_df[gen_df[!,:up_time] .> 0,:r_id]\n",
    "    G_nonthermal = gen_df[gen_df[!,:up_time] .== 0,:r_id]\n",
    "    G_nonvar = gen_df[gen_df[!,:is_variable] .== 0,:r_id]\n",
    "    G_nt_nonvar = intersect(G_nonvar, G_nonthermal)\n",
    "    G = gen_df.r_id\n",
    "    T = loads.hour\n",
    "    T_red = loads.hour[1:end-1]  # reduced time periods without last one\n",
    "    \n",
    "    # Compute reserve requirements\n",
    "    ResReqUp = Dict(T[i] => 300  \n",
    "              + reserve_requirement_pct * loads[loads.hour .== T[i],:demand][1]\n",
    "                    for i in 1:length(T))\n",
    "    ResReqDn = Dict(T[i] => 0\n",
    "              + reserve_requirement_pct * loads[loads.hour .== T[i],:demand][1]                    \n",
    "                    for i in 1:length(T))\n",
    "    \n",
    "    # Decision variables   \n",
    "    @variables(UC, begin\n",
    "        GEN[G, T]  >= 0     # generation\n",
    "        GENAUX[G_thermal, T] >= 0 # auxiliary generation variable\n",
    "        COMMIT[G_thermal, T], Bin # commitment status (Bin=binary)\n",
    "        START[G_thermal, T], Bin  # startup decision\n",
    "        SHUT[G_thermal, T], Bin   # shutdown decision\n",
    "        RESUP[G_thermal, T]       # up reserve capacity\n",
    "        RESDN[G_thermal, T]       # down reserve capacity\n",
    "        NSE[T]>=0 #non-served energy\n",
    "    end)\n",
    "\n",
    "    @expression(UC, eStartCost, sum(\n",
    "            gen_df[gen_df.r_id .== i,:start_cost_per_mw][1] * \n",
    "            gen_df[gen_df.r_id .== i,:existing_cap_mw][1] *\n",
    "            START[i,t] \n",
    "            for i in G_thermal for t in T))\n",
    "                \n",
    "    # Objective function\n",
    "    @objective(UC, Min, \n",
    "        sum(\n",
    "            (\n",
    "                gen_df[gen_df.r_id .== i,:heat_rate_mmbtu_per_mwh][1] * gen_df[gen_df.r_id .== i,:fuel_cost][1]\n",
    "                + gen_df[gen_df.r_id .== i,:var_om_cost_per_mwh][1]\n",
    "            ) * GEN[i,t] \n",
    "            for i in G_nonvar for t in T\n",
    "        )\n",
    "        + eStartCost\n",
    "        + sum(NSE[t]*nse_cost for t in T)\n",
    "    )\n",
    "    \n",
    "    # Demand constraint\n",
    "    @constraint(UC, cDemand[t in T], \n",
    "        sum(GEN[i,t] for i in G) + NSE[t] == loads[loads.hour .== t,:demand][1])\n",
    "\n",
    "    # Capacity constraints (thermal generators requiring commitment)\n",
    "    @constraint(UC, Cap_thermal_min[i in G_thermal, t in T], \n",
    "        GEN[i,t] >= COMMIT[i, t] * gen_df[gen_df.r_id .== i,:existing_cap_mw][1] *\n",
    "                        gen_df[gen_df.r_id .== i,:min_power][1])\n",
    "    @constraint(UC, Cap_thermal_max[i in G_thermal, t in T], \n",
    "        GEN[i,t] <= COMMIT[i, t] * gen_df[gen_df.r_id .== i,:existing_cap_mw][1])\n",
    "\n",
    "    # Capacity constraints (non-variable generation not requiring commitment)\n",
    "    @constraint(UC, Cap_nt_nonvar[i in G_nt_nonvar, t in T], \n",
    "        GEN[i,t] <= gen_df[gen_df.r_id .== i,:existing_cap_mw][1])\n",
    "    \n",
    "    # Unit commitment constraints\n",
    "    @constraint(UC, Startup[i in G_thermal, t in T],\n",
    "        COMMIT[i, t] >= sum(START[i, tt] \n",
    "                        for tt in intersect(T,\n",
    "                            (t-gen_df[gen_df.r_id .== i,:up_time][1]):t)))\n",
    "\n",
    "    @constraint(UC, Shutdown[i in G_thermal, t in T],\n",
    "        1-COMMIT[i, t] >= sum(SHUT[i, tt] \n",
    "                        for tt in intersect(T,\n",
    "                            (t-gen_df[gen_df.r_id .== i,:down_time][1]):t)))\n",
    "    \n",
    "    @constraint(UC, CommitmentStatus[i in G_thermal, t in T_red],\n",
    "        COMMIT[i,t+1] - COMMIT[i,t] == START[i,t+1] - SHUT[i,t+1])\n",
    "    \n",
    "    # Auxiliary variable\n",
    "    @constraint(UC, AuxGen[i in G_thermal, t in T],\n",
    "        GENAUX[i,t] == GEN[i,t] - COMMIT[i, t] * gen_df[gen_df.r_id .== i,:existing_cap_mw][1] *\n",
    "                        gen_df[gen_df.r_id .== i,:min_power][1])\n",
    "    \n",
    "    # Ramp equations (thermal generators)\n",
    "    @constraint(UC, RampUp_thermal[i in G_thermal, t in T_red], \n",
    "        GENAUX[i,t+1] - GENAUX[i,t] <= gen_df[gen_df.r_id .== i,:existing_cap_mw][1] * \n",
    "                                 gen_df[gen_df.r_id .== i,:ramp_up_percentage][1] )\n",
    "\n",
    "    @constraint(UC, RampDn_thermal[i in G_thermal, t in T_red], \n",
    "        GENAUX[i,t] - GENAUX[i,t+1] <= gen_df[gen_df.r_id .== i,:existing_cap_mw][1] * \n",
    "                                 gen_df[gen_df.r_id .== i,:ramp_dn_percentage][1] )\n",
    "\n",
    "    # Ramp equations (non-thermal generators)\n",
    "    @constraint(UC, RampUp_nonthermal[i in G_nonthermal, t in T_red], \n",
    "        GEN[i,t+1] - GEN[i,t] <= gen_df[gen_df.r_id .== i,:existing_cap_mw][1] * \n",
    "                                 gen_df[gen_df.r_id .== i,:ramp_up_percentage][1] )\n",
    "\n",
    "    @constraint(UC, RampDn[i in G, t in T_red], \n",
    "        GEN[i,t] - GEN[i,t+1] <= gen_df[gen_df.r_id .== i,:existing_cap_mw][1] * \n",
    "                                 gen_df[gen_df.r_id .== i,:ramp_dn_percentage][1] )\n",
    "      \n",
    "    # Reserve equations\n",
    "    # (1) Reserves limited by committed capacity of generator\n",
    "    @constraint(UC, ResUpCap[i in G_thermal, t in T],\n",
    "        RESUP[i,t] <= COMMIT[i, t] * gen_df[gen_df.r_id .== i,:existing_cap_mw][1]\n",
    "                        - GEN[i,t])\n",
    "\n",
    "    @constraint(UC, ResDnCap[i in G_thermal, t in T],\n",
    "        RESDN[i,t] <= GEN[i,t] - \n",
    "                        COMMIT[i, t] * gen_df[gen_df.r_id .== i,:existing_cap_mw][1] *\n",
    "                        gen_df[gen_df.r_id .== i,:min_power][1])\n",
    "\n",
    "    # (2) Reserves limited by ramp rates\n",
    "    @constraint(UC, ResUpRamp[i in G_thermal, t in T],\n",
    "        RESUP[i,t] <= gen_df[gen_df.r_id .== i,:existing_cap_mw][1] * \n",
    "                          gen_df[gen_df.r_id .== i,:ramp_up_percentage][1])\n",
    "\n",
    "    @constraint(UC, ResDnRamp[i in G_thermal, t in T],\n",
    "        RESDN[i,t] <= gen_df[gen_df.r_id .== i,:existing_cap_mw][1] * \n",
    "                          gen_df[gen_df.r_id .== i,:ramp_dn_percentage][1])\n",
    "\n",
    "    # (3) Overall reserve requirements\n",
    "    @constraint(UC, ResUpRequirement[t in T],\n",
    "        sum(RESUP[i,t] for i in G_thermal) >= \n",
    "                ResReqUp[t])\n",
    "\n",
    "    @constraint(UC, ResDnRequirement[t in T],\n",
    "        sum(RESDN[i,t] for i in G_thermal) >= \n",
    "                ResReqDn[t])\n",
    "\n",
    "    # Solve statement (! indicates runs in place)\n",
    "    optimize!(UC)\n",
    "\n",
    "    # Generation solution\n",
    "    gen = value_to_df_2dim(value.(GEN))\n",
    "\n",
    "    # Commitment status solution\n",
    "    commit = value_to_df_2dim(value.(COMMIT))\n",
    "    rename!(commit, \"gen\" => \"commit\")\n",
    "\n",
    "    nse=value.(NSE).data\n",
    "    \n",
    "    # Return the solution and objective as named tuple\n",
    "    return (\n",
    "        gen,\n",
    "        commit,\n",
    "        nse,\n",
    "        cost = objective_value(UC),\n",
    "        status = termination_status(UC),\n",
    "        start_cost = value.(eStartCost)\n",
    "    )\n",
    "\n",
    "end"
   ]
  },
  {
   "cell_type": "code",
   "execution_count": 6,
   "id": "e40a4bed-6f4a-4997-bff7-034f8879088c",
   "metadata": {},
   "outputs": [
    {
     "data": {
      "text/plain": [
       "unit_commitment_stochastic (generic function with 1 method)"
      ]
     },
     "execution_count": 6,
     "metadata": {},
     "output_type": "execute_result"
    }
   ],
   "source": [
    "function unit_commitment_stochastic(gen_df, loads::Matrix, mip_gap, nse_cost)\n",
    "    # loads is now a 24xn matrix where n is the number of scenarios\n",
    "    UC = Model(Gurobi.Optimizer)\n",
    "    set_optimizer_attribute(UC, \"MIPGap\", mip_gap) \n",
    "    set_optimizer_attribute(UC, \"OutputFlag\", 0)\n",
    "\n",
    "    # Define sets based on data\n",
    "    # Note the creation of several different sets of generators for use in\n",
    "    # different equations.\n",
    "    G_thermal = gen_df[gen_df[!,:up_time] .> 0,:r_id]\n",
    "    G_nonthermal = gen_df[gen_df[!,:up_time] .== 0,:r_id]\n",
    "    G_nonvar = gen_df[gen_df[!,:is_variable] .== 0,:r_id]\n",
    "    G_nt_nonvar = intersect(G_nonvar, G_nonthermal)\n",
    "    G = gen_df.r_id\n",
    "    T = Vector(1:24)\n",
    "    T_red = T[1:end-1]  # reduced time periods without last one\n",
    "    num_scenarios = size(loads)[2]\n",
    "    N = 1:num_scenarios\n",
    "        \n",
    "    # Decision variables   \n",
    "    @variables(UC, begin\n",
    "        GEN[G, T, N]  >= 0     # generation\n",
    "        GENAUX[G_thermal, T, N] >= 0 # auxiliary generation variable\n",
    "        COMMIT[G_thermal, T], Bin # commitment status (Bin=binary)- not scenario specific\n",
    "        START[G_thermal, T], Bin  # startup decision- not scenario specific\n",
    "        SHUT[G_thermal, T], Bin   # shutdown decision- not scenario specific\n",
    "        NSE[T, N]>=0 #non-served energy\n",
    "    end)\n",
    "\n",
    "    @expression(UC, eStartCost, sum(\n",
    "            gen_df[gen_df.r_id .== i,:start_cost_per_mw][1] * \n",
    "            gen_df[gen_df.r_id .== i,:existing_cap_mw][1] *\n",
    "            START[i,t] \n",
    "            for i in G_thermal for t in T))\n",
    "\n",
    "    # Objective function\n",
    "    @objective(UC, Min, sum(\n",
    "            (\n",
    "                gen_df[gen_df.r_id .== i,:heat_rate_mmbtu_per_mwh][1] * gen_df[gen_df.r_id .== i,:fuel_cost][1]\n",
    "                + gen_df[gen_df.r_id .== i,:var_om_cost_per_mwh][1]\n",
    "            )\n",
    "            * GEN[i,t,n] \n",
    "            for i in G_nonvar for t in T for n in N\n",
    "        ) / num_scenarios\n",
    "        + eStartCost\n",
    "        + sum(NSE[t,n]*nse_cost for t in T for n in N) / num_scenarios\n",
    "    )\n",
    "    \n",
    "    # Demand constraint\n",
    "    @constraint(UC, cDemand[t in T, n in N],\n",
    "        sum(GEN[i,t,n] for i in G) + NSE[t,n] == loads[t,n])\n",
    "\n",
    "    # Capacity constraints (thermal generators requiring commitment)\n",
    "    @constraint(UC, Cap_thermal_min[i in G_thermal, t in T, n in N], \n",
    "        GEN[i,t,n] >= COMMIT[i, t] * gen_df[gen_df.r_id .== i,:existing_cap_mw][1] *\n",
    "                        gen_df[gen_df.r_id .== i,:min_power][1])\n",
    "    @constraint(UC, Cap_thermal_max[i in G_thermal, t in T, n in N], \n",
    "        GEN[i,t,n] <= COMMIT[i, t] * gen_df[gen_df.r_id .== i,:existing_cap_mw][1])\n",
    "\n",
    "    # Capacity constraints (non-variable generation not requiring commitment)\n",
    "    @constraint(UC, Cap_nt_nonvar[i in G_nt_nonvar, t in T, n in N], \n",
    "        GEN[i,t,n] <= gen_df[gen_df.r_id .== i,:existing_cap_mw][1])\n",
    "    \n",
    "    # Unit commitment constraints\n",
    "    @constraint(UC, Startup[i in G_thermal, t in T],\n",
    "        COMMIT[i, t] >= sum(START[i, tt] \n",
    "                        for tt in intersect(T,\n",
    "                            (t-gen_df[gen_df.r_id .== i,:up_time][1]):t)))\n",
    "\n",
    "    @constraint(UC, Shutdown[i in G_thermal, t in T],\n",
    "        1-COMMIT[i, t] >= sum(SHUT[i, tt] \n",
    "                        for tt in intersect(T,\n",
    "                            (t-gen_df[gen_df.r_id .== i,:down_time][1]):t)))\n",
    "    \n",
    "    @constraint(UC, CommitmentStatus[i in G_thermal, t in T_red],\n",
    "        COMMIT[i,t+1] - COMMIT[i,t] == START[i,t+1] - SHUT[i,t+1])\n",
    "    \n",
    "    # New auxiliary variable GENAUX for generation above the minimum output level\n",
    "    # for committed thermal units (only created for thermal generators)\n",
    "    @constraint(UC, AuxGen[i in G_thermal, t in T, n in N],\n",
    "        GENAUX[i,t,n] == GEN[i,t,n] - COMMIT[i, t] * gen_df[gen_df.r_id .== i,:existing_cap_mw][1] *\n",
    "                        gen_df[gen_df.r_id .== i,:min_power][1])\n",
    "    \n",
    "    # Ramp equations for thermal generators (constraining GENAUX)\n",
    "    @constraint(UC, RampUp_thermal[i in G_thermal, t in T_red, n in N], \n",
    "        GENAUX[i,t+1,n] - GENAUX[i,t,n] <= gen_df[gen_df.r_id .== i,:existing_cap_mw][1] * \n",
    "                                 gen_df[gen_df.r_id .== i,:ramp_up_percentage][1] )\n",
    "\n",
    "    @constraint(UC, RampDn_thermal[i in G_thermal, t in T_red, n in N], \n",
    "        GENAUX[i,t,n] - GENAUX[i,t+1,n] <= gen_df[gen_df.r_id .== i,:existing_cap_mw][1] * \n",
    "                                 gen_df[gen_df.r_id .== i,:ramp_dn_percentage][1] )\n",
    "\n",
    "    # Ramp equations for non-thermal generators (constraining total generation GEN)\n",
    "    @constraint(UC, RampUp_nonthermal[i in G_nonthermal, t in T_red, n in N], \n",
    "        GEN[i,t+1,n] - GEN[i,t,n] <= gen_df[gen_df.r_id .== i,:existing_cap_mw][1] * \n",
    "                                 gen_df[gen_df.r_id .== i,:ramp_up_percentage][1] )\n",
    "\n",
    "    @constraint(UC, RampDn[i in G, t in T_red, n in N], \n",
    "        GEN[i,t,n] - GEN[i,t+1,n] <= gen_df[gen_df.r_id .== i,:existing_cap_mw][1] * \n",
    "                                 gen_df[gen_df.r_id .== i,:ramp_dn_percentage][1] )\n",
    "      \n",
    "    \n",
    "    # Solve statement (! indicates runs in place)\n",
    "    optimize!(UC)\n",
    "\n",
    "    # Generation solution\n",
    "    gen_all_scenarios=Dict()\n",
    "    for n in N\n",
    "        gen_all_scenarios[n] = value_to_df_2dim(value.(GEN[:,:,n]))\n",
    "    end\n",
    "\n",
    "    # Commitment status solution\n",
    "    commit = value_to_df_2dim(value.(COMMIT))\n",
    "    rename!(commit, \"gen\" => \"commit\")\n",
    "\n",
    "    nse=value.(NSE).data\n",
    "    \n",
    "    # Return the solution and objective as named tuple\n",
    "    return (\n",
    "        gen_all_scenarios,\n",
    "        commit,\n",
    "        nse,\n",
    "        cost = objective_value(UC),\n",
    "        status = termination_status(UC),\n",
    "        start_cost = value.(eStartCost)\n",
    "    )\n",
    "\n",
    "end"
   ]
  },
  {
   "cell_type": "code",
   "execution_count": 7,
   "id": "12d703a6-b144-4381-afbb-a6ca3bc2b3b9",
   "metadata": {},
   "outputs": [
    {
     "data": {
      "text/plain": [
       "economic_dispatch (generic function with 1 method)"
      ]
     },
     "execution_count": 7,
     "metadata": {},
     "output_type": "execute_result"
    }
   ],
   "source": [
    "# We also need an economic dispatch function:\n",
    "\n",
    "function economic_dispatch(gen_df, loads, mip_gap, commit, nse_cost)\n",
    "    UC = Model(Gurobi.Optimizer)\n",
    "    set_optimizer_attribute(UC, \"MIPGap\", mip_gap)\n",
    "    set_optimizer_attribute(UC, \"OutputFlag\", 0)\n",
    "\n",
    "    # Define sets based on data\n",
    "    # Note the creation of several different sets of generators for use in\n",
    "    # different equations.\n",
    "    G_thermal = gen_df[gen_df[!,:up_time] .> 0,:r_id]\n",
    "    G_nonthermal = gen_df[gen_df[!,:up_time] .== 0,:r_id]\n",
    "    G_nonvar = gen_df[gen_df[!,:is_variable] .== 0,:r_id]\n",
    "    G_nt_nonvar = intersect(G_nonvar, G_nonthermal)\n",
    "    G = gen_df.r_id\n",
    "    T = loads.hour\n",
    "    T_red = loads.hour[1:end-1]  # reduced time periods without last one\n",
    "        \n",
    "    # Decision variables   \n",
    "    @variables(UC, begin\n",
    "        GEN[G, T]  >= 0     # generation\n",
    "        GENAUX[G_thermal, T] >= 0 # auxiliary generation variable\n",
    "        COMMIT[G_thermal, T] # commitment status (will be fixed to input commit state)\n",
    "        1>=START[G_thermal, T]>=0  # startup decision\n",
    "        1>=SHUT[G_thermal, T]>=0   # shutdown decision\n",
    "        NSE[T]>=0 #non-served energy\n",
    "    end)\n",
    "                \n",
    "    # Objective function (broken out with expressions so we can output)\n",
    "    \n",
    "    @expression(UC, eEnergyCost, sum((\n",
    "                gen_df[gen_df.r_id .== i,:heat_rate_mmbtu_per_mwh][1] * gen_df[gen_df.r_id .== i,:fuel_cost][1]\n",
    "                + gen_df[gen_df.r_id .== i,:var_om_cost_per_mwh][1]\n",
    "            ) * GEN[i,t] \n",
    "            for i in G_nonvar for t in T))\n",
    "\n",
    "    @expression(UC, eStartCost, sum(\n",
    "            gen_df[gen_df.r_id .== i,:start_cost_per_mw][1] * \n",
    "            gen_df[gen_df.r_id .== i,:existing_cap_mw][1] *\n",
    "            START[i,t] \n",
    "            for i in G_thermal for t in T))\n",
    "\n",
    "    @expression(UC, eNSECost, sum(NSE[t]*nse_cost for t in T))\n",
    "    \n",
    "    @objective(UC, Min, eEnergyCost + eStartCost + eNSECost)\n",
    "\n",
    "    # Constrain commit status to inputs\n",
    "    @constraint(UC, cCommit[i in G_thermal, t in T],\n",
    "        COMMIT[i,t] == commit[(commit.r_id.==i) .& (commit.hour.==t),\"commit\"][1])\n",
    "    \n",
    "    # Demand constraint\n",
    "    @constraint(UC, cDemand[t in T], \n",
    "        sum(GEN[i,t] for i in G) + NSE[t] == loads[loads.hour .== t,:demand][1])\n",
    "\n",
    "    # Capacity constraints (thermal generators requiring commitment)\n",
    "    @constraint(UC, Cap_thermal_min[i in G_thermal, t in T], \n",
    "        GEN[i,t] >= COMMIT[i, t] * gen_df[gen_df.r_id .== i,:existing_cap_mw][1] *\n",
    "                        gen_df[gen_df.r_id .== i,:min_power][1])\n",
    "    @constraint(UC, Cap_thermal_max[i in G_thermal, t in T], \n",
    "        GEN[i,t] <= COMMIT[i, t] * gen_df[gen_df.r_id .== i,:existing_cap_mw][1])\n",
    "\n",
    "    # Capacity constraints (non-variable generation not requiring commitment)\n",
    "    @constraint(UC, Cap_nt_nonvar[i in G_nt_nonvar, t in T], \n",
    "        GEN[i,t] <= gen_df[gen_df.r_id .== i,:existing_cap_mw][1])\n",
    "\n",
    "    # still need to define start and shut so we can get start costs\n",
    "    @constraint(UC, CommitmentStatus[i in G_thermal, t in T_red],\n",
    "        COMMIT[i,t+1] - COMMIT[i,t] == START[i,t+1] - SHUT[i,t+1])\n",
    "    \n",
    "    # New auxiliary variable GENAUX for generation above the minimum output level\n",
    "    # for committed thermal units (only created for thermal generators)\n",
    "    @constraint(UC, AuxGen[i in G_thermal, t in T],\n",
    "        GENAUX[i,t] == GEN[i,t] - COMMIT[i, t] * gen_df[gen_df.r_id .== i,:existing_cap_mw][1] *\n",
    "                        gen_df[gen_df.r_id .== i,:min_power][1])\n",
    "    \n",
    "    # Ramp equations for thermal generators (constraining GENAUX)\n",
    "    @constraint(UC, RampUp_thermal[i in G_thermal, t in T_red], \n",
    "        GENAUX[i,t+1] - GENAUX[i,t] <= gen_df[gen_df.r_id .== i,:existing_cap_mw][1] * \n",
    "                                 gen_df[gen_df.r_id .== i,:ramp_up_percentage][1] )\n",
    "\n",
    "    @constraint(UC, RampDn_thermal[i in G_thermal, t in T_red], \n",
    "        GENAUX[i,t] - GENAUX[i,t+1] <= gen_df[gen_df.r_id .== i,:existing_cap_mw][1] * \n",
    "                                 gen_df[gen_df.r_id .== i,:ramp_dn_percentage][1] )\n",
    "\n",
    "    # Ramp equations for non-thermal generators (constraining total generation GEN)\n",
    "    @constraint(UC, RampUp_nonthermal[i in G_nonthermal, t in T_red], \n",
    "        GEN[i,t+1] - GEN[i,t] <= gen_df[gen_df.r_id .== i,:existing_cap_mw][1] * \n",
    "                                 gen_df[gen_df.r_id .== i,:ramp_up_percentage][1] )\n",
    "\n",
    "    @constraint(UC, RampDn[i in G, t in T_red], \n",
    "        GEN[i,t] - GEN[i,t+1] <= gen_df[gen_df.r_id .== i,:existing_cap_mw][1] * \n",
    "                                 gen_df[gen_df.r_id .== i,:ramp_dn_percentage][1] )\n",
    "      \n",
    "    \n",
    "    # Solve statement (! indicates runs in place)\n",
    "    optimize!(UC)\n",
    "\n",
    "    # Generation solution\n",
    "    gen = value_to_df_2dim(value.(GEN))\n",
    "\n",
    "    nse=value.(NSE).data\n",
    "    \n",
    "    # Return the solution and objective as named tuple\n",
    "    return (\n",
    "        gen,\n",
    "        nse,\n",
    "        cost = objective_value(UC),\n",
    "        status = termination_status(UC),\n",
    "        start_cost = value.(eStartCost),\n",
    "        energy_cost = value.(eEnergyCost),\n",
    "        nse_cost = value.(eNSECost)\n",
    "    )\n",
    "\n",
    "end"
   ]
  },
  {
   "cell_type": "code",
   "execution_count": null,
   "id": "c16cdb41-e56f-401a-a2c9-2406f1a0619b",
   "metadata": {},
   "outputs": [],
   "source": []
  },
  {
   "cell_type": "markdown",
   "id": "045e72cb-21b6-4657-b62d-50e5a0d876cd",
   "metadata": {},
   "source": [
    "Let's demonstrate what the stochastic unit commitment model is doing:"
   ]
  },
  {
   "cell_type": "code",
   "execution_count": 9,
   "id": "4808eb6a-9af2-4982-8a26-df4cdb6dc66f",
   "metadata": {},
   "outputs": [
    {
     "name": "stdout",
     "output_type": "stream",
     "text": [
      "Set parameter Username\n",
      "Academic license - for non-commercial use only - expires 2025-06-27\n",
      "Set parameter MIPGap to value 0.01\n",
      "Set parameter MIPGap to value 0.01\n"
     ]
    },
    {
     "data": {
      "application/vnd.vega.v5+json": {
       "$schema": "https://vega.github.io/schema/vega/v5.json",
       "axes": [
        {
         "aria": false,
         "domain": false,
         "grid": true,
         "gridScale": "y",
         "labels": false,
         "maxExtent": 0,
         "minExtent": 0,
         "orient": "bottom",
         "scale": "x",
         "tickCount": {
          "signal": "ceil(width/40)"
         },
         "ticks": false,
         "zindex": 0
        },
        {
         "aria": false,
         "domain": false,
         "grid": true,
         "gridScale": "x",
         "labels": false,
         "maxExtent": 0,
         "minExtent": 0,
         "orient": "left",
         "scale": "y",
         "tickCount": {
          "signal": "ceil(height/40)"
         },
         "ticks": false,
         "zindex": 0
        },
        {
         "grid": false,
         "labelFlush": true,
         "labelOverlap": true,
         "orient": "bottom",
         "scale": "x",
         "tickCount": {
          "signal": "ceil(width/40)"
         },
         "title": "hour",
         "zindex": 0
        },
        {
         "grid": false,
         "labelOverlap": true,
         "orient": "left",
         "scale": "y",
         "tickCount": {
          "signal": "ceil(height/40)"
         },
         "title": "gen_sum",
         "zindex": 0
        }
       ],
       "background": "white",
       "data": [
        {
         "name": "source_0",
         "values": [
          {
           "gen_sum": 21.4,
           "hour": 1,
           "resource": "biomass"
          },
          {
           "gen_sum": 42,
           "hour": 1,
           "resource": "hydroelectric_pumped_storage"
          },
          {
           "gen_sum": 1385.106268,
           "hour": 1,
           "resource": "natural_gas_fired_combined_cycle"
          },
          {
           "gen_sum": 0,
           "hour": 1,
           "resource": "natural_gas_fired_combustion_turbine"
          },
          {
           "gen_sum": 21.4,
           "hour": 2,
           "resource": "biomass"
          },
          {
           "gen_sum": 42,
           "hour": 2,
           "resource": "hydroelectric_pumped_storage"
          },
          {
           "gen_sum": 1316.621788,
           "hour": 2,
           "resource": "natural_gas_fired_combined_cycle"
          },
          {
           "gen_sum": 0,
           "hour": 2,
           "resource": "natural_gas_fired_combustion_turbine"
          },
          {
           "gen_sum": 21.4,
           "hour": 3,
           "resource": "biomass"
          },
          {
           "gen_sum": 42,
           "hour": 3,
           "resource": "hydroelectric_pumped_storage"
          },
          {
           "gen_sum": 1336.304668,
           "hour": 3,
           "resource": "natural_gas_fired_combined_cycle"
          },
          {
           "gen_sum": 0,
           "hour": 3,
           "resource": "natural_gas_fired_combustion_turbine"
          },
          {
           "gen_sum": 21.4,
           "hour": 4,
           "resource": "biomass"
          },
          {
           "gen_sum": 42,
           "hour": 4,
           "resource": "hydroelectric_pumped_storage"
          },
          {
           "gen_sum": 1394.8621079999998,
           "hour": 4,
           "resource": "natural_gas_fired_combined_cycle"
          },
          {
           "gen_sum": 0,
           "hour": 4,
           "resource": "natural_gas_fired_combustion_turbine"
          },
          {
           "gen_sum": 21.4,
           "hour": 5,
           "resource": "biomass"
          },
          {
           "gen_sum": 42,
           "hour": 5,
           "resource": "hydroelectric_pumped_storage"
          },
          {
           "gen_sum": 1585.8377879999998,
           "hour": 5,
           "resource": "natural_gas_fired_combined_cycle"
          },
          {
           "gen_sum": 0,
           "hour": 5,
           "resource": "natural_gas_fired_combustion_turbine"
          },
          {
           "gen_sum": 21.4,
           "hour": 6,
           "resource": "biomass"
          },
          {
           "gen_sum": 42,
           "hour": 6,
           "resource": "hydroelectric_pumped_storage"
          },
          {
           "gen_sum": 1770.238108,
           "hour": 6,
           "resource": "natural_gas_fired_combined_cycle"
          },
          {
           "gen_sum": 0,
           "hour": 6,
           "resource": "natural_gas_fired_combustion_turbine"
          },
          {
           "gen_sum": 21.4,
           "hour": 7,
           "resource": "biomass"
          },
          {
           "gen_sum": 42,
           "hour": 7,
           "resource": "hydroelectric_pumped_storage"
          },
          {
           "gen_sum": 1994.985228,
           "hour": 7,
           "resource": "natural_gas_fired_combined_cycle"
          },
          {
           "gen_sum": 0,
           "hour": 7,
           "resource": "natural_gas_fired_combustion_turbine"
          },
          {
           "gen_sum": 21.4,
           "hour": 8,
           "resource": "biomass"
          },
          {
           "gen_sum": 42,
           "hour": 8,
           "resource": "hydroelectric_pumped_storage"
          },
          {
           "gen_sum": 1928.291628,
           "hour": 8,
           "resource": "natural_gas_fired_combined_cycle"
          },
          {
           "gen_sum": 0,
           "hour": 8,
           "resource": "natural_gas_fired_combustion_turbine"
          },
          {
           "gen_sum": 21.4,
           "hour": 9,
           "resource": "biomass"
          },
          {
           "gen_sum": 42,
           "hour": 9,
           "resource": "hydroelectric_pumped_storage"
          },
          {
           "gen_sum": 1410.058908,
           "hour": 9,
           "resource": "natural_gas_fired_combined_cycle"
          },
          {
           "gen_sum": 0,
           "hour": 9,
           "resource": "natural_gas_fired_combustion_turbine"
          },
          {
           "gen_sum": 21.4,
           "hour": 10,
           "resource": "biomass"
          },
          {
           "gen_sum": 42,
           "hour": 10,
           "resource": "hydroelectric_pumped_storage"
          },
          {
           "gen_sum": 1385.604108,
           "hour": 10,
           "resource": "natural_gas_fired_combined_cycle"
          },
          {
           "gen_sum": 0,
           "hour": 10,
           "resource": "natural_gas_fired_combustion_turbine"
          },
          {
           "gen_sum": 21.4,
           "hour": 11,
           "resource": "biomass"
          },
          {
           "gen_sum": 42,
           "hour": 11,
           "resource": "hydroelectric_pumped_storage"
          },
          {
           "gen_sum": 1437.471468,
           "hour": 11,
           "resource": "natural_gas_fired_combined_cycle"
          },
          {
           "gen_sum": 0,
           "hour": 11,
           "resource": "natural_gas_fired_combustion_turbine"
          },
          {
           "gen_sum": 21.4,
           "hour": 12,
           "resource": "biomass"
          },
          {
           "gen_sum": 42,
           "hour": 12,
           "resource": "hydroelectric_pumped_storage"
          },
          {
           "gen_sum": 1269.5549879999999,
           "hour": 12,
           "resource": "natural_gas_fired_combined_cycle"
          },
          {
           "gen_sum": 0,
           "hour": 12,
           "resource": "natural_gas_fired_combustion_turbine"
          },
          {
           "gen_sum": 21.4,
           "hour": 13,
           "resource": "biomass"
          },
          {
           "gen_sum": 42,
           "hour": 13,
           "resource": "hydroelectric_pumped_storage"
          },
          {
           "gen_sum": 1012.8216280000001,
           "hour": 13,
           "resource": "natural_gas_fired_combined_cycle"
          },
          {
           "gen_sum": 0,
           "hour": 13,
           "resource": "natural_gas_fired_combustion_turbine"
          },
          {
           "gen_sum": 21.4,
           "hour": 14,
           "resource": "biomass"
          },
          {
           "gen_sum": 42,
           "hour": 14,
           "resource": "hydroelectric_pumped_storage"
          },
          {
           "gen_sum": 920.9725879999999,
           "hour": 14,
           "resource": "natural_gas_fired_combined_cycle"
          },
          {
           "gen_sum": 0,
           "hour": 14,
           "resource": "natural_gas_fired_combustion_turbine"
          },
          {
           "gen_sum": 21.4,
           "hour": 15,
           "resource": "biomass"
          },
          {
           "gen_sum": 42,
           "hour": 15,
           "resource": "hydroelectric_pumped_storage"
          },
          {
           "gen_sum": 901.9439479999999,
           "hour": 15,
           "resource": "natural_gas_fired_combined_cycle"
          },
          {
           "gen_sum": 0,
           "hour": 15,
           "resource": "natural_gas_fired_combustion_turbine"
          },
          {
           "gen_sum": 21.4,
           "hour": 16,
           "resource": "biomass"
          },
          {
           "gen_sum": 42,
           "hour": 16,
           "resource": "hydroelectric_pumped_storage"
          },
          {
           "gen_sum": 926.254508,
           "hour": 16,
           "resource": "natural_gas_fired_combined_cycle"
          },
          {
           "gen_sum": 0,
           "hour": 16,
           "resource": "natural_gas_fired_combustion_turbine"
          },
          {
           "gen_sum": 21.4,
           "hour": 17,
           "resource": "biomass"
          },
          {
           "gen_sum": 42,
           "hour": 17,
           "resource": "hydroelectric_pumped_storage"
          },
          {
           "gen_sum": 1128.7297879999999,
           "hour": 17,
           "resource": "natural_gas_fired_combined_cycle"
          },
          {
           "gen_sum": 0,
           "hour": 17,
           "resource": "natural_gas_fired_combustion_turbine"
          },
          {
           "gen_sum": 21.4,
           "hour": 18,
           "resource": "biomass"
          },
          {
           "gen_sum": 42,
           "hour": 18,
           "resource": "hydroelectric_pumped_storage"
          },
          {
           "gen_sum": 1419.7961879999998,
           "hour": 18,
           "resource": "natural_gas_fired_combined_cycle"
          },
          {
           "gen_sum": 0,
           "hour": 18,
           "resource": "natural_gas_fired_combustion_turbine"
          },
          {
           "gen_sum": 21.4,
           "hour": 19,
           "resource": "biomass"
          },
          {
           "gen_sum": 42,
           "hour": 19,
           "resource": "hydroelectric_pumped_storage"
          },
          {
           "gen_sum": 2073.853588,
           "hour": 19,
           "resource": "natural_gas_fired_combined_cycle"
          },
          {
           "gen_sum": 65.6958,
           "hour": 19,
           "resource": "natural_gas_fired_combustion_turbine"
          },
          {
           "gen_sum": 21.4,
           "hour": 20,
           "resource": "biomass"
          },
          {
           "gen_sum": 42,
           "hour": 20,
           "resource": "hydroelectric_pumped_storage"
          },
          {
           "gen_sum": 2238.5507879999996,
           "hour": 20,
           "resource": "natural_gas_fired_combined_cycle"
          },
          {
           "gen_sum": 134.43580000000003,
           "hour": 20,
           "resource": "natural_gas_fired_combustion_turbine"
          },
          {
           "gen_sum": 21.4,
           "hour": 21,
           "resource": "biomass"
          },
          {
           "gen_sum": 42,
           "hour": 21,
           "resource": "hydroelectric_pumped_storage"
          },
          {
           "gen_sum": 2233.0624679999996,
           "hour": 21,
           "resource": "natural_gas_fired_combined_cycle"
          },
          {
           "gen_sum": 134.43580000000003,
           "hour": 21,
           "resource": "natural_gas_fired_combustion_turbine"
          },
          {
           "gen_sum": 21.4,
           "hour": 22,
           "resource": "biomass"
          },
          {
           "gen_sum": 42,
           "hour": 22,
           "resource": "hydroelectric_pumped_storage"
          },
          {
           "gen_sum": 2030.6526279999998,
           "hour": 22,
           "resource": "natural_gas_fired_combined_cycle"
          },
          {
           "gen_sum": 64.7138,
           "hour": 22,
           "resource": "natural_gas_fired_combustion_turbine"
          },
          {
           "gen_sum": 21.4,
           "hour": 23,
           "resource": "biomass"
          },
          {
           "gen_sum": 42,
           "hour": 23,
           "resource": "hydroelectric_pumped_storage"
          },
          {
           "gen_sum": 1730.2321479999996,
           "hour": 23,
           "resource": "natural_gas_fired_combined_cycle"
          },
          {
           "gen_sum": 64.7138,
           "hour": 23,
           "resource": "natural_gas_fired_combustion_turbine"
          },
          {
           "gen_sum": 21.4,
           "hour": 24,
           "resource": "biomass"
          },
          {
           "gen_sum": 42,
           "hour": 24,
           "resource": "hydroelectric_pumped_storage"
          },
          {
           "gen_sum": 1548.9939479999998,
           "hour": 24,
           "resource": "natural_gas_fired_combined_cycle"
          },
          {
           "gen_sum": 0,
           "hour": 24,
           "resource": "natural_gas_fired_combustion_turbine"
          },
          {
           "gen_sum": 0,
           "hour": 1,
           "resource": "non_served_energy"
          },
          {
           "gen_sum": 0,
           "hour": 2,
           "resource": "non_served_energy"
          },
          {
           "gen_sum": 0,
           "hour": 3,
           "resource": "non_served_energy"
          },
          {
           "gen_sum": 0,
           "hour": 4,
           "resource": "non_served_energy"
          },
          {
           "gen_sum": 0,
           "hour": 5,
           "resource": "non_served_energy"
          },
          {
           "gen_sum": 0,
           "hour": 6,
           "resource": "non_served_energy"
          },
          {
           "gen_sum": 0,
           "hour": 7,
           "resource": "non_served_energy"
          },
          {
           "gen_sum": 0,
           "hour": 8,
           "resource": "non_served_energy"
          },
          {
           "gen_sum": 0,
           "hour": 9,
           "resource": "non_served_energy"
          },
          {
           "gen_sum": 0,
           "hour": 10,
           "resource": "non_served_energy"
          },
          {
           "gen_sum": 0,
           "hour": 11,
           "resource": "non_served_energy"
          },
          {
           "gen_sum": 0,
           "hour": 12,
           "resource": "non_served_energy"
          },
          {
           "gen_sum": 0,
           "hour": 13,
           "resource": "non_served_energy"
          },
          {
           "gen_sum": 0,
           "hour": 14,
           "resource": "non_served_energy"
          },
          {
           "gen_sum": 0,
           "hour": 15,
           "resource": "non_served_energy"
          },
          {
           "gen_sum": 0,
           "hour": 16,
           "resource": "non_served_energy"
          },
          {
           "gen_sum": 0,
           "hour": 17,
           "resource": "non_served_energy"
          },
          {
           "gen_sum": 0,
           "hour": 18,
           "resource": "non_served_energy"
          },
          {
           "gen_sum": 0,
           "hour": 19,
           "resource": "non_served_energy"
          },
          {
           "gen_sum": 0,
           "hour": 20,
           "resource": "non_served_energy"
          },
          {
           "gen_sum": 0,
           "hour": 21,
           "resource": "non_served_energy"
          },
          {
           "gen_sum": 0,
           "hour": 22,
           "resource": "non_served_energy"
          },
          {
           "gen_sum": 0,
           "hour": 23,
           "resource": "non_served_energy"
          },
          {
           "gen_sum": 0,
           "hour": 24,
           "resource": "non_served_energy"
          }
         ]
        },
        {
         "name": "data_0",
         "source": "source_0",
         "transform": [
          {
           "as": "hour",
           "expr": "toNumber(datum[\"hour\"])",
           "type": "formula"
          },
          {
           "field": "gen_sum",
           "groupby": [
            "resource"
           ],
           "key": "hour",
           "method": "value",
           "type": "impute",
           "value": 0
          },
          {
           "as": [
            "gen_sum_start",
            "gen_sum_end"
           ],
           "field": "gen_sum",
           "groupby": [
            "hour"
           ],
           "offset": "zero",
           "sort": {
            "field": [
             "resource"
            ],
            "order": [
             "descending"
            ]
           },
           "type": "stack"
          }
         ]
        }
       ],
       "height": 200,
       "legends": [
        {
         "fill": "color",
         "symbolType": "circle",
         "title": "resource"
        }
       ],
       "marks": [
        {
         "encode": {
          "update": {
           "height": {
            "field": {
             "group": "height"
            }
           },
           "width": {
            "field": {
             "group": "width"
            }
           }
          }
         },
         "from": {
          "facet": {
           "data": "data_0",
           "groupby": [
            "resource"
           ],
           "name": "faceted_path_main"
          }
         },
         "marks": [
          {
           "encode": {
            "update": {
             "defined": {
              "signal": "isValid(datum[\"hour\"]) && isFinite(+datum[\"hour\"]) && isValid(datum[\"gen_sum\"]) && isFinite(+datum[\"gen_sum\"])"
             },
             "description": {
              "signal": "\"hour: \" + (format(datum[\"hour\"], \"\")) + \"; gen_sum: \" + (format(datum[\"gen_sum\"], \"\")) + \"; resource: \" + (isValid(datum[\"resource\"]) ? datum[\"resource\"] : \"\"+datum[\"resource\"])"
             },
             "fill": {
              "field": "resource",
              "scale": "color"
             },
             "orient": {
              "value": "vertical"
             },
             "x": {
              "field": "hour",
              "scale": "x"
             },
             "y": {
              "field": "gen_sum_end",
              "scale": "y"
             },
             "y2": {
              "field": "gen_sum_start",
              "scale": "y"
             }
            }
           },
           "from": {
            "data": "faceted_path_main"
           },
           "name": "marks",
           "sort": {
            "field": "datum[\"hour\"]"
           },
           "style": [
            "area"
           ],
           "type": "area"
          }
         ],
         "name": "pathgroup",
         "type": "group"
        }
       ],
       "padding": 5,
       "scales": [
        {
         "domain": {
          "data": "data_0",
          "field": "hour"
         },
         "name": "x",
         "nice": true,
         "range": [
          0,
          {
           "signal": "width"
          }
         ],
         "type": "linear",
         "zero": false
        },
        {
         "domain": {
          "data": "data_0",
          "fields": [
           "gen_sum_start",
           "gen_sum_end"
          ]
         },
         "name": "y",
         "nice": true,
         "range": [
          {
           "signal": "height"
          },
          0
         ],
         "type": "linear",
         "zero": true
        },
        {
         "domain": {
          "data": "data_0",
          "field": "resource",
          "sort": true
         },
         "name": "color",
         "range": {
          "scheme": "category10"
         },
         "type": "ordinal"
        }
       ],
       "style": "cell",
       "title": {
        "frame": "group",
        "text": "scenario 1"
       },
       "width": 200
      },
      "image/png": "[encoded data removed]",
      "image/svg+xml": [
       "<svg xmlns=\"http://www.w3.org/2000/svg\" xmlns:xlink=\"http://www.w3.org/1999/xlink\" version=\"1.1\" class=\"marks\" width=\"450\" height=\"259\" viewBox=\"0 0 450 259\"><rect width=\"450\" height=\"259\" fill=\"white\"/><g fill=\"none\" stroke-miterlimit=\"10\" transform=\"translate(53,22)\"><g class=\"mark-group role-frame root\" role=\"graphics-object\" aria-roledescription=\"group mark container\"><g transform=\"translate(0,0)\"><path class=\"background\" aria-hidden=\"true\" d=\"M0.5,0.5h200v200h-200Z\" stroke=\"#ddd\"/><g><g class=\"mark-group role-axis\" aria-hidden=\"true\"><g transform=\"translate(0.5,200.5)\"><path class=\"background\" aria-hidden=\"true\" d=\"M0,0h0v0h0Z\" pointer-events=\"none\"/><g><g class=\"mark-rule role-axis-grid\" pointer-events=\"none\"><line transform=\"translate(0,-200)\" x2=\"0\" y2=\"200\" stroke=\"#ddd\" stroke-width=\"1\" opacity=\"1\"/><line transform=\"translate(42,-200)\" x2=\"0\" y2=\"200\" stroke=\"#ddd\" stroke-width=\"1\" opacity=\"1\"/><line transform=\"translate(83,-200)\" x2=\"0\" y2=\"200\" stroke=\"#ddd\" stroke-width=\"1\" opacity=\"1\"/><line transform=\"translate(125,-200)\" x2=\"0\" y2=\"200\" stroke=\"#ddd\" stroke-width=\"1\" opacity=\"1\"/><line transform=\"translate(167,-200)\" x2=\"0\" y2=\"200\" stroke=\"#ddd\" stroke-width=\"1\" opacity=\"1\"/></g></g><path class=\"foreground\" aria-hidden=\"true\" d=\"\" pointer-events=\"none\" display=\"none\"/></g></g><g class=\"mark-group role-axis\" aria-hidden=\"true\"><g transform=\"translate(0.5,0.5)\"><path class=\"background\" aria-hidden=\"true\" d=\"M0,0h0v0h0Z\" pointer-events=\"none\"/><g><g class=\"mark-rule role-axis-grid\" pointer-events=\"none\"><line transform=\"translate(0,200)\" x2=\"200\" y2=\"0\" stroke=\"#ddd\" stroke-width=\"1\" opacity=\"1\"/><line transform=\"translate(0,162)\" x2=\"200\" y2=\"0\" stroke=\"#ddd\" stroke-width=\"1\" opacity=\"1\"/><line transform=\"translate(0,123)\" x2=\"200\" y2=\"0\" stroke=\"#ddd\" stroke-width=\"1\" opacity=\"1\"/><line transform=\"translate(0,85)\" x2=\"200\" y2=\"0\" stroke=\"#ddd\" stroke-width=\"1\" opacity=\"1\"/><line transform=\"translate(0,46)\" x2=\"200\" y2=\"0\" stroke=\"#ddd\" stroke-width=\"1\" opacity=\"1\"/><line transform=\"translate(0,8)\" x2=\"200\" y2=\"0\" stroke=\"#ddd\" stroke-width=\"1\" opacity=\"1\"/></g></g><path class=\"foreground\" aria-hidden=\"true\" d=\"\" pointer-events=\"none\" display=\"none\"/></g></g><g class=\"mark-group role-axis\" role=\"graphics-symbol\" aria-roledescription=\"axis\" aria-label=\"X-axis titled 'hour' for a linear scale with values from 0 to 24\"><g transform=\"translate(0.5,200.5)\"><path class=\"background\" aria-hidden=\"true\" d=\"M0,0h0v0h0Z\" pointer-events=\"none\"/><g><g class=\"mark-rule role-axis-tick\" pointer-events=\"none\"><line transform=\"translate(0,0)\" x2=\"0\" y2=\"5\" stroke=\"#888\" stroke-width=\"1\" opacity=\"1\"/><line transform=\"translate(42,0)\" x2=\"0\" y2=\"5\" stroke=\"#888\" stroke-width=\"1\" opacity=\"1\"/><line transform=\"translate(83,0)\" x2=\"0\" y2=\"5\" stroke=\"#888\" stroke-width=\"1\" opacity=\"1\"/><line transform=\"translate(125,0)\" x2=\"0\" y2=\"5\" stroke=\"#888\" stroke-width=\"1\" opacity=\"1\"/><line transform=\"translate(167,0)\" x2=\"0\" y2=\"5\" stroke=\"#888\" stroke-width=\"1\" opacity=\"1\"/></g><g class=\"mark-text role-axis-label\" pointer-events=\"none\"><text text-anchor=\"start\" transform=\"translate(0,15)\" font-family=\"sans-serif\" font-size=\"10px\" fill=\"#000\" opacity=\"1\">0</text><text text-anchor=\"middle\" transform=\"translate(41.66666666666667,15)\" font-family=\"sans-serif\" font-size=\"10px\" fill=\"#000\" opacity=\"1\">5</text><text text-anchor=\"middle\" transform=\"translate(83.33333333333334,15)\" font-family=\"sans-serif\" font-size=\"10px\" fill=\"#000\" opacity=\"1\">10</text><text text-anchor=\"middle\" transform=\"translate(125,15)\" font-family=\"sans-serif\" font-size=\"10px\" fill=\"#000\" opacity=\"1\">15</text><text text-anchor=\"middle\" transform=\"translate(166.66666666666669,15)\" font-family=\"sans-serif\" font-size=\"10px\" fill=\"#000\" opacity=\"1\">20</text></g><g class=\"mark-rule role-axis-domain\" pointer-events=\"none\"><line transform=\"translate(0,0)\" x2=\"200\" y2=\"0\" stroke=\"#888\" stroke-width=\"1\" opacity=\"1\"/></g><g class=\"mark-text role-axis-title\" pointer-events=\"none\"><text text-anchor=\"middle\" transform=\"translate(100,30)\" font-family=\"sans-serif\" font-size=\"11px\" font-weight=\"bold\" fill=\"#000\" opacity=\"1\">hour</text></g></g><path class=\"foreground\" aria-hidden=\"true\" d=\"\" pointer-events=\"none\" display=\"none\"/></g></g><g class=\"mark-group role-axis\" role=\"graphics-symbol\" aria-roledescription=\"axis\" aria-label=\"Y-axis titled 'gen_sum' for a linear scale with values from 0 to 2,600\"><g transform=\"translate(0.5,0.5)\"><path class=\"background\" aria-hidden=\"true\" d=\"M0,0h0v0h0Z\" pointer-events=\"none\"/><g><g class=\"mark-rule role-axis-tick\" pointer-events=\"none\"><line transform=\"translate(0,200)\" x2=\"-5\" y2=\"0\" stroke=\"#888\" stroke-width=\"1\" opacity=\"1\"/><line transform=\"translate(0,162)\" x2=\"-5\" y2=\"0\" stroke=\"#888\" stroke-width=\"1\" opacity=\"1\"/><line transform=\"translate(0,123)\" x2=\"-5\" y2=\"0\" stroke=\"#888\" stroke-width=\"1\" opacity=\"1\"/><line transform=\"translate(0,85)\" x2=\"-5\" y2=\"0\" stroke=\"#888\" stroke-width=\"1\" opacity=\"1\"/><line transform=\"translate(0,46)\" x2=\"-5\" y2=\"0\" stroke=\"#888\" stroke-width=\"1\" opacity=\"1\"/><line transform=\"translate(0,8)\" x2=\"-5\" y2=\"0\" stroke=\"#888\" stroke-width=\"1\" opacity=\"1\"/></g><g class=\"mark-text role-axis-label\" pointer-events=\"none\"><text text-anchor=\"end\" transform=\"translate(-7,203)\" font-family=\"sans-serif\" font-size=\"10px\" fill=\"#000\" opacity=\"1\">0</text><text text-anchor=\"end\" transform=\"translate(-7,164.53846153846155)\" font-family=\"sans-serif\" font-size=\"10px\" fill=\"#000\" opacity=\"1\">500</text><text text-anchor=\"end\" transform=\"translate(-7,126.07692307692308)\" font-family=\"sans-serif\" font-size=\"10px\" fill=\"#000\" opacity=\"1\">1,000</text><text text-anchor=\"end\" transform=\"translate(-7,87.61538461538463)\" font-family=\"sans-serif\" font-size=\"10px\" fill=\"#000\" opacity=\"1\">1,500</text><text text-anchor=\"end\" transform=\"translate(-7,49.153846153846146)\" font-family=\"sans-serif\" font-size=\"10px\" fill=\"#000\" opacity=\"1\">2,000</text><text text-anchor=\"end\" transform=\"translate(-7,10.692307692307686)\" font-family=\"sans-serif\" font-size=\"10px\" fill=\"#000\" opacity=\"1\">2,500</text></g><g class=\"mark-rule role-axis-domain\" pointer-events=\"none\"><line transform=\"translate(0,200)\" x2=\"0\" y2=\"-200\" stroke=\"#888\" stroke-width=\"1\" opacity=\"1\"/></g><g class=\"mark-text role-axis-title\" pointer-events=\"none\"><text text-anchor=\"middle\" transform=\"translate(-36.0244140625,100) rotate(-90) translate(0,-2)\" font-family=\"sans-serif\" font-size=\"11px\" font-weight=\"bold\" fill=\"#000\" opacity=\"1\">gen_sum</text></g></g><path class=\"foreground\" aria-hidden=\"true\" d=\"\" pointer-events=\"none\" display=\"none\"/></g></g><g class=\"mark-group role-scope pathgroup\" role=\"graphics-object\" aria-roledescription=\"group mark container\"><g transform=\"translate(0,0)\"><path class=\"background\" aria-hidden=\"true\" d=\"M0,0h200v200h-200Z\"/><g><g class=\"mark-area role-mark marks\" role=\"graphics-object\" aria-roledescription=\"area mark container\"><path aria-label=\"hour: 1; gen_sum: 21.4; resource: biomass\" role=\"graphics-symbol\" aria-roledescription=\"area mark\" d=\"M8.333,88.576L16.667,93.844L25,92.33L33.333,87.826L41.667,73.136L50,58.951L58.333,41.663L66.667,46.793L75,86.657L83.333,88.538L91.667,84.548L100,97.465L108.333,117.214L116.667,124.279L125,125.743L133.333,123.873L141.667,108.298L150,85.908L158.333,30.542L166.667,12.586L175,13.008L183.333,33.941L191.667,57.05L200,75.97L200,77.616L191.667,58.696L183.333,35.587L175,14.654L166.667,14.232L158.333,32.189L150,87.554L141.667,109.944L133.333,125.519L125,127.389L116.667,125.925L108.333,118.86L100,99.111L91.667,86.195L83.333,90.184L75,88.303L66.667,48.439L58.333,43.309L50,60.597L41.667,74.782L33.333,89.472L25,93.977L16.667,95.491L8.333,90.223Z\" fill=\"#1f77b4\"/></g></g><path class=\"foreground\" aria-hidden=\"true\" d=\"\" display=\"none\"/></g><g transform=\"translate(0,0)\"><path class=\"background\" aria-hidden=\"true\" d=\"M0,0h200v200h-200Z\"/><g><g class=\"mark-area role-mark marks\" role=\"graphics-object\" aria-roledescription=\"area mark container\"><path aria-label=\"hour: 1; gen_sum: 42; resource: hydroelectric_pumped_storage\" role=\"graphics-symbol\" aria-roledescription=\"area mark\" d=\"M8.333,90.223L16.667,95.491L25,93.977L33.333,89.472L41.667,74.782L50,60.597L58.333,43.309L66.667,48.439L75,88.303L83.333,90.184L91.667,86.195L100,99.111L108.333,118.86L116.667,125.925L125,127.389L133.333,125.519L141.667,109.944L150,87.554L158.333,32.189L166.667,14.232L175,14.654L183.333,35.587L191.667,58.696L200,77.616L200,80.847L191.667,61.927L183.333,38.818L175,17.885L166.667,17.463L158.333,35.419L150,90.785L141.667,113.175L133.333,128.75L125,130.62L116.667,129.156L108.333,122.091L100,102.342L91.667,89.425L83.333,93.415L75,91.534L66.667,51.67L58.333,46.54L50,63.828L41.667,78.012L33.333,92.703L25,97.207L16.667,98.721L8.333,93.453Z\" fill=\"#ff7f0e\"/></g></g><path class=\"foreground\" aria-hidden=\"true\" d=\"\" display=\"none\"/></g><g transform=\"translate(0,0)\"><path class=\"background\" aria-hidden=\"true\" d=\"M0,0h200v200h-200Z\"/><g><g class=\"mark-area role-mark marks\" role=\"graphics-object\" aria-roledescription=\"area mark container\"><path aria-label=\"hour: 1; gen_sum: 1385.106268; resource: natural_gas_fired_combined_cycle\" role=\"graphics-symbol\" aria-roledescription=\"area mark\" d=\"M8.333,93.453L16.667,98.721L25,97.207L33.333,92.703L41.667,78.012L50,63.828L58.333,46.54L66.667,51.67L75,91.534L83.333,93.415L91.667,89.425L100,102.342L108.333,122.091L116.667,129.156L125,130.62L133.333,128.75L141.667,113.175L150,90.785L158.333,35.419L166.667,17.463L175,17.885L183.333,38.818L191.667,61.927L200,80.847L200,200L191.667,195.022L183.333,195.022L175,189.659L166.667,189.659L158.333,194.946L150,200L141.667,200L133.333,200L125,200L116.667,200L108.333,200L100,200L91.667,200L83.333,200L75,200L66.667,200L58.333,200L50,200L41.667,200L33.333,200L25,200L16.667,200L8.333,200Z\" fill=\"#2ca02c\"/></g></g><path class=\"foreground\" aria-hidden=\"true\" d=\"\" display=\"none\"/></g><g transform=\"translate(0,0)\"><path class=\"background\" aria-hidden=\"true\" d=\"M0,0h200v200h-200Z\"/><g><g class=\"mark-area role-mark marks\" role=\"graphics-object\" aria-roledescription=\"area mark container\"><path aria-label=\"hour: 1; gen_sum: 0; resource: natural_gas_fired_combustion_turbine\" role=\"graphics-symbol\" aria-roledescription=\"area mark\" d=\"M8.333,200L16.667,200L25,200L33.333,200L41.667,200L50,200L58.333,200L66.667,200L75,200L83.333,200L91.667,200L100,200L108.333,200L116.667,200L125,200L133.333,200L141.667,200L150,200L158.333,194.946L166.667,189.659L175,189.659L183.333,195.022L191.667,195.022L200,200L200,200L191.667,200L183.333,200L175,200L166.667,200L158.333,200L150,200L141.667,200L133.333,200L125,200L116.667,200L108.333,200L100,200L91.667,200L83.333,200L75,200L66.667,200L58.333,200L50,200L41.667,200L33.333,200L25,200L16.667,200L8.333,200Z\" fill=\"#d62728\"/></g></g><path class=\"foreground\" aria-hidden=\"true\" d=\"\" display=\"none\"/></g><g transform=\"translate(0,0)\"><path class=\"background\" aria-hidden=\"true\" d=\"M0,0h200v200h-200Z\"/><g><g class=\"mark-area role-mark marks\" role=\"graphics-object\" aria-roledescription=\"area mark container\"><path aria-label=\"hour: 1; gen_sum: 0; resource: non_served_energy\" role=\"graphics-symbol\" aria-roledescription=\"area mark\" d=\"M8.333,200L16.667,200L25,200L33.333,200L41.667,200L50,200L58.333,200L66.667,200L75,200L83.333,200L91.667,200L100,200L108.333,200L116.667,200L125,200L133.333,200L141.667,200L150,200L158.333,200L166.667,200L175,200L183.333,200L191.667,200L200,200L200,200L191.667,200L183.333,200L175,200L166.667,200L158.333,200L150,200L141.667,200L133.333,200L125,200L116.667,200L108.333,200L100,200L91.667,200L83.333,200L75,200L66.667,200L58.333,200L50,200L41.667,200L33.333,200L25,200L16.667,200L8.333,200Z\" fill=\"#9467bd\"/></g></g><path class=\"foreground\" aria-hidden=\"true\" d=\"\" display=\"none\"/></g></g><g class=\"mark-group role-legend\" role=\"graphics-symbol\" aria-roledescription=\"legend\" aria-label=\"Symbol legend titled 'resource' for fill color with 5 values: biomass, hydroelectric_pumped_storage, natural_gas_fired_combined_cycle, natural_gas_fired_combustion_turbine, non_served_energy\"><g transform=\"translate(218,0)\"><path class=\"background\" aria-hidden=\"true\" d=\"M0,0h174v79h-174Z\" pointer-events=\"none\"/><g><g class=\"mark-group role-legend-entry\"><g transform=\"translate(0,16)\"><path class=\"background\" aria-hidden=\"true\" d=\"M0,0h0v0h0Z\" pointer-events=\"none\"/><g><g class=\"mark-group role-scope\" role=\"graphics-object\" aria-roledescription=\"group mark container\"><g transform=\"translate(0,0)\"><path class=\"background\" aria-hidden=\"true\" d=\"M0,0h173.8759765625v11h-173.8759765625Z\" pointer-events=\"none\" opacity=\"1\"/><g><g class=\"mark-symbol role-legend-symbol\" pointer-events=\"none\"><path transform=\"translate(6,6)\" d=\"M5,0A5,5,0,1,1,-5,0A5,5,0,1,1,5,0\" fill=\"#1f77b4\" stroke-width=\"1.5\" opacity=\"1\"/></g><g class=\"mark-text role-legend-label\" pointer-events=\"none\"><text text-anchor=\"start\" transform=\"translate(16,9)\" font-family=\"sans-serif\" font-size=\"10px\" fill=\"#000\" opacity=\"1\">biomass</text></g></g><path class=\"foreground\" aria-hidden=\"true\" d=\"\" pointer-events=\"none\" display=\"none\"/></g><g transform=\"translate(0,13)\"><path class=\"background\" aria-hidden=\"true\" d=\"M0,0h173.8759765625v11h-173.8759765625Z\" pointer-events=\"none\" opacity=\"1\"/><g><g class=\"mark-symbol role-legend-symbol\" pointer-events=\"none\"><path transform=\"translate(6,6)\" d=\"M5,0A5,5,0,1,1,-5,0A5,5,0,1,1,5,0\" fill=\"#ff7f0e\" stroke-width=\"1.5\" opacity=\"1\"/></g><g class=\"mark-text role-legend-label\" pointer-events=\"none\"><text text-anchor=\"start\" transform=\"translate(16,9)\" font-family=\"sans-serif\" font-size=\"10px\" fill=\"#000\" opacity=\"1\">hydroelectric_pumped_storage</text></g></g><path class=\"foreground\" aria-hidden=\"true\" d=\"\" pointer-events=\"none\" display=\"none\"/></g><g transform=\"translate(0,26)\"><path class=\"background\" aria-hidden=\"true\" d=\"M0,0h173.8759765625v11h-173.8759765625Z\" pointer-events=\"none\" opacity=\"1\"/><g><g class=\"mark-symbol role-legend-symbol\" pointer-events=\"none\"><path transform=\"translate(6,6)\" d=\"M5,0A5,5,0,1,1,-5,0A5,5,0,1,1,5,0\" fill=\"#2ca02c\" stroke-width=\"1.5\" opacity=\"1\"/></g><g class=\"mark-text role-legend-label\" pointer-events=\"none\"><text text-anchor=\"start\" transform=\"translate(16,9)\" font-family=\"sans-serif\" font-size=\"10px\" fill=\"#000\" opacity=\"1\">natural_gas_fired_combined_cycle</text></g></g><path class=\"foreground\" aria-hidden=\"true\" d=\"\" pointer-events=\"none\" display=\"none\"/></g><g transform=\"translate(0,39)\"><path class=\"background\" aria-hidden=\"true\" d=\"M0,0h173.8759765625v11h-173.8759765625Z\" pointer-events=\"none\" opacity=\"1\"/><g><g class=\"mark-symbol role-legend-symbol\" pointer-events=\"none\"><path transform=\"translate(6,6)\" d=\"M5,0A5,5,0,1,1,-5,0A5,5,0,1,1,5,0\" fill=\"#d62728\" stroke-width=\"1.5\" opacity=\"1\"/></g><g class=\"mark-text role-legend-label\" pointer-events=\"none\"><text text-anchor=\"start\" transform=\"translate(16,9)\" font-family=\"sans-serif\" font-size=\"10px\" fill=\"#000\" opacity=\"1\">natural_gas_fired_combustion_tu…</text></g></g><path class=\"foreground\" aria-hidden=\"true\" d=\"\" pointer-events=\"none\" display=\"none\"/></g><g transform=\"translate(0,52)\"><path class=\"background\" aria-hidden=\"true\" d=\"M0,0h173.8759765625v11h-173.8759765625Z\" pointer-events=\"none\" opacity=\"1\"/><g><g class=\"mark-symbol role-legend-symbol\" pointer-events=\"none\"><path transform=\"translate(6,6)\" d=\"M5,0A5,5,0,1,1,-5,0A5,5,0,1,1,5,0\" fill=\"#9467bd\" stroke-width=\"1.5\" opacity=\"1\"/></g><g class=\"mark-text role-legend-label\" pointer-events=\"none\"><text text-anchor=\"start\" transform=\"translate(16,9)\" font-family=\"sans-serif\" font-size=\"10px\" fill=\"#000\" opacity=\"1\">non_served_energy</text></g></g><path class=\"foreground\" aria-hidden=\"true\" d=\"\" pointer-events=\"none\" display=\"none\"/></g></g></g><path class=\"foreground\" aria-hidden=\"true\" d=\"\" pointer-events=\"none\" display=\"none\"/></g></g><g class=\"mark-text role-legend-title\" pointer-events=\"none\"><text text-anchor=\"start\" transform=\"translate(0,9)\" font-family=\"sans-serif\" font-size=\"11px\" font-weight=\"bold\" fill=\"#000\" opacity=\"1\">resource</text></g></g><path class=\"foreground\" aria-hidden=\"true\" d=\"\" pointer-events=\"none\" display=\"none\"/></g></g><g class=\"mark-group role-title\"><g transform=\"translate(100,-17)\"><path class=\"background\" aria-hidden=\"true\" d=\"M0,0h0v0h0Z\" pointer-events=\"none\"/><g><g class=\"mark-text role-title-text\" role=\"graphics-symbol\" aria-roledescription=\"title\" aria-label=\"Title text 'scenario 1'\" pointer-events=\"none\"><text text-anchor=\"middle\" transform=\"translate(0,10)\" font-family=\"sans-serif\" font-size=\"13px\" font-weight=\"bold\" fill=\"#000\" opacity=\"1\">scenario 1</text></g></g><path class=\"foreground\" aria-hidden=\"true\" d=\"\" pointer-events=\"none\" display=\"none\"/></g></g></g><path class=\"foreground\" aria-hidden=\"true\" d=\"\" display=\"none\"/></g></g></g></svg>"
      ],
      "text/plain": [
       "@vlplot(\n",
       "    title=\"scenario 1\",\n",
       "    mark=\"area\",\n",
       "    encoding={\n",
       "        x={\n",
       "            field=\"hour\"\n",
       "        },\n",
       "        y={\n",
       "            stack=\"zero\",\n",
       "            field=\"gen_sum\"\n",
       "        },\n",
       "        color={\n",
       "            scale={\n",
       "                scheme=\"category10\"\n",
       "            },\n",
       "            field=\"resource\",\n",
       "            type=\"nominal\"\n",
       "        }\n",
       "    },\n",
       "    data={\n",
       "        values=...\n",
       "    }\n",
       ")"
      ]
     },
     "metadata": {},
     "output_type": "display_data"
    },
    {
     "data": {
      "application/vnd.vega.v5+json": {
       "$schema": "https://vega.github.io/schema/vega/v5.json",
       "axes": [
        {
         "aria": false,
         "domain": false,
         "grid": true,
         "gridScale": "y",
         "labels": false,
         "maxExtent": 0,
         "minExtent": 0,
         "orient": "bottom",
         "scale": "x",
         "tickCount": {
          "signal": "ceil(width/40)"
         },
         "ticks": false,
         "zindex": 0
        },
        {
         "aria": false,
         "domain": false,
         "grid": true,
         "gridScale": "x",
         "labels": false,
         "maxExtent": 0,
         "minExtent": 0,
         "orient": "left",
         "scale": "y",
         "tickCount": {
          "signal": "ceil(height/40)"
         },
         "ticks": false,
         "zindex": 0
        },
        {
         "grid": false,
         "labelFlush": true,
         "labelOverlap": true,
         "orient": "bottom",
         "scale": "x",
         "tickCount": {
          "signal": "ceil(width/40)"
         },
         "title": "hour",
         "zindex": 0
        },
        {
         "grid": false,
         "labelOverlap": true,
         "orient": "left",
         "scale": "y",
         "tickCount": {
          "signal": "ceil(height/40)"
         },
         "title": "gen_sum",
         "zindex": 0
        }
       ],
       "background": "white",
       "data": [
        {
         "name": "source_0",
         "values": [
          {
           "gen_sum": 21.4,
           "hour": 1,
           "resource": "biomass"
          },
          {
           "gen_sum": 42,
           "hour": 1,
           "resource": "hydroelectric_pumped_storage"
          },
          {
           "gen_sum": 1240.2556412000001,
           "hour": 1,
           "resource": "natural_gas_fired_combined_cycle"
          },
          {
           "gen_sum": 0,
           "hour": 1,
           "resource": "natural_gas_fired_combustion_turbine"
          },
          {
           "gen_sum": 21.4,
           "hour": 2,
           "resource": "biomass"
          },
          {
           "gen_sum": 42,
           "hour": 2,
           "resource": "hydroelectric_pumped_storage"
          },
          {
           "gen_sum": 1178.6196092,
           "hour": 2,
           "resource": "natural_gas_fired_combined_cycle"
          },
          {
           "gen_sum": 0,
           "hour": 2,
           "resource": "natural_gas_fired_combustion_turbine"
          },
          {
           "gen_sum": 21.4,
           "hour": 3,
           "resource": "biomass"
          },
          {
           "gen_sum": 42,
           "hour": 3,
           "resource": "hydroelectric_pumped_storage"
          },
          {
           "gen_sum": 1196.3342012,
           "hour": 3,
           "resource": "natural_gas_fired_combined_cycle"
          },
          {
           "gen_sum": 0,
           "hour": 3,
           "resource": "natural_gas_fired_combustion_turbine"
          },
          {
           "gen_sum": 21.4,
           "hour": 4,
           "resource": "biomass"
          },
          {
           "gen_sum": 42,
           "hour": 4,
           "resource": "hydroelectric_pumped_storage"
          },
          {
           "gen_sum": 1249.0358972,
           "hour": 4,
           "resource": "natural_gas_fired_combined_cycle"
          },
          {
           "gen_sum": 0,
           "hour": 4,
           "resource": "natural_gas_fired_combustion_turbine"
          },
          {
           "gen_sum": 21.4,
           "hour": 5,
           "resource": "biomass"
          },
          {
           "gen_sum": 42,
           "hour": 5,
           "resource": "hydroelectric_pumped_storage"
          },
          {
           "gen_sum": 1420.9140091999998,
           "hour": 5,
           "resource": "natural_gas_fired_combined_cycle"
          },
          {
           "gen_sum": 0,
           "hour": 5,
           "resource": "natural_gas_fired_combustion_turbine"
          },
          {
           "gen_sum": 21.4,
           "hour": 6,
           "resource": "biomass"
          },
          {
           "gen_sum": 42,
           "hour": 6,
           "resource": "hydroelectric_pumped_storage"
          },
          {
           "gen_sum": 1586.8742972,
           "hour": 6,
           "resource": "natural_gas_fired_combined_cycle"
          },
          {
           "gen_sum": 0,
           "hour": 6,
           "resource": "natural_gas_fired_combustion_turbine"
          },
          {
           "gen_sum": 21.4,
           "hour": 7,
           "resource": "biomass"
          },
          {
           "gen_sum": 42,
           "hour": 7,
           "resource": "hydroelectric_pumped_storage"
          },
          {
           "gen_sum": 1789.1467052,
           "hour": 7,
           "resource": "natural_gas_fired_combined_cycle"
          },
          {
           "gen_sum": 0,
           "hour": 7,
           "resource": "natural_gas_fired_combustion_turbine"
          },
          {
           "gen_sum": 21.4,
           "hour": 8,
           "resource": "biomass"
          },
          {
           "gen_sum": 42,
           "hour": 8,
           "resource": "hydroelectric_pumped_storage"
          },
          {
           "gen_sum": 1729.1224652,
           "hour": 8,
           "resource": "natural_gas_fired_combined_cycle"
          },
          {
           "gen_sum": 0,
           "hour": 8,
           "resource": "natural_gas_fired_combustion_turbine"
          },
          {
           "gen_sum": 21.4,
           "hour": 9,
           "resource": "biomass"
          },
          {
           "gen_sum": 42,
           "hour": 9,
           "resource": "hydroelectric_pumped_storage"
          },
          {
           "gen_sum": 1262.7130172,
           "hour": 9,
           "resource": "natural_gas_fired_combined_cycle"
          },
          {
           "gen_sum": 0,
           "hour": 9,
           "resource": "natural_gas_fired_combustion_turbine"
          },
          {
           "gen_sum": 21.4,
           "hour": 10,
           "resource": "biomass"
          },
          {
           "gen_sum": 42,
           "hour": 10,
           "resource": "hydroelectric_pumped_storage"
          },
          {
           "gen_sum": 1240.7036972,
           "hour": 10,
           "resource": "natural_gas_fired_combined_cycle"
          },
          {
           "gen_sum": 0,
           "hour": 10,
           "resource": "natural_gas_fired_combustion_turbine"
          },
          {
           "gen_sum": 21.4,
           "hour": 11,
           "resource": "biomass"
          },
          {
           "gen_sum": 42,
           "hour": 11,
           "resource": "hydroelectric_pumped_storage"
          },
          {
           "gen_sum": 1287.3843212,
           "hour": 11,
           "resource": "natural_gas_fired_combined_cycle"
          },
          {
           "gen_sum": 0,
           "hour": 11,
           "resource": "natural_gas_fired_combustion_turbine"
          },
          {
           "gen_sum": 21.4,
           "hour": 12,
           "resource": "biomass"
          },
          {
           "gen_sum": 42,
           "hour": 12,
           "resource": "hydroelectric_pumped_storage"
          },
          {
           "gen_sum": 1136.2594892,
           "hour": 12,
           "resource": "natural_gas_fired_combined_cycle"
          },
          {
           "gen_sum": 0,
           "hour": 12,
           "resource": "natural_gas_fired_combustion_turbine"
          },
          {
           "gen_sum": 21.399999999999885,
           "hour": 13,
           "resource": "biomass"
          },
          {
           "gen_sum": 42,
           "hour": 13,
           "resource": "hydroelectric_pumped_storage"
          },
          {
           "gen_sum": 905.1994652000003,
           "hour": 13,
           "resource": "natural_gas_fired_combined_cycle"
          },
          {
           "gen_sum": 0,
           "hour": 13,
           "resource": "natural_gas_fired_combustion_turbine"
          },
          {
           "gen_sum": 0,
           "hour": 14,
           "resource": "biomass"
          },
          {
           "gen_sum": 37.16512919999991,
           "hour": 14,
           "resource": "hydroelectric_pumped_storage"
          },
          {
           "gen_sum": 848.7701999999999,
           "hour": 14,
           "resource": "natural_gas_fired_combined_cycle"
          },
          {
           "gen_sum": 0,
           "hour": 14,
           "resource": "natural_gas_fired_combustion_turbine"
          },
          {
           "gen_sum": 0,
           "hour": 15,
           "resource": "biomass"
          },
          {
           "gen_sum": 20.03935320000005,
           "hour": 15,
           "resource": "hydroelectric_pumped_storage"
          },
          {
           "gen_sum": 848.7701999999999,
           "hour": 15,
           "resource": "natural_gas_fired_combined_cycle"
          },
          {
           "gen_sum": 0,
           "hour": 15,
           "resource": "natural_gas_fired_combustion_turbine"
          },
          {
           "gen_sum": 0,
           "hour": 16,
           "resource": "biomass"
          },
          {
           "gen_sum": 41.91885720000005,
           "hour": 16,
           "resource": "hydroelectric_pumped_storage"
          },
          {
           "gen_sum": 848.7701999999999,
           "hour": 16,
           "resource": "natural_gas_fired_combined_cycle"
          },
          {
           "gen_sum": 0,
           "hour": 16,
           "resource": "natural_gas_fired_combustion_turbine"
          },
          {
           "gen_sum": 21.4,
           "hour": 17,
           "resource": "biomass"
          },
          {
           "gen_sum": 42,
           "hour": 17,
           "resource": "hydroelectric_pumped_storage"
          },
          {
           "gen_sum": 1009.5168091999999,
           "hour": 17,
           "resource": "natural_gas_fired_combined_cycle"
          },
          {
           "gen_sum": 0,
           "hour": 17,
           "resource": "natural_gas_fired_combustion_turbine"
          },
          {
           "gen_sum": 21.4,
           "hour": 18,
           "resource": "biomass"
          },
          {
           "gen_sum": 42,
           "hour": 18,
           "resource": "hydroelectric_pumped_storage"
          },
          {
           "gen_sum": 1271.4765691999999,
           "hour": 18,
           "resource": "natural_gas_fired_combined_cycle"
          },
          {
           "gen_sum": 0,
           "hour": 18,
           "resource": "natural_gas_fired_combustion_turbine"
          },
          {
           "gen_sum": 21.4,
           "hour": 19,
           "resource": "biomass"
          },
          {
           "gen_sum": 42,
           "hour": 19,
           "resource": "hydroelectric_pumped_storage"
          },
          {
           "gen_sum": 1853.5586492,
           "hour": 19,
           "resource": "natural_gas_fired_combined_cycle"
          },
          {
           "gen_sum": 65.6958,
           "hour": 19,
           "resource": "natural_gas_fired_combustion_turbine"
          },
          {
           "gen_sum": 21.4,
           "hour": 20,
           "resource": "biomass"
          },
          {
           "gen_sum": 42,
           "hour": 20,
           "resource": "hydroelectric_pumped_storage"
          },
          {
           "gen_sum": 1994.9121292,
           "hour": 20,
           "resource": "natural_gas_fired_combined_cycle"
          },
          {
           "gen_sum": 134.43580000000003,
           "hour": 20,
           "resource": "natural_gas_fired_combustion_turbine"
          },
          {
           "gen_sum": 21.4,
           "hour": 21,
           "resource": "biomass"
          },
          {
           "gen_sum": 42,
           "hour": 21,
           "resource": "hydroelectric_pumped_storage"
          },
          {
           "gen_sum": 1989.9726412,
           "hour": 21,
           "resource": "natural_gas_fired_combined_cycle"
          },
          {
           "gen_sum": 134.43580000000003,
           "hour": 21,
           "resource": "natural_gas_fired_combustion_turbine"
          },
          {
           "gen_sum": 21.4,
           "hour": 22,
           "resource": "biomass"
          },
          {
           "gen_sum": 42,
           "hour": 22,
           "resource": "hydroelectric_pumped_storage"
          },
          {
           "gen_sum": 1814.7759852,
           "hour": 22,
           "resource": "natural_gas_fired_combined_cycle"
          },
          {
           "gen_sum": 64.7138,
           "hour": 22,
           "resource": "natural_gas_fired_combustion_turbine"
          },
          {
           "gen_sum": 21.4,
           "hour": 23,
           "resource": "biomass"
          },
          {
           "gen_sum": 42,
           "hour": 23,
           "resource": "hydroelectric_pumped_storage"
          },
          {
           "gen_sum": 1544.3975532,
           "hour": 23,
           "resource": "natural_gas_fired_combined_cycle"
          },
          {
           "gen_sum": 64.7138,
           "hour": 23,
           "resource": "natural_gas_fired_combustion_turbine"
          },
          {
           "gen_sum": 21.4,
           "hour": 24,
           "resource": "biomass"
          },
          {
           "gen_sum": 42,
           "hour": 24,
           "resource": "hydroelectric_pumped_storage"
          },
          {
           "gen_sum": 1387.7545532,
           "hour": 24,
           "resource": "natural_gas_fired_combined_cycle"
          },
          {
           "gen_sum": 0,
           "hour": 24,
           "resource": "natural_gas_fired_combustion_turbine"
          },
          {
           "gen_sum": 0,
           "hour": 1,
           "resource": "non_served_energy"
          },
          {
           "gen_sum": 0,
           "hour": 2,
           "resource": "non_served_energy"
          },
          {
           "gen_sum": 0,
           "hour": 3,
           "resource": "non_served_energy"
          },
          {
           "gen_sum": 0,
           "hour": 4,
           "resource": "non_served_energy"
          },
          {
           "gen_sum": 0,
           "hour": 5,
           "resource": "non_served_energy"
          },
          {
           "gen_sum": 0,
           "hour": 6,
           "resource": "non_served_energy"
          },
          {
           "gen_sum": 0,
           "hour": 7,
           "resource": "non_served_energy"
          },
          {
           "gen_sum": 0,
           "hour": 8,
           "resource": "non_served_energy"
          },
          {
           "gen_sum": 0,
           "hour": 9,
           "resource": "non_served_energy"
          },
          {
           "gen_sum": 0,
           "hour": 10,
           "resource": "non_served_energy"
          },
          {
           "gen_sum": 0,
           "hour": 11,
           "resource": "non_served_energy"
          },
          {
           "gen_sum": 0,
           "hour": 12,
           "resource": "non_served_energy"
          },
          {
           "gen_sum": 0,
           "hour": 13,
           "resource": "non_served_energy"
          },
          {
           "gen_sum": 0,
           "hour": 14,
           "resource": "non_served_energy"
          },
          {
           "gen_sum": 0,
           "hour": 15,
           "resource": "non_served_energy"
          },
          {
           "gen_sum": 0,
           "hour": 16,
           "resource": "non_served_energy"
          },
          {
           "gen_sum": 0,
           "hour": 17,
           "resource": "non_served_energy"
          },
          {
           "gen_sum": 0,
           "hour": 18,
           "resource": "non_served_energy"
          },
          {
           "gen_sum": 0,
           "hour": 19,
           "resource": "non_served_energy"
          },
          {
           "gen_sum": 0,
           "hour": 20,
           "resource": "non_served_energy"
          },
          {
           "gen_sum": 0,
           "hour": 21,
           "resource": "non_served_energy"
          },
          {
           "gen_sum": 0,
           "hour": 22,
           "resource": "non_served_energy"
          },
          {
           "gen_sum": 0,
           "hour": 23,
           "resource": "non_served_energy"
          },
          {
           "gen_sum": 0,
           "hour": 24,
           "resource": "non_served_energy"
          }
         ]
        },
        {
         "name": "data_0",
         "source": "source_0",
         "transform": [
          {
           "as": "hour",
           "expr": "toNumber(datum[\"hour\"])",
           "type": "formula"
          },
          {
           "field": "gen_sum",
           "groupby": [
            "resource"
           ],
           "key": "hour",
           "method": "value",
           "type": "impute",
           "value": 0
          },
          {
           "as": [
            "gen_sum_start",
            "gen_sum_end"
           ],
           "field": "gen_sum",
           "groupby": [
            "hour"
           ],
           "offset": "zero",
           "sort": {
            "field": [
             "resource"
            ],
            "order": [
             "descending"
            ]
           },
           "type": "stack"
          }
         ]
        }
       ],
       "height": 200,
       "legends": [
        {
         "fill": "color",
         "symbolType": "circle",
         "title": "resource"
        }
       ],
       "marks": [
        {
         "encode": {
          "update": {
           "height": {
            "field": {
             "group": "height"
            }
           },
           "width": {
            "field": {
             "group": "width"
            }
           }
          }
         },
         "from": {
          "facet": {
           "data": "data_0",
           "groupby": [
            "resource"
           ],
           "name": "faceted_path_main"
          }
         },
         "marks": [
          {
           "encode": {
            "update": {
             "defined": {
              "signal": "isValid(datum[\"hour\"]) && isFinite(+datum[\"hour\"]) && isValid(datum[\"gen_sum\"]) && isFinite(+datum[\"gen_sum\"])"
             },
             "description": {
              "signal": "\"hour: \" + (format(datum[\"hour\"], \"\")) + \"; gen_sum: \" + (format(datum[\"gen_sum\"], \"\")) + \"; resource: \" + (isValid(datum[\"resource\"]) ? datum[\"resource\"] : \"\"+datum[\"resource\"])"
             },
             "fill": {
              "field": "resource",
              "scale": "color"
             },
             "orient": {
              "value": "vertical"
             },
             "x": {
              "field": "hour",
              "scale": "x"
             },
             "y": {
              "field": "gen_sum_end",
              "scale": "y"
             },
             "y2": {
              "field": "gen_sum_start",
              "scale": "y"
             }
            }
           },
           "from": {
            "data": "faceted_path_main"
           },
           "name": "marks",
           "sort": {
            "field": "datum[\"hour\"]"
           },
           "style": [
            "area"
           ],
           "type": "area"
          }
         ],
         "name": "pathgroup",
         "type": "group"
        }
       ],
       "padding": 5,
       "scales": [
        {
         "domain": {
          "data": "data_0",
          "field": "hour"
         },
         "name": "x",
         "nice": true,
         "range": [
          0,
          {
           "signal": "width"
          }
         ],
         "type": "linear",
         "zero": false
        },
        {
         "domain": {
          "data": "data_0",
          "fields": [
           "gen_sum_start",
           "gen_sum_end"
          ]
         },
         "name": "y",
         "nice": true,
         "range": [
          {
           "signal": "height"
          },
          0
         ],
         "type": "linear",
         "zero": true
        },
        {
         "domain": {
          "data": "data_0",
          "field": "resource",
          "sort": true
         },
         "name": "color",
         "range": {
          "scheme": "category10"
         },
         "type": "ordinal"
        }
       ],
       "style": "cell",
       "title": {
        "frame": "group",
        "text": "scenario 2"
       },
       "width": 200
      },
      "image/png": "[encoded data removed]",
      "image/svg+xml": [
       "<svg xmlns=\"http://www.w3.org/2000/svg\" xmlns:xlink=\"http://www.w3.org/1999/xlink\" version=\"1.1\" class=\"marks\" width=\"450\" height=\"259\" viewBox=\"0 0 450 259\"><rect width=\"450\" height=\"259\" fill=\"white\"/><g fill=\"none\" stroke-miterlimit=\"10\" transform=\"translate(53,22)\"><g class=\"mark-group role-frame root\" role=\"graphics-object\" aria-roledescription=\"group mark container\"><g transform=\"translate(0,0)\"><path class=\"background\" aria-hidden=\"true\" d=\"M0.5,0.5h200v200h-200Z\" stroke=\"#ddd\"/><g><g class=\"mark-group role-axis\" aria-hidden=\"true\"><g transform=\"translate(0.5,200.5)\"><path class=\"background\" aria-hidden=\"true\" d=\"M0,0h0v0h0Z\" pointer-events=\"none\"/><g><g class=\"mark-rule role-axis-grid\" pointer-events=\"none\"><line transform=\"translate(0,-200)\" x2=\"0\" y2=\"200\" stroke=\"#ddd\" stroke-width=\"1\" opacity=\"1\"/><line transform=\"translate(42,-200)\" x2=\"0\" y2=\"200\" stroke=\"#ddd\" stroke-width=\"1\" opacity=\"1\"/><line transform=\"translate(83,-200)\" x2=\"0\" y2=\"200\" stroke=\"#ddd\" stroke-width=\"1\" opacity=\"1\"/><line transform=\"translate(125,-200)\" x2=\"0\" y2=\"200\" stroke=\"#ddd\" stroke-width=\"1\" opacity=\"1\"/><line transform=\"translate(167,-200)\" x2=\"0\" y2=\"200\" stroke=\"#ddd\" stroke-width=\"1\" opacity=\"1\"/></g></g><path class=\"foreground\" aria-hidden=\"true\" d=\"\" pointer-events=\"none\" display=\"none\"/></g></g><g class=\"mark-group role-axis\" aria-hidden=\"true\"><g transform=\"translate(0.5,0.5)\"><path class=\"background\" aria-hidden=\"true\" d=\"M0,0h0v0h0Z\" pointer-events=\"none\"/><g><g class=\"mark-rule role-axis-grid\" pointer-events=\"none\"><line transform=\"translate(0,200)\" x2=\"200\" y2=\"0\" stroke=\"#ddd\" stroke-width=\"1\" opacity=\"1\"/><line transform=\"translate(0,155)\" x2=\"200\" y2=\"0\" stroke=\"#ddd\" stroke-width=\"1\" opacity=\"1\"/><line transform=\"translate(0,109)\" x2=\"200\" y2=\"0\" stroke=\"#ddd\" stroke-width=\"1\" opacity=\"1\"/><line transform=\"translate(0,64)\" x2=\"200\" y2=\"0\" stroke=\"#ddd\" stroke-width=\"1\" opacity=\"1\"/><line transform=\"translate(0,18)\" x2=\"200\" y2=\"0\" stroke=\"#ddd\" stroke-width=\"1\" opacity=\"1\"/></g></g><path class=\"foreground\" aria-hidden=\"true\" d=\"\" pointer-events=\"none\" display=\"none\"/></g></g><g class=\"mark-group role-axis\" role=\"graphics-symbol\" aria-roledescription=\"axis\" aria-label=\"X-axis titled 'hour' for a linear scale with values from 0 to 24\"><g transform=\"translate(0.5,200.5)\"><path class=\"background\" aria-hidden=\"true\" d=\"M0,0h0v0h0Z\" pointer-events=\"none\"/><g><g class=\"mark-rule role-axis-tick\" pointer-events=\"none\"><line transform=\"translate(0,0)\" x2=\"0\" y2=\"5\" stroke=\"#888\" stroke-width=\"1\" opacity=\"1\"/><line transform=\"translate(42,0)\" x2=\"0\" y2=\"5\" stroke=\"#888\" stroke-width=\"1\" opacity=\"1\"/><line transform=\"translate(83,0)\" x2=\"0\" y2=\"5\" stroke=\"#888\" stroke-width=\"1\" opacity=\"1\"/><line transform=\"translate(125,0)\" x2=\"0\" y2=\"5\" stroke=\"#888\" stroke-width=\"1\" opacity=\"1\"/><line transform=\"translate(167,0)\" x2=\"0\" y2=\"5\" stroke=\"#888\" stroke-width=\"1\" opacity=\"1\"/></g><g class=\"mark-text role-axis-label\" pointer-events=\"none\"><text text-anchor=\"start\" transform=\"translate(0,15)\" font-family=\"sans-serif\" font-size=\"10px\" fill=\"#000\" opacity=\"1\">0</text><text text-anchor=\"middle\" transform=\"translate(41.66666666666667,15)\" font-family=\"sans-serif\" font-size=\"10px\" fill=\"#000\" opacity=\"1\">5</text><text text-anchor=\"middle\" transform=\"translate(83.33333333333334,15)\" font-family=\"sans-serif\" font-size=\"10px\" fill=\"#000\" opacity=\"1\">10</text><text text-anchor=\"middle\" transform=\"translate(125,15)\" font-family=\"sans-serif\" font-size=\"10px\" fill=\"#000\" opacity=\"1\">15</text><text text-anchor=\"middle\" transform=\"translate(166.66666666666669,15)\" font-family=\"sans-serif\" font-size=\"10px\" fill=\"#000\" opacity=\"1\">20</text></g><g class=\"mark-rule role-axis-domain\" pointer-events=\"none\"><line transform=\"translate(0,0)\" x2=\"200\" y2=\"0\" stroke=\"#888\" stroke-width=\"1\" opacity=\"1\"/></g><g class=\"mark-text role-axis-title\" pointer-events=\"none\"><text text-anchor=\"middle\" transform=\"translate(100,30)\" font-family=\"sans-serif\" font-size=\"11px\" font-weight=\"bold\" fill=\"#000\" opacity=\"1\">hour</text></g></g><path class=\"foreground\" aria-hidden=\"true\" d=\"\" pointer-events=\"none\" display=\"none\"/></g></g><g class=\"mark-group role-axis\" role=\"graphics-symbol\" aria-roledescription=\"axis\" aria-label=\"Y-axis titled 'gen_sum' for a linear scale with values from 0 to 2,200\"><g transform=\"translate(0.5,0.5)\"><path class=\"background\" aria-hidden=\"true\" d=\"M0,0h0v0h0Z\" pointer-events=\"none\"/><g><g class=\"mark-rule role-axis-tick\" pointer-events=\"none\"><line transform=\"translate(0,200)\" x2=\"-5\" y2=\"0\" stroke=\"#888\" stroke-width=\"1\" opacity=\"1\"/><line transform=\"translate(0,155)\" x2=\"-5\" y2=\"0\" stroke=\"#888\" stroke-width=\"1\" opacity=\"1\"/><line transform=\"translate(0,109)\" x2=\"-5\" y2=\"0\" stroke=\"#888\" stroke-width=\"1\" opacity=\"1\"/><line transform=\"translate(0,64)\" x2=\"-5\" y2=\"0\" stroke=\"#888\" stroke-width=\"1\" opacity=\"1\"/><line transform=\"translate(0,18)\" x2=\"-5\" y2=\"0\" stroke=\"#888\" stroke-width=\"1\" opacity=\"1\"/></g><g class=\"mark-text role-axis-label\" pointer-events=\"none\"><text text-anchor=\"end\" transform=\"translate(-7,203)\" font-family=\"sans-serif\" font-size=\"10px\" fill=\"#000\" opacity=\"1\">0</text><text text-anchor=\"end\" transform=\"translate(-7,157.54545454545453)\" font-family=\"sans-serif\" font-size=\"10px\" fill=\"#000\" opacity=\"1\">500</text><text text-anchor=\"end\" transform=\"translate(-7,112.09090909090908)\" font-family=\"sans-serif\" font-size=\"10px\" fill=\"#000\" opacity=\"1\">1,000</text><text text-anchor=\"end\" transform=\"translate(-7,66.63636363636365)\" font-family=\"sans-serif\" font-size=\"10px\" fill=\"#000\" opacity=\"1\">1,500</text><text text-anchor=\"end\" transform=\"translate(-7,21.181818181818187)\" font-family=\"sans-serif\" font-size=\"10px\" fill=\"#000\" opacity=\"1\">2,000</text></g><g class=\"mark-rule role-axis-domain\" pointer-events=\"none\"><line transform=\"translate(0,200)\" x2=\"0\" y2=\"-200\" stroke=\"#888\" stroke-width=\"1\" opacity=\"1\"/></g><g class=\"mark-text role-axis-title\" pointer-events=\"none\"><text text-anchor=\"middle\" transform=\"translate(-36.0244140625,100) rotate(-90) translate(0,-2)\" font-family=\"sans-serif\" font-size=\"11px\" font-weight=\"bold\" fill=\"#000\" opacity=\"1\">gen_sum</text></g></g><path class=\"foreground\" aria-hidden=\"true\" d=\"\" pointer-events=\"none\" display=\"none\"/></g></g><g class=\"mark-group role-scope pathgroup\" role=\"graphics-object\" aria-roledescription=\"group mark container\"><g transform=\"translate(0,0)\"><path class=\"background\" aria-hidden=\"true\" d=\"M0,0h200v200h-200Z\"/><g><g class=\"mark-area role-mark marks\" role=\"graphics-object\" aria-roledescription=\"area mark container\"><path aria-label=\"hour: 1; gen_sum: 21.4; resource: biomass\" role=\"graphics-symbol\" aria-roledescription=\"area mark\" d=\"M8.333,81.486L16.667,87.089L25,85.479L33.333,80.688L41.667,65.062L50,49.975L58.333,31.587L66.667,37.043L75,79.444L83.333,81.445L91.667,77.201L100,90.94L108.333,111.946L116.667,119.46L125,121.017L133.333,119.028L141.667,102.462L150,78.648L158.333,19.759L166.667,0.659L175,1.108L183.333,23.374L191.667,47.954L200,68.077L200,70.022L191.667,49.899L183.333,25.319L175,3.054L166.667,2.605L158.333,21.704L150,80.593L141.667,104.408L133.333,119.028L125,121.017L116.667,119.46L108.333,113.891L100,92.886L91.667,79.147L83.333,83.391L75,81.39L66.667,38.989L58.333,33.532L50,51.921L41.667,67.008L33.333,82.633L25,87.424L16.667,89.035L8.333,83.431Z\" fill=\"#1f77b4\"/></g></g><path class=\"foreground\" aria-hidden=\"true\" d=\"\" display=\"none\"/></g><g transform=\"translate(0,0)\"><path class=\"background\" aria-hidden=\"true\" d=\"M0,0h200v200h-200Z\"/><g><g class=\"mark-area role-mark marks\" role=\"graphics-object\" aria-roledescription=\"area mark container\"><path aria-label=\"hour: 1; gen_sum: 42; resource: hydroelectric_pumped_storage\" role=\"graphics-symbol\" aria-roledescription=\"area mark\" d=\"M8.333,83.431L16.667,89.035L25,87.424L33.333,82.633L41.667,67.008L50,51.921L58.333,33.532L66.667,38.989L75,81.39L83.333,83.391L91.667,79.147L100,92.886L108.333,113.891L116.667,119.46L125,121.017L133.333,119.028L141.667,104.408L150,80.593L158.333,21.704L166.667,2.605L175,3.054L183.333,25.319L191.667,49.899L200,70.022L200,73.84L191.667,53.717L183.333,29.137L175,6.872L166.667,6.423L158.333,25.522L150,84.411L141.667,108.226L133.333,122.839L125,122.839L116.667,122.839L108.333,117.709L100,96.704L91.667,82.965L83.333,87.209L75,85.208L66.667,42.807L58.333,37.35L50,55.739L41.667,70.826L33.333,86.451L25,91.242L16.667,92.853L8.333,87.249Z\" fill=\"#ff7f0e\"/></g></g><path class=\"foreground\" aria-hidden=\"true\" d=\"\" display=\"none\"/></g><g transform=\"translate(0,0)\"><path class=\"background\" aria-hidden=\"true\" d=\"M0,0h200v200h-200Z\"/><g><g class=\"mark-area role-mark marks\" role=\"graphics-object\" aria-roledescription=\"area mark container\"><path aria-label=\"hour: 1; gen_sum: 1240.2556412; resource: natural_gas_fired_combined_cycle\" role=\"graphics-symbol\" aria-roledescription=\"area mark\" d=\"M8.333,87.249L16.667,92.853L25,91.242L33.333,86.451L41.667,70.826L50,55.739L58.333,37.35L66.667,42.807L75,85.208L83.333,87.209L91.667,82.965L100,96.704L108.333,117.709L116.667,122.839L125,122.839L133.333,122.839L141.667,108.226L150,84.411L158.333,25.522L166.667,6.423L175,6.872L183.333,29.137L191.667,53.717L200,73.84L200,200L191.667,194.117L183.333,194.117L175,187.779L166.667,187.779L158.333,194.028L150,200L141.667,200L133.333,200L125,200L116.667,200L108.333,200L100,200L91.667,200L83.333,200L75,200L66.667,200L58.333,200L50,200L41.667,200L33.333,200L25,200L16.667,200L8.333,200Z\" fill=\"#2ca02c\"/></g></g><path class=\"foreground\" aria-hidden=\"true\" d=\"\" display=\"none\"/></g><g transform=\"translate(0,0)\"><path class=\"background\" aria-hidden=\"true\" d=\"M0,0h200v200h-200Z\"/><g><g class=\"mark-area role-mark marks\" role=\"graphics-object\" aria-roledescription=\"area mark container\"><path aria-label=\"hour: 1; gen_sum: 0; resource: natural_gas_fired_combustion_turbine\" role=\"graphics-symbol\" aria-roledescription=\"area mark\" d=\"M8.333,200L16.667,200L25,200L33.333,200L41.667,200L50,200L58.333,200L66.667,200L75,200L83.333,200L91.667,200L100,200L108.333,200L116.667,200L125,200L133.333,200L141.667,200L150,200L158.333,194.028L166.667,187.779L175,187.779L183.333,194.117L191.667,194.117L200,200L200,200L191.667,200L183.333,200L175,200L166.667,200L158.333,200L150,200L141.667,200L133.333,200L125,200L116.667,200L108.333,200L100,200L91.667,200L83.333,200L75,200L66.667,200L58.333,200L50,200L41.667,200L33.333,200L25,200L16.667,200L8.333,200Z\" fill=\"#d62728\"/></g></g><path class=\"foreground\" aria-hidden=\"true\" d=\"\" display=\"none\"/></g><g transform=\"translate(0,0)\"><path class=\"background\" aria-hidden=\"true\" d=\"M0,0h200v200h-200Z\"/><g><g class=\"mark-area role-mark marks\" role=\"graphics-object\" aria-roledescription=\"area mark container\"><path aria-label=\"hour: 1; gen_sum: 0; resource: non_served_energy\" role=\"graphics-symbol\" aria-roledescription=\"area mark\" d=\"M8.333,200L16.667,200L25,200L33.333,200L41.667,200L50,200L58.333,200L66.667,200L75,200L83.333,200L91.667,200L100,200L108.333,200L116.667,200L125,200L133.333,200L141.667,200L150,200L158.333,200L166.667,200L175,200L183.333,200L191.667,200L200,200L200,200L191.667,200L183.333,200L175,200L166.667,200L158.333,200L150,200L141.667,200L133.333,200L125,200L116.667,200L108.333,200L100,200L91.667,200L83.333,200L75,200L66.667,200L58.333,200L50,200L41.667,200L33.333,200L25,200L16.667,200L8.333,200Z\" fill=\"#9467bd\"/></g></g><path class=\"foreground\" aria-hidden=\"true\" d=\"\" display=\"none\"/></g></g><g class=\"mark-group role-legend\" role=\"graphics-symbol\" aria-roledescription=\"legend\" aria-label=\"Symbol legend titled 'resource' for fill color with 5 values: biomass, hydroelectric_pumped_storage, natural_gas_fired_combined_cycle, natural_gas_fired_combustion_turbine, non_served_energy\"><g transform=\"translate(218,0)\"><path class=\"background\" aria-hidden=\"true\" d=\"M0,0h174v79h-174Z\" pointer-events=\"none\"/><g><g class=\"mark-group role-legend-entry\"><g transform=\"translate(0,16)\"><path class=\"background\" aria-hidden=\"true\" d=\"M0,0h0v0h0Z\" pointer-events=\"none\"/><g><g class=\"mark-group role-scope\" role=\"graphics-object\" aria-roledescription=\"group mark container\"><g transform=\"translate(0,0)\"><path class=\"background\" aria-hidden=\"true\" d=\"M0,0h173.8759765625v11h-173.8759765625Z\" pointer-events=\"none\" opacity=\"1\"/><g><g class=\"mark-symbol role-legend-symbol\" pointer-events=\"none\"><path transform=\"translate(6,6)\" d=\"M5,0A5,5,0,1,1,-5,0A5,5,0,1,1,5,0\" fill=\"#1f77b4\" stroke-width=\"1.5\" opacity=\"1\"/></g><g class=\"mark-text role-legend-label\" pointer-events=\"none\"><text text-anchor=\"start\" transform=\"translate(16,9)\" font-family=\"sans-serif\" font-size=\"10px\" fill=\"#000\" opacity=\"1\">biomass</text></g></g><path class=\"foreground\" aria-hidden=\"true\" d=\"\" pointer-events=\"none\" display=\"none\"/></g><g transform=\"translate(0,13)\"><path class=\"background\" aria-hidden=\"true\" d=\"M0,0h173.8759765625v11h-173.8759765625Z\" pointer-events=\"none\" opacity=\"1\"/><g><g class=\"mark-symbol role-legend-symbol\" pointer-events=\"none\"><path transform=\"translate(6,6)\" d=\"M5,0A5,5,0,1,1,-5,0A5,5,0,1,1,5,0\" fill=\"#ff7f0e\" stroke-width=\"1.5\" opacity=\"1\"/></g><g class=\"mark-text role-legend-label\" pointer-events=\"none\"><text text-anchor=\"start\" transform=\"translate(16,9)\" font-family=\"sans-serif\" font-size=\"10px\" fill=\"#000\" opacity=\"1\">hydroelectric_pumped_storage</text></g></g><path class=\"foreground\" aria-hidden=\"true\" d=\"\" pointer-events=\"none\" display=\"none\"/></g><g transform=\"translate(0,26)\"><path class=\"background\" aria-hidden=\"true\" d=\"M0,0h173.8759765625v11h-173.8759765625Z\" pointer-events=\"none\" opacity=\"1\"/><g><g class=\"mark-symbol role-legend-symbol\" pointer-events=\"none\"><path transform=\"translate(6,6)\" d=\"M5,0A5,5,0,1,1,-5,0A5,5,0,1,1,5,0\" fill=\"#2ca02c\" stroke-width=\"1.5\" opacity=\"1\"/></g><g class=\"mark-text role-legend-label\" pointer-events=\"none\"><text text-anchor=\"start\" transform=\"translate(16,9)\" font-family=\"sans-serif\" font-size=\"10px\" fill=\"#000\" opacity=\"1\">natural_gas_fired_combined_cycle</text></g></g><path class=\"foreground\" aria-hidden=\"true\" d=\"\" pointer-events=\"none\" display=\"none\"/></g><g transform=\"translate(0,39)\"><path class=\"background\" aria-hidden=\"true\" d=\"M0,0h173.8759765625v11h-173.8759765625Z\" pointer-events=\"none\" opacity=\"1\"/><g><g class=\"mark-symbol role-legend-symbol\" pointer-events=\"none\"><path transform=\"translate(6,6)\" d=\"M5,0A5,5,0,1,1,-5,0A5,5,0,1,1,5,0\" fill=\"#d62728\" stroke-width=\"1.5\" opacity=\"1\"/></g><g class=\"mark-text role-legend-label\" pointer-events=\"none\"><text text-anchor=\"start\" transform=\"translate(16,9)\" font-family=\"sans-serif\" font-size=\"10px\" fill=\"#000\" opacity=\"1\">natural_gas_fired_combustion_tu…</text></g></g><path class=\"foreground\" aria-hidden=\"true\" d=\"\" pointer-events=\"none\" display=\"none\"/></g><g transform=\"translate(0,52)\"><path class=\"background\" aria-hidden=\"true\" d=\"M0,0h173.8759765625v11h-173.8759765625Z\" pointer-events=\"none\" opacity=\"1\"/><g><g class=\"mark-symbol role-legend-symbol\" pointer-events=\"none\"><path transform=\"translate(6,6)\" d=\"M5,0A5,5,0,1,1,-5,0A5,5,0,1,1,5,0\" fill=\"#9467bd\" stroke-width=\"1.5\" opacity=\"1\"/></g><g class=\"mark-text role-legend-label\" pointer-events=\"none\"><text text-anchor=\"start\" transform=\"translate(16,9)\" font-family=\"sans-serif\" font-size=\"10px\" fill=\"#000\" opacity=\"1\">non_served_energy</text></g></g><path class=\"foreground\" aria-hidden=\"true\" d=\"\" pointer-events=\"none\" display=\"none\"/></g></g></g><path class=\"foreground\" aria-hidden=\"true\" d=\"\" pointer-events=\"none\" display=\"none\"/></g></g><g class=\"mark-text role-legend-title\" pointer-events=\"none\"><text text-anchor=\"start\" transform=\"translate(0,9)\" font-family=\"sans-serif\" font-size=\"11px\" font-weight=\"bold\" fill=\"#000\" opacity=\"1\">resource</text></g></g><path class=\"foreground\" aria-hidden=\"true\" d=\"\" pointer-events=\"none\" display=\"none\"/></g></g><g class=\"mark-group role-title\"><g transform=\"translate(100,-17)\"><path class=\"background\" aria-hidden=\"true\" d=\"M0,0h0v0h0Z\" pointer-events=\"none\"/><g><g class=\"mark-text role-title-text\" role=\"graphics-symbol\" aria-roledescription=\"title\" aria-label=\"Title text 'scenario 2'\" pointer-events=\"none\"><text text-anchor=\"middle\" transform=\"translate(0,10)\" font-family=\"sans-serif\" font-size=\"13px\" font-weight=\"bold\" fill=\"#000\" opacity=\"1\">scenario 2</text></g></g><path class=\"foreground\" aria-hidden=\"true\" d=\"\" pointer-events=\"none\" display=\"none\"/></g></g></g><path class=\"foreground\" aria-hidden=\"true\" d=\"\" display=\"none\"/></g></g></g></svg>"
      ],
      "text/plain": [
       "@vlplot(\n",
       "    title=\"scenario 2\",\n",
       "    mark=\"area\",\n",
       "    encoding={\n",
       "        x={\n",
       "            field=\"hour\"\n",
       "        },\n",
       "        y={\n",
       "            stack=\"zero\",\n",
       "            field=\"gen_sum\"\n",
       "        },\n",
       "        color={\n",
       "            scale={\n",
       "                scheme=\"category10\"\n",
       "            },\n",
       "            field=\"resource\",\n",
       "            type=\"nominal\"\n",
       "        }\n",
       "    },\n",
       "    data={\n",
       "        values=...\n",
       "    }\n",
       ")"
      ]
     },
     "metadata": {},
     "output_type": "display_data"
    },
    {
     "data": {
      "application/vnd.vega.v5+json": {
       "$schema": "https://vega.github.io/schema/vega/v5.json",
       "axes": [
        {
         "aria": false,
         "domain": false,
         "grid": true,
         "gridScale": "y",
         "labels": false,
         "maxExtent": 0,
         "minExtent": 0,
         "orient": "bottom",
         "scale": "x",
         "tickCount": {
          "signal": "ceil(width/40)"
         },
         "ticks": false,
         "zindex": 0
        },
        {
         "aria": false,
         "domain": false,
         "grid": true,
         "gridScale": "x",
         "labels": false,
         "maxExtent": 0,
         "minExtent": 0,
         "orient": "left",
         "scale": "y",
         "tickCount": {
          "signal": "ceil(height/40)"
         },
         "ticks": false,
         "zindex": 0
        },
        {
         "grid": false,
         "labelFlush": true,
         "labelOverlap": true,
         "orient": "bottom",
         "scale": "x",
         "tickCount": {
          "signal": "ceil(width/40)"
         },
         "title": "hour",
         "zindex": 0
        },
        {
         "grid": false,
         "labelOverlap": true,
         "orient": "left",
         "scale": "y",
         "tickCount": {
          "signal": "ceil(height/40)"
         },
         "title": "gen_sum",
         "zindex": 0
        }
       ],
       "background": "white",
       "data": [
        {
         "name": "source_0",
         "values": [
          {
           "gen_sum": 21.4,
           "hour": 1,
           "resource": "biomass"
          },
          {
           "gen_sum": 42,
           "hour": 1,
           "resource": "hydroelectric_pumped_storage"
          },
          {
           "gen_sum": 1529.9568948,
           "hour": 1,
           "resource": "natural_gas_fired_combined_cycle"
          },
          {
           "gen_sum": 0,
           "hour": 1,
           "resource": "natural_gas_fired_combustion_turbine"
          },
          {
           "gen_sum": 21.4,
           "hour": 2,
           "resource": "biomass"
          },
          {
           "gen_sum": 42,
           "hour": 2,
           "resource": "hydroelectric_pumped_storage"
          },
          {
           "gen_sum": 1454.6239668,
           "hour": 2,
           "resource": "natural_gas_fired_combined_cycle"
          },
          {
           "gen_sum": 0,
           "hour": 2,
           "resource": "natural_gas_fired_combustion_turbine"
          },
          {
           "gen_sum": 21.4,
           "hour": 3,
           "resource": "biomass"
          },
          {
           "gen_sum": 42,
           "hour": 3,
           "resource": "hydroelectric_pumped_storage"
          },
          {
           "gen_sum": 1476.2751348000002,
           "hour": 3,
           "resource": "natural_gas_fired_combined_cycle"
          },
          {
           "gen_sum": 0,
           "hour": 3,
           "resource": "natural_gas_fired_combustion_turbine"
          },
          {
           "gen_sum": 21.4,
           "hour": 4,
           "resource": "biomass"
          },
          {
           "gen_sum": 42,
           "hour": 4,
           "resource": "hydroelectric_pumped_storage"
          },
          {
           "gen_sum": 1540.6883188,
           "hour": 4,
           "resource": "natural_gas_fired_combined_cycle"
          },
          {
           "gen_sum": 0,
           "hour": 4,
           "resource": "natural_gas_fired_combustion_turbine"
          },
          {
           "gen_sum": 21.4,
           "hour": 5,
           "resource": "biomass"
          },
          {
           "gen_sum": 42,
           "hour": 5,
           "resource": "hydroelectric_pumped_storage"
          },
          {
           "gen_sum": 1750.7615667999999,
           "hour": 5,
           "resource": "natural_gas_fired_combined_cycle"
          },
          {
           "gen_sum": 0,
           "hour": 5,
           "resource": "natural_gas_fired_combustion_turbine"
          },
          {
           "gen_sum": 21.4,
           "hour": 6,
           "resource": "biomass"
          },
          {
           "gen_sum": 42,
           "hour": 6,
           "resource": "hydroelectric_pumped_storage"
          },
          {
           "gen_sum": 1953.6019188,
           "hour": 6,
           "resource": "natural_gas_fired_combined_cycle"
          },
          {
           "gen_sum": 0,
           "hour": 6,
           "resource": "natural_gas_fired_combustion_turbine"
          },
          {
           "gen_sum": 21.4,
           "hour": 7,
           "resource": "biomass"
          },
          {
           "gen_sum": 42,
           "hour": 7,
           "resource": "hydroelectric_pumped_storage"
          },
          {
           "gen_sum": 2200.8237508,
           "hour": 7,
           "resource": "natural_gas_fired_combined_cycle"
          },
          {
           "gen_sum": 0,
           "hour": 7,
           "resource": "natural_gas_fired_combustion_turbine"
          },
          {
           "gen_sum": 21.4,
           "hour": 8,
           "resource": "biomass"
          },
          {
           "gen_sum": 42,
           "hour": 8,
           "resource": "hydroelectric_pumped_storage"
          },
          {
           "gen_sum": 2127.4607908000003,
           "hour": 8,
           "resource": "natural_gas_fired_combined_cycle"
          },
          {
           "gen_sum": 0,
           "hour": 8,
           "resource": "natural_gas_fired_combustion_turbine"
          },
          {
           "gen_sum": 21.4,
           "hour": 9,
           "resource": "biomass"
          },
          {
           "gen_sum": 42,
           "hour": 9,
           "resource": "hydroelectric_pumped_storage"
          },
          {
           "gen_sum": 1557.4047988000002,
           "hour": 9,
           "resource": "natural_gas_fired_combined_cycle"
          },
          {
           "gen_sum": 0,
           "hour": 9,
           "resource": "natural_gas_fired_combustion_turbine"
          },
          {
           "gen_sum": 21.4,
           "hour": 10,
           "resource": "biomass"
          },
          {
           "gen_sum": 42,
           "hour": 10,
           "resource": "hydroelectric_pumped_storage"
          },
          {
           "gen_sum": 1530.5045188000001,
           "hour": 10,
           "resource": "natural_gas_fired_combined_cycle"
          },
          {
           "gen_sum": 0,
           "hour": 10,
           "resource": "natural_gas_fired_combustion_turbine"
          },
          {
           "gen_sum": 21.4,
           "hour": 11,
           "resource": "biomass"
          },
          {
           "gen_sum": 42,
           "hour": 11,
           "resource": "hydroelectric_pumped_storage"
          },
          {
           "gen_sum": 1587.5586148,
           "hour": 11,
           "resource": "natural_gas_fired_combined_cycle"
          },
          {
           "gen_sum": 0,
           "hour": 11,
           "resource": "natural_gas_fired_combustion_turbine"
          },
          {
           "gen_sum": 21.4,
           "hour": 12,
           "resource": "biomass"
          },
          {
           "gen_sum": 42,
           "hour": 12,
           "resource": "hydroelectric_pumped_storage"
          },
          {
           "gen_sum": 1402.8504868,
           "hour": 12,
           "resource": "natural_gas_fired_combined_cycle"
          },
          {
           "gen_sum": 0,
           "hour": 12,
           "resource": "natural_gas_fired_combustion_turbine"
          },
          {
           "gen_sum": 21.4,
           "hour": 13,
           "resource": "biomass"
          },
          {
           "gen_sum": 42,
           "hour": 13,
           "resource": "hydroelectric_pumped_storage"
          },
          {
           "gen_sum": 1120.4437908000002,
           "hour": 13,
           "resource": "natural_gas_fired_combined_cycle"
          },
          {
           "gen_sum": 0,
           "hour": 13,
           "resource": "natural_gas_fired_combustion_turbine"
          },
          {
           "gen_sum": 21.4,
           "hour": 14,
           "resource": "biomass"
          },
          {
           "gen_sum": 42,
           "hour": 14,
           "resource": "hydroelectric_pumped_storage"
          },
          {
           "gen_sum": 1019.4098468,
           "hour": 14,
           "resource": "natural_gas_fired_combined_cycle"
          },
          {
           "gen_sum": 0,
           "hour": 14,
           "resource": "natural_gas_fired_combustion_turbine"
          },
          {
           "gen_sum": 21.4,
           "hour": 15,
           "resource": "biomass"
          },
          {
           "gen_sum": 42,
           "hour": 15,
           "resource": "hydroelectric_pumped_storage"
          },
          {
           "gen_sum": 998.4783427999998,
           "hour": 15,
           "resource": "natural_gas_fired_combined_cycle"
          },
          {
           "gen_sum": 0,
           "hour": 15,
           "resource": "natural_gas_fired_combustion_turbine"
          },
          {
           "gen_sum": 21.4,
           "hour": 16,
           "resource": "biomass"
          },
          {
           "gen_sum": 42,
           "hour": 16,
           "resource": "hydroelectric_pumped_storage"
          },
          {
           "gen_sum": 1025.2199588,
           "hour": 16,
           "resource": "natural_gas_fired_combined_cycle"
          },
          {
           "gen_sum": 0,
           "hour": 16,
           "resource": "natural_gas_fired_combustion_turbine"
          },
          {
           "gen_sum": 21.4,
           "hour": 17,
           "resource": "biomass"
          },
          {
           "gen_sum": 42,
           "hour": 17,
           "resource": "hydroelectric_pumped_storage"
          },
          {
           "gen_sum": 1247.9427668,
           "hour": 17,
           "resource": "natural_gas_fired_combined_cycle"
          },
          {
           "gen_sum": 0,
           "hour": 17,
           "resource": "natural_gas_fired_combustion_turbine"
          },
          {
           "gen_sum": 21.4,
           "hour": 18,
           "resource": "biomass"
          },
          {
           "gen_sum": 42,
           "hour": 18,
           "resource": "hydroelectric_pumped_storage"
          },
          {
           "gen_sum": 1568.1158068,
           "hour": 18,
           "resource": "natural_gas_fired_combined_cycle"
          },
          {
           "gen_sum": 0,
           "hour": 18,
           "resource": "natural_gas_fired_combustion_turbine"
          },
          {
           "gen_sum": 21.4,
           "hour": 19,
           "resource": "biomass"
          },
          {
           "gen_sum": 42,
           "hour": 19,
           "resource": "hydroelectric_pumped_storage"
          },
          {
           "gen_sum": 2294.1485268,
           "hour": 19,
           "resource": "natural_gas_fired_combined_cycle"
          },
          {
           "gen_sum": 65.6958,
           "hour": 19,
           "resource": "natural_gas_fired_combustion_turbine"
          },
          {
           "gen_sum": 21.4,
           "hour": 20,
           "resource": "biomass"
          },
          {
           "gen_sum": 42,
           "hour": 20,
           "resource": "hydroelectric_pumped_storage"
          },
          {
           "gen_sum": 2307.1,
           "hour": 20,
           "resource": "natural_gas_fired_combined_cycle"
          },
          {
           "gen_sum": 309.5252467999999,
           "hour": 20,
           "resource": "natural_gas_fired_combustion_turbine"
          },
          {
           "gen_sum": 21.4,
           "hour": 21,
           "resource": "biomass"
          },
          {
           "gen_sum": 42,
           "hour": 21,
           "resource": "hydroelectric_pumped_storage"
          },
          {
           "gen_sum": 2307.1,
           "hour": 21,
           "resource": "natural_gas_fired_combined_cycle"
          },
          {
           "gen_sum": 303.4880948,
           "hour": 21,
           "resource": "natural_gas_fired_combustion_turbine"
          },
          {
           "gen_sum": 21.4,
           "hour": 22,
           "resource": "biomass"
          },
          {
           "gen_sum": 42,
           "hour": 22,
           "resource": "hydroelectric_pumped_storage"
          },
          {
           "gen_sum": 2246.5292708,
           "hour": 22,
           "resource": "natural_gas_fired_combined_cycle"
          },
          {
           "gen_sum": 64.7138,
           "hour": 22,
           "resource": "natural_gas_fired_combustion_turbine"
          },
          {
           "gen_sum": 21.4,
           "hour": 23,
           "resource": "biomass"
          },
          {
           "gen_sum": 42,
           "hour": 23,
           "resource": "hydroelectric_pumped_storage"
          },
          {
           "gen_sum": 1807.1,
           "hour": 23,
           "resource": "natural_gas_fired_combined_cycle"
          },
          {
           "gen_sum": 173.68054279999978,
           "hour": 23,
           "resource": "natural_gas_fired_combustion_turbine"
          },
          {
           "gen_sum": 21.4,
           "hour": 24,
           "resource": "biomass"
          },
          {
           "gen_sum": 42,
           "hour": 24,
           "resource": "hydroelectric_pumped_storage"
          },
          {
           "gen_sum": 1710.2333428,
           "hour": 24,
           "resource": "natural_gas_fired_combined_cycle"
          },
          {
           "gen_sum": 0,
           "hour": 24,
           "resource": "natural_gas_fired_combustion_turbine"
          },
          {
           "gen_sum": 0,
           "hour": 1,
           "resource": "non_served_energy"
          },
          {
           "gen_sum": 0,
           "hour": 2,
           "resource": "non_served_energy"
          },
          {
           "gen_sum": 0,
           "hour": 3,
           "resource": "non_served_energy"
          },
          {
           "gen_sum": 0,
           "hour": 4,
           "resource": "non_served_energy"
          },
          {
           "gen_sum": 0,
           "hour": 5,
           "resource": "non_served_energy"
          },
          {
           "gen_sum": 0,
           "hour": 6,
           "resource": "non_served_energy"
          },
          {
           "gen_sum": 0,
           "hour": 7,
           "resource": "non_served_energy"
          },
          {
           "gen_sum": 0,
           "hour": 8,
           "resource": "non_served_energy"
          },
          {
           "gen_sum": 0,
           "hour": 9,
           "resource": "non_served_energy"
          },
          {
           "gen_sum": 0,
           "hour": 10,
           "resource": "non_served_energy"
          },
          {
           "gen_sum": 0,
           "hour": 11,
           "resource": "non_served_energy"
          },
          {
           "gen_sum": 0,
           "hour": 12,
           "resource": "non_served_energy"
          },
          {
           "gen_sum": 0,
           "hour": 13,
           "resource": "non_served_energy"
          },
          {
           "gen_sum": 0,
           "hour": 14,
           "resource": "non_served_energy"
          },
          {
           "gen_sum": 0,
           "hour": 15,
           "resource": "non_served_energy"
          },
          {
           "gen_sum": 0,
           "hour": 16,
           "resource": "non_served_energy"
          },
          {
           "gen_sum": 0,
           "hour": 17,
           "resource": "non_served_energy"
          },
          {
           "gen_sum": 0,
           "hour": 18,
           "resource": "non_served_energy"
          },
          {
           "gen_sum": 0,
           "hour": 19,
           "resource": "non_served_energy"
          },
          {
           "gen_sum": 0,
           "hour": 20,
           "resource": "non_served_energy"
          },
          {
           "gen_sum": 0,
           "hour": 21,
           "resource": "non_served_energy"
          },
          {
           "gen_sum": 0,
           "hour": 22,
           "resource": "non_served_energy"
          },
          {
           "gen_sum": 0,
           "hour": 23,
           "resource": "non_served_energy"
          },
          {
           "gen_sum": 0,
           "hour": 24,
           "resource": "non_served_energy"
          }
         ]
        },
        {
         "name": "data_0",
         "source": "source_0",
         "transform": [
          {
           "as": "hour",
           "expr": "toNumber(datum[\"hour\"])",
           "type": "formula"
          },
          {
           "field": "gen_sum",
           "groupby": [
            "resource"
           ],
           "key": "hour",
           "method": "value",
           "type": "impute",
           "value": 0
          },
          {
           "as": [
            "gen_sum_start",
            "gen_sum_end"
           ],
           "field": "gen_sum",
           "groupby": [
            "hour"
           ],
           "offset": "zero",
           "sort": {
            "field": [
             "resource"
            ],
            "order": [
             "descending"
            ]
           },
           "type": "stack"
          }
         ]
        }
       ],
       "height": 200,
       "legends": [
        {
         "fill": "color",
         "symbolType": "circle",
         "title": "resource"
        }
       ],
       "marks": [
        {
         "encode": {
          "update": {
           "height": {
            "field": {
             "group": "height"
            }
           },
           "width": {
            "field": {
             "group": "width"
            }
           }
          }
         },
         "from": {
          "facet": {
           "data": "data_0",
           "groupby": [
            "resource"
           ],
           "name": "faceted_path_main"
          }
         },
         "marks": [
          {
           "encode": {
            "update": {
             "defined": {
              "signal": "isValid(datum[\"hour\"]) && isFinite(+datum[\"hour\"]) && isValid(datum[\"gen_sum\"]) && isFinite(+datum[\"gen_sum\"])"
             },
             "description": {
              "signal": "\"hour: \" + (format(datum[\"hour\"], \"\")) + \"; gen_sum: \" + (format(datum[\"gen_sum\"], \"\")) + \"; resource: \" + (isValid(datum[\"resource\"]) ? datum[\"resource\"] : \"\"+datum[\"resource\"])"
             },
             "fill": {
              "field": "resource",
              "scale": "color"
             },
             "orient": {
              "value": "vertical"
             },
             "x": {
              "field": "hour",
              "scale": "x"
             },
             "y": {
              "field": "gen_sum_end",
              "scale": "y"
             },
             "y2": {
              "field": "gen_sum_start",
              "scale": "y"
             }
            }
           },
           "from": {
            "data": "faceted_path_main"
           },
           "name": "marks",
           "sort": {
            "field": "datum[\"hour\"]"
           },
           "style": [
            "area"
           ],
           "type": "area"
          }
         ],
         "name": "pathgroup",
         "type": "group"
        }
       ],
       "padding": 5,
       "scales": [
        {
         "domain": {
          "data": "data_0",
          "field": "hour"
         },
         "name": "x",
         "nice": true,
         "range": [
          0,
          {
           "signal": "width"
          }
         ],
         "type": "linear",
         "zero": false
        },
        {
         "domain": {
          "data": "data_0",
          "fields": [
           "gen_sum_start",
           "gen_sum_end"
          ]
         },
         "name": "y",
         "nice": true,
         "range": [
          {
           "signal": "height"
          },
          0
         ],
         "type": "linear",
         "zero": true
        },
        {
         "domain": {
          "data": "data_0",
          "field": "resource",
          "sort": true
         },
         "name": "color",
         "range": {
          "scheme": "category10"
         },
         "type": "ordinal"
        }
       ],
       "style": "cell",
       "title": {
        "frame": "group",
        "text": "scenario 3"
       },
       "width": 200
      },
      "image/png": "[encoded data removed]",
      "image/svg+xml": [
       "<svg xmlns=\"http://www.w3.org/2000/svg\" xmlns:xlink=\"http://www.w3.org/1999/xlink\" version=\"1.1\" class=\"marks\" width=\"450\" height=\"259\" viewBox=\"0 0 450 259\"><rect width=\"450\" height=\"259\" fill=\"white\"/><g fill=\"none\" stroke-miterlimit=\"10\" transform=\"translate(53,22)\"><g class=\"mark-group role-frame root\" role=\"graphics-object\" aria-roledescription=\"group mark container\"><g transform=\"translate(0,0)\"><path class=\"background\" aria-hidden=\"true\" d=\"M0.5,0.5h200v200h-200Z\" stroke=\"#ddd\"/><g><g class=\"mark-group role-axis\" aria-hidden=\"true\"><g transform=\"translate(0.5,200.5)\"><path class=\"background\" aria-hidden=\"true\" d=\"M0,0h0v0h0Z\" pointer-events=\"none\"/><g><g class=\"mark-rule role-axis-grid\" pointer-events=\"none\"><line transform=\"translate(0,-200)\" x2=\"0\" y2=\"200\" stroke=\"#ddd\" stroke-width=\"1\" opacity=\"1\"/><line transform=\"translate(42,-200)\" x2=\"0\" y2=\"200\" stroke=\"#ddd\" stroke-width=\"1\" opacity=\"1\"/><line transform=\"translate(83,-200)\" x2=\"0\" y2=\"200\" stroke=\"#ddd\" stroke-width=\"1\" opacity=\"1\"/><line transform=\"translate(125,-200)\" x2=\"0\" y2=\"200\" stroke=\"#ddd\" stroke-width=\"1\" opacity=\"1\"/><line transform=\"translate(167,-200)\" x2=\"0\" y2=\"200\" stroke=\"#ddd\" stroke-width=\"1\" opacity=\"1\"/></g></g><path class=\"foreground\" aria-hidden=\"true\" d=\"\" pointer-events=\"none\" display=\"none\"/></g></g><g class=\"mark-group role-axis\" aria-hidden=\"true\"><g transform=\"translate(0.5,0.5)\"><path class=\"background\" aria-hidden=\"true\" d=\"M0,0h0v0h0Z\" pointer-events=\"none\"/><g><g class=\"mark-rule role-axis-grid\" pointer-events=\"none\"><line transform=\"translate(0,200)\" x2=\"200\" y2=\"0\" stroke=\"#ddd\" stroke-width=\"1\" opacity=\"1\"/><line transform=\"translate(0,164)\" x2=\"200\" y2=\"0\" stroke=\"#ddd\" stroke-width=\"1\" opacity=\"1\"/><line transform=\"translate(0,129)\" x2=\"200\" y2=\"0\" stroke=\"#ddd\" stroke-width=\"1\" opacity=\"1\"/><line transform=\"translate(0,93)\" x2=\"200\" y2=\"0\" stroke=\"#ddd\" stroke-width=\"1\" opacity=\"1\"/><line transform=\"translate(0,57)\" x2=\"200\" y2=\"0\" stroke=\"#ddd\" stroke-width=\"1\" opacity=\"1\"/><line transform=\"translate(0,21)\" x2=\"200\" y2=\"0\" stroke=\"#ddd\" stroke-width=\"1\" opacity=\"1\"/></g></g><path class=\"foreground\" aria-hidden=\"true\" d=\"\" pointer-events=\"none\" display=\"none\"/></g></g><g class=\"mark-group role-axis\" role=\"graphics-symbol\" aria-roledescription=\"axis\" aria-label=\"X-axis titled 'hour' for a linear scale with values from 0 to 24\"><g transform=\"translate(0.5,200.5)\"><path class=\"background\" aria-hidden=\"true\" d=\"M0,0h0v0h0Z\" pointer-events=\"none\"/><g><g class=\"mark-rule role-axis-tick\" pointer-events=\"none\"><line transform=\"translate(0,0)\" x2=\"0\" y2=\"5\" stroke=\"#888\" stroke-width=\"1\" opacity=\"1\"/><line transform=\"translate(42,0)\" x2=\"0\" y2=\"5\" stroke=\"#888\" stroke-width=\"1\" opacity=\"1\"/><line transform=\"translate(83,0)\" x2=\"0\" y2=\"5\" stroke=\"#888\" stroke-width=\"1\" opacity=\"1\"/><line transform=\"translate(125,0)\" x2=\"0\" y2=\"5\" stroke=\"#888\" stroke-width=\"1\" opacity=\"1\"/><line transform=\"translate(167,0)\" x2=\"0\" y2=\"5\" stroke=\"#888\" stroke-width=\"1\" opacity=\"1\"/></g><g class=\"mark-text role-axis-label\" pointer-events=\"none\"><text text-anchor=\"start\" transform=\"translate(0,15)\" font-family=\"sans-serif\" font-size=\"10px\" fill=\"#000\" opacity=\"1\">0</text><text text-anchor=\"middle\" transform=\"translate(41.66666666666667,15)\" font-family=\"sans-serif\" font-size=\"10px\" fill=\"#000\" opacity=\"1\">5</text><text text-anchor=\"middle\" transform=\"translate(83.33333333333334,15)\" font-family=\"sans-serif\" font-size=\"10px\" fill=\"#000\" opacity=\"1\">10</text><text text-anchor=\"middle\" transform=\"translate(125,15)\" font-family=\"sans-serif\" font-size=\"10px\" fill=\"#000\" opacity=\"1\">15</text><text text-anchor=\"middle\" transform=\"translate(166.66666666666669,15)\" font-family=\"sans-serif\" font-size=\"10px\" fill=\"#000\" opacity=\"1\">20</text></g><g class=\"mark-rule role-axis-domain\" pointer-events=\"none\"><line transform=\"translate(0,0)\" x2=\"200\" y2=\"0\" stroke=\"#888\" stroke-width=\"1\" opacity=\"1\"/></g><g class=\"mark-text role-axis-title\" pointer-events=\"none\"><text text-anchor=\"middle\" transform=\"translate(100,30)\" font-family=\"sans-serif\" font-size=\"11px\" font-weight=\"bold\" fill=\"#000\" opacity=\"1\">hour</text></g></g><path class=\"foreground\" aria-hidden=\"true\" d=\"\" pointer-events=\"none\" display=\"none\"/></g></g><g class=\"mark-group role-axis\" role=\"graphics-symbol\" aria-roledescription=\"axis\" aria-label=\"Y-axis titled 'gen_sum' for a linear scale with values from 0 to 2,800\"><g transform=\"translate(0.5,0.5)\"><path class=\"background\" aria-hidden=\"true\" d=\"M0,0h0v0h0Z\" pointer-events=\"none\"/><g><g class=\"mark-rule role-axis-tick\" pointer-events=\"none\"><line transform=\"translate(0,200)\" x2=\"-5\" y2=\"0\" stroke=\"#888\" stroke-width=\"1\" opacity=\"1\"/><line transform=\"translate(0,164)\" x2=\"-5\" y2=\"0\" stroke=\"#888\" stroke-width=\"1\" opacity=\"1\"/><line transform=\"translate(0,129)\" x2=\"-5\" y2=\"0\" stroke=\"#888\" stroke-width=\"1\" opacity=\"1\"/><line transform=\"translate(0,93)\" x2=\"-5\" y2=\"0\" stroke=\"#888\" stroke-width=\"1\" opacity=\"1\"/><line transform=\"translate(0,57)\" x2=\"-5\" y2=\"0\" stroke=\"#888\" stroke-width=\"1\" opacity=\"1\"/><line transform=\"translate(0,21)\" x2=\"-5\" y2=\"0\" stroke=\"#888\" stroke-width=\"1\" opacity=\"1\"/></g><g class=\"mark-text role-axis-label\" pointer-events=\"none\"><text text-anchor=\"end\" transform=\"translate(-7,203)\" font-family=\"sans-serif\" font-size=\"10px\" fill=\"#000\" opacity=\"1\">0</text><text text-anchor=\"end\" transform=\"translate(-7,167.28571428571428)\" font-family=\"sans-serif\" font-size=\"10px\" fill=\"#000\" opacity=\"1\">500</text><text text-anchor=\"end\" transform=\"translate(-7,131.57142857142856)\" font-family=\"sans-serif\" font-size=\"10px\" fill=\"#000\" opacity=\"1\">1,000</text><text text-anchor=\"end\" transform=\"translate(-7,95.85714285714286)\" font-family=\"sans-serif\" font-size=\"10px\" fill=\"#000\" opacity=\"1\">1,500</text><text text-anchor=\"end\" transform=\"translate(-7,60.14285714285714)\" font-family=\"sans-serif\" font-size=\"10px\" fill=\"#000\" opacity=\"1\">2,000</text><text text-anchor=\"end\" transform=\"translate(-7,24.42857142857142)\" font-family=\"sans-serif\" font-size=\"10px\" fill=\"#000\" opacity=\"1\">2,500</text></g><g class=\"mark-rule role-axis-domain\" pointer-events=\"none\"><line transform=\"translate(0,200)\" x2=\"0\" y2=\"-200\" stroke=\"#888\" stroke-width=\"1\" opacity=\"1\"/></g><g class=\"mark-text role-axis-title\" pointer-events=\"none\"><text text-anchor=\"middle\" transform=\"translate(-36.0244140625,100) rotate(-90) translate(0,-2)\" font-family=\"sans-serif\" font-size=\"11px\" font-weight=\"bold\" fill=\"#000\" opacity=\"1\">gen_sum</text></g></g><path class=\"foreground\" aria-hidden=\"true\" d=\"\" pointer-events=\"none\" display=\"none\"/></g></g><g class=\"mark-group role-scope pathgroup\" role=\"graphics-object\" aria-roledescription=\"group mark container\"><g transform=\"translate(0,0)\"><path class=\"background\" aria-hidden=\"true\" d=\"M0,0h200v200h-200Z\"/><g><g class=\"mark-area role-mark marks\" role=\"graphics-object\" aria-roledescription=\"area mark container\"><path aria-label=\"hour: 1; gen_sum: 21.4; resource: biomass\" role=\"graphics-symbol\" aria-roledescription=\"area mark\" d=\"M8.333,86.189L16.667,91.57L25,90.023L33.333,85.422L41.667,70.417L50,55.928L58.333,38.27L66.667,43.51L75,84.228L83.333,86.15L91.667,82.074L100,95.268L108.333,115.44L116.667,122.656L125,124.152L133.333,122.241L141.667,106.333L150,83.463L158.333,26.911L166.667,8.57L175,9.001L183.333,30.383L191.667,53.987L200,73.312L200,74.84L191.667,55.516L183.333,31.911L175,10.529L166.667,10.098L158.333,28.44L150,84.992L141.667,107.861L133.333,123.77L125,125.68L116.667,124.185L108.333,116.968L100,96.796L91.667,83.603L83.333,87.678L75,85.757L66.667,45.039L58.333,39.798L50,57.457L41.667,71.946L33.333,86.951L25,91.552L16.667,93.098L8.333,87.717Z\" fill=\"#1f77b4\"/></g></g><path class=\"foreground\" aria-hidden=\"true\" d=\"\" display=\"none\"/></g><g transform=\"translate(0,0)\"><path class=\"background\" aria-hidden=\"true\" d=\"M0,0h200v200h-200Z\"/><g><g class=\"mark-area role-mark marks\" role=\"graphics-object\" aria-roledescription=\"area mark container\"><path aria-label=\"hour: 1; gen_sum: 42; resource: hydroelectric_pumped_storage\" role=\"graphics-symbol\" aria-roledescription=\"area mark\" d=\"M8.333,87.717L16.667,93.098L25,91.552L33.333,86.951L41.667,71.946L50,57.457L58.333,39.798L66.667,45.039L75,85.757L83.333,87.678L91.667,83.603L100,96.796L108.333,116.968L116.667,124.185L125,125.68L133.333,123.77L141.667,107.861L150,84.992L158.333,28.44L166.667,10.098L175,10.529L183.333,31.911L191.667,55.516L200,74.84L200,77.84L191.667,58.516L183.333,34.911L175,13.529L166.667,13.098L158.333,31.44L150,87.992L141.667,110.861L133.333,126.77L125,128.68L116.667,127.185L108.333,119.968L100,99.796L91.667,86.603L83.333,90.678L75,88.757L66.667,48.039L58.333,42.798L50,60.457L41.667,74.946L33.333,89.951L25,94.552L16.667,96.098L8.333,90.717Z\" fill=\"#ff7f0e\"/></g></g><path class=\"foreground\" aria-hidden=\"true\" d=\"\" display=\"none\"/></g><g transform=\"translate(0,0)\"><path class=\"background\" aria-hidden=\"true\" d=\"M0,0h200v200h-200Z\"/><g><g class=\"mark-area role-mark marks\" role=\"graphics-object\" aria-roledescription=\"area mark container\"><path aria-label=\"hour: 1; gen_sum: 1529.9568948; resource: natural_gas_fired_combined_cycle\" role=\"graphics-symbol\" aria-roledescription=\"area mark\" d=\"M8.333,90.717L16.667,96.098L25,94.552L33.333,89.951L41.667,74.946L50,60.457L58.333,42.798L66.667,48.039L75,88.757L83.333,90.678L91.667,86.603L100,99.796L108.333,119.968L116.667,127.185L125,128.68L133.333,126.77L141.667,110.861L150,87.992L158.333,31.44L166.667,13.098L175,13.529L183.333,34.911L191.667,58.516L200,77.84L200,200L191.667,187.594L183.333,195.378L175,178.322L166.667,177.891L158.333,195.307L150,200L141.667,200L133.333,200L125,200L116.667,200L108.333,200L100,200L91.667,200L83.333,200L75,200L66.667,200L58.333,200L50,200L41.667,200L33.333,200L25,200L16.667,200L8.333,200Z\" fill=\"#2ca02c\"/></g></g><path class=\"foreground\" aria-hidden=\"true\" d=\"\" display=\"none\"/></g><g transform=\"translate(0,0)\"><path class=\"background\" aria-hidden=\"true\" d=\"M0,0h200v200h-200Z\"/><g><g class=\"mark-area role-mark marks\" role=\"graphics-object\" aria-roledescription=\"area mark container\"><path aria-label=\"hour: 1; gen_sum: 0; resource: natural_gas_fired_combustion_turbine\" role=\"graphics-symbol\" aria-roledescription=\"area mark\" d=\"M8.333,200L16.667,200L25,200L33.333,200L41.667,200L50,200L58.333,200L66.667,200L75,200L83.333,200L91.667,200L100,200L108.333,200L116.667,200L125,200L133.333,200L141.667,200L150,200L158.333,195.307L166.667,177.891L175,178.322L183.333,195.378L191.667,187.594L200,200L200,200L191.667,200L183.333,200L175,200L166.667,200L158.333,200L150,200L141.667,200L133.333,200L125,200L116.667,200L108.333,200L100,200L91.667,200L83.333,200L75,200L66.667,200L58.333,200L50,200L41.667,200L33.333,200L25,200L16.667,200L8.333,200Z\" fill=\"#d62728\"/></g></g><path class=\"foreground\" aria-hidden=\"true\" d=\"\" display=\"none\"/></g><g transform=\"translate(0,0)\"><path class=\"background\" aria-hidden=\"true\" d=\"M0,0h200v200h-200Z\"/><g><g class=\"mark-area role-mark marks\" role=\"graphics-object\" aria-roledescription=\"area mark container\"><path aria-label=\"hour: 1; gen_sum: 0; resource: non_served_energy\" role=\"graphics-symbol\" aria-roledescription=\"area mark\" d=\"M8.333,200L16.667,200L25,200L33.333,200L41.667,200L50,200L58.333,200L66.667,200L75,200L83.333,200L91.667,200L100,200L108.333,200L116.667,200L125,200L133.333,200L141.667,200L150,200L158.333,200L166.667,200L175,200L183.333,200L191.667,200L200,200L200,200L191.667,200L183.333,200L175,200L166.667,200L158.333,200L150,200L141.667,200L133.333,200L125,200L116.667,200L108.333,200L100,200L91.667,200L83.333,200L75,200L66.667,200L58.333,200L50,200L41.667,200L33.333,200L25,200L16.667,200L8.333,200Z\" fill=\"#9467bd\"/></g></g><path class=\"foreground\" aria-hidden=\"true\" d=\"\" display=\"none\"/></g></g><g class=\"mark-group role-legend\" role=\"graphics-symbol\" aria-roledescription=\"legend\" aria-label=\"Symbol legend titled 'resource' for fill color with 5 values: biomass, hydroelectric_pumped_storage, natural_gas_fired_combined_cycle, natural_gas_fired_combustion_turbine, non_served_energy\"><g transform=\"translate(218,0)\"><path class=\"background\" aria-hidden=\"true\" d=\"M0,0h174v79h-174Z\" pointer-events=\"none\"/><g><g class=\"mark-group role-legend-entry\"><g transform=\"translate(0,16)\"><path class=\"background\" aria-hidden=\"true\" d=\"M0,0h0v0h0Z\" pointer-events=\"none\"/><g><g class=\"mark-group role-scope\" role=\"graphics-object\" aria-roledescription=\"group mark container\"><g transform=\"translate(0,0)\"><path class=\"background\" aria-hidden=\"true\" d=\"M0,0h173.8759765625v11h-173.8759765625Z\" pointer-events=\"none\" opacity=\"1\"/><g><g class=\"mark-symbol role-legend-symbol\" pointer-events=\"none\"><path transform=\"translate(6,6)\" d=\"M5,0A5,5,0,1,1,-5,0A5,5,0,1,1,5,0\" fill=\"#1f77b4\" stroke-width=\"1.5\" opacity=\"1\"/></g><g class=\"mark-text role-legend-label\" pointer-events=\"none\"><text text-anchor=\"start\" transform=\"translate(16,9)\" font-family=\"sans-serif\" font-size=\"10px\" fill=\"#000\" opacity=\"1\">biomass</text></g></g><path class=\"foreground\" aria-hidden=\"true\" d=\"\" pointer-events=\"none\" display=\"none\"/></g><g transform=\"translate(0,13)\"><path class=\"background\" aria-hidden=\"true\" d=\"M0,0h173.8759765625v11h-173.8759765625Z\" pointer-events=\"none\" opacity=\"1\"/><g><g class=\"mark-symbol role-legend-symbol\" pointer-events=\"none\"><path transform=\"translate(6,6)\" d=\"M5,0A5,5,0,1,1,-5,0A5,5,0,1,1,5,0\" fill=\"#ff7f0e\" stroke-width=\"1.5\" opacity=\"1\"/></g><g class=\"mark-text role-legend-label\" pointer-events=\"none\"><text text-anchor=\"start\" transform=\"translate(16,9)\" font-family=\"sans-serif\" font-size=\"10px\" fill=\"#000\" opacity=\"1\">hydroelectric_pumped_storage</text></g></g><path class=\"foreground\" aria-hidden=\"true\" d=\"\" pointer-events=\"none\" display=\"none\"/></g><g transform=\"translate(0,26)\"><path class=\"background\" aria-hidden=\"true\" d=\"M0,0h173.8759765625v11h-173.8759765625Z\" pointer-events=\"none\" opacity=\"1\"/><g><g class=\"mark-symbol role-legend-symbol\" pointer-events=\"none\"><path transform=\"translate(6,6)\" d=\"M5,0A5,5,0,1,1,-5,0A5,5,0,1,1,5,0\" fill=\"#2ca02c\" stroke-width=\"1.5\" opacity=\"1\"/></g><g class=\"mark-text role-legend-label\" pointer-events=\"none\"><text text-anchor=\"start\" transform=\"translate(16,9)\" font-family=\"sans-serif\" font-size=\"10px\" fill=\"#000\" opacity=\"1\">natural_gas_fired_combined_cycle</text></g></g><path class=\"foreground\" aria-hidden=\"true\" d=\"\" pointer-events=\"none\" display=\"none\"/></g><g transform=\"translate(0,39)\"><path class=\"background\" aria-hidden=\"true\" d=\"M0,0h173.8759765625v11h-173.8759765625Z\" pointer-events=\"none\" opacity=\"1\"/><g><g class=\"mark-symbol role-legend-symbol\" pointer-events=\"none\"><path transform=\"translate(6,6)\" d=\"M5,0A5,5,0,1,1,-5,0A5,5,0,1,1,5,0\" fill=\"#d62728\" stroke-width=\"1.5\" opacity=\"1\"/></g><g class=\"mark-text role-legend-label\" pointer-events=\"none\"><text text-anchor=\"start\" transform=\"translate(16,9)\" font-family=\"sans-serif\" font-size=\"10px\" fill=\"#000\" opacity=\"1\">natural_gas_fired_combustion_tu…</text></g></g><path class=\"foreground\" aria-hidden=\"true\" d=\"\" pointer-events=\"none\" display=\"none\"/></g><g transform=\"translate(0,52)\"><path class=\"background\" aria-hidden=\"true\" d=\"M0,0h173.8759765625v11h-173.8759765625Z\" pointer-events=\"none\" opacity=\"1\"/><g><g class=\"mark-symbol role-legend-symbol\" pointer-events=\"none\"><path transform=\"translate(6,6)\" d=\"M5,0A5,5,0,1,1,-5,0A5,5,0,1,1,5,0\" fill=\"#9467bd\" stroke-width=\"1.5\" opacity=\"1\"/></g><g class=\"mark-text role-legend-label\" pointer-events=\"none\"><text text-anchor=\"start\" transform=\"translate(16,9)\" font-family=\"sans-serif\" font-size=\"10px\" fill=\"#000\" opacity=\"1\">non_served_energy</text></g></g><path class=\"foreground\" aria-hidden=\"true\" d=\"\" pointer-events=\"none\" display=\"none\"/></g></g></g><path class=\"foreground\" aria-hidden=\"true\" d=\"\" pointer-events=\"none\" display=\"none\"/></g></g><g class=\"mark-text role-legend-title\" pointer-events=\"none\"><text text-anchor=\"start\" transform=\"translate(0,9)\" font-family=\"sans-serif\" font-size=\"11px\" font-weight=\"bold\" fill=\"#000\" opacity=\"1\">resource</text></g></g><path class=\"foreground\" aria-hidden=\"true\" d=\"\" pointer-events=\"none\" display=\"none\"/></g></g><g class=\"mark-group role-title\"><g transform=\"translate(100,-17)\"><path class=\"background\" aria-hidden=\"true\" d=\"M0,0h0v0h0Z\" pointer-events=\"none\"/><g><g class=\"mark-text role-title-text\" role=\"graphics-symbol\" aria-roledescription=\"title\" aria-label=\"Title text 'scenario 3'\" pointer-events=\"none\"><text text-anchor=\"middle\" transform=\"translate(0,10)\" font-family=\"sans-serif\" font-size=\"13px\" font-weight=\"bold\" fill=\"#000\" opacity=\"1\">scenario 3</text></g></g><path class=\"foreground\" aria-hidden=\"true\" d=\"\" pointer-events=\"none\" display=\"none\"/></g></g></g><path class=\"foreground\" aria-hidden=\"true\" d=\"\" display=\"none\"/></g></g></g></svg>"
      ],
      "text/plain": [
       "@vlplot(\n",
       "    title=\"scenario 3\",\n",
       "    mark=\"area\",\n",
       "    encoding={\n",
       "        x={\n",
       "            field=\"hour\"\n",
       "        },\n",
       "        y={\n",
       "            stack=\"zero\",\n",
       "            field=\"gen_sum\"\n",
       "        },\n",
       "        color={\n",
       "            scale={\n",
       "                scheme=\"category10\"\n",
       "            },\n",
       "            field=\"resource\",\n",
       "            type=\"nominal\"\n",
       "        }\n",
       "    },\n",
       "    data={\n",
       "        values=...\n",
       "    }\n",
       ")"
      ]
     },
     "metadata": {},
     "output_type": "display_data"
    }
   ],
   "source": [
    "# A spring day\n",
    "n=100\n",
    "T_period = (n*24+1):((n+1)*24)\n",
    "\n",
    "net_load_input = copy(net_load[in.(net_load.hour,Ref(T_period)),:])\n",
    "net_load_input.hour = net_load_input.hour .- (T_period[1]-1)\n",
    "\n",
    "load_scenarios = hcat(net_load_input.demand,net_load_input.demand*0.9,net_load_input.demand*1.1)\n",
    "\n",
    "solution = unit_commitment_stochastic(\n",
    "    gen_df_no_vre,\n",
    "    load_scenarios,\n",
    "    0.01,\n",
    "    9000\n",
    "    );\n",
    "\n",
    "# plot each scenario\n",
    "\n",
    "for i in 1:3\n",
    "    gen=solution.gen_all_scenarios[i]\n",
    "    nse=solution.nse[:,i]\n",
    "    sol_gen = innerjoin(gen, \n",
    "                        gen_df[!, [:r_id, :resource]], \n",
    "                        on = :r_id)\n",
    "    sol_gen = combine(groupby(sol_gen, [:resource, :hour]), \n",
    "                :gen => sum)\n",
    "    \n",
    "    # add NSE\n",
    "    nse = DataFrame(resource = repeat([\"non_served_energy\"]; outer=24), \n",
    "        hour = 1:24,\n",
    "        gen_sum = nse\n",
    "        )\n",
    "    append!(sol_gen, nse)\n",
    "    \n",
    "    p = sol_gen |>\n",
    "    @vlplot(:area, \n",
    "        x=:hour, y={:gen_sum, stack=:zero}, \n",
    "        color={\"resource:n\", scale={scheme=\"category10\"}},\n",
    "        title=\"scenario $i\")\n",
    "    display(p)\n",
    "end"
   ]
  },
  {
   "cell_type": "code",
   "execution_count": null,
   "id": "42bb97f0-2110-4551-a08d-3167550eec19",
   "metadata": {},
   "outputs": [],
   "source": []
  },
  {
   "cell_type": "markdown",
   "id": "01ccfac7-7b63-48aa-8308-f6ef71af13e2",
   "metadata": {},
   "source": [
    "# Simulator"
   ]
  },
  {
   "cell_type": "markdown",
   "id": "0c247845-467e-4e8d-847e-d35da040cc3d",
   "metadata": {},
   "source": [
    "For our simulation we pick a sequence of 5 days in the summer, where net load increases over time. **When we simulate, we are not going to assume that we actually know the future net load; rather, we will assume that we only know the net load from the previous day, which we use as a \"forecast\".**\n",
    "\n",
    "We would normally use many more data points for a simulation, but we choose only 5 so that we can complete this exercise in a lab setting. We will extract 6 days, and use the first day as our first \"previous day\" to inform our first forecast. We will set the remainder of the net load data aside so that we can use it for policy development if we want.\n",
    "\n",
    "Let's take a look at the net load timeseries for this 6 day period."
   ]
  },
  {
   "cell_type": "code",
   "execution_count": 114,
   "id": "3f6fbf23-b5b3-423a-a3b7-7313107a93df",
   "metadata": {},
   "outputs": [
    {
     "data": {
      "image/png": "[encoded data removed]",
      "image/svg+xml": [
       "<?xml version=\"1.0\" encoding=\"utf-8\"?>\n",
       "<svg xmlns=\"http://www.w3.org/2000/svg\" xmlns:xlink=\"http://www.w3.org/1999/xlink\" width=\"600\" height=\"400\" viewBox=\"0 0 2400 1600\">\n",
       "<defs>\n",
       "  <clipPath id=\"clip210\">\n",
       "    <rect x=\"0\" y=\"0\" width=\"2400\" height=\"1600\"/>\n",
       "  </clipPath>\n",
       "</defs>\n",
       "<path clip-path=\"url(#clip210)\" d=\"M0 1600 L2400 1600 L2400 8.88178e-14 L0 8.88178e-14  Z\" fill=\"#ffffff\" fill-rule=\"evenodd\" fill-opacity=\"1\"/>\n",
       "<defs>\n",
       "  <clipPath id=\"clip211\">\n",
       "    <rect x=\"480\" y=\"0\" width=\"1681\" height=\"1600\"/>\n",
       "  </clipPath>\n",
       "</defs>\n",
       "<path clip-path=\"url(#clip210)\" d=\"M264.287 1423.18 L2352.76 1423.18 L2352.76 123.472 L264.287 123.472  Z\" fill=\"#ffffff\" fill-rule=\"evenodd\" fill-opacity=\"1\"/>\n",
       "<defs>\n",
       "  <clipPath id=\"clip212\">\n",
       "    <rect x=\"264\" y=\"123\" width=\"2089\" height=\"1301\"/>\n",
       "  </clipPath>\n",
       "</defs>\n",
       "<polyline clip-path=\"url(#clip212)\" style=\"stroke:#000000; stroke-linecap:round; stroke-linejoin:round; stroke-width:2; stroke-opacity:0.1; fill:none\" points=\"309.617,1423.18 309.617,123.472 \"/>\n",
       "<polyline clip-path=\"url(#clip212)\" style=\"stroke:#000000; stroke-linecap:round; stroke-linejoin:round; stroke-width:2; stroke-opacity:0.1; fill:none\" points=\"722.957,1423.18 722.957,123.472 \"/>\n",
       "<polyline clip-path=\"url(#clip212)\" style=\"stroke:#000000; stroke-linecap:round; stroke-linejoin:round; stroke-width:2; stroke-opacity:0.1; fill:none\" points=\"1136.3,1423.18 1136.3,123.472 \"/>\n",
       "<polyline clip-path=\"url(#clip212)\" style=\"stroke:#000000; stroke-linecap:round; stroke-linejoin:round; stroke-width:2; stroke-opacity:0.1; fill:none\" points=\"1549.64,1423.18 1549.64,123.472 \"/>\n",
       "<polyline clip-path=\"url(#clip212)\" style=\"stroke:#000000; stroke-linecap:round; stroke-linejoin:round; stroke-width:2; stroke-opacity:0.1; fill:none\" points=\"1962.98,1423.18 1962.98,123.472 \"/>\n",
       "<polyline clip-path=\"url(#clip210)\" style=\"stroke:#000000; stroke-linecap:round; stroke-linejoin:round; stroke-width:4; stroke-opacity:1; fill:none\" points=\"264.287,1423.18 2352.76,1423.18 \"/>\n",
       "<polyline clip-path=\"url(#clip210)\" style=\"stroke:#000000; stroke-linecap:round; stroke-linejoin:round; stroke-width:4; stroke-opacity:1; fill:none\" points=\"309.617,1423.18 309.617,1404.28 \"/>\n",
       "<polyline clip-path=\"url(#clip210)\" style=\"stroke:#000000; stroke-linecap:round; stroke-linejoin:round; stroke-width:4; stroke-opacity:1; fill:none\" points=\"722.957,1423.18 722.957,1404.28 \"/>\n",
       "<polyline clip-path=\"url(#clip210)\" style=\"stroke:#000000; stroke-linecap:round; stroke-linejoin:round; stroke-width:4; stroke-opacity:1; fill:none\" points=\"1136.3,1423.18 1136.3,1404.28 \"/>\n",
       "<polyline clip-path=\"url(#clip210)\" style=\"stroke:#000000; stroke-linecap:round; stroke-linejoin:round; stroke-width:4; stroke-opacity:1; fill:none\" points=\"1549.64,1423.18 1549.64,1404.28 \"/>\n",
       "<polyline clip-path=\"url(#clip210)\" style=\"stroke:#000000; stroke-linecap:round; stroke-linejoin:round; stroke-width:4; stroke-opacity:1; fill:none\" points=\"1962.98,1423.18 1962.98,1404.28 \"/>\n",
       "<path clip-path=\"url(#clip210)\" d=\"M309.617 1454.1 Q306.006 1454.1 304.177 1457.66 Q302.372 1461.2 302.372 1468.33 Q302.372 1475.44 304.177 1479.01 Q306.006 1482.55 309.617 1482.55 Q313.251 1482.55 315.057 1479.01 Q316.885 1475.44 316.885 1468.33 Q316.885 1461.2 315.057 1457.66 Q313.251 1454.1 309.617 1454.1 M309.617 1450.39 Q315.427 1450.39 318.483 1455 Q321.561 1459.58 321.561 1468.33 Q321.561 1477.06 318.483 1481.67 Q315.427 1486.25 309.617 1486.25 Q303.807 1486.25 300.728 1481.67 Q297.673 1477.06 297.673 1468.33 Q297.673 1459.58 300.728 1455 Q303.807 1450.39 309.617 1450.39 Z\" fill=\"#000000\" fill-rule=\"nonzero\" fill-opacity=\"1\" /><path clip-path=\"url(#clip210)\" d=\"M711.799 1466.95 Q715.156 1467.66 717.031 1469.93 Q718.929 1472.2 718.929 1475.53 Q718.929 1480.65 715.411 1483.45 Q711.892 1486.25 705.411 1486.25 Q703.235 1486.25 700.92 1485.81 Q698.628 1485.39 696.175 1484.54 L696.175 1480.02 Q698.119 1481.16 700.434 1481.74 Q702.749 1482.32 705.272 1482.32 Q709.67 1482.32 711.961 1480.58 Q714.276 1478.84 714.276 1475.53 Q714.276 1472.48 712.124 1470.77 Q709.994 1469.03 706.174 1469.03 L702.147 1469.03 L702.147 1465.19 L706.36 1465.19 Q709.809 1465.19 711.637 1463.82 Q713.466 1462.43 713.466 1459.84 Q713.466 1457.18 711.568 1455.77 Q709.693 1454.33 706.174 1454.33 Q704.253 1454.33 702.054 1454.75 Q699.855 1455.16 697.216 1456.04 L697.216 1451.88 Q699.878 1451.14 702.193 1450.77 Q704.531 1450.39 706.591 1450.39 Q711.915 1450.39 715.017 1452.83 Q718.119 1455.23 718.119 1459.35 Q718.119 1462.22 716.475 1464.21 Q714.832 1466.18 711.799 1466.95 Z\" fill=\"#000000\" fill-rule=\"nonzero\" fill-opacity=\"1\" /><path clip-path=\"url(#clip210)\" d=\"M737.795 1454.1 Q734.184 1454.1 732.355 1457.66 Q730.549 1461.2 730.549 1468.33 Q730.549 1475.44 732.355 1479.01 Q734.184 1482.55 737.795 1482.55 Q741.429 1482.55 743.234 1479.01 Q745.063 1475.44 745.063 1468.33 Q745.063 1461.2 743.234 1457.66 Q741.429 1454.1 737.795 1454.1 M737.795 1450.39 Q743.605 1450.39 746.66 1455 Q749.739 1459.58 749.739 1468.33 Q749.739 1477.06 746.66 1481.67 Q743.605 1486.25 737.795 1486.25 Q731.985 1486.25 728.906 1481.67 Q725.85 1477.06 725.85 1468.33 Q725.85 1459.58 728.906 1455 Q731.985 1450.39 737.795 1450.39 Z\" fill=\"#000000\" fill-rule=\"nonzero\" fill-opacity=\"1\" /><path clip-path=\"url(#clip210)\" d=\"M1121.7 1466.44 Q1118.55 1466.44 1116.7 1468.59 Q1114.87 1470.74 1114.87 1474.49 Q1114.87 1478.22 1116.7 1480.39 Q1118.55 1482.55 1121.7 1482.55 Q1124.85 1482.55 1126.68 1480.39 Q1128.53 1478.22 1128.53 1474.49 Q1128.53 1470.74 1126.68 1468.59 Q1124.85 1466.44 1121.7 1466.44 M1130.98 1451.78 L1130.98 1456.04 Q1129.22 1455.21 1127.42 1454.77 Q1125.64 1454.33 1123.88 1454.33 Q1119.25 1454.33 1116.79 1457.45 Q1114.36 1460.58 1114.02 1466.9 Q1115.38 1464.89 1117.44 1463.82 Q1119.5 1462.73 1121.98 1462.73 Q1127.19 1462.73 1130.2 1465.9 Q1133.23 1469.05 1133.23 1474.49 Q1133.23 1479.82 1130.08 1483.03 Q1126.93 1486.25 1121.7 1486.25 Q1115.71 1486.25 1112.54 1481.67 Q1109.36 1477.06 1109.36 1468.33 Q1109.36 1460.14 1113.25 1455.28 Q1117.14 1450.39 1123.69 1450.39 Q1125.45 1450.39 1127.23 1450.74 Q1129.04 1451.09 1130.98 1451.78 Z\" fill=\"#000000\" fill-rule=\"nonzero\" fill-opacity=\"1\" /><path clip-path=\"url(#clip210)\" d=\"M1151.29 1454.1 Q1147.67 1454.1 1145.85 1457.66 Q1144.04 1461.2 1144.04 1468.33 Q1144.04 1475.44 1145.85 1479.01 Q1147.67 1482.55 1151.29 1482.55 Q1154.92 1482.55 1156.72 1479.01 Q1158.55 1475.44 1158.55 1468.33 Q1158.55 1461.2 1156.72 1457.66 Q1154.92 1454.1 1151.29 1454.1 M1151.29 1450.39 Q1157.1 1450.39 1160.15 1455 Q1163.23 1459.58 1163.23 1468.33 Q1163.23 1477.06 1160.15 1481.67 Q1157.1 1486.25 1151.29 1486.25 Q1145.47 1486.25 1142.4 1481.67 Q1139.34 1477.06 1139.34 1468.33 Q1139.34 1459.58 1142.4 1455 Q1145.47 1450.39 1151.29 1450.39 Z\" fill=\"#000000\" fill-rule=\"nonzero\" fill-opacity=\"1\" /><path clip-path=\"url(#clip210)\" d=\"M1524.76 1484.86 L1524.76 1480.6 Q1526.52 1481.44 1528.33 1481.88 Q1530.13 1482.32 1531.87 1482.32 Q1536.5 1482.32 1538.93 1479.21 Q1541.38 1476.09 1541.73 1469.75 Q1540.39 1471.74 1538.33 1472.8 Q1536.27 1473.87 1533.77 1473.87 Q1528.58 1473.87 1525.55 1470.74 Q1522.54 1467.59 1522.54 1462.15 Q1522.54 1456.83 1525.69 1453.61 Q1528.84 1450.39 1534.07 1450.39 Q1540.06 1450.39 1543.21 1455 Q1546.38 1459.58 1546.38 1468.33 Q1546.38 1476.51 1542.5 1481.39 Q1538.63 1486.25 1532.08 1486.25 Q1530.32 1486.25 1528.51 1485.9 Q1526.71 1485.56 1524.76 1484.86 M1534.07 1470.21 Q1537.22 1470.21 1539.05 1468.06 Q1540.9 1465.9 1540.9 1462.15 Q1540.9 1458.43 1539.05 1456.27 Q1537.22 1454.1 1534.07 1454.1 Q1530.92 1454.1 1529.07 1456.27 Q1527.24 1458.43 1527.24 1462.15 Q1527.24 1465.9 1529.07 1468.06 Q1530.92 1470.21 1534.07 1470.21 Z\" fill=\"#000000\" fill-rule=\"nonzero\" fill-opacity=\"1\" /><path clip-path=\"url(#clip210)\" d=\"M1564.79 1454.1 Q1561.18 1454.1 1559.35 1457.66 Q1557.54 1461.2 1557.54 1468.33 Q1557.54 1475.44 1559.35 1479.01 Q1561.18 1482.55 1564.79 1482.55 Q1568.42 1482.55 1570.23 1479.01 Q1572.06 1475.44 1572.06 1468.33 Q1572.06 1461.2 1570.23 1457.66 Q1568.42 1454.1 1564.79 1454.1 M1564.79 1450.39 Q1570.6 1450.39 1573.65 1455 Q1576.73 1459.58 1576.73 1468.33 Q1576.73 1477.06 1573.65 1481.67 Q1570.6 1486.25 1564.79 1486.25 Q1558.98 1486.25 1555.9 1481.67 Q1552.84 1477.06 1552.84 1468.33 Q1552.84 1459.58 1555.9 1455 Q1558.98 1450.39 1564.79 1450.39 Z\" fill=\"#000000\" fill-rule=\"nonzero\" fill-opacity=\"1\" /><path clip-path=\"url(#clip210)\" d=\"M1922.58 1481.64 L1930.22 1481.64 L1930.22 1455.28 L1921.91 1456.95 L1921.91 1452.69 L1930.18 1451.02 L1934.85 1451.02 L1934.85 1481.64 L1942.49 1481.64 L1942.49 1485.58 L1922.58 1485.58 L1922.58 1481.64 Z\" fill=\"#000000\" fill-rule=\"nonzero\" fill-opacity=\"1\" /><path clip-path=\"url(#clip210)\" d=\"M1955.96 1481.64 L1972.28 1481.64 L1972.28 1485.58 L1950.34 1485.58 L1950.34 1481.64 Q1953 1478.89 1957.58 1474.26 Q1962.19 1469.61 1963.37 1468.27 Q1965.62 1465.74 1966.49 1464.01 Q1967.4 1462.25 1967.4 1460.56 Q1967.4 1457.8 1965.45 1456.07 Q1963.53 1454.33 1960.43 1454.33 Q1958.23 1454.33 1955.78 1455.09 Q1953.35 1455.86 1950.57 1457.41 L1950.57 1452.69 Q1953.39 1451.55 1955.85 1450.97 Q1958.3 1450.39 1960.34 1450.39 Q1965.71 1450.39 1968.9 1453.08 Q1972.1 1455.77 1972.1 1460.26 Q1972.1 1462.39 1971.29 1464.31 Q1970.5 1466.2 1968.39 1468.8 Q1967.81 1469.47 1964.71 1472.69 Q1961.61 1475.88 1955.96 1481.64 Z\" fill=\"#000000\" fill-rule=\"nonzero\" fill-opacity=\"1\" /><path clip-path=\"url(#clip210)\" d=\"M1992.1 1454.1 Q1988.49 1454.1 1986.66 1457.66 Q1984.85 1461.2 1984.85 1468.33 Q1984.85 1475.44 1986.66 1479.01 Q1988.49 1482.55 1992.1 1482.55 Q1995.73 1482.55 1997.54 1479.01 Q1999.37 1475.44 1999.37 1468.33 Q1999.37 1461.2 1997.54 1457.66 Q1995.73 1454.1 1992.1 1454.1 M1992.1 1450.39 Q1997.91 1450.39 2000.96 1455 Q2004.04 1459.58 2004.04 1468.33 Q2004.04 1477.06 2000.96 1481.67 Q1997.91 1486.25 1992.1 1486.25 Q1986.29 1486.25 1983.21 1481.67 Q1980.15 1477.06 1980.15 1468.33 Q1980.15 1459.58 1983.21 1455 Q1986.29 1450.39 1992.1 1450.39 Z\" fill=\"#000000\" fill-rule=\"nonzero\" fill-opacity=\"1\" /><path clip-path=\"url(#clip210)\" d=\"M1104.04 1520.52 L1144.24 1520.52 L1144.24 1525.93 L1127.37 1525.93 L1127.37 1568.04 L1120.91 1568.04 L1120.91 1525.93 L1104.04 1525.93 L1104.04 1520.52 Z\" fill=\"#000000\" fill-rule=\"nonzero\" fill-opacity=\"1\" /><path clip-path=\"url(#clip210)\" d=\"M1148.19 1532.4 L1154.04 1532.4 L1154.04 1568.04 L1148.19 1568.04 L1148.19 1532.4 M1148.19 1518.52 L1154.04 1518.52 L1154.04 1525.93 L1148.19 1525.93 L1148.19 1518.52 Z\" fill=\"#000000\" fill-rule=\"nonzero\" fill-opacity=\"1\" /><path clip-path=\"url(#clip210)\" d=\"M1194.05 1539.24 Q1196.25 1535.29 1199.3 1533.41 Q1202.36 1531.54 1206.5 1531.54 Q1212.07 1531.54 1215.09 1535.45 Q1218.11 1539.33 1218.11 1546.53 L1218.11 1568.04 L1212.22 1568.04 L1212.22 1546.72 Q1212.22 1541.59 1210.41 1539.11 Q1208.6 1536.63 1204.87 1536.63 Q1200.32 1536.63 1197.68 1539.65 Q1195.04 1542.68 1195.04 1547.9 L1195.04 1568.04 L1189.15 1568.04 L1189.15 1546.72 Q1189.15 1541.56 1187.33 1539.11 Q1185.52 1536.63 1181.73 1536.63 Q1177.24 1536.63 1174.6 1539.68 Q1171.96 1542.71 1171.96 1547.9 L1171.96 1568.04 L1166.07 1568.04 L1166.07 1532.4 L1171.96 1532.4 L1171.96 1537.93 Q1173.97 1534.66 1176.77 1533.1 Q1179.57 1531.54 1183.42 1531.54 Q1187.3 1531.54 1190.01 1533.51 Q1192.75 1535.48 1194.05 1539.24 Z\" fill=\"#000000\" fill-rule=\"nonzero\" fill-opacity=\"1\" /><path clip-path=\"url(#clip210)\" d=\"M1260.29 1548.76 L1260.29 1551.62 L1233.36 1551.62 Q1233.74 1557.67 1236.99 1560.85 Q1240.27 1564 1246.09 1564 Q1249.46 1564 1252.61 1563.17 Q1255.8 1562.35 1258.92 1560.69 L1258.92 1566.23 Q1255.77 1567.57 1252.46 1568.27 Q1249.15 1568.97 1245.74 1568.97 Q1237.21 1568.97 1232.21 1564 Q1227.25 1559.04 1227.25 1550.57 Q1227.25 1541.82 1231.96 1536.69 Q1236.7 1531.54 1244.72 1531.54 Q1251.91 1531.54 1256.08 1536.18 Q1260.29 1540.8 1260.29 1548.76 M1254.43 1547.04 Q1254.37 1542.23 1251.72 1539.37 Q1249.11 1536.5 1244.78 1536.5 Q1239.88 1536.5 1236.92 1539.27 Q1234 1542.04 1233.55 1547.07 L1254.43 1547.04 Z\" fill=\"#000000\" fill-rule=\"nonzero\" fill-opacity=\"1\" /><path clip-path=\"url(#clip210)\" d=\"M1304.69 1518.58 Q1300.42 1525.9 1298.35 1533.06 Q1296.28 1540.23 1296.28 1547.58 Q1296.28 1554.93 1298.35 1562.16 Q1300.45 1569.35 1304.69 1576.64 L1299.59 1576.64 Q1294.82 1569.16 1292.43 1561.93 Q1290.08 1554.71 1290.08 1547.58 Q1290.08 1540.48 1292.43 1533.29 Q1294.79 1526.09 1299.59 1518.58 L1304.69 1518.58 Z\" fill=\"#000000\" fill-rule=\"nonzero\" fill-opacity=\"1\" /><path clip-path=\"url(#clip210)\" d=\"M1345.68 1546.53 L1345.68 1568.04 L1339.82 1568.04 L1339.82 1546.72 Q1339.82 1541.66 1337.85 1539.14 Q1335.88 1536.63 1331.93 1536.63 Q1327.19 1536.63 1324.45 1539.65 Q1321.71 1542.68 1321.71 1547.9 L1321.71 1568.04 L1315.83 1568.04 L1315.83 1518.52 L1321.71 1518.52 L1321.71 1537.93 Q1323.82 1534.72 1326.65 1533.13 Q1329.51 1531.54 1333.24 1531.54 Q1339.38 1531.54 1342.53 1535.36 Q1345.68 1539.14 1345.68 1546.53 Z\" fill=\"#000000\" fill-rule=\"nonzero\" fill-opacity=\"1\" /><path clip-path=\"url(#clip210)\" d=\"M1371.18 1536.5 Q1366.47 1536.5 1363.73 1540.19 Q1360.99 1543.85 1360.99 1550.25 Q1360.99 1556.65 1363.7 1560.34 Q1366.43 1564 1371.18 1564 Q1375.85 1564 1378.59 1560.31 Q1381.33 1556.62 1381.33 1550.25 Q1381.33 1543.92 1378.59 1540.23 Q1375.85 1536.5 1371.18 1536.5 M1371.18 1531.54 Q1378.81 1531.54 1383.18 1536.5 Q1387.54 1541.47 1387.54 1550.25 Q1387.54 1559 1383.18 1564 Q1378.81 1568.97 1371.18 1568.97 Q1363.51 1568.97 1359.14 1564 Q1354.82 1559 1354.82 1550.25 Q1354.82 1541.47 1359.14 1536.5 Q1363.51 1531.54 1371.18 1531.54 Z\" fill=\"#000000\" fill-rule=\"nonzero\" fill-opacity=\"1\" /><path clip-path=\"url(#clip210)\" d=\"M1396.64 1553.98 L1396.64 1532.4 L1402.5 1532.4 L1402.5 1553.75 Q1402.5 1558.81 1404.47 1561.36 Q1406.44 1563.87 1410.39 1563.87 Q1415.13 1563.87 1417.87 1560.85 Q1420.64 1557.83 1420.64 1552.61 L1420.64 1532.4 L1426.49 1532.4 L1426.49 1568.04 L1420.64 1568.04 L1420.64 1562.57 Q1418.51 1565.82 1415.67 1567.41 Q1412.87 1568.97 1409.15 1568.97 Q1403 1568.97 1399.82 1565.15 Q1396.64 1561.33 1396.64 1553.98 M1411.38 1531.54 L1411.38 1531.54 Z\" fill=\"#000000\" fill-rule=\"nonzero\" fill-opacity=\"1\" /><path clip-path=\"url(#clip210)\" d=\"M1459.21 1537.87 Q1458.23 1537.3 1457.05 1537.04 Q1455.9 1536.76 1454.5 1536.76 Q1449.54 1536.76 1446.86 1540 Q1444.22 1543.22 1444.22 1549.27 L1444.22 1568.04 L1438.33 1568.04 L1438.33 1532.4 L1444.22 1532.4 L1444.22 1537.93 Q1446.07 1534.69 1449.03 1533.13 Q1451.99 1531.54 1456.22 1531.54 Q1456.83 1531.54 1457.56 1531.63 Q1458.29 1531.7 1459.18 1531.85 L1459.21 1537.87 Z\" fill=\"#000000\" fill-rule=\"nonzero\" fill-opacity=\"1\" /><path clip-path=\"url(#clip210)\" d=\"M1488.08 1533.45 L1488.08 1538.98 Q1485.6 1537.71 1482.93 1537.07 Q1480.25 1536.44 1477.39 1536.44 Q1473.03 1536.44 1470.83 1537.77 Q1468.67 1539.11 1468.67 1541.79 Q1468.67 1543.82 1470.23 1545 Q1471.79 1546.15 1476.5 1547.2 L1478.5 1547.64 Q1484.74 1548.98 1487.35 1551.43 Q1489.99 1553.85 1489.99 1558.21 Q1489.99 1563.17 1486.05 1566.07 Q1482.13 1568.97 1475.26 1568.97 Q1472.39 1568.97 1469.27 1568.39 Q1466.18 1567.85 1462.75 1566.74 L1462.75 1560.69 Q1465.99 1562.38 1469.14 1563.24 Q1472.3 1564.07 1475.38 1564.07 Q1479.52 1564.07 1481.75 1562.66 Q1483.98 1561.23 1483.98 1558.65 Q1483.98 1556.27 1482.35 1554.99 Q1480.76 1553.72 1475.32 1552.54 L1473.28 1552.07 Q1467.84 1550.92 1465.42 1548.56 Q1463 1546.18 1463 1542.04 Q1463 1537.01 1466.57 1534.27 Q1470.13 1531.54 1476.69 1531.54 Q1479.93 1531.54 1482.8 1532.01 Q1485.66 1532.49 1488.08 1533.45 Z\" fill=\"#000000\" fill-rule=\"nonzero\" fill-opacity=\"1\" /><path clip-path=\"url(#clip210)\" d=\"M1498.39 1518.58 L1503.49 1518.58 Q1508.26 1526.09 1510.62 1533.29 Q1513 1540.48 1513 1547.58 Q1513 1554.71 1510.62 1561.93 Q1508.26 1569.16 1503.49 1576.64 L1498.39 1576.64 Q1502.63 1569.35 1504.7 1562.16 Q1506.8 1554.93 1506.8 1547.58 Q1506.8 1540.23 1504.7 1533.06 Q1502.63 1525.9 1498.39 1518.58 Z\" fill=\"#000000\" fill-rule=\"nonzero\" fill-opacity=\"1\" /><polyline clip-path=\"url(#clip212)\" style=\"stroke:#000000; stroke-linecap:round; stroke-linejoin:round; stroke-width:2; stroke-opacity:0.1; fill:none\" points=\"264.287,1301.2 2352.76,1301.2 \"/>\n",
       "<polyline clip-path=\"url(#clip212)\" style=\"stroke:#000000; stroke-linecap:round; stroke-linejoin:round; stroke-width:2; stroke-opacity:0.1; fill:none\" points=\"264.287,1051.14 2352.76,1051.14 \"/>\n",
       "<polyline clip-path=\"url(#clip212)\" style=\"stroke:#000000; stroke-linecap:round; stroke-linejoin:round; stroke-width:2; stroke-opacity:0.1; fill:none\" points=\"264.287,801.091 2352.76,801.091 \"/>\n",
       "<polyline clip-path=\"url(#clip212)\" style=\"stroke:#000000; stroke-linecap:round; stroke-linejoin:round; stroke-width:2; stroke-opacity:0.1; fill:none\" points=\"264.287,551.038 2352.76,551.038 \"/>\n",
       "<polyline clip-path=\"url(#clip212)\" style=\"stroke:#000000; stroke-linecap:round; stroke-linejoin:round; stroke-width:2; stroke-opacity:0.1; fill:none\" points=\"264.287,300.985 2352.76,300.985 \"/>\n",
       "<polyline clip-path=\"url(#clip210)\" style=\"stroke:#000000; stroke-linecap:round; stroke-linejoin:round; stroke-width:4; stroke-opacity:1; fill:none\" points=\"264.287,1423.18 264.287,123.472 \"/>\n",
       "<polyline clip-path=\"url(#clip210)\" style=\"stroke:#000000; stroke-linecap:round; stroke-linejoin:round; stroke-width:4; stroke-opacity:1; fill:none\" points=\"264.287,1301.2 283.185,1301.2 \"/>\n",
       "<polyline clip-path=\"url(#clip210)\" style=\"stroke:#000000; stroke-linecap:round; stroke-linejoin:round; stroke-width:4; stroke-opacity:1; fill:none\" points=\"264.287,1051.14 283.185,1051.14 \"/>\n",
       "<polyline clip-path=\"url(#clip210)\" style=\"stroke:#000000; stroke-linecap:round; stroke-linejoin:round; stroke-width:4; stroke-opacity:1; fill:none\" points=\"264.287,801.091 283.185,801.091 \"/>\n",
       "<polyline clip-path=\"url(#clip210)\" style=\"stroke:#000000; stroke-linecap:round; stroke-linejoin:round; stroke-width:4; stroke-opacity:1; fill:none\" points=\"264.287,551.038 283.185,551.038 \"/>\n",
       "<polyline clip-path=\"url(#clip210)\" style=\"stroke:#000000; stroke-linecap:round; stroke-linejoin:round; stroke-width:4; stroke-opacity:1; fill:none\" points=\"264.287,300.985 283.185,300.985 \"/>\n",
       "<path clip-path=\"url(#clip210)\" d=\"M116.668 1314.54 L124.306 1314.54 L124.306 1288.18 L115.996 1289.84 L115.996 1285.58 L124.26 1283.92 L128.936 1283.92 L128.936 1314.54 L136.575 1314.54 L136.575 1318.48 L116.668 1318.48 L116.668 1314.54 Z\" fill=\"#000000\" fill-rule=\"nonzero\" fill-opacity=\"1\" /><path clip-path=\"url(#clip210)\" d=\"M146.066 1283.92 L164.422 1283.92 L164.422 1287.85 L150.348 1287.85 L150.348 1296.33 Q151.366 1295.98 152.385 1295.82 Q153.403 1295.63 154.422 1295.63 Q160.209 1295.63 163.589 1298.8 Q166.968 1301.97 166.968 1307.39 Q166.968 1312.97 163.496 1316.07 Q160.024 1319.15 153.704 1319.15 Q151.528 1319.15 149.26 1318.78 Q147.015 1318.41 144.607 1317.67 L144.607 1312.97 Q146.691 1314.1 148.913 1314.66 Q151.135 1315.21 153.612 1315.21 Q157.616 1315.21 159.954 1313.11 Q162.292 1311 162.292 1307.39 Q162.292 1303.78 159.954 1301.67 Q157.616 1299.57 153.612 1299.57 Q151.737 1299.57 149.862 1299.98 Q148.01 1300.4 146.066 1301.28 L146.066 1283.92 Z\" fill=\"#000000\" fill-rule=\"nonzero\" fill-opacity=\"1\" /><path clip-path=\"url(#clip210)\" d=\"M186.181 1287 Q182.57 1287 180.741 1290.56 Q178.936 1294.1 178.936 1301.23 Q178.936 1308.34 180.741 1311.9 Q182.57 1315.45 186.181 1315.45 Q189.815 1315.45 191.621 1311.9 Q193.45 1308.34 193.45 1301.23 Q193.45 1294.1 191.621 1290.56 Q189.815 1287 186.181 1287 M186.181 1283.29 Q191.991 1283.29 195.047 1287.9 Q198.125 1292.48 198.125 1301.23 Q198.125 1309.96 195.047 1314.57 Q191.991 1319.15 186.181 1319.15 Q180.371 1319.15 177.292 1314.57 Q174.237 1309.96 174.237 1301.23 Q174.237 1292.48 177.292 1287.9 Q180.371 1283.29 186.181 1283.29 Z\" fill=\"#000000\" fill-rule=\"nonzero\" fill-opacity=\"1\" /><path clip-path=\"url(#clip210)\" d=\"M216.343 1287 Q212.732 1287 210.903 1290.56 Q209.098 1294.1 209.098 1301.23 Q209.098 1308.34 210.903 1311.9 Q212.732 1315.45 216.343 1315.45 Q219.977 1315.45 221.783 1311.9 Q223.611 1308.34 223.611 1301.23 Q223.611 1294.1 221.783 1290.56 Q219.977 1287 216.343 1287 M216.343 1283.29 Q222.153 1283.29 225.209 1287.9 Q228.287 1292.48 228.287 1301.23 Q228.287 1309.96 225.209 1314.57 Q222.153 1319.15 216.343 1319.15 Q210.533 1319.15 207.454 1314.57 Q204.399 1309.96 204.399 1301.23 Q204.399 1292.48 207.454 1287.9 Q210.533 1283.29 216.343 1283.29 Z\" fill=\"#000000\" fill-rule=\"nonzero\" fill-opacity=\"1\" /><path clip-path=\"url(#clip210)\" d=\"M119.885 1064.49 L136.204 1064.49 L136.204 1068.42 L114.26 1068.42 L114.26 1064.49 Q116.922 1061.73 121.505 1057.11 Q126.112 1052.45 127.292 1051.11 Q129.538 1048.59 130.417 1046.85 Q131.32 1045.09 131.32 1043.4 Q131.32 1040.65 129.376 1038.91 Q127.455 1037.17 124.353 1037.17 Q122.154 1037.17 119.7 1037.94 Q117.269 1038.7 114.492 1040.25 L114.492 1035.53 Q117.316 1034.4 119.769 1033.82 Q122.223 1033.24 124.26 1033.24 Q129.63 1033.24 132.825 1035.92 Q136.019 1038.61 136.019 1043.1 Q136.019 1045.23 135.209 1047.15 Q134.422 1049.05 132.316 1051.64 Q131.737 1052.31 128.635 1055.53 Q125.533 1058.73 119.885 1064.49 Z\" fill=\"#000000\" fill-rule=\"nonzero\" fill-opacity=\"1\" /><path clip-path=\"url(#clip210)\" d=\"M156.019 1036.94 Q152.408 1036.94 150.579 1040.51 Q148.774 1044.05 148.774 1051.18 Q148.774 1058.29 150.579 1061.85 Q152.408 1065.39 156.019 1065.39 Q159.653 1065.39 161.459 1061.85 Q163.288 1058.29 163.288 1051.18 Q163.288 1044.05 161.459 1040.51 Q159.653 1036.94 156.019 1036.94 M156.019 1033.24 Q161.829 1033.24 164.885 1037.85 Q167.964 1042.43 167.964 1051.18 Q167.964 1059.91 164.885 1064.51 Q161.829 1069.1 156.019 1069.1 Q150.209 1069.1 147.13 1064.51 Q144.075 1059.91 144.075 1051.18 Q144.075 1042.43 147.13 1037.85 Q150.209 1033.24 156.019 1033.24 Z\" fill=\"#000000\" fill-rule=\"nonzero\" fill-opacity=\"1\" /><path clip-path=\"url(#clip210)\" d=\"M186.181 1036.94 Q182.57 1036.94 180.741 1040.51 Q178.936 1044.05 178.936 1051.18 Q178.936 1058.29 180.741 1061.85 Q182.57 1065.39 186.181 1065.39 Q189.815 1065.39 191.621 1061.85 Q193.45 1058.29 193.45 1051.18 Q193.45 1044.05 191.621 1040.51 Q189.815 1036.94 186.181 1036.94 M186.181 1033.24 Q191.991 1033.24 195.047 1037.85 Q198.125 1042.43 198.125 1051.18 Q198.125 1059.91 195.047 1064.51 Q191.991 1069.1 186.181 1069.1 Q180.371 1069.1 177.292 1064.51 Q174.237 1059.91 174.237 1051.18 Q174.237 1042.43 177.292 1037.85 Q180.371 1033.24 186.181 1033.24 Z\" fill=\"#000000\" fill-rule=\"nonzero\" fill-opacity=\"1\" /><path clip-path=\"url(#clip210)\" d=\"M216.343 1036.94 Q212.732 1036.94 210.903 1040.51 Q209.098 1044.05 209.098 1051.18 Q209.098 1058.29 210.903 1061.85 Q212.732 1065.39 216.343 1065.39 Q219.977 1065.39 221.783 1061.85 Q223.611 1058.29 223.611 1051.18 Q223.611 1044.05 221.783 1040.51 Q219.977 1036.94 216.343 1036.94 M216.343 1033.24 Q222.153 1033.24 225.209 1037.85 Q228.287 1042.43 228.287 1051.18 Q228.287 1059.91 225.209 1064.51 Q222.153 1069.1 216.343 1069.1 Q210.533 1069.1 207.454 1064.51 Q204.399 1059.91 204.399 1051.18 Q204.399 1042.43 207.454 1037.85 Q210.533 1033.24 216.343 1033.24 Z\" fill=\"#000000\" fill-rule=\"nonzero\" fill-opacity=\"1\" /><path clip-path=\"url(#clip210)\" d=\"M119.885 814.436 L136.204 814.436 L136.204 818.371 L114.26 818.371 L114.26 814.436 Q116.922 811.682 121.505 807.052 Q126.112 802.399 127.292 801.057 Q129.538 798.534 130.417 796.797 Q131.32 795.038 131.32 793.348 Q131.32 790.594 129.376 788.858 Q127.455 787.122 124.353 787.122 Q122.154 787.122 119.7 787.885 Q117.269 788.649 114.492 790.2 L114.492 785.478 Q117.316 784.344 119.769 783.765 Q122.223 783.186 124.26 783.186 Q129.63 783.186 132.825 785.872 Q136.019 788.557 136.019 793.047 Q136.019 795.177 135.209 797.098 Q134.422 798.997 132.316 801.589 Q131.737 802.26 128.635 805.478 Q125.533 808.672 119.885 814.436 Z\" fill=\"#000000\" fill-rule=\"nonzero\" fill-opacity=\"1\" /><path clip-path=\"url(#clip210)\" d=\"M146.066 783.811 L164.422 783.811 L164.422 787.747 L150.348 787.747 L150.348 796.219 Q151.366 795.872 152.385 795.709 Q153.403 795.524 154.422 795.524 Q160.209 795.524 163.589 798.696 Q166.968 801.867 166.968 807.283 Q166.968 812.862 163.496 815.964 Q160.024 819.043 153.704 819.043 Q151.528 819.043 149.26 818.672 Q147.015 818.302 144.607 817.561 L144.607 812.862 Q146.691 813.996 148.913 814.552 Q151.135 815.108 153.612 815.108 Q157.616 815.108 159.954 813.001 Q162.292 810.895 162.292 807.283 Q162.292 803.672 159.954 801.566 Q157.616 799.459 153.612 799.459 Q151.737 799.459 149.862 799.876 Q148.01 800.293 146.066 801.172 L146.066 783.811 Z\" fill=\"#000000\" fill-rule=\"nonzero\" fill-opacity=\"1\" /><path clip-path=\"url(#clip210)\" d=\"M186.181 786.89 Q182.57 786.89 180.741 790.455 Q178.936 793.997 178.936 801.126 Q178.936 808.233 180.741 811.797 Q182.57 815.339 186.181 815.339 Q189.815 815.339 191.621 811.797 Q193.45 808.233 193.45 801.126 Q193.45 793.997 191.621 790.455 Q189.815 786.89 186.181 786.89 M186.181 783.186 Q191.991 783.186 195.047 787.793 Q198.125 792.376 198.125 801.126 Q198.125 809.853 195.047 814.459 Q191.991 819.043 186.181 819.043 Q180.371 819.043 177.292 814.459 Q174.237 809.853 174.237 801.126 Q174.237 792.376 177.292 787.793 Q180.371 783.186 186.181 783.186 Z\" fill=\"#000000\" fill-rule=\"nonzero\" fill-opacity=\"1\" /><path clip-path=\"url(#clip210)\" d=\"M216.343 786.89 Q212.732 786.89 210.903 790.455 Q209.098 793.997 209.098 801.126 Q209.098 808.233 210.903 811.797 Q212.732 815.339 216.343 815.339 Q219.977 815.339 221.783 811.797 Q223.611 808.233 223.611 801.126 Q223.611 793.997 221.783 790.455 Q219.977 786.89 216.343 786.89 M216.343 783.186 Q222.153 783.186 225.209 787.793 Q228.287 792.376 228.287 801.126 Q228.287 809.853 225.209 814.459 Q222.153 819.043 216.343 819.043 Q210.533 819.043 207.454 814.459 Q204.399 809.853 204.399 801.126 Q204.399 792.376 207.454 787.793 Q210.533 783.186 216.343 783.186 Z\" fill=\"#000000\" fill-rule=\"nonzero\" fill-opacity=\"1\" /><path clip-path=\"url(#clip210)\" d=\"M130.024 549.684 Q133.38 550.402 135.255 552.67 Q137.154 554.939 137.154 558.272 Q137.154 563.388 133.635 566.188 Q130.117 568.989 123.635 568.989 Q121.459 568.989 119.144 568.55 Q116.853 568.133 114.399 567.276 L114.399 562.763 Q116.343 563.897 118.658 564.476 Q120.973 565.054 123.496 565.054 Q127.894 565.054 130.186 563.318 Q132.501 561.582 132.501 558.272 Q132.501 555.216 130.348 553.503 Q128.218 551.767 124.399 551.767 L120.371 551.767 L120.371 547.925 L124.584 547.925 Q128.033 547.925 129.862 546.559 Q131.691 545.17 131.691 542.578 Q131.691 539.915 129.792 538.503 Q127.917 537.068 124.399 537.068 Q122.478 537.068 120.279 537.485 Q118.08 537.902 115.441 538.781 L115.441 534.615 Q118.103 533.874 120.418 533.503 Q122.755 533.133 124.816 533.133 Q130.14 533.133 133.242 535.564 Q136.343 537.971 136.343 542.091 Q136.343 544.962 134.7 546.952 Q133.056 548.92 130.024 549.684 Z\" fill=\"#000000\" fill-rule=\"nonzero\" fill-opacity=\"1\" /><path clip-path=\"url(#clip210)\" d=\"M156.019 536.837 Q152.408 536.837 150.579 540.402 Q148.774 543.943 148.774 551.073 Q148.774 558.179 150.579 561.744 Q152.408 565.286 156.019 565.286 Q159.653 565.286 161.459 561.744 Q163.288 558.179 163.288 551.073 Q163.288 543.943 161.459 540.402 Q159.653 536.837 156.019 536.837 M156.019 533.133 Q161.829 533.133 164.885 537.74 Q167.964 542.323 167.964 551.073 Q167.964 559.8 164.885 564.406 Q161.829 568.989 156.019 568.989 Q150.209 568.989 147.13 564.406 Q144.075 559.8 144.075 551.073 Q144.075 542.323 147.13 537.74 Q150.209 533.133 156.019 533.133 Z\" fill=\"#000000\" fill-rule=\"nonzero\" fill-opacity=\"1\" /><path clip-path=\"url(#clip210)\" d=\"M186.181 536.837 Q182.57 536.837 180.741 540.402 Q178.936 543.943 178.936 551.073 Q178.936 558.179 180.741 561.744 Q182.57 565.286 186.181 565.286 Q189.815 565.286 191.621 561.744 Q193.45 558.179 193.45 551.073 Q193.45 543.943 191.621 540.402 Q189.815 536.837 186.181 536.837 M186.181 533.133 Q191.991 533.133 195.047 537.74 Q198.125 542.323 198.125 551.073 Q198.125 559.8 195.047 564.406 Q191.991 568.989 186.181 568.989 Q180.371 568.989 177.292 564.406 Q174.237 559.8 174.237 551.073 Q174.237 542.323 177.292 537.74 Q180.371 533.133 186.181 533.133 Z\" fill=\"#000000\" fill-rule=\"nonzero\" fill-opacity=\"1\" /><path clip-path=\"url(#clip210)\" d=\"M216.343 536.837 Q212.732 536.837 210.903 540.402 Q209.098 543.943 209.098 551.073 Q209.098 558.179 210.903 561.744 Q212.732 565.286 216.343 565.286 Q219.977 565.286 221.783 561.744 Q223.611 558.179 223.611 551.073 Q223.611 543.943 221.783 540.402 Q219.977 536.837 216.343 536.837 M216.343 533.133 Q222.153 533.133 225.209 537.74 Q228.287 542.323 228.287 551.073 Q228.287 559.8 225.209 564.406 Q222.153 568.989 216.343 568.989 Q210.533 568.989 207.454 564.406 Q204.399 559.8 204.399 551.073 Q204.399 542.323 207.454 537.74 Q210.533 533.133 216.343 533.133 Z\" fill=\"#000000\" fill-rule=\"nonzero\" fill-opacity=\"1\" /><path clip-path=\"url(#clip210)\" d=\"M130.024 299.631 Q133.38 300.348 135.255 302.617 Q137.154 304.885 137.154 308.219 Q137.154 313.334 133.635 316.135 Q130.117 318.936 123.635 318.936 Q121.459 318.936 119.144 318.496 Q116.853 318.08 114.399 317.223 L114.399 312.709 Q116.343 313.844 118.658 314.422 Q120.973 315.001 123.496 315.001 Q127.894 315.001 130.186 313.265 Q132.501 311.529 132.501 308.219 Q132.501 305.163 130.348 303.45 Q128.218 301.714 124.399 301.714 L120.371 301.714 L120.371 297.871 L124.584 297.871 Q128.033 297.871 129.862 296.506 Q131.691 295.117 131.691 292.524 Q131.691 289.862 129.792 288.45 Q127.917 287.015 124.399 287.015 Q122.478 287.015 120.279 287.432 Q118.08 287.848 115.441 288.728 L115.441 284.561 Q118.103 283.821 120.418 283.45 Q122.755 283.08 124.816 283.08 Q130.14 283.08 133.242 285.51 Q136.343 287.918 136.343 292.038 Q136.343 294.908 134.7 296.899 Q133.056 298.867 130.024 299.631 Z\" fill=\"#000000\" fill-rule=\"nonzero\" fill-opacity=\"1\" /><path clip-path=\"url(#clip210)\" d=\"M146.066 283.705 L164.422 283.705 L164.422 287.64 L150.348 287.64 L150.348 296.112 Q151.366 295.765 152.385 295.603 Q153.403 295.418 154.422 295.418 Q160.209 295.418 163.589 298.589 Q166.968 301.76 166.968 307.177 Q166.968 312.756 163.496 315.857 Q160.024 318.936 153.704 318.936 Q151.528 318.936 149.26 318.566 Q147.015 318.195 144.607 317.455 L144.607 312.756 Q146.691 313.89 148.913 314.445 Q151.135 315.001 153.612 315.001 Q157.616 315.001 159.954 312.894 Q162.292 310.788 162.292 307.177 Q162.292 303.566 159.954 301.459 Q157.616 299.353 153.612 299.353 Q151.737 299.353 149.862 299.77 Q148.01 300.186 146.066 301.066 L146.066 283.705 Z\" fill=\"#000000\" fill-rule=\"nonzero\" fill-opacity=\"1\" /><path clip-path=\"url(#clip210)\" d=\"M186.181 286.784 Q182.57 286.784 180.741 290.348 Q178.936 293.89 178.936 301.02 Q178.936 308.126 180.741 311.691 Q182.57 315.232 186.181 315.232 Q189.815 315.232 191.621 311.691 Q193.45 308.126 193.45 301.02 Q193.45 293.89 191.621 290.348 Q189.815 286.784 186.181 286.784 M186.181 283.08 Q191.991 283.08 195.047 287.686 Q198.125 292.27 198.125 301.02 Q198.125 309.746 195.047 314.353 Q191.991 318.936 186.181 318.936 Q180.371 318.936 177.292 314.353 Q174.237 309.746 174.237 301.02 Q174.237 292.27 177.292 287.686 Q180.371 283.08 186.181 283.08 Z\" fill=\"#000000\" fill-rule=\"nonzero\" fill-opacity=\"1\" /><path clip-path=\"url(#clip210)\" d=\"M216.343 286.784 Q212.732 286.784 210.903 290.348 Q209.098 293.89 209.098 301.02 Q209.098 308.126 210.903 311.691 Q212.732 315.232 216.343 315.232 Q219.977 315.232 221.783 311.691 Q223.611 308.126 223.611 301.02 Q223.611 293.89 221.783 290.348 Q219.977 286.784 216.343 286.784 M216.343 283.08 Q222.153 283.08 225.209 287.686 Q228.287 292.27 228.287 301.02 Q228.287 309.746 225.209 314.353 Q222.153 318.936 216.343 318.936 Q210.533 318.936 207.454 314.353 Q204.399 309.746 204.399 301.02 Q204.399 292.27 207.454 287.686 Q210.533 283.08 216.343 283.08 Z\" fill=\"#000000\" fill-rule=\"nonzero\" fill-opacity=\"1\" /><path clip-path=\"url(#clip210)\" d=\"M16.4842 1000.69 L16.4842 992.036 L56.238 970.965 L16.4842 970.965 L16.4842 964.727 L64.0042 964.727 L64.0042 973.384 L24.2503 994.455 L64.0042 994.455 L64.0042 1000.69 L16.4842 1000.69 Z\" fill=\"#000000\" fill-rule=\"nonzero\" fill-opacity=\"1\" /><path clip-path=\"url(#clip210)\" d=\"M44.7161 921.695 L47.5806 921.695 L47.5806 948.622 Q53.6281 948.24 56.8109 944.993 Q59.9619 941.715 59.9619 935.89 Q59.9619 932.516 59.1344 929.365 Q58.3069 926.183 56.6518 923.063 L62.1899 923.063 Q63.5267 926.214 64.227 929.525 Q64.9272 932.835 64.9272 936.24 Q64.9272 944.77 59.9619 949.767 Q54.9967 954.733 46.5303 954.733 Q37.7774 954.733 32.6531 950.022 Q27.4968 945.28 27.4968 937.259 Q27.4968 930.066 32.1438 925.896 Q36.7589 921.695 44.7161 921.695 M42.9973 927.551 Q38.1912 927.615 35.3266 930.257 Q32.4621 932.867 32.4621 937.195 Q32.4621 942.097 35.2312 945.057 Q38.0002 947.985 43.0292 948.431 L42.9973 927.551 Z\" fill=\"#000000\" fill-rule=\"nonzero\" fill-opacity=\"1\" /><path clip-path=\"url(#clip210)\" d=\"M18.2347 906.29 L28.3562 906.29 L28.3562 894.227 L32.9077 894.227 L32.9077 906.29 L52.2594 906.29 Q56.6199 906.29 57.8613 905.112 Q59.1026 903.903 59.1026 900.242 L59.1026 894.227 L64.0042 894.227 L64.0042 900.242 Q64.0042 907.022 61.4897 909.6 Q58.9434 912.178 52.2594 912.178 L32.9077 912.178 L32.9077 916.475 L28.3562 916.475 L28.3562 912.178 L18.2347 912.178 L18.2347 906.29 Z\" fill=\"#000000\" fill-rule=\"nonzero\" fill-opacity=\"1\" /><path clip-path=\"url(#clip210)\" d=\"M14.479 865.804 L14.479 859.947 L64.0042 859.947 L64.0042 865.804 L14.479 865.804 Z\" fill=\"#000000\" fill-rule=\"nonzero\" fill-opacity=\"1\" /><path clip-path=\"url(#clip210)\" d=\"M32.4621 833.88 Q32.4621 838.59 36.1542 841.328 Q39.8145 844.065 46.212 844.065 Q52.6095 844.065 56.3017 841.359 Q59.9619 838.622 59.9619 833.88 Q59.9619 829.201 56.2698 826.464 Q52.5777 823.726 46.212 823.726 Q39.8781 823.726 36.186 826.464 Q32.4621 829.201 32.4621 833.88 M27.4968 833.88 Q27.4968 826.241 32.4621 821.88 Q37.4273 817.52 46.212 817.52 Q54.9649 817.52 59.9619 821.88 Q64.9272 826.241 64.9272 833.88 Q64.9272 841.55 59.9619 845.911 Q54.9649 850.24 46.212 850.24 Q37.4273 850.24 32.4621 845.911 Q27.4968 841.55 27.4968 833.88 Z\" fill=\"#000000\" fill-rule=\"nonzero\" fill-opacity=\"1\" /><path clip-path=\"url(#clip210)\" d=\"M46.0847 791.611 Q46.0847 798.709 47.7079 801.446 Q49.3312 804.184 53.2461 804.184 Q56.3653 804.184 58.2114 802.147 Q60.0256 800.078 60.0256 796.545 Q60.0256 791.675 56.5881 788.747 Q53.1188 785.787 47.3897 785.787 L46.0847 785.787 L46.0847 791.611 M43.6657 779.93 L64.0042 779.93 L64.0042 785.787 L58.5933 785.787 Q61.8398 787.792 63.3994 790.784 Q64.9272 793.776 64.9272 798.104 Q64.9272 803.579 61.8716 806.826 Q58.7843 810.04 53.6281 810.04 Q47.6125 810.04 44.5569 806.03 Q41.5014 801.988 41.5014 793.999 L41.5014 785.787 L40.9285 785.787 Q36.8862 785.787 34.6901 788.46 Q32.4621 791.102 32.4621 795.908 Q32.4621 798.964 33.1941 801.86 Q33.9262 804.757 35.3903 807.43 L29.9795 807.43 Q28.7381 804.216 28.1334 801.192 Q27.4968 798.168 27.4968 795.304 Q27.4968 787.569 31.5072 783.75 Q35.5176 779.93 43.6657 779.93 Z\" fill=\"#000000\" fill-rule=\"nonzero\" fill-opacity=\"1\" /><path clip-path=\"url(#clip210)\" d=\"M33.7671 744.41 L14.479 744.41 L14.479 738.553 L64.0042 738.553 L64.0042 744.41 L58.657 744.41 Q61.8398 746.256 63.3994 749.089 Q64.9272 751.889 64.9272 755.836 Q64.9272 762.297 59.771 766.371 Q54.6147 770.414 46.212 770.414 Q37.8093 770.414 32.6531 766.371 Q27.4968 762.297 27.4968 755.836 Q27.4968 751.889 29.0564 749.089 Q30.5842 746.256 33.7671 744.41 M46.212 764.366 Q52.6732 764.366 56.3653 761.724 Q60.0256 759.051 60.0256 754.404 Q60.0256 749.757 56.3653 747.083 Q52.6732 744.41 46.212 744.41 Q39.7508 744.41 36.0905 747.083 Q32.3984 749.757 32.3984 754.404 Q32.3984 759.051 36.0905 761.724 Q39.7508 764.366 46.212 764.366 Z\" fill=\"#000000\" fill-rule=\"nonzero\" fill-opacity=\"1\" /><path clip-path=\"url(#clip210)\" d=\"M14.5426 691.702 Q21.8632 695.967 29.0246 698.036 Q36.186 700.104 43.5384 700.104 Q50.8908 700.104 58.1159 698.036 Q65.3091 695.935 72.5979 691.702 L72.5979 696.794 Q65.1182 701.569 57.8931 703.956 Q50.668 706.311 43.5384 706.311 Q36.4406 706.311 29.2474 703.956 Q22.0542 701.6 14.5426 696.794 L14.5426 691.702 Z\" fill=\"#000000\" fill-rule=\"nonzero\" fill-opacity=\"1\" /><path clip-path=\"url(#clip210)\" d=\"M16.4842 680.084 L16.4842 670.504 L48.8219 658.377 L16.4842 646.187 L16.4842 636.607 L64.0042 636.607 L64.0042 642.877 L22.277 642.877 L54.8694 655.131 L54.8694 661.592 L22.277 673.846 L64.0042 673.846 L64.0042 680.084 L16.4842 680.084 Z\" fill=\"#000000\" fill-rule=\"nonzero\" fill-opacity=\"1\" /><path clip-path=\"url(#clip210)\" d=\"M16.4842 628.076 L16.4842 621.583 L56.6518 611.589 L16.4842 601.627 L16.4842 594.402 L56.6518 584.408 L16.4842 574.445 L16.4842 567.921 L64.0042 579.856 L64.0042 587.941 L22.7544 597.967 L64.0042 608.088 L64.0042 616.173 L16.4842 628.076 Z\" fill=\"#000000\" fill-rule=\"nonzero\" fill-opacity=\"1\" /><path clip-path=\"url(#clip210)\" d=\"M14.5426 560.568 L14.5426 555.476 Q22.0542 550.701 29.2474 548.346 Q36.4406 545.959 43.5384 545.959 Q50.668 545.959 57.8931 548.346 Q65.1182 550.701 72.5979 555.476 L72.5979 560.568 Q65.3091 556.335 58.1159 554.266 Q50.8908 552.165 43.5384 552.165 Q36.186 552.165 29.0246 554.266 Q21.8632 556.335 14.5426 560.568 Z\" fill=\"#000000\" fill-rule=\"nonzero\" fill-opacity=\"1\" /><path clip-path=\"url(#clip210)\" d=\"M696.734 12.096 L707.752 12.096 L734.569 62.6918 L734.569 12.096 L742.509 12.096 L742.509 72.576 L731.491 72.576 L704.674 21.9802 L704.674 72.576 L696.734 72.576 L696.734 12.096 Z\" fill=\"#000000\" fill-rule=\"nonzero\" fill-opacity=\"1\" /><path clip-path=\"url(#clip210)\" d=\"M797.277 48.0275 L797.277 51.6733 L763.007 51.6733 Q763.493 59.3701 767.625 63.421 Q771.797 67.4314 779.21 67.4314 Q783.504 67.4314 787.515 66.3781 Q791.565 65.3249 795.535 63.2184 L795.535 70.267 Q791.525 71.9684 787.312 72.8596 Q783.099 73.7508 778.765 73.7508 Q767.908 73.7508 761.548 67.4314 Q755.229 61.1119 755.229 50.3365 Q755.229 39.1965 761.224 32.6746 Q767.26 26.1121 777.468 26.1121 Q786.623 26.1121 791.93 32.0264 Q797.277 37.9003 797.277 48.0275 M789.824 45.84 Q789.743 39.7232 786.38 36.0774 Q783.059 32.4315 777.549 32.4315 Q771.311 32.4315 767.544 35.9558 Q763.817 39.4801 763.25 45.8805 L789.824 45.84 Z\" fill=\"#000000\" fill-rule=\"nonzero\" fill-opacity=\"1\" /><path clip-path=\"url(#clip210)\" d=\"M816.884 14.324 L816.884 27.2059 L832.237 27.2059 L832.237 32.9987 L816.884 32.9987 L816.884 57.6282 Q816.884 63.1779 818.382 64.7578 Q819.922 66.3376 824.58 66.3376 L832.237 66.3376 L832.237 72.576 L824.58 72.576 Q815.952 72.576 812.671 69.3758 Q809.389 66.1351 809.389 57.6282 L809.389 32.9987 L803.921 32.9987 L803.921 27.2059 L809.389 27.2059 L809.389 14.324 L816.884 14.324 Z\" fill=\"#000000\" fill-rule=\"nonzero\" fill-opacity=\"1\" /><path clip-path=\"url(#clip210)\" d=\"M868.411 9.54393 L875.865 9.54393 L875.865 72.576 L868.411 72.576 L868.411 9.54393 Z\" fill=\"#000000\" fill-rule=\"nonzero\" fill-opacity=\"1\" /><path clip-path=\"url(#clip210)\" d=\"M909.042 32.4315 Q903.046 32.4315 899.563 37.1306 Q896.079 41.7891 896.079 49.9314 Q896.079 58.0738 899.522 62.7728 Q903.006 67.4314 909.042 67.4314 Q914.997 67.4314 918.48 62.7323 Q921.964 58.0333 921.964 49.9314 Q921.964 41.8701 918.48 37.1711 Q914.997 32.4315 909.042 32.4315 M909.042 26.1121 Q918.764 26.1121 924.314 32.4315 Q929.863 38.7509 929.863 49.9314 Q929.863 61.0714 924.314 67.4314 Q918.764 73.7508 909.042 73.7508 Q899.279 73.7508 893.729 67.4314 Q888.22 61.0714 888.22 49.9314 Q888.22 38.7509 893.729 32.4315 Q899.279 26.1121 909.042 26.1121 Z\" fill=\"#000000\" fill-rule=\"nonzero\" fill-opacity=\"1\" /><path clip-path=\"url(#clip210)\" d=\"M962.838 49.7694 Q953.804 49.7694 950.32 51.8354 Q946.837 53.9013 946.837 58.8839 Q946.837 62.8538 949.429 65.2034 Q952.062 67.5124 956.559 67.5124 Q962.757 67.5124 966.484 63.1374 Q970.251 58.7219 970.251 51.4303 L970.251 49.7694 L962.838 49.7694 M977.705 46.6907 L977.705 72.576 L970.251 72.576 L970.251 65.6895 Q967.699 69.8214 963.891 71.8063 Q960.083 73.7508 954.574 73.7508 Q947.606 73.7508 943.474 69.8619 Q939.383 65.9325 939.383 59.3701 Q939.383 51.7138 944.487 47.825 Q949.632 43.9361 959.8 43.9361 L970.251 43.9361 L970.251 43.2069 Q970.251 38.0623 966.848 35.2672 Q963.486 32.4315 957.369 32.4315 Q953.48 32.4315 949.794 33.3632 Q946.107 34.295 942.705 36.1584 L942.705 29.2718 Q946.796 27.692 950.644 26.9223 Q954.493 26.1121 958.139 26.1121 Q967.982 26.1121 972.843 31.2163 Q977.705 36.3204 977.705 46.6907 Z\" fill=\"#000000\" fill-rule=\"nonzero\" fill-opacity=\"1\" /><path clip-path=\"url(#clip210)\" d=\"M1022.91 34.0924 L1022.91 9.54393 L1030.37 9.54393 L1030.37 72.576 L1022.91 72.576 L1022.91 65.7705 Q1020.56 69.8214 1016.96 71.8063 Q1013.39 73.7508 1008.37 73.7508 Q1000.15 73.7508 994.961 67.1883 Q989.817 60.6258 989.817 49.9314 Q989.817 39.2371 994.961 32.6746 Q1000.15 26.1121 1008.37 26.1121 Q1013.39 26.1121 1016.96 28.0971 Q1020.56 30.0415 1022.91 34.0924 M997.513 49.9314 Q997.513 58.1548 1000.88 62.8538 Q1004.28 67.5124 1010.19 67.5124 Q1016.11 67.5124 1019.51 62.8538 Q1022.91 58.1548 1022.91 49.9314 Q1022.91 41.7081 1019.51 37.0496 Q1016.11 32.3505 1010.19 32.3505 Q1004.28 32.3505 1000.88 37.0496 Q997.513 41.7081 997.513 49.9314 Z\" fill=\"#000000\" fill-rule=\"nonzero\" fill-opacity=\"1\" /><path clip-path=\"url(#clip210)\" d=\"M1095.06 9.54393 L1095.06 15.7418 L1087.93 15.7418 Q1083.92 15.7418 1082.34 17.3622 Q1080.8 18.9825 1080.8 23.1955 L1080.8 27.2059 L1093.07 27.2059 L1093.07 32.9987 L1080.8 32.9987 L1080.8 72.576 L1073.31 72.576 L1073.31 32.9987 L1066.18 32.9987 L1066.18 27.2059 L1073.31 27.2059 L1073.31 24.0462 Q1073.31 16.471 1076.83 13.0277 Q1080.35 9.54393 1088.01 9.54393 L1095.06 9.54393 Z\" fill=\"#000000\" fill-rule=\"nonzero\" fill-opacity=\"1\" /><path clip-path=\"url(#clip210)\" d=\"M1118.88 32.4315 Q1112.88 32.4315 1109.4 37.1306 Q1105.92 41.7891 1105.92 49.9314 Q1105.92 58.0738 1109.36 62.7728 Q1112.84 67.4314 1118.88 67.4314 Q1124.83 67.4314 1128.32 62.7323 Q1131.8 58.0333 1131.8 49.9314 Q1131.8 41.8701 1128.32 37.1711 Q1124.83 32.4315 1118.88 32.4315 M1118.88 26.1121 Q1128.6 26.1121 1134.15 32.4315 Q1139.7 38.7509 1139.7 49.9314 Q1139.7 61.0714 1134.15 67.4314 Q1128.6 73.7508 1118.88 73.7508 Q1109.12 73.7508 1103.57 67.4314 Q1098.06 61.0714 1098.06 49.9314 Q1098.06 38.7509 1103.57 32.4315 Q1109.12 26.1121 1118.88 26.1121 Z\" fill=\"#000000\" fill-rule=\"nonzero\" fill-opacity=\"1\" /><path clip-path=\"url(#clip210)\" d=\"M1178.35 34.1734 Q1177.09 33.4443 1175.59 33.1202 Q1174.13 32.7556 1172.35 32.7556 Q1166.03 32.7556 1162.63 36.8875 Q1159.27 40.9789 1159.27 48.6757 L1159.27 72.576 L1151.77 72.576 L1151.77 27.2059 L1159.27 27.2059 L1159.27 34.2544 Q1161.62 30.1225 1165.38 28.1376 Q1169.15 26.1121 1174.54 26.1121 Q1175.31 26.1121 1176.24 26.2337 Q1177.17 26.3147 1178.31 26.5172 L1178.35 34.1734 Z\" fill=\"#000000\" fill-rule=\"nonzero\" fill-opacity=\"1\" /><path clip-path=\"url(#clip210)\" d=\"M1241.46 28.5427 L1241.46 35.5912 Q1238.3 33.9709 1234.9 33.1607 Q1231.49 32.3505 1227.85 32.3505 Q1222.3 32.3505 1219.5 34.0519 Q1216.75 35.7533 1216.75 39.156 Q1216.75 41.7486 1218.73 43.2475 Q1220.72 44.7058 1226.71 46.0426 L1229.27 46.6097 Q1237.21 48.3111 1240.53 51.4303 Q1243.89 54.509 1243.89 60.0587 Q1243.89 66.3781 1238.87 70.0644 Q1233.88 73.7508 1225.13 73.7508 Q1221.49 73.7508 1217.52 73.0216 Q1213.59 72.3329 1209.21 70.9151 L1209.21 63.2184 Q1213.35 65.3654 1217.36 66.4591 Q1221.37 67.5124 1225.3 67.5124 Q1230.56 67.5124 1233.4 65.73 Q1236.23 63.9071 1236.23 60.6258 Q1236.23 57.5877 1234.17 55.9673 Q1232.14 54.3469 1225.21 52.8481 L1222.62 52.2405 Q1215.7 50.7821 1212.62 47.7845 Q1209.54 44.7463 1209.54 39.4801 Q1209.54 33.0797 1214.07 29.5959 Q1218.61 26.1121 1226.96 26.1121 Q1231.09 26.1121 1234.73 26.7198 Q1238.38 27.3274 1241.46 28.5427 Z\" fill=\"#000000\" fill-rule=\"nonzero\" fill-opacity=\"1\" /><path clip-path=\"url(#clip210)\" d=\"M1255.76 27.2059 L1263.21 27.2059 L1263.21 72.576 L1255.76 72.576 L1255.76 27.2059 M1255.76 9.54393 L1263.21 9.54393 L1263.21 18.9825 L1255.76 18.9825 L1255.76 9.54393 Z\" fill=\"#000000\" fill-rule=\"nonzero\" fill-opacity=\"1\" /><path clip-path=\"url(#clip210)\" d=\"M1314.13 35.9153 Q1316.93 30.8922 1320.82 28.5022 Q1324.7 26.1121 1329.97 26.1121 Q1337.06 26.1121 1340.91 31.0947 Q1344.76 36.0368 1344.76 45.1919 L1344.76 72.576 L1337.26 72.576 L1337.26 45.4349 Q1337.26 38.913 1334.95 35.7533 Q1332.64 32.5936 1327.91 32.5936 Q1322.11 32.5936 1318.75 36.4419 Q1315.39 40.2903 1315.39 46.9338 L1315.39 72.576 L1307.89 72.576 L1307.89 45.4349 Q1307.89 38.8725 1305.58 35.7533 Q1303.28 32.5936 1298.46 32.5936 Q1292.74 32.5936 1289.38 36.4824 Q1286.02 40.3308 1286.02 46.9338 L1286.02 72.576 L1278.52 72.576 L1278.52 27.2059 L1286.02 27.2059 L1286.02 34.2544 Q1288.57 30.082 1292.14 28.0971 Q1295.7 26.1121 1300.6 26.1121 Q1305.54 26.1121 1308.99 28.6237 Q1312.47 31.1352 1314.13 35.9153 Z\" fill=\"#000000\" fill-rule=\"nonzero\" fill-opacity=\"1\" /><path clip-path=\"url(#clip210)\" d=\"M1358.85 54.671 L1358.85 27.2059 L1366.31 27.2059 L1366.31 54.3874 Q1366.31 60.8284 1368.82 64.0691 Q1371.33 67.2693 1376.35 67.2693 Q1382.39 67.2693 1385.87 63.421 Q1389.4 59.5726 1389.4 52.9291 L1389.4 27.2059 L1396.85 27.2059 L1396.85 72.576 L1389.4 72.576 L1389.4 65.6084 Q1386.68 69.7404 1383.08 71.7658 Q1379.51 73.7508 1374.77 73.7508 Q1366.96 73.7508 1362.91 68.8897 Q1358.85 64.0286 1358.85 54.671 M1377.61 26.1121 L1377.61 26.1121 Z\" fill=\"#000000\" fill-rule=\"nonzero\" fill-opacity=\"1\" /><path clip-path=\"url(#clip210)\" d=\"M1412.2 9.54393 L1419.66 9.54393 L1419.66 72.576 L1412.2 72.576 L1412.2 9.54393 Z\" fill=\"#000000\" fill-rule=\"nonzero\" fill-opacity=\"1\" /><path clip-path=\"url(#clip210)\" d=\"M1455.87 49.7694 Q1446.84 49.7694 1443.36 51.8354 Q1439.87 53.9013 1439.87 58.8839 Q1439.87 62.8538 1442.46 65.2034 Q1445.1 67.5124 1449.59 67.5124 Q1455.79 67.5124 1459.52 63.1374 Q1463.29 58.7219 1463.29 51.4303 L1463.29 49.7694 L1455.87 49.7694 M1470.74 46.6907 L1470.74 72.576 L1463.29 72.576 L1463.29 65.6895 Q1460.73 69.8214 1456.93 71.8063 Q1453.12 73.7508 1447.61 73.7508 Q1440.64 73.7508 1436.51 69.8619 Q1432.42 65.9325 1432.42 59.3701 Q1432.42 51.7138 1437.52 47.825 Q1442.67 43.9361 1452.84 43.9361 L1463.29 43.9361 L1463.29 43.2069 Q1463.29 38.0623 1459.88 35.2672 Q1456.52 32.4315 1450.4 32.4315 Q1446.52 32.4315 1442.83 33.3632 Q1439.14 34.295 1435.74 36.1584 L1435.74 29.2718 Q1439.83 27.692 1443.68 26.9223 Q1447.53 26.1121 1451.17 26.1121 Q1461.02 26.1121 1465.88 31.2163 Q1470.74 36.3204 1470.74 46.6907 Z\" fill=\"#000000\" fill-rule=\"nonzero\" fill-opacity=\"1\" /><path clip-path=\"url(#clip210)\" d=\"M1493.47 14.324 L1493.47 27.2059 L1508.82 27.2059 L1508.82 32.9987 L1493.47 32.9987 L1493.47 57.6282 Q1493.47 63.1779 1494.96 64.7578 Q1496.5 66.3376 1501.16 66.3376 L1508.82 66.3376 L1508.82 72.576 L1501.16 72.576 Q1492.53 72.576 1489.25 69.3758 Q1485.97 66.1351 1485.97 57.6282 L1485.97 32.9987 L1480.5 32.9987 L1480.5 27.2059 L1485.97 27.2059 L1485.97 14.324 L1493.47 14.324 Z\" fill=\"#000000\" fill-rule=\"nonzero\" fill-opacity=\"1\" /><path clip-path=\"url(#clip210)\" d=\"M1518.62 27.2059 L1526.08 27.2059 L1526.08 72.576 L1518.62 72.576 L1518.62 27.2059 M1518.62 9.54393 L1526.08 9.54393 L1526.08 18.9825 L1518.62 18.9825 L1518.62 9.54393 Z\" fill=\"#000000\" fill-rule=\"nonzero\" fill-opacity=\"1\" /><path clip-path=\"url(#clip210)\" d=\"M1559.25 32.4315 Q1553.26 32.4315 1549.77 37.1306 Q1546.29 41.7891 1546.29 49.9314 Q1546.29 58.0738 1549.73 62.7728 Q1553.22 67.4314 1559.25 67.4314 Q1565.21 67.4314 1568.69 62.7323 Q1572.17 58.0333 1572.17 49.9314 Q1572.17 41.8701 1568.69 37.1711 Q1565.21 32.4315 1559.25 32.4315 M1559.25 26.1121 Q1568.97 26.1121 1574.52 32.4315 Q1580.07 38.7509 1580.07 49.9314 Q1580.07 61.0714 1574.52 67.4314 Q1568.97 73.7508 1559.25 73.7508 Q1549.49 73.7508 1543.94 67.4314 Q1538.43 61.0714 1538.43 49.9314 Q1538.43 38.7509 1543.94 32.4315 Q1549.49 26.1121 1559.25 26.1121 Z\" fill=\"#000000\" fill-rule=\"nonzero\" fill-opacity=\"1\" /><path clip-path=\"url(#clip210)\" d=\"M1630.14 45.1919 L1630.14 72.576 L1622.69 72.576 L1622.69 45.4349 Q1622.69 38.994 1620.18 35.7938 Q1617.67 32.5936 1612.64 32.5936 Q1606.61 32.5936 1603.12 36.4419 Q1599.64 40.2903 1599.64 46.9338 L1599.64 72.576 L1592.15 72.576 L1592.15 27.2059 L1599.64 27.2059 L1599.64 34.2544 Q1602.31 30.163 1605.92 28.1376 Q1609.56 26.1121 1614.3 26.1121 Q1622.12 26.1121 1626.13 30.9732 Q1630.14 35.7938 1630.14 45.1919 Z\" fill=\"#000000\" fill-rule=\"nonzero\" fill-opacity=\"1\" /><path clip-path=\"url(#clip210)\" d=\"M1678.59 65.7705 L1678.59 89.8329 L1671.1 89.8329 L1671.1 27.2059 L1678.59 27.2059 L1678.59 34.0924 Q1680.94 30.0415 1684.51 28.0971 Q1688.11 26.1121 1693.09 26.1121 Q1701.36 26.1121 1706.5 32.6746 Q1711.69 39.2371 1711.69 49.9314 Q1711.69 60.6258 1706.5 67.1883 Q1701.36 73.7508 1693.09 73.7508 Q1688.11 73.7508 1684.51 71.8063 Q1680.94 69.8214 1678.59 65.7705 M1703.95 49.9314 Q1703.95 41.7081 1700.55 37.0496 Q1697.19 32.3505 1691.27 32.3505 Q1685.36 32.3505 1681.95 37.0496 Q1678.59 41.7081 1678.59 49.9314 Q1678.59 58.1548 1681.95 62.8538 Q1685.36 67.5124 1691.27 67.5124 Q1697.19 67.5124 1700.55 62.8538 Q1703.95 58.1548 1703.95 49.9314 Z\" fill=\"#000000\" fill-rule=\"nonzero\" fill-opacity=\"1\" /><path clip-path=\"url(#clip210)\" d=\"M1762.85 48.0275 L1762.85 51.6733 L1728.58 51.6733 Q1729.07 59.3701 1733.2 63.421 Q1737.37 67.4314 1744.78 67.4314 Q1749.08 67.4314 1753.09 66.3781 Q1757.14 65.3249 1761.11 63.2184 L1761.11 70.267 Q1757.1 71.9684 1752.89 72.8596 Q1748.67 73.7508 1744.34 73.7508 Q1733.48 73.7508 1727.12 67.4314 Q1720.8 61.1119 1720.8 50.3365 Q1720.8 39.1965 1726.8 32.6746 Q1732.83 26.1121 1743.04 26.1121 Q1752.2 26.1121 1757.5 32.0264 Q1762.85 37.9003 1762.85 48.0275 M1755.4 45.84 Q1755.32 39.7232 1751.95 36.0774 Q1748.63 32.4315 1743.12 32.4315 Q1736.88 32.4315 1733.12 35.9558 Q1729.39 39.4801 1728.82 45.8805 L1755.4 45.84 Z\" fill=\"#000000\" fill-rule=\"nonzero\" fill-opacity=\"1\" /><path clip-path=\"url(#clip210)\" d=\"M1801.37 34.1734 Q1800.12 33.4443 1798.62 33.1202 Q1797.16 32.7556 1795.38 32.7556 Q1789.06 32.7556 1785.66 36.8875 Q1782.3 40.9789 1782.3 48.6757 L1782.3 72.576 L1774.8 72.576 L1774.8 27.2059 L1782.3 27.2059 L1782.3 34.2544 Q1784.64 30.1225 1788.41 28.1376 Q1792.18 26.1121 1797.57 26.1121 Q1798.34 26.1121 1799.27 26.2337 Q1800.2 26.3147 1801.33 26.5172 L1801.37 34.1734 Z\" fill=\"#000000\" fill-rule=\"nonzero\" fill-opacity=\"1\" /><path clip-path=\"url(#clip210)\" d=\"M1809.19 27.2059 L1816.65 27.2059 L1816.65 72.576 L1809.19 72.576 L1809.19 27.2059 M1809.19 9.54393 L1816.65 9.54393 L1816.65 18.9825 L1809.19 18.9825 L1809.19 9.54393 Z\" fill=\"#000000\" fill-rule=\"nonzero\" fill-opacity=\"1\" /><path clip-path=\"url(#clip210)\" d=\"M1849.82 32.4315 Q1843.83 32.4315 1840.34 37.1306 Q1836.86 41.7891 1836.86 49.9314 Q1836.86 58.0738 1840.3 62.7728 Q1843.79 67.4314 1849.82 67.4314 Q1855.78 67.4314 1859.26 62.7323 Q1862.75 58.0333 1862.75 49.9314 Q1862.75 41.8701 1859.26 37.1711 Q1855.78 32.4315 1849.82 32.4315 M1849.82 26.1121 Q1859.55 26.1121 1865.1 32.4315 Q1870.65 38.7509 1870.65 49.9314 Q1870.65 61.0714 1865.1 67.4314 Q1859.55 73.7508 1849.82 73.7508 Q1840.06 73.7508 1834.51 67.4314 Q1829 61.0714 1829 49.9314 Q1829 38.7509 1834.51 32.4315 Q1840.06 26.1121 1849.82 26.1121 Z\" fill=\"#000000\" fill-rule=\"nonzero\" fill-opacity=\"1\" /><path clip-path=\"url(#clip210)\" d=\"M1912.86 34.0924 L1912.86 9.54393 L1920.31 9.54393 L1920.31 72.576 L1912.86 72.576 L1912.86 65.7705 Q1910.51 69.8214 1906.9 71.8063 Q1903.34 73.7508 1898.31 73.7508 Q1890.09 73.7508 1884.9 67.1883 Q1879.76 60.6258 1879.76 49.9314 Q1879.76 39.2371 1884.9 32.6746 Q1890.09 26.1121 1898.31 26.1121 Q1903.34 26.1121 1906.9 28.0971 Q1910.51 30.0415 1912.86 34.0924 M1887.46 49.9314 Q1887.46 58.1548 1890.82 62.8538 Q1894.22 67.5124 1900.14 67.5124 Q1906.05 67.5124 1909.45 62.8538 Q1912.86 58.1548 1912.86 49.9314 Q1912.86 41.7081 1909.45 37.0496 Q1906.05 32.3505 1900.14 32.3505 Q1894.22 32.3505 1890.82 37.0496 Q1887.46 41.7081 1887.46 49.9314 Z\" fill=\"#000000\" fill-rule=\"nonzero\" fill-opacity=\"1\" /><polyline clip-path=\"url(#clip212)\" style=\"stroke:#009af9; stroke-linecap:round; stroke-linejoin:round; stroke-width:4; stroke-opacity:1; fill:none\" points=\"323.395,1033.53 337.173,1087.58 350.951,1129.89 364.729,1128.46 378.507,1076.56 392.285,1086.65 406.063,1218.75 419.841,1230.01 433.619,1205.95 447.397,1158.5 461.175,1133.05 474.953,1222.47 488.731,1283.91 502.509,1257.7 516.287,1193.75 530.065,1142.74 543.843,1071.99 557.621,896.304 571.399,725.474 585.177,498.953 598.955,548.547 612.733,660.743 626.511,805.358 640.289,926.21 654.067,1004.77 667.845,1080.95 681.623,1112.14 695.401,1109.73 709.179,1068.33 722.957,1180.93 736.735,1326.04 750.513,1362.65 764.291,1351.62 778.069,1281.22 791.847,1245.5 805.625,1304.32 819.403,1370.73 833.181,1318.12 846.959,1287.65 860.737,1194.55 874.515,1085.22 888.293,916.383 902.071,744.405 915.849,500.912 929.627,561.89 943.405,684.335 957.183,835.571 970.961,957.529 984.739,1013.61 998.517,1073.86 1012.29,1101.55 1026.07,1125.62 1039.85,1087.28 1053.63,1160.71 1067.41,1316.09 1081.18,1383.56 1094.96,1386.4 1108.74,1310.13 1122.52,1265.75 1136.3,1310.7 1150.07,1348.71 1163.85,1363.64 1177.63,1256.11 1191.41,1162.17 1205.19,1045.84 1218.96,814.809 1232.74,645.11 1246.52,452.271 1260.3,516.448 1274.08,644.654 1287.85,833.581 1301.63,998.013 1315.41,1090.61 1329.19,1142.91 1342.97,1146.67 1356.74,1117.69 1370.52,1030.61 1384.3,978.287 1398.08,1141.64 1411.86,1180.04 1425.63,1179.98 1439.41,1140.84 1453.19,1125 1466.97,1025.07 1480.75,965.188 1494.52,933.261 1508.3,859.57 1522.08,791.662 1535.86,707.283 1549.64,589.726 1563.41,442.268 1577.19,251.194 1590.97,334.27 1604.75,467.179 1618.53,656.198 1632.3,817.706 1646.08,922.646 1659.86,996.186 1673.64,1021.31 1687.42,999.222 1701.19,957.087 1714.97,886.455 1728.75,988.218 1742.53,1020.47 1756.31,1066.07 1770.08,1002.69 1783.86,1002.47 1797.64,890.702 1811.42,855.118 1825.2,791.395 1838.97,711.156 1852.75,628.855 1866.53,545.345 1880.31,385.912 1894.09,217.719 1907.86,160.256 1921.64,252.348 1935.42,409.289 1949.2,617.777 1962.98,782.937 1976.75,884.97 1990.53,959.118 2004.31,1008.98 2018.09,992.697 2031.87,947.511 2045.64,853.719 2059.42,985.404 2073.2,1009.88 2086.98,1004.6 2100.76,902.81 2114.53,768.952 2128.31,704.114 2142.09,773.272 2155.87,677.997 2169.65,559.643 2183.42,376.013 2197.2,369.91 2210.98,243.952 2224.76,175.691 2238.54,180.8 2252.31,237.916 2266.09,382.275 2279.87,586.182 2293.65,755.461 \"/>\n",
       "<path clip-path=\"url(#clip210)\" d=\"M333.903 270.476 L595.18 270.476 L595.18 166.796 L333.903 166.796  Z\" fill=\"#ffffff\" fill-rule=\"evenodd\" fill-opacity=\"1\"/>\n",
       "<polyline clip-path=\"url(#clip210)\" style=\"stroke:#000000; stroke-linecap:round; stroke-linejoin:round; stroke-width:4; stroke-opacity:1; fill:none\" points=\"333.903,270.476 595.18,270.476 595.18,166.796 333.903,166.796 333.903,270.476 \"/>\n",
       "<polyline clip-path=\"url(#clip210)\" style=\"stroke:#009af9; stroke-linecap:round; stroke-linejoin:round; stroke-width:4; stroke-opacity:1; fill:none\" points=\"357.108,218.636 496.339,218.636 \"/>\n",
       "<path clip-path=\"url(#clip210)\" d=\"M533.387 238.323 Q531.582 242.953 529.869 244.365 Q528.156 245.777 525.285 245.777 L521.883 245.777 L521.883 242.212 L524.383 242.212 Q526.142 242.212 527.114 241.379 Q528.086 240.545 529.267 237.443 L530.031 235.499 L519.545 209.99 L524.058 209.99 L532.16 230.268 L540.262 209.99 L544.776 209.99 L533.387 238.323 Z\" fill=\"#000000\" fill-rule=\"nonzero\" fill-opacity=\"1\" /><path clip-path=\"url(#clip210)\" d=\"M552.068 231.981 L559.706 231.981 L559.706 205.615 L551.396 207.282 L551.396 203.022 L559.66 201.356 L564.336 201.356 L564.336 231.981 L571.975 231.981 L571.975 235.916 L552.068 235.916 L552.068 231.981 Z\" fill=\"#000000\" fill-rule=\"nonzero\" fill-opacity=\"1\" /></svg>\n"
      ],
      "text/html": [
       "<?xml version=\"1.0\" encoding=\"utf-8\"?>\n",
       "<svg xmlns=\"http://www.w3.org/2000/svg\" xmlns:xlink=\"http://www.w3.org/1999/xlink\" width=\"600\" height=\"400\" viewBox=\"0 0 2400 1600\">\n",
       "<defs>\n",
       "  <clipPath id=\"clip260\">\n",
       "    <rect x=\"0\" y=\"0\" width=\"2400\" height=\"1600\"/>\n",
       "  </clipPath>\n",
       "</defs>\n",
       "<path clip-path=\"url(#clip260)\" d=\"M0 1600 L2400 1600 L2400 8.88178e-14 L0 8.88178e-14  Z\" fill=\"#ffffff\" fill-rule=\"evenodd\" fill-opacity=\"1\"/>\n",
       "<defs>\n",
       "  <clipPath id=\"clip261\">\n",
       "    <rect x=\"480\" y=\"0\" width=\"1681\" height=\"1600\"/>\n",
       "  </clipPath>\n",
       "</defs>\n",
       "<path clip-path=\"url(#clip260)\" d=\"M264.287 1423.18 L2352.76 1423.18 L2352.76 123.472 L264.287 123.472  Z\" fill=\"#ffffff\" fill-rule=\"evenodd\" fill-opacity=\"1\"/>\n",
       "<defs>\n",
       "  <clipPath id=\"clip262\">\n",
       "    <rect x=\"264\" y=\"123\" width=\"2089\" height=\"1301\"/>\n",
       "  </clipPath>\n",
       "</defs>\n",
       "<polyline clip-path=\"url(#clip262)\" style=\"stroke:#000000; stroke-linecap:round; stroke-linejoin:round; stroke-width:2; stroke-opacity:0.1; fill:none\" points=\"309.617,1423.18 309.617,123.472 \"/>\n",
       "<polyline clip-path=\"url(#clip262)\" style=\"stroke:#000000; stroke-linecap:round; stroke-linejoin:round; stroke-width:2; stroke-opacity:0.1; fill:none\" points=\"722.957,1423.18 722.957,123.472 \"/>\n",
       "<polyline clip-path=\"url(#clip262)\" style=\"stroke:#000000; stroke-linecap:round; stroke-linejoin:round; stroke-width:2; stroke-opacity:0.1; fill:none\" points=\"1136.3,1423.18 1136.3,123.472 \"/>\n",
       "<polyline clip-path=\"url(#clip262)\" style=\"stroke:#000000; stroke-linecap:round; stroke-linejoin:round; stroke-width:2; stroke-opacity:0.1; fill:none\" points=\"1549.64,1423.18 1549.64,123.472 \"/>\n",
       "<polyline clip-path=\"url(#clip262)\" style=\"stroke:#000000; stroke-linecap:round; stroke-linejoin:round; stroke-width:2; stroke-opacity:0.1; fill:none\" points=\"1962.98,1423.18 1962.98,123.472 \"/>\n",
       "<polyline clip-path=\"url(#clip260)\" style=\"stroke:#000000; stroke-linecap:round; stroke-linejoin:round; stroke-width:4; stroke-opacity:1; fill:none\" points=\"264.287,1423.18 2352.76,1423.18 \"/>\n",
       "<polyline clip-path=\"url(#clip260)\" style=\"stroke:#000000; stroke-linecap:round; stroke-linejoin:round; stroke-width:4; stroke-opacity:1; fill:none\" points=\"309.617,1423.18 309.617,1404.28 \"/>\n",
       "<polyline clip-path=\"url(#clip260)\" style=\"stroke:#000000; stroke-linecap:round; stroke-linejoin:round; stroke-width:4; stroke-opacity:1; fill:none\" points=\"722.957,1423.18 722.957,1404.28 \"/>\n",
       "<polyline clip-path=\"url(#clip260)\" style=\"stroke:#000000; stroke-linecap:round; stroke-linejoin:round; stroke-width:4; stroke-opacity:1; fill:none\" points=\"1136.3,1423.18 1136.3,1404.28 \"/>\n",
       "<polyline clip-path=\"url(#clip260)\" style=\"stroke:#000000; stroke-linecap:round; stroke-linejoin:round; stroke-width:4; stroke-opacity:1; fill:none\" points=\"1549.64,1423.18 1549.64,1404.28 \"/>\n",
       "<polyline clip-path=\"url(#clip260)\" style=\"stroke:#000000; stroke-linecap:round; stroke-linejoin:round; stroke-width:4; stroke-opacity:1; fill:none\" points=\"1962.98,1423.18 1962.98,1404.28 \"/>\n",
       "<path clip-path=\"url(#clip260)\" d=\"M309.617 1454.1 Q306.006 1454.1 304.177 1457.66 Q302.372 1461.2 302.372 1468.33 Q302.372 1475.44 304.177 1479.01 Q306.006 1482.55 309.617 1482.55 Q313.251 1482.55 315.057 1479.01 Q316.885 1475.44 316.885 1468.33 Q316.885 1461.2 315.057 1457.66 Q313.251 1454.1 309.617 1454.1 M309.617 1450.39 Q315.427 1450.39 318.483 1455 Q321.561 1459.58 321.561 1468.33 Q321.561 1477.06 318.483 1481.67 Q315.427 1486.25 309.617 1486.25 Q303.807 1486.25 300.728 1481.67 Q297.673 1477.06 297.673 1468.33 Q297.673 1459.58 300.728 1455 Q303.807 1450.39 309.617 1450.39 Z\" fill=\"#000000\" fill-rule=\"nonzero\" fill-opacity=\"1\" /><path clip-path=\"url(#clip260)\" d=\"M711.799 1466.95 Q715.156 1467.66 717.031 1469.93 Q718.929 1472.2 718.929 1475.53 Q718.929 1480.65 715.411 1483.45 Q711.892 1486.25 705.411 1486.25 Q703.235 1486.25 700.92 1485.81 Q698.628 1485.39 696.175 1484.54 L696.175 1480.02 Q698.119 1481.16 700.434 1481.74 Q702.749 1482.32 705.272 1482.32 Q709.67 1482.32 711.961 1480.58 Q714.276 1478.84 714.276 1475.53 Q714.276 1472.48 712.124 1470.77 Q709.994 1469.03 706.174 1469.03 L702.147 1469.03 L702.147 1465.19 L706.36 1465.19 Q709.809 1465.19 711.637 1463.82 Q713.466 1462.43 713.466 1459.84 Q713.466 1457.18 711.568 1455.77 Q709.693 1454.33 706.174 1454.33 Q704.253 1454.33 702.054 1454.75 Q699.855 1455.16 697.216 1456.04 L697.216 1451.88 Q699.878 1451.14 702.193 1450.77 Q704.531 1450.39 706.591 1450.39 Q711.915 1450.39 715.017 1452.83 Q718.119 1455.23 718.119 1459.35 Q718.119 1462.22 716.475 1464.21 Q714.832 1466.18 711.799 1466.95 Z\" fill=\"#000000\" fill-rule=\"nonzero\" fill-opacity=\"1\" /><path clip-path=\"url(#clip260)\" d=\"M737.795 1454.1 Q734.184 1454.1 732.355 1457.66 Q730.549 1461.2 730.549 1468.33 Q730.549 1475.44 732.355 1479.01 Q734.184 1482.55 737.795 1482.55 Q741.429 1482.55 743.234 1479.01 Q745.063 1475.44 745.063 1468.33 Q745.063 1461.2 743.234 1457.66 Q741.429 1454.1 737.795 1454.1 M737.795 1450.39 Q743.605 1450.39 746.66 1455 Q749.739 1459.58 749.739 1468.33 Q749.739 1477.06 746.66 1481.67 Q743.605 1486.25 737.795 1486.25 Q731.985 1486.25 728.906 1481.67 Q725.85 1477.06 725.85 1468.33 Q725.85 1459.58 728.906 1455 Q731.985 1450.39 737.795 1450.39 Z\" fill=\"#000000\" fill-rule=\"nonzero\" fill-opacity=\"1\" /><path clip-path=\"url(#clip260)\" d=\"M1121.7 1466.44 Q1118.55 1466.44 1116.7 1468.59 Q1114.87 1470.74 1114.87 1474.49 Q1114.87 1478.22 1116.7 1480.39 Q1118.55 1482.55 1121.7 1482.55 Q1124.85 1482.55 1126.68 1480.39 Q1128.53 1478.22 1128.53 1474.49 Q1128.53 1470.74 1126.68 1468.59 Q1124.85 1466.44 1121.7 1466.44 M1130.98 1451.78 L1130.98 1456.04 Q1129.22 1455.21 1127.42 1454.77 Q1125.64 1454.33 1123.88 1454.33 Q1119.25 1454.33 1116.79 1457.45 Q1114.36 1460.58 1114.02 1466.9 Q1115.38 1464.89 1117.44 1463.82 Q1119.5 1462.73 1121.98 1462.73 Q1127.19 1462.73 1130.2 1465.9 Q1133.23 1469.05 1133.23 1474.49 Q1133.23 1479.82 1130.08 1483.03 Q1126.93 1486.25 1121.7 1486.25 Q1115.71 1486.25 1112.54 1481.67 Q1109.36 1477.06 1109.36 1468.33 Q1109.36 1460.14 1113.25 1455.28 Q1117.14 1450.39 1123.69 1450.39 Q1125.45 1450.39 1127.23 1450.74 Q1129.04 1451.09 1130.98 1451.78 Z\" fill=\"#000000\" fill-rule=\"nonzero\" fill-opacity=\"1\" /><path clip-path=\"url(#clip260)\" d=\"M1151.29 1454.1 Q1147.67 1454.1 1145.85 1457.66 Q1144.04 1461.2 1144.04 1468.33 Q1144.04 1475.44 1145.85 1479.01 Q1147.67 1482.55 1151.29 1482.55 Q1154.92 1482.55 1156.72 1479.01 Q1158.55 1475.44 1158.55 1468.33 Q1158.55 1461.2 1156.72 1457.66 Q1154.92 1454.1 1151.29 1454.1 M1151.29 1450.39 Q1157.1 1450.39 1160.15 1455 Q1163.23 1459.58 1163.23 1468.33 Q1163.23 1477.06 1160.15 1481.67 Q1157.1 1486.25 1151.29 1486.25 Q1145.47 1486.25 1142.4 1481.67 Q1139.34 1477.06 1139.34 1468.33 Q1139.34 1459.58 1142.4 1455 Q1145.47 1450.39 1151.29 1450.39 Z\" fill=\"#000000\" fill-rule=\"nonzero\" fill-opacity=\"1\" /><path clip-path=\"url(#clip260)\" d=\"M1524.76 1484.86 L1524.76 1480.6 Q1526.52 1481.44 1528.33 1481.88 Q1530.13 1482.32 1531.87 1482.32 Q1536.5 1482.32 1538.93 1479.21 Q1541.38 1476.09 1541.73 1469.75 Q1540.39 1471.74 1538.33 1472.8 Q1536.27 1473.87 1533.77 1473.87 Q1528.58 1473.87 1525.55 1470.74 Q1522.54 1467.59 1522.54 1462.15 Q1522.54 1456.83 1525.69 1453.61 Q1528.84 1450.39 1534.07 1450.39 Q1540.06 1450.39 1543.21 1455 Q1546.38 1459.58 1546.38 1468.33 Q1546.38 1476.51 1542.5 1481.39 Q1538.63 1486.25 1532.08 1486.25 Q1530.32 1486.25 1528.51 1485.9 Q1526.71 1485.56 1524.76 1484.86 M1534.07 1470.21 Q1537.22 1470.21 1539.05 1468.06 Q1540.9 1465.9 1540.9 1462.15 Q1540.9 1458.43 1539.05 1456.27 Q1537.22 1454.1 1534.07 1454.1 Q1530.92 1454.1 1529.07 1456.27 Q1527.24 1458.43 1527.24 1462.15 Q1527.24 1465.9 1529.07 1468.06 Q1530.92 1470.21 1534.07 1470.21 Z\" fill=\"#000000\" fill-rule=\"nonzero\" fill-opacity=\"1\" /><path clip-path=\"url(#clip260)\" d=\"M1564.79 1454.1 Q1561.18 1454.1 1559.35 1457.66 Q1557.54 1461.2 1557.54 1468.33 Q1557.54 1475.44 1559.35 1479.01 Q1561.18 1482.55 1564.79 1482.55 Q1568.42 1482.55 1570.23 1479.01 Q1572.06 1475.44 1572.06 1468.33 Q1572.06 1461.2 1570.23 1457.66 Q1568.42 1454.1 1564.79 1454.1 M1564.79 1450.39 Q1570.6 1450.39 1573.65 1455 Q1576.73 1459.58 1576.73 1468.33 Q1576.73 1477.06 1573.65 1481.67 Q1570.6 1486.25 1564.79 1486.25 Q1558.98 1486.25 1555.9 1481.67 Q1552.84 1477.06 1552.84 1468.33 Q1552.84 1459.58 1555.9 1455 Q1558.98 1450.39 1564.79 1450.39 Z\" fill=\"#000000\" fill-rule=\"nonzero\" fill-opacity=\"1\" /><path clip-path=\"url(#clip260)\" d=\"M1922.58 1481.64 L1930.22 1481.64 L1930.22 1455.28 L1921.91 1456.95 L1921.91 1452.69 L1930.18 1451.02 L1934.85 1451.02 L1934.85 1481.64 L1942.49 1481.64 L1942.49 1485.58 L1922.58 1485.58 L1922.58 1481.64 Z\" fill=\"#000000\" fill-rule=\"nonzero\" fill-opacity=\"1\" /><path clip-path=\"url(#clip260)\" d=\"M1955.96 1481.64 L1972.28 1481.64 L1972.28 1485.58 L1950.34 1485.58 L1950.34 1481.64 Q1953 1478.89 1957.58 1474.26 Q1962.19 1469.61 1963.37 1468.27 Q1965.62 1465.74 1966.49 1464.01 Q1967.4 1462.25 1967.4 1460.56 Q1967.4 1457.8 1965.45 1456.07 Q1963.53 1454.33 1960.43 1454.33 Q1958.23 1454.33 1955.78 1455.09 Q1953.35 1455.86 1950.57 1457.41 L1950.57 1452.69 Q1953.39 1451.55 1955.85 1450.97 Q1958.3 1450.39 1960.34 1450.39 Q1965.71 1450.39 1968.9 1453.08 Q1972.1 1455.77 1972.1 1460.26 Q1972.1 1462.39 1971.29 1464.31 Q1970.5 1466.2 1968.39 1468.8 Q1967.81 1469.47 1964.71 1472.69 Q1961.61 1475.88 1955.96 1481.64 Z\" fill=\"#000000\" fill-rule=\"nonzero\" fill-opacity=\"1\" /><path clip-path=\"url(#clip260)\" d=\"M1992.1 1454.1 Q1988.49 1454.1 1986.66 1457.66 Q1984.85 1461.2 1984.85 1468.33 Q1984.85 1475.44 1986.66 1479.01 Q1988.49 1482.55 1992.1 1482.55 Q1995.73 1482.55 1997.54 1479.01 Q1999.37 1475.44 1999.37 1468.33 Q1999.37 1461.2 1997.54 1457.66 Q1995.73 1454.1 1992.1 1454.1 M1992.1 1450.39 Q1997.91 1450.39 2000.96 1455 Q2004.04 1459.58 2004.04 1468.33 Q2004.04 1477.06 2000.96 1481.67 Q1997.91 1486.25 1992.1 1486.25 Q1986.29 1486.25 1983.21 1481.67 Q1980.15 1477.06 1980.15 1468.33 Q1980.15 1459.58 1983.21 1455 Q1986.29 1450.39 1992.1 1450.39 Z\" fill=\"#000000\" fill-rule=\"nonzero\" fill-opacity=\"1\" /><path clip-path=\"url(#clip260)\" d=\"M1104.04 1520.52 L1144.24 1520.52 L1144.24 1525.93 L1127.37 1525.93 L1127.37 1568.04 L1120.91 1568.04 L1120.91 1525.93 L1104.04 1525.93 L1104.04 1520.52 Z\" fill=\"#000000\" fill-rule=\"nonzero\" fill-opacity=\"1\" /><path clip-path=\"url(#clip260)\" d=\"M1148.19 1532.4 L1154.04 1532.4 L1154.04 1568.04 L1148.19 1568.04 L1148.19 1532.4 M1148.19 1518.52 L1154.04 1518.52 L1154.04 1525.93 L1148.19 1525.93 L1148.19 1518.52 Z\" fill=\"#000000\" fill-rule=\"nonzero\" fill-opacity=\"1\" /><path clip-path=\"url(#clip260)\" d=\"M1194.05 1539.24 Q1196.25 1535.29 1199.3 1533.41 Q1202.36 1531.54 1206.5 1531.54 Q1212.07 1531.54 1215.09 1535.45 Q1218.11 1539.33 1218.11 1546.53 L1218.11 1568.04 L1212.22 1568.04 L1212.22 1546.72 Q1212.22 1541.59 1210.41 1539.11 Q1208.6 1536.63 1204.87 1536.63 Q1200.32 1536.63 1197.68 1539.65 Q1195.04 1542.68 1195.04 1547.9 L1195.04 1568.04 L1189.15 1568.04 L1189.15 1546.72 Q1189.15 1541.56 1187.33 1539.11 Q1185.52 1536.63 1181.73 1536.63 Q1177.24 1536.63 1174.6 1539.68 Q1171.96 1542.71 1171.96 1547.9 L1171.96 1568.04 L1166.07 1568.04 L1166.07 1532.4 L1171.96 1532.4 L1171.96 1537.93 Q1173.97 1534.66 1176.77 1533.1 Q1179.57 1531.54 1183.42 1531.54 Q1187.3 1531.54 1190.01 1533.51 Q1192.75 1535.48 1194.05 1539.24 Z\" fill=\"#000000\" fill-rule=\"nonzero\" fill-opacity=\"1\" /><path clip-path=\"url(#clip260)\" d=\"M1260.29 1548.76 L1260.29 1551.62 L1233.36 1551.62 Q1233.74 1557.67 1236.99 1560.85 Q1240.27 1564 1246.09 1564 Q1249.46 1564 1252.61 1563.17 Q1255.8 1562.35 1258.92 1560.69 L1258.92 1566.23 Q1255.77 1567.57 1252.46 1568.27 Q1249.15 1568.97 1245.74 1568.97 Q1237.21 1568.97 1232.21 1564 Q1227.25 1559.04 1227.25 1550.57 Q1227.25 1541.82 1231.96 1536.69 Q1236.7 1531.54 1244.72 1531.54 Q1251.91 1531.54 1256.08 1536.18 Q1260.29 1540.8 1260.29 1548.76 M1254.43 1547.04 Q1254.37 1542.23 1251.72 1539.37 Q1249.11 1536.5 1244.78 1536.5 Q1239.88 1536.5 1236.92 1539.27 Q1234 1542.04 1233.55 1547.07 L1254.43 1547.04 Z\" fill=\"#000000\" fill-rule=\"nonzero\" fill-opacity=\"1\" /><path clip-path=\"url(#clip260)\" d=\"M1304.69 1518.58 Q1300.42 1525.9 1298.35 1533.06 Q1296.28 1540.23 1296.28 1547.58 Q1296.28 1554.93 1298.35 1562.16 Q1300.45 1569.35 1304.69 1576.64 L1299.59 1576.64 Q1294.82 1569.16 1292.43 1561.93 Q1290.08 1554.71 1290.08 1547.58 Q1290.08 1540.48 1292.43 1533.29 Q1294.79 1526.09 1299.59 1518.58 L1304.69 1518.58 Z\" fill=\"#000000\" fill-rule=\"nonzero\" fill-opacity=\"1\" /><path clip-path=\"url(#clip260)\" d=\"M1345.68 1546.53 L1345.68 1568.04 L1339.82 1568.04 L1339.82 1546.72 Q1339.82 1541.66 1337.85 1539.14 Q1335.88 1536.63 1331.93 1536.63 Q1327.19 1536.63 1324.45 1539.65 Q1321.71 1542.68 1321.71 1547.9 L1321.71 1568.04 L1315.83 1568.04 L1315.83 1518.52 L1321.71 1518.52 L1321.71 1537.93 Q1323.82 1534.72 1326.65 1533.13 Q1329.51 1531.54 1333.24 1531.54 Q1339.38 1531.54 1342.53 1535.36 Q1345.68 1539.14 1345.68 1546.53 Z\" fill=\"#000000\" fill-rule=\"nonzero\" fill-opacity=\"1\" /><path clip-path=\"url(#clip260)\" d=\"M1371.18 1536.5 Q1366.47 1536.5 1363.73 1540.19 Q1360.99 1543.85 1360.99 1550.25 Q1360.99 1556.65 1363.7 1560.34 Q1366.43 1564 1371.18 1564 Q1375.85 1564 1378.59 1560.31 Q1381.33 1556.62 1381.33 1550.25 Q1381.33 1543.92 1378.59 1540.23 Q1375.85 1536.5 1371.18 1536.5 M1371.18 1531.54 Q1378.81 1531.54 1383.18 1536.5 Q1387.54 1541.47 1387.54 1550.25 Q1387.54 1559 1383.18 1564 Q1378.81 1568.97 1371.18 1568.97 Q1363.51 1568.97 1359.14 1564 Q1354.82 1559 1354.82 1550.25 Q1354.82 1541.47 1359.14 1536.5 Q1363.51 1531.54 1371.18 1531.54 Z\" fill=\"#000000\" fill-rule=\"nonzero\" fill-opacity=\"1\" /><path clip-path=\"url(#clip260)\" d=\"M1396.64 1553.98 L1396.64 1532.4 L1402.5 1532.4 L1402.5 1553.75 Q1402.5 1558.81 1404.47 1561.36 Q1406.44 1563.87 1410.39 1563.87 Q1415.13 1563.87 1417.87 1560.85 Q1420.64 1557.83 1420.64 1552.61 L1420.64 1532.4 L1426.49 1532.4 L1426.49 1568.04 L1420.64 1568.04 L1420.64 1562.57 Q1418.51 1565.82 1415.67 1567.41 Q1412.87 1568.97 1409.15 1568.97 Q1403 1568.97 1399.82 1565.15 Q1396.64 1561.33 1396.64 1553.98 M1411.38 1531.54 L1411.38 1531.54 Z\" fill=\"#000000\" fill-rule=\"nonzero\" fill-opacity=\"1\" /><path clip-path=\"url(#clip260)\" d=\"M1459.21 1537.87 Q1458.23 1537.3 1457.05 1537.04 Q1455.9 1536.76 1454.5 1536.76 Q1449.54 1536.76 1446.86 1540 Q1444.22 1543.22 1444.22 1549.27 L1444.22 1568.04 L1438.33 1568.04 L1438.33 1532.4 L1444.22 1532.4 L1444.22 1537.93 Q1446.07 1534.69 1449.03 1533.13 Q1451.99 1531.54 1456.22 1531.54 Q1456.83 1531.54 1457.56 1531.63 Q1458.29 1531.7 1459.18 1531.85 L1459.21 1537.87 Z\" fill=\"#000000\" fill-rule=\"nonzero\" fill-opacity=\"1\" /><path clip-path=\"url(#clip260)\" d=\"M1488.08 1533.45 L1488.08 1538.98 Q1485.6 1537.71 1482.93 1537.07 Q1480.25 1536.44 1477.39 1536.44 Q1473.03 1536.44 1470.83 1537.77 Q1468.67 1539.11 1468.67 1541.79 Q1468.67 1543.82 1470.23 1545 Q1471.79 1546.15 1476.5 1547.2 L1478.5 1547.64 Q1484.74 1548.98 1487.35 1551.43 Q1489.99 1553.85 1489.99 1558.21 Q1489.99 1563.17 1486.05 1566.07 Q1482.13 1568.97 1475.26 1568.97 Q1472.39 1568.97 1469.27 1568.39 Q1466.18 1567.85 1462.75 1566.74 L1462.75 1560.69 Q1465.99 1562.38 1469.14 1563.24 Q1472.3 1564.07 1475.38 1564.07 Q1479.52 1564.07 1481.75 1562.66 Q1483.98 1561.23 1483.98 1558.65 Q1483.98 1556.27 1482.35 1554.99 Q1480.76 1553.72 1475.32 1552.54 L1473.28 1552.07 Q1467.84 1550.92 1465.42 1548.56 Q1463 1546.18 1463 1542.04 Q1463 1537.01 1466.57 1534.27 Q1470.13 1531.54 1476.69 1531.54 Q1479.93 1531.54 1482.8 1532.01 Q1485.66 1532.49 1488.08 1533.45 Z\" fill=\"#000000\" fill-rule=\"nonzero\" fill-opacity=\"1\" /><path clip-path=\"url(#clip260)\" d=\"M1498.39 1518.58 L1503.49 1518.58 Q1508.26 1526.09 1510.62 1533.29 Q1513 1540.48 1513 1547.58 Q1513 1554.71 1510.62 1561.93 Q1508.26 1569.16 1503.49 1576.64 L1498.39 1576.64 Q1502.63 1569.35 1504.7 1562.16 Q1506.8 1554.93 1506.8 1547.58 Q1506.8 1540.23 1504.7 1533.06 Q1502.63 1525.9 1498.39 1518.58 Z\" fill=\"#000000\" fill-rule=\"nonzero\" fill-opacity=\"1\" /><polyline clip-path=\"url(#clip262)\" style=\"stroke:#000000; stroke-linecap:round; stroke-linejoin:round; stroke-width:2; stroke-opacity:0.1; fill:none\" points=\"264.287,1301.2 2352.76,1301.2 \"/>\n",
       "<polyline clip-path=\"url(#clip262)\" style=\"stroke:#000000; stroke-linecap:round; stroke-linejoin:round; stroke-width:2; stroke-opacity:0.1; fill:none\" points=\"264.287,1051.14 2352.76,1051.14 \"/>\n",
       "<polyline clip-path=\"url(#clip262)\" style=\"stroke:#000000; stroke-linecap:round; stroke-linejoin:round; stroke-width:2; stroke-opacity:0.1; fill:none\" points=\"264.287,801.091 2352.76,801.091 \"/>\n",
       "<polyline clip-path=\"url(#clip262)\" style=\"stroke:#000000; stroke-linecap:round; stroke-linejoin:round; stroke-width:2; stroke-opacity:0.1; fill:none\" points=\"264.287,551.038 2352.76,551.038 \"/>\n",
       "<polyline clip-path=\"url(#clip262)\" style=\"stroke:#000000; stroke-linecap:round; stroke-linejoin:round; stroke-width:2; stroke-opacity:0.1; fill:none\" points=\"264.287,300.985 2352.76,300.985 \"/>\n",
       "<polyline clip-path=\"url(#clip260)\" style=\"stroke:#000000; stroke-linecap:round; stroke-linejoin:round; stroke-width:4; stroke-opacity:1; fill:none\" points=\"264.287,1423.18 264.287,123.472 \"/>\n",
       "<polyline clip-path=\"url(#clip260)\" style=\"stroke:#000000; stroke-linecap:round; stroke-linejoin:round; stroke-width:4; stroke-opacity:1; fill:none\" points=\"264.287,1301.2 283.185,1301.2 \"/>\n",
       "<polyline clip-path=\"url(#clip260)\" style=\"stroke:#000000; stroke-linecap:round; stroke-linejoin:round; stroke-width:4; stroke-opacity:1; fill:none\" points=\"264.287,1051.14 283.185,1051.14 \"/>\n",
       "<polyline clip-path=\"url(#clip260)\" style=\"stroke:#000000; stroke-linecap:round; stroke-linejoin:round; stroke-width:4; stroke-opacity:1; fill:none\" points=\"264.287,801.091 283.185,801.091 \"/>\n",
       "<polyline clip-path=\"url(#clip260)\" style=\"stroke:#000000; stroke-linecap:round; stroke-linejoin:round; stroke-width:4; stroke-opacity:1; fill:none\" points=\"264.287,551.038 283.185,551.038 \"/>\n",
       "<polyline clip-path=\"url(#clip260)\" style=\"stroke:#000000; stroke-linecap:round; stroke-linejoin:round; stroke-width:4; stroke-opacity:1; fill:none\" points=\"264.287,300.985 283.185,300.985 \"/>\n",
       "<path clip-path=\"url(#clip260)\" d=\"M116.668 1314.54 L124.306 1314.54 L124.306 1288.18 L115.996 1289.84 L115.996 1285.58 L124.26 1283.92 L128.936 1283.92 L128.936 1314.54 L136.575 1314.54 L136.575 1318.48 L116.668 1318.48 L116.668 1314.54 Z\" fill=\"#000000\" fill-rule=\"nonzero\" fill-opacity=\"1\" /><path clip-path=\"url(#clip260)\" d=\"M146.066 1283.92 L164.422 1283.92 L164.422 1287.85 L150.348 1287.85 L150.348 1296.33 Q151.366 1295.98 152.385 1295.82 Q153.403 1295.63 154.422 1295.63 Q160.209 1295.63 163.589 1298.8 Q166.968 1301.97 166.968 1307.39 Q166.968 1312.97 163.496 1316.07 Q160.024 1319.15 153.704 1319.15 Q151.528 1319.15 149.26 1318.78 Q147.015 1318.41 144.607 1317.67 L144.607 1312.97 Q146.691 1314.1 148.913 1314.66 Q151.135 1315.21 153.612 1315.21 Q157.616 1315.21 159.954 1313.11 Q162.292 1311 162.292 1307.39 Q162.292 1303.78 159.954 1301.67 Q157.616 1299.57 153.612 1299.57 Q151.737 1299.57 149.862 1299.98 Q148.01 1300.4 146.066 1301.28 L146.066 1283.92 Z\" fill=\"#000000\" fill-rule=\"nonzero\" fill-opacity=\"1\" /><path clip-path=\"url(#clip260)\" d=\"M186.181 1287 Q182.57 1287 180.741 1290.56 Q178.936 1294.1 178.936 1301.23 Q178.936 1308.34 180.741 1311.9 Q182.57 1315.45 186.181 1315.45 Q189.815 1315.45 191.621 1311.9 Q193.45 1308.34 193.45 1301.23 Q193.45 1294.1 191.621 1290.56 Q189.815 1287 186.181 1287 M186.181 1283.29 Q191.991 1283.29 195.047 1287.9 Q198.125 1292.48 198.125 1301.23 Q198.125 1309.96 195.047 1314.57 Q191.991 1319.15 186.181 1319.15 Q180.371 1319.15 177.292 1314.57 Q174.237 1309.96 174.237 1301.23 Q174.237 1292.48 177.292 1287.9 Q180.371 1283.29 186.181 1283.29 Z\" fill=\"#000000\" fill-rule=\"nonzero\" fill-opacity=\"1\" /><path clip-path=\"url(#clip260)\" d=\"M216.343 1287 Q212.732 1287 210.903 1290.56 Q209.098 1294.1 209.098 1301.23 Q209.098 1308.34 210.903 1311.9 Q212.732 1315.45 216.343 1315.45 Q219.977 1315.45 221.783 1311.9 Q223.611 1308.34 223.611 1301.23 Q223.611 1294.1 221.783 1290.56 Q219.977 1287 216.343 1287 M216.343 1283.29 Q222.153 1283.29 225.209 1287.9 Q228.287 1292.48 228.287 1301.23 Q228.287 1309.96 225.209 1314.57 Q222.153 1319.15 216.343 1319.15 Q210.533 1319.15 207.454 1314.57 Q204.399 1309.96 204.399 1301.23 Q204.399 1292.48 207.454 1287.9 Q210.533 1283.29 216.343 1283.29 Z\" fill=\"#000000\" fill-rule=\"nonzero\" fill-opacity=\"1\" /><path clip-path=\"url(#clip260)\" d=\"M119.885 1064.49 L136.204 1064.49 L136.204 1068.42 L114.26 1068.42 L114.26 1064.49 Q116.922 1061.73 121.505 1057.11 Q126.112 1052.45 127.292 1051.11 Q129.538 1048.59 130.417 1046.85 Q131.32 1045.09 131.32 1043.4 Q131.32 1040.65 129.376 1038.91 Q127.455 1037.17 124.353 1037.17 Q122.154 1037.17 119.7 1037.94 Q117.269 1038.7 114.492 1040.25 L114.492 1035.53 Q117.316 1034.4 119.769 1033.82 Q122.223 1033.24 124.26 1033.24 Q129.63 1033.24 132.825 1035.92 Q136.019 1038.61 136.019 1043.1 Q136.019 1045.23 135.209 1047.15 Q134.422 1049.05 132.316 1051.64 Q131.737 1052.31 128.635 1055.53 Q125.533 1058.73 119.885 1064.49 Z\" fill=\"#000000\" fill-rule=\"nonzero\" fill-opacity=\"1\" /><path clip-path=\"url(#clip260)\" d=\"M156.019 1036.94 Q152.408 1036.94 150.579 1040.51 Q148.774 1044.05 148.774 1051.18 Q148.774 1058.29 150.579 1061.85 Q152.408 1065.39 156.019 1065.39 Q159.653 1065.39 161.459 1061.85 Q163.288 1058.29 163.288 1051.18 Q163.288 1044.05 161.459 1040.51 Q159.653 1036.94 156.019 1036.94 M156.019 1033.24 Q161.829 1033.24 164.885 1037.85 Q167.964 1042.43 167.964 1051.18 Q167.964 1059.91 164.885 1064.51 Q161.829 1069.1 156.019 1069.1 Q150.209 1069.1 147.13 1064.51 Q144.075 1059.91 144.075 1051.18 Q144.075 1042.43 147.13 1037.85 Q150.209 1033.24 156.019 1033.24 Z\" fill=\"#000000\" fill-rule=\"nonzero\" fill-opacity=\"1\" /><path clip-path=\"url(#clip260)\" d=\"M186.181 1036.94 Q182.57 1036.94 180.741 1040.51 Q178.936 1044.05 178.936 1051.18 Q178.936 1058.29 180.741 1061.85 Q182.57 1065.39 186.181 1065.39 Q189.815 1065.39 191.621 1061.85 Q193.45 1058.29 193.45 1051.18 Q193.45 1044.05 191.621 1040.51 Q189.815 1036.94 186.181 1036.94 M186.181 1033.24 Q191.991 1033.24 195.047 1037.85 Q198.125 1042.43 198.125 1051.18 Q198.125 1059.91 195.047 1064.51 Q191.991 1069.1 186.181 1069.1 Q180.371 1069.1 177.292 1064.51 Q174.237 1059.91 174.237 1051.18 Q174.237 1042.43 177.292 1037.85 Q180.371 1033.24 186.181 1033.24 Z\" fill=\"#000000\" fill-rule=\"nonzero\" fill-opacity=\"1\" /><path clip-path=\"url(#clip260)\" d=\"M216.343 1036.94 Q212.732 1036.94 210.903 1040.51 Q209.098 1044.05 209.098 1051.18 Q209.098 1058.29 210.903 1061.85 Q212.732 1065.39 216.343 1065.39 Q219.977 1065.39 221.783 1061.85 Q223.611 1058.29 223.611 1051.18 Q223.611 1044.05 221.783 1040.51 Q219.977 1036.94 216.343 1036.94 M216.343 1033.24 Q222.153 1033.24 225.209 1037.85 Q228.287 1042.43 228.287 1051.18 Q228.287 1059.91 225.209 1064.51 Q222.153 1069.1 216.343 1069.1 Q210.533 1069.1 207.454 1064.51 Q204.399 1059.91 204.399 1051.18 Q204.399 1042.43 207.454 1037.85 Q210.533 1033.24 216.343 1033.24 Z\" fill=\"#000000\" fill-rule=\"nonzero\" fill-opacity=\"1\" /><path clip-path=\"url(#clip260)\" d=\"M119.885 814.436 L136.204 814.436 L136.204 818.371 L114.26 818.371 L114.26 814.436 Q116.922 811.682 121.505 807.052 Q126.112 802.399 127.292 801.057 Q129.538 798.534 130.417 796.797 Q131.32 795.038 131.32 793.348 Q131.32 790.594 129.376 788.858 Q127.455 787.122 124.353 787.122 Q122.154 787.122 119.7 787.885 Q117.269 788.649 114.492 790.2 L114.492 785.478 Q117.316 784.344 119.769 783.765 Q122.223 783.186 124.26 783.186 Q129.63 783.186 132.825 785.872 Q136.019 788.557 136.019 793.047 Q136.019 795.177 135.209 797.098 Q134.422 798.997 132.316 801.589 Q131.737 802.26 128.635 805.478 Q125.533 808.672 119.885 814.436 Z\" fill=\"#000000\" fill-rule=\"nonzero\" fill-opacity=\"1\" /><path clip-path=\"url(#clip260)\" d=\"M146.066 783.811 L164.422 783.811 L164.422 787.747 L150.348 787.747 L150.348 796.219 Q151.366 795.872 152.385 795.709 Q153.403 795.524 154.422 795.524 Q160.209 795.524 163.589 798.696 Q166.968 801.867 166.968 807.283 Q166.968 812.862 163.496 815.964 Q160.024 819.043 153.704 819.043 Q151.528 819.043 149.26 818.672 Q147.015 818.302 144.607 817.561 L144.607 812.862 Q146.691 813.996 148.913 814.552 Q151.135 815.108 153.612 815.108 Q157.616 815.108 159.954 813.001 Q162.292 810.895 162.292 807.283 Q162.292 803.672 159.954 801.566 Q157.616 799.459 153.612 799.459 Q151.737 799.459 149.862 799.876 Q148.01 800.293 146.066 801.172 L146.066 783.811 Z\" fill=\"#000000\" fill-rule=\"nonzero\" fill-opacity=\"1\" /><path clip-path=\"url(#clip260)\" d=\"M186.181 786.89 Q182.57 786.89 180.741 790.455 Q178.936 793.997 178.936 801.126 Q178.936 808.233 180.741 811.797 Q182.57 815.339 186.181 815.339 Q189.815 815.339 191.621 811.797 Q193.45 808.233 193.45 801.126 Q193.45 793.997 191.621 790.455 Q189.815 786.89 186.181 786.89 M186.181 783.186 Q191.991 783.186 195.047 787.793 Q198.125 792.376 198.125 801.126 Q198.125 809.853 195.047 814.459 Q191.991 819.043 186.181 819.043 Q180.371 819.043 177.292 814.459 Q174.237 809.853 174.237 801.126 Q174.237 792.376 177.292 787.793 Q180.371 783.186 186.181 783.186 Z\" fill=\"#000000\" fill-rule=\"nonzero\" fill-opacity=\"1\" /><path clip-path=\"url(#clip260)\" d=\"M216.343 786.89 Q212.732 786.89 210.903 790.455 Q209.098 793.997 209.098 801.126 Q209.098 808.233 210.903 811.797 Q212.732 815.339 216.343 815.339 Q219.977 815.339 221.783 811.797 Q223.611 808.233 223.611 801.126 Q223.611 793.997 221.783 790.455 Q219.977 786.89 216.343 786.89 M216.343 783.186 Q222.153 783.186 225.209 787.793 Q228.287 792.376 228.287 801.126 Q228.287 809.853 225.209 814.459 Q222.153 819.043 216.343 819.043 Q210.533 819.043 207.454 814.459 Q204.399 809.853 204.399 801.126 Q204.399 792.376 207.454 787.793 Q210.533 783.186 216.343 783.186 Z\" fill=\"#000000\" fill-rule=\"nonzero\" fill-opacity=\"1\" /><path clip-path=\"url(#clip260)\" d=\"M130.024 549.684 Q133.38 550.402 135.255 552.67 Q137.154 554.939 137.154 558.272 Q137.154 563.388 133.635 566.188 Q130.117 568.989 123.635 568.989 Q121.459 568.989 119.144 568.55 Q116.853 568.133 114.399 567.276 L114.399 562.763 Q116.343 563.897 118.658 564.476 Q120.973 565.054 123.496 565.054 Q127.894 565.054 130.186 563.318 Q132.501 561.582 132.501 558.272 Q132.501 555.216 130.348 553.503 Q128.218 551.767 124.399 551.767 L120.371 551.767 L120.371 547.925 L124.584 547.925 Q128.033 547.925 129.862 546.559 Q131.691 545.17 131.691 542.578 Q131.691 539.915 129.792 538.503 Q127.917 537.068 124.399 537.068 Q122.478 537.068 120.279 537.485 Q118.08 537.902 115.441 538.781 L115.441 534.615 Q118.103 533.874 120.418 533.503 Q122.755 533.133 124.816 533.133 Q130.14 533.133 133.242 535.564 Q136.343 537.971 136.343 542.091 Q136.343 544.962 134.7 546.952 Q133.056 548.92 130.024 549.684 Z\" fill=\"#000000\" fill-rule=\"nonzero\" fill-opacity=\"1\" /><path clip-path=\"url(#clip260)\" d=\"M156.019 536.837 Q152.408 536.837 150.579 540.402 Q148.774 543.943 148.774 551.073 Q148.774 558.179 150.579 561.744 Q152.408 565.286 156.019 565.286 Q159.653 565.286 161.459 561.744 Q163.288 558.179 163.288 551.073 Q163.288 543.943 161.459 540.402 Q159.653 536.837 156.019 536.837 M156.019 533.133 Q161.829 533.133 164.885 537.74 Q167.964 542.323 167.964 551.073 Q167.964 559.8 164.885 564.406 Q161.829 568.989 156.019 568.989 Q150.209 568.989 147.13 564.406 Q144.075 559.8 144.075 551.073 Q144.075 542.323 147.13 537.74 Q150.209 533.133 156.019 533.133 Z\" fill=\"#000000\" fill-rule=\"nonzero\" fill-opacity=\"1\" /><path clip-path=\"url(#clip260)\" d=\"M186.181 536.837 Q182.57 536.837 180.741 540.402 Q178.936 543.943 178.936 551.073 Q178.936 558.179 180.741 561.744 Q182.57 565.286 186.181 565.286 Q189.815 565.286 191.621 561.744 Q193.45 558.179 193.45 551.073 Q193.45 543.943 191.621 540.402 Q189.815 536.837 186.181 536.837 M186.181 533.133 Q191.991 533.133 195.047 537.74 Q198.125 542.323 198.125 551.073 Q198.125 559.8 195.047 564.406 Q191.991 568.989 186.181 568.989 Q180.371 568.989 177.292 564.406 Q174.237 559.8 174.237 551.073 Q174.237 542.323 177.292 537.74 Q180.371 533.133 186.181 533.133 Z\" fill=\"#000000\" fill-rule=\"nonzero\" fill-opacity=\"1\" /><path clip-path=\"url(#clip260)\" d=\"M216.343 536.837 Q212.732 536.837 210.903 540.402 Q209.098 543.943 209.098 551.073 Q209.098 558.179 210.903 561.744 Q212.732 565.286 216.343 565.286 Q219.977 565.286 221.783 561.744 Q223.611 558.179 223.611 551.073 Q223.611 543.943 221.783 540.402 Q219.977 536.837 216.343 536.837 M216.343 533.133 Q222.153 533.133 225.209 537.74 Q228.287 542.323 228.287 551.073 Q228.287 559.8 225.209 564.406 Q222.153 568.989 216.343 568.989 Q210.533 568.989 207.454 564.406 Q204.399 559.8 204.399 551.073 Q204.399 542.323 207.454 537.74 Q210.533 533.133 216.343 533.133 Z\" fill=\"#000000\" fill-rule=\"nonzero\" fill-opacity=\"1\" /><path clip-path=\"url(#clip260)\" d=\"M130.024 299.631 Q133.38 300.348 135.255 302.617 Q137.154 304.885 137.154 308.219 Q137.154 313.334 133.635 316.135 Q130.117 318.936 123.635 318.936 Q121.459 318.936 119.144 318.496 Q116.853 318.08 114.399 317.223 L114.399 312.709 Q116.343 313.844 118.658 314.422 Q120.973 315.001 123.496 315.001 Q127.894 315.001 130.186 313.265 Q132.501 311.529 132.501 308.219 Q132.501 305.163 130.348 303.45 Q128.218 301.714 124.399 301.714 L120.371 301.714 L120.371 297.871 L124.584 297.871 Q128.033 297.871 129.862 296.506 Q131.691 295.117 131.691 292.524 Q131.691 289.862 129.792 288.45 Q127.917 287.015 124.399 287.015 Q122.478 287.015 120.279 287.432 Q118.08 287.848 115.441 288.728 L115.441 284.561 Q118.103 283.821 120.418 283.45 Q122.755 283.08 124.816 283.08 Q130.14 283.08 133.242 285.51 Q136.343 287.918 136.343 292.038 Q136.343 294.908 134.7 296.899 Q133.056 298.867 130.024 299.631 Z\" fill=\"#000000\" fill-rule=\"nonzero\" fill-opacity=\"1\" /><path clip-path=\"url(#clip260)\" d=\"M146.066 283.705 L164.422 283.705 L164.422 287.64 L150.348 287.64 L150.348 296.112 Q151.366 295.765 152.385 295.603 Q153.403 295.418 154.422 295.418 Q160.209 295.418 163.589 298.589 Q166.968 301.76 166.968 307.177 Q166.968 312.756 163.496 315.857 Q160.024 318.936 153.704 318.936 Q151.528 318.936 149.26 318.566 Q147.015 318.195 144.607 317.455 L144.607 312.756 Q146.691 313.89 148.913 314.445 Q151.135 315.001 153.612 315.001 Q157.616 315.001 159.954 312.894 Q162.292 310.788 162.292 307.177 Q162.292 303.566 159.954 301.459 Q157.616 299.353 153.612 299.353 Q151.737 299.353 149.862 299.77 Q148.01 300.186 146.066 301.066 L146.066 283.705 Z\" fill=\"#000000\" fill-rule=\"nonzero\" fill-opacity=\"1\" /><path clip-path=\"url(#clip260)\" d=\"M186.181 286.784 Q182.57 286.784 180.741 290.348 Q178.936 293.89 178.936 301.02 Q178.936 308.126 180.741 311.691 Q182.57 315.232 186.181 315.232 Q189.815 315.232 191.621 311.691 Q193.45 308.126 193.45 301.02 Q193.45 293.89 191.621 290.348 Q189.815 286.784 186.181 286.784 M186.181 283.08 Q191.991 283.08 195.047 287.686 Q198.125 292.27 198.125 301.02 Q198.125 309.746 195.047 314.353 Q191.991 318.936 186.181 318.936 Q180.371 318.936 177.292 314.353 Q174.237 309.746 174.237 301.02 Q174.237 292.27 177.292 287.686 Q180.371 283.08 186.181 283.08 Z\" fill=\"#000000\" fill-rule=\"nonzero\" fill-opacity=\"1\" /><path clip-path=\"url(#clip260)\" d=\"M216.343 286.784 Q212.732 286.784 210.903 290.348 Q209.098 293.89 209.098 301.02 Q209.098 308.126 210.903 311.691 Q212.732 315.232 216.343 315.232 Q219.977 315.232 221.783 311.691 Q223.611 308.126 223.611 301.02 Q223.611 293.89 221.783 290.348 Q219.977 286.784 216.343 286.784 M216.343 283.08 Q222.153 283.08 225.209 287.686 Q228.287 292.27 228.287 301.02 Q228.287 309.746 225.209 314.353 Q222.153 318.936 216.343 318.936 Q210.533 318.936 207.454 314.353 Q204.399 309.746 204.399 301.02 Q204.399 292.27 207.454 287.686 Q210.533 283.08 216.343 283.08 Z\" fill=\"#000000\" fill-rule=\"nonzero\" fill-opacity=\"1\" /><path clip-path=\"url(#clip260)\" d=\"M16.4842 1000.69 L16.4842 992.036 L56.238 970.965 L16.4842 970.965 L16.4842 964.727 L64.0042 964.727 L64.0042 973.384 L24.2503 994.455 L64.0042 994.455 L64.0042 1000.69 L16.4842 1000.69 Z\" fill=\"#000000\" fill-rule=\"nonzero\" fill-opacity=\"1\" /><path clip-path=\"url(#clip260)\" d=\"M44.7161 921.695 L47.5806 921.695 L47.5806 948.622 Q53.6281 948.24 56.8109 944.993 Q59.9619 941.715 59.9619 935.89 Q59.9619 932.516 59.1344 929.365 Q58.3069 926.183 56.6518 923.063 L62.1899 923.063 Q63.5267 926.214 64.227 929.525 Q64.9272 932.835 64.9272 936.24 Q64.9272 944.77 59.9619 949.767 Q54.9967 954.733 46.5303 954.733 Q37.7774 954.733 32.6531 950.022 Q27.4968 945.28 27.4968 937.259 Q27.4968 930.066 32.1438 925.896 Q36.7589 921.695 44.7161 921.695 M42.9973 927.551 Q38.1912 927.615 35.3266 930.257 Q32.4621 932.867 32.4621 937.195 Q32.4621 942.097 35.2312 945.057 Q38.0002 947.985 43.0292 948.431 L42.9973 927.551 Z\" fill=\"#000000\" fill-rule=\"nonzero\" fill-opacity=\"1\" /><path clip-path=\"url(#clip260)\" d=\"M18.2347 906.29 L28.3562 906.29 L28.3562 894.227 L32.9077 894.227 L32.9077 906.29 L52.2594 906.29 Q56.6199 906.29 57.8613 905.112 Q59.1026 903.903 59.1026 900.242 L59.1026 894.227 L64.0042 894.227 L64.0042 900.242 Q64.0042 907.022 61.4897 909.6 Q58.9434 912.178 52.2594 912.178 L32.9077 912.178 L32.9077 916.475 L28.3562 916.475 L28.3562 912.178 L18.2347 912.178 L18.2347 906.29 Z\" fill=\"#000000\" fill-rule=\"nonzero\" fill-opacity=\"1\" /><path clip-path=\"url(#clip260)\" d=\"M14.479 865.804 L14.479 859.947 L64.0042 859.947 L64.0042 865.804 L14.479 865.804 Z\" fill=\"#000000\" fill-rule=\"nonzero\" fill-opacity=\"1\" /><path clip-path=\"url(#clip260)\" d=\"M32.4621 833.88 Q32.4621 838.59 36.1542 841.328 Q39.8145 844.065 46.212 844.065 Q52.6095 844.065 56.3017 841.359 Q59.9619 838.622 59.9619 833.88 Q59.9619 829.201 56.2698 826.464 Q52.5777 823.726 46.212 823.726 Q39.8781 823.726 36.186 826.464 Q32.4621 829.201 32.4621 833.88 M27.4968 833.88 Q27.4968 826.241 32.4621 821.88 Q37.4273 817.52 46.212 817.52 Q54.9649 817.52 59.9619 821.88 Q64.9272 826.241 64.9272 833.88 Q64.9272 841.55 59.9619 845.911 Q54.9649 850.24 46.212 850.24 Q37.4273 850.24 32.4621 845.911 Q27.4968 841.55 27.4968 833.88 Z\" fill=\"#000000\" fill-rule=\"nonzero\" fill-opacity=\"1\" /><path clip-path=\"url(#clip260)\" d=\"M46.0847 791.611 Q46.0847 798.709 47.7079 801.446 Q49.3312 804.184 53.2461 804.184 Q56.3653 804.184 58.2114 802.147 Q60.0256 800.078 60.0256 796.545 Q60.0256 791.675 56.5881 788.747 Q53.1188 785.787 47.3897 785.787 L46.0847 785.787 L46.0847 791.611 M43.6657 779.93 L64.0042 779.93 L64.0042 785.787 L58.5933 785.787 Q61.8398 787.792 63.3994 790.784 Q64.9272 793.776 64.9272 798.104 Q64.9272 803.579 61.8716 806.826 Q58.7843 810.04 53.6281 810.04 Q47.6125 810.04 44.5569 806.03 Q41.5014 801.988 41.5014 793.999 L41.5014 785.787 L40.9285 785.787 Q36.8862 785.787 34.6901 788.46 Q32.4621 791.102 32.4621 795.908 Q32.4621 798.964 33.1941 801.86 Q33.9262 804.757 35.3903 807.43 L29.9795 807.43 Q28.7381 804.216 28.1334 801.192 Q27.4968 798.168 27.4968 795.304 Q27.4968 787.569 31.5072 783.75 Q35.5176 779.93 43.6657 779.93 Z\" fill=\"#000000\" fill-rule=\"nonzero\" fill-opacity=\"1\" /><path clip-path=\"url(#clip260)\" d=\"M33.7671 744.41 L14.479 744.41 L14.479 738.553 L64.0042 738.553 L64.0042 744.41 L58.657 744.41 Q61.8398 746.256 63.3994 749.089 Q64.9272 751.889 64.9272 755.836 Q64.9272 762.297 59.771 766.371 Q54.6147 770.414 46.212 770.414 Q37.8093 770.414 32.6531 766.371 Q27.4968 762.297 27.4968 755.836 Q27.4968 751.889 29.0564 749.089 Q30.5842 746.256 33.7671 744.41 M46.212 764.366 Q52.6732 764.366 56.3653 761.724 Q60.0256 759.051 60.0256 754.404 Q60.0256 749.757 56.3653 747.083 Q52.6732 744.41 46.212 744.41 Q39.7508 744.41 36.0905 747.083 Q32.3984 749.757 32.3984 754.404 Q32.3984 759.051 36.0905 761.724 Q39.7508 764.366 46.212 764.366 Z\" fill=\"#000000\" fill-rule=\"nonzero\" fill-opacity=\"1\" /><path clip-path=\"url(#clip260)\" d=\"M14.5426 691.702 Q21.8632 695.967 29.0246 698.036 Q36.186 700.104 43.5384 700.104 Q50.8908 700.104 58.1159 698.036 Q65.3091 695.935 72.5979 691.702 L72.5979 696.794 Q65.1182 701.569 57.8931 703.956 Q50.668 706.311 43.5384 706.311 Q36.4406 706.311 29.2474 703.956 Q22.0542 701.6 14.5426 696.794 L14.5426 691.702 Z\" fill=\"#000000\" fill-rule=\"nonzero\" fill-opacity=\"1\" /><path clip-path=\"url(#clip260)\" d=\"M16.4842 680.084 L16.4842 670.504 L48.8219 658.377 L16.4842 646.187 L16.4842 636.607 L64.0042 636.607 L64.0042 642.877 L22.277 642.877 L54.8694 655.131 L54.8694 661.592 L22.277 673.846 L64.0042 673.846 L64.0042 680.084 L16.4842 680.084 Z\" fill=\"#000000\" fill-rule=\"nonzero\" fill-opacity=\"1\" /><path clip-path=\"url(#clip260)\" d=\"M16.4842 628.076 L16.4842 621.583 L56.6518 611.589 L16.4842 601.627 L16.4842 594.402 L56.6518 584.408 L16.4842 574.445 L16.4842 567.921 L64.0042 579.856 L64.0042 587.941 L22.7544 597.967 L64.0042 608.088 L64.0042 616.173 L16.4842 628.076 Z\" fill=\"#000000\" fill-rule=\"nonzero\" fill-opacity=\"1\" /><path clip-path=\"url(#clip260)\" d=\"M14.5426 560.568 L14.5426 555.476 Q22.0542 550.701 29.2474 548.346 Q36.4406 545.959 43.5384 545.959 Q50.668 545.959 57.8931 548.346 Q65.1182 550.701 72.5979 555.476 L72.5979 560.568 Q65.3091 556.335 58.1159 554.266 Q50.8908 552.165 43.5384 552.165 Q36.186 552.165 29.0246 554.266 Q21.8632 556.335 14.5426 560.568 Z\" fill=\"#000000\" fill-rule=\"nonzero\" fill-opacity=\"1\" /><path clip-path=\"url(#clip260)\" d=\"M696.734 12.096 L707.752 12.096 L734.569 62.6918 L734.569 12.096 L742.509 12.096 L742.509 72.576 L731.491 72.576 L704.674 21.9802 L704.674 72.576 L696.734 72.576 L696.734 12.096 Z\" fill=\"#000000\" fill-rule=\"nonzero\" fill-opacity=\"1\" /><path clip-path=\"url(#clip260)\" d=\"M797.277 48.0275 L797.277 51.6733 L763.007 51.6733 Q763.493 59.3701 767.625 63.421 Q771.797 67.4314 779.21 67.4314 Q783.504 67.4314 787.515 66.3781 Q791.565 65.3249 795.535 63.2184 L795.535 70.267 Q791.525 71.9684 787.312 72.8596 Q783.099 73.7508 778.765 73.7508 Q767.908 73.7508 761.548 67.4314 Q755.229 61.1119 755.229 50.3365 Q755.229 39.1965 761.224 32.6746 Q767.26 26.1121 777.468 26.1121 Q786.623 26.1121 791.93 32.0264 Q797.277 37.9003 797.277 48.0275 M789.824 45.84 Q789.743 39.7232 786.38 36.0774 Q783.059 32.4315 777.549 32.4315 Q771.311 32.4315 767.544 35.9558 Q763.817 39.4801 763.25 45.8805 L789.824 45.84 Z\" fill=\"#000000\" fill-rule=\"nonzero\" fill-opacity=\"1\" /><path clip-path=\"url(#clip260)\" d=\"M816.884 14.324 L816.884 27.2059 L832.237 27.2059 L832.237 32.9987 L816.884 32.9987 L816.884 57.6282 Q816.884 63.1779 818.382 64.7578 Q819.922 66.3376 824.58 66.3376 L832.237 66.3376 L832.237 72.576 L824.58 72.576 Q815.952 72.576 812.671 69.3758 Q809.389 66.1351 809.389 57.6282 L809.389 32.9987 L803.921 32.9987 L803.921 27.2059 L809.389 27.2059 L809.389 14.324 L816.884 14.324 Z\" fill=\"#000000\" fill-rule=\"nonzero\" fill-opacity=\"1\" /><path clip-path=\"url(#clip260)\" d=\"M868.411 9.54393 L875.865 9.54393 L875.865 72.576 L868.411 72.576 L868.411 9.54393 Z\" fill=\"#000000\" fill-rule=\"nonzero\" fill-opacity=\"1\" /><path clip-path=\"url(#clip260)\" d=\"M909.042 32.4315 Q903.046 32.4315 899.563 37.1306 Q896.079 41.7891 896.079 49.9314 Q896.079 58.0738 899.522 62.7728 Q903.006 67.4314 909.042 67.4314 Q914.997 67.4314 918.48 62.7323 Q921.964 58.0333 921.964 49.9314 Q921.964 41.8701 918.48 37.1711 Q914.997 32.4315 909.042 32.4315 M909.042 26.1121 Q918.764 26.1121 924.314 32.4315 Q929.863 38.7509 929.863 49.9314 Q929.863 61.0714 924.314 67.4314 Q918.764 73.7508 909.042 73.7508 Q899.279 73.7508 893.729 67.4314 Q888.22 61.0714 888.22 49.9314 Q888.22 38.7509 893.729 32.4315 Q899.279 26.1121 909.042 26.1121 Z\" fill=\"#000000\" fill-rule=\"nonzero\" fill-opacity=\"1\" /><path clip-path=\"url(#clip260)\" d=\"M962.838 49.7694 Q953.804 49.7694 950.32 51.8354 Q946.837 53.9013 946.837 58.8839 Q946.837 62.8538 949.429 65.2034 Q952.062 67.5124 956.559 67.5124 Q962.757 67.5124 966.484 63.1374 Q970.251 58.7219 970.251 51.4303 L970.251 49.7694 L962.838 49.7694 M977.705 46.6907 L977.705 72.576 L970.251 72.576 L970.251 65.6895 Q967.699 69.8214 963.891 71.8063 Q960.083 73.7508 954.574 73.7508 Q947.606 73.7508 943.474 69.8619 Q939.383 65.9325 939.383 59.3701 Q939.383 51.7138 944.487 47.825 Q949.632 43.9361 959.8 43.9361 L970.251 43.9361 L970.251 43.2069 Q970.251 38.0623 966.848 35.2672 Q963.486 32.4315 957.369 32.4315 Q953.48 32.4315 949.794 33.3632 Q946.107 34.295 942.705 36.1584 L942.705 29.2718 Q946.796 27.692 950.644 26.9223 Q954.493 26.1121 958.139 26.1121 Q967.982 26.1121 972.843 31.2163 Q977.705 36.3204 977.705 46.6907 Z\" fill=\"#000000\" fill-rule=\"nonzero\" fill-opacity=\"1\" /><path clip-path=\"url(#clip260)\" d=\"M1022.91 34.0924 L1022.91 9.54393 L1030.37 9.54393 L1030.37 72.576 L1022.91 72.576 L1022.91 65.7705 Q1020.56 69.8214 1016.96 71.8063 Q1013.39 73.7508 1008.37 73.7508 Q1000.15 73.7508 994.961 67.1883 Q989.817 60.6258 989.817 49.9314 Q989.817 39.2371 994.961 32.6746 Q1000.15 26.1121 1008.37 26.1121 Q1013.39 26.1121 1016.96 28.0971 Q1020.56 30.0415 1022.91 34.0924 M997.513 49.9314 Q997.513 58.1548 1000.88 62.8538 Q1004.28 67.5124 1010.19 67.5124 Q1016.11 67.5124 1019.51 62.8538 Q1022.91 58.1548 1022.91 49.9314 Q1022.91 41.7081 1019.51 37.0496 Q1016.11 32.3505 1010.19 32.3505 Q1004.28 32.3505 1000.88 37.0496 Q997.513 41.7081 997.513 49.9314 Z\" fill=\"#000000\" fill-rule=\"nonzero\" fill-opacity=\"1\" /><path clip-path=\"url(#clip260)\" d=\"M1095.06 9.54393 L1095.06 15.7418 L1087.93 15.7418 Q1083.92 15.7418 1082.34 17.3622 Q1080.8 18.9825 1080.8 23.1955 L1080.8 27.2059 L1093.07 27.2059 L1093.07 32.9987 L1080.8 32.9987 L1080.8 72.576 L1073.31 72.576 L1073.31 32.9987 L1066.18 32.9987 L1066.18 27.2059 L1073.31 27.2059 L1073.31 24.0462 Q1073.31 16.471 1076.83 13.0277 Q1080.35 9.54393 1088.01 9.54393 L1095.06 9.54393 Z\" fill=\"#000000\" fill-rule=\"nonzero\" fill-opacity=\"1\" /><path clip-path=\"url(#clip260)\" d=\"M1118.88 32.4315 Q1112.88 32.4315 1109.4 37.1306 Q1105.92 41.7891 1105.92 49.9314 Q1105.92 58.0738 1109.36 62.7728 Q1112.84 67.4314 1118.88 67.4314 Q1124.83 67.4314 1128.32 62.7323 Q1131.8 58.0333 1131.8 49.9314 Q1131.8 41.8701 1128.32 37.1711 Q1124.83 32.4315 1118.88 32.4315 M1118.88 26.1121 Q1128.6 26.1121 1134.15 32.4315 Q1139.7 38.7509 1139.7 49.9314 Q1139.7 61.0714 1134.15 67.4314 Q1128.6 73.7508 1118.88 73.7508 Q1109.12 73.7508 1103.57 67.4314 Q1098.06 61.0714 1098.06 49.9314 Q1098.06 38.7509 1103.57 32.4315 Q1109.12 26.1121 1118.88 26.1121 Z\" fill=\"#000000\" fill-rule=\"nonzero\" fill-opacity=\"1\" /><path clip-path=\"url(#clip260)\" d=\"M1178.35 34.1734 Q1177.09 33.4443 1175.59 33.1202 Q1174.13 32.7556 1172.35 32.7556 Q1166.03 32.7556 1162.63 36.8875 Q1159.27 40.9789 1159.27 48.6757 L1159.27 72.576 L1151.77 72.576 L1151.77 27.2059 L1159.27 27.2059 L1159.27 34.2544 Q1161.62 30.1225 1165.38 28.1376 Q1169.15 26.1121 1174.54 26.1121 Q1175.31 26.1121 1176.24 26.2337 Q1177.17 26.3147 1178.31 26.5172 L1178.35 34.1734 Z\" fill=\"#000000\" fill-rule=\"nonzero\" fill-opacity=\"1\" /><path clip-path=\"url(#clip260)\" d=\"M1241.46 28.5427 L1241.46 35.5912 Q1238.3 33.9709 1234.9 33.1607 Q1231.49 32.3505 1227.85 32.3505 Q1222.3 32.3505 1219.5 34.0519 Q1216.75 35.7533 1216.75 39.156 Q1216.75 41.7486 1218.73 43.2475 Q1220.72 44.7058 1226.71 46.0426 L1229.27 46.6097 Q1237.21 48.3111 1240.53 51.4303 Q1243.89 54.509 1243.89 60.0587 Q1243.89 66.3781 1238.87 70.0644 Q1233.88 73.7508 1225.13 73.7508 Q1221.49 73.7508 1217.52 73.0216 Q1213.59 72.3329 1209.21 70.9151 L1209.21 63.2184 Q1213.35 65.3654 1217.36 66.4591 Q1221.37 67.5124 1225.3 67.5124 Q1230.56 67.5124 1233.4 65.73 Q1236.23 63.9071 1236.23 60.6258 Q1236.23 57.5877 1234.17 55.9673 Q1232.14 54.3469 1225.21 52.8481 L1222.62 52.2405 Q1215.7 50.7821 1212.62 47.7845 Q1209.54 44.7463 1209.54 39.4801 Q1209.54 33.0797 1214.07 29.5959 Q1218.61 26.1121 1226.96 26.1121 Q1231.09 26.1121 1234.73 26.7198 Q1238.38 27.3274 1241.46 28.5427 Z\" fill=\"#000000\" fill-rule=\"nonzero\" fill-opacity=\"1\" /><path clip-path=\"url(#clip260)\" d=\"M1255.76 27.2059 L1263.21 27.2059 L1263.21 72.576 L1255.76 72.576 L1255.76 27.2059 M1255.76 9.54393 L1263.21 9.54393 L1263.21 18.9825 L1255.76 18.9825 L1255.76 9.54393 Z\" fill=\"#000000\" fill-rule=\"nonzero\" fill-opacity=\"1\" /><path clip-path=\"url(#clip260)\" d=\"M1314.13 35.9153 Q1316.93 30.8922 1320.82 28.5022 Q1324.7 26.1121 1329.97 26.1121 Q1337.06 26.1121 1340.91 31.0947 Q1344.76 36.0368 1344.76 45.1919 L1344.76 72.576 L1337.26 72.576 L1337.26 45.4349 Q1337.26 38.913 1334.95 35.7533 Q1332.64 32.5936 1327.91 32.5936 Q1322.11 32.5936 1318.75 36.4419 Q1315.39 40.2903 1315.39 46.9338 L1315.39 72.576 L1307.89 72.576 L1307.89 45.4349 Q1307.89 38.8725 1305.58 35.7533 Q1303.28 32.5936 1298.46 32.5936 Q1292.74 32.5936 1289.38 36.4824 Q1286.02 40.3308 1286.02 46.9338 L1286.02 72.576 L1278.52 72.576 L1278.52 27.2059 L1286.02 27.2059 L1286.02 34.2544 Q1288.57 30.082 1292.14 28.0971 Q1295.7 26.1121 1300.6 26.1121 Q1305.54 26.1121 1308.99 28.6237 Q1312.47 31.1352 1314.13 35.9153 Z\" fill=\"#000000\" fill-rule=\"nonzero\" fill-opacity=\"1\" /><path clip-path=\"url(#clip260)\" d=\"M1358.85 54.671 L1358.85 27.2059 L1366.31 27.2059 L1366.31 54.3874 Q1366.31 60.8284 1368.82 64.0691 Q1371.33 67.2693 1376.35 67.2693 Q1382.39 67.2693 1385.87 63.421 Q1389.4 59.5726 1389.4 52.9291 L1389.4 27.2059 L1396.85 27.2059 L1396.85 72.576 L1389.4 72.576 L1389.4 65.6084 Q1386.68 69.7404 1383.08 71.7658 Q1379.51 73.7508 1374.77 73.7508 Q1366.96 73.7508 1362.91 68.8897 Q1358.85 64.0286 1358.85 54.671 M1377.61 26.1121 L1377.61 26.1121 Z\" fill=\"#000000\" fill-rule=\"nonzero\" fill-opacity=\"1\" /><path clip-path=\"url(#clip260)\" d=\"M1412.2 9.54393 L1419.66 9.54393 L1419.66 72.576 L1412.2 72.576 L1412.2 9.54393 Z\" fill=\"#000000\" fill-rule=\"nonzero\" fill-opacity=\"1\" /><path clip-path=\"url(#clip260)\" d=\"M1455.87 49.7694 Q1446.84 49.7694 1443.36 51.8354 Q1439.87 53.9013 1439.87 58.8839 Q1439.87 62.8538 1442.46 65.2034 Q1445.1 67.5124 1449.59 67.5124 Q1455.79 67.5124 1459.52 63.1374 Q1463.29 58.7219 1463.29 51.4303 L1463.29 49.7694 L1455.87 49.7694 M1470.74 46.6907 L1470.74 72.576 L1463.29 72.576 L1463.29 65.6895 Q1460.73 69.8214 1456.93 71.8063 Q1453.12 73.7508 1447.61 73.7508 Q1440.64 73.7508 1436.51 69.8619 Q1432.42 65.9325 1432.42 59.3701 Q1432.42 51.7138 1437.52 47.825 Q1442.67 43.9361 1452.84 43.9361 L1463.29 43.9361 L1463.29 43.2069 Q1463.29 38.0623 1459.88 35.2672 Q1456.52 32.4315 1450.4 32.4315 Q1446.52 32.4315 1442.83 33.3632 Q1439.14 34.295 1435.74 36.1584 L1435.74 29.2718 Q1439.83 27.692 1443.68 26.9223 Q1447.53 26.1121 1451.17 26.1121 Q1461.02 26.1121 1465.88 31.2163 Q1470.74 36.3204 1470.74 46.6907 Z\" fill=\"#000000\" fill-rule=\"nonzero\" fill-opacity=\"1\" /><path clip-path=\"url(#clip260)\" d=\"M1493.47 14.324 L1493.47 27.2059 L1508.82 27.2059 L1508.82 32.9987 L1493.47 32.9987 L1493.47 57.6282 Q1493.47 63.1779 1494.96 64.7578 Q1496.5 66.3376 1501.16 66.3376 L1508.82 66.3376 L1508.82 72.576 L1501.16 72.576 Q1492.53 72.576 1489.25 69.3758 Q1485.97 66.1351 1485.97 57.6282 L1485.97 32.9987 L1480.5 32.9987 L1480.5 27.2059 L1485.97 27.2059 L1485.97 14.324 L1493.47 14.324 Z\" fill=\"#000000\" fill-rule=\"nonzero\" fill-opacity=\"1\" /><path clip-path=\"url(#clip260)\" d=\"M1518.62 27.2059 L1526.08 27.2059 L1526.08 72.576 L1518.62 72.576 L1518.62 27.2059 M1518.62 9.54393 L1526.08 9.54393 L1526.08 18.9825 L1518.62 18.9825 L1518.62 9.54393 Z\" fill=\"#000000\" fill-rule=\"nonzero\" fill-opacity=\"1\" /><path clip-path=\"url(#clip260)\" d=\"M1559.25 32.4315 Q1553.26 32.4315 1549.77 37.1306 Q1546.29 41.7891 1546.29 49.9314 Q1546.29 58.0738 1549.73 62.7728 Q1553.22 67.4314 1559.25 67.4314 Q1565.21 67.4314 1568.69 62.7323 Q1572.17 58.0333 1572.17 49.9314 Q1572.17 41.8701 1568.69 37.1711 Q1565.21 32.4315 1559.25 32.4315 M1559.25 26.1121 Q1568.97 26.1121 1574.52 32.4315 Q1580.07 38.7509 1580.07 49.9314 Q1580.07 61.0714 1574.52 67.4314 Q1568.97 73.7508 1559.25 73.7508 Q1549.49 73.7508 1543.94 67.4314 Q1538.43 61.0714 1538.43 49.9314 Q1538.43 38.7509 1543.94 32.4315 Q1549.49 26.1121 1559.25 26.1121 Z\" fill=\"#000000\" fill-rule=\"nonzero\" fill-opacity=\"1\" /><path clip-path=\"url(#clip260)\" d=\"M1630.14 45.1919 L1630.14 72.576 L1622.69 72.576 L1622.69 45.4349 Q1622.69 38.994 1620.18 35.7938 Q1617.67 32.5936 1612.64 32.5936 Q1606.61 32.5936 1603.12 36.4419 Q1599.64 40.2903 1599.64 46.9338 L1599.64 72.576 L1592.15 72.576 L1592.15 27.2059 L1599.64 27.2059 L1599.64 34.2544 Q1602.31 30.163 1605.92 28.1376 Q1609.56 26.1121 1614.3 26.1121 Q1622.12 26.1121 1626.13 30.9732 Q1630.14 35.7938 1630.14 45.1919 Z\" fill=\"#000000\" fill-rule=\"nonzero\" fill-opacity=\"1\" /><path clip-path=\"url(#clip260)\" d=\"M1678.59 65.7705 L1678.59 89.8329 L1671.1 89.8329 L1671.1 27.2059 L1678.59 27.2059 L1678.59 34.0924 Q1680.94 30.0415 1684.51 28.0971 Q1688.11 26.1121 1693.09 26.1121 Q1701.36 26.1121 1706.5 32.6746 Q1711.69 39.2371 1711.69 49.9314 Q1711.69 60.6258 1706.5 67.1883 Q1701.36 73.7508 1693.09 73.7508 Q1688.11 73.7508 1684.51 71.8063 Q1680.94 69.8214 1678.59 65.7705 M1703.95 49.9314 Q1703.95 41.7081 1700.55 37.0496 Q1697.19 32.3505 1691.27 32.3505 Q1685.36 32.3505 1681.95 37.0496 Q1678.59 41.7081 1678.59 49.9314 Q1678.59 58.1548 1681.95 62.8538 Q1685.36 67.5124 1691.27 67.5124 Q1697.19 67.5124 1700.55 62.8538 Q1703.95 58.1548 1703.95 49.9314 Z\" fill=\"#000000\" fill-rule=\"nonzero\" fill-opacity=\"1\" /><path clip-path=\"url(#clip260)\" d=\"M1762.85 48.0275 L1762.85 51.6733 L1728.58 51.6733 Q1729.07 59.3701 1733.2 63.421 Q1737.37 67.4314 1744.78 67.4314 Q1749.08 67.4314 1753.09 66.3781 Q1757.14 65.3249 1761.11 63.2184 L1761.11 70.267 Q1757.1 71.9684 1752.89 72.8596 Q1748.67 73.7508 1744.34 73.7508 Q1733.48 73.7508 1727.12 67.4314 Q1720.8 61.1119 1720.8 50.3365 Q1720.8 39.1965 1726.8 32.6746 Q1732.83 26.1121 1743.04 26.1121 Q1752.2 26.1121 1757.5 32.0264 Q1762.85 37.9003 1762.85 48.0275 M1755.4 45.84 Q1755.32 39.7232 1751.95 36.0774 Q1748.63 32.4315 1743.12 32.4315 Q1736.88 32.4315 1733.12 35.9558 Q1729.39 39.4801 1728.82 45.8805 L1755.4 45.84 Z\" fill=\"#000000\" fill-rule=\"nonzero\" fill-opacity=\"1\" /><path clip-path=\"url(#clip260)\" d=\"M1801.37 34.1734 Q1800.12 33.4443 1798.62 33.1202 Q1797.16 32.7556 1795.38 32.7556 Q1789.06 32.7556 1785.66 36.8875 Q1782.3 40.9789 1782.3 48.6757 L1782.3 72.576 L1774.8 72.576 L1774.8 27.2059 L1782.3 27.2059 L1782.3 34.2544 Q1784.64 30.1225 1788.41 28.1376 Q1792.18 26.1121 1797.57 26.1121 Q1798.34 26.1121 1799.27 26.2337 Q1800.2 26.3147 1801.33 26.5172 L1801.37 34.1734 Z\" fill=\"#000000\" fill-rule=\"nonzero\" fill-opacity=\"1\" /><path clip-path=\"url(#clip260)\" d=\"M1809.19 27.2059 L1816.65 27.2059 L1816.65 72.576 L1809.19 72.576 L1809.19 27.2059 M1809.19 9.54393 L1816.65 9.54393 L1816.65 18.9825 L1809.19 18.9825 L1809.19 9.54393 Z\" fill=\"#000000\" fill-rule=\"nonzero\" fill-opacity=\"1\" /><path clip-path=\"url(#clip260)\" d=\"M1849.82 32.4315 Q1843.83 32.4315 1840.34 37.1306 Q1836.86 41.7891 1836.86 49.9314 Q1836.86 58.0738 1840.3 62.7728 Q1843.79 67.4314 1849.82 67.4314 Q1855.78 67.4314 1859.26 62.7323 Q1862.75 58.0333 1862.75 49.9314 Q1862.75 41.8701 1859.26 37.1711 Q1855.78 32.4315 1849.82 32.4315 M1849.82 26.1121 Q1859.55 26.1121 1865.1 32.4315 Q1870.65 38.7509 1870.65 49.9314 Q1870.65 61.0714 1865.1 67.4314 Q1859.55 73.7508 1849.82 73.7508 Q1840.06 73.7508 1834.51 67.4314 Q1829 61.0714 1829 49.9314 Q1829 38.7509 1834.51 32.4315 Q1840.06 26.1121 1849.82 26.1121 Z\" fill=\"#000000\" fill-rule=\"nonzero\" fill-opacity=\"1\" /><path clip-path=\"url(#clip260)\" d=\"M1912.86 34.0924 L1912.86 9.54393 L1920.31 9.54393 L1920.31 72.576 L1912.86 72.576 L1912.86 65.7705 Q1910.51 69.8214 1906.9 71.8063 Q1903.34 73.7508 1898.31 73.7508 Q1890.09 73.7508 1884.9 67.1883 Q1879.76 60.6258 1879.76 49.9314 Q1879.76 39.2371 1884.9 32.6746 Q1890.09 26.1121 1898.31 26.1121 Q1903.34 26.1121 1906.9 28.0971 Q1910.51 30.0415 1912.86 34.0924 M1887.46 49.9314 Q1887.46 58.1548 1890.82 62.8538 Q1894.22 67.5124 1900.14 67.5124 Q1906.05 67.5124 1909.45 62.8538 Q1912.86 58.1548 1912.86 49.9314 Q1912.86 41.7081 1909.45 37.0496 Q1906.05 32.3505 1900.14 32.3505 Q1894.22 32.3505 1890.82 37.0496 Q1887.46 41.7081 1887.46 49.9314 Z\" fill=\"#000000\" fill-rule=\"nonzero\" fill-opacity=\"1\" /><polyline clip-path=\"url(#clip262)\" style=\"stroke:#009af9; stroke-linecap:round; stroke-linejoin:round; stroke-width:4; stroke-opacity:1; fill:none\" points=\"323.395,1033.53 337.173,1087.58 350.951,1129.89 364.729,1128.46 378.507,1076.56 392.285,1086.65 406.063,1218.75 419.841,1230.01 433.619,1205.95 447.397,1158.5 461.175,1133.05 474.953,1222.47 488.731,1283.91 502.509,1257.7 516.287,1193.75 530.065,1142.74 543.843,1071.99 557.621,896.304 571.399,725.474 585.177,498.953 598.955,548.547 612.733,660.743 626.511,805.358 640.289,926.21 654.067,1004.77 667.845,1080.95 681.623,1112.14 695.401,1109.73 709.179,1068.33 722.957,1180.93 736.735,1326.04 750.513,1362.65 764.291,1351.62 778.069,1281.22 791.847,1245.5 805.625,1304.32 819.403,1370.73 833.181,1318.12 846.959,1287.65 860.737,1194.55 874.515,1085.22 888.293,916.383 902.071,744.405 915.849,500.912 929.627,561.89 943.405,684.335 957.183,835.571 970.961,957.529 984.739,1013.61 998.517,1073.86 1012.29,1101.55 1026.07,1125.62 1039.85,1087.28 1053.63,1160.71 1067.41,1316.09 1081.18,1383.56 1094.96,1386.4 1108.74,1310.13 1122.52,1265.75 1136.3,1310.7 1150.07,1348.71 1163.85,1363.64 1177.63,1256.11 1191.41,1162.17 1205.19,1045.84 1218.96,814.809 1232.74,645.11 1246.52,452.271 1260.3,516.448 1274.08,644.654 1287.85,833.581 1301.63,998.013 1315.41,1090.61 1329.19,1142.91 1342.97,1146.67 1356.74,1117.69 1370.52,1030.61 1384.3,978.287 1398.08,1141.64 1411.86,1180.04 1425.63,1179.98 1439.41,1140.84 1453.19,1125 1466.97,1025.07 1480.75,965.188 1494.52,933.261 1508.3,859.57 1522.08,791.662 1535.86,707.283 1549.64,589.726 1563.41,442.268 1577.19,251.194 1590.97,334.27 1604.75,467.179 1618.53,656.198 1632.3,817.706 1646.08,922.646 1659.86,996.186 1673.64,1021.31 1687.42,999.222 1701.19,957.087 1714.97,886.455 1728.75,988.218 1742.53,1020.47 1756.31,1066.07 1770.08,1002.69 1783.86,1002.47 1797.64,890.702 1811.42,855.118 1825.2,791.395 1838.97,711.156 1852.75,628.855 1866.53,545.345 1880.31,385.912 1894.09,217.719 1907.86,160.256 1921.64,252.348 1935.42,409.289 1949.2,617.777 1962.98,782.937 1976.75,884.97 1990.53,959.118 2004.31,1008.98 2018.09,992.697 2031.87,947.511 2045.64,853.719 2059.42,985.404 2073.2,1009.88 2086.98,1004.6 2100.76,902.81 2114.53,768.952 2128.31,704.114 2142.09,773.272 2155.87,677.997 2169.65,559.643 2183.42,376.013 2197.2,369.91 2210.98,243.952 2224.76,175.691 2238.54,180.8 2252.31,237.916 2266.09,382.275 2279.87,586.182 2293.65,755.461 \"/>\n",
       "<path clip-path=\"url(#clip260)\" d=\"M333.903 270.476 L595.18 270.476 L595.18 166.796 L333.903 166.796  Z\" fill=\"#ffffff\" fill-rule=\"evenodd\" fill-opacity=\"1\"/>\n",
       "<polyline clip-path=\"url(#clip260)\" style=\"stroke:#000000; stroke-linecap:round; stroke-linejoin:round; stroke-width:4; stroke-opacity:1; fill:none\" points=\"333.903,270.476 595.18,270.476 595.18,166.796 333.903,166.796 333.903,270.476 \"/>\n",
       "<polyline clip-path=\"url(#clip260)\" style=\"stroke:#009af9; stroke-linecap:round; stroke-linejoin:round; stroke-width:4; stroke-opacity:1; fill:none\" points=\"357.108,218.636 496.339,218.636 \"/>\n",
       "<path clip-path=\"url(#clip260)\" d=\"M533.387 238.323 Q531.582 242.953 529.869 244.365 Q528.156 245.777 525.285 245.777 L521.883 245.777 L521.883 242.212 L524.383 242.212 Q526.142 242.212 527.114 241.379 Q528.086 240.545 529.267 237.443 L530.031 235.499 L519.545 209.99 L524.058 209.99 L532.16 230.268 L540.262 209.99 L544.776 209.99 L533.387 238.323 Z\" fill=\"#000000\" fill-rule=\"nonzero\" fill-opacity=\"1\" /><path clip-path=\"url(#clip260)\" d=\"M552.068 231.981 L559.706 231.981 L559.706 205.615 L551.396 207.282 L551.396 203.022 L559.66 201.356 L564.336 201.356 L564.336 231.981 L571.975 231.981 L571.975 235.916 L552.068 235.916 L552.068 231.981 Z\" fill=\"#000000\" fill-rule=\"nonzero\" fill-opacity=\"1\" /></svg>\n"
      ]
     },
     "execution_count": 114,
     "metadata": {},
     "output_type": "execute_result"
    }
   ],
   "source": [
    "n=186 # we extract the 6 days starting at day 187\n",
    "T_period = (n*24+1):((n+6)*24)\n",
    "net_load_for_simulation = copy(net_load[in.(net_load.hour,Ref(T_period)),:])\n",
    "net_load_for_simulation.hour = net_load_for_simulation.hour .- (T_period[1]-1)\n",
    "plot(net_load_for_simulation.hour,net_load_for_simulation.demand,xlabel=\"Time (hours)\",ylabel=\"Net load (MW)\",title=\"Net load for simulation period\")"
   ]
  },
  {
   "cell_type": "markdown",
   "id": "a8a5881b-5654-4297-b93a-e5808f78b7e2",
   "metadata": {},
   "source": [
    "Now we will set aside the rest of the net load timeseries for if we want to use it to develop better policies. We'll refer to it as the \"historical\" timeseries even though it is really just the whole year of data minus the part we took out. "
   ]
  },
  {
   "cell_type": "code",
   "execution_count": 115,
   "id": "94ee6079-de5d-42e0-9bd5-4a0ffbdda15d",
   "metadata": {},
   "outputs": [],
   "source": [
    "historical_net_load = copy(net_load[.!in.(net_load.hour,Ref(T_period)),:]) ;\n",
    "historical_net_load.hour = 1:length(historical_net_load.hour) ;"
   ]
  },
  {
   "cell_type": "markdown",
   "id": "e76bb8f2-8a06-41f3-914b-c1e9ce451091",
   "metadata": {},
   "source": [
    "Now it's time to initialize our state variable. We introduce both a static state variable, as well as a dynamic state variable that we initialize with the net load for the first day, assuming that we begin our simulation at the end of the first day."
   ]
  },
  {
   "cell_type": "code",
   "execution_count": 116,
   "id": "8eb70e91-6fb7-4359-bd0c-cd8a1aef01c5",
   "metadata": {},
   "outputs": [],
   "source": [
    "state_variable_static = Dict(\n",
    "    \"gen_df\"=>gen_df_no_vre,\n",
    "    \"historical_net_load\"=>historical_net_load,\n",
    "    \"nse_cost\"=>9000\n",
    "    ) ;\n",
    "\n",
    "state_variable_dynamic = Dict(\n",
    "    \"net_load_previous_day\" => net_load_for_simulation[1:24,:]\n",
    "    ) ;"
   ]
  },
  {
   "cell_type": "markdown",
   "id": "4c8e9bc1-a095-443b-9953-d7747fe2ac96",
   "metadata": {},
   "source": [
    "Now we build our simulator. This simulates our decision environment by making a set of unit commitment decisions at the end of each day using the information we have, running economic dispatch on the actual net load, and then updating our contribution function and dynamic state variable based on what happened.\n",
    "\n",
    "We will first simulate with our stochastic unit commitment policy, which requires a set of scenarios. To start, we will use three scenarios: the previous day's net load, and this net load plus and minus 5%."
   ]
  },
  {
   "cell_type": "code",
   "execution_count": 129,
   "id": "fdcd5638-f3af-4c1c-8573-e0d042569e90",
   "metadata": {},
   "outputs": [
    {
     "name": "stdout",
     "output_type": "stream",
     "text": [
      "Day is 1\n",
      "Set parameter Username\n",
      "Academic license - for non-commercial use only - expires 2025-06-27\n",
      "Set parameter MIPGap to value 0.01\n",
      "Set parameter MIPGap to value 0.01\n",
      "Set parameter Username\n",
      "Academic license - for non-commercial use only - expires 2025-06-27\n",
      "Set parameter MIPGap to value 0.01\n",
      "Set parameter MIPGap to value 0.01\n",
      "Day is 2\n",
      "Set parameter Username\n",
      "Academic license - for non-commercial use only - expires 2025-06-27\n",
      "Set parameter MIPGap to value 0.01\n",
      "Set parameter MIPGap to value 0.01\n",
      "Set parameter Username\n",
      "Academic license - for non-commercial use only - expires 2025-06-27\n",
      "Set parameter MIPGap to value 0.01\n",
      "Set parameter MIPGap to value 0.01\n",
      "Day is 3\n",
      "Set parameter Username\n",
      "Academic license - for non-commercial use only - expires 2025-06-27\n",
      "Set parameter MIPGap to value 0.01\n",
      "Set parameter MIPGap to value 0.01\n",
      "Set parameter Username\n",
      "Academic license - for non-commercial use only - expires 2025-06-27\n",
      "Set parameter MIPGap to value 0.01\n",
      "Set parameter MIPGap to value 0.01\n",
      "Day is 4\n",
      "Set parameter Username\n",
      "Academic license - for non-commercial use only - expires 2025-06-27\n",
      "Set parameter MIPGap to value 0.01\n",
      "Set parameter MIPGap to value 0.01\n",
      "Set parameter Username\n",
      "Academic license - for non-commercial use only - expires 2025-06-27\n",
      "Set parameter MIPGap to value 0.01\n",
      "Set parameter MIPGap to value 0.01\n",
      "Day is 5\n",
      "Set parameter Username\n",
      "Academic license - for non-commercial use only - expires 2025-06-27\n",
      "Set parameter MIPGap to value 0.01\n",
      "Set parameter MIPGap to value 0.01\n",
      "Set parameter Username\n",
      "Academic license - for non-commercial use only - expires 2025-06-27\n",
      "Set parameter MIPGap to value 0.01\n",
      "Set parameter MIPGap to value 0.01\n"
     ]
    },
    {
     "data": {
      "image/png": "[encoded data removed]",
      "image/svg+xml": [
       "<?xml version=\"1.0\" encoding=\"utf-8\"?>\n",
       "<svg xmlns=\"http://www.w3.org/2000/svg\" xmlns:xlink=\"http://www.w3.org/1999/xlink\" width=\"800\" height=\"300\" viewBox=\"0 0 3200 1200\">\n",
       "<defs>\n",
       "  <clipPath id=\"clip290\">\n",
       "    <rect x=\"0\" y=\"0\" width=\"3200\" height=\"1200\"/>\n",
       "  </clipPath>\n",
       "</defs>\n",
       "<path clip-path=\"url(#clip290)\" d=\"M0 1200 L3200 1200 L3200 0 L0 0  Z\" fill=\"#ffffff\" fill-rule=\"evenodd\" fill-opacity=\"1\"/>\n",
       "<defs>\n",
       "  <clipPath id=\"clip291\">\n",
       "    <rect x=\"640\" y=\"0\" width=\"2241\" height=\"1200\"/>\n",
       "  </clipPath>\n",
       "</defs>\n",
       "<path clip-path=\"url(#clip290)\" d=\"M355.656 1063.09 L2035.02 1063.09 L2035.02 97.0121 L355.656 97.0121  Z\" fill=\"#ffffff\" fill-rule=\"evenodd\" fill-opacity=\"1\"/>\n",
       "<defs>\n",
       "  <clipPath id=\"clip292\">\n",
       "    <rect x=\"355\" y=\"97\" width=\"1680\" height=\"967\"/>\n",
       "  </clipPath>\n",
       "</defs>\n",
       "<polyline clip-path=\"url(#clip292)\" style=\"stroke:#000000; stroke-linecap:round; stroke-linejoin:round; stroke-width:2; stroke-opacity:0.1; fill:none\" points=\"403.185,1063.09 403.185,97.0121 \"/>\n",
       "<polyline clip-path=\"url(#clip292)\" style=\"stroke:#000000; stroke-linecap:round; stroke-linejoin:round; stroke-width:2; stroke-opacity:0.1; fill:none\" points=\"799.262,1063.09 799.262,97.0121 \"/>\n",
       "<polyline clip-path=\"url(#clip292)\" style=\"stroke:#000000; stroke-linecap:round; stroke-linejoin:round; stroke-width:2; stroke-opacity:0.1; fill:none\" points=\"1195.34,1063.09 1195.34,97.0121 \"/>\n",
       "<polyline clip-path=\"url(#clip292)\" style=\"stroke:#000000; stroke-linecap:round; stroke-linejoin:round; stroke-width:2; stroke-opacity:0.1; fill:none\" points=\"1591.42,1063.09 1591.42,97.0121 \"/>\n",
       "<polyline clip-path=\"url(#clip292)\" style=\"stroke:#000000; stroke-linecap:round; stroke-linejoin:round; stroke-width:2; stroke-opacity:0.1; fill:none\" points=\"1987.49,1063.09 1987.49,97.0121 \"/>\n",
       "<polyline clip-path=\"url(#clip290)\" style=\"stroke:#000000; stroke-linecap:round; stroke-linejoin:round; stroke-width:4; stroke-opacity:1; fill:none\" points=\"355.656,1063.09 2035.02,1063.09 \"/>\n",
       "<polyline clip-path=\"url(#clip290)\" style=\"stroke:#000000; stroke-linecap:round; stroke-linejoin:round; stroke-width:4; stroke-opacity:1; fill:none\" points=\"403.185,1063.09 403.185,1044.19 \"/>\n",
       "<polyline clip-path=\"url(#clip290)\" style=\"stroke:#000000; stroke-linecap:round; stroke-linejoin:round; stroke-width:4; stroke-opacity:1; fill:none\" points=\"799.262,1063.09 799.262,1044.19 \"/>\n",
       "<polyline clip-path=\"url(#clip290)\" style=\"stroke:#000000; stroke-linecap:round; stroke-linejoin:round; stroke-width:4; stroke-opacity:1; fill:none\" points=\"1195.34,1063.09 1195.34,1044.19 \"/>\n",
       "<polyline clip-path=\"url(#clip290)\" style=\"stroke:#000000; stroke-linecap:round; stroke-linejoin:round; stroke-width:4; stroke-opacity:1; fill:none\" points=\"1591.42,1063.09 1591.42,1044.19 \"/>\n",
       "<polyline clip-path=\"url(#clip290)\" style=\"stroke:#000000; stroke-linecap:round; stroke-linejoin:round; stroke-width:4; stroke-opacity:1; fill:none\" points=\"1987.49,1063.09 1987.49,1044.19 \"/>\n",
       "<path clip-path=\"url(#clip290)\" d=\"M393.567 1127.95 L401.206 1127.95 L401.206 1101.59 L392.896 1103.26 L392.896 1099 L401.16 1097.33 L405.836 1097.33 L405.836 1127.95 L413.475 1127.95 L413.475 1131.89 L393.567 1131.89 L393.567 1127.95 Z\" fill=\"#000000\" fill-rule=\"nonzero\" fill-opacity=\"1\" /><path clip-path=\"url(#clip290)\" d=\"M793.915 1127.95 L810.234 1127.95 L810.234 1131.89 L788.29 1131.89 L788.29 1127.95 Q790.952 1125.2 795.535 1120.57 Q800.142 1115.92 801.322 1114.58 Q803.568 1112.05 804.447 1110.32 Q805.35 1108.56 805.35 1106.87 Q805.35 1104.11 803.406 1102.38 Q801.484 1100.64 798.383 1100.64 Q796.183 1100.64 793.73 1101.4 Q791.299 1102.17 788.521 1103.72 L788.521 1099 Q791.346 1097.86 793.799 1097.28 Q796.253 1096.7 798.29 1096.7 Q803.66 1096.7 806.855 1099.39 Q810.049 1102.08 810.049 1106.57 Q810.049 1108.7 809.239 1110.62 Q808.452 1112.51 806.345 1115.11 Q805.767 1115.78 802.665 1119 Q799.563 1122.19 793.915 1127.95 Z\" fill=\"#000000\" fill-rule=\"nonzero\" fill-opacity=\"1\" /><path clip-path=\"url(#clip290)\" d=\"M1199.59 1113.26 Q1202.94 1113.97 1204.82 1116.24 Q1206.72 1118.51 1206.72 1121.84 Q1206.72 1126.96 1203.2 1129.76 Q1199.68 1132.56 1193.2 1132.56 Q1191.02 1132.56 1188.71 1132.12 Q1186.42 1131.7 1183.96 1130.85 L1183.96 1126.33 Q1185.91 1127.47 1188.22 1128.05 Q1190.54 1128.63 1193.06 1128.63 Q1197.46 1128.63 1199.75 1126.89 Q1202.06 1125.15 1202.06 1121.84 Q1202.06 1118.79 1199.91 1117.08 Q1197.78 1115.34 1193.96 1115.34 L1189.93 1115.34 L1189.93 1111.5 L1194.15 1111.5 Q1197.6 1111.5 1199.42 1110.13 Q1201.25 1108.74 1201.25 1106.15 Q1201.25 1103.49 1199.36 1102.08 Q1197.48 1100.64 1193.96 1100.64 Q1192.04 1100.64 1189.84 1101.06 Q1187.64 1101.47 1185 1102.35 L1185 1098.19 Q1187.67 1097.45 1189.98 1097.08 Q1192.32 1096.7 1194.38 1096.7 Q1199.7 1096.7 1202.8 1099.14 Q1205.91 1101.54 1205.91 1105.66 Q1205.91 1108.53 1204.26 1110.52 Q1202.62 1112.49 1199.59 1113.26 Z\" fill=\"#000000\" fill-rule=\"nonzero\" fill-opacity=\"1\" /><path clip-path=\"url(#clip290)\" d=\"M1594.42 1101.4 L1582.62 1119.85 L1594.42 1119.85 L1594.42 1101.4 M1593.2 1097.33 L1599.08 1097.33 L1599.08 1119.85 L1604.01 1119.85 L1604.01 1123.74 L1599.08 1123.74 L1599.08 1131.89 L1594.42 1131.89 L1594.42 1123.74 L1578.82 1123.74 L1578.82 1119.23 L1593.2 1097.33 Z\" fill=\"#000000\" fill-rule=\"nonzero\" fill-opacity=\"1\" /><path clip-path=\"url(#clip290)\" d=\"M1977.77 1097.33 L1996.13 1097.33 L1996.13 1101.27 L1982.05 1101.27 L1982.05 1109.74 Q1983.07 1109.39 1984.09 1109.23 Q1985.11 1109.04 1986.13 1109.04 Q1991.91 1109.04 1995.29 1112.21 Q1998.67 1115.39 1998.67 1120.8 Q1998.67 1126.38 1995.2 1129.48 Q1991.73 1132.56 1985.41 1132.56 Q1983.23 1132.56 1980.96 1132.19 Q1978.72 1131.82 1976.31 1131.08 L1976.31 1126.38 Q1978.4 1127.51 1980.62 1128.07 Q1982.84 1128.63 1985.32 1128.63 Q1989.32 1128.63 1991.66 1126.52 Q1994 1124.41 1994 1120.8 Q1994 1117.19 1991.66 1115.08 Q1989.32 1112.98 1985.32 1112.98 Q1983.44 1112.98 1981.57 1113.39 Q1979.71 1113.81 1977.77 1114.69 L1977.77 1097.33 Z\" fill=\"#000000\" fill-rule=\"nonzero\" fill-opacity=\"1\" /><path clip-path=\"url(#clip290)\" d=\"M1141.58 1177.72 L1141.58 1214.67 L1149.35 1214.67 Q1159.18 1214.67 1163.73 1210.21 Q1168.32 1205.76 1168.32 1196.15 Q1168.32 1186.6 1163.73 1182.17 Q1159.18 1177.72 1149.35 1177.72 L1141.58 1177.72 M1135.15 1172.43 L1148.36 1172.43 Q1162.17 1172.43 1168.63 1178.19 Q1175.1 1183.92 1175.1 1196.15 Q1175.1 1208.43 1168.6 1214.19 Q1162.11 1219.95 1148.36 1219.95 L1135.15 1219.95 L1135.15 1172.43 Z\" fill=\"#000000\" fill-rule=\"nonzero\" fill-opacity=\"1\" /><path clip-path=\"url(#clip290)\" d=\"M1201.29 1202.03 Q1194.19 1202.03 1191.46 1203.66 Q1188.72 1205.28 1188.72 1209.2 Q1188.72 1212.31 1190.76 1214.16 Q1192.82 1215.98 1196.36 1215.98 Q1201.23 1215.98 1204.16 1212.54 Q1207.12 1209.07 1207.12 1203.34 L1207.12 1202.03 L1201.29 1202.03 M1212.97 1199.62 L1212.97 1219.95 L1207.12 1219.95 L1207.12 1214.54 Q1205.11 1217.79 1202.12 1219.35 Q1199.13 1220.88 1194.8 1220.88 Q1189.32 1220.88 1186.08 1217.82 Q1182.86 1214.73 1182.86 1209.58 Q1182.86 1203.56 1186.87 1200.51 Q1190.91 1197.45 1198.9 1197.45 L1207.12 1197.45 L1207.12 1196.88 Q1207.12 1192.84 1204.44 1190.64 Q1201.8 1188.41 1196.99 1188.41 Q1193.94 1188.41 1191.04 1189.14 Q1188.15 1189.88 1185.47 1191.34 L1185.47 1185.93 Q1188.69 1184.69 1191.71 1184.08 Q1194.73 1183.45 1197.6 1183.45 Q1205.33 1183.45 1209.15 1187.46 Q1212.97 1191.47 1212.97 1199.62 Z\" fill=\"#000000\" fill-rule=\"nonzero\" fill-opacity=\"1\" /><path clip-path=\"url(#clip290)\" d=\"M1239.87 1223.26 Q1237.38 1229.63 1235.03 1231.57 Q1232.67 1233.51 1228.73 1233.51 L1224.05 1233.51 L1224.05 1228.61 L1227.49 1228.61 Q1229.9 1228.61 1231.24 1227.47 Q1232.58 1226.32 1234.2 1222.05 L1235.25 1219.38 L1220.83 1184.31 L1227.04 1184.31 L1238.18 1212.19 L1249.32 1184.31 L1255.53 1184.31 L1239.87 1223.26 Z\" fill=\"#000000\" fill-rule=\"nonzero\" fill-opacity=\"1\" /><polyline clip-path=\"url(#clip292)\" style=\"stroke:#000000; stroke-linecap:round; stroke-linejoin:round; stroke-width:2; stroke-opacity:0.1; fill:none\" points=\"355.656,1035.75 2035.02,1035.75 \"/>\n",
       "<polyline clip-path=\"url(#clip292)\" style=\"stroke:#000000; stroke-linecap:round; stroke-linejoin:round; stroke-width:2; stroke-opacity:0.1; fill:none\" points=\"355.656,758.685 2035.02,758.685 \"/>\n",
       "<polyline clip-path=\"url(#clip292)\" style=\"stroke:#000000; stroke-linecap:round; stroke-linejoin:round; stroke-width:2; stroke-opacity:0.1; fill:none\" points=\"355.656,481.622 2035.02,481.622 \"/>\n",
       "<polyline clip-path=\"url(#clip292)\" style=\"stroke:#000000; stroke-linecap:round; stroke-linejoin:round; stroke-width:2; stroke-opacity:0.1; fill:none\" points=\"355.656,204.559 2035.02,204.559 \"/>\n",
       "<polyline clip-path=\"url(#clip290)\" style=\"stroke:#000000; stroke-linecap:round; stroke-linejoin:round; stroke-width:4; stroke-opacity:1; fill:none\" points=\"355.656,1063.09 355.656,97.0121 \"/>\n",
       "<polyline clip-path=\"url(#clip290)\" style=\"stroke:#000000; stroke-linecap:round; stroke-linejoin:round; stroke-width:4; stroke-opacity:1; fill:none\" points=\"355.656,1035.75 367.002,1035.75 \"/>\n",
       "<polyline clip-path=\"url(#clip290)\" style=\"stroke:#000000; stroke-linecap:round; stroke-linejoin:round; stroke-width:4; stroke-opacity:1; fill:none\" points=\"355.656,758.685 367.002,758.685 \"/>\n",
       "<polyline clip-path=\"url(#clip290)\" style=\"stroke:#000000; stroke-linecap:round; stroke-linejoin:round; stroke-width:4; stroke-opacity:1; fill:none\" points=\"355.656,481.622 367.002,481.622 \"/>\n",
       "<polyline clip-path=\"url(#clip290)\" style=\"stroke:#000000; stroke-linecap:round; stroke-linejoin:round; stroke-width:4; stroke-opacity:1; fill:none\" points=\"355.656,204.559 367.002,204.559 \"/>\n",
       "<path clip-path=\"url(#clip290)\" d=\"M295.712 1021.55 Q292.101 1021.55 290.272 1025.11 Q288.466 1028.65 288.466 1035.78 Q288.466 1042.89 290.272 1046.45 Q292.101 1050 295.712 1050 Q299.346 1050 301.152 1046.45 Q302.98 1042.89 302.98 1035.78 Q302.98 1028.65 301.152 1025.11 Q299.346 1021.55 295.712 1021.55 M295.712 1017.84 Q301.522 1017.84 304.578 1022.45 Q307.656 1027.03 307.656 1035.78 Q307.656 1044.51 304.578 1049.12 Q301.522 1053.7 295.712 1053.7 Q289.902 1053.7 286.823 1049.12 Q283.767 1044.51 283.767 1035.78 Q283.767 1027.03 286.823 1022.45 Q289.902 1017.84 295.712 1017.84 Z\" fill=\"#000000\" fill-rule=\"nonzero\" fill-opacity=\"1\" /><path clip-path=\"url(#clip290)\" d=\"M90.9285 747.853 L109.285 747.853 L109.285 751.788 L95.2109 751.788 L95.2109 760.26 Q96.2294 759.913 97.2479 759.751 Q98.2664 759.566 99.2849 759.566 Q105.072 759.566 108.452 762.737 Q111.831 765.908 111.831 771.325 Q111.831 776.903 108.359 780.005 Q104.887 783.084 98.5673 783.084 Q96.3914 783.084 94.1229 782.714 Q91.8776 782.343 89.4702 781.602 L89.4702 776.903 Q91.5535 778.038 93.7757 778.593 Q95.9979 779.149 98.4747 779.149 Q102.479 779.149 104.817 777.042 Q107.155 774.936 107.155 771.325 Q107.155 767.714 104.817 765.607 Q102.479 763.501 98.4747 763.501 Q96.5997 763.501 94.7248 763.917 Q92.8729 764.334 90.9285 765.214 L90.9285 747.853 Z\" fill=\"#000000\" fill-rule=\"nonzero\" fill-opacity=\"1\" /><path clip-path=\"url(#clip290)\" d=\"M121.044 776.533 L125.928 776.533 L125.928 782.413 L121.044 782.413 L121.044 776.533 Z\" fill=\"#000000\" fill-rule=\"nonzero\" fill-opacity=\"1\" /><path clip-path=\"url(#clip290)\" d=\"M146.113 750.931 Q142.502 750.931 140.674 754.496 Q138.868 758.038 138.868 765.167 Q138.868 772.274 140.674 775.839 Q142.502 779.38 146.113 779.38 Q149.748 779.38 151.553 775.839 Q153.382 772.274 153.382 765.167 Q153.382 758.038 151.553 754.496 Q149.748 750.931 146.113 750.931 M146.113 747.228 Q151.924 747.228 154.979 751.834 Q158.058 756.417 158.058 765.167 Q158.058 773.894 154.979 778.501 Q151.924 783.084 146.113 783.084 Q140.303 783.084 137.225 778.501 Q134.169 773.894 134.169 765.167 Q134.169 756.417 137.225 751.834 Q140.303 747.228 146.113 747.228 Z\" fill=\"#000000\" fill-rule=\"nonzero\" fill-opacity=\"1\" /><path clip-path=\"url(#clip290)\" d=\"M176.275 750.931 Q172.664 750.931 170.835 754.496 Q169.03 758.038 169.03 765.167 Q169.03 772.274 170.835 775.839 Q172.664 779.38 176.275 779.38 Q179.909 779.38 181.715 775.839 Q183.544 772.274 183.544 765.167 Q183.544 758.038 181.715 754.496 Q179.909 750.931 176.275 750.931 M176.275 747.228 Q182.085 747.228 185.141 751.834 Q188.22 756.417 188.22 765.167 Q188.22 773.894 185.141 778.501 Q182.085 783.084 176.275 783.084 Q170.465 783.084 167.386 778.501 Q164.331 773.894 164.331 765.167 Q164.331 756.417 167.386 751.834 Q170.465 747.228 176.275 747.228 Z\" fill=\"#000000\" fill-rule=\"nonzero\" fill-opacity=\"1\" /><path clip-path=\"url(#clip290)\" d=\"M224.608 756.95 L214.03 767.575 L224.608 778.153 L221.854 780.954 L211.229 770.329 L200.604 780.954 L197.872 778.153 L208.428 767.575 L197.872 756.95 L200.604 754.149 L211.229 764.774 L221.854 754.149 L224.608 756.95 Z\" fill=\"#000000\" fill-rule=\"nonzero\" fill-opacity=\"1\" /><path clip-path=\"url(#clip290)\" d=\"M236.969 778.477 L244.608 778.477 L244.608 752.112 L236.298 753.779 L236.298 749.519 L244.562 747.853 L249.238 747.853 L249.238 778.477 L256.877 778.477 L256.877 782.413 L236.969 782.413 L236.969 778.477 Z\" fill=\"#000000\" fill-rule=\"nonzero\" fill-opacity=\"1\" /><path clip-path=\"url(#clip290)\" d=\"M276.321 750.931 Q272.71 750.931 270.881 754.496 Q269.076 758.038 269.076 765.167 Q269.076 772.274 270.881 775.839 Q272.71 779.38 276.321 779.38 Q279.955 779.38 281.761 775.839 Q283.589 772.274 283.589 765.167 Q283.589 758.038 281.761 754.496 Q279.955 750.931 276.321 750.931 M276.321 747.228 Q282.131 747.228 285.187 751.834 Q288.265 756.417 288.265 765.167 Q288.265 773.894 285.187 778.501 Q282.131 783.084 276.321 783.084 Q270.511 783.084 267.432 778.501 Q264.377 773.894 264.377 765.167 Q264.377 756.417 267.432 751.834 Q270.511 747.228 276.321 747.228 Z\" fill=\"#000000\" fill-rule=\"nonzero\" fill-opacity=\"1\" /><path clip-path=\"url(#clip290)\" d=\"M298.29 739.448 Q295.732 739.448 294.227 741.197 Q292.742 742.946 292.742 745.993 Q292.742 749.021 294.227 750.789 Q295.732 752.538 298.29 752.538 Q300.848 752.538 302.334 750.789 Q303.838 749.021 303.838 745.993 Q303.838 742.946 302.334 741.197 Q300.848 739.448 298.29 739.448 M305.832 727.543 L305.832 731.004 Q304.402 730.326 302.935 729.969 Q301.487 729.612 300.058 729.612 Q296.296 729.612 294.303 732.151 Q292.328 734.69 292.046 739.824 Q293.155 738.188 294.829 737.323 Q296.503 736.439 298.516 736.439 Q302.747 736.439 305.192 739.016 Q307.656 741.573 307.656 745.993 Q307.656 750.319 305.098 752.933 Q302.54 755.548 298.29 755.548 Q293.419 755.548 290.842 751.824 Q288.265 748.081 288.265 740.99 Q288.265 734.332 291.425 730.383 Q294.585 726.414 299.907 726.414 Q301.337 726.414 302.785 726.697 Q304.252 726.979 305.832 727.543 Z\" fill=\"#000000\" fill-rule=\"nonzero\" fill-opacity=\"1\" /><path clip-path=\"url(#clip290)\" d=\"M93.0277 501.414 L100.667 501.414 L100.667 475.049 L92.3564 476.716 L92.3564 472.456 L100.62 470.79 L105.296 470.79 L105.296 501.414 L112.935 501.414 L112.935 505.35 L93.0277 505.35 L93.0277 501.414 Z\" fill=\"#000000\" fill-rule=\"nonzero\" fill-opacity=\"1\" /><path clip-path=\"url(#clip290)\" d=\"M122.379 499.47 L127.264 499.47 L127.264 505.35 L122.379 505.35 L122.379 499.47 Z\" fill=\"#000000\" fill-rule=\"nonzero\" fill-opacity=\"1\" /><path clip-path=\"url(#clip290)\" d=\"M147.449 473.868 Q143.838 473.868 142.009 477.433 Q140.203 480.975 140.203 488.104 Q140.203 495.211 142.009 498.776 Q143.838 502.317 147.449 502.317 Q151.083 502.317 152.889 498.776 Q154.717 495.211 154.717 488.104 Q154.717 480.975 152.889 477.433 Q151.083 473.868 147.449 473.868 M147.449 470.165 Q153.259 470.165 156.314 474.771 Q159.393 479.354 159.393 488.104 Q159.393 496.831 156.314 501.438 Q153.259 506.021 147.449 506.021 Q141.639 506.021 138.56 501.438 Q135.504 496.831 135.504 488.104 Q135.504 479.354 138.56 474.771 Q141.639 470.165 147.449 470.165 Z\" fill=\"#000000\" fill-rule=\"nonzero\" fill-opacity=\"1\" /><path clip-path=\"url(#clip290)\" d=\"M177.611 473.868 Q174 473.868 172.171 477.433 Q170.365 480.975 170.365 488.104 Q170.365 495.211 172.171 498.776 Q174 502.317 177.611 502.317 Q181.245 502.317 183.05 498.776 Q184.879 495.211 184.879 488.104 Q184.879 480.975 183.05 477.433 Q181.245 473.868 177.611 473.868 M177.611 470.165 Q183.421 470.165 186.476 474.771 Q189.555 479.354 189.555 488.104 Q189.555 496.831 186.476 501.438 Q183.421 506.021 177.611 506.021 Q171.8 506.021 168.722 501.438 Q165.666 496.831 165.666 488.104 Q165.666 479.354 168.722 474.771 Q171.8 470.165 177.611 470.165 Z\" fill=\"#000000\" fill-rule=\"nonzero\" fill-opacity=\"1\" /><path clip-path=\"url(#clip290)\" d=\"M225.944 479.887 L215.365 490.512 L225.944 501.09 L223.189 503.891 L212.564 493.266 L201.939 503.891 L199.208 501.09 L209.763 490.512 L199.208 479.887 L201.939 477.086 L212.564 487.711 L223.189 477.086 L225.944 479.887 Z\" fill=\"#000000\" fill-rule=\"nonzero\" fill-opacity=\"1\" /><path clip-path=\"url(#clip290)\" d=\"M238.305 501.414 L245.944 501.414 L245.944 475.049 L237.633 476.716 L237.633 472.456 L245.897 470.79 L250.573 470.79 L250.573 501.414 L258.212 501.414 L258.212 505.35 L238.305 505.35 L238.305 501.414 Z\" fill=\"#000000\" fill-rule=\"nonzero\" fill-opacity=\"1\" /><path clip-path=\"url(#clip290)\" d=\"M277.656 473.868 Q274.045 473.868 272.217 477.433 Q270.411 480.975 270.411 488.104 Q270.411 495.211 272.217 498.776 Q274.045 502.317 277.656 502.317 Q281.291 502.317 283.096 498.776 Q284.925 495.211 284.925 488.104 Q284.925 480.975 283.096 477.433 Q281.291 473.868 277.656 473.868 M277.656 470.165 Q283.467 470.165 286.522 474.771 Q289.601 479.354 289.601 488.104 Q289.601 496.831 286.522 501.438 Q283.467 506.021 277.656 506.021 Q271.846 506.021 268.768 501.438 Q265.712 496.831 265.712 488.104 Q265.712 479.354 268.768 474.771 Q271.846 470.165 277.656 470.165 Z\" fill=\"#000000\" fill-rule=\"nonzero\" fill-opacity=\"1\" /><path clip-path=\"url(#clip290)\" d=\"M289.601 449.859 L307.656 449.859 L307.656 451.477 L297.462 477.939 L293.494 477.939 L303.086 453.057 L289.601 453.057 L289.601 449.859 Z\" fill=\"#000000\" fill-rule=\"nonzero\" fill-opacity=\"1\" /><path clip-path=\"url(#clip290)\" d=\"M93.0277 224.351 L100.667 224.351 L100.667 197.986 L92.3564 199.653 L92.3564 195.393 L100.62 193.727 L105.296 193.727 L105.296 224.351 L112.935 224.351 L112.935 228.287 L93.0277 228.287 L93.0277 224.351 Z\" fill=\"#000000\" fill-rule=\"nonzero\" fill-opacity=\"1\" /><path clip-path=\"url(#clip290)\" d=\"M122.379 222.407 L127.264 222.407 L127.264 228.287 L122.379 228.287 L122.379 222.407 Z\" fill=\"#000000\" fill-rule=\"nonzero\" fill-opacity=\"1\" /><path clip-path=\"url(#clip290)\" d=\"M137.495 193.727 L155.851 193.727 L155.851 197.662 L141.777 197.662 L141.777 206.134 Q142.796 205.787 143.814 205.625 Q144.833 205.44 145.852 205.44 Q151.639 205.44 155.018 208.611 Q158.398 211.782 158.398 217.199 Q158.398 222.777 154.926 225.879 Q151.453 228.958 145.134 228.958 Q142.958 228.958 140.69 228.588 Q138.444 228.217 136.037 227.476 L136.037 222.777 Q138.12 223.912 140.342 224.467 Q142.564 225.023 145.041 225.023 Q149.046 225.023 151.384 222.916 Q153.722 220.81 153.722 217.199 Q153.722 213.588 151.384 211.481 Q149.046 209.375 145.041 209.375 Q143.166 209.375 141.291 209.791 Q139.44 210.208 137.495 211.088 L137.495 193.727 Z\" fill=\"#000000\" fill-rule=\"nonzero\" fill-opacity=\"1\" /><path clip-path=\"url(#clip290)\" d=\"M177.611 196.805 Q174 196.805 172.171 200.37 Q170.365 203.912 170.365 211.041 Q170.365 218.148 172.171 221.713 Q174 225.254 177.611 225.254 Q181.245 225.254 183.05 221.713 Q184.879 218.148 184.879 211.041 Q184.879 203.912 183.05 200.37 Q181.245 196.805 177.611 196.805 M177.611 193.102 Q183.421 193.102 186.476 197.708 Q189.555 202.291 189.555 211.041 Q189.555 219.768 186.476 224.375 Q183.421 228.958 177.611 228.958 Q171.8 228.958 168.722 224.375 Q165.666 219.768 165.666 211.041 Q165.666 202.291 168.722 197.708 Q171.8 193.102 177.611 193.102 Z\" fill=\"#000000\" fill-rule=\"nonzero\" fill-opacity=\"1\" /><path clip-path=\"url(#clip290)\" d=\"M225.944 202.824 L215.365 213.449 L225.944 224.027 L223.189 226.828 L212.564 216.203 L201.939 226.828 L199.208 224.027 L209.763 213.449 L199.208 202.824 L201.939 200.023 L212.564 210.648 L223.189 200.023 L225.944 202.824 Z\" fill=\"#000000\" fill-rule=\"nonzero\" fill-opacity=\"1\" /><path clip-path=\"url(#clip290)\" d=\"M238.305 224.351 L245.944 224.351 L245.944 197.986 L237.633 199.653 L237.633 195.393 L245.897 193.727 L250.573 193.727 L250.573 224.351 L258.212 224.351 L258.212 228.287 L238.305 228.287 L238.305 224.351 Z\" fill=\"#000000\" fill-rule=\"nonzero\" fill-opacity=\"1\" /><path clip-path=\"url(#clip290)\" d=\"M277.656 196.805 Q274.045 196.805 272.217 200.37 Q270.411 203.912 270.411 211.041 Q270.411 218.148 272.217 221.713 Q274.045 225.254 277.656 225.254 Q281.291 225.254 283.096 221.713 Q284.925 218.148 284.925 211.041 Q284.925 203.912 283.096 200.37 Q281.291 196.805 277.656 196.805 M277.656 193.102 Q283.467 193.102 286.522 197.708 Q289.601 202.291 289.601 211.041 Q289.601 219.768 286.522 224.375 Q283.467 228.958 277.656 228.958 Q271.846 228.958 268.768 224.375 Q265.712 219.768 265.712 211.041 Q265.712 202.291 268.768 197.708 Q271.846 193.102 277.656 193.102 Z\" fill=\"#000000\" fill-rule=\"nonzero\" fill-opacity=\"1\" /><path clip-path=\"url(#clip290)\" d=\"M289.601 172.796 L307.656 172.796 L307.656 174.414 L297.462 200.876 L293.494 200.876 L303.086 175.994 L289.601 175.994 L289.601 172.796 Z\" fill=\"#000000\" fill-rule=\"nonzero\" fill-opacity=\"1\" /><path clip-path=\"url(#clip290)\" d=\"M-16.6456 666.084 L-9.86608 666.084 Q-12.8898 669.33 -14.3857 673.022 Q-15.8817 676.682 -15.8817 680.82 Q-15.8817 688.968 -10.8846 693.297 Q-5.91935 697.626 3.5019 697.626 Q12.8913 697.626 17.8884 693.297 Q22.8536 688.968 22.8536 680.82 Q22.8536 676.682 21.3577 673.022 Q19.8618 669.33 16.8381 666.084 L23.5539 666.084 Q25.8455 669.457 26.9914 673.245 Q28.1372 677.001 28.1372 681.202 Q28.1372 691.992 21.5487 698.198 Q14.9283 704.405 3.5019 704.405 Q-7.95637 704.405 -14.5449 698.198 Q-21.1652 691.992 -21.1652 681.202 Q-21.1652 676.937 -20.0194 673.181 Q-18.9054 669.394 -16.6456 666.084 Z\" fill=\"#000000\" fill-rule=\"nonzero\" fill-opacity=\"1\" /><path clip-path=\"url(#clip290)\" d=\"M-4.32792 642.594 Q-4.32792 647.305 -0.635809 650.042 Q3.02447 652.779 9.42201 652.779 Q15.8195 652.779 19.5117 650.074 Q23.1719 647.337 23.1719 642.594 Q23.1719 637.915 19.4798 635.178 Q15.7877 632.441 9.42201 632.441 Q3.08813 632.441 -0.60398 635.178 Q-4.32792 637.915 -4.32792 642.594 M-9.29317 642.594 Q-9.29317 634.955 -4.32792 630.595 Q0.637332 626.234 9.42201 626.234 Q18.1749 626.234 23.1719 630.595 Q28.1372 634.955 28.1372 642.594 Q28.1372 650.265 23.1719 654.625 Q18.1749 658.954 9.42201 658.954 Q0.637332 658.954 -4.32792 654.625 Q-9.29317 650.265 -9.29317 642.594 Z\" fill=\"#000000\" fill-rule=\"nonzero\" fill-opacity=\"1\" /><path clip-path=\"url(#clip290)\" d=\"M-7.38346 593.801 L-1.84529 593.801 Q-3.11843 596.284 -3.75501 598.957 Q-4.39158 601.631 -4.39158 604.495 Q-4.39158 608.856 -3.05478 611.052 Q-1.71798 613.216 0.955618 613.216 Q2.99264 613.216 4.1703 611.657 Q5.31613 610.097 6.36647 605.386 L6.81207 603.381 Q8.14887 597.143 10.5997 594.533 Q13.0186 591.891 17.3791 591.891 Q22.3444 591.891 25.2408 595.838 Q28.1372 599.753 28.1372 606.628 Q28.1372 609.492 27.5643 612.612 Q27.0232 615.699 25.9092 619.136 L19.8618 619.136 Q21.5487 615.89 22.408 612.739 Q23.2356 609.588 23.2356 606.5 Q23.2356 602.363 21.8351 600.135 Q20.4029 597.907 17.8247 597.907 Q15.4376 597.907 14.1645 599.53 Q12.8913 601.121 11.7137 606.564 L11.2362 608.601 Q10.0904 614.044 7.7351 616.463 Q5.34796 618.882 1.21025 618.882 Q-3.81866 618.882 -6.55592 615.317 Q-9.29317 611.752 -9.29317 605.196 Q-9.29317 601.949 -8.81574 599.084 Q-8.33831 596.22 -7.38346 593.801 Z\" fill=\"#000000\" fill-rule=\"nonzero\" fill-opacity=\"1\" /><path clip-path=\"url(#clip290)\" d=\"M-18.5553 576.773 L-8.4338 576.773 L-8.4338 564.71 L-3.88232 564.71 L-3.88232 576.773 L15.4694 576.773 Q19.8299 576.773 21.0713 575.595 Q22.3126 574.386 22.3126 570.725 L22.3126 564.71 L27.2142 564.71 L27.2142 570.725 Q27.2142 577.505 24.6997 580.083 Q22.1534 582.661 15.4694 582.661 L-3.88232 582.661 L-3.88232 586.958 L-8.4338 586.958 L-8.4338 582.661 L-18.5553 582.661 L-18.5553 576.773 Z\" fill=\"#000000\" fill-rule=\"nonzero\" fill-opacity=\"1\" /><path clip-path=\"url(#clip290)\" d=\"M-22.2474 522.219 Q-14.9268 526.484 -7.7654 528.552 Q-0.60398 530.621 6.74841 530.621 Q14.1008 530.621 21.3259 528.552 Q28.5191 526.452 35.8079 522.219 L35.8079 527.311 Q28.3282 532.085 21.1031 534.473 Q13.878 536.828 6.74841 536.828 Q-0.349352 536.828 -7.5426 534.473 Q-14.7358 532.117 -22.2474 527.311 L-22.2474 522.219 Z\" fill=\"#000000\" fill-rule=\"nonzero\" fill-opacity=\"1\" /><path clip-path=\"url(#clip290)\" d=\"M36.7945 494.973 L36.7945 498.156 L27.2142 498.188 Q27.1505 501.53 26.4503 504.872 Q25.7182 508.214 24.2859 511.588 L18.5568 511.588 Q20.5938 508.341 21.6442 505.031 Q22.6627 501.689 22.6945 498.156 L8.18069 498.156 Q7.03487 505.19 4.29761 508.405 Q1.56036 511.588 -3.21392 511.588 Q-8.40197 511.588 -11.3939 508.118 Q-14.3857 504.649 -14.8313 498.156 L-22.311 498.156 L-22.311 494.973 L-14.9268 494.973 Q-14.7995 492.013 -14.2902 489.244 Q-13.8128 486.475 -12.9535 483.833 L-7.38346 483.833 Q-8.72026 486.475 -9.45231 489.276 Q-10.1844 492.045 -10.3117 494.973 L3.2791 494.973 Q4.3931 487.748 7.25767 484.343 Q10.1222 480.937 15.0875 480.937 Q20.4665 480.937 23.5857 484.565 Q26.6731 488.162 27.1505 494.973 L36.7945 494.973 M2.70619 498.156 L-10.3435 498.156 Q-9.92974 501.848 -8.24283 503.79 Q-6.55592 505.731 -3.75501 505.731 Q-1.01775 505.731 0.510018 503.949 Q2.03779 502.135 2.70619 498.156 M8.81727 494.973 L22.599 494.973 Q22.0579 490.931 20.3074 488.894 Q18.5568 486.825 15.6922 486.825 Q12.8913 486.825 11.2362 488.799 Q9.58115 490.74 8.81727 494.973 Z\" fill=\"#000000\" fill-rule=\"nonzero\" fill-opacity=\"1\" /><path clip-path=\"url(#clip290)\" d=\"M-22.2474 470.306 L-22.2474 465.214 Q-14.7358 460.439 -7.5426 458.084 Q-0.349352 455.697 6.74841 455.697 Q13.878 455.697 21.1031 458.084 Q28.3282 460.439 35.8079 465.214 L35.8079 470.306 Q28.5191 466.073 21.3259 464.004 Q14.1008 461.903 6.74841 461.903 Q-0.60398 461.903 -7.7654 464.004 Q-14.9268 466.073 -22.2474 470.306 Z\" fill=\"#000000\" fill-rule=\"nonzero\" fill-opacity=\"1\" /><path clip-path=\"url(#clip290)\" d=\"M623.999 18.8205 L623.999 41.5461 L634.289 41.5461 Q640 41.5461 643.12 38.5889 Q646.239 35.6318 646.239 30.163 Q646.239 24.7348 643.12 21.7777 Q640 18.8205 634.289 18.8205 L623.999 18.8205 M615.817 12.096 L634.289 12.096 Q644.456 12.096 649.642 16.714 Q654.867 21.2916 654.867 30.163 Q654.867 39.1155 649.642 43.6931 Q644.456 48.2706 634.289 48.2706 L623.999 48.2706 L623.999 72.576 L615.817 72.576 L615.817 12.096 Z\" fill=\"#000000\" fill-rule=\"nonzero\" fill-opacity=\"1\" /><path clip-path=\"url(#clip290)\" d=\"M680.145 32.4315 Q674.15 32.4315 670.666 37.1306 Q667.182 41.7891 667.182 49.9314 Q667.182 58.0738 670.625 62.7728 Q674.109 67.4314 680.145 67.4314 Q686.1 67.4314 689.584 62.7323 Q693.067 58.0333 693.067 49.9314 Q693.067 41.8701 689.584 37.1711 Q686.1 32.4315 680.145 32.4315 M680.145 26.1121 Q689.867 26.1121 695.417 32.4315 Q700.967 38.7509 700.967 49.9314 Q700.967 61.0714 695.417 67.4314 Q689.867 73.7508 680.145 73.7508 Q670.382 73.7508 664.832 67.4314 Q659.323 61.0714 659.323 49.9314 Q659.323 38.7509 664.832 32.4315 Q670.382 26.1121 680.145 26.1121 Z\" fill=\"#000000\" fill-rule=\"nonzero\" fill-opacity=\"1\" /><path clip-path=\"url(#clip290)\" d=\"M713.322 9.54393 L720.775 9.54393 L720.775 72.576 L713.322 72.576 L713.322 9.54393 Z\" fill=\"#000000\" fill-rule=\"nonzero\" fill-opacity=\"1\" /><path clip-path=\"url(#clip290)\" d=\"M736.371 27.2059 L743.825 27.2059 L743.825 72.576 L736.371 72.576 L736.371 27.2059 M736.371 9.54393 L743.825 9.54393 L743.825 18.9825 L736.371 18.9825 L736.371 9.54393 Z\" fill=\"#000000\" fill-rule=\"nonzero\" fill-opacity=\"1\" /><path clip-path=\"url(#clip290)\" d=\"M792.071 28.9478 L792.071 35.9153 Q788.912 34.1734 785.711 33.3227 Q782.552 32.4315 779.311 32.4315 Q772.06 32.4315 768.05 37.0496 Q764.039 41.6271 764.039 49.9314 Q764.039 58.2358 768.05 62.8538 Q772.06 67.4314 779.311 67.4314 Q782.552 67.4314 785.711 66.5807 Q788.912 65.6895 792.071 63.9476 L792.071 70.8341 Q788.952 72.2924 785.59 73.0216 Q782.268 73.7508 778.501 73.7508 Q768.252 73.7508 762.216 67.3098 Q756.18 60.8689 756.18 49.9314 Q756.18 38.832 762.257 32.472 Q768.374 26.1121 778.987 26.1121 Q782.43 26.1121 785.711 26.8413 Q788.993 27.5299 792.071 28.9478 Z\" fill=\"#000000\" fill-rule=\"nonzero\" fill-opacity=\"1\" /><path clip-path=\"url(#clip290)\" d=\"M823.911 76.7889 Q820.752 84.8907 817.754 87.3618 Q814.756 89.8329 809.733 89.8329 L803.778 89.8329 L803.778 83.5945 L808.153 83.5945 Q811.232 83.5945 812.934 82.1361 Q814.635 80.6778 816.701 75.2496 L818.038 71.8468 L799.687 27.2059 L807.586 27.2059 L821.765 62.6918 L835.943 27.2059 L843.842 27.2059 L823.911 76.7889 Z\" fill=\"#000000\" fill-rule=\"nonzero\" fill-opacity=\"1\" /><path clip-path=\"url(#clip290)\" d=\"M906.793 34.1734 Q905.537 33.4443 904.038 33.1202 Q902.58 32.7556 900.798 32.7556 Q894.478 32.7556 891.075 36.8875 Q887.713 40.9789 887.713 48.6757 L887.713 72.576 L880.219 72.576 L880.219 27.2059 L887.713 27.2059 L887.713 34.2544 Q890.063 30.1225 893.83 28.1376 Q897.597 26.1121 902.985 26.1121 Q903.755 26.1121 904.687 26.2337 Q905.618 26.3147 906.752 26.5172 L906.793 34.1734 Z\" fill=\"#000000\" fill-rule=\"nonzero\" fill-opacity=\"1\" /><path clip-path=\"url(#clip290)\" d=\"M951.596 48.0275 L951.596 51.6733 L917.325 51.6733 Q917.811 59.3701 921.943 63.421 Q926.116 67.4314 933.529 67.4314 Q937.823 67.4314 941.833 66.3781 Q945.884 65.3249 949.854 63.2184 L949.854 70.267 Q945.844 71.9684 941.631 72.8596 Q937.418 73.7508 933.083 73.7508 Q922.227 73.7508 915.867 67.4314 Q909.548 61.1119 909.548 50.3365 Q909.548 39.1965 915.543 32.6746 Q921.579 26.1121 931.787 26.1121 Q940.942 26.1121 946.249 32.0264 Q951.596 37.9003 951.596 48.0275 M944.142 45.84 Q944.061 39.7232 940.699 36.0774 Q937.377 32.4315 931.868 32.4315 Q925.63 32.4315 921.862 35.9558 Q918.136 39.4801 917.568 45.8805 L944.142 45.84 Z\" fill=\"#000000\" fill-rule=\"nonzero\" fill-opacity=\"1\" /><path clip-path=\"url(#clip290)\" d=\"M992.753 28.5427 L992.753 35.5912 Q989.593 33.9709 986.191 33.1607 Q982.788 32.3505 979.142 32.3505 Q973.592 32.3505 970.797 34.0519 Q968.043 35.7533 968.043 39.156 Q968.043 41.7486 970.028 43.2475 Q972.013 44.7058 978.008 46.0426 L980.56 46.6097 Q988.5 48.3111 991.821 51.4303 Q995.184 54.509 995.184 60.0587 Q995.184 66.3781 990.161 70.0644 Q985.178 73.7508 976.428 73.7508 Q972.782 73.7508 968.812 73.0216 Q964.883 72.3329 960.508 70.9151 L960.508 63.2184 Q964.64 65.3654 968.65 66.4591 Q972.661 67.5124 976.59 67.5124 Q981.856 67.5124 984.692 65.73 Q987.528 63.9071 987.528 60.6258 Q987.528 57.5877 985.462 55.9673 Q983.436 54.3469 976.509 52.8481 L973.916 52.2405 Q966.989 50.7821 963.911 47.7845 Q960.832 44.7463 960.832 39.4801 Q960.832 33.0797 965.369 29.5959 Q969.906 26.1121 978.251 26.1121 Q982.383 26.1121 986.029 26.7198 Q989.674 27.3274 992.753 28.5427 Z\" fill=\"#000000\" fill-rule=\"nonzero\" fill-opacity=\"1\" /><path clip-path=\"url(#clip290)\" d=\"M1006.28 54.671 L1006.28 27.2059 L1013.74 27.2059 L1013.74 54.3874 Q1013.74 60.8284 1016.25 64.0691 Q1018.76 67.2693 1023.78 67.2693 Q1029.82 67.2693 1033.3 63.421 Q1036.83 59.5726 1036.83 52.9291 L1036.83 27.2059 L1044.28 27.2059 L1044.28 72.576 L1036.83 72.576 L1036.83 65.6084 Q1034.11 69.7404 1030.51 71.7658 Q1026.94 73.7508 1022.2 73.7508 Q1014.39 73.7508 1010.33 68.8897 Q1006.28 64.0286 1006.28 54.671 M1025.04 26.1121 L1025.04 26.1121 Z\" fill=\"#000000\" fill-rule=\"nonzero\" fill-opacity=\"1\" /><path clip-path=\"url(#clip290)\" d=\"M1059.63 9.54393 L1067.09 9.54393 L1067.09 72.576 L1059.63 72.576 L1059.63 9.54393 Z\" fill=\"#000000\" fill-rule=\"nonzero\" fill-opacity=\"1\" /><path clip-path=\"url(#clip290)\" d=\"M1090.06 14.324 L1090.06 27.2059 L1105.41 27.2059 L1105.41 32.9987 L1090.06 32.9987 L1090.06 57.6282 Q1090.06 63.1779 1091.55 64.7578 Q1093.09 66.3376 1097.75 66.3376 L1105.41 66.3376 L1105.41 72.576 L1097.75 72.576 Q1089.12 72.576 1085.84 69.3758 Q1082.56 66.1351 1082.56 57.6282 L1082.56 32.9987 L1077.09 32.9987 L1077.09 27.2059 L1082.56 27.2059 L1082.56 14.324 L1090.06 14.324 Z\" fill=\"#000000\" fill-rule=\"nonzero\" fill-opacity=\"1\" /><path clip-path=\"url(#clip290)\" d=\"M1144.14 28.5427 L1144.14 35.5912 Q1140.98 33.9709 1137.57 33.1607 Q1134.17 32.3505 1130.52 32.3505 Q1124.97 32.3505 1122.18 34.0519 Q1119.42 35.7533 1119.42 39.156 Q1119.42 41.7486 1121.41 43.2475 Q1123.39 44.7058 1129.39 46.0426 L1131.94 46.6097 Q1139.88 48.3111 1143.2 51.4303 Q1146.57 54.509 1146.57 60.0587 Q1146.57 66.3781 1141.54 70.0644 Q1136.56 73.7508 1127.81 73.7508 Q1124.16 73.7508 1120.19 73.0216 Q1116.27 72.3329 1111.89 70.9151 L1111.89 63.2184 Q1116.02 65.3654 1120.03 66.4591 Q1124.04 67.5124 1127.97 67.5124 Q1133.24 67.5124 1136.07 65.73 Q1138.91 63.9071 1138.91 60.6258 Q1138.91 57.5877 1136.84 55.9673 Q1134.82 54.3469 1127.89 52.8481 L1125.3 52.2405 Q1118.37 50.7821 1115.29 47.7845 Q1112.21 44.7463 1112.21 39.4801 Q1112.21 33.0797 1116.75 29.5959 Q1121.29 26.1121 1129.63 26.1121 Q1133.77 26.1121 1137.41 26.7198 Q1141.06 27.3274 1144.14 28.5427 Z\" fill=\"#000000\" fill-rule=\"nonzero\" fill-opacity=\"1\" /><path clip-path=\"url(#clip290)\" d=\"M1160.34 62.2867 L1168.89 62.2867 L1168.89 72.576 L1160.34 72.576 L1160.34 62.2867 M1160.34 29.6769 L1168.89 29.6769 L1168.89 39.9662 L1160.34 39.9662 L1160.34 29.6769 Z\" fill=\"#000000\" fill-rule=\"nonzero\" fill-opacity=\"1\" /><path clip-path=\"url(#clip290)\" d=\"M1249.34 14.0809 L1249.34 22.0612 Q1244.68 19.8332 1240.55 18.7395 Q1236.42 17.6457 1232.57 17.6457 Q1225.88 17.6457 1222.24 20.2383 Q1218.63 22.8309 1218.63 27.611 Q1218.63 31.6214 1221.02 33.6873 Q1223.45 35.7128 1230.18 36.9686 L1235.12 37.9813 Q1244.27 39.7232 1248.61 44.1387 Q1252.98 48.5136 1252.98 55.8863 Q1252.98 64.6767 1247.07 69.2137 Q1241.2 73.7508 1229.81 73.7508 Q1225.52 73.7508 1220.66 72.7785 Q1215.84 71.8063 1210.65 69.9024 L1210.65 61.4765 Q1215.63 64.2716 1220.41 65.6895 Q1225.19 67.1073 1229.81 67.1073 Q1236.82 67.1073 1240.63 64.3527 Q1244.44 61.598 1244.44 56.4939 Q1244.44 52.0379 1241.68 49.5264 Q1238.97 47.0148 1232.73 45.759 L1227.75 44.7868 Q1218.59 42.9639 1214.5 39.075 Q1210.41 35.1862 1210.41 28.2591 Q1210.41 20.2383 1216.04 15.6203 Q1221.71 11.0023 1231.64 11.0023 Q1235.89 11.0023 1240.3 11.7719 Q1244.72 12.5416 1249.34 14.0809 Z\" fill=\"#000000\" fill-rule=\"nonzero\" fill-opacity=\"1\" /><path clip-path=\"url(#clip290)\" d=\"M1272.79 14.324 L1272.79 27.2059 L1288.15 27.2059 L1288.15 32.9987 L1272.79 32.9987 L1272.79 57.6282 Q1272.79 63.1779 1274.29 64.7578 Q1275.83 66.3376 1280.49 66.3376 L1288.15 66.3376 L1288.15 72.576 L1280.49 72.576 Q1271.86 72.576 1268.58 69.3758 Q1265.3 66.1351 1265.3 57.6282 L1265.3 32.9987 L1259.83 32.9987 L1259.83 27.2059 L1265.3 27.2059 L1265.3 14.324 L1272.79 14.324 Z\" fill=\"#000000\" fill-rule=\"nonzero\" fill-opacity=\"1\" /><path clip-path=\"url(#clip290)\" d=\"M1315.53 32.4315 Q1309.53 32.4315 1306.05 37.1306 Q1302.57 41.7891 1302.57 49.9314 Q1302.57 58.0738 1306.01 62.7728 Q1309.49 67.4314 1315.53 67.4314 Q1321.48 67.4314 1324.97 62.7323 Q1328.45 58.0333 1328.45 49.9314 Q1328.45 41.8701 1324.97 37.1711 Q1321.48 32.4315 1315.53 32.4315 M1315.53 26.1121 Q1325.25 26.1121 1330.8 32.4315 Q1336.35 38.7509 1336.35 49.9314 Q1336.35 61.0714 1330.8 67.4314 Q1325.25 73.7508 1315.53 73.7508 Q1305.77 73.7508 1300.22 67.4314 Q1294.71 61.0714 1294.71 49.9314 Q1294.71 38.7509 1300.22 32.4315 Q1305.77 26.1121 1315.53 26.1121 Z\" fill=\"#000000\" fill-rule=\"nonzero\" fill-opacity=\"1\" /><path clip-path=\"url(#clip290)\" d=\"M1381.36 28.9478 L1381.36 35.9153 Q1378.2 34.1734 1375 33.3227 Q1371.84 32.4315 1368.6 32.4315 Q1361.34 32.4315 1357.33 37.0496 Q1353.32 41.6271 1353.32 49.9314 Q1353.32 58.2358 1357.33 62.8538 Q1361.34 67.4314 1368.6 67.4314 Q1371.84 67.4314 1375 66.5807 Q1378.2 65.6895 1381.36 63.9476 L1381.36 70.8341 Q1378.24 72.2924 1374.87 73.0216 Q1371.55 73.7508 1367.79 73.7508 Q1357.54 73.7508 1351.5 67.3098 Q1345.47 60.8689 1345.47 49.9314 Q1345.47 38.832 1351.54 32.472 Q1357.66 26.1121 1368.27 26.1121 Q1371.72 26.1121 1375 26.8413 Q1378.28 27.5299 1381.36 28.9478 Z\" fill=\"#000000\" fill-rule=\"nonzero\" fill-opacity=\"1\" /><path clip-path=\"url(#clip290)\" d=\"M1432.03 45.1919 L1432.03 72.576 L1424.58 72.576 L1424.58 45.4349 Q1424.58 38.994 1422.07 35.7938 Q1419.56 32.5936 1414.53 32.5936 Q1408.5 32.5936 1405.01 36.4419 Q1401.53 40.2903 1401.53 46.9338 L1401.53 72.576 L1394.04 72.576 L1394.04 9.54393 L1401.53 9.54393 L1401.53 34.2544 Q1404.2 30.163 1407.81 28.1376 Q1411.45 26.1121 1416.19 26.1121 Q1424.01 26.1121 1428.02 30.9732 Q1432.03 35.7938 1432.03 45.1919 Z\" fill=\"#000000\" fill-rule=\"nonzero\" fill-opacity=\"1\" /><path clip-path=\"url(#clip290)\" d=\"M1467.52 49.7694 Q1458.49 49.7694 1455 51.8354 Q1451.52 53.9013 1451.52 58.8839 Q1451.52 62.8538 1454.11 65.2034 Q1456.74 67.5124 1461.24 67.5124 Q1467.44 67.5124 1471.16 63.1374 Q1474.93 58.7219 1474.93 51.4303 L1474.93 49.7694 L1467.52 49.7694 M1482.39 46.6907 L1482.39 72.576 L1474.93 72.576 L1474.93 65.6895 Q1472.38 69.8214 1468.57 71.8063 Q1464.76 73.7508 1459.26 73.7508 Q1452.29 73.7508 1448.16 69.8619 Q1444.06 65.9325 1444.06 59.3701 Q1444.06 51.7138 1449.17 47.825 Q1454.31 43.9361 1464.48 43.9361 L1474.93 43.9361 L1474.93 43.2069 Q1474.93 38.0623 1471.53 35.2672 Q1468.17 32.4315 1462.05 32.4315 Q1458.16 32.4315 1454.48 33.3632 Q1450.79 34.295 1447.39 36.1584 L1447.39 29.2718 Q1451.48 27.692 1455.33 26.9223 Q1459.17 26.1121 1462.82 26.1121 Q1472.66 26.1121 1477.52 31.2163 Q1482.39 36.3204 1482.39 46.6907 Z\" fill=\"#000000\" fill-rule=\"nonzero\" fill-opacity=\"1\" /><path clip-path=\"url(#clip290)\" d=\"M1526.66 28.5427 L1526.66 35.5912 Q1523.5 33.9709 1520.1 33.1607 Q1516.7 32.3505 1513.05 32.3505 Q1507.5 32.3505 1504.71 34.0519 Q1501.95 35.7533 1501.95 39.156 Q1501.95 41.7486 1503.94 43.2475 Q1505.92 44.7058 1511.92 46.0426 L1514.47 46.6097 Q1522.41 48.3111 1525.73 51.4303 Q1529.09 54.509 1529.09 60.0587 Q1529.09 66.3781 1524.07 70.0644 Q1519.09 73.7508 1510.34 73.7508 Q1506.69 73.7508 1502.72 73.0216 Q1498.79 72.3329 1494.42 70.9151 L1494.42 63.2184 Q1498.55 65.3654 1502.56 66.4591 Q1506.57 67.5124 1510.5 67.5124 Q1515.77 67.5124 1518.6 65.73 Q1521.44 63.9071 1521.44 60.6258 Q1521.44 57.5877 1519.37 55.9673 Q1517.35 54.3469 1510.42 52.8481 L1507.83 52.2405 Q1500.9 50.7821 1497.82 47.7845 Q1494.74 44.7463 1494.74 39.4801 Q1494.74 33.0797 1499.28 29.5959 Q1503.82 26.1121 1512.16 26.1121 Q1516.29 26.1121 1519.94 26.7198 Q1523.58 27.3274 1526.66 28.5427 Z\" fill=\"#000000\" fill-rule=\"nonzero\" fill-opacity=\"1\" /><path clip-path=\"url(#clip290)\" d=\"M1548.33 14.324 L1548.33 27.2059 L1563.69 27.2059 L1563.69 32.9987 L1548.33 32.9987 L1548.33 57.6282 Q1548.33 63.1779 1549.83 64.7578 Q1551.37 66.3376 1556.03 66.3376 L1563.69 66.3376 L1563.69 72.576 L1556.03 72.576 Q1547.4 72.576 1544.12 69.3758 Q1540.84 66.1351 1540.84 57.6282 L1540.84 32.9987 L1535.37 32.9987 L1535.37 27.2059 L1540.84 27.2059 L1540.84 14.324 L1548.33 14.324 Z\" fill=\"#000000\" fill-rule=\"nonzero\" fill-opacity=\"1\" /><path clip-path=\"url(#clip290)\" d=\"M1573.49 27.2059 L1580.94 27.2059 L1580.94 72.576 L1573.49 72.576 L1573.49 27.2059 M1573.49 9.54393 L1580.94 9.54393 L1580.94 18.9825 L1573.49 18.9825 L1573.49 9.54393 Z\" fill=\"#000000\" fill-rule=\"nonzero\" fill-opacity=\"1\" /><path clip-path=\"url(#clip290)\" d=\"M1629.19 28.9478 L1629.19 35.9153 Q1626.03 34.1734 1622.83 33.3227 Q1619.67 32.4315 1616.43 32.4315 Q1609.18 32.4315 1605.17 37.0496 Q1601.16 41.6271 1601.16 49.9314 Q1601.16 58.2358 1605.17 62.8538 Q1609.18 67.4314 1616.43 67.4314 Q1619.67 67.4314 1622.83 66.5807 Q1626.03 65.6895 1629.19 63.9476 L1629.19 70.8341 Q1626.07 72.2924 1622.71 73.0216 Q1619.39 73.7508 1615.62 73.7508 Q1605.37 73.7508 1599.34 67.3098 Q1593.3 60.8689 1593.3 49.9314 Q1593.3 38.832 1599.38 32.472 Q1605.49 26.1121 1616.11 26.1121 Q1619.55 26.1121 1622.83 26.8413 Q1626.11 27.5299 1629.19 28.9478 Z\" fill=\"#000000\" fill-rule=\"nonzero\" fill-opacity=\"1\" /><path clip-path=\"url(#clip290)\" d=\"M1667.92 12.096 L1676.14 12.096 L1676.14 48.8377 Q1676.14 58.5599 1679.67 62.8538 Q1683.19 67.1073 1691.09 67.1073 Q1698.95 67.1073 1702.47 62.8538 Q1706 58.5599 1706 48.8377 L1706 12.096 L1714.22 12.096 L1714.22 49.8504 Q1714.22 61.6791 1708.35 67.7149 Q1702.51 73.7508 1691.09 73.7508 Q1679.62 73.7508 1673.75 67.7149 Q1667.92 61.6791 1667.92 49.8504 L1667.92 12.096 Z\" fill=\"#000000\" fill-rule=\"nonzero\" fill-opacity=\"1\" /><path clip-path=\"url(#clip290)\" d=\"M1774.86 16.7545 L1774.86 25.383 Q1770.73 21.5346 1766.03 19.6307 Q1761.37 17.7268 1756.11 17.7268 Q1745.74 17.7268 1740.23 24.0867 Q1734.72 30.4061 1734.72 42.3968 Q1734.72 54.3469 1740.23 60.7069 Q1745.74 67.0263 1756.11 67.0263 Q1761.37 67.0263 1766.03 65.1223 Q1770.73 63.2184 1774.86 59.3701 L1774.86 67.9175 Q1770.57 70.8341 1765.75 72.2924 Q1760.97 73.7508 1755.62 73.7508 Q1741.89 73.7508 1733.99 65.3654 Q1726.09 56.9395 1726.09 42.3968 Q1726.09 27.8135 1733.99 19.4281 Q1741.89 11.0023 1755.62 11.0023 Q1761.05 11.0023 1765.83 12.4606 Q1770.65 13.8784 1774.86 16.7545 Z\" fill=\"#000000\" fill-rule=\"nonzero\" fill-opacity=\"1\" /><polyline clip-path=\"url(#clip292)\" style=\"stroke:#009af9; stroke-linecap:round; stroke-linejoin:round; stroke-width:4; stroke-opacity:1; fill:none\" points=\"403.185,969.558 799.262,972.492 1195.34,970.921 1591.42,956.588 1987.49,946.883 \"/>\n",
       "<polyline clip-path=\"url(#clip292)\" style=\"stroke:#e26f46; stroke-linecap:round; stroke-linejoin:round; stroke-width:4; stroke-opacity:1; fill:none\" points=\"403.185,972.635 799.262,922.812 1195.34,124.354 1591.42,668.511 1987.49,594.629 \"/>\n",
       "<polyline clip-path=\"url(#clip292)\" style=\"stroke:#3da44d; stroke-linecap:round; stroke-linejoin:round; stroke-width:4; stroke-opacity:1; fill:none\" points=\"403.185,1035.75 799.262,986.991 1195.34,199.992 1591.42,755.839 1987.49,688.199 \"/>\n",
       "<path clip-path=\"url(#clip290)\" d=\"M2128.26 690.014 L3152.76 690.014 L3152.76 482.654 L2128.26 482.654  Z\" fill=\"#ffffff\" fill-rule=\"evenodd\" fill-opacity=\"1\"/>\n",
       "<polyline clip-path=\"url(#clip290)\" style=\"stroke:#000000; stroke-linecap:round; stroke-linejoin:round; stroke-width:4; stroke-opacity:1; fill:none\" points=\"2128.26,690.014 3152.76,690.014 3152.76,482.654 2128.26,482.654 2128.26,690.014 \"/>\n",
       "<polyline clip-path=\"url(#clip290)\" style=\"stroke:#009af9; stroke-linecap:round; stroke-linejoin:round; stroke-width:4; stroke-opacity:1; fill:none\" points=\"2159.34,534.494 2345.81,534.494 \"/>\n",
       "<path clip-path=\"url(#clip290)\" d=\"M2381.57 521.056 L2381.57 534.042 L2387.44 534.042 Q2390.71 534.042 2392.49 532.352 Q2394.27 530.663 2394.27 527.538 Q2394.27 524.436 2392.49 522.746 Q2390.71 521.056 2387.44 521.056 L2381.57 521.056 M2376.89 517.214 L2387.44 517.214 Q2393.25 517.214 2396.22 519.852 Q2399.2 522.468 2399.2 527.538 Q2399.2 532.653 2396.22 535.269 Q2393.25 537.885 2387.44 537.885 L2381.57 537.885 L2381.57 551.774 L2376.89 551.774 L2376.89 517.214 Z\" fill=\"#000000\" fill-rule=\"nonzero\" fill-opacity=\"1\" /><path clip-path=\"url(#clip290)\" d=\"M2419.48 529.829 Q2418.76 529.413 2417.91 529.227 Q2417.07 529.019 2416.06 529.019 Q2412.44 529.019 2410.5 531.38 Q2408.58 533.718 2408.58 538.116 L2408.58 551.774 L2404.3 551.774 L2404.3 525.848 L2408.58 525.848 L2408.58 529.876 Q2409.92 527.514 2412.07 526.38 Q2414.23 525.223 2417.31 525.223 Q2417.75 525.223 2418.28 525.292 Q2418.81 525.339 2419.46 525.454 L2419.48 529.829 Z\" fill=\"#000000\" fill-rule=\"nonzero\" fill-opacity=\"1\" /><path clip-path=\"url(#clip290)\" d=\"M2445.08 537.746 L2445.08 539.829 L2425.5 539.829 Q2425.78 544.227 2428.14 546.542 Q2430.52 548.834 2434.76 548.834 Q2437.21 548.834 2439.5 548.232 Q2441.82 547.63 2444.09 546.426 L2444.09 550.454 Q2441.8 551.426 2439.39 551.936 Q2436.98 552.445 2434.5 552.445 Q2428.3 552.445 2424.67 548.834 Q2421.06 545.223 2421.06 539.065 Q2421.06 532.7 2424.48 528.973 Q2427.93 525.223 2433.76 525.223 Q2439 525.223 2442.03 528.602 Q2445.08 531.959 2445.08 537.746 M2440.82 536.496 Q2440.78 533.001 2438.86 530.917 Q2436.96 528.834 2433.81 528.834 Q2430.25 528.834 2428.09 530.848 Q2425.96 532.862 2425.64 536.519 L2440.82 536.496 Z\" fill=\"#000000\" fill-rule=\"nonzero\" fill-opacity=\"1\" /><path clip-path=\"url(#clip290)\" d=\"M2469.13 529.783 L2469.13 515.755 L2473.39 515.755 L2473.39 551.774 L2469.13 551.774 L2469.13 547.885 Q2467.79 550.2 2465.73 551.334 Q2463.69 552.445 2460.82 552.445 Q2456.13 552.445 2453.16 548.695 Q2450.22 544.945 2450.22 538.834 Q2450.22 532.723 2453.16 528.973 Q2456.13 525.223 2460.82 525.223 Q2463.69 525.223 2465.73 526.357 Q2467.79 527.468 2469.13 529.783 M2454.62 538.834 Q2454.62 543.533 2456.54 546.218 Q2458.49 548.88 2461.87 548.88 Q2465.25 548.88 2467.19 546.218 Q2469.13 543.533 2469.13 538.834 Q2469.13 534.135 2467.19 531.473 Q2465.25 528.788 2461.87 528.788 Q2458.49 528.788 2456.54 531.473 Q2454.62 534.135 2454.62 538.834 Z\" fill=\"#000000\" fill-rule=\"nonzero\" fill-opacity=\"1\" /><path clip-path=\"url(#clip290)\" d=\"M2482.17 525.848 L2486.43 525.848 L2486.43 551.774 L2482.17 551.774 L2482.17 525.848 M2482.17 515.755 L2486.43 515.755 L2486.43 521.149 L2482.17 521.149 L2482.17 515.755 Z\" fill=\"#000000\" fill-rule=\"nonzero\" fill-opacity=\"1\" /><path clip-path=\"url(#clip290)\" d=\"M2514 526.843 L2514 530.825 Q2512.19 529.829 2510.36 529.343 Q2508.56 528.834 2506.7 528.834 Q2502.56 528.834 2500.27 531.473 Q2497.98 534.088 2497.98 538.834 Q2497.98 543.579 2500.27 546.218 Q2502.56 548.834 2506.7 548.834 Q2508.56 548.834 2510.36 548.348 Q2512.19 547.838 2514 546.843 L2514 550.778 Q2512.21 551.612 2510.29 552.028 Q2508.39 552.445 2506.24 552.445 Q2500.38 552.445 2496.93 548.764 Q2493.49 545.084 2493.49 538.834 Q2493.49 532.491 2496.96 528.857 Q2500.45 525.223 2506.52 525.223 Q2508.49 525.223 2510.36 525.639 Q2512.24 526.033 2514 526.843 Z\" fill=\"#000000\" fill-rule=\"nonzero\" fill-opacity=\"1\" /><path clip-path=\"url(#clip290)\" d=\"M2525.62 518.487 L2525.62 525.848 L2534.39 525.848 L2534.39 529.158 L2525.62 529.158 L2525.62 543.232 Q2525.62 546.403 2526.47 547.306 Q2527.35 548.209 2530.01 548.209 L2534.39 548.209 L2534.39 551.774 L2530.01 551.774 Q2525.08 551.774 2523.21 549.945 Q2521.33 548.093 2521.33 543.232 L2521.33 529.158 L2518.21 529.158 L2518.21 525.848 L2521.33 525.848 L2521.33 518.487 L2525.62 518.487 Z\" fill=\"#000000\" fill-rule=\"nonzero\" fill-opacity=\"1\" /><path clip-path=\"url(#clip290)\" d=\"M2562.17 537.746 L2562.17 539.829 L2542.58 539.829 Q2542.86 544.227 2545.22 546.542 Q2547.61 548.834 2551.84 548.834 Q2554.3 548.834 2556.59 548.232 Q2558.9 547.63 2561.17 546.426 L2561.17 550.454 Q2558.88 551.426 2556.47 551.936 Q2554.06 552.445 2551.59 552.445 Q2545.38 552.445 2541.75 548.834 Q2538.14 545.223 2538.14 539.065 Q2538.14 532.7 2541.56 528.973 Q2545.01 525.223 2550.85 525.223 Q2556.08 525.223 2559.11 528.602 Q2562.17 531.959 2562.17 537.746 M2557.91 536.496 Q2557.86 533.001 2555.94 530.917 Q2554.04 528.834 2550.89 528.834 Q2547.33 528.834 2545.18 530.848 Q2543.05 532.862 2542.72 536.519 L2557.91 536.496 Z\" fill=\"#000000\" fill-rule=\"nonzero\" fill-opacity=\"1\" /><path clip-path=\"url(#clip290)\" d=\"M2586.22 529.783 L2586.22 515.755 L2590.48 515.755 L2590.48 551.774 L2586.22 551.774 L2586.22 547.885 Q2584.87 550.2 2582.81 551.334 Q2580.78 552.445 2577.91 552.445 Q2573.21 552.445 2570.24 548.695 Q2567.3 544.945 2567.3 538.834 Q2567.3 532.723 2570.24 528.973 Q2573.21 525.223 2577.91 525.223 Q2580.78 525.223 2582.81 526.357 Q2584.87 527.468 2586.22 529.783 M2571.7 538.834 Q2571.7 543.533 2573.62 546.218 Q2575.57 548.88 2578.95 548.88 Q2582.33 548.88 2584.27 546.218 Q2586.22 543.533 2586.22 538.834 Q2586.22 534.135 2584.27 531.473 Q2582.33 528.788 2578.95 528.788 Q2575.57 528.788 2573.62 531.473 Q2571.7 534.135 2571.7 538.834 Z\" fill=\"#000000\" fill-rule=\"nonzero\" fill-opacity=\"1\" /><path clip-path=\"url(#clip290)\" d=\"M2632.98 526.843 L2632.98 530.825 Q2631.17 529.829 2629.34 529.343 Q2627.54 528.834 2625.68 528.834 Q2621.54 528.834 2619.25 531.473 Q2616.96 534.088 2616.96 538.834 Q2616.96 543.579 2619.25 546.218 Q2621.54 548.834 2625.68 548.834 Q2627.54 548.834 2629.34 548.348 Q2631.17 547.838 2632.98 546.843 L2632.98 550.778 Q2631.19 551.612 2629.27 552.028 Q2627.37 552.445 2625.22 552.445 Q2619.36 552.445 2615.92 548.764 Q2612.47 545.084 2612.47 538.834 Q2612.47 532.491 2615.94 528.857 Q2619.43 525.223 2625.5 525.223 Q2627.47 525.223 2629.34 525.639 Q2631.22 526.033 2632.98 526.843 Z\" fill=\"#000000\" fill-rule=\"nonzero\" fill-opacity=\"1\" /><path clip-path=\"url(#clip290)\" d=\"M2650.43 528.834 Q2647 528.834 2645.01 531.519 Q2643.02 534.181 2643.02 538.834 Q2643.02 543.487 2644.99 546.172 Q2646.98 548.834 2650.43 548.834 Q2653.83 548.834 2655.82 546.149 Q2657.81 543.463 2657.81 538.834 Q2657.81 534.227 2655.82 531.542 Q2653.83 528.834 2650.43 528.834 M2650.43 525.223 Q2655.99 525.223 2659.16 528.834 Q2662.33 532.445 2662.33 538.834 Q2662.33 545.2 2659.16 548.834 Q2655.99 552.445 2650.43 552.445 Q2644.85 552.445 2641.68 548.834 Q2638.53 545.2 2638.53 538.834 Q2638.53 532.445 2641.68 528.834 Q2644.85 525.223 2650.43 525.223 Z\" fill=\"#000000\" fill-rule=\"nonzero\" fill-opacity=\"1\" /><path clip-path=\"url(#clip290)\" d=\"M2685.92 526.612 L2685.92 530.639 Q2684.11 529.714 2682.17 529.251 Q2680.22 528.788 2678.14 528.788 Q2674.97 528.788 2673.37 529.76 Q2671.8 530.732 2671.8 532.676 Q2671.8 534.158 2672.93 535.014 Q2674.06 535.848 2677.49 536.612 L2678.95 536.936 Q2683.48 537.908 2685.38 539.69 Q2687.3 541.45 2687.3 544.621 Q2687.3 548.232 2684.43 550.338 Q2681.59 552.445 2676.59 552.445 Q2674.5 552.445 2672.23 552.028 Q2669.99 551.635 2667.49 550.825 L2667.49 546.426 Q2669.85 547.653 2672.14 548.278 Q2674.43 548.88 2676.68 548.88 Q2679.69 548.88 2681.31 547.862 Q2682.93 546.82 2682.93 544.945 Q2682.93 543.209 2681.75 542.283 Q2680.59 541.357 2676.63 540.5 L2675.15 540.153 Q2671.19 539.32 2669.43 537.607 Q2667.67 535.871 2667.67 532.862 Q2667.67 529.204 2670.27 527.214 Q2672.86 525.223 2677.63 525.223 Q2679.99 525.223 2682.07 525.57 Q2684.16 525.917 2685.92 526.612 Z\" fill=\"#000000\" fill-rule=\"nonzero\" fill-opacity=\"1\" /><path clip-path=\"url(#clip290)\" d=\"M2698.3 518.487 L2698.3 525.848 L2707.07 525.848 L2707.07 529.158 L2698.3 529.158 L2698.3 543.232 Q2698.3 546.403 2699.16 547.306 Q2700.04 548.209 2702.7 548.209 L2707.07 548.209 L2707.07 551.774 L2702.7 551.774 Q2697.77 551.774 2695.89 549.945 Q2694.02 548.093 2694.02 543.232 L2694.02 529.158 L2690.89 529.158 L2690.89 525.848 L2694.02 525.848 L2694.02 518.487 L2698.3 518.487 Z\" fill=\"#000000\" fill-rule=\"nonzero\" fill-opacity=\"1\" /><polyline clip-path=\"url(#clip290)\" style=\"stroke:#e26f46; stroke-linecap:round; stroke-linejoin:round; stroke-width:4; stroke-opacity:1; fill:none\" points=\"2159.34,586.334 2345.81,586.334 \"/>\n",
       "<path clip-path=\"url(#clip290)\" d=\"M2392.72 573.66 L2386.38 590.859 L2399.09 590.859 L2392.72 573.66 M2390.08 569.054 L2395.38 569.054 L2408.56 603.614 L2403.69 603.614 L2400.55 594.748 L2384.97 594.748 L2381.82 603.614 L2376.89 603.614 L2390.08 569.054 Z\" fill=\"#000000\" fill-rule=\"nonzero\" fill-opacity=\"1\" /><path clip-path=\"url(#clip290)\" d=\"M2431.24 578.683 L2431.24 582.665 Q2429.44 581.669 2427.61 581.183 Q2425.8 580.674 2423.95 580.674 Q2419.81 580.674 2417.51 583.313 Q2415.22 585.928 2415.22 590.674 Q2415.22 595.419 2417.51 598.058 Q2419.81 600.674 2423.95 600.674 Q2425.8 600.674 2427.61 600.188 Q2429.44 599.678 2431.24 598.683 L2431.24 602.618 Q2429.46 603.452 2427.54 603.868 Q2425.64 604.285 2423.49 604.285 Q2417.63 604.285 2414.18 600.604 Q2410.73 596.924 2410.73 590.674 Q2410.73 584.331 2414.2 580.697 Q2417.7 577.063 2423.76 577.063 Q2425.73 577.063 2427.61 577.479 Q2429.48 577.873 2431.24 578.683 Z\" fill=\"#000000\" fill-rule=\"nonzero\" fill-opacity=\"1\" /><path clip-path=\"url(#clip290)\" d=\"M2442.86 570.327 L2442.86 577.688 L2451.63 577.688 L2451.63 580.998 L2442.86 580.998 L2442.86 595.072 Q2442.86 598.243 2443.72 599.146 Q2444.6 600.049 2447.26 600.049 L2451.63 600.049 L2451.63 603.614 L2447.26 603.614 Q2442.33 603.614 2440.45 601.785 Q2438.58 599.933 2438.58 595.072 L2438.58 580.998 L2435.45 580.998 L2435.45 577.688 L2438.58 577.688 L2438.58 570.327 L2442.86 570.327 Z\" fill=\"#000000\" fill-rule=\"nonzero\" fill-opacity=\"1\" /><path clip-path=\"url(#clip290)\" d=\"M2456.8 593.382 L2456.8 577.688 L2461.06 577.688 L2461.06 593.22 Q2461.06 596.901 2462.49 598.752 Q2463.93 600.581 2466.8 600.581 Q2470.25 600.581 2472.24 598.382 Q2474.25 596.183 2474.25 592.387 L2474.25 577.688 L2478.51 577.688 L2478.51 603.614 L2474.25 603.614 L2474.25 599.632 Q2472.7 601.993 2470.64 603.151 Q2468.6 604.285 2465.89 604.285 Q2461.43 604.285 2459.11 601.507 Q2456.8 598.729 2456.8 593.382 M2467.51 577.063 L2467.51 577.063 Z\" fill=\"#000000\" fill-rule=\"nonzero\" fill-opacity=\"1\" /><path clip-path=\"url(#clip290)\" d=\"M2499.06 590.581 Q2493.9 590.581 2491.91 591.762 Q2489.92 592.942 2489.92 595.79 Q2489.92 598.058 2491.4 599.401 Q2492.91 600.72 2495.48 600.72 Q2499.02 600.72 2501.15 598.22 Q2503.3 595.697 2503.3 591.53 L2503.3 590.581 L2499.06 590.581 M2507.56 588.822 L2507.56 603.614 L2503.3 603.614 L2503.3 599.678 Q2501.84 602.04 2499.67 603.174 Q2497.49 604.285 2494.34 604.285 Q2490.36 604.285 2488 602.063 Q2485.66 599.817 2485.66 596.067 Q2485.66 591.692 2488.58 589.47 Q2491.52 587.248 2497.33 587.248 L2503.3 587.248 L2503.3 586.831 Q2503.3 583.891 2501.36 582.294 Q2499.43 580.674 2495.94 580.674 Q2493.72 580.674 2491.61 581.206 Q2489.5 581.739 2487.56 582.804 L2487.56 578.868 Q2489.9 577.966 2492.1 577.526 Q2494.3 577.063 2496.38 577.063 Q2502 577.063 2504.78 579.979 Q2507.56 582.896 2507.56 588.822 Z\" fill=\"#000000\" fill-rule=\"nonzero\" fill-opacity=\"1\" /><path clip-path=\"url(#clip290)\" d=\"M2516.33 567.595 L2520.59 567.595 L2520.59 603.614 L2516.33 603.614 L2516.33 567.595 Z\" fill=\"#000000\" fill-rule=\"nonzero\" fill-opacity=\"1\" /><path clip-path=\"url(#clip290)\" d=\"M2563.23 578.683 L2563.23 582.665 Q2561.43 581.669 2559.6 581.183 Q2557.79 580.674 2555.94 580.674 Q2551.8 580.674 2549.5 583.313 Q2547.21 585.928 2547.21 590.674 Q2547.21 595.419 2549.5 598.058 Q2551.8 600.674 2555.94 600.674 Q2557.79 600.674 2559.6 600.188 Q2561.43 599.678 2563.23 598.683 L2563.23 602.618 Q2561.45 603.452 2559.53 603.868 Q2557.63 604.285 2555.48 604.285 Q2549.62 604.285 2546.17 600.604 Q2542.72 596.924 2542.72 590.674 Q2542.72 584.331 2546.19 580.697 Q2549.69 577.063 2555.75 577.063 Q2557.72 577.063 2559.6 577.479 Q2561.47 577.873 2563.23 578.683 Z\" fill=\"#000000\" fill-rule=\"nonzero\" fill-opacity=\"1\" /><path clip-path=\"url(#clip290)\" d=\"M2580.68 580.674 Q2577.26 580.674 2575.27 583.359 Q2573.28 586.021 2573.28 590.674 Q2573.28 595.327 2575.24 598.012 Q2577.24 600.674 2580.68 600.674 Q2584.09 600.674 2586.08 597.989 Q2588.07 595.303 2588.07 590.674 Q2588.07 586.067 2586.08 583.382 Q2584.09 580.674 2580.68 580.674 M2580.68 577.063 Q2586.24 577.063 2589.41 580.674 Q2592.58 584.285 2592.58 590.674 Q2592.58 597.04 2589.41 600.674 Q2586.24 604.285 2580.68 604.285 Q2575.11 604.285 2571.93 600.674 Q2568.79 597.04 2568.79 590.674 Q2568.79 584.285 2571.93 580.674 Q2575.11 577.063 2580.68 577.063 Z\" fill=\"#000000\" fill-rule=\"nonzero\" fill-opacity=\"1\" /><path clip-path=\"url(#clip290)\" d=\"M2616.17 578.452 L2616.17 582.479 Q2614.36 581.554 2612.42 581.091 Q2610.48 580.628 2608.39 580.628 Q2605.22 580.628 2603.62 581.6 Q2602.05 582.572 2602.05 584.516 Q2602.05 585.998 2603.18 586.854 Q2604.32 587.688 2607.74 588.452 L2609.2 588.776 Q2613.74 589.748 2615.64 591.53 Q2617.56 593.29 2617.56 596.461 Q2617.56 600.072 2614.69 602.178 Q2611.84 604.285 2606.84 604.285 Q2604.76 604.285 2602.49 603.868 Q2600.24 603.475 2597.74 602.665 L2597.74 598.266 Q2600.11 599.493 2602.4 600.118 Q2604.69 600.72 2606.93 600.72 Q2609.94 600.72 2611.56 599.702 Q2613.18 598.66 2613.18 596.785 Q2613.18 595.049 2612 594.123 Q2610.85 593.197 2606.89 592.34 L2605.41 591.993 Q2601.45 591.16 2599.69 589.447 Q2597.93 587.711 2597.93 584.702 Q2597.93 581.044 2600.52 579.054 Q2603.11 577.063 2607.88 577.063 Q2610.24 577.063 2612.33 577.41 Q2614.41 577.757 2616.17 578.452 Z\" fill=\"#000000\" fill-rule=\"nonzero\" fill-opacity=\"1\" /><path clip-path=\"url(#clip290)\" d=\"M2628.55 570.327 L2628.55 577.688 L2637.33 577.688 L2637.33 580.998 L2628.55 580.998 L2628.55 595.072 Q2628.55 598.243 2629.41 599.146 Q2630.29 600.049 2632.95 600.049 L2637.33 600.049 L2637.33 603.614 L2632.95 603.614 Q2628.02 603.614 2626.15 601.785 Q2624.27 599.933 2624.27 595.072 L2624.27 580.998 L2621.15 580.998 L2621.15 577.688 L2624.27 577.688 L2624.27 570.327 L2628.55 570.327 Z\" fill=\"#000000\" fill-rule=\"nonzero\" fill-opacity=\"1\" /><polyline clip-path=\"url(#clip290)\" style=\"stroke:#3da44d; stroke-linecap:round; stroke-linejoin:round; stroke-width:4; stroke-opacity:1; fill:none\" points=\"2159.34,638.174 2345.81,638.174 \"/>\n",
       "<path clip-path=\"url(#clip290)\" d=\"M2376.89 620.894 L2383.19 620.894 L2398.51 649.805 L2398.51 620.894 L2403.05 620.894 L2403.05 655.454 L2396.75 655.454 L2381.43 626.542 L2381.43 655.454 L2376.89 655.454 L2376.89 620.894 Z\" fill=\"#000000\" fill-rule=\"nonzero\" fill-opacity=\"1\" /><path clip-path=\"url(#clip290)\" d=\"M2433.07 622.028 L2433.07 626.588 Q2430.41 625.315 2428.05 624.69 Q2425.69 624.065 2423.49 624.065 Q2419.67 624.065 2417.58 625.546 Q2415.52 627.028 2415.52 629.759 Q2415.52 632.051 2416.89 633.231 Q2418.28 634.389 2422.12 635.106 L2424.94 635.685 Q2430.18 636.681 2432.65 639.204 Q2435.15 641.704 2435.15 645.917 Q2435.15 650.94 2431.77 653.532 Q2428.42 656.125 2421.91 656.125 Q2419.46 656.125 2416.68 655.569 Q2413.93 655.014 2410.96 653.926 L2410.96 649.111 Q2413.81 650.708 2416.54 651.518 Q2419.27 652.329 2421.91 652.329 Q2425.92 652.329 2428.09 650.755 Q2430.27 649.18 2430.27 646.264 Q2430.27 643.718 2428.69 642.282 Q2427.14 640.847 2423.58 640.13 L2420.73 639.574 Q2415.5 638.532 2413.16 636.31 Q2410.82 634.088 2410.82 630.13 Q2410.82 625.546 2414.04 622.907 Q2417.28 620.269 2422.95 620.269 Q2425.38 620.269 2427.91 620.708 Q2430.43 621.148 2433.07 622.028 Z\" fill=\"#000000\" fill-rule=\"nonzero\" fill-opacity=\"1\" /><path clip-path=\"url(#clip290)\" d=\"M2442.44 620.894 L2464.3 620.894 L2464.3 624.829 L2447.12 624.829 L2447.12 635.06 L2463.58 635.06 L2463.58 638.995 L2447.12 638.995 L2447.12 651.518 L2464.71 651.518 L2464.71 655.454 L2442.44 655.454 L2442.44 620.894 Z\" fill=\"#000000\" fill-rule=\"nonzero\" fill-opacity=\"1\" /><path clip-path=\"url(#clip290)\" d=\"M2505.94 630.523 L2505.94 634.505 Q2504.13 633.509 2502.31 633.023 Q2500.5 632.514 2498.65 632.514 Q2494.5 632.514 2492.21 635.153 Q2489.92 637.768 2489.92 642.514 Q2489.92 647.259 2492.21 649.898 Q2494.5 652.514 2498.65 652.514 Q2500.5 652.514 2502.31 652.028 Q2504.13 651.518 2505.94 650.523 L2505.94 654.458 Q2504.16 655.292 2502.24 655.708 Q2500.34 656.125 2498.18 656.125 Q2492.33 656.125 2488.88 652.444 Q2485.43 648.764 2485.43 642.514 Q2485.43 636.171 2488.9 632.537 Q2492.4 628.903 2498.46 628.903 Q2500.43 628.903 2502.31 629.319 Q2504.18 629.713 2505.94 630.523 Z\" fill=\"#000000\" fill-rule=\"nonzero\" fill-opacity=\"1\" /><path clip-path=\"url(#clip290)\" d=\"M2523.39 632.514 Q2519.97 632.514 2517.98 635.199 Q2515.99 637.861 2515.99 642.514 Q2515.99 647.167 2517.95 649.852 Q2519.94 652.514 2523.39 652.514 Q2526.8 652.514 2528.79 649.829 Q2530.78 647.143 2530.78 642.514 Q2530.78 637.907 2528.79 635.222 Q2526.8 632.514 2523.39 632.514 M2523.39 628.903 Q2528.95 628.903 2532.12 632.514 Q2535.29 636.125 2535.29 642.514 Q2535.29 648.88 2532.12 652.514 Q2528.95 656.125 2523.39 656.125 Q2517.81 656.125 2514.64 652.514 Q2511.5 648.88 2511.5 642.514 Q2511.5 636.125 2514.64 632.514 Q2517.81 628.903 2523.39 628.903 Z\" fill=\"#000000\" fill-rule=\"nonzero\" fill-opacity=\"1\" /><path clip-path=\"url(#clip290)\" d=\"M2558.88 630.292 L2558.88 634.319 Q2557.07 633.394 2555.13 632.931 Q2553.18 632.468 2551.1 632.468 Q2547.93 632.468 2546.33 633.44 Q2544.76 634.412 2544.76 636.356 Q2544.76 637.838 2545.89 638.694 Q2547.03 639.528 2550.45 640.292 L2551.91 640.616 Q2556.45 641.588 2558.35 643.37 Q2560.27 645.13 2560.27 648.301 Q2560.27 651.912 2557.4 654.018 Q2554.55 656.125 2549.55 656.125 Q2547.47 656.125 2545.2 655.708 Q2542.95 655.315 2540.45 654.505 L2540.45 650.106 Q2542.81 651.333 2545.11 651.958 Q2547.4 652.56 2549.64 652.56 Q2552.65 652.56 2554.27 651.542 Q2555.89 650.5 2555.89 648.625 Q2555.89 646.889 2554.71 645.963 Q2553.56 645.037 2549.6 644.18 L2548.12 643.833 Q2544.16 643 2542.4 641.287 Q2540.64 639.551 2540.64 636.542 Q2540.64 632.884 2543.23 630.894 Q2545.82 628.903 2550.59 628.903 Q2552.95 628.903 2555.04 629.25 Q2557.12 629.597 2558.88 630.292 Z\" fill=\"#000000\" fill-rule=\"nonzero\" fill-opacity=\"1\" /><path clip-path=\"url(#clip290)\" d=\"M2571.26 622.167 L2571.26 629.528 L2580.04 629.528 L2580.04 632.838 L2571.26 632.838 L2571.26 646.912 Q2571.26 650.083 2572.12 650.986 Q2573 651.889 2575.66 651.889 L2580.04 651.889 L2580.04 655.454 L2575.66 655.454 Q2570.73 655.454 2568.86 653.625 Q2566.98 651.773 2566.98 646.912 L2566.98 632.838 L2563.86 632.838 L2563.86 629.528 L2566.98 629.528 L2566.98 622.167 L2571.26 622.167 Z\" fill=\"#000000\" fill-rule=\"nonzero\" fill-opacity=\"1\" /><path clip-path=\"url(#clip290)\" d=\"M2610.94 619.482 Q2607.84 624.806 2606.33 630.014 Q2604.83 635.222 2604.83 640.569 Q2604.83 645.917 2606.33 651.171 Q2607.86 656.403 2610.94 661.704 L2607.24 661.704 Q2603.76 656.264 2602.03 651.009 Q2600.31 645.755 2600.31 640.569 Q2600.31 635.407 2602.03 630.176 Q2603.74 624.944 2607.24 619.482 L2610.94 619.482 Z\" fill=\"#000000\" fill-rule=\"nonzero\" fill-opacity=\"1\" /><path clip-path=\"url(#clip290)\" d=\"M2635.73 630.292 L2635.73 634.319 Q2633.93 633.394 2631.98 632.931 Q2630.04 632.468 2627.95 632.468 Q2624.78 632.468 2623.18 633.44 Q2621.61 634.412 2621.61 636.356 Q2621.61 637.838 2622.74 638.694 Q2623.88 639.528 2627.3 640.292 L2628.76 640.616 Q2633.3 641.588 2635.2 643.37 Q2637.12 645.13 2637.12 648.301 Q2637.12 651.912 2634.25 654.018 Q2631.4 656.125 2626.4 656.125 Q2624.32 656.125 2622.05 655.708 Q2619.8 655.315 2617.3 654.505 L2617.3 650.106 Q2619.67 651.333 2621.96 651.958 Q2624.25 652.56 2626.49 652.56 Q2629.5 652.56 2631.12 651.542 Q2632.74 650.5 2632.74 648.625 Q2632.74 646.889 2631.56 645.963 Q2630.41 645.037 2626.45 644.18 L2624.97 643.833 Q2621.01 643 2619.25 641.287 Q2617.49 639.551 2617.49 636.542 Q2617.49 632.884 2620.08 630.894 Q2622.68 628.903 2627.44 628.903 Q2629.8 628.903 2631.89 629.25 Q2633.97 629.597 2635.73 630.292 Z\" fill=\"#000000\" fill-rule=\"nonzero\" fill-opacity=\"1\" /><path clip-path=\"url(#clip290)\" d=\"M2643.46 645.222 L2643.46 629.528 L2647.72 629.528 L2647.72 645.06 Q2647.72 648.741 2649.16 650.592 Q2650.59 652.421 2653.46 652.421 Q2656.91 652.421 2658.9 650.222 Q2660.92 648.023 2660.92 644.227 L2660.92 629.528 L2665.17 629.528 L2665.17 655.454 L2660.92 655.454 L2660.92 651.472 Q2659.36 653.833 2657.3 654.991 Q2655.27 656.125 2652.56 656.125 Q2648.09 656.125 2645.78 653.347 Q2643.46 650.569 2643.46 645.222 M2654.18 628.903 L2654.18 628.903 Z\" fill=\"#000000\" fill-rule=\"nonzero\" fill-opacity=\"1\" /><path clip-path=\"url(#clip290)\" d=\"M2692.56 642.514 Q2692.56 637.815 2690.61 635.153 Q2688.69 632.468 2685.31 632.468 Q2681.93 632.468 2679.99 635.153 Q2678.07 637.815 2678.07 642.514 Q2678.07 647.213 2679.99 649.898 Q2681.93 652.56 2685.31 652.56 Q2688.69 652.56 2690.61 649.898 Q2692.56 647.213 2692.56 642.514 M2678.07 633.463 Q2679.41 631.148 2681.45 630.037 Q2683.51 628.903 2686.36 628.903 Q2691.08 628.903 2694.02 632.653 Q2696.98 636.403 2696.98 642.514 Q2696.98 648.625 2694.02 652.375 Q2691.08 656.125 2686.36 656.125 Q2683.51 656.125 2681.45 655.014 Q2679.41 653.88 2678.07 651.565 L2678.07 655.454 L2673.79 655.454 L2673.79 619.435 L2678.07 619.435 L2678.07 633.463 Z\" fill=\"#000000\" fill-rule=\"nonzero\" fill-opacity=\"1\" /><path clip-path=\"url(#clip290)\" d=\"M2720.57 630.292 L2720.57 634.319 Q2718.76 633.394 2716.82 632.931 Q2714.87 632.468 2712.79 632.468 Q2709.62 632.468 2708.02 633.44 Q2706.45 634.412 2706.45 636.356 Q2706.45 637.838 2707.58 638.694 Q2708.72 639.528 2712.14 640.292 L2713.6 640.616 Q2718.14 641.588 2720.04 643.37 Q2721.96 645.13 2721.96 648.301 Q2721.96 651.912 2719.09 654.018 Q2716.24 656.125 2711.24 656.125 Q2709.16 656.125 2706.89 655.708 Q2704.64 655.315 2702.14 654.505 L2702.14 650.106 Q2704.5 651.333 2706.79 651.958 Q2709.09 652.56 2711.33 652.56 Q2714.34 652.56 2715.96 651.542 Q2717.58 650.5 2717.58 648.625 Q2717.58 646.889 2716.4 645.963 Q2715.24 645.037 2711.29 644.18 L2709.8 643.833 Q2705.85 643 2704.09 641.287 Q2702.33 639.551 2702.33 636.542 Q2702.33 632.884 2704.92 630.894 Q2707.51 628.903 2712.28 628.903 Q2714.64 628.903 2716.73 629.25 Q2718.81 629.597 2720.57 630.292 Z\" fill=\"#000000\" fill-rule=\"nonzero\" fill-opacity=\"1\" /><path clip-path=\"url(#clip290)\" d=\"M2750.92 641.426 L2750.92 643.509 L2731.33 643.509 Q2731.61 647.907 2733.97 650.222 Q2736.36 652.514 2740.59 652.514 Q2743.04 652.514 2745.34 651.912 Q2747.65 651.31 2749.92 650.106 L2749.92 654.134 Q2747.63 655.106 2745.22 655.616 Q2742.81 656.125 2740.34 656.125 Q2734.13 656.125 2730.5 652.514 Q2726.89 648.903 2726.89 642.745 Q2726.89 636.38 2730.31 632.653 Q2733.76 628.903 2739.6 628.903 Q2744.83 628.903 2747.86 632.282 Q2750.92 635.639 2750.92 641.426 M2746.66 640.176 Q2746.61 636.681 2744.69 634.597 Q2742.79 632.514 2739.64 632.514 Q2736.08 632.514 2733.92 634.528 Q2731.79 636.542 2731.47 640.199 L2746.66 640.176 Z\" fill=\"#000000\" fill-rule=\"nonzero\" fill-opacity=\"1\" /><path clip-path=\"url(#clip290)\" d=\"M2762.12 622.167 L2762.12 629.528 L2770.89 629.528 L2770.89 632.838 L2762.12 632.838 L2762.12 646.912 Q2762.12 650.083 2762.98 650.986 Q2763.85 651.889 2766.52 651.889 L2770.89 651.889 L2770.89 655.454 L2766.52 655.454 Q2761.59 655.454 2759.71 653.625 Q2757.84 651.773 2757.84 646.912 L2757.84 632.838 L2754.71 632.838 L2754.71 629.528 L2757.84 629.528 L2757.84 622.167 L2762.12 622.167 Z\" fill=\"#000000\" fill-rule=\"nonzero\" fill-opacity=\"1\" /><path clip-path=\"url(#clip290)\" d=\"M2801.61 632.514 Q2798.18 632.514 2796.19 635.199 Q2794.2 637.861 2794.2 642.514 Q2794.2 647.167 2796.17 649.852 Q2798.16 652.514 2801.61 652.514 Q2805.01 652.514 2807 649.829 Q2808.99 647.143 2808.99 642.514 Q2808.99 637.907 2807 635.222 Q2805.01 632.514 2801.61 632.514 M2801.61 628.903 Q2807.16 628.903 2810.34 632.514 Q2813.51 636.125 2813.51 642.514 Q2813.51 648.88 2810.34 652.514 Q2807.16 656.125 2801.61 656.125 Q2796.03 656.125 2792.86 652.514 Q2789.71 648.88 2789.71 642.514 Q2789.71 636.125 2792.86 632.514 Q2796.03 628.903 2801.61 628.903 Z\" fill=\"#000000\" fill-rule=\"nonzero\" fill-opacity=\"1\" /><path clip-path=\"url(#clip290)\" d=\"M2833.69 619.435 L2833.69 622.977 L2829.62 622.977 Q2827.33 622.977 2826.42 623.903 Q2825.54 624.829 2825.54 627.236 L2825.54 629.528 L2832.56 629.528 L2832.56 632.838 L2825.54 632.838 L2825.54 655.454 L2821.26 655.454 L2821.26 632.838 L2817.19 632.838 L2817.19 629.528 L2821.26 629.528 L2821.26 627.722 Q2821.26 623.394 2823.28 621.426 Q2825.29 619.435 2829.66 619.435 L2833.69 619.435 Z\" fill=\"#000000\" fill-rule=\"nonzero\" fill-opacity=\"1\" /><path clip-path=\"url(#clip290)\" d=\"M2864.11 642.421 Q2858.95 642.421 2856.96 643.602 Q2854.97 644.782 2854.97 647.63 Q2854.97 649.898 2856.45 651.241 Q2857.95 652.56 2860.52 652.56 Q2864.06 652.56 2866.19 650.06 Q2868.35 647.537 2868.35 643.37 L2868.35 642.421 L2864.11 642.421 M2872.6 640.662 L2872.6 655.454 L2868.35 655.454 L2868.35 651.518 Q2866.89 653.88 2864.71 655.014 Q2862.53 656.125 2859.39 656.125 Q2855.41 656.125 2853.04 653.903 Q2850.71 651.657 2850.71 647.907 Q2850.71 643.532 2853.62 641.31 Q2856.56 639.088 2862.37 639.088 L2868.35 639.088 L2868.35 638.671 Q2868.35 635.731 2866.4 634.134 Q2864.48 632.514 2860.98 632.514 Q2858.76 632.514 2856.66 633.046 Q2854.55 633.579 2852.6 634.644 L2852.6 630.708 Q2854.94 629.806 2857.14 629.366 Q2859.34 628.903 2861.42 628.903 Q2867.05 628.903 2869.83 631.819 Q2872.6 634.736 2872.6 640.662 Z\" fill=\"#000000\" fill-rule=\"nonzero\" fill-opacity=\"1\" /><path clip-path=\"url(#clip290)\" d=\"M2900.03 630.523 L2900.03 634.505 Q2898.23 633.509 2896.4 633.023 Q2894.59 632.514 2892.74 632.514 Q2888.6 632.514 2886.31 635.153 Q2884.02 637.768 2884.02 642.514 Q2884.02 647.259 2886.31 649.898 Q2888.6 652.514 2892.74 652.514 Q2894.59 652.514 2896.4 652.028 Q2898.23 651.518 2900.03 650.523 L2900.03 654.458 Q2898.25 655.292 2896.33 655.708 Q2894.43 656.125 2892.28 656.125 Q2886.42 656.125 2882.97 652.444 Q2879.53 648.764 2879.53 642.514 Q2879.53 636.171 2883 632.537 Q2886.49 628.903 2892.56 628.903 Q2894.53 628.903 2896.4 629.319 Q2898.28 629.713 2900.03 630.523 Z\" fill=\"#000000\" fill-rule=\"nonzero\" fill-opacity=\"1\" /><path clip-path=\"url(#clip290)\" d=\"M2911.65 622.167 L2911.65 629.528 L2920.43 629.528 L2920.43 632.838 L2911.65 632.838 L2911.65 646.912 Q2911.65 650.083 2912.51 650.986 Q2913.39 651.889 2916.05 651.889 L2920.43 651.889 L2920.43 655.454 L2916.05 655.454 Q2911.12 655.454 2909.25 653.625 Q2907.37 651.773 2907.37 646.912 L2907.37 632.838 L2904.25 632.838 L2904.25 629.528 L2907.37 629.528 L2907.37 622.167 L2911.65 622.167 Z\" fill=\"#000000\" fill-rule=\"nonzero\" fill-opacity=\"1\" /><path clip-path=\"url(#clip290)\" d=\"M2925.59 645.222 L2925.59 629.528 L2929.85 629.528 L2929.85 645.06 Q2929.85 648.741 2931.28 650.592 Q2932.72 652.421 2935.59 652.421 Q2939.04 652.421 2941.03 650.222 Q2943.04 648.023 2943.04 644.227 L2943.04 629.528 L2947.3 629.528 L2947.3 655.454 L2943.04 655.454 L2943.04 651.472 Q2941.49 653.833 2939.43 654.991 Q2937.4 656.125 2934.69 656.125 Q2930.22 656.125 2927.9 653.347 Q2925.59 650.569 2925.59 645.222 M2936.31 628.903 L2936.31 628.903 Z\" fill=\"#000000\" fill-rule=\"nonzero\" fill-opacity=\"1\" /><path clip-path=\"url(#clip290)\" d=\"M2967.86 642.421 Q2962.7 642.421 2960.71 643.602 Q2958.71 644.782 2958.71 647.63 Q2958.71 649.898 2960.2 651.241 Q2961.7 652.56 2964.27 652.56 Q2967.81 652.56 2969.94 650.06 Q2972.09 647.537 2972.09 643.37 L2972.09 642.421 L2967.86 642.421 M2976.35 640.662 L2976.35 655.454 L2972.09 655.454 L2972.09 651.518 Q2970.64 653.88 2968.46 655.014 Q2966.28 656.125 2963.14 656.125 Q2959.15 656.125 2956.79 653.903 Q2954.46 651.657 2954.46 647.907 Q2954.46 643.532 2957.37 641.31 Q2960.31 639.088 2966.12 639.088 L2972.09 639.088 L2972.09 638.671 Q2972.09 635.731 2970.15 634.134 Q2968.23 632.514 2964.73 632.514 Q2962.51 632.514 2960.4 633.046 Q2958.3 633.579 2956.35 634.644 L2956.35 630.708 Q2958.69 629.806 2960.89 629.366 Q2963.09 628.903 2965.17 628.903 Q2970.8 628.903 2973.58 631.819 Q2976.35 634.736 2976.35 640.662 Z\" fill=\"#000000\" fill-rule=\"nonzero\" fill-opacity=\"1\" /><path clip-path=\"url(#clip290)\" d=\"M2985.13 619.435 L2989.39 619.435 L2989.39 655.454 L2985.13 655.454 L2985.13 619.435 Z\" fill=\"#000000\" fill-rule=\"nonzero\" fill-opacity=\"1\" /><path clip-path=\"url(#clip290)\" d=\"M3032.02 630.523 L3032.02 634.505 Q3030.22 633.509 3028.39 633.023 Q3026.58 632.514 3024.73 632.514 Q3020.59 632.514 3018.3 635.153 Q3016.01 637.768 3016.01 642.514 Q3016.01 647.259 3018.3 649.898 Q3020.59 652.514 3024.73 652.514 Q3026.58 652.514 3028.39 652.028 Q3030.22 651.518 3032.02 650.523 L3032.02 654.458 Q3030.24 655.292 3028.32 655.708 Q3026.42 656.125 3024.27 656.125 Q3018.41 656.125 3014.96 652.444 Q3011.52 648.764 3011.52 642.514 Q3011.52 636.171 3014.99 632.537 Q3018.48 628.903 3024.55 628.903 Q3026.52 628.903 3028.39 629.319 Q3030.27 629.713 3032.02 630.523 Z\" fill=\"#000000\" fill-rule=\"nonzero\" fill-opacity=\"1\" /><path clip-path=\"url(#clip290)\" d=\"M3049.48 632.514 Q3046.05 632.514 3044.06 635.199 Q3042.07 637.861 3042.07 642.514 Q3042.07 647.167 3044.04 649.852 Q3046.03 652.514 3049.48 652.514 Q3052.88 652.514 3054.87 649.829 Q3056.86 647.143 3056.86 642.514 Q3056.86 637.907 3054.87 635.222 Q3052.88 632.514 3049.48 632.514 M3049.48 628.903 Q3055.03 628.903 3058.21 632.514 Q3061.38 636.125 3061.38 642.514 Q3061.38 648.88 3058.21 652.514 Q3055.03 656.125 3049.48 656.125 Q3043.9 656.125 3040.73 652.514 Q3037.58 648.88 3037.58 642.514 Q3037.58 636.125 3040.73 632.514 Q3043.9 628.903 3049.48 628.903 Z\" fill=\"#000000\" fill-rule=\"nonzero\" fill-opacity=\"1\" /><path clip-path=\"url(#clip290)\" d=\"M3084.96 630.292 L3084.96 634.319 Q3083.16 633.394 3081.21 632.931 Q3079.27 632.468 3077.19 632.468 Q3074.02 632.468 3072.42 633.44 Q3070.84 634.412 3070.84 636.356 Q3070.84 637.838 3071.98 638.694 Q3073.11 639.528 3076.54 640.292 L3078 640.616 Q3082.53 641.588 3084.43 643.37 Q3086.35 645.13 3086.35 648.301 Q3086.35 651.912 3083.48 654.018 Q3080.64 656.125 3075.64 656.125 Q3073.55 656.125 3071.28 655.708 Q3069.04 655.315 3066.54 654.505 L3066.54 650.106 Q3068.9 651.333 3071.19 651.958 Q3073.48 652.56 3075.73 652.56 Q3078.74 652.56 3080.36 651.542 Q3081.98 650.5 3081.98 648.625 Q3081.98 646.889 3080.8 645.963 Q3079.64 645.037 3075.68 644.18 L3074.2 643.833 Q3070.24 643 3068.48 641.287 Q3066.72 639.551 3066.72 636.542 Q3066.72 632.884 3069.32 630.894 Q3071.91 628.903 3076.68 628.903 Q3079.04 628.903 3081.12 629.25 Q3083.21 629.597 3084.96 630.292 Z\" fill=\"#000000\" fill-rule=\"nonzero\" fill-opacity=\"1\" /><path clip-path=\"url(#clip290)\" d=\"M3097.35 622.167 L3097.35 629.528 L3106.12 629.528 L3106.12 632.838 L3097.35 632.838 L3097.35 646.912 Q3097.35 650.083 3098.2 650.986 Q3099.08 651.889 3101.75 651.889 L3106.12 651.889 L3106.12 655.454 L3101.75 655.454 Q3096.82 655.454 3094.94 653.625 Q3093.07 651.773 3093.07 646.912 L3093.07 632.838 L3089.94 632.838 L3089.94 629.528 L3093.07 629.528 L3093.07 622.167 L3097.35 622.167 Z\" fill=\"#000000\" fill-rule=\"nonzero\" fill-opacity=\"1\" /><path clip-path=\"url(#clip290)\" d=\"M3111.05 619.482 L3114.76 619.482 Q3118.23 624.944 3119.94 630.176 Q3121.68 635.407 3121.68 640.569 Q3121.68 645.755 3119.94 651.009 Q3118.23 656.264 3114.76 661.704 L3111.05 661.704 Q3114.13 656.403 3115.64 651.171 Q3117.16 645.917 3117.16 640.569 Q3117.16 635.222 3115.64 630.014 Q3114.13 624.806 3111.05 619.482 Z\" fill=\"#000000\" fill-rule=\"nonzero\" fill-opacity=\"1\" /></svg>\n"
      ],
      "text/html": [
       "<?xml version=\"1.0\" encoding=\"utf-8\"?>\n",
       "<svg xmlns=\"http://www.w3.org/2000/svg\" xmlns:xlink=\"http://www.w3.org/1999/xlink\" width=\"800\" height=\"300\" viewBox=\"0 0 3200 1200\">\n",
       "<defs>\n",
       "  <clipPath id=\"clip340\">\n",
       "    <rect x=\"0\" y=\"0\" width=\"3200\" height=\"1200\"/>\n",
       "  </clipPath>\n",
       "</defs>\n",
       "<path clip-path=\"url(#clip340)\" d=\"M0 1200 L3200 1200 L3200 0 L0 0  Z\" fill=\"#ffffff\" fill-rule=\"evenodd\" fill-opacity=\"1\"/>\n",
       "<defs>\n",
       "  <clipPath id=\"clip341\">\n",
       "    <rect x=\"640\" y=\"0\" width=\"2241\" height=\"1200\"/>\n",
       "  </clipPath>\n",
       "</defs>\n",
       "<path clip-path=\"url(#clip340)\" d=\"M355.656 1063.09 L2035.02 1063.09 L2035.02 97.0121 L355.656 97.0121  Z\" fill=\"#ffffff\" fill-rule=\"evenodd\" fill-opacity=\"1\"/>\n",
       "<defs>\n",
       "  <clipPath id=\"clip342\">\n",
       "    <rect x=\"355\" y=\"97\" width=\"1680\" height=\"967\"/>\n",
       "  </clipPath>\n",
       "</defs>\n",
       "<polyline clip-path=\"url(#clip342)\" style=\"stroke:#000000; stroke-linecap:round; stroke-linejoin:round; stroke-width:2; stroke-opacity:0.1; fill:none\" points=\"403.185,1063.09 403.185,97.0121 \"/>\n",
       "<polyline clip-path=\"url(#clip342)\" style=\"stroke:#000000; stroke-linecap:round; stroke-linejoin:round; stroke-width:2; stroke-opacity:0.1; fill:none\" points=\"799.262,1063.09 799.262,97.0121 \"/>\n",
       "<polyline clip-path=\"url(#clip342)\" style=\"stroke:#000000; stroke-linecap:round; stroke-linejoin:round; stroke-width:2; stroke-opacity:0.1; fill:none\" points=\"1195.34,1063.09 1195.34,97.0121 \"/>\n",
       "<polyline clip-path=\"url(#clip342)\" style=\"stroke:#000000; stroke-linecap:round; stroke-linejoin:round; stroke-width:2; stroke-opacity:0.1; fill:none\" points=\"1591.42,1063.09 1591.42,97.0121 \"/>\n",
       "<polyline clip-path=\"url(#clip342)\" style=\"stroke:#000000; stroke-linecap:round; stroke-linejoin:round; stroke-width:2; stroke-opacity:0.1; fill:none\" points=\"1987.49,1063.09 1987.49,97.0121 \"/>\n",
       "<polyline clip-path=\"url(#clip340)\" style=\"stroke:#000000; stroke-linecap:round; stroke-linejoin:round; stroke-width:4; stroke-opacity:1; fill:none\" points=\"355.656,1063.09 2035.02,1063.09 \"/>\n",
       "<polyline clip-path=\"url(#clip340)\" style=\"stroke:#000000; stroke-linecap:round; stroke-linejoin:round; stroke-width:4; stroke-opacity:1; fill:none\" points=\"403.185,1063.09 403.185,1044.19 \"/>\n",
       "<polyline clip-path=\"url(#clip340)\" style=\"stroke:#000000; stroke-linecap:round; stroke-linejoin:round; stroke-width:4; stroke-opacity:1; fill:none\" points=\"799.262,1063.09 799.262,1044.19 \"/>\n",
       "<polyline clip-path=\"url(#clip340)\" style=\"stroke:#000000; stroke-linecap:round; stroke-linejoin:round; stroke-width:4; stroke-opacity:1; fill:none\" points=\"1195.34,1063.09 1195.34,1044.19 \"/>\n",
       "<polyline clip-path=\"url(#clip340)\" style=\"stroke:#000000; stroke-linecap:round; stroke-linejoin:round; stroke-width:4; stroke-opacity:1; fill:none\" points=\"1591.42,1063.09 1591.42,1044.19 \"/>\n",
       "<polyline clip-path=\"url(#clip340)\" style=\"stroke:#000000; stroke-linecap:round; stroke-linejoin:round; stroke-width:4; stroke-opacity:1; fill:none\" points=\"1987.49,1063.09 1987.49,1044.19 \"/>\n",
       "<path clip-path=\"url(#clip340)\" d=\"M393.567 1127.95 L401.206 1127.95 L401.206 1101.59 L392.896 1103.26 L392.896 1099 L401.16 1097.33 L405.836 1097.33 L405.836 1127.95 L413.475 1127.95 L413.475 1131.89 L393.567 1131.89 L393.567 1127.95 Z\" fill=\"#000000\" fill-rule=\"nonzero\" fill-opacity=\"1\" /><path clip-path=\"url(#clip340)\" d=\"M793.915 1127.95 L810.234 1127.95 L810.234 1131.89 L788.29 1131.89 L788.29 1127.95 Q790.952 1125.2 795.535 1120.57 Q800.142 1115.92 801.322 1114.58 Q803.568 1112.05 804.447 1110.32 Q805.35 1108.56 805.35 1106.87 Q805.35 1104.11 803.406 1102.38 Q801.484 1100.64 798.383 1100.64 Q796.183 1100.64 793.73 1101.4 Q791.299 1102.17 788.521 1103.72 L788.521 1099 Q791.346 1097.86 793.799 1097.28 Q796.253 1096.7 798.29 1096.7 Q803.66 1096.7 806.855 1099.39 Q810.049 1102.08 810.049 1106.57 Q810.049 1108.7 809.239 1110.62 Q808.452 1112.51 806.345 1115.11 Q805.767 1115.78 802.665 1119 Q799.563 1122.19 793.915 1127.95 Z\" fill=\"#000000\" fill-rule=\"nonzero\" fill-opacity=\"1\" /><path clip-path=\"url(#clip340)\" d=\"M1199.59 1113.26 Q1202.94 1113.97 1204.82 1116.24 Q1206.72 1118.51 1206.72 1121.84 Q1206.72 1126.96 1203.2 1129.76 Q1199.68 1132.56 1193.2 1132.56 Q1191.02 1132.56 1188.71 1132.12 Q1186.42 1131.7 1183.96 1130.85 L1183.96 1126.33 Q1185.91 1127.47 1188.22 1128.05 Q1190.54 1128.63 1193.06 1128.63 Q1197.46 1128.63 1199.75 1126.89 Q1202.06 1125.15 1202.06 1121.84 Q1202.06 1118.79 1199.91 1117.08 Q1197.78 1115.34 1193.96 1115.34 L1189.93 1115.34 L1189.93 1111.5 L1194.15 1111.5 Q1197.6 1111.5 1199.42 1110.13 Q1201.25 1108.74 1201.25 1106.15 Q1201.25 1103.49 1199.36 1102.08 Q1197.48 1100.64 1193.96 1100.64 Q1192.04 1100.64 1189.84 1101.06 Q1187.64 1101.47 1185 1102.35 L1185 1098.19 Q1187.67 1097.45 1189.98 1097.08 Q1192.32 1096.7 1194.38 1096.7 Q1199.7 1096.7 1202.8 1099.14 Q1205.91 1101.54 1205.91 1105.66 Q1205.91 1108.53 1204.26 1110.52 Q1202.62 1112.49 1199.59 1113.26 Z\" fill=\"#000000\" fill-rule=\"nonzero\" fill-opacity=\"1\" /><path clip-path=\"url(#clip340)\" d=\"M1594.42 1101.4 L1582.62 1119.85 L1594.42 1119.85 L1594.42 1101.4 M1593.2 1097.33 L1599.08 1097.33 L1599.08 1119.85 L1604.01 1119.85 L1604.01 1123.74 L1599.08 1123.74 L1599.08 1131.89 L1594.42 1131.89 L1594.42 1123.74 L1578.82 1123.74 L1578.82 1119.23 L1593.2 1097.33 Z\" fill=\"#000000\" fill-rule=\"nonzero\" fill-opacity=\"1\" /><path clip-path=\"url(#clip340)\" d=\"M1977.77 1097.33 L1996.13 1097.33 L1996.13 1101.27 L1982.05 1101.27 L1982.05 1109.74 Q1983.07 1109.39 1984.09 1109.23 Q1985.11 1109.04 1986.13 1109.04 Q1991.91 1109.04 1995.29 1112.21 Q1998.67 1115.39 1998.67 1120.8 Q1998.67 1126.38 1995.2 1129.48 Q1991.73 1132.56 1985.41 1132.56 Q1983.23 1132.56 1980.96 1132.19 Q1978.72 1131.82 1976.31 1131.08 L1976.31 1126.38 Q1978.4 1127.51 1980.62 1128.07 Q1982.84 1128.63 1985.32 1128.63 Q1989.32 1128.63 1991.66 1126.52 Q1994 1124.41 1994 1120.8 Q1994 1117.19 1991.66 1115.08 Q1989.32 1112.98 1985.32 1112.98 Q1983.44 1112.98 1981.57 1113.39 Q1979.71 1113.81 1977.77 1114.69 L1977.77 1097.33 Z\" fill=\"#000000\" fill-rule=\"nonzero\" fill-opacity=\"1\" /><path clip-path=\"url(#clip340)\" d=\"M1141.58 1177.72 L1141.58 1214.67 L1149.35 1214.67 Q1159.18 1214.67 1163.73 1210.21 Q1168.32 1205.76 1168.32 1196.15 Q1168.32 1186.6 1163.73 1182.17 Q1159.18 1177.72 1149.35 1177.72 L1141.58 1177.72 M1135.15 1172.43 L1148.36 1172.43 Q1162.17 1172.43 1168.63 1178.19 Q1175.1 1183.92 1175.1 1196.15 Q1175.1 1208.43 1168.6 1214.19 Q1162.11 1219.95 1148.36 1219.95 L1135.15 1219.95 L1135.15 1172.43 Z\" fill=\"#000000\" fill-rule=\"nonzero\" fill-opacity=\"1\" /><path clip-path=\"url(#clip340)\" d=\"M1201.29 1202.03 Q1194.19 1202.03 1191.46 1203.66 Q1188.72 1205.28 1188.72 1209.2 Q1188.72 1212.31 1190.76 1214.16 Q1192.82 1215.98 1196.36 1215.98 Q1201.23 1215.98 1204.16 1212.54 Q1207.12 1209.07 1207.12 1203.34 L1207.12 1202.03 L1201.29 1202.03 M1212.97 1199.62 L1212.97 1219.95 L1207.12 1219.95 L1207.12 1214.54 Q1205.11 1217.79 1202.12 1219.35 Q1199.13 1220.88 1194.8 1220.88 Q1189.32 1220.88 1186.08 1217.82 Q1182.86 1214.73 1182.86 1209.58 Q1182.86 1203.56 1186.87 1200.51 Q1190.91 1197.45 1198.9 1197.45 L1207.12 1197.45 L1207.12 1196.88 Q1207.12 1192.84 1204.44 1190.64 Q1201.8 1188.41 1196.99 1188.41 Q1193.94 1188.41 1191.04 1189.14 Q1188.15 1189.88 1185.47 1191.34 L1185.47 1185.93 Q1188.69 1184.69 1191.71 1184.08 Q1194.73 1183.45 1197.6 1183.45 Q1205.33 1183.45 1209.15 1187.46 Q1212.97 1191.47 1212.97 1199.62 Z\" fill=\"#000000\" fill-rule=\"nonzero\" fill-opacity=\"1\" /><path clip-path=\"url(#clip340)\" d=\"M1239.87 1223.26 Q1237.38 1229.63 1235.03 1231.57 Q1232.67 1233.51 1228.73 1233.51 L1224.05 1233.51 L1224.05 1228.61 L1227.49 1228.61 Q1229.9 1228.61 1231.24 1227.47 Q1232.58 1226.32 1234.2 1222.05 L1235.25 1219.38 L1220.83 1184.31 L1227.04 1184.31 L1238.18 1212.19 L1249.32 1184.31 L1255.53 1184.31 L1239.87 1223.26 Z\" fill=\"#000000\" fill-rule=\"nonzero\" fill-opacity=\"1\" /><polyline clip-path=\"url(#clip342)\" style=\"stroke:#000000; stroke-linecap:round; stroke-linejoin:round; stroke-width:2; stroke-opacity:0.1; fill:none\" points=\"355.656,1035.75 2035.02,1035.75 \"/>\n",
       "<polyline clip-path=\"url(#clip342)\" style=\"stroke:#000000; stroke-linecap:round; stroke-linejoin:round; stroke-width:2; stroke-opacity:0.1; fill:none\" points=\"355.656,758.685 2035.02,758.685 \"/>\n",
       "<polyline clip-path=\"url(#clip342)\" style=\"stroke:#000000; stroke-linecap:round; stroke-linejoin:round; stroke-width:2; stroke-opacity:0.1; fill:none\" points=\"355.656,481.622 2035.02,481.622 \"/>\n",
       "<polyline clip-path=\"url(#clip342)\" style=\"stroke:#000000; stroke-linecap:round; stroke-linejoin:round; stroke-width:2; stroke-opacity:0.1; fill:none\" points=\"355.656,204.559 2035.02,204.559 \"/>\n",
       "<polyline clip-path=\"url(#clip340)\" style=\"stroke:#000000; stroke-linecap:round; stroke-linejoin:round; stroke-width:4; stroke-opacity:1; fill:none\" points=\"355.656,1063.09 355.656,97.0121 \"/>\n",
       "<polyline clip-path=\"url(#clip340)\" style=\"stroke:#000000; stroke-linecap:round; stroke-linejoin:round; stroke-width:4; stroke-opacity:1; fill:none\" points=\"355.656,1035.75 367.002,1035.75 \"/>\n",
       "<polyline clip-path=\"url(#clip340)\" style=\"stroke:#000000; stroke-linecap:round; stroke-linejoin:round; stroke-width:4; stroke-opacity:1; fill:none\" points=\"355.656,758.685 367.002,758.685 \"/>\n",
       "<polyline clip-path=\"url(#clip340)\" style=\"stroke:#000000; stroke-linecap:round; stroke-linejoin:round; stroke-width:4; stroke-opacity:1; fill:none\" points=\"355.656,481.622 367.002,481.622 \"/>\n",
       "<polyline clip-path=\"url(#clip340)\" style=\"stroke:#000000; stroke-linecap:round; stroke-linejoin:round; stroke-width:4; stroke-opacity:1; fill:none\" points=\"355.656,204.559 367.002,204.559 \"/>\n",
       "<path clip-path=\"url(#clip340)\" d=\"M295.712 1021.55 Q292.101 1021.55 290.272 1025.11 Q288.466 1028.65 288.466 1035.78 Q288.466 1042.89 290.272 1046.45 Q292.101 1050 295.712 1050 Q299.346 1050 301.152 1046.45 Q302.98 1042.89 302.98 1035.78 Q302.98 1028.65 301.152 1025.11 Q299.346 1021.55 295.712 1021.55 M295.712 1017.84 Q301.522 1017.84 304.578 1022.45 Q307.656 1027.03 307.656 1035.78 Q307.656 1044.51 304.578 1049.12 Q301.522 1053.7 295.712 1053.7 Q289.902 1053.7 286.823 1049.12 Q283.767 1044.51 283.767 1035.78 Q283.767 1027.03 286.823 1022.45 Q289.902 1017.84 295.712 1017.84 Z\" fill=\"#000000\" fill-rule=\"nonzero\" fill-opacity=\"1\" /><path clip-path=\"url(#clip340)\" d=\"M90.9285 747.853 L109.285 747.853 L109.285 751.788 L95.2109 751.788 L95.2109 760.26 Q96.2294 759.913 97.2479 759.751 Q98.2664 759.566 99.2849 759.566 Q105.072 759.566 108.452 762.737 Q111.831 765.908 111.831 771.325 Q111.831 776.903 108.359 780.005 Q104.887 783.084 98.5673 783.084 Q96.3914 783.084 94.1229 782.714 Q91.8776 782.343 89.4702 781.602 L89.4702 776.903 Q91.5535 778.038 93.7757 778.593 Q95.9979 779.149 98.4747 779.149 Q102.479 779.149 104.817 777.042 Q107.155 774.936 107.155 771.325 Q107.155 767.714 104.817 765.607 Q102.479 763.501 98.4747 763.501 Q96.5997 763.501 94.7248 763.917 Q92.8729 764.334 90.9285 765.214 L90.9285 747.853 Z\" fill=\"#000000\" fill-rule=\"nonzero\" fill-opacity=\"1\" /><path clip-path=\"url(#clip340)\" d=\"M121.044 776.533 L125.928 776.533 L125.928 782.413 L121.044 782.413 L121.044 776.533 Z\" fill=\"#000000\" fill-rule=\"nonzero\" fill-opacity=\"1\" /><path clip-path=\"url(#clip340)\" d=\"M146.113 750.931 Q142.502 750.931 140.674 754.496 Q138.868 758.038 138.868 765.167 Q138.868 772.274 140.674 775.839 Q142.502 779.38 146.113 779.38 Q149.748 779.38 151.553 775.839 Q153.382 772.274 153.382 765.167 Q153.382 758.038 151.553 754.496 Q149.748 750.931 146.113 750.931 M146.113 747.228 Q151.924 747.228 154.979 751.834 Q158.058 756.417 158.058 765.167 Q158.058 773.894 154.979 778.501 Q151.924 783.084 146.113 783.084 Q140.303 783.084 137.225 778.501 Q134.169 773.894 134.169 765.167 Q134.169 756.417 137.225 751.834 Q140.303 747.228 146.113 747.228 Z\" fill=\"#000000\" fill-rule=\"nonzero\" fill-opacity=\"1\" /><path clip-path=\"url(#clip340)\" d=\"M176.275 750.931 Q172.664 750.931 170.835 754.496 Q169.03 758.038 169.03 765.167 Q169.03 772.274 170.835 775.839 Q172.664 779.38 176.275 779.38 Q179.909 779.38 181.715 775.839 Q183.544 772.274 183.544 765.167 Q183.544 758.038 181.715 754.496 Q179.909 750.931 176.275 750.931 M176.275 747.228 Q182.085 747.228 185.141 751.834 Q188.22 756.417 188.22 765.167 Q188.22 773.894 185.141 778.501 Q182.085 783.084 176.275 783.084 Q170.465 783.084 167.386 778.501 Q164.331 773.894 164.331 765.167 Q164.331 756.417 167.386 751.834 Q170.465 747.228 176.275 747.228 Z\" fill=\"#000000\" fill-rule=\"nonzero\" fill-opacity=\"1\" /><path clip-path=\"url(#clip340)\" d=\"M224.608 756.95 L214.03 767.575 L224.608 778.153 L221.854 780.954 L211.229 770.329 L200.604 780.954 L197.872 778.153 L208.428 767.575 L197.872 756.95 L200.604 754.149 L211.229 764.774 L221.854 754.149 L224.608 756.95 Z\" fill=\"#000000\" fill-rule=\"nonzero\" fill-opacity=\"1\" /><path clip-path=\"url(#clip340)\" d=\"M236.969 778.477 L244.608 778.477 L244.608 752.112 L236.298 753.779 L236.298 749.519 L244.562 747.853 L249.238 747.853 L249.238 778.477 L256.877 778.477 L256.877 782.413 L236.969 782.413 L236.969 778.477 Z\" fill=\"#000000\" fill-rule=\"nonzero\" fill-opacity=\"1\" /><path clip-path=\"url(#clip340)\" d=\"M276.321 750.931 Q272.71 750.931 270.881 754.496 Q269.076 758.038 269.076 765.167 Q269.076 772.274 270.881 775.839 Q272.71 779.38 276.321 779.38 Q279.955 779.38 281.761 775.839 Q283.589 772.274 283.589 765.167 Q283.589 758.038 281.761 754.496 Q279.955 750.931 276.321 750.931 M276.321 747.228 Q282.131 747.228 285.187 751.834 Q288.265 756.417 288.265 765.167 Q288.265 773.894 285.187 778.501 Q282.131 783.084 276.321 783.084 Q270.511 783.084 267.432 778.501 Q264.377 773.894 264.377 765.167 Q264.377 756.417 267.432 751.834 Q270.511 747.228 276.321 747.228 Z\" fill=\"#000000\" fill-rule=\"nonzero\" fill-opacity=\"1\" /><path clip-path=\"url(#clip340)\" d=\"M298.29 739.448 Q295.732 739.448 294.227 741.197 Q292.742 742.946 292.742 745.993 Q292.742 749.021 294.227 750.789 Q295.732 752.538 298.29 752.538 Q300.848 752.538 302.334 750.789 Q303.838 749.021 303.838 745.993 Q303.838 742.946 302.334 741.197 Q300.848 739.448 298.29 739.448 M305.832 727.543 L305.832 731.004 Q304.402 730.326 302.935 729.969 Q301.487 729.612 300.058 729.612 Q296.296 729.612 294.303 732.151 Q292.328 734.69 292.046 739.824 Q293.155 738.188 294.829 737.323 Q296.503 736.439 298.516 736.439 Q302.747 736.439 305.192 739.016 Q307.656 741.573 307.656 745.993 Q307.656 750.319 305.098 752.933 Q302.54 755.548 298.29 755.548 Q293.419 755.548 290.842 751.824 Q288.265 748.081 288.265 740.99 Q288.265 734.332 291.425 730.383 Q294.585 726.414 299.907 726.414 Q301.337 726.414 302.785 726.697 Q304.252 726.979 305.832 727.543 Z\" fill=\"#000000\" fill-rule=\"nonzero\" fill-opacity=\"1\" /><path clip-path=\"url(#clip340)\" d=\"M93.0277 501.414 L100.667 501.414 L100.667 475.049 L92.3564 476.716 L92.3564 472.456 L100.62 470.79 L105.296 470.79 L105.296 501.414 L112.935 501.414 L112.935 505.35 L93.0277 505.35 L93.0277 501.414 Z\" fill=\"#000000\" fill-rule=\"nonzero\" fill-opacity=\"1\" /><path clip-path=\"url(#clip340)\" d=\"M122.379 499.47 L127.264 499.47 L127.264 505.35 L122.379 505.35 L122.379 499.47 Z\" fill=\"#000000\" fill-rule=\"nonzero\" fill-opacity=\"1\" /><path clip-path=\"url(#clip340)\" d=\"M147.449 473.868 Q143.838 473.868 142.009 477.433 Q140.203 480.975 140.203 488.104 Q140.203 495.211 142.009 498.776 Q143.838 502.317 147.449 502.317 Q151.083 502.317 152.889 498.776 Q154.717 495.211 154.717 488.104 Q154.717 480.975 152.889 477.433 Q151.083 473.868 147.449 473.868 M147.449 470.165 Q153.259 470.165 156.314 474.771 Q159.393 479.354 159.393 488.104 Q159.393 496.831 156.314 501.438 Q153.259 506.021 147.449 506.021 Q141.639 506.021 138.56 501.438 Q135.504 496.831 135.504 488.104 Q135.504 479.354 138.56 474.771 Q141.639 470.165 147.449 470.165 Z\" fill=\"#000000\" fill-rule=\"nonzero\" fill-opacity=\"1\" /><path clip-path=\"url(#clip340)\" d=\"M177.611 473.868 Q174 473.868 172.171 477.433 Q170.365 480.975 170.365 488.104 Q170.365 495.211 172.171 498.776 Q174 502.317 177.611 502.317 Q181.245 502.317 183.05 498.776 Q184.879 495.211 184.879 488.104 Q184.879 480.975 183.05 477.433 Q181.245 473.868 177.611 473.868 M177.611 470.165 Q183.421 470.165 186.476 474.771 Q189.555 479.354 189.555 488.104 Q189.555 496.831 186.476 501.438 Q183.421 506.021 177.611 506.021 Q171.8 506.021 168.722 501.438 Q165.666 496.831 165.666 488.104 Q165.666 479.354 168.722 474.771 Q171.8 470.165 177.611 470.165 Z\" fill=\"#000000\" fill-rule=\"nonzero\" fill-opacity=\"1\" /><path clip-path=\"url(#clip340)\" d=\"M225.944 479.887 L215.365 490.512 L225.944 501.09 L223.189 503.891 L212.564 493.266 L201.939 503.891 L199.208 501.09 L209.763 490.512 L199.208 479.887 L201.939 477.086 L212.564 487.711 L223.189 477.086 L225.944 479.887 Z\" fill=\"#000000\" fill-rule=\"nonzero\" fill-opacity=\"1\" /><path clip-path=\"url(#clip340)\" d=\"M238.305 501.414 L245.944 501.414 L245.944 475.049 L237.633 476.716 L237.633 472.456 L245.897 470.79 L250.573 470.79 L250.573 501.414 L258.212 501.414 L258.212 505.35 L238.305 505.35 L238.305 501.414 Z\" fill=\"#000000\" fill-rule=\"nonzero\" fill-opacity=\"1\" /><path clip-path=\"url(#clip340)\" d=\"M277.656 473.868 Q274.045 473.868 272.217 477.433 Q270.411 480.975 270.411 488.104 Q270.411 495.211 272.217 498.776 Q274.045 502.317 277.656 502.317 Q281.291 502.317 283.096 498.776 Q284.925 495.211 284.925 488.104 Q284.925 480.975 283.096 477.433 Q281.291 473.868 277.656 473.868 M277.656 470.165 Q283.467 470.165 286.522 474.771 Q289.601 479.354 289.601 488.104 Q289.601 496.831 286.522 501.438 Q283.467 506.021 277.656 506.021 Q271.846 506.021 268.768 501.438 Q265.712 496.831 265.712 488.104 Q265.712 479.354 268.768 474.771 Q271.846 470.165 277.656 470.165 Z\" fill=\"#000000\" fill-rule=\"nonzero\" fill-opacity=\"1\" /><path clip-path=\"url(#clip340)\" d=\"M289.601 449.859 L307.656 449.859 L307.656 451.477 L297.462 477.939 L293.494 477.939 L303.086 453.057 L289.601 453.057 L289.601 449.859 Z\" fill=\"#000000\" fill-rule=\"nonzero\" fill-opacity=\"1\" /><path clip-path=\"url(#clip340)\" d=\"M93.0277 224.351 L100.667 224.351 L100.667 197.986 L92.3564 199.653 L92.3564 195.393 L100.62 193.727 L105.296 193.727 L105.296 224.351 L112.935 224.351 L112.935 228.287 L93.0277 228.287 L93.0277 224.351 Z\" fill=\"#000000\" fill-rule=\"nonzero\" fill-opacity=\"1\" /><path clip-path=\"url(#clip340)\" d=\"M122.379 222.407 L127.264 222.407 L127.264 228.287 L122.379 228.287 L122.379 222.407 Z\" fill=\"#000000\" fill-rule=\"nonzero\" fill-opacity=\"1\" /><path clip-path=\"url(#clip340)\" d=\"M137.495 193.727 L155.851 193.727 L155.851 197.662 L141.777 197.662 L141.777 206.134 Q142.796 205.787 143.814 205.625 Q144.833 205.44 145.852 205.44 Q151.639 205.44 155.018 208.611 Q158.398 211.782 158.398 217.199 Q158.398 222.777 154.926 225.879 Q151.453 228.958 145.134 228.958 Q142.958 228.958 140.69 228.588 Q138.444 228.217 136.037 227.476 L136.037 222.777 Q138.12 223.912 140.342 224.467 Q142.564 225.023 145.041 225.023 Q149.046 225.023 151.384 222.916 Q153.722 220.81 153.722 217.199 Q153.722 213.588 151.384 211.481 Q149.046 209.375 145.041 209.375 Q143.166 209.375 141.291 209.791 Q139.44 210.208 137.495 211.088 L137.495 193.727 Z\" fill=\"#000000\" fill-rule=\"nonzero\" fill-opacity=\"1\" /><path clip-path=\"url(#clip340)\" d=\"M177.611 196.805 Q174 196.805 172.171 200.37 Q170.365 203.912 170.365 211.041 Q170.365 218.148 172.171 221.713 Q174 225.254 177.611 225.254 Q181.245 225.254 183.05 221.713 Q184.879 218.148 184.879 211.041 Q184.879 203.912 183.05 200.37 Q181.245 196.805 177.611 196.805 M177.611 193.102 Q183.421 193.102 186.476 197.708 Q189.555 202.291 189.555 211.041 Q189.555 219.768 186.476 224.375 Q183.421 228.958 177.611 228.958 Q171.8 228.958 168.722 224.375 Q165.666 219.768 165.666 211.041 Q165.666 202.291 168.722 197.708 Q171.8 193.102 177.611 193.102 Z\" fill=\"#000000\" fill-rule=\"nonzero\" fill-opacity=\"1\" /><path clip-path=\"url(#clip340)\" d=\"M225.944 202.824 L215.365 213.449 L225.944 224.027 L223.189 226.828 L212.564 216.203 L201.939 226.828 L199.208 224.027 L209.763 213.449 L199.208 202.824 L201.939 200.023 L212.564 210.648 L223.189 200.023 L225.944 202.824 Z\" fill=\"#000000\" fill-rule=\"nonzero\" fill-opacity=\"1\" /><path clip-path=\"url(#clip340)\" d=\"M238.305 224.351 L245.944 224.351 L245.944 197.986 L237.633 199.653 L237.633 195.393 L245.897 193.727 L250.573 193.727 L250.573 224.351 L258.212 224.351 L258.212 228.287 L238.305 228.287 L238.305 224.351 Z\" fill=\"#000000\" fill-rule=\"nonzero\" fill-opacity=\"1\" /><path clip-path=\"url(#clip340)\" d=\"M277.656 196.805 Q274.045 196.805 272.217 200.37 Q270.411 203.912 270.411 211.041 Q270.411 218.148 272.217 221.713 Q274.045 225.254 277.656 225.254 Q281.291 225.254 283.096 221.713 Q284.925 218.148 284.925 211.041 Q284.925 203.912 283.096 200.37 Q281.291 196.805 277.656 196.805 M277.656 193.102 Q283.467 193.102 286.522 197.708 Q289.601 202.291 289.601 211.041 Q289.601 219.768 286.522 224.375 Q283.467 228.958 277.656 228.958 Q271.846 228.958 268.768 224.375 Q265.712 219.768 265.712 211.041 Q265.712 202.291 268.768 197.708 Q271.846 193.102 277.656 193.102 Z\" fill=\"#000000\" fill-rule=\"nonzero\" fill-opacity=\"1\" /><path clip-path=\"url(#clip340)\" d=\"M289.601 172.796 L307.656 172.796 L307.656 174.414 L297.462 200.876 L293.494 200.876 L303.086 175.994 L289.601 175.994 L289.601 172.796 Z\" fill=\"#000000\" fill-rule=\"nonzero\" fill-opacity=\"1\" /><path clip-path=\"url(#clip340)\" d=\"M-16.6456 666.084 L-9.86608 666.084 Q-12.8898 669.33 -14.3857 673.022 Q-15.8817 676.682 -15.8817 680.82 Q-15.8817 688.968 -10.8846 693.297 Q-5.91935 697.626 3.5019 697.626 Q12.8913 697.626 17.8884 693.297 Q22.8536 688.968 22.8536 680.82 Q22.8536 676.682 21.3577 673.022 Q19.8618 669.33 16.8381 666.084 L23.5539 666.084 Q25.8455 669.457 26.9914 673.245 Q28.1372 677.001 28.1372 681.202 Q28.1372 691.992 21.5487 698.198 Q14.9283 704.405 3.5019 704.405 Q-7.95637 704.405 -14.5449 698.198 Q-21.1652 691.992 -21.1652 681.202 Q-21.1652 676.937 -20.0194 673.181 Q-18.9054 669.394 -16.6456 666.084 Z\" fill=\"#000000\" fill-rule=\"nonzero\" fill-opacity=\"1\" /><path clip-path=\"url(#clip340)\" d=\"M-4.32792 642.594 Q-4.32792 647.305 -0.635809 650.042 Q3.02447 652.779 9.42201 652.779 Q15.8195 652.779 19.5117 650.074 Q23.1719 647.337 23.1719 642.594 Q23.1719 637.915 19.4798 635.178 Q15.7877 632.441 9.42201 632.441 Q3.08813 632.441 -0.60398 635.178 Q-4.32792 637.915 -4.32792 642.594 M-9.29317 642.594 Q-9.29317 634.955 -4.32792 630.595 Q0.637332 626.234 9.42201 626.234 Q18.1749 626.234 23.1719 630.595 Q28.1372 634.955 28.1372 642.594 Q28.1372 650.265 23.1719 654.625 Q18.1749 658.954 9.42201 658.954 Q0.637332 658.954 -4.32792 654.625 Q-9.29317 650.265 -9.29317 642.594 Z\" fill=\"#000000\" fill-rule=\"nonzero\" fill-opacity=\"1\" /><path clip-path=\"url(#clip340)\" d=\"M-7.38346 593.801 L-1.84529 593.801 Q-3.11843 596.284 -3.75501 598.957 Q-4.39158 601.631 -4.39158 604.495 Q-4.39158 608.856 -3.05478 611.052 Q-1.71798 613.216 0.955618 613.216 Q2.99264 613.216 4.1703 611.657 Q5.31613 610.097 6.36647 605.386 L6.81207 603.381 Q8.14887 597.143 10.5997 594.533 Q13.0186 591.891 17.3791 591.891 Q22.3444 591.891 25.2408 595.838 Q28.1372 599.753 28.1372 606.628 Q28.1372 609.492 27.5643 612.612 Q27.0232 615.699 25.9092 619.136 L19.8618 619.136 Q21.5487 615.89 22.408 612.739 Q23.2356 609.588 23.2356 606.5 Q23.2356 602.363 21.8351 600.135 Q20.4029 597.907 17.8247 597.907 Q15.4376 597.907 14.1645 599.53 Q12.8913 601.121 11.7137 606.564 L11.2362 608.601 Q10.0904 614.044 7.7351 616.463 Q5.34796 618.882 1.21025 618.882 Q-3.81866 618.882 -6.55592 615.317 Q-9.29317 611.752 -9.29317 605.196 Q-9.29317 601.949 -8.81574 599.084 Q-8.33831 596.22 -7.38346 593.801 Z\" fill=\"#000000\" fill-rule=\"nonzero\" fill-opacity=\"1\" /><path clip-path=\"url(#clip340)\" d=\"M-18.5553 576.773 L-8.4338 576.773 L-8.4338 564.71 L-3.88232 564.71 L-3.88232 576.773 L15.4694 576.773 Q19.8299 576.773 21.0713 575.595 Q22.3126 574.386 22.3126 570.725 L22.3126 564.71 L27.2142 564.71 L27.2142 570.725 Q27.2142 577.505 24.6997 580.083 Q22.1534 582.661 15.4694 582.661 L-3.88232 582.661 L-3.88232 586.958 L-8.4338 586.958 L-8.4338 582.661 L-18.5553 582.661 L-18.5553 576.773 Z\" fill=\"#000000\" fill-rule=\"nonzero\" fill-opacity=\"1\" /><path clip-path=\"url(#clip340)\" d=\"M-22.2474 522.219 Q-14.9268 526.484 -7.7654 528.552 Q-0.60398 530.621 6.74841 530.621 Q14.1008 530.621 21.3259 528.552 Q28.5191 526.452 35.8079 522.219 L35.8079 527.311 Q28.3282 532.085 21.1031 534.473 Q13.878 536.828 6.74841 536.828 Q-0.349352 536.828 -7.5426 534.473 Q-14.7358 532.117 -22.2474 527.311 L-22.2474 522.219 Z\" fill=\"#000000\" fill-rule=\"nonzero\" fill-opacity=\"1\" /><path clip-path=\"url(#clip340)\" d=\"M36.7945 494.973 L36.7945 498.156 L27.2142 498.188 Q27.1505 501.53 26.4503 504.872 Q25.7182 508.214 24.2859 511.588 L18.5568 511.588 Q20.5938 508.341 21.6442 505.031 Q22.6627 501.689 22.6945 498.156 L8.18069 498.156 Q7.03487 505.19 4.29761 508.405 Q1.56036 511.588 -3.21392 511.588 Q-8.40197 511.588 -11.3939 508.118 Q-14.3857 504.649 -14.8313 498.156 L-22.311 498.156 L-22.311 494.973 L-14.9268 494.973 Q-14.7995 492.013 -14.2902 489.244 Q-13.8128 486.475 -12.9535 483.833 L-7.38346 483.833 Q-8.72026 486.475 -9.45231 489.276 Q-10.1844 492.045 -10.3117 494.973 L3.2791 494.973 Q4.3931 487.748 7.25767 484.343 Q10.1222 480.937 15.0875 480.937 Q20.4665 480.937 23.5857 484.565 Q26.6731 488.162 27.1505 494.973 L36.7945 494.973 M2.70619 498.156 L-10.3435 498.156 Q-9.92974 501.848 -8.24283 503.79 Q-6.55592 505.731 -3.75501 505.731 Q-1.01775 505.731 0.510018 503.949 Q2.03779 502.135 2.70619 498.156 M8.81727 494.973 L22.599 494.973 Q22.0579 490.931 20.3074 488.894 Q18.5568 486.825 15.6922 486.825 Q12.8913 486.825 11.2362 488.799 Q9.58115 490.74 8.81727 494.973 Z\" fill=\"#000000\" fill-rule=\"nonzero\" fill-opacity=\"1\" /><path clip-path=\"url(#clip340)\" d=\"M-22.2474 470.306 L-22.2474 465.214 Q-14.7358 460.439 -7.5426 458.084 Q-0.349352 455.697 6.74841 455.697 Q13.878 455.697 21.1031 458.084 Q28.3282 460.439 35.8079 465.214 L35.8079 470.306 Q28.5191 466.073 21.3259 464.004 Q14.1008 461.903 6.74841 461.903 Q-0.60398 461.903 -7.7654 464.004 Q-14.9268 466.073 -22.2474 470.306 Z\" fill=\"#000000\" fill-rule=\"nonzero\" fill-opacity=\"1\" /><path clip-path=\"url(#clip340)\" d=\"M623.999 18.8205 L623.999 41.5461 L634.289 41.5461 Q640 41.5461 643.12 38.5889 Q646.239 35.6318 646.239 30.163 Q646.239 24.7348 643.12 21.7777 Q640 18.8205 634.289 18.8205 L623.999 18.8205 M615.817 12.096 L634.289 12.096 Q644.456 12.096 649.642 16.714 Q654.867 21.2916 654.867 30.163 Q654.867 39.1155 649.642 43.6931 Q644.456 48.2706 634.289 48.2706 L623.999 48.2706 L623.999 72.576 L615.817 72.576 L615.817 12.096 Z\" fill=\"#000000\" fill-rule=\"nonzero\" fill-opacity=\"1\" /><path clip-path=\"url(#clip340)\" d=\"M680.145 32.4315 Q674.15 32.4315 670.666 37.1306 Q667.182 41.7891 667.182 49.9314 Q667.182 58.0738 670.625 62.7728 Q674.109 67.4314 680.145 67.4314 Q686.1 67.4314 689.584 62.7323 Q693.067 58.0333 693.067 49.9314 Q693.067 41.8701 689.584 37.1711 Q686.1 32.4315 680.145 32.4315 M680.145 26.1121 Q689.867 26.1121 695.417 32.4315 Q700.967 38.7509 700.967 49.9314 Q700.967 61.0714 695.417 67.4314 Q689.867 73.7508 680.145 73.7508 Q670.382 73.7508 664.832 67.4314 Q659.323 61.0714 659.323 49.9314 Q659.323 38.7509 664.832 32.4315 Q670.382 26.1121 680.145 26.1121 Z\" fill=\"#000000\" fill-rule=\"nonzero\" fill-opacity=\"1\" /><path clip-path=\"url(#clip340)\" d=\"M713.322 9.54393 L720.775 9.54393 L720.775 72.576 L713.322 72.576 L713.322 9.54393 Z\" fill=\"#000000\" fill-rule=\"nonzero\" fill-opacity=\"1\" /><path clip-path=\"url(#clip340)\" d=\"M736.371 27.2059 L743.825 27.2059 L743.825 72.576 L736.371 72.576 L736.371 27.2059 M736.371 9.54393 L743.825 9.54393 L743.825 18.9825 L736.371 18.9825 L736.371 9.54393 Z\" fill=\"#000000\" fill-rule=\"nonzero\" fill-opacity=\"1\" /><path clip-path=\"url(#clip340)\" d=\"M792.071 28.9478 L792.071 35.9153 Q788.912 34.1734 785.711 33.3227 Q782.552 32.4315 779.311 32.4315 Q772.06 32.4315 768.05 37.0496 Q764.039 41.6271 764.039 49.9314 Q764.039 58.2358 768.05 62.8538 Q772.06 67.4314 779.311 67.4314 Q782.552 67.4314 785.711 66.5807 Q788.912 65.6895 792.071 63.9476 L792.071 70.8341 Q788.952 72.2924 785.59 73.0216 Q782.268 73.7508 778.501 73.7508 Q768.252 73.7508 762.216 67.3098 Q756.18 60.8689 756.18 49.9314 Q756.18 38.832 762.257 32.472 Q768.374 26.1121 778.987 26.1121 Q782.43 26.1121 785.711 26.8413 Q788.993 27.5299 792.071 28.9478 Z\" fill=\"#000000\" fill-rule=\"nonzero\" fill-opacity=\"1\" /><path clip-path=\"url(#clip340)\" d=\"M823.911 76.7889 Q820.752 84.8907 817.754 87.3618 Q814.756 89.8329 809.733 89.8329 L803.778 89.8329 L803.778 83.5945 L808.153 83.5945 Q811.232 83.5945 812.934 82.1361 Q814.635 80.6778 816.701 75.2496 L818.038 71.8468 L799.687 27.2059 L807.586 27.2059 L821.765 62.6918 L835.943 27.2059 L843.842 27.2059 L823.911 76.7889 Z\" fill=\"#000000\" fill-rule=\"nonzero\" fill-opacity=\"1\" /><path clip-path=\"url(#clip340)\" d=\"M906.793 34.1734 Q905.537 33.4443 904.038 33.1202 Q902.58 32.7556 900.798 32.7556 Q894.478 32.7556 891.075 36.8875 Q887.713 40.9789 887.713 48.6757 L887.713 72.576 L880.219 72.576 L880.219 27.2059 L887.713 27.2059 L887.713 34.2544 Q890.063 30.1225 893.83 28.1376 Q897.597 26.1121 902.985 26.1121 Q903.755 26.1121 904.687 26.2337 Q905.618 26.3147 906.752 26.5172 L906.793 34.1734 Z\" fill=\"#000000\" fill-rule=\"nonzero\" fill-opacity=\"1\" /><path clip-path=\"url(#clip340)\" d=\"M951.596 48.0275 L951.596 51.6733 L917.325 51.6733 Q917.811 59.3701 921.943 63.421 Q926.116 67.4314 933.529 67.4314 Q937.823 67.4314 941.833 66.3781 Q945.884 65.3249 949.854 63.2184 L949.854 70.267 Q945.844 71.9684 941.631 72.8596 Q937.418 73.7508 933.083 73.7508 Q922.227 73.7508 915.867 67.4314 Q909.548 61.1119 909.548 50.3365 Q909.548 39.1965 915.543 32.6746 Q921.579 26.1121 931.787 26.1121 Q940.942 26.1121 946.249 32.0264 Q951.596 37.9003 951.596 48.0275 M944.142 45.84 Q944.061 39.7232 940.699 36.0774 Q937.377 32.4315 931.868 32.4315 Q925.63 32.4315 921.862 35.9558 Q918.136 39.4801 917.568 45.8805 L944.142 45.84 Z\" fill=\"#000000\" fill-rule=\"nonzero\" fill-opacity=\"1\" /><path clip-path=\"url(#clip340)\" d=\"M992.753 28.5427 L992.753 35.5912 Q989.593 33.9709 986.191 33.1607 Q982.788 32.3505 979.142 32.3505 Q973.592 32.3505 970.797 34.0519 Q968.043 35.7533 968.043 39.156 Q968.043 41.7486 970.028 43.2475 Q972.013 44.7058 978.008 46.0426 L980.56 46.6097 Q988.5 48.3111 991.821 51.4303 Q995.184 54.509 995.184 60.0587 Q995.184 66.3781 990.161 70.0644 Q985.178 73.7508 976.428 73.7508 Q972.782 73.7508 968.812 73.0216 Q964.883 72.3329 960.508 70.9151 L960.508 63.2184 Q964.64 65.3654 968.65 66.4591 Q972.661 67.5124 976.59 67.5124 Q981.856 67.5124 984.692 65.73 Q987.528 63.9071 987.528 60.6258 Q987.528 57.5877 985.462 55.9673 Q983.436 54.3469 976.509 52.8481 L973.916 52.2405 Q966.989 50.7821 963.911 47.7845 Q960.832 44.7463 960.832 39.4801 Q960.832 33.0797 965.369 29.5959 Q969.906 26.1121 978.251 26.1121 Q982.383 26.1121 986.029 26.7198 Q989.674 27.3274 992.753 28.5427 Z\" fill=\"#000000\" fill-rule=\"nonzero\" fill-opacity=\"1\" /><path clip-path=\"url(#clip340)\" d=\"M1006.28 54.671 L1006.28 27.2059 L1013.74 27.2059 L1013.74 54.3874 Q1013.74 60.8284 1016.25 64.0691 Q1018.76 67.2693 1023.78 67.2693 Q1029.82 67.2693 1033.3 63.421 Q1036.83 59.5726 1036.83 52.9291 L1036.83 27.2059 L1044.28 27.2059 L1044.28 72.576 L1036.83 72.576 L1036.83 65.6084 Q1034.11 69.7404 1030.51 71.7658 Q1026.94 73.7508 1022.2 73.7508 Q1014.39 73.7508 1010.33 68.8897 Q1006.28 64.0286 1006.28 54.671 M1025.04 26.1121 L1025.04 26.1121 Z\" fill=\"#000000\" fill-rule=\"nonzero\" fill-opacity=\"1\" /><path clip-path=\"url(#clip340)\" d=\"M1059.63 9.54393 L1067.09 9.54393 L1067.09 72.576 L1059.63 72.576 L1059.63 9.54393 Z\" fill=\"#000000\" fill-rule=\"nonzero\" fill-opacity=\"1\" /><path clip-path=\"url(#clip340)\" d=\"M1090.06 14.324 L1090.06 27.2059 L1105.41 27.2059 L1105.41 32.9987 L1090.06 32.9987 L1090.06 57.6282 Q1090.06 63.1779 1091.55 64.7578 Q1093.09 66.3376 1097.75 66.3376 L1105.41 66.3376 L1105.41 72.576 L1097.75 72.576 Q1089.12 72.576 1085.84 69.3758 Q1082.56 66.1351 1082.56 57.6282 L1082.56 32.9987 L1077.09 32.9987 L1077.09 27.2059 L1082.56 27.2059 L1082.56 14.324 L1090.06 14.324 Z\" fill=\"#000000\" fill-rule=\"nonzero\" fill-opacity=\"1\" /><path clip-path=\"url(#clip340)\" d=\"M1144.14 28.5427 L1144.14 35.5912 Q1140.98 33.9709 1137.57 33.1607 Q1134.17 32.3505 1130.52 32.3505 Q1124.97 32.3505 1122.18 34.0519 Q1119.42 35.7533 1119.42 39.156 Q1119.42 41.7486 1121.41 43.2475 Q1123.39 44.7058 1129.39 46.0426 L1131.94 46.6097 Q1139.88 48.3111 1143.2 51.4303 Q1146.57 54.509 1146.57 60.0587 Q1146.57 66.3781 1141.54 70.0644 Q1136.56 73.7508 1127.81 73.7508 Q1124.16 73.7508 1120.19 73.0216 Q1116.27 72.3329 1111.89 70.9151 L1111.89 63.2184 Q1116.02 65.3654 1120.03 66.4591 Q1124.04 67.5124 1127.97 67.5124 Q1133.24 67.5124 1136.07 65.73 Q1138.91 63.9071 1138.91 60.6258 Q1138.91 57.5877 1136.84 55.9673 Q1134.82 54.3469 1127.89 52.8481 L1125.3 52.2405 Q1118.37 50.7821 1115.29 47.7845 Q1112.21 44.7463 1112.21 39.4801 Q1112.21 33.0797 1116.75 29.5959 Q1121.29 26.1121 1129.63 26.1121 Q1133.77 26.1121 1137.41 26.7198 Q1141.06 27.3274 1144.14 28.5427 Z\" fill=\"#000000\" fill-rule=\"nonzero\" fill-opacity=\"1\" /><path clip-path=\"url(#clip340)\" d=\"M1160.34 62.2867 L1168.89 62.2867 L1168.89 72.576 L1160.34 72.576 L1160.34 62.2867 M1160.34 29.6769 L1168.89 29.6769 L1168.89 39.9662 L1160.34 39.9662 L1160.34 29.6769 Z\" fill=\"#000000\" fill-rule=\"nonzero\" fill-opacity=\"1\" /><path clip-path=\"url(#clip340)\" d=\"M1249.34 14.0809 L1249.34 22.0612 Q1244.68 19.8332 1240.55 18.7395 Q1236.42 17.6457 1232.57 17.6457 Q1225.88 17.6457 1222.24 20.2383 Q1218.63 22.8309 1218.63 27.611 Q1218.63 31.6214 1221.02 33.6873 Q1223.45 35.7128 1230.18 36.9686 L1235.12 37.9813 Q1244.27 39.7232 1248.61 44.1387 Q1252.98 48.5136 1252.98 55.8863 Q1252.98 64.6767 1247.07 69.2137 Q1241.2 73.7508 1229.81 73.7508 Q1225.52 73.7508 1220.66 72.7785 Q1215.84 71.8063 1210.65 69.9024 L1210.65 61.4765 Q1215.63 64.2716 1220.41 65.6895 Q1225.19 67.1073 1229.81 67.1073 Q1236.82 67.1073 1240.63 64.3527 Q1244.44 61.598 1244.44 56.4939 Q1244.44 52.0379 1241.68 49.5264 Q1238.97 47.0148 1232.73 45.759 L1227.75 44.7868 Q1218.59 42.9639 1214.5 39.075 Q1210.41 35.1862 1210.41 28.2591 Q1210.41 20.2383 1216.04 15.6203 Q1221.71 11.0023 1231.64 11.0023 Q1235.89 11.0023 1240.3 11.7719 Q1244.72 12.5416 1249.34 14.0809 Z\" fill=\"#000000\" fill-rule=\"nonzero\" fill-opacity=\"1\" /><path clip-path=\"url(#clip340)\" d=\"M1272.79 14.324 L1272.79 27.2059 L1288.15 27.2059 L1288.15 32.9987 L1272.79 32.9987 L1272.79 57.6282 Q1272.79 63.1779 1274.29 64.7578 Q1275.83 66.3376 1280.49 66.3376 L1288.15 66.3376 L1288.15 72.576 L1280.49 72.576 Q1271.86 72.576 1268.58 69.3758 Q1265.3 66.1351 1265.3 57.6282 L1265.3 32.9987 L1259.83 32.9987 L1259.83 27.2059 L1265.3 27.2059 L1265.3 14.324 L1272.79 14.324 Z\" fill=\"#000000\" fill-rule=\"nonzero\" fill-opacity=\"1\" /><path clip-path=\"url(#clip340)\" d=\"M1315.53 32.4315 Q1309.53 32.4315 1306.05 37.1306 Q1302.57 41.7891 1302.57 49.9314 Q1302.57 58.0738 1306.01 62.7728 Q1309.49 67.4314 1315.53 67.4314 Q1321.48 67.4314 1324.97 62.7323 Q1328.45 58.0333 1328.45 49.9314 Q1328.45 41.8701 1324.97 37.1711 Q1321.48 32.4315 1315.53 32.4315 M1315.53 26.1121 Q1325.25 26.1121 1330.8 32.4315 Q1336.35 38.7509 1336.35 49.9314 Q1336.35 61.0714 1330.8 67.4314 Q1325.25 73.7508 1315.53 73.7508 Q1305.77 73.7508 1300.22 67.4314 Q1294.71 61.0714 1294.71 49.9314 Q1294.71 38.7509 1300.22 32.4315 Q1305.77 26.1121 1315.53 26.1121 Z\" fill=\"#000000\" fill-rule=\"nonzero\" fill-opacity=\"1\" /><path clip-path=\"url(#clip340)\" d=\"M1381.36 28.9478 L1381.36 35.9153 Q1378.2 34.1734 1375 33.3227 Q1371.84 32.4315 1368.6 32.4315 Q1361.34 32.4315 1357.33 37.0496 Q1353.32 41.6271 1353.32 49.9314 Q1353.32 58.2358 1357.33 62.8538 Q1361.34 67.4314 1368.6 67.4314 Q1371.84 67.4314 1375 66.5807 Q1378.2 65.6895 1381.36 63.9476 L1381.36 70.8341 Q1378.24 72.2924 1374.87 73.0216 Q1371.55 73.7508 1367.79 73.7508 Q1357.54 73.7508 1351.5 67.3098 Q1345.47 60.8689 1345.47 49.9314 Q1345.47 38.832 1351.54 32.472 Q1357.66 26.1121 1368.27 26.1121 Q1371.72 26.1121 1375 26.8413 Q1378.28 27.5299 1381.36 28.9478 Z\" fill=\"#000000\" fill-rule=\"nonzero\" fill-opacity=\"1\" /><path clip-path=\"url(#clip340)\" d=\"M1432.03 45.1919 L1432.03 72.576 L1424.58 72.576 L1424.58 45.4349 Q1424.58 38.994 1422.07 35.7938 Q1419.56 32.5936 1414.53 32.5936 Q1408.5 32.5936 1405.01 36.4419 Q1401.53 40.2903 1401.53 46.9338 L1401.53 72.576 L1394.04 72.576 L1394.04 9.54393 L1401.53 9.54393 L1401.53 34.2544 Q1404.2 30.163 1407.81 28.1376 Q1411.45 26.1121 1416.19 26.1121 Q1424.01 26.1121 1428.02 30.9732 Q1432.03 35.7938 1432.03 45.1919 Z\" fill=\"#000000\" fill-rule=\"nonzero\" fill-opacity=\"1\" /><path clip-path=\"url(#clip340)\" d=\"M1467.52 49.7694 Q1458.49 49.7694 1455 51.8354 Q1451.52 53.9013 1451.52 58.8839 Q1451.52 62.8538 1454.11 65.2034 Q1456.74 67.5124 1461.24 67.5124 Q1467.44 67.5124 1471.16 63.1374 Q1474.93 58.7219 1474.93 51.4303 L1474.93 49.7694 L1467.52 49.7694 M1482.39 46.6907 L1482.39 72.576 L1474.93 72.576 L1474.93 65.6895 Q1472.38 69.8214 1468.57 71.8063 Q1464.76 73.7508 1459.26 73.7508 Q1452.29 73.7508 1448.16 69.8619 Q1444.06 65.9325 1444.06 59.3701 Q1444.06 51.7138 1449.17 47.825 Q1454.31 43.9361 1464.48 43.9361 L1474.93 43.9361 L1474.93 43.2069 Q1474.93 38.0623 1471.53 35.2672 Q1468.17 32.4315 1462.05 32.4315 Q1458.16 32.4315 1454.48 33.3632 Q1450.79 34.295 1447.39 36.1584 L1447.39 29.2718 Q1451.48 27.692 1455.33 26.9223 Q1459.17 26.1121 1462.82 26.1121 Q1472.66 26.1121 1477.52 31.2163 Q1482.39 36.3204 1482.39 46.6907 Z\" fill=\"#000000\" fill-rule=\"nonzero\" fill-opacity=\"1\" /><path clip-path=\"url(#clip340)\" d=\"M1526.66 28.5427 L1526.66 35.5912 Q1523.5 33.9709 1520.1 33.1607 Q1516.7 32.3505 1513.05 32.3505 Q1507.5 32.3505 1504.71 34.0519 Q1501.95 35.7533 1501.95 39.156 Q1501.95 41.7486 1503.94 43.2475 Q1505.92 44.7058 1511.92 46.0426 L1514.47 46.6097 Q1522.41 48.3111 1525.73 51.4303 Q1529.09 54.509 1529.09 60.0587 Q1529.09 66.3781 1524.07 70.0644 Q1519.09 73.7508 1510.34 73.7508 Q1506.69 73.7508 1502.72 73.0216 Q1498.79 72.3329 1494.42 70.9151 L1494.42 63.2184 Q1498.55 65.3654 1502.56 66.4591 Q1506.57 67.5124 1510.5 67.5124 Q1515.77 67.5124 1518.6 65.73 Q1521.44 63.9071 1521.44 60.6258 Q1521.44 57.5877 1519.37 55.9673 Q1517.35 54.3469 1510.42 52.8481 L1507.83 52.2405 Q1500.9 50.7821 1497.82 47.7845 Q1494.74 44.7463 1494.74 39.4801 Q1494.74 33.0797 1499.28 29.5959 Q1503.82 26.1121 1512.16 26.1121 Q1516.29 26.1121 1519.94 26.7198 Q1523.58 27.3274 1526.66 28.5427 Z\" fill=\"#000000\" fill-rule=\"nonzero\" fill-opacity=\"1\" /><path clip-path=\"url(#clip340)\" d=\"M1548.33 14.324 L1548.33 27.2059 L1563.69 27.2059 L1563.69 32.9987 L1548.33 32.9987 L1548.33 57.6282 Q1548.33 63.1779 1549.83 64.7578 Q1551.37 66.3376 1556.03 66.3376 L1563.69 66.3376 L1563.69 72.576 L1556.03 72.576 Q1547.4 72.576 1544.12 69.3758 Q1540.84 66.1351 1540.84 57.6282 L1540.84 32.9987 L1535.37 32.9987 L1535.37 27.2059 L1540.84 27.2059 L1540.84 14.324 L1548.33 14.324 Z\" fill=\"#000000\" fill-rule=\"nonzero\" fill-opacity=\"1\" /><path clip-path=\"url(#clip340)\" d=\"M1573.49 27.2059 L1580.94 27.2059 L1580.94 72.576 L1573.49 72.576 L1573.49 27.2059 M1573.49 9.54393 L1580.94 9.54393 L1580.94 18.9825 L1573.49 18.9825 L1573.49 9.54393 Z\" fill=\"#000000\" fill-rule=\"nonzero\" fill-opacity=\"1\" /><path clip-path=\"url(#clip340)\" d=\"M1629.19 28.9478 L1629.19 35.9153 Q1626.03 34.1734 1622.83 33.3227 Q1619.67 32.4315 1616.43 32.4315 Q1609.18 32.4315 1605.17 37.0496 Q1601.16 41.6271 1601.16 49.9314 Q1601.16 58.2358 1605.17 62.8538 Q1609.18 67.4314 1616.43 67.4314 Q1619.67 67.4314 1622.83 66.5807 Q1626.03 65.6895 1629.19 63.9476 L1629.19 70.8341 Q1626.07 72.2924 1622.71 73.0216 Q1619.39 73.7508 1615.62 73.7508 Q1605.37 73.7508 1599.34 67.3098 Q1593.3 60.8689 1593.3 49.9314 Q1593.3 38.832 1599.38 32.472 Q1605.49 26.1121 1616.11 26.1121 Q1619.55 26.1121 1622.83 26.8413 Q1626.11 27.5299 1629.19 28.9478 Z\" fill=\"#000000\" fill-rule=\"nonzero\" fill-opacity=\"1\" /><path clip-path=\"url(#clip340)\" d=\"M1667.92 12.096 L1676.14 12.096 L1676.14 48.8377 Q1676.14 58.5599 1679.67 62.8538 Q1683.19 67.1073 1691.09 67.1073 Q1698.95 67.1073 1702.47 62.8538 Q1706 58.5599 1706 48.8377 L1706 12.096 L1714.22 12.096 L1714.22 49.8504 Q1714.22 61.6791 1708.35 67.7149 Q1702.51 73.7508 1691.09 73.7508 Q1679.62 73.7508 1673.75 67.7149 Q1667.92 61.6791 1667.92 49.8504 L1667.92 12.096 Z\" fill=\"#000000\" fill-rule=\"nonzero\" fill-opacity=\"1\" /><path clip-path=\"url(#clip340)\" d=\"M1774.86 16.7545 L1774.86 25.383 Q1770.73 21.5346 1766.03 19.6307 Q1761.37 17.7268 1756.11 17.7268 Q1745.74 17.7268 1740.23 24.0867 Q1734.72 30.4061 1734.72 42.3968 Q1734.72 54.3469 1740.23 60.7069 Q1745.74 67.0263 1756.11 67.0263 Q1761.37 67.0263 1766.03 65.1223 Q1770.73 63.2184 1774.86 59.3701 L1774.86 67.9175 Q1770.57 70.8341 1765.75 72.2924 Q1760.97 73.7508 1755.62 73.7508 Q1741.89 73.7508 1733.99 65.3654 Q1726.09 56.9395 1726.09 42.3968 Q1726.09 27.8135 1733.99 19.4281 Q1741.89 11.0023 1755.62 11.0023 Q1761.05 11.0023 1765.83 12.4606 Q1770.65 13.8784 1774.86 16.7545 Z\" fill=\"#000000\" fill-rule=\"nonzero\" fill-opacity=\"1\" /><polyline clip-path=\"url(#clip342)\" style=\"stroke:#009af9; stroke-linecap:round; stroke-linejoin:round; stroke-width:4; stroke-opacity:1; fill:none\" points=\"403.185,969.558 799.262,972.492 1195.34,970.921 1591.42,956.588 1987.49,946.883 \"/>\n",
       "<polyline clip-path=\"url(#clip342)\" style=\"stroke:#e26f46; stroke-linecap:round; stroke-linejoin:round; stroke-width:4; stroke-opacity:1; fill:none\" points=\"403.185,972.635 799.262,922.812 1195.34,124.354 1591.42,668.511 1987.49,594.629 \"/>\n",
       "<polyline clip-path=\"url(#clip342)\" style=\"stroke:#3da44d; stroke-linecap:round; stroke-linejoin:round; stroke-width:4; stroke-opacity:1; fill:none\" points=\"403.185,1035.75 799.262,986.991 1195.34,199.992 1591.42,755.839 1987.49,688.199 \"/>\n",
       "<path clip-path=\"url(#clip340)\" d=\"M2128.26 690.014 L3152.76 690.014 L3152.76 482.654 L2128.26 482.654  Z\" fill=\"#ffffff\" fill-rule=\"evenodd\" fill-opacity=\"1\"/>\n",
       "<polyline clip-path=\"url(#clip340)\" style=\"stroke:#000000; stroke-linecap:round; stroke-linejoin:round; stroke-width:4; stroke-opacity:1; fill:none\" points=\"2128.26,690.014 3152.76,690.014 3152.76,482.654 2128.26,482.654 2128.26,690.014 \"/>\n",
       "<polyline clip-path=\"url(#clip340)\" style=\"stroke:#009af9; stroke-linecap:round; stroke-linejoin:round; stroke-width:4; stroke-opacity:1; fill:none\" points=\"2159.34,534.494 2345.81,534.494 \"/>\n",
       "<path clip-path=\"url(#clip340)\" d=\"M2381.57 521.056 L2381.57 534.042 L2387.44 534.042 Q2390.71 534.042 2392.49 532.352 Q2394.27 530.663 2394.27 527.538 Q2394.27 524.436 2392.49 522.746 Q2390.71 521.056 2387.44 521.056 L2381.57 521.056 M2376.89 517.214 L2387.44 517.214 Q2393.25 517.214 2396.22 519.852 Q2399.2 522.468 2399.2 527.538 Q2399.2 532.653 2396.22 535.269 Q2393.25 537.885 2387.44 537.885 L2381.57 537.885 L2381.57 551.774 L2376.89 551.774 L2376.89 517.214 Z\" fill=\"#000000\" fill-rule=\"nonzero\" fill-opacity=\"1\" /><path clip-path=\"url(#clip340)\" d=\"M2419.48 529.829 Q2418.76 529.413 2417.91 529.227 Q2417.07 529.019 2416.06 529.019 Q2412.44 529.019 2410.5 531.38 Q2408.58 533.718 2408.58 538.116 L2408.58 551.774 L2404.3 551.774 L2404.3 525.848 L2408.58 525.848 L2408.58 529.876 Q2409.92 527.514 2412.07 526.38 Q2414.23 525.223 2417.31 525.223 Q2417.75 525.223 2418.28 525.292 Q2418.81 525.339 2419.46 525.454 L2419.48 529.829 Z\" fill=\"#000000\" fill-rule=\"nonzero\" fill-opacity=\"1\" /><path clip-path=\"url(#clip340)\" d=\"M2445.08 537.746 L2445.08 539.829 L2425.5 539.829 Q2425.78 544.227 2428.14 546.542 Q2430.52 548.834 2434.76 548.834 Q2437.21 548.834 2439.5 548.232 Q2441.82 547.63 2444.09 546.426 L2444.09 550.454 Q2441.8 551.426 2439.39 551.936 Q2436.98 552.445 2434.5 552.445 Q2428.3 552.445 2424.67 548.834 Q2421.06 545.223 2421.06 539.065 Q2421.06 532.7 2424.48 528.973 Q2427.93 525.223 2433.76 525.223 Q2439 525.223 2442.03 528.602 Q2445.08 531.959 2445.08 537.746 M2440.82 536.496 Q2440.78 533.001 2438.86 530.917 Q2436.96 528.834 2433.81 528.834 Q2430.25 528.834 2428.09 530.848 Q2425.96 532.862 2425.64 536.519 L2440.82 536.496 Z\" fill=\"#000000\" fill-rule=\"nonzero\" fill-opacity=\"1\" /><path clip-path=\"url(#clip340)\" d=\"M2469.13 529.783 L2469.13 515.755 L2473.39 515.755 L2473.39 551.774 L2469.13 551.774 L2469.13 547.885 Q2467.79 550.2 2465.73 551.334 Q2463.69 552.445 2460.82 552.445 Q2456.13 552.445 2453.16 548.695 Q2450.22 544.945 2450.22 538.834 Q2450.22 532.723 2453.16 528.973 Q2456.13 525.223 2460.82 525.223 Q2463.69 525.223 2465.73 526.357 Q2467.79 527.468 2469.13 529.783 M2454.62 538.834 Q2454.62 543.533 2456.54 546.218 Q2458.49 548.88 2461.87 548.88 Q2465.25 548.88 2467.19 546.218 Q2469.13 543.533 2469.13 538.834 Q2469.13 534.135 2467.19 531.473 Q2465.25 528.788 2461.87 528.788 Q2458.49 528.788 2456.54 531.473 Q2454.62 534.135 2454.62 538.834 Z\" fill=\"#000000\" fill-rule=\"nonzero\" fill-opacity=\"1\" /><path clip-path=\"url(#clip340)\" d=\"M2482.17 525.848 L2486.43 525.848 L2486.43 551.774 L2482.17 551.774 L2482.17 525.848 M2482.17 515.755 L2486.43 515.755 L2486.43 521.149 L2482.17 521.149 L2482.17 515.755 Z\" fill=\"#000000\" fill-rule=\"nonzero\" fill-opacity=\"1\" /><path clip-path=\"url(#clip340)\" d=\"M2514 526.843 L2514 530.825 Q2512.19 529.829 2510.36 529.343 Q2508.56 528.834 2506.7 528.834 Q2502.56 528.834 2500.27 531.473 Q2497.98 534.088 2497.98 538.834 Q2497.98 543.579 2500.27 546.218 Q2502.56 548.834 2506.7 548.834 Q2508.56 548.834 2510.36 548.348 Q2512.19 547.838 2514 546.843 L2514 550.778 Q2512.21 551.612 2510.29 552.028 Q2508.39 552.445 2506.24 552.445 Q2500.38 552.445 2496.93 548.764 Q2493.49 545.084 2493.49 538.834 Q2493.49 532.491 2496.96 528.857 Q2500.45 525.223 2506.52 525.223 Q2508.49 525.223 2510.36 525.639 Q2512.24 526.033 2514 526.843 Z\" fill=\"#000000\" fill-rule=\"nonzero\" fill-opacity=\"1\" /><path clip-path=\"url(#clip340)\" d=\"M2525.62 518.487 L2525.62 525.848 L2534.39 525.848 L2534.39 529.158 L2525.62 529.158 L2525.62 543.232 Q2525.62 546.403 2526.47 547.306 Q2527.35 548.209 2530.01 548.209 L2534.39 548.209 L2534.39 551.774 L2530.01 551.774 Q2525.08 551.774 2523.21 549.945 Q2521.33 548.093 2521.33 543.232 L2521.33 529.158 L2518.21 529.158 L2518.21 525.848 L2521.33 525.848 L2521.33 518.487 L2525.62 518.487 Z\" fill=\"#000000\" fill-rule=\"nonzero\" fill-opacity=\"1\" /><path clip-path=\"url(#clip340)\" d=\"M2562.17 537.746 L2562.17 539.829 L2542.58 539.829 Q2542.86 544.227 2545.22 546.542 Q2547.61 548.834 2551.84 548.834 Q2554.3 548.834 2556.59 548.232 Q2558.9 547.63 2561.17 546.426 L2561.17 550.454 Q2558.88 551.426 2556.47 551.936 Q2554.06 552.445 2551.59 552.445 Q2545.38 552.445 2541.75 548.834 Q2538.14 545.223 2538.14 539.065 Q2538.14 532.7 2541.56 528.973 Q2545.01 525.223 2550.85 525.223 Q2556.08 525.223 2559.11 528.602 Q2562.17 531.959 2562.17 537.746 M2557.91 536.496 Q2557.86 533.001 2555.94 530.917 Q2554.04 528.834 2550.89 528.834 Q2547.33 528.834 2545.18 530.848 Q2543.05 532.862 2542.72 536.519 L2557.91 536.496 Z\" fill=\"#000000\" fill-rule=\"nonzero\" fill-opacity=\"1\" /><path clip-path=\"url(#clip340)\" d=\"M2586.22 529.783 L2586.22 515.755 L2590.48 515.755 L2590.48 551.774 L2586.22 551.774 L2586.22 547.885 Q2584.87 550.2 2582.81 551.334 Q2580.78 552.445 2577.91 552.445 Q2573.21 552.445 2570.24 548.695 Q2567.3 544.945 2567.3 538.834 Q2567.3 532.723 2570.24 528.973 Q2573.21 525.223 2577.91 525.223 Q2580.78 525.223 2582.81 526.357 Q2584.87 527.468 2586.22 529.783 M2571.7 538.834 Q2571.7 543.533 2573.62 546.218 Q2575.57 548.88 2578.95 548.88 Q2582.33 548.88 2584.27 546.218 Q2586.22 543.533 2586.22 538.834 Q2586.22 534.135 2584.27 531.473 Q2582.33 528.788 2578.95 528.788 Q2575.57 528.788 2573.62 531.473 Q2571.7 534.135 2571.7 538.834 Z\" fill=\"#000000\" fill-rule=\"nonzero\" fill-opacity=\"1\" /><path clip-path=\"url(#clip340)\" d=\"M2632.98 526.843 L2632.98 530.825 Q2631.17 529.829 2629.34 529.343 Q2627.54 528.834 2625.68 528.834 Q2621.54 528.834 2619.25 531.473 Q2616.96 534.088 2616.96 538.834 Q2616.96 543.579 2619.25 546.218 Q2621.54 548.834 2625.68 548.834 Q2627.54 548.834 2629.34 548.348 Q2631.17 547.838 2632.98 546.843 L2632.98 550.778 Q2631.19 551.612 2629.27 552.028 Q2627.37 552.445 2625.22 552.445 Q2619.36 552.445 2615.92 548.764 Q2612.47 545.084 2612.47 538.834 Q2612.47 532.491 2615.94 528.857 Q2619.43 525.223 2625.5 525.223 Q2627.47 525.223 2629.34 525.639 Q2631.22 526.033 2632.98 526.843 Z\" fill=\"#000000\" fill-rule=\"nonzero\" fill-opacity=\"1\" /><path clip-path=\"url(#clip340)\" d=\"M2650.43 528.834 Q2647 528.834 2645.01 531.519 Q2643.02 534.181 2643.02 538.834 Q2643.02 543.487 2644.99 546.172 Q2646.98 548.834 2650.43 548.834 Q2653.83 548.834 2655.82 546.149 Q2657.81 543.463 2657.81 538.834 Q2657.81 534.227 2655.82 531.542 Q2653.83 528.834 2650.43 528.834 M2650.43 525.223 Q2655.99 525.223 2659.16 528.834 Q2662.33 532.445 2662.33 538.834 Q2662.33 545.2 2659.16 548.834 Q2655.99 552.445 2650.43 552.445 Q2644.85 552.445 2641.68 548.834 Q2638.53 545.2 2638.53 538.834 Q2638.53 532.445 2641.68 528.834 Q2644.85 525.223 2650.43 525.223 Z\" fill=\"#000000\" fill-rule=\"nonzero\" fill-opacity=\"1\" /><path clip-path=\"url(#clip340)\" d=\"M2685.92 526.612 L2685.92 530.639 Q2684.11 529.714 2682.17 529.251 Q2680.22 528.788 2678.14 528.788 Q2674.97 528.788 2673.37 529.76 Q2671.8 530.732 2671.8 532.676 Q2671.8 534.158 2672.93 535.014 Q2674.06 535.848 2677.49 536.612 L2678.95 536.936 Q2683.48 537.908 2685.38 539.69 Q2687.3 541.45 2687.3 544.621 Q2687.3 548.232 2684.43 550.338 Q2681.59 552.445 2676.59 552.445 Q2674.5 552.445 2672.23 552.028 Q2669.99 551.635 2667.49 550.825 L2667.49 546.426 Q2669.85 547.653 2672.14 548.278 Q2674.43 548.88 2676.68 548.88 Q2679.69 548.88 2681.31 547.862 Q2682.93 546.82 2682.93 544.945 Q2682.93 543.209 2681.75 542.283 Q2680.59 541.357 2676.63 540.5 L2675.15 540.153 Q2671.19 539.32 2669.43 537.607 Q2667.67 535.871 2667.67 532.862 Q2667.67 529.204 2670.27 527.214 Q2672.86 525.223 2677.63 525.223 Q2679.99 525.223 2682.07 525.57 Q2684.16 525.917 2685.92 526.612 Z\" fill=\"#000000\" fill-rule=\"nonzero\" fill-opacity=\"1\" /><path clip-path=\"url(#clip340)\" d=\"M2698.3 518.487 L2698.3 525.848 L2707.07 525.848 L2707.07 529.158 L2698.3 529.158 L2698.3 543.232 Q2698.3 546.403 2699.16 547.306 Q2700.04 548.209 2702.7 548.209 L2707.07 548.209 L2707.07 551.774 L2702.7 551.774 Q2697.77 551.774 2695.89 549.945 Q2694.02 548.093 2694.02 543.232 L2694.02 529.158 L2690.89 529.158 L2690.89 525.848 L2694.02 525.848 L2694.02 518.487 L2698.3 518.487 Z\" fill=\"#000000\" fill-rule=\"nonzero\" fill-opacity=\"1\" /><polyline clip-path=\"url(#clip340)\" style=\"stroke:#e26f46; stroke-linecap:round; stroke-linejoin:round; stroke-width:4; stroke-opacity:1; fill:none\" points=\"2159.34,586.334 2345.81,586.334 \"/>\n",
       "<path clip-path=\"url(#clip340)\" d=\"M2392.72 573.66 L2386.38 590.859 L2399.09 590.859 L2392.72 573.66 M2390.08 569.054 L2395.38 569.054 L2408.56 603.614 L2403.69 603.614 L2400.55 594.748 L2384.97 594.748 L2381.82 603.614 L2376.89 603.614 L2390.08 569.054 Z\" fill=\"#000000\" fill-rule=\"nonzero\" fill-opacity=\"1\" /><path clip-path=\"url(#clip340)\" d=\"M2431.24 578.683 L2431.24 582.665 Q2429.44 581.669 2427.61 581.183 Q2425.8 580.674 2423.95 580.674 Q2419.81 580.674 2417.51 583.313 Q2415.22 585.928 2415.22 590.674 Q2415.22 595.419 2417.51 598.058 Q2419.81 600.674 2423.95 600.674 Q2425.8 600.674 2427.61 600.188 Q2429.44 599.678 2431.24 598.683 L2431.24 602.618 Q2429.46 603.452 2427.54 603.868 Q2425.64 604.285 2423.49 604.285 Q2417.63 604.285 2414.18 600.604 Q2410.73 596.924 2410.73 590.674 Q2410.73 584.331 2414.2 580.697 Q2417.7 577.063 2423.76 577.063 Q2425.73 577.063 2427.61 577.479 Q2429.48 577.873 2431.24 578.683 Z\" fill=\"#000000\" fill-rule=\"nonzero\" fill-opacity=\"1\" /><path clip-path=\"url(#clip340)\" d=\"M2442.86 570.327 L2442.86 577.688 L2451.63 577.688 L2451.63 580.998 L2442.86 580.998 L2442.86 595.072 Q2442.86 598.243 2443.72 599.146 Q2444.6 600.049 2447.26 600.049 L2451.63 600.049 L2451.63 603.614 L2447.26 603.614 Q2442.33 603.614 2440.45 601.785 Q2438.58 599.933 2438.58 595.072 L2438.58 580.998 L2435.45 580.998 L2435.45 577.688 L2438.58 577.688 L2438.58 570.327 L2442.86 570.327 Z\" fill=\"#000000\" fill-rule=\"nonzero\" fill-opacity=\"1\" /><path clip-path=\"url(#clip340)\" d=\"M2456.8 593.382 L2456.8 577.688 L2461.06 577.688 L2461.06 593.22 Q2461.06 596.901 2462.49 598.752 Q2463.93 600.581 2466.8 600.581 Q2470.25 600.581 2472.24 598.382 Q2474.25 596.183 2474.25 592.387 L2474.25 577.688 L2478.51 577.688 L2478.51 603.614 L2474.25 603.614 L2474.25 599.632 Q2472.7 601.993 2470.64 603.151 Q2468.6 604.285 2465.89 604.285 Q2461.43 604.285 2459.11 601.507 Q2456.8 598.729 2456.8 593.382 M2467.51 577.063 L2467.51 577.063 Z\" fill=\"#000000\" fill-rule=\"nonzero\" fill-opacity=\"1\" /><path clip-path=\"url(#clip340)\" d=\"M2499.06 590.581 Q2493.9 590.581 2491.91 591.762 Q2489.92 592.942 2489.92 595.79 Q2489.92 598.058 2491.4 599.401 Q2492.91 600.72 2495.48 600.72 Q2499.02 600.72 2501.15 598.22 Q2503.3 595.697 2503.3 591.53 L2503.3 590.581 L2499.06 590.581 M2507.56 588.822 L2507.56 603.614 L2503.3 603.614 L2503.3 599.678 Q2501.84 602.04 2499.67 603.174 Q2497.49 604.285 2494.34 604.285 Q2490.36 604.285 2488 602.063 Q2485.66 599.817 2485.66 596.067 Q2485.66 591.692 2488.58 589.47 Q2491.52 587.248 2497.33 587.248 L2503.3 587.248 L2503.3 586.831 Q2503.3 583.891 2501.36 582.294 Q2499.43 580.674 2495.94 580.674 Q2493.72 580.674 2491.61 581.206 Q2489.5 581.739 2487.56 582.804 L2487.56 578.868 Q2489.9 577.966 2492.1 577.526 Q2494.3 577.063 2496.38 577.063 Q2502 577.063 2504.78 579.979 Q2507.56 582.896 2507.56 588.822 Z\" fill=\"#000000\" fill-rule=\"nonzero\" fill-opacity=\"1\" /><path clip-path=\"url(#clip340)\" d=\"M2516.33 567.595 L2520.59 567.595 L2520.59 603.614 L2516.33 603.614 L2516.33 567.595 Z\" fill=\"#000000\" fill-rule=\"nonzero\" fill-opacity=\"1\" /><path clip-path=\"url(#clip340)\" d=\"M2563.23 578.683 L2563.23 582.665 Q2561.43 581.669 2559.6 581.183 Q2557.79 580.674 2555.94 580.674 Q2551.8 580.674 2549.5 583.313 Q2547.21 585.928 2547.21 590.674 Q2547.21 595.419 2549.5 598.058 Q2551.8 600.674 2555.94 600.674 Q2557.79 600.674 2559.6 600.188 Q2561.43 599.678 2563.23 598.683 L2563.23 602.618 Q2561.45 603.452 2559.53 603.868 Q2557.63 604.285 2555.48 604.285 Q2549.62 604.285 2546.17 600.604 Q2542.72 596.924 2542.72 590.674 Q2542.72 584.331 2546.19 580.697 Q2549.69 577.063 2555.75 577.063 Q2557.72 577.063 2559.6 577.479 Q2561.47 577.873 2563.23 578.683 Z\" fill=\"#000000\" fill-rule=\"nonzero\" fill-opacity=\"1\" /><path clip-path=\"url(#clip340)\" d=\"M2580.68 580.674 Q2577.26 580.674 2575.27 583.359 Q2573.28 586.021 2573.28 590.674 Q2573.28 595.327 2575.24 598.012 Q2577.24 600.674 2580.68 600.674 Q2584.09 600.674 2586.08 597.989 Q2588.07 595.303 2588.07 590.674 Q2588.07 586.067 2586.08 583.382 Q2584.09 580.674 2580.68 580.674 M2580.68 577.063 Q2586.24 577.063 2589.41 580.674 Q2592.58 584.285 2592.58 590.674 Q2592.58 597.04 2589.41 600.674 Q2586.24 604.285 2580.68 604.285 Q2575.11 604.285 2571.93 600.674 Q2568.79 597.04 2568.79 590.674 Q2568.79 584.285 2571.93 580.674 Q2575.11 577.063 2580.68 577.063 Z\" fill=\"#000000\" fill-rule=\"nonzero\" fill-opacity=\"1\" /><path clip-path=\"url(#clip340)\" d=\"M2616.17 578.452 L2616.17 582.479 Q2614.36 581.554 2612.42 581.091 Q2610.48 580.628 2608.39 580.628 Q2605.22 580.628 2603.62 581.6 Q2602.05 582.572 2602.05 584.516 Q2602.05 585.998 2603.18 586.854 Q2604.32 587.688 2607.74 588.452 L2609.2 588.776 Q2613.74 589.748 2615.64 591.53 Q2617.56 593.29 2617.56 596.461 Q2617.56 600.072 2614.69 602.178 Q2611.84 604.285 2606.84 604.285 Q2604.76 604.285 2602.49 603.868 Q2600.24 603.475 2597.74 602.665 L2597.74 598.266 Q2600.11 599.493 2602.4 600.118 Q2604.69 600.72 2606.93 600.72 Q2609.94 600.72 2611.56 599.702 Q2613.18 598.66 2613.18 596.785 Q2613.18 595.049 2612 594.123 Q2610.85 593.197 2606.89 592.34 L2605.41 591.993 Q2601.45 591.16 2599.69 589.447 Q2597.93 587.711 2597.93 584.702 Q2597.93 581.044 2600.52 579.054 Q2603.11 577.063 2607.88 577.063 Q2610.24 577.063 2612.33 577.41 Q2614.41 577.757 2616.17 578.452 Z\" fill=\"#000000\" fill-rule=\"nonzero\" fill-opacity=\"1\" /><path clip-path=\"url(#clip340)\" d=\"M2628.55 570.327 L2628.55 577.688 L2637.33 577.688 L2637.33 580.998 L2628.55 580.998 L2628.55 595.072 Q2628.55 598.243 2629.41 599.146 Q2630.29 600.049 2632.95 600.049 L2637.33 600.049 L2637.33 603.614 L2632.95 603.614 Q2628.02 603.614 2626.15 601.785 Q2624.27 599.933 2624.27 595.072 L2624.27 580.998 L2621.15 580.998 L2621.15 577.688 L2624.27 577.688 L2624.27 570.327 L2628.55 570.327 Z\" fill=\"#000000\" fill-rule=\"nonzero\" fill-opacity=\"1\" /><polyline clip-path=\"url(#clip340)\" style=\"stroke:#3da44d; stroke-linecap:round; stroke-linejoin:round; stroke-width:4; stroke-opacity:1; fill:none\" points=\"2159.34,638.174 2345.81,638.174 \"/>\n",
       "<path clip-path=\"url(#clip340)\" d=\"M2376.89 620.894 L2383.19 620.894 L2398.51 649.805 L2398.51 620.894 L2403.05 620.894 L2403.05 655.454 L2396.75 655.454 L2381.43 626.542 L2381.43 655.454 L2376.89 655.454 L2376.89 620.894 Z\" fill=\"#000000\" fill-rule=\"nonzero\" fill-opacity=\"1\" /><path clip-path=\"url(#clip340)\" d=\"M2433.07 622.028 L2433.07 626.588 Q2430.41 625.315 2428.05 624.69 Q2425.69 624.065 2423.49 624.065 Q2419.67 624.065 2417.58 625.546 Q2415.52 627.028 2415.52 629.759 Q2415.52 632.051 2416.89 633.231 Q2418.28 634.389 2422.12 635.106 L2424.94 635.685 Q2430.18 636.681 2432.65 639.204 Q2435.15 641.704 2435.15 645.917 Q2435.15 650.94 2431.77 653.532 Q2428.42 656.125 2421.91 656.125 Q2419.46 656.125 2416.68 655.569 Q2413.93 655.014 2410.96 653.926 L2410.96 649.111 Q2413.81 650.708 2416.54 651.518 Q2419.27 652.329 2421.91 652.329 Q2425.92 652.329 2428.09 650.755 Q2430.27 649.18 2430.27 646.264 Q2430.27 643.718 2428.69 642.282 Q2427.14 640.847 2423.58 640.13 L2420.73 639.574 Q2415.5 638.532 2413.16 636.31 Q2410.82 634.088 2410.82 630.13 Q2410.82 625.546 2414.04 622.907 Q2417.28 620.269 2422.95 620.269 Q2425.38 620.269 2427.91 620.708 Q2430.43 621.148 2433.07 622.028 Z\" fill=\"#000000\" fill-rule=\"nonzero\" fill-opacity=\"1\" /><path clip-path=\"url(#clip340)\" d=\"M2442.44 620.894 L2464.3 620.894 L2464.3 624.829 L2447.12 624.829 L2447.12 635.06 L2463.58 635.06 L2463.58 638.995 L2447.12 638.995 L2447.12 651.518 L2464.71 651.518 L2464.71 655.454 L2442.44 655.454 L2442.44 620.894 Z\" fill=\"#000000\" fill-rule=\"nonzero\" fill-opacity=\"1\" /><path clip-path=\"url(#clip340)\" d=\"M2505.94 630.523 L2505.94 634.505 Q2504.13 633.509 2502.31 633.023 Q2500.5 632.514 2498.65 632.514 Q2494.5 632.514 2492.21 635.153 Q2489.92 637.768 2489.92 642.514 Q2489.92 647.259 2492.21 649.898 Q2494.5 652.514 2498.65 652.514 Q2500.5 652.514 2502.31 652.028 Q2504.13 651.518 2505.94 650.523 L2505.94 654.458 Q2504.16 655.292 2502.24 655.708 Q2500.34 656.125 2498.18 656.125 Q2492.33 656.125 2488.88 652.444 Q2485.43 648.764 2485.43 642.514 Q2485.43 636.171 2488.9 632.537 Q2492.4 628.903 2498.46 628.903 Q2500.43 628.903 2502.31 629.319 Q2504.18 629.713 2505.94 630.523 Z\" fill=\"#000000\" fill-rule=\"nonzero\" fill-opacity=\"1\" /><path clip-path=\"url(#clip340)\" d=\"M2523.39 632.514 Q2519.97 632.514 2517.98 635.199 Q2515.99 637.861 2515.99 642.514 Q2515.99 647.167 2517.95 649.852 Q2519.94 652.514 2523.39 652.514 Q2526.8 652.514 2528.79 649.829 Q2530.78 647.143 2530.78 642.514 Q2530.78 637.907 2528.79 635.222 Q2526.8 632.514 2523.39 632.514 M2523.39 628.903 Q2528.95 628.903 2532.12 632.514 Q2535.29 636.125 2535.29 642.514 Q2535.29 648.88 2532.12 652.514 Q2528.95 656.125 2523.39 656.125 Q2517.81 656.125 2514.64 652.514 Q2511.5 648.88 2511.5 642.514 Q2511.5 636.125 2514.64 632.514 Q2517.81 628.903 2523.39 628.903 Z\" fill=\"#000000\" fill-rule=\"nonzero\" fill-opacity=\"1\" /><path clip-path=\"url(#clip340)\" d=\"M2558.88 630.292 L2558.88 634.319 Q2557.07 633.394 2555.13 632.931 Q2553.18 632.468 2551.1 632.468 Q2547.93 632.468 2546.33 633.44 Q2544.76 634.412 2544.76 636.356 Q2544.76 637.838 2545.89 638.694 Q2547.03 639.528 2550.45 640.292 L2551.91 640.616 Q2556.45 641.588 2558.35 643.37 Q2560.27 645.13 2560.27 648.301 Q2560.27 651.912 2557.4 654.018 Q2554.55 656.125 2549.55 656.125 Q2547.47 656.125 2545.2 655.708 Q2542.95 655.315 2540.45 654.505 L2540.45 650.106 Q2542.81 651.333 2545.11 651.958 Q2547.4 652.56 2549.64 652.56 Q2552.65 652.56 2554.27 651.542 Q2555.89 650.5 2555.89 648.625 Q2555.89 646.889 2554.71 645.963 Q2553.56 645.037 2549.6 644.18 L2548.12 643.833 Q2544.16 643 2542.4 641.287 Q2540.64 639.551 2540.64 636.542 Q2540.64 632.884 2543.23 630.894 Q2545.82 628.903 2550.59 628.903 Q2552.95 628.903 2555.04 629.25 Q2557.12 629.597 2558.88 630.292 Z\" fill=\"#000000\" fill-rule=\"nonzero\" fill-opacity=\"1\" /><path clip-path=\"url(#clip340)\" d=\"M2571.26 622.167 L2571.26 629.528 L2580.04 629.528 L2580.04 632.838 L2571.26 632.838 L2571.26 646.912 Q2571.26 650.083 2572.12 650.986 Q2573 651.889 2575.66 651.889 L2580.04 651.889 L2580.04 655.454 L2575.66 655.454 Q2570.73 655.454 2568.86 653.625 Q2566.98 651.773 2566.98 646.912 L2566.98 632.838 L2563.86 632.838 L2563.86 629.528 L2566.98 629.528 L2566.98 622.167 L2571.26 622.167 Z\" fill=\"#000000\" fill-rule=\"nonzero\" fill-opacity=\"1\" /><path clip-path=\"url(#clip340)\" d=\"M2610.94 619.482 Q2607.84 624.806 2606.33 630.014 Q2604.83 635.222 2604.83 640.569 Q2604.83 645.917 2606.33 651.171 Q2607.86 656.403 2610.94 661.704 L2607.24 661.704 Q2603.76 656.264 2602.03 651.009 Q2600.31 645.755 2600.31 640.569 Q2600.31 635.407 2602.03 630.176 Q2603.74 624.944 2607.24 619.482 L2610.94 619.482 Z\" fill=\"#000000\" fill-rule=\"nonzero\" fill-opacity=\"1\" /><path clip-path=\"url(#clip340)\" d=\"M2635.73 630.292 L2635.73 634.319 Q2633.93 633.394 2631.98 632.931 Q2630.04 632.468 2627.95 632.468 Q2624.78 632.468 2623.18 633.44 Q2621.61 634.412 2621.61 636.356 Q2621.61 637.838 2622.74 638.694 Q2623.88 639.528 2627.3 640.292 L2628.76 640.616 Q2633.3 641.588 2635.2 643.37 Q2637.12 645.13 2637.12 648.301 Q2637.12 651.912 2634.25 654.018 Q2631.4 656.125 2626.4 656.125 Q2624.32 656.125 2622.05 655.708 Q2619.8 655.315 2617.3 654.505 L2617.3 650.106 Q2619.67 651.333 2621.96 651.958 Q2624.25 652.56 2626.49 652.56 Q2629.5 652.56 2631.12 651.542 Q2632.74 650.5 2632.74 648.625 Q2632.74 646.889 2631.56 645.963 Q2630.41 645.037 2626.45 644.18 L2624.97 643.833 Q2621.01 643 2619.25 641.287 Q2617.49 639.551 2617.49 636.542 Q2617.49 632.884 2620.08 630.894 Q2622.68 628.903 2627.44 628.903 Q2629.8 628.903 2631.89 629.25 Q2633.97 629.597 2635.73 630.292 Z\" fill=\"#000000\" fill-rule=\"nonzero\" fill-opacity=\"1\" /><path clip-path=\"url(#clip340)\" d=\"M2643.46 645.222 L2643.46 629.528 L2647.72 629.528 L2647.72 645.06 Q2647.72 648.741 2649.16 650.592 Q2650.59 652.421 2653.46 652.421 Q2656.91 652.421 2658.9 650.222 Q2660.92 648.023 2660.92 644.227 L2660.92 629.528 L2665.17 629.528 L2665.17 655.454 L2660.92 655.454 L2660.92 651.472 Q2659.36 653.833 2657.3 654.991 Q2655.27 656.125 2652.56 656.125 Q2648.09 656.125 2645.78 653.347 Q2643.46 650.569 2643.46 645.222 M2654.18 628.903 L2654.18 628.903 Z\" fill=\"#000000\" fill-rule=\"nonzero\" fill-opacity=\"1\" /><path clip-path=\"url(#clip340)\" d=\"M2692.56 642.514 Q2692.56 637.815 2690.61 635.153 Q2688.69 632.468 2685.31 632.468 Q2681.93 632.468 2679.99 635.153 Q2678.07 637.815 2678.07 642.514 Q2678.07 647.213 2679.99 649.898 Q2681.93 652.56 2685.31 652.56 Q2688.69 652.56 2690.61 649.898 Q2692.56 647.213 2692.56 642.514 M2678.07 633.463 Q2679.41 631.148 2681.45 630.037 Q2683.51 628.903 2686.36 628.903 Q2691.08 628.903 2694.02 632.653 Q2696.98 636.403 2696.98 642.514 Q2696.98 648.625 2694.02 652.375 Q2691.08 656.125 2686.36 656.125 Q2683.51 656.125 2681.45 655.014 Q2679.41 653.88 2678.07 651.565 L2678.07 655.454 L2673.79 655.454 L2673.79 619.435 L2678.07 619.435 L2678.07 633.463 Z\" fill=\"#000000\" fill-rule=\"nonzero\" fill-opacity=\"1\" /><path clip-path=\"url(#clip340)\" d=\"M2720.57 630.292 L2720.57 634.319 Q2718.76 633.394 2716.82 632.931 Q2714.87 632.468 2712.79 632.468 Q2709.62 632.468 2708.02 633.44 Q2706.45 634.412 2706.45 636.356 Q2706.45 637.838 2707.58 638.694 Q2708.72 639.528 2712.14 640.292 L2713.6 640.616 Q2718.14 641.588 2720.04 643.37 Q2721.96 645.13 2721.96 648.301 Q2721.96 651.912 2719.09 654.018 Q2716.24 656.125 2711.24 656.125 Q2709.16 656.125 2706.89 655.708 Q2704.64 655.315 2702.14 654.505 L2702.14 650.106 Q2704.5 651.333 2706.79 651.958 Q2709.09 652.56 2711.33 652.56 Q2714.34 652.56 2715.96 651.542 Q2717.58 650.5 2717.58 648.625 Q2717.58 646.889 2716.4 645.963 Q2715.24 645.037 2711.29 644.18 L2709.8 643.833 Q2705.85 643 2704.09 641.287 Q2702.33 639.551 2702.33 636.542 Q2702.33 632.884 2704.92 630.894 Q2707.51 628.903 2712.28 628.903 Q2714.64 628.903 2716.73 629.25 Q2718.81 629.597 2720.57 630.292 Z\" fill=\"#000000\" fill-rule=\"nonzero\" fill-opacity=\"1\" /><path clip-path=\"url(#clip340)\" d=\"M2750.92 641.426 L2750.92 643.509 L2731.33 643.509 Q2731.61 647.907 2733.97 650.222 Q2736.36 652.514 2740.59 652.514 Q2743.04 652.514 2745.34 651.912 Q2747.65 651.31 2749.92 650.106 L2749.92 654.134 Q2747.63 655.106 2745.22 655.616 Q2742.81 656.125 2740.34 656.125 Q2734.13 656.125 2730.5 652.514 Q2726.89 648.903 2726.89 642.745 Q2726.89 636.38 2730.31 632.653 Q2733.76 628.903 2739.6 628.903 Q2744.83 628.903 2747.86 632.282 Q2750.92 635.639 2750.92 641.426 M2746.66 640.176 Q2746.61 636.681 2744.69 634.597 Q2742.79 632.514 2739.64 632.514 Q2736.08 632.514 2733.92 634.528 Q2731.79 636.542 2731.47 640.199 L2746.66 640.176 Z\" fill=\"#000000\" fill-rule=\"nonzero\" fill-opacity=\"1\" /><path clip-path=\"url(#clip340)\" d=\"M2762.12 622.167 L2762.12 629.528 L2770.89 629.528 L2770.89 632.838 L2762.12 632.838 L2762.12 646.912 Q2762.12 650.083 2762.98 650.986 Q2763.85 651.889 2766.52 651.889 L2770.89 651.889 L2770.89 655.454 L2766.52 655.454 Q2761.59 655.454 2759.71 653.625 Q2757.84 651.773 2757.84 646.912 L2757.84 632.838 L2754.71 632.838 L2754.71 629.528 L2757.84 629.528 L2757.84 622.167 L2762.12 622.167 Z\" fill=\"#000000\" fill-rule=\"nonzero\" fill-opacity=\"1\" /><path clip-path=\"url(#clip340)\" d=\"M2801.61 632.514 Q2798.18 632.514 2796.19 635.199 Q2794.2 637.861 2794.2 642.514 Q2794.2 647.167 2796.17 649.852 Q2798.16 652.514 2801.61 652.514 Q2805.01 652.514 2807 649.829 Q2808.99 647.143 2808.99 642.514 Q2808.99 637.907 2807 635.222 Q2805.01 632.514 2801.61 632.514 M2801.61 628.903 Q2807.16 628.903 2810.34 632.514 Q2813.51 636.125 2813.51 642.514 Q2813.51 648.88 2810.34 652.514 Q2807.16 656.125 2801.61 656.125 Q2796.03 656.125 2792.86 652.514 Q2789.71 648.88 2789.71 642.514 Q2789.71 636.125 2792.86 632.514 Q2796.03 628.903 2801.61 628.903 Z\" fill=\"#000000\" fill-rule=\"nonzero\" fill-opacity=\"1\" /><path clip-path=\"url(#clip340)\" d=\"M2833.69 619.435 L2833.69 622.977 L2829.62 622.977 Q2827.33 622.977 2826.42 623.903 Q2825.54 624.829 2825.54 627.236 L2825.54 629.528 L2832.56 629.528 L2832.56 632.838 L2825.54 632.838 L2825.54 655.454 L2821.26 655.454 L2821.26 632.838 L2817.19 632.838 L2817.19 629.528 L2821.26 629.528 L2821.26 627.722 Q2821.26 623.394 2823.28 621.426 Q2825.29 619.435 2829.66 619.435 L2833.69 619.435 Z\" fill=\"#000000\" fill-rule=\"nonzero\" fill-opacity=\"1\" /><path clip-path=\"url(#clip340)\" d=\"M2864.11 642.421 Q2858.95 642.421 2856.96 643.602 Q2854.97 644.782 2854.97 647.63 Q2854.97 649.898 2856.45 651.241 Q2857.95 652.56 2860.52 652.56 Q2864.06 652.56 2866.19 650.06 Q2868.35 647.537 2868.35 643.37 L2868.35 642.421 L2864.11 642.421 M2872.6 640.662 L2872.6 655.454 L2868.35 655.454 L2868.35 651.518 Q2866.89 653.88 2864.71 655.014 Q2862.53 656.125 2859.39 656.125 Q2855.41 656.125 2853.04 653.903 Q2850.71 651.657 2850.71 647.907 Q2850.71 643.532 2853.62 641.31 Q2856.56 639.088 2862.37 639.088 L2868.35 639.088 L2868.35 638.671 Q2868.35 635.731 2866.4 634.134 Q2864.48 632.514 2860.98 632.514 Q2858.76 632.514 2856.66 633.046 Q2854.55 633.579 2852.6 634.644 L2852.6 630.708 Q2854.94 629.806 2857.14 629.366 Q2859.34 628.903 2861.42 628.903 Q2867.05 628.903 2869.83 631.819 Q2872.6 634.736 2872.6 640.662 Z\" fill=\"#000000\" fill-rule=\"nonzero\" fill-opacity=\"1\" /><path clip-path=\"url(#clip340)\" d=\"M2900.03 630.523 L2900.03 634.505 Q2898.23 633.509 2896.4 633.023 Q2894.59 632.514 2892.74 632.514 Q2888.6 632.514 2886.31 635.153 Q2884.02 637.768 2884.02 642.514 Q2884.02 647.259 2886.31 649.898 Q2888.6 652.514 2892.74 652.514 Q2894.59 652.514 2896.4 652.028 Q2898.23 651.518 2900.03 650.523 L2900.03 654.458 Q2898.25 655.292 2896.33 655.708 Q2894.43 656.125 2892.28 656.125 Q2886.42 656.125 2882.97 652.444 Q2879.53 648.764 2879.53 642.514 Q2879.53 636.171 2883 632.537 Q2886.49 628.903 2892.56 628.903 Q2894.53 628.903 2896.4 629.319 Q2898.28 629.713 2900.03 630.523 Z\" fill=\"#000000\" fill-rule=\"nonzero\" fill-opacity=\"1\" /><path clip-path=\"url(#clip340)\" d=\"M2911.65 622.167 L2911.65 629.528 L2920.43 629.528 L2920.43 632.838 L2911.65 632.838 L2911.65 646.912 Q2911.65 650.083 2912.51 650.986 Q2913.39 651.889 2916.05 651.889 L2920.43 651.889 L2920.43 655.454 L2916.05 655.454 Q2911.12 655.454 2909.25 653.625 Q2907.37 651.773 2907.37 646.912 L2907.37 632.838 L2904.25 632.838 L2904.25 629.528 L2907.37 629.528 L2907.37 622.167 L2911.65 622.167 Z\" fill=\"#000000\" fill-rule=\"nonzero\" fill-opacity=\"1\" /><path clip-path=\"url(#clip340)\" d=\"M2925.59 645.222 L2925.59 629.528 L2929.85 629.528 L2929.85 645.06 Q2929.85 648.741 2931.28 650.592 Q2932.72 652.421 2935.59 652.421 Q2939.04 652.421 2941.03 650.222 Q2943.04 648.023 2943.04 644.227 L2943.04 629.528 L2947.3 629.528 L2947.3 655.454 L2943.04 655.454 L2943.04 651.472 Q2941.49 653.833 2939.43 654.991 Q2937.4 656.125 2934.69 656.125 Q2930.22 656.125 2927.9 653.347 Q2925.59 650.569 2925.59 645.222 M2936.31 628.903 L2936.31 628.903 Z\" fill=\"#000000\" fill-rule=\"nonzero\" fill-opacity=\"1\" /><path clip-path=\"url(#clip340)\" d=\"M2967.86 642.421 Q2962.7 642.421 2960.71 643.602 Q2958.71 644.782 2958.71 647.63 Q2958.71 649.898 2960.2 651.241 Q2961.7 652.56 2964.27 652.56 Q2967.81 652.56 2969.94 650.06 Q2972.09 647.537 2972.09 643.37 L2972.09 642.421 L2967.86 642.421 M2976.35 640.662 L2976.35 655.454 L2972.09 655.454 L2972.09 651.518 Q2970.64 653.88 2968.46 655.014 Q2966.28 656.125 2963.14 656.125 Q2959.15 656.125 2956.79 653.903 Q2954.46 651.657 2954.46 647.907 Q2954.46 643.532 2957.37 641.31 Q2960.31 639.088 2966.12 639.088 L2972.09 639.088 L2972.09 638.671 Q2972.09 635.731 2970.15 634.134 Q2968.23 632.514 2964.73 632.514 Q2962.51 632.514 2960.4 633.046 Q2958.3 633.579 2956.35 634.644 L2956.35 630.708 Q2958.69 629.806 2960.89 629.366 Q2963.09 628.903 2965.17 628.903 Q2970.8 628.903 2973.58 631.819 Q2976.35 634.736 2976.35 640.662 Z\" fill=\"#000000\" fill-rule=\"nonzero\" fill-opacity=\"1\" /><path clip-path=\"url(#clip340)\" d=\"M2985.13 619.435 L2989.39 619.435 L2989.39 655.454 L2985.13 655.454 L2985.13 619.435 Z\" fill=\"#000000\" fill-rule=\"nonzero\" fill-opacity=\"1\" /><path clip-path=\"url(#clip340)\" d=\"M3032.02 630.523 L3032.02 634.505 Q3030.22 633.509 3028.39 633.023 Q3026.58 632.514 3024.73 632.514 Q3020.59 632.514 3018.3 635.153 Q3016.01 637.768 3016.01 642.514 Q3016.01 647.259 3018.3 649.898 Q3020.59 652.514 3024.73 652.514 Q3026.58 652.514 3028.39 652.028 Q3030.22 651.518 3032.02 650.523 L3032.02 654.458 Q3030.24 655.292 3028.32 655.708 Q3026.42 656.125 3024.27 656.125 Q3018.41 656.125 3014.96 652.444 Q3011.52 648.764 3011.52 642.514 Q3011.52 636.171 3014.99 632.537 Q3018.48 628.903 3024.55 628.903 Q3026.52 628.903 3028.39 629.319 Q3030.27 629.713 3032.02 630.523 Z\" fill=\"#000000\" fill-rule=\"nonzero\" fill-opacity=\"1\" /><path clip-path=\"url(#clip340)\" d=\"M3049.48 632.514 Q3046.05 632.514 3044.06 635.199 Q3042.07 637.861 3042.07 642.514 Q3042.07 647.167 3044.04 649.852 Q3046.03 652.514 3049.48 652.514 Q3052.88 652.514 3054.87 649.829 Q3056.86 647.143 3056.86 642.514 Q3056.86 637.907 3054.87 635.222 Q3052.88 632.514 3049.48 632.514 M3049.48 628.903 Q3055.03 628.903 3058.21 632.514 Q3061.38 636.125 3061.38 642.514 Q3061.38 648.88 3058.21 652.514 Q3055.03 656.125 3049.48 656.125 Q3043.9 656.125 3040.73 652.514 Q3037.58 648.88 3037.58 642.514 Q3037.58 636.125 3040.73 632.514 Q3043.9 628.903 3049.48 628.903 Z\" fill=\"#000000\" fill-rule=\"nonzero\" fill-opacity=\"1\" /><path clip-path=\"url(#clip340)\" d=\"M3084.96 630.292 L3084.96 634.319 Q3083.16 633.394 3081.21 632.931 Q3079.27 632.468 3077.19 632.468 Q3074.02 632.468 3072.42 633.44 Q3070.84 634.412 3070.84 636.356 Q3070.84 637.838 3071.98 638.694 Q3073.11 639.528 3076.54 640.292 L3078 640.616 Q3082.53 641.588 3084.43 643.37 Q3086.35 645.13 3086.35 648.301 Q3086.35 651.912 3083.48 654.018 Q3080.64 656.125 3075.64 656.125 Q3073.55 656.125 3071.28 655.708 Q3069.04 655.315 3066.54 654.505 L3066.54 650.106 Q3068.9 651.333 3071.19 651.958 Q3073.48 652.56 3075.73 652.56 Q3078.74 652.56 3080.36 651.542 Q3081.98 650.5 3081.98 648.625 Q3081.98 646.889 3080.8 645.963 Q3079.64 645.037 3075.68 644.18 L3074.2 643.833 Q3070.24 643 3068.48 641.287 Q3066.72 639.551 3066.72 636.542 Q3066.72 632.884 3069.32 630.894 Q3071.91 628.903 3076.68 628.903 Q3079.04 628.903 3081.12 629.25 Q3083.21 629.597 3084.96 630.292 Z\" fill=\"#000000\" fill-rule=\"nonzero\" fill-opacity=\"1\" /><path clip-path=\"url(#clip340)\" d=\"M3097.35 622.167 L3097.35 629.528 L3106.12 629.528 L3106.12 632.838 L3097.35 632.838 L3097.35 646.912 Q3097.35 650.083 3098.2 650.986 Q3099.08 651.889 3101.75 651.889 L3106.12 651.889 L3106.12 655.454 L3101.75 655.454 Q3096.82 655.454 3094.94 653.625 Q3093.07 651.773 3093.07 646.912 L3093.07 632.838 L3089.94 632.838 L3089.94 629.528 L3093.07 629.528 L3093.07 622.167 L3097.35 622.167 Z\" fill=\"#000000\" fill-rule=\"nonzero\" fill-opacity=\"1\" /><path clip-path=\"url(#clip340)\" d=\"M3111.05 619.482 L3114.76 619.482 Q3118.23 624.944 3119.94 630.176 Q3121.68 635.407 3121.68 640.569 Q3121.68 645.755 3119.94 651.009 Q3118.23 656.264 3114.76 661.704 L3111.05 661.704 Q3114.13 656.403 3115.64 651.171 Q3117.16 645.917 3117.16 640.569 Q3117.16 635.222 3115.64 630.014 Q3114.13 624.806 3111.05 619.482 Z\" fill=\"#000000\" fill-rule=\"nonzero\" fill-opacity=\"1\" /></svg>\n"
      ]
     },
     "metadata": {},
     "output_type": "display_data"
    },
    {
     "data": {
      "application/vnd.vega.v5+json": {
       "$schema": "https://vega.github.io/schema/vega/v5.json",
       "axes": [
        {
         "aria": false,
         "domain": false,
         "grid": true,
         "gridScale": "y",
         "labels": false,
         "maxExtent": 0,
         "minExtent": 0,
         "orient": "bottom",
         "scale": "x",
         "tickCount": {
          "signal": "ceil(width/40)"
         },
         "ticks": false,
         "zindex": 0
        },
        {
         "aria": false,
         "domain": false,
         "grid": true,
         "gridScale": "x",
         "labels": false,
         "maxExtent": 0,
         "minExtent": 0,
         "orient": "left",
         "scale": "y",
         "tickCount": {
          "signal": "ceil(height/40)"
         },
         "ticks": false,
         "zindex": 0
        },
        {
         "grid": false,
         "labelFlush": true,
         "labelOverlap": true,
         "orient": "bottom",
         "scale": "x",
         "tickCount": {
          "signal": "ceil(width/40)"
         },
         "title": "hour",
         "zindex": 0
        },
        {
         "grid": false,
         "labelOverlap": true,
         "orient": "left",
         "scale": "y",
         "tickCount": {
          "signal": "ceil(height/40)"
         },
         "title": "gen_sum",
         "zindex": 0
        }
       ],
       "background": "white",
       "data": [
        {
         "name": "source_0",
         "values": [
          {
           "gen_sum": 21.4,
           "hour": 1,
           "resource": "biomass"
          },
          {
           "gen_sum": 42,
           "hour": 1,
           "resource": "hydroelectric_pumped_storage"
          },
          {
           "gen_sum": 2029.3309399999998,
           "hour": 1,
           "resource": "natural_gas_fired_combined_cycle"
          },
          {
           "gen_sum": 0,
           "hour": 1,
           "resource": "natural_gas_fired_combustion_turbine"
          },
          {
           "gen_sum": 21.4,
           "hour": 2,
           "resource": "biomass"
          },
          {
           "gen_sum": 42,
           "hour": 2,
           "resource": "hydroelectric_pumped_storage"
          },
          {
           "gen_sum": 1877.0057279999999,
           "hour": 2,
           "resource": "natural_gas_fired_combined_cycle"
          },
          {
           "gen_sum": 0,
           "hour": 2,
           "resource": "natural_gas_fired_combustion_turbine"
          },
          {
           "gen_sum": 21.4,
           "hour": 3,
           "resource": "biomass"
          },
          {
           "gen_sum": 42,
           "hour": 3,
           "resource": "hydroelectric_pumped_storage"
          },
          {
           "gen_sum": 1814.640608,
           "hour": 3,
           "resource": "natural_gas_fired_combined_cycle"
          },
          {
           "gen_sum": 0,
           "hour": 3,
           "resource": "natural_gas_fired_combustion_turbine"
          },
          {
           "gen_sum": 21.4,
           "hour": 4,
           "resource": "biomass"
          },
          {
           "gen_sum": 42,
           "hour": 4,
           "resource": "hydroelectric_pumped_storage"
          },
          {
           "gen_sum": 1819.448516,
           "hour": 4,
           "resource": "natural_gas_fired_combined_cycle"
          },
          {
           "gen_sum": 0,
           "hour": 4,
           "resource": "natural_gas_fired_combustion_turbine"
          },
          {
           "gen_sum": 21.4,
           "hour": 5,
           "resource": "biomass"
          },
          {
           "gen_sum": 42,
           "hour": 5,
           "resource": "hydroelectric_pumped_storage"
          },
          {
           "gen_sum": 1902.230184,
           "hour": 5,
           "resource": "natural_gas_fired_combined_cycle"
          },
          {
           "gen_sum": 0,
           "hour": 5,
           "resource": "natural_gas_fired_combustion_turbine"
          },
          {
           "gen_sum": 21.4,
           "hour": 6,
           "resource": "biomass"
          },
          {
           "gen_sum": 42,
           "hour": 6,
           "resource": "hydroelectric_pumped_storage"
          },
          {
           "gen_sum": 1677.075224,
           "hour": 6,
           "resource": "natural_gas_fired_combined_cycle"
          },
          {
           "gen_sum": 0,
           "hour": 6,
           "resource": "natural_gas_fired_combustion_turbine"
          },
          {
           "gen_sum": 21.4,
           "hour": 7,
           "resource": "biomass"
          },
          {
           "gen_sum": 42,
           "hour": 7,
           "resource": "hydroelectric_pumped_storage"
          },
          {
           "gen_sum": 1386.9337719999999,
           "hour": 7,
           "resource": "natural_gas_fired_combined_cycle"
          },
          {
           "gen_sum": 0,
           "hour": 7,
           "resource": "natural_gas_fired_combustion_turbine"
          },
          {
           "gen_sum": 21.4,
           "hour": 8,
           "resource": "biomass"
          },
          {
           "gen_sum": 42,
           "hour": 8,
           "resource": "hydroelectric_pumped_storage"
          },
          {
           "gen_sum": 1313.7276,
           "hour": 8,
           "resource": "natural_gas_fired_combined_cycle"
          },
          {
           "gen_sum": 0,
           "hour": 8,
           "resource": "natural_gas_fired_combustion_turbine"
          },
          {
           "gen_sum": 21.4,
           "hour": 9,
           "resource": "biomass"
          },
          {
           "gen_sum": 42,
           "hour": 9,
           "resource": "hydroelectric_pumped_storage"
          },
          {
           "gen_sum": 1335.77208,
           "hour": 9,
           "resource": "natural_gas_fired_combined_cycle"
          },
          {
           "gen_sum": 0,
           "hour": 9,
           "resource": "natural_gas_fired_combustion_turbine"
          },
          {
           "gen_sum": 21.4,
           "hour": 10,
           "resource": "biomass"
          },
          {
           "gen_sum": 42,
           "hour": 10,
           "resource": "hydroelectric_pumped_storage"
          },
          {
           "gen_sum": 1476.549028,
           "hour": 10,
           "resource": "natural_gas_fired_combined_cycle"
          },
          {
           "gen_sum": 0,
           "hour": 10,
           "resource": "natural_gas_fired_combustion_turbine"
          },
          {
           "gen_sum": 21.4,
           "hour": 11,
           "resource": "biomass"
          },
          {
           "gen_sum": 42,
           "hour": 11,
           "resource": "hydroelectric_pumped_storage"
          },
          {
           "gen_sum": 1547.9662959999998,
           "hour": 11,
           "resource": "natural_gas_fired_combined_cycle"
          },
          {
           "gen_sum": 0,
           "hour": 11,
           "resource": "natural_gas_fired_combustion_turbine"
          },
          {
           "gen_sum": 21.4,
           "hour": 12,
           "resource": "biomass"
          },
          {
           "gen_sum": 42,
           "hour": 12,
           "resource": "hydroelectric_pumped_storage"
          },
          {
           "gen_sum": 1430.363416,
           "hour": 12,
           "resource": "natural_gas_fired_combined_cycle"
          },
          {
           "gen_sum": 0,
           "hour": 12,
           "resource": "natural_gas_fired_combustion_turbine"
          },
          {
           "gen_sum": 21.4,
           "hour": 13,
           "resource": "biomass"
          },
          {
           "gen_sum": 42,
           "hour": 13,
           "resource": "hydroelectric_pumped_storage"
          },
          {
           "gen_sum": 1297.5564439999998,
           "hour": 13,
           "resource": "natural_gas_fired_combined_cycle"
          },
          {
           "gen_sum": 0,
           "hour": 13,
           "resource": "natural_gas_fired_combustion_turbine"
          },
          {
           "gen_sum": 21.4,
           "hour": 14,
           "resource": "biomass"
          },
          {
           "gen_sum": 42,
           "hour": 14,
           "resource": "hydroelectric_pumped_storage"
          },
          {
           "gen_sum": 1402.764432,
           "hour": 14,
           "resource": "natural_gas_fired_combined_cycle"
          },
          {
           "gen_sum": 0,
           "hour": 14,
           "resource": "natural_gas_fired_combustion_turbine"
          },
          {
           "gen_sum": 21.4,
           "hour": 15,
           "resource": "biomass"
          },
          {
           "gen_sum": 42,
           "hour": 15,
           "resource": "hydroelectric_pumped_storage"
          },
          {
           "gen_sum": 1463.6809119999998,
           "hour": 15,
           "resource": "natural_gas_fired_combined_cycle"
          },
          {
           "gen_sum": 0,
           "hour": 15,
           "resource": "natural_gas_fired_combustion_turbine"
          },
          {
           "gen_sum": 21.4,
           "hour": 16,
           "resource": "biomass"
          },
          {
           "gen_sum": 42,
           "hour": 16,
           "resource": "hydroelectric_pumped_storage"
          },
          {
           "gen_sum": 1649.8419399999998,
           "hour": 16,
           "resource": "natural_gas_fired_combined_cycle"
          },
          {
           "gen_sum": 0,
           "hour": 16,
           "resource": "natural_gas_fired_combustion_turbine"
          },
          {
           "gen_sum": 21.4,
           "hour": 17,
           "resource": "biomass"
          },
          {
           "gen_sum": 42,
           "hour": 17,
           "resource": "hydroelectric_pumped_storage"
          },
          {
           "gen_sum": 1868.4572879999998,
           "hour": 17,
           "resource": "natural_gas_fired_combined_cycle"
          },
          {
           "gen_sum": 0,
           "hour": 17,
           "resource": "natural_gas_fired_combustion_turbine"
          },
          {
           "gen_sum": 21.4,
           "hour": 18,
           "resource": "biomass"
          },
          {
           "gen_sum": 42,
           "hour": 18,
           "resource": "hydroelectric_pumped_storage"
          },
          {
           "gen_sum": 2173.758128,
           "hour": 18,
           "resource": "natural_gas_fired_combined_cycle"
          },
          {
           "gen_sum": 32.3078,
           "hour": 18,
           "resource": "natural_gas_fired_combustion_turbine"
          },
          {
           "gen_sum": 21.4,
           "hour": 19,
           "resource": "biomass"
          },
          {
           "gen_sum": 42,
           "hour": 19,
           "resource": "hydroelectric_pumped_storage"
          },
          {
           "gen_sum": 2307.1,
           "hour": 19,
           "resource": "natural_gas_fired_combined_cycle"
          },
          {
           "gen_sum": 242.84815599999996,
           "hour": 19,
           "resource": "natural_gas_fired_combustion_turbine"
          },
          {
           "gen_sum": 21.4,
           "hour": 20,
           "resource": "biomass"
          },
          {
           "gen_sum": 42,
           "hour": 20,
           "resource": "hydroelectric_pumped_storage"
          },
          {
           "gen_sum": 2307.1,
           "hour": 20,
           "resource": "natural_gas_fired_combined_cycle"
          },
          {
           "gen_sum": 729.7318240000011,
           "hour": 20,
           "resource": "natural_gas_fired_combustion_turbine"
          },
          {
           "gen_sum": 21.4,
           "hour": 21,
           "resource": "biomass"
          },
          {
           "gen_sum": 42,
           "hour": 21,
           "resource": "hydroelectric_pumped_storage"
          },
          {
           "gen_sum": 2307.1,
           "hour": 21,
           "resource": "natural_gas_fired_combined_cycle"
          },
          {
           "gen_sum": 607.8009440000012,
           "hour": 21,
           "resource": "natural_gas_fired_combustion_turbine"
          },
          {
           "gen_sum": 21.4,
           "hour": 22,
           "resource": "biomass"
          },
          {
           "gen_sum": 42,
           "hour": 22,
           "resource": "hydroelectric_pumped_storage"
          },
          {
           "gen_sum": 2307.1,
           "hour": 22,
           "resource": "natural_gas_fired_combined_cycle"
          },
          {
           "gen_sum": 362.96277200000003,
           "hour": 22,
           "resource": "natural_gas_fired_combustion_turbine"
          },
          {
           "gen_sum": 21.4,
           "hour": 23,
           "resource": "biomass"
          },
          {
           "gen_sum": 42,
           "hour": 23,
           "resource": "hydroelectric_pumped_storage"
          },
          {
           "gen_sum": 2269.5532,
           "hour": 23,
           "resource": "natural_gas_fired_combined_cycle"
          },
          {
           "gen_sum": 98.10180000000001,
           "hour": 23,
           "resource": "natural_gas_fired_combustion_turbine"
          },
          {
           "gen_sum": 21.4,
           "hour": 24,
           "resource": "biomass"
          },
          {
           "gen_sum": 42,
           "hour": 24,
           "resource": "hydroelectric_pumped_storage"
          },
          {
           "gen_sum": 2123.79132,
           "hour": 24,
           "resource": "natural_gas_fired_combined_cycle"
          },
          {
           "gen_sum": 0,
           "hour": 24,
           "resource": "natural_gas_fired_combustion_turbine"
          },
          {
           "gen_sum": 0,
           "hour": 1,
           "resource": "non_served_energy"
          },
          {
           "gen_sum": 0,
           "hour": 2,
           "resource": "non_served_energy"
          },
          {
           "gen_sum": 0,
           "hour": 3,
           "resource": "non_served_energy"
          },
          {
           "gen_sum": 0,
           "hour": 4,
           "resource": "non_served_energy"
          },
          {
           "gen_sum": 0,
           "hour": 5,
           "resource": "non_served_energy"
          },
          {
           "gen_sum": 0,
           "hour": 6,
           "resource": "non_served_energy"
          },
          {
           "gen_sum": 0,
           "hour": 7,
           "resource": "non_served_energy"
          },
          {
           "gen_sum": 0,
           "hour": 8,
           "resource": "non_served_energy"
          },
          {
           "gen_sum": 0,
           "hour": 9,
           "resource": "non_served_energy"
          },
          {
           "gen_sum": 0,
           "hour": 10,
           "resource": "non_served_energy"
          },
          {
           "gen_sum": 0,
           "hour": 11,
           "resource": "non_served_energy"
          },
          {
           "gen_sum": 0,
           "hour": 12,
           "resource": "non_served_energy"
          },
          {
           "gen_sum": 0,
           "hour": 13,
           "resource": "non_served_energy"
          },
          {
           "gen_sum": 0,
           "hour": 14,
           "resource": "non_served_energy"
          },
          {
           "gen_sum": 0,
           "hour": 15,
           "resource": "non_served_energy"
          },
          {
           "gen_sum": 0,
           "hour": 16,
           "resource": "non_served_energy"
          },
          {
           "gen_sum": 0,
           "hour": 17,
           "resource": "non_served_energy"
          },
          {
           "gen_sum": 0,
           "hour": 18,
           "resource": "non_served_energy"
          },
          {
           "gen_sum": 0,
           "hour": 19,
           "resource": "non_served_energy"
          },
          {
           "gen_sum": 0,
           "hour": 20,
           "resource": "non_served_energy"
          },
          {
           "gen_sum": 0,
           "hour": 21,
           "resource": "non_served_energy"
          },
          {
           "gen_sum": 0,
           "hour": 22,
           "resource": "non_served_energy"
          },
          {
           "gen_sum": 0,
           "hour": 23,
           "resource": "non_served_energy"
          },
          {
           "gen_sum": 0,
           "hour": 24,
           "resource": "non_served_energy"
          },
          {
           "gen_sum": 21.4,
           "hour": 25,
           "resource": "biomass"
          },
          {
           "gen_sum": 42,
           "hour": 25,
           "resource": "hydroelectric_pumped_storage"
          },
          {
           "gen_sum": 2011.661948,
           "hour": 25,
           "resource": "natural_gas_fired_combined_cycle"
          },
          {
           "gen_sum": 0,
           "hour": 25,
           "resource": "natural_gas_fired_combustion_turbine"
          },
          {
           "gen_sum": 21.4,
           "hour": 26,
           "resource": "biomass"
          },
          {
           "gen_sum": 42,
           "hour": 26,
           "resource": "hydroelectric_pumped_storage"
          },
          {
           "gen_sum": 1891.185376,
           "hour": 26,
           "resource": "natural_gas_fired_combined_cycle"
          },
          {
           "gen_sum": 0,
           "hour": 26,
           "resource": "natural_gas_fired_combustion_turbine"
          },
          {
           "gen_sum": 21.4,
           "hour": 27,
           "resource": "biomass"
          },
          {
           "gen_sum": 42,
           "hour": 27,
           "resource": "hydroelectric_pumped_storage"
          },
          {
           "gen_sum": 1835.8205759999998,
           "hour": 27,
           "resource": "natural_gas_fired_combined_cycle"
          },
          {
           "gen_sum": 0,
           "hour": 27,
           "resource": "natural_gas_fired_combustion_turbine"
          },
          {
           "gen_sum": 21.4,
           "hour": 28,
           "resource": "biomass"
          },
          {
           "gen_sum": 42,
           "hour": 28,
           "resource": "hydroelectric_pumped_storage"
          },
          {
           "gen_sum": 1787.686084,
           "hour": 28,
           "resource": "natural_gas_fired_combined_cycle"
          },
          {
           "gen_sum": 0,
           "hour": 28,
           "resource": "natural_gas_fired_combustion_turbine"
          },
          {
           "gen_sum": 21.4,
           "hour": 29,
           "resource": "biomass"
          },
          {
           "gen_sum": 42,
           "hour": 29,
           "resource": "hydroelectric_pumped_storage"
          },
          {
           "gen_sum": 1864.3381519999998,
           "hour": 29,
           "resource": "natural_gas_fired_combined_cycle"
          },
          {
           "gen_sum": 0,
           "hour": 29,
           "resource": "natural_gas_fired_combustion_turbine"
          },
          {
           "gen_sum": 21.4,
           "hour": 30,
           "resource": "biomass"
          },
          {
           "gen_sum": 42,
           "hour": 30,
           "resource": "hydroelectric_pumped_storage"
          },
          {
           "gen_sum": 1717.521432,
           "hour": 30,
           "resource": "natural_gas_fired_combined_cycle"
          },
          {
           "gen_sum": 0,
           "hour": 30,
           "resource": "natural_gas_fired_combustion_turbine"
          },
          {
           "gen_sum": 21.4,
           "hour": 31,
           "resource": "biomass"
          },
          {
           "gen_sum": 42,
           "hour": 31,
           "resource": "hydroelectric_pumped_storage"
          },
          {
           "gen_sum": 1406.827272,
           "hour": 31,
           "resource": "natural_gas_fired_combined_cycle"
          },
          {
           "gen_sum": 0,
           "hour": 31,
           "resource": "natural_gas_fired_combustion_turbine"
          },
          {
           "gen_sum": 21.4,
           "hour": 32,
           "resource": "biomass"
          },
          {
           "gen_sum": 42,
           "hour": 32,
           "resource": "hydroelectric_pumped_storage"
          },
          {
           "gen_sum": 1271.904472,
           "hour": 32,
           "resource": "natural_gas_fired_combined_cycle"
          },
          {
           "gen_sum": 0,
           "hour": 32,
           "resource": "natural_gas_fired_combustion_turbine"
          },
          {
           "gen_sum": 21.4,
           "hour": 33,
           "resource": "biomass"
          },
          {
           "gen_sum": 42,
           "hour": 33,
           "resource": "hydroelectric_pumped_storage"
          },
          {
           "gen_sum": 1266.2409519999999,
           "hour": 33,
           "resource": "natural_gas_fired_combined_cycle"
          },
          {
           "gen_sum": 0,
           "hour": 33,
           "resource": "natural_gas_fired_combustion_turbine"
          },
          {
           "gen_sum": 21.4,
           "hour": 34,
           "resource": "biomass"
          },
          {
           "gen_sum": 42,
           "hour": 34,
           "resource": "hydroelectric_pumped_storage"
          },
          {
           "gen_sum": 1418.731352,
           "hour": 34,
           "resource": "natural_gas_fired_combined_cycle"
          },
          {
           "gen_sum": 0,
           "hour": 34,
           "resource": "natural_gas_fired_combustion_turbine"
          },
          {
           "gen_sum": 21.4,
           "hour": 35,
           "resource": "biomass"
          },
          {
           "gen_sum": 42,
           "hour": 35,
           "resource": "hydroelectric_pumped_storage"
          },
          {
           "gen_sum": 1507.482472,
           "hour": 35,
           "resource": "natural_gas_fired_combined_cycle"
          },
          {
           "gen_sum": 0,
           "hour": 35,
           "resource": "natural_gas_fired_combustion_turbine"
          },
          {
           "gen_sum": 21.4,
           "hour": 36,
           "resource": "biomass"
          },
          {
           "gen_sum": 42,
           "hour": 36,
           "resource": "hydroelectric_pumped_storage"
          },
          {
           "gen_sum": 1417.6068719999998,
           "hour": 36,
           "resource": "natural_gas_fired_combined_cycle"
          },
          {
           "gen_sum": 0,
           "hour": 36,
           "resource": "natural_gas_fired_combustion_turbine"
          },
          {
           "gen_sum": 21.4,
           "hour": 37,
           "resource": "biomass"
          },
          {
           "gen_sum": 42,
           "hour": 37,
           "resource": "hydroelectric_pumped_storage"
          },
          {
           "gen_sum": 1341.5918319999998,
           "hour": 37,
           "resource": "natural_gas_fired_combined_cycle"
          },
          {
           "gen_sum": 0,
           "hour": 37,
           "resource": "natural_gas_fired_combustion_turbine"
          },
          {
           "gen_sum": 21.4,
           "hour": 38,
           "resource": "biomass"
          },
          {
           "gen_sum": 42,
           "hour": 38,
           "resource": "hydroelectric_pumped_storage"
          },
          {
           "gen_sum": 1311.7386319999998,
           "hour": 38,
           "resource": "natural_gas_fired_combined_cycle"
          },
          {
           "gen_sum": 0,
           "hour": 38,
           "resource": "natural_gas_fired_combustion_turbine"
          },
          {
           "gen_sum": 21.4,
           "hour": 39,
           "resource": "biomass"
          },
          {
           "gen_sum": 42,
           "hour": 39,
           "resource": "hydroelectric_pumped_storage"
          },
          {
           "gen_sum": 1526.762152,
           "hour": 39,
           "resource": "natural_gas_fired_combined_cycle"
          },
          {
           "gen_sum": 0,
           "hour": 39,
           "resource": "natural_gas_fired_combustion_turbine"
          },
          {
           "gen_sum": 21.4,
           "hour": 40,
           "resource": "biomass"
          },
          {
           "gen_sum": 42,
           "hour": 40,
           "resource": "hydroelectric_pumped_storage"
          },
          {
           "gen_sum": 1714.6039919999998,
           "hour": 40,
           "resource": "natural_gas_fired_combined_cycle"
          },
          {
           "gen_sum": 0,
           "hour": 40,
           "resource": "natural_gas_fired_combustion_turbine"
          },
          {
           "gen_sum": 21.4,
           "hour": 41,
           "resource": "biomass"
          },
          {
           "gen_sum": 42,
           "hour": 41,
           "resource": "hydroelectric_pumped_storage"
          },
          {
           "gen_sum": 1947.2070319999998,
           "hour": 41,
           "resource": "natural_gas_fired_combined_cycle"
          },
          {
           "gen_sum": 0,
           "hour": 41,
           "resource": "natural_gas_fired_combustion_turbine"
          },
          {
           "gen_sum": 21.4,
           "hour": 42,
           "resource": "biomass"
          },
          {
           "gen_sum": 42,
           "hour": 42,
           "resource": "hydroelectric_pumped_storage"
          },
          {
           "gen_sum": 2307.1,
           "hour": 42,
           "resource": "natural_gas_fired_combined_cycle"
          },
          {
           "gen_sum": 49.9,
           "hour": 42,
           "resource": "natural_gas_fired_combustion_turbine"
          },
          {
           "gen_sum": 21.4,
           "hour": 43,
           "resource": "biomass"
          },
          {
           "gen_sum": 42,
           "hour": 43,
           "resource": "hydroelectric_pumped_storage"
          },
          {
           "gen_sum": 2307.1,
           "hour": 43,
           "resource": "natural_gas_fired_combined_cycle"
          },
          {
           "gen_sum": 395.79999999999995,
           "hour": 43,
           "resource": "natural_gas_fired_combustion_turbine"
          },
          {
           "gen_sum": 21.4,
           "hour": 44,
           "resource": "biomass"
          },
          {
           "gen_sum": 42,
           "hour": 44,
           "resource": "hydroelectric_pumped_storage"
          },
          {
           "gen_sum": 2307.1,
           "hour": 44,
           "resource": "natural_gas_fired_combined_cycle"
          },
          {
           "gen_sum": 826.9927120000012,
           "hour": 44,
           "resource": "natural_gas_fired_combustion_turbine"
          },
          {
           "gen_sum": 21.4,
           "hour": 45,
           "resource": "biomass"
          },
          {
           "gen_sum": 42,
           "hour": 45,
           "resource": "hydroelectric_pumped_storage"
          },
          {
           "gen_sum": 2307.1,
           "hour": 45,
           "resource": "natural_gas_fired_combined_cycle"
          },
          {
           "gen_sum": 698.6653520000007,
           "hour": 45,
           "resource": "natural_gas_fired_combustion_turbine"
          },
          {
           "gen_sum": 21.4,
           "hour": 46,
           "resource": "biomass"
          },
          {
           "gen_sum": 42,
           "hour": 46,
           "resource": "hydroelectric_pumped_storage"
          },
          {
           "gen_sum": 2307.1,
           "hour": 46,
           "resource": "natural_gas_fired_combined_cycle"
          },
          {
           "gen_sum": 442.30759200000045,
           "hour": 46,
           "resource": "natural_gas_fired_combustion_turbine"
          },
          {
           "gen_sum": 21.4,
           "hour": 47,
           "resource": "biomass"
          },
          {
           "gen_sum": 42,
           "hour": 47,
           "resource": "hydroelectric_pumped_storage"
          },
          {
           "gen_sum": 2305.938352,
           "hour": 47,
           "resource": "natural_gas_fired_combined_cycle"
          },
          {
           "gen_sum": 65.6958,
           "hour": 47,
           "resource": "natural_gas_fired_combustion_turbine"
          },
          {
           "gen_sum": 21.4,
           "hour": 48,
           "resource": "biomass"
          },
          {
           "gen_sum": 42,
           "hour": 48,
           "resource": "hydroelectric_pumped_storage"
          },
          {
           "gen_sum": 2042.8405520000001,
           "hour": 48,
           "resource": "natural_gas_fired_combined_cycle"
          },
          {
           "gen_sum": 0,
           "hour": 48,
           "resource": "natural_gas_fired_combustion_turbine"
          },
          {
           "gen_sum": 0,
           "hour": 25,
           "resource": "non_served_energy"
          },
          {
           "gen_sum": 0,
           "hour": 26,
           "resource": "non_served_energy"
          },
          {
           "gen_sum": 0,
           "hour": 27,
           "resource": "non_served_energy"
          },
          {
           "gen_sum": 0,
           "hour": 28,
           "resource": "non_served_energy"
          },
          {
           "gen_sum": 0,
           "hour": 29,
           "resource": "non_served_energy"
          },
          {
           "gen_sum": 0,
           "hour": 30,
           "resource": "non_served_energy"
          },
          {
           "gen_sum": 0,
           "hour": 31,
           "resource": "non_served_energy"
          },
          {
           "gen_sum": 0,
           "hour": 32,
           "resource": "non_served_energy"
          },
          {
           "gen_sum": 0,
           "hour": 33,
           "resource": "non_served_energy"
          },
          {
           "gen_sum": 0,
           "hour": 34,
           "resource": "non_served_energy"
          },
          {
           "gen_sum": 0,
           "hour": 35,
           "resource": "non_served_energy"
          },
          {
           "gen_sum": 0,
           "hour": 36,
           "resource": "non_served_energy"
          },
          {
           "gen_sum": 0,
           "hour": 37,
           "resource": "non_served_energy"
          },
          {
           "gen_sum": 0,
           "hour": 38,
           "resource": "non_served_energy"
          },
          {
           "gen_sum": 0,
           "hour": 39,
           "resource": "non_served_energy"
          },
          {
           "gen_sum": 0,
           "hour": 40,
           "resource": "non_served_energy"
          },
          {
           "gen_sum": 0,
           "hour": 41,
           "resource": "non_served_energy"
          },
          {
           "gen_sum": 52.17055199999993,
           "hour": 42,
           "resource": "non_served_energy"
          },
          {
           "gen_sum": 45.595432000000415,
           "hour": 43,
           "resource": "non_served_energy"
          },
          {
           "gen_sum": 0,
           "hour": 44,
           "resource": "non_served_energy"
          },
          {
           "gen_sum": 0,
           "hour": 45,
           "resource": "non_served_energy"
          },
          {
           "gen_sum": 0,
           "hour": 46,
           "resource": "non_served_energy"
          },
          {
           "gen_sum": 0,
           "hour": 47,
           "resource": "non_served_energy"
          },
          {
           "gen_sum": 0,
           "hour": 48,
           "resource": "non_served_energy"
          },
          {
           "gen_sum": 21.4,
           "hour": 49,
           "resource": "biomass"
          },
          {
           "gen_sum": 42,
           "hour": 49,
           "resource": "hydroelectric_pumped_storage"
          },
          {
           "gen_sum": 1857.6786319999999,
           "hour": 49,
           "resource": "natural_gas_fired_combined_cycle"
          },
          {
           "gen_sum": 0,
           "hour": 49,
           "resource": "natural_gas_fired_combustion_turbine"
          },
          {
           "gen_sum": 21.4,
           "hour": 50,
           "resource": "biomass"
          },
          {
           "gen_sum": 42,
           "hour": 50,
           "resource": "hydroelectric_pumped_storage"
          },
          {
           "gen_sum": 1753.101352,
           "hour": 50,
           "resource": "natural_gas_fired_combined_cycle"
          },
          {
           "gen_sum": 0,
           "hour": 50,
           "resource": "natural_gas_fired_combustion_turbine"
          },
          {
           "gen_sum": 21.4,
           "hour": 51,
           "resource": "biomass"
          },
          {
           "gen_sum": 42,
           "hour": 51,
           "resource": "hydroelectric_pumped_storage"
          },
          {
           "gen_sum": 1745.5867919999998,
           "hour": 51,
           "resource": "natural_gas_fired_combined_cycle"
          },
          {
           "gen_sum": 0,
           "hour": 51,
           "resource": "natural_gas_fired_combustion_turbine"
          },
          {
           "gen_sum": 21.4,
           "hour": 52,
           "resource": "biomass"
          },
          {
           "gen_sum": 42,
           "hour": 52,
           "resource": "hydroelectric_pumped_storage"
          },
          {
           "gen_sum": 1803.5451919999998,
           "hour": 52,
           "resource": "natural_gas_fired_combined_cycle"
          },
          {
           "gen_sum": 0,
           "hour": 52,
           "resource": "natural_gas_fired_combustion_turbine"
          },
          {
           "gen_sum": 21.4,
           "hour": 53,
           "resource": "biomass"
          },
          {
           "gen_sum": 42,
           "hour": 53,
           "resource": "hydroelectric_pumped_storage"
          },
          {
           "gen_sum": 1977.660072,
           "hour": 53,
           "resource": "natural_gas_fired_combined_cycle"
          },
          {
           "gen_sum": 0,
           "hour": 53,
           "resource": "natural_gas_fired_combustion_turbine"
          },
          {
           "gen_sum": 21.4,
           "hour": 54,
           "resource": "biomass"
          },
          {
           "gen_sum": 42,
           "hour": 54,
           "resource": "hydroelectric_pumped_storage"
          },
          {
           "gen_sum": 2082.2834319999997,
           "hour": 54,
           "resource": "natural_gas_fired_combined_cycle"
          },
          {
           "gen_sum": 0,
           "hour": 54,
           "resource": "natural_gas_fired_combustion_turbine"
          },
          {
           "gen_sum": 21.4,
           "hour": 55,
           "resource": "biomass"
          },
          {
           "gen_sum": 42,
           "hour": 55,
           "resource": "hydroelectric_pumped_storage"
          },
          {
           "gen_sum": 1755.642232,
           "hour": 55,
           "resource": "natural_gas_fired_combined_cycle"
          },
          {
           "gen_sum": 0,
           "hour": 55,
           "resource": "natural_gas_fired_combustion_turbine"
          },
          {
           "gen_sum": 21.4,
           "hour": 56,
           "resource": "biomass"
          },
          {
           "gen_sum": 42,
           "hour": 56,
           "resource": "hydroelectric_pumped_storage"
          },
          {
           "gen_sum": 1678.872072,
           "hour": 56,
           "resource": "natural_gas_fired_combined_cycle"
          },
          {
           "gen_sum": 0,
           "hour": 56,
           "resource": "natural_gas_fired_combustion_turbine"
          },
          {
           "gen_sum": 21.4,
           "hour": 57,
           "resource": "biomass"
          },
          {
           "gen_sum": 42,
           "hour": 57,
           "resource": "hydroelectric_pumped_storage"
          },
          {
           "gen_sum": 1678.9822319999998,
           "hour": 57,
           "resource": "natural_gas_fired_combined_cycle"
          },
          {
           "gen_sum": 0,
           "hour": 57,
           "resource": "natural_gas_fired_combustion_turbine"
          },
          {
           "gen_sum": 21.4,
           "hour": 58,
           "resource": "biomass"
          },
          {
           "gen_sum": 42,
           "hour": 58,
           "resource": "hydroelectric_pumped_storage"
          },
          {
           "gen_sum": 1757.244792,
           "hour": 58,
           "resource": "natural_gas_fired_combined_cycle"
          },
          {
           "gen_sum": 0,
           "hour": 58,
           "resource": "natural_gas_fired_combustion_turbine"
          },
          {
           "gen_sum": 21.4,
           "hour": 59,
           "resource": "biomass"
          },
          {
           "gen_sum": 42,
           "hour": 59,
           "resource": "hydroelectric_pumped_storage"
          },
          {
           "gen_sum": 1788.9275920000002,
           "hour": 59,
           "resource": "natural_gas_fired_combined_cycle"
          },
          {
           "gen_sum": 0,
           "hour": 59,
           "resource": "natural_gas_fired_combustion_turbine"
          },
          {
           "gen_sum": 21.4,
           "hour": 60,
           "resource": "biomass"
          },
          {
           "gen_sum": 42,
           "hour": 60,
           "resource": "hydroelectric_pumped_storage"
          },
          {
           "gen_sum": 1988.7409519999997,
           "hour": 60,
           "resource": "natural_gas_fired_combined_cycle"
          },
          {
           "gen_sum": 0,
           "hour": 60,
           "resource": "natural_gas_fired_combustion_turbine"
          },
          {
           "gen_sum": 21.4,
           "hour": 61,
           "resource": "biomass"
          },
          {
           "gen_sum": 42,
           "hour": 61,
           "resource": "hydroelectric_pumped_storage"
          },
          {
           "gen_sum": 2108.476472,
           "hour": 61,
           "resource": "natural_gas_fired_combined_cycle"
          },
          {
           "gen_sum": 0,
           "hour": 61,
           "resource": "natural_gas_fired_combustion_turbine"
          },
          {
           "gen_sum": 21.4,
           "hour": 62,
           "resource": "biomass"
          },
          {
           "gen_sum": 42,
           "hour": 62,
           "resource": "hydroelectric_pumped_storage"
          },
          {
           "gen_sum": 2172.317432,
           "hour": 62,
           "resource": "natural_gas_fired_combined_cycle"
          },
          {
           "gen_sum": 0,
           "hour": 62,
           "resource": "natural_gas_fired_combustion_turbine"
          },
          {
           "gen_sum": 21.4,
           "hour": 63,
           "resource": "biomass"
          },
          {
           "gen_sum": 42,
           "hour": 63,
           "resource": "hydroelectric_pumped_storage"
          },
          {
           "gen_sum": 2307.1,
           "hour": 63,
           "resource": "natural_gas_fired_combined_cycle"
          },
          {
           "gen_sum": 0,
           "hour": 63,
           "resource": "natural_gas_fired_combustion_turbine"
          },
          {
           "gen_sum": 21.4,
           "hour": 64,
           "resource": "biomass"
          },
          {
           "gen_sum": 42,
           "hour": 64,
           "resource": "hydroelectric_pumped_storage"
          },
          {
           "gen_sum": 2307.1,
           "hour": 64,
           "resource": "natural_gas_fired_combined_cycle"
          },
          {
           "gen_sum": 0,
           "hour": 64,
           "resource": "natural_gas_fired_combustion_turbine"
          },
          {
           "gen_sum": 21.4,
           "hour": 65,
           "resource": "biomass"
          },
          {
           "gen_sum": 42,
           "hour": 65,
           "resource": "hydroelectric_pumped_storage"
          },
          {
           "gen_sum": 2307.1,
           "hour": 65,
           "resource": "natural_gas_fired_combined_cycle"
          },
          {
           "gen_sum": 0,
           "hour": 65,
           "resource": "natural_gas_fired_combustion_turbine"
          },
          {
           "gen_sum": 21.4,
           "hour": 66,
           "resource": "biomass"
          },
          {
           "gen_sum": 42,
           "hour": 66,
           "resource": "hydroelectric_pumped_storage"
          },
          {
           "gen_sum": 2307.1,
           "hour": 66,
           "resource": "natural_gas_fired_combined_cycle"
          },
          {
           "gen_sum": 345.9,
           "hour": 66,
           "resource": "natural_gas_fired_combustion_turbine"
          },
          {
           "gen_sum": 21.4,
           "hour": 67,
           "resource": "biomass"
          },
          {
           "gen_sum": 42,
           "hour": 67,
           "resource": "hydroelectric_pumped_storage"
          },
          {
           "gen_sum": 2307.1,
           "hour": 67,
           "resource": "natural_gas_fired_combined_cycle"
          },
          {
           "gen_sum": 774.7,
           "hour": 67,
           "resource": "natural_gas_fired_combustion_turbine"
          },
          {
           "gen_sum": 21.4,
           "hour": 68,
           "resource": "biomass"
          },
          {
           "gen_sum": 42,
           "hour": 68,
           "resource": "hydroelectric_pumped_storage"
          },
          {
           "gen_sum": 2307.1,
           "hour": 68,
           "resource": "natural_gas_fired_combined_cycle"
          },
          {
           "gen_sum": 1018.0000000000002,
           "hour": 68,
           "resource": "natural_gas_fired_combustion_turbine"
          },
          {
           "gen_sum": 21.4,
           "hour": 69,
           "resource": "biomass"
          },
          {
           "gen_sum": 42,
           "hour": 69,
           "resource": "hydroelectric_pumped_storage"
          },
          {
           "gen_sum": 2307.1,
           "hour": 69,
           "resource": "natural_gas_fired_combined_cycle"
          },
          {
           "gen_sum": 882.8000000000002,
           "hour": 69,
           "resource": "natural_gas_fired_combustion_turbine"
          },
          {
           "gen_sum": 21.4,
           "hour": 70,
           "resource": "biomass"
          },
          {
           "gen_sum": 42,
           "hour": 70,
           "resource": "hydroelectric_pumped_storage"
          },
          {
           "gen_sum": 2307.1,
           "hour": 70,
           "resource": "natural_gas_fired_combined_cycle"
          },
          {
           "gen_sum": 588.2,
           "hour": 70,
           "resource": "natural_gas_fired_combustion_turbine"
          },
          {
           "gen_sum": 21.4,
           "hour": 71,
           "resource": "biomass"
          },
          {
           "gen_sum": 42,
           "hour": 71,
           "resource": "hydroelectric_pumped_storage"
          },
          {
           "gen_sum": 2307.1,
           "hour": 71,
           "resource": "natural_gas_fired_combined_cycle"
          },
          {
           "gen_sum": 196.4,
           "hour": 71,
           "resource": "natural_gas_fired_combustion_turbine"
          },
          {
           "gen_sum": 21.4,
           "hour": 72,
           "resource": "biomass"
          },
          {
           "gen_sum": 42,
           "hour": 72,
           "resource": "hydroelectric_pumped_storage"
          },
          {
           "gen_sum": 2307.1,
           "hour": 72,
           "resource": "natural_gas_fired_combined_cycle"
          },
          {
           "gen_sum": 0,
           "hour": 72,
           "resource": "natural_gas_fired_combustion_turbine"
          },
          {
           "gen_sum": 0,
           "hour": 49,
           "resource": "non_served_energy"
          },
          {
           "gen_sum": 0,
           "hour": 50,
           "resource": "non_served_energy"
          },
          {
           "gen_sum": 0,
           "hour": 51,
           "resource": "non_served_energy"
          },
          {
           "gen_sum": 0,
           "hour": 52,
           "resource": "non_served_energy"
          },
          {
           "gen_sum": 0,
           "hour": 53,
           "resource": "non_served_energy"
          },
          {
           "gen_sum": 0,
           "hour": 54,
           "resource": "non_served_energy"
          },
          {
           "gen_sum": 0,
           "hour": 55,
           "resource": "non_served_energy"
          },
          {
           "gen_sum": 0,
           "hour": 56,
           "resource": "non_served_energy"
          },
          {
           "gen_sum": 0,
           "hour": 57,
           "resource": "non_served_energy"
          },
          {
           "gen_sum": 0,
           "hour": 58,
           "resource": "non_served_energy"
          },
          {
           "gen_sum": 0,
           "hour": 59,
           "resource": "non_served_energy"
          },
          {
           "gen_sum": 0,
           "hour": 60,
           "resource": "non_served_energy"
          },
          {
           "gen_sum": 0,
           "hour": 61,
           "resource": "non_served_energy"
          },
          {
           "gen_sum": 0,
           "hour": 62,
           "resource": "non_served_energy"
          },
          {
           "gen_sum": 12.567031999999813,
           "hour": 63,
           "resource": "non_served_energy"
          },
          {
           "gen_sum": 148.35439200000008,
           "hour": 64,
           "resource": "non_served_energy"
          },
          {
           "gen_sum": 317.07591200000013,
           "hour": 65,
           "resource": "non_served_energy"
          },
          {
           "gen_sum": 206.2412720000001,
           "hour": 66,
           "resource": "non_served_energy"
          },
          {
           "gen_sum": 72.29463200000043,
           "hour": 67,
           "resource": "non_served_energy"
          },
          {
           "gen_sum": 211.05991200000142,
           "hour": 68,
           "resource": "non_served_energy"
          },
          {
           "gen_sum": 180.14439200000095,
           "hour": 69,
           "resource": "non_served_energy"
          },
          {
           "gen_sum": 208.9827920000006,
           "hour": 70,
           "resource": "non_served_energy"
          },
          {
           "gen_sum": 222.82535200000018,
           "hour": 71,
           "resource": "non_served_energy"
          },
          {
           "gen_sum": 96.27815199999975,
           "hour": 72,
           "resource": "non_served_energy"
          },
          {
           "gen_sum": 21.4,
           "hour": 73,
           "resource": "biomass"
          },
          {
           "gen_sum": 42,
           "hour": 73,
           "resource": "hydroelectric_pumped_storage"
          },
          {
           "gen_sum": 2193.541672,
           "hour": 73,
           "resource": "natural_gas_fired_combined_cycle"
          },
          {
           "gen_sum": 0,
           "hour": 73,
           "resource": "natural_gas_fired_combustion_turbine"
          },
          {
           "gen_sum": 21.4,
           "hour": 74,
           "resource": "biomass"
          },
          {
           "gen_sum": 42,
           "hour": 74,
           "resource": "hydroelectric_pumped_storage"
          },
          {
           "gen_sum": 2046.4939919999997,
           "hour": 74,
           "resource": "natural_gas_fired_combined_cycle"
          },
          {
           "gen_sum": 0,
           "hour": 74,
           "resource": "natural_gas_fired_combustion_turbine"
          },
          {
           "gen_sum": 21.4,
           "hour": 75,
           "resource": "biomass"
          },
          {
           "gen_sum": 42,
           "hour": 75,
           "resource": "hydroelectric_pumped_storage"
          },
          {
           "gen_sum": 1996.254312,
           "hour": 75,
           "resource": "natural_gas_fired_combined_cycle"
          },
          {
           "gen_sum": 0,
           "hour": 75,
           "resource": "natural_gas_fired_combustion_turbine"
          },
          {
           "gen_sum": 21.4,
           "hour": 76,
           "resource": "biomass"
          },
          {
           "gen_sum": 42,
           "hour": 76,
           "resource": "hydroelectric_pumped_storage"
          },
          {
           "gen_sum": 2040.423272,
           "hour": 76,
           "resource": "natural_gas_fired_combined_cycle"
          },
          {
           "gen_sum": 0,
           "hour": 76,
           "resource": "natural_gas_fired_combustion_turbine"
          },
          {
           "gen_sum": 21.4,
           "hour": 77,
           "resource": "biomass"
          },
          {
           "gen_sum": 42,
           "hour": 77,
           "resource": "hydroelectric_pumped_storage"
          },
          {
           "gen_sum": 2124.675752,
           "hour": 77,
           "resource": "natural_gas_fired_combined_cycle"
          },
          {
           "gen_sum": 0,
           "hour": 77,
           "resource": "natural_gas_fired_combustion_turbine"
          },
          {
           "gen_sum": 21.4,
           "hour": 78,
           "resource": "biomass"
          },
          {
           "gen_sum": 42,
           "hour": 78,
           "resource": "hydroelectric_pumped_storage"
          },
          {
           "gen_sum": 2265.908552,
           "hour": 78,
           "resource": "natural_gas_fired_combined_cycle"
          },
          {
           "gen_sum": 0,
           "hour": 78,
           "resource": "natural_gas_fired_combustion_turbine"
          },
          {
           "gen_sum": 21.4,
           "hour": 79,
           "resource": "biomass"
          },
          {
           "gen_sum": 42,
           "hour": 79,
           "resource": "hydroelectric_pumped_storage"
          },
          {
           "gen_sum": 2062.426632,
           "hour": 79,
           "resource": "natural_gas_fired_combined_cycle"
          },
          {
           "gen_sum": 0,
           "hour": 79,
           "resource": "natural_gas_fired_combustion_turbine"
          },
          {
           "gen_sum": 21.4,
           "hour": 80,
           "resource": "biomass"
          },
          {
           "gen_sum": 42,
           "hour": 80,
           "resource": "hydroelectric_pumped_storage"
          },
          {
           "gen_sum": 1997.9446320000002,
           "hour": 80,
           "resource": "natural_gas_fired_combined_cycle"
          },
          {
           "gen_sum": 0,
           "hour": 80,
           "resource": "natural_gas_fired_combustion_turbine"
          },
          {
           "gen_sum": 21.4,
           "hour": 81,
           "resource": "biomass"
          },
          {
           "gen_sum": 42,
           "hour": 81,
           "resource": "hydroelectric_pumped_storage"
          },
          {
           "gen_sum": 1906.765592,
           "hour": 81,
           "resource": "natural_gas_fired_combined_cycle"
          },
          {
           "gen_sum": 0,
           "hour": 81,
           "resource": "natural_gas_fired_combustion_turbine"
          },
          {
           "gen_sum": 21.4,
           "hour": 82,
           "resource": "biomass"
          },
          {
           "gen_sum": 42,
           "hour": 82,
           "resource": "hydroelectric_pumped_storage"
          },
          {
           "gen_sum": 2033.4943119999998,
           "hour": 82,
           "resource": "natural_gas_fired_combined_cycle"
          },
          {
           "gen_sum": 0,
           "hour": 82,
           "resource": "natural_gas_fired_combustion_turbine"
          },
          {
           "gen_sum": 21.4,
           "hour": 83,
           "resource": "biomass"
          },
          {
           "gen_sum": 42,
           "hour": 83,
           "resource": "hydroelectric_pumped_storage"
          },
          {
           "gen_sum": 2033.9295120000002,
           "hour": 83,
           "resource": "natural_gas_fired_combined_cycle"
          },
          {
           "gen_sum": 0,
           "hour": 83,
           "resource": "natural_gas_fired_combustion_turbine"
          },
          {
           "gen_sum": 21.4,
           "hour": 84,
           "resource": "biomass"
          },
          {
           "gen_sum": 42,
           "hour": 84,
           "resource": "hydroelectric_pumped_storage"
          },
          {
           "gen_sum": 2257.416952,
           "hour": 84,
           "resource": "natural_gas_fired_combined_cycle"
          },
          {
           "gen_sum": 0,
           "hour": 84,
           "resource": "natural_gas_fired_combustion_turbine"
          },
          {
           "gen_sum": 21.4,
           "hour": 85,
           "resource": "biomass"
          },
          {
           "gen_sum": 42,
           "hour": 85,
           "resource": "hydroelectric_pumped_storage"
          },
          {
           "gen_sum": 2328.569352,
           "hour": 85,
           "resource": "natural_gas_fired_combined_cycle"
          },
          {
           "gen_sum": 0,
           "hour": 85,
           "resource": "natural_gas_fired_combustion_turbine"
          },
          {
           "gen_sum": 21.4,
           "hour": 86,
           "resource": "biomass"
          },
          {
           "gen_sum": 42,
           "hour": 86,
           "resource": "hydroelectric_pumped_storage"
          },
          {
           "gen_sum": 2455.9876719999997,
           "hour": 86,
           "resource": "natural_gas_fired_combined_cycle"
          },
          {
           "gen_sum": 0,
           "hour": 86,
           "resource": "natural_gas_fired_combustion_turbine"
          },
          {
           "gen_sum": 21.4,
           "hour": 87,
           "resource": "biomass"
          },
          {
           "gen_sum": 42,
           "hour": 87,
           "resource": "hydroelectric_pumped_storage"
          },
          {
           "gen_sum": 2616.431672,
           "hour": 87,
           "resource": "natural_gas_fired_combined_cycle"
          },
          {
           "gen_sum": 0,
           "hour": 87,
           "resource": "natural_gas_fired_combustion_turbine"
          },
          {
           "gen_sum": 21.4,
           "hour": 88,
           "resource": "biomass"
          },
          {
           "gen_sum": 42,
           "hour": 88,
           "resource": "hydroelectric_pumped_storage"
          },
          {
           "gen_sum": 2780.9995919999997,
           "hour": 88,
           "resource": "natural_gas_fired_combined_cycle"
          },
          {
           "gen_sum": 0,
           "hour": 88,
           "resource": "natural_gas_fired_combustion_turbine"
          },
          {
           "gen_sum": 21.4,
           "hour": 89,
           "resource": "biomass"
          },
          {
           "gen_sum": 42,
           "hour": 89,
           "resource": "hydroelectric_pumped_storage"
          },
          {
           "gen_sum": 2807.1,
           "hour": 89,
           "resource": "natural_gas_fired_combined_cycle"
          },
          {
           "gen_sum": 0,
           "hour": 89,
           "resource": "natural_gas_fired_combustion_turbine"
          },
          {
           "gen_sum": 21.4,
           "hour": 90,
           "resource": "biomass"
          },
          {
           "gen_sum": 42,
           "hour": 90,
           "resource": "hydroelectric_pumped_storage"
          },
          {
           "gen_sum": 2807.1,
           "hour": 90,
           "resource": "natural_gas_fired_combined_cycle"
          },
          {
           "gen_sum": 246.3,
           "hour": 90,
           "resource": "natural_gas_fired_combustion_turbine"
          },
          {
           "gen_sum": 21.4,
           "hour": 91,
           "resource": "biomass"
          },
          {
           "gen_sum": 42,
           "hour": 91,
           "resource": "hydroelectric_pumped_storage"
          },
          {
           "gen_sum": 2807.1,
           "hour": 91,
           "resource": "natural_gas_fired_combined_cycle"
          },
          {
           "gen_sum": 589,
           "hour": 91,
           "resource": "natural_gas_fired_combustion_turbine"
          },
          {
           "gen_sum": 21.4,
           "hour": 92,
           "resource": "biomass"
          },
          {
           "gen_sum": 42,
           "hour": 92,
           "resource": "hydroelectric_pumped_storage"
          },
          {
           "gen_sum": 2807.1,
           "hour": 92,
           "resource": "natural_gas_fired_combined_cycle"
          },
          {
           "gen_sum": 910.8970320000013,
           "hour": 92,
           "resource": "natural_gas_fired_combustion_turbine"
          },
          {
           "gen_sum": 21.4,
           "hour": 93,
           "resource": "biomass"
          },
          {
           "gen_sum": 42,
           "hour": 93,
           "resource": "hydroelectric_pumped_storage"
          },
          {
           "gen_sum": 2807.1,
           "hour": 93,
           "resource": "natural_gas_fired_combined_cycle"
          },
          {
           "gen_sum": 726.7520720000009,
           "hour": 93,
           "resource": "natural_gas_fired_combustion_turbine"
          },
          {
           "gen_sum": 21.4,
           "hour": 94,
           "resource": "biomass"
          },
          {
           "gen_sum": 42,
           "hour": 94,
           "resource": "hydroelectric_pumped_storage"
          },
          {
           "gen_sum": 2807.1,
           "hour": 94,
           "resource": "natural_gas_fired_combined_cycle"
          },
          {
           "gen_sum": 412.9373520000004,
           "hour": 94,
           "resource": "natural_gas_fired_combustion_turbine"
          },
          {
           "gen_sum": 21.4,
           "hour": 95,
           "resource": "biomass"
          },
          {
           "gen_sum": 42,
           "hour": 95,
           "resource": "hydroelectric_pumped_storage"
          },
          {
           "gen_sum": 2757.828672,
           "hour": 95,
           "resource": "natural_gas_fired_combined_cycle"
          },
          {
           "gen_sum": 45.321,
           "hour": 95,
           "resource": "natural_gas_fired_combustion_turbine"
          },
          {
           "gen_sum": 21.4,
           "hour": 96,
           "resource": "biomass"
          },
          {
           "gen_sum": 42,
           "hour": 96,
           "resource": "hydroelectric_pumped_storage"
          },
          {
           "gen_sum": 2451.881332,
           "hour": 96,
           "resource": "natural_gas_fired_combined_cycle"
          },
          {
           "gen_sum": 21.0197,
           "hour": 96,
           "resource": "natural_gas_fired_combustion_turbine"
          },
          {
           "gen_sum": 0,
           "hour": 73,
           "resource": "non_served_energy"
          },
          {
           "gen_sum": 0,
           "hour": 74,
           "resource": "non_served_energy"
          },
          {
           "gen_sum": 0,
           "hour": 75,
           "resource": "non_served_energy"
          },
          {
           "gen_sum": 0,
           "hour": 76,
           "resource": "non_served_energy"
          },
          {
           "gen_sum": 0,
           "hour": 77,
           "resource": "non_served_energy"
          },
          {
           "gen_sum": 0,
           "hour": 78,
           "resource": "non_served_energy"
          },
          {
           "gen_sum": 0,
           "hour": 79,
           "resource": "non_served_energy"
          },
          {
           "gen_sum": 0,
           "hour": 80,
           "resource": "non_served_energy"
          },
          {
           "gen_sum": 0,
           "hour": 81,
           "resource": "non_served_energy"
          },
          {
           "gen_sum": 0,
           "hour": 82,
           "resource": "non_served_energy"
          },
          {
           "gen_sum": 0,
           "hour": 83,
           "resource": "non_served_energy"
          },
          {
           "gen_sum": 0,
           "hour": 84,
           "resource": "non_served_energy"
          },
          {
           "gen_sum": 0,
           "hour": 85,
           "resource": "non_served_energy"
          },
          {
           "gen_sum": 0,
           "hour": 86,
           "resource": "non_served_energy"
          },
          {
           "gen_sum": 0,
           "hour": 87,
           "resource": "non_served_energy"
          },
          {
           "gen_sum": 0,
           "hour": 88,
           "resource": "non_served_energy"
          },
          {
           "gen_sum": 140.88279200000022,
           "hour": 89,
           "resource": "non_served_energy"
          },
          {
           "gen_sum": 213.38239200000032,
           "hour": 90,
           "resource": "non_served_energy"
          },
          {
           "gen_sum": 206.99623200000076,
           "hour": 91,
           "resource": "non_served_energy"
          },
          {
           "gen_sum": 0,
           "hour": 92,
           "resource": "non_served_energy"
          },
          {
           "gen_sum": 0,
           "hour": 93,
           "resource": "non_served_energy"
          },
          {
           "gen_sum": 0,
           "hour": 94,
           "resource": "non_served_energy"
          },
          {
           "gen_sum": 0,
           "hour": 95,
           "resource": "non_served_energy"
          },
          {
           "gen_sum": 0,
           "hour": 96,
           "resource": "non_served_energy"
          },
          {
           "gen_sum": 21.4,
           "hour": 97,
           "resource": "biomass"
          },
          {
           "gen_sum": 42,
           "hour": 97,
           "resource": "hydroelectric_pumped_storage"
          },
          {
           "gen_sum": 2268.8779919999997,
           "hour": 97,
           "resource": "natural_gas_fired_combined_cycle"
          },
          {
           "gen_sum": 0,
           "hour": 97,
           "resource": "natural_gas_fired_combustion_turbine"
          },
          {
           "gen_sum": 21.4,
           "hour": 98,
           "resource": "biomass"
          },
          {
           "gen_sum": 42,
           "hour": 98,
           "resource": "hydroelectric_pumped_storage"
          },
          {
           "gen_sum": 2120.6143119999997,
           "hour": 98,
           "resource": "natural_gas_fired_combined_cycle"
          },
          {
           "gen_sum": 0,
           "hour": 98,
           "resource": "natural_gas_fired_combustion_turbine"
          },
          {
           "gen_sum": 21.4,
           "hour": 99,
           "resource": "biomass"
          },
          {
           "gen_sum": 42,
           "hour": 99,
           "resource": "hydroelectric_pumped_storage"
          },
          {
           "gen_sum": 2020.901992,
           "hour": 99,
           "resource": "natural_gas_fired_combined_cycle"
          },
          {
           "gen_sum": 0,
           "hour": 99,
           "resource": "natural_gas_fired_combustion_turbine"
          },
          {
           "gen_sum": 21.4,
           "hour": 100,
           "resource": "biomass"
          },
          {
           "gen_sum": 42,
           "hour": 100,
           "resource": "hydroelectric_pumped_storage"
          },
          {
           "gen_sum": 2053.469992,
           "hour": 100,
           "resource": "natural_gas_fired_combined_cycle"
          },
          {
           "gen_sum": 0,
           "hour": 100,
           "resource": "natural_gas_fired_combustion_turbine"
          },
          {
           "gen_sum": 21.4,
           "hour": 101,
           "resource": "biomass"
          },
          {
           "gen_sum": 42,
           "hour": 101,
           "resource": "hydroelectric_pumped_storage"
          },
          {
           "gen_sum": 2143.8235919999997,
           "hour": 101,
           "resource": "natural_gas_fired_combined_cycle"
          },
          {
           "gen_sum": 0,
           "hour": 101,
           "resource": "natural_gas_fired_combustion_turbine"
          },
          {
           "gen_sum": 21.4,
           "hour": 102,
           "resource": "biomass"
          },
          {
           "gen_sum": 42,
           "hour": 102,
           "resource": "hydroelectric_pumped_storage"
          },
          {
           "gen_sum": 2331.367592,
           "hour": 102,
           "resource": "natural_gas_fired_combined_cycle"
          },
          {
           "gen_sum": 0,
           "hour": 102,
           "resource": "natural_gas_fired_combustion_turbine"
          },
          {
           "gen_sum": 21.4,
           "hour": 103,
           "resource": "biomass"
          },
          {
           "gen_sum": 42,
           "hour": 103,
           "resource": "hydroelectric_pumped_storage"
          },
          {
           "gen_sum": 2068.053672,
           "hour": 103,
           "resource": "natural_gas_fired_combined_cycle"
          },
          {
           "gen_sum": 0,
           "hour": 103,
           "resource": "natural_gas_fired_combustion_turbine"
          },
          {
           "gen_sum": 21.4,
           "hour": 104,
           "resource": "biomass"
          },
          {
           "gen_sum": 42,
           "hour": 104,
           "resource": "hydroelectric_pumped_storage"
          },
          {
           "gen_sum": 2019.1041519999999,
           "hour": 104,
           "resource": "natural_gas_fired_combined_cycle"
          },
          {
           "gen_sum": 0,
           "hour": 104,
           "resource": "natural_gas_fired_combustion_turbine"
          },
          {
           "gen_sum": 21.4,
           "hour": 105,
           "resource": "biomass"
          },
          {
           "gen_sum": 42,
           "hour": 105,
           "resource": "hydroelectric_pumped_storage"
          },
          {
           "gen_sum": 2029.6674319999997,
           "hour": 105,
           "resource": "natural_gas_fired_combined_cycle"
          },
          {
           "gen_sum": 0,
           "hour": 105,
           "resource": "natural_gas_fired_combustion_turbine"
          },
          {
           "gen_sum": 21.4,
           "hour": 106,
           "resource": "biomass"
          },
          {
           "gen_sum": 42,
           "hour": 106,
           "resource": "hydroelectric_pumped_storage"
          },
          {
           "gen_sum": 2233.2056719999996,
           "hour": 106,
           "resource": "natural_gas_fired_combined_cycle"
          },
          {
           "gen_sum": 0,
           "hour": 106,
           "resource": "natural_gas_fired_combustion_turbine"
          },
          {
           "gen_sum": 21.4,
           "hour": 107,
           "resource": "biomass"
          },
          {
           "gen_sum": 42,
           "hour": 107,
           "resource": "hydroelectric_pumped_storage"
          },
          {
           "gen_sum": 2500.865352,
           "hour": 107,
           "resource": "natural_gas_fired_combined_cycle"
          },
          {
           "gen_sum": 0,
           "hour": 107,
           "resource": "natural_gas_fired_combustion_turbine"
          },
          {
           "gen_sum": 21.4,
           "hour": 108,
           "resource": "biomass"
          },
          {
           "gen_sum": 42,
           "hour": 108,
           "resource": "hydroelectric_pumped_storage"
          },
          {
           "gen_sum": 2630.514232,
           "hour": 108,
           "resource": "natural_gas_fired_combined_cycle"
          },
          {
           "gen_sum": 0,
           "hour": 108,
           "resource": "natural_gas_fired_combustion_turbine"
          },
          {
           "gen_sum": 21.4,
           "hour": 109,
           "resource": "biomass"
          },
          {
           "gen_sum": 42,
           "hour": 109,
           "resource": "hydroelectric_pumped_storage"
          },
          {
           "gen_sum": 2492.226952,
           "hour": 109,
           "resource": "natural_gas_fired_combined_cycle"
          },
          {
           "gen_sum": 0,
           "hour": 109,
           "resource": "natural_gas_fired_combustion_turbine"
          },
          {
           "gen_sum": 21.4,
           "hour": 110,
           "resource": "biomass"
          },
          {
           "gen_sum": 42,
           "hour": 110,
           "resource": "hydroelectric_pumped_storage"
          },
          {
           "gen_sum": 2682.736312,
           "hour": 110,
           "resource": "natural_gas_fired_combined_cycle"
          },
          {
           "gen_sum": 0,
           "hour": 110,
           "resource": "natural_gas_fired_combustion_turbine"
          },
          {
           "gen_sum": 21.4,
           "hour": 111,
           "resource": "biomass"
          },
          {
           "gen_sum": 42,
           "hour": 111,
           "resource": "hydroelectric_pumped_storage"
          },
          {
           "gen_sum": 2807.1,
           "hour": 111,
           "resource": "natural_gas_fired_combined_cycle"
          },
          {
           "gen_sum": 0,
           "hour": 111,
           "resource": "natural_gas_fired_combustion_turbine"
          },
          {
           "gen_sum": 21.4,
           "hour": 112,
           "resource": "biomass"
          },
          {
           "gen_sum": 42,
           "hour": 112,
           "resource": "hydroelectric_pumped_storage"
          },
          {
           "gen_sum": 2807.1,
           "hour": 112,
           "resource": "natural_gas_fired_combined_cycle"
          },
          {
           "gen_sum": 148.1,
           "hour": 112,
           "resource": "natural_gas_fired_combustion_turbine"
          },
          {
           "gen_sum": 21.4,
           "hour": 113,
           "resource": "biomass"
          },
          {
           "gen_sum": 42,
           "hour": 113,
           "resource": "hydroelectric_pumped_storage"
          },
          {
           "gen_sum": 2807.1,
           "hour": 113,
           "resource": "natural_gas_fired_combined_cycle"
          },
          {
           "gen_sum": 344.5,
           "hour": 113,
           "resource": "natural_gas_fired_combustion_turbine"
          },
          {
           "gen_sum": 21.4,
           "hour": 114,
           "resource": "biomass"
          },
          {
           "gen_sum": 42,
           "hour": 114,
           "resource": "hydroelectric_pumped_storage"
          },
          {
           "gen_sum": 2807.1,
           "hour": 114,
           "resource": "natural_gas_fired_combined_cycle"
          },
          {
           "gen_sum": 637.5,
           "hour": 114,
           "resource": "natural_gas_fired_combustion_turbine"
          },
          {
           "gen_sum": 21.4,
           "hour": 115,
           "resource": "biomass"
          },
          {
           "gen_sum": 42,
           "hour": 115,
           "resource": "hydroelectric_pumped_storage"
          },
          {
           "gen_sum": 2807.1,
           "hour": 115,
           "resource": "natural_gas_fired_combined_cycle"
          },
          {
           "gen_sum": 880.0346320000004,
           "hour": 115,
           "resource": "natural_gas_fired_combustion_turbine"
          },
          {
           "gen_sum": 21.4,
           "hour": 116,
           "resource": "biomass"
          },
          {
           "gen_sum": 42,
           "hour": 116,
           "resource": "hydroelectric_pumped_storage"
          },
          {
           "gen_sum": 2807.1,
           "hour": 116,
           "resource": "natural_gas_fired_combined_cycle"
          },
          {
           "gen_sum": 869.8186320000005,
           "hour": 116,
           "resource": "natural_gas_fired_combustion_turbine"
          },
          {
           "gen_sum": 21.4,
           "hour": 117,
           "resource": "biomass"
          },
          {
           "gen_sum": 42,
           "hour": 117,
           "resource": "hydroelectric_pumped_storage"
          },
          {
           "gen_sum": 2807.1,
           "hour": 117,
           "resource": "natural_gas_fired_combined_cycle"
          },
          {
           "gen_sum": 755.6106320000002,
           "hour": 117,
           "resource": "natural_gas_fired_combustion_turbine"
          },
          {
           "gen_sum": 21.4,
           "hour": 118,
           "resource": "biomass"
          },
          {
           "gen_sum": 42,
           "hour": 118,
           "resource": "hydroelectric_pumped_storage"
          },
          {
           "gen_sum": 2807.1,
           "hour": 118,
           "resource": "natural_gas_fired_combined_cycle"
          },
          {
           "gen_sum": 466.9549520000005,
           "hour": 118,
           "resource": "natural_gas_fired_combustion_turbine"
          },
          {
           "gen_sum": 21.4,
           "hour": 119,
           "resource": "biomass"
          },
          {
           "gen_sum": 42,
           "hour": 119,
           "resource": "hydroelectric_pumped_storage"
          },
          {
           "gen_sum": 2807.1,
           "hour": 119,
           "resource": "natural_gas_fired_combined_cycle"
          },
          {
           "gen_sum": 59.22631199999962,
           "hour": 119,
           "resource": "natural_gas_fired_combustion_turbine"
          },
          {
           "gen_sum": 21.4,
           "hour": 120,
           "resource": "biomass"
          },
          {
           "gen_sum": 42,
           "hour": 120,
           "resource": "hydroelectric_pumped_storage"
          },
          {
           "gen_sum": 2527.8408719999998,
           "hour": 120,
           "resource": "natural_gas_fired_combined_cycle"
          },
          {
           "gen_sum": 0,
           "hour": 120,
           "resource": "natural_gas_fired_combustion_turbine"
          },
          {
           "gen_sum": 0,
           "hour": 97,
           "resource": "non_served_energy"
          },
          {
           "gen_sum": 0,
           "hour": 98,
           "resource": "non_served_energy"
          },
          {
           "gen_sum": 0,
           "hour": 99,
           "resource": "non_served_energy"
          },
          {
           "gen_sum": 0,
           "hour": 100,
           "resource": "non_served_energy"
          },
          {
           "gen_sum": 0,
           "hour": 101,
           "resource": "non_served_energy"
          },
          {
           "gen_sum": 0,
           "hour": 102,
           "resource": "non_served_energy"
          },
          {
           "gen_sum": 0,
           "hour": 103,
           "resource": "non_served_energy"
          },
          {
           "gen_sum": 0,
           "hour": 104,
           "resource": "non_served_energy"
          },
          {
           "gen_sum": 0,
           "hour": 105,
           "resource": "non_served_energy"
          },
          {
           "gen_sum": 0,
           "hour": 106,
           "resource": "non_served_energy"
          },
          {
           "gen_sum": 0,
           "hour": 107,
           "resource": "non_served_energy"
          },
          {
           "gen_sum": 0,
           "hour": 108,
           "resource": "non_served_energy"
          },
          {
           "gen_sum": 0,
           "hour": 109,
           "resource": "non_served_energy"
          },
          {
           "gen_sum": 0,
           "hour": 110,
           "resource": "non_served_energy"
          },
          {
           "gen_sum": 112.29431199999988,
           "hour": 111,
           "resource": "non_served_energy"
          },
          {
           "gen_sum": 331.37623199999996,
           "hour": 112,
           "resource": "non_served_energy"
          },
          {
           "gen_sum": 147.17967200000055,
           "hour": 113,
           "resource": "non_served_energy"
          },
          {
           "gen_sum": 106.04159200000083,
           "hour": 114,
           "resource": "non_served_energy"
          },
          {
           "gen_sum": 0,
           "hour": 115,
           "resource": "non_served_energy"
          },
          {
           "gen_sum": 0,
           "hour": 116,
           "resource": "non_served_energy"
          },
          {
           "gen_sum": 0,
           "hour": 117,
           "resource": "non_served_energy"
          },
          {
           "gen_sum": 0,
           "hour": 118,
           "resource": "non_served_energy"
          },
          {
           "gen_sum": 0,
           "hour": 119,
           "resource": "non_served_energy"
          },
          {
           "gen_sum": 0,
           "hour": 120,
           "resource": "non_served_energy"
          }
         ]
        },
        {
         "name": "data_0",
         "source": "source_0",
         "transform": [
          {
           "as": "hour",
           "expr": "toNumber(datum[\"hour\"])",
           "type": "formula"
          },
          {
           "field": "gen_sum",
           "groupby": [
            "resource"
           ],
           "key": "hour",
           "method": "value",
           "type": "impute",
           "value": 0
          },
          {
           "as": [
            "gen_sum_start",
            "gen_sum_end"
           ],
           "field": "gen_sum",
           "groupby": [
            "hour"
           ],
           "offset": "zero",
           "sort": {
            "field": [
             "resource"
            ],
            "order": [
             "descending"
            ]
           },
           "type": "stack"
          }
         ]
        }
       ],
       "height": 200,
       "legends": [
        {
         "fill": "color",
         "symbolType": "circle",
         "title": "resource"
        }
       ],
       "marks": [
        {
         "encode": {
          "update": {
           "height": {
            "field": {
             "group": "height"
            }
           },
           "width": {
            "field": {
             "group": "width"
            }
           }
          }
         },
         "from": {
          "facet": {
           "data": "data_0",
           "groupby": [
            "resource"
           ],
           "name": "faceted_path_main"
          }
         },
         "marks": [
          {
           "encode": {
            "update": {
             "defined": {
              "signal": "isValid(datum[\"hour\"]) && isFinite(+datum[\"hour\"]) && isValid(datum[\"gen_sum\"]) && isFinite(+datum[\"gen_sum\"])"
             },
             "description": {
              "signal": "\"hour: \" + (format(datum[\"hour\"], \"\")) + \"; gen_sum: \" + (format(datum[\"gen_sum\"], \"\")) + \"; resource: \" + (isValid(datum[\"resource\"]) ? datum[\"resource\"] : \"\"+datum[\"resource\"])"
             },
             "fill": {
              "field": "resource",
              "scale": "color"
             },
             "orient": {
              "value": "vertical"
             },
             "x": {
              "field": "hour",
              "scale": "x"
             },
             "y": {
              "field": "gen_sum_end",
              "scale": "y"
             },
             "y2": {
              "field": "gen_sum_start",
              "scale": "y"
             }
            }
           },
           "from": {
            "data": "faceted_path_main"
           },
           "name": "marks",
           "sort": {
            "field": "datum[\"hour\"]"
           },
           "style": [
            "area"
           ],
           "type": "area"
          }
         ],
         "name": "pathgroup",
         "type": "group"
        }
       ],
       "padding": 5,
       "scales": [
        {
         "domain": {
          "data": "data_0",
          "field": "hour"
         },
         "name": "x",
         "nice": true,
         "range": [
          0,
          {
           "signal": "width"
          }
         ],
         "type": "linear",
         "zero": false
        },
        {
         "domain": {
          "data": "data_0",
          "fields": [
           "gen_sum_start",
           "gen_sum_end"
          ]
         },
         "name": "y",
         "nice": true,
         "range": [
          {
           "signal": "height"
          },
          0
         ],
         "type": "linear",
         "zero": true
        },
        {
         "domain": {
          "data": "data_0",
          "field": "resource",
          "sort": true
         },
         "name": "color",
         "range": {
          "scheme": "category10"
         },
         "type": "ordinal"
        }
       ],
       "style": "cell",
       "title": {
        "frame": "group",
        "text": "Dispatch results"
       },
       "width": 1000
      },
      "image/png": "[encoded data removed]",
      "image/svg+xml": [
       "<svg xmlns=\"http://www.w3.org/2000/svg\" xmlns:xlink=\"http://www.w3.org/1999/xlink\" version=\"1.1\" class=\"marks\" width=\"1250\" height=\"264\" viewBox=\"0 0 1250 264\"><rect width=\"1250\" height=\"264\" fill=\"white\"/><g fill=\"none\" stroke-miterlimit=\"10\" transform=\"translate(53,27)\"><g class=\"mark-group role-frame root\" role=\"graphics-object\" aria-roledescription=\"group mark container\"><g transform=\"translate(0,0)\"><path class=\"background\" aria-hidden=\"true\" d=\"M0.5,0.5h1000v200h-1000Z\" stroke=\"#ddd\"/><g><g class=\"mark-group role-axis\" aria-hidden=\"true\"><g transform=\"translate(0.5,200.5)\"><path class=\"background\" aria-hidden=\"true\" d=\"M0,0h0v0h0Z\" pointer-events=\"none\"/><g><g class=\"mark-rule role-axis-grid\" pointer-events=\"none\"><line transform=\"translate(0,-200)\" x2=\"0\" y2=\"200\" stroke=\"#ddd\" stroke-width=\"1\" opacity=\"1\"/><line transform=\"translate(42,-200)\" x2=\"0\" y2=\"200\" stroke=\"#ddd\" stroke-width=\"1\" opacity=\"1\"/><line transform=\"translate(83,-200)\" x2=\"0\" y2=\"200\" stroke=\"#ddd\" stroke-width=\"1\" opacity=\"1\"/><line transform=\"translate(125,-200)\" x2=\"0\" y2=\"200\" stroke=\"#ddd\" stroke-width=\"1\" opacity=\"1\"/><line transform=\"translate(167,-200)\" x2=\"0\" y2=\"200\" stroke=\"#ddd\" stroke-width=\"1\" opacity=\"1\"/><line transform=\"translate(208,-200)\" x2=\"0\" y2=\"200\" stroke=\"#ddd\" stroke-width=\"1\" opacity=\"1\"/><line transform=\"translate(250,-200)\" x2=\"0\" y2=\"200\" stroke=\"#ddd\" stroke-width=\"1\" opacity=\"1\"/><line transform=\"translate(292,-200)\" x2=\"0\" y2=\"200\" stroke=\"#ddd\" stroke-width=\"1\" opacity=\"1\"/><line transform=\"translate(333,-200)\" x2=\"0\" y2=\"200\" stroke=\"#ddd\" stroke-width=\"1\" opacity=\"1\"/><line transform=\"translate(375,-200)\" x2=\"0\" y2=\"200\" stroke=\"#ddd\" stroke-width=\"1\" opacity=\"1\"/><line transform=\"translate(417,-200)\" x2=\"0\" y2=\"200\" stroke=\"#ddd\" stroke-width=\"1\" opacity=\"1\"/><line transform=\"translate(458,-200)\" x2=\"0\" y2=\"200\" stroke=\"#ddd\" stroke-width=\"1\" opacity=\"1\"/><line transform=\"translate(500,-200)\" x2=\"0\" y2=\"200\" stroke=\"#ddd\" stroke-width=\"1\" opacity=\"1\"/><line transform=\"translate(542,-200)\" x2=\"0\" y2=\"200\" stroke=\"#ddd\" stroke-width=\"1\" opacity=\"1\"/><line transform=\"translate(583,-200)\" x2=\"0\" y2=\"200\" stroke=\"#ddd\" stroke-width=\"1\" opacity=\"1\"/><line transform=\"translate(625,-200)\" x2=\"0\" y2=\"200\" stroke=\"#ddd\" stroke-width=\"1\" opacity=\"1\"/><line transform=\"translate(667,-200)\" x2=\"0\" y2=\"200\" stroke=\"#ddd\" stroke-width=\"1\" opacity=\"1\"/><line transform=\"translate(708,-200)\" x2=\"0\" y2=\"200\" stroke=\"#ddd\" stroke-width=\"1\" opacity=\"1\"/><line transform=\"translate(750,-200)\" x2=\"0\" y2=\"200\" stroke=\"#ddd\" stroke-width=\"1\" opacity=\"1\"/><line transform=\"translate(792,-200)\" x2=\"0\" y2=\"200\" stroke=\"#ddd\" stroke-width=\"1\" opacity=\"1\"/><line transform=\"translate(833,-200)\" x2=\"0\" y2=\"200\" stroke=\"#ddd\" stroke-width=\"1\" opacity=\"1\"/><line transform=\"translate(875,-200)\" x2=\"0\" y2=\"200\" stroke=\"#ddd\" stroke-width=\"1\" opacity=\"1\"/><line transform=\"translate(917,-200)\" x2=\"0\" y2=\"200\" stroke=\"#ddd\" stroke-width=\"1\" opacity=\"1\"/><line transform=\"translate(958,-200)\" x2=\"0\" y2=\"200\" stroke=\"#ddd\" stroke-width=\"1\" opacity=\"1\"/><line transform=\"translate(1000,-200)\" x2=\"0\" y2=\"200\" stroke=\"#ddd\" stroke-width=\"1\" opacity=\"1\"/></g></g><path class=\"foreground\" aria-hidden=\"true\" d=\"\" pointer-events=\"none\" display=\"none\"/></g></g><g class=\"mark-group role-axis\" aria-hidden=\"true\"><g transform=\"translate(0.5,0.5)\"><path class=\"background\" aria-hidden=\"true\" d=\"M0,0h0v0h0Z\" pointer-events=\"none\"/><g><g class=\"mark-rule role-axis-grid\" pointer-events=\"none\"><line transform=\"translate(0,200)\" x2=\"1000\" y2=\"0\" stroke=\"#ddd\" stroke-width=\"1\" opacity=\"1\"/><line transform=\"translate(0,150)\" x2=\"1000\" y2=\"0\" stroke=\"#ddd\" stroke-width=\"1\" opacity=\"1\"/><line transform=\"translate(0,100)\" x2=\"1000\" y2=\"0\" stroke=\"#ddd\" stroke-width=\"1\" opacity=\"1\"/><line transform=\"translate(0,50)\" x2=\"1000\" y2=\"0\" stroke=\"#ddd\" stroke-width=\"1\" opacity=\"1\"/><line transform=\"translate(0,0)\" x2=\"1000\" y2=\"0\" stroke=\"#ddd\" stroke-width=\"1\" opacity=\"1\"/></g></g><path class=\"foreground\" aria-hidden=\"true\" d=\"\" pointer-events=\"none\" display=\"none\"/></g></g><g class=\"mark-group role-axis\" role=\"graphics-symbol\" aria-roledescription=\"axis\" aria-label=\"X-axis titled 'hour' for a linear scale with values from 0 to 120\"><g transform=\"translate(0.5,200.5)\"><path class=\"background\" aria-hidden=\"true\" d=\"M0,0h0v0h0Z\" pointer-events=\"none\"/><g><g class=\"mark-rule role-axis-tick\" pointer-events=\"none\"><line transform=\"translate(0,0)\" x2=\"0\" y2=\"5\" stroke=\"#888\" stroke-width=\"1\" opacity=\"1\"/><line transform=\"translate(42,0)\" x2=\"0\" y2=\"5\" stroke=\"#888\" stroke-width=\"1\" opacity=\"1\"/><line transform=\"translate(83,0)\" x2=\"0\" y2=\"5\" stroke=\"#888\" stroke-width=\"1\" opacity=\"1\"/><line transform=\"translate(125,0)\" x2=\"0\" y2=\"5\" stroke=\"#888\" stroke-width=\"1\" opacity=\"1\"/><line transform=\"translate(167,0)\" x2=\"0\" y2=\"5\" stroke=\"#888\" stroke-width=\"1\" opacity=\"1\"/><line transform=\"translate(208,0)\" x2=\"0\" y2=\"5\" stroke=\"#888\" stroke-width=\"1\" opacity=\"1\"/><line transform=\"translate(250,0)\" x2=\"0\" y2=\"5\" stroke=\"#888\" stroke-width=\"1\" opacity=\"1\"/><line transform=\"translate(292,0)\" x2=\"0\" y2=\"5\" stroke=\"#888\" stroke-width=\"1\" opacity=\"1\"/><line transform=\"translate(333,0)\" x2=\"0\" y2=\"5\" stroke=\"#888\" stroke-width=\"1\" opacity=\"1\"/><line transform=\"translate(375,0)\" x2=\"0\" y2=\"5\" stroke=\"#888\" stroke-width=\"1\" opacity=\"1\"/><line transform=\"translate(417,0)\" x2=\"0\" y2=\"5\" stroke=\"#888\" stroke-width=\"1\" opacity=\"1\"/><line transform=\"translate(458,0)\" x2=\"0\" y2=\"5\" stroke=\"#888\" stroke-width=\"1\" opacity=\"1\"/><line transform=\"translate(500,0)\" x2=\"0\" y2=\"5\" stroke=\"#888\" stroke-width=\"1\" opacity=\"1\"/><line transform=\"translate(542,0)\" x2=\"0\" y2=\"5\" stroke=\"#888\" stroke-width=\"1\" opacity=\"1\"/><line transform=\"translate(583,0)\" x2=\"0\" y2=\"5\" stroke=\"#888\" stroke-width=\"1\" opacity=\"1\"/><line transform=\"translate(625,0)\" x2=\"0\" y2=\"5\" stroke=\"#888\" stroke-width=\"1\" opacity=\"1\"/><line transform=\"translate(667,0)\" x2=\"0\" y2=\"5\" stroke=\"#888\" stroke-width=\"1\" opacity=\"1\"/><line transform=\"translate(708,0)\" x2=\"0\" y2=\"5\" stroke=\"#888\" stroke-width=\"1\" opacity=\"1\"/><line transform=\"translate(750,0)\" x2=\"0\" y2=\"5\" stroke=\"#888\" stroke-width=\"1\" opacity=\"1\"/><line transform=\"translate(792,0)\" x2=\"0\" y2=\"5\" stroke=\"#888\" stroke-width=\"1\" opacity=\"1\"/><line transform=\"translate(833,0)\" x2=\"0\" y2=\"5\" stroke=\"#888\" stroke-width=\"1\" opacity=\"1\"/><line transform=\"translate(875,0)\" x2=\"0\" y2=\"5\" stroke=\"#888\" stroke-width=\"1\" opacity=\"1\"/><line transform=\"translate(917,0)\" x2=\"0\" y2=\"5\" stroke=\"#888\" stroke-width=\"1\" opacity=\"1\"/><line transform=\"translate(958,0)\" x2=\"0\" y2=\"5\" stroke=\"#888\" stroke-width=\"1\" opacity=\"1\"/><line transform=\"translate(1000,0)\" x2=\"0\" y2=\"5\" stroke=\"#888\" stroke-width=\"1\" opacity=\"1\"/></g><g class=\"mark-text role-axis-label\" pointer-events=\"none\"><text text-anchor=\"start\" transform=\"translate(0,15)\" font-family=\"sans-serif\" font-size=\"10px\" fill=\"#000\" opacity=\"1\">0</text><text text-anchor=\"middle\" transform=\"translate(41.666666666666664,15)\" font-family=\"sans-serif\" font-size=\"10px\" fill=\"#000\" opacity=\"1\">5</text><text text-anchor=\"middle\" transform=\"translate(83.33333333333333,15)\" font-family=\"sans-serif\" font-size=\"10px\" fill=\"#000\" opacity=\"1\">10</text><text text-anchor=\"middle\" transform=\"translate(125,15)\" font-family=\"sans-serif\" font-size=\"10px\" fill=\"#000\" opacity=\"1\">15</text><text text-anchor=\"middle\" transform=\"translate(166.66666666666666,15)\" font-family=\"sans-serif\" font-size=\"10px\" fill=\"#000\" opacity=\"1\">20</text><text text-anchor=\"middle\" transform=\"translate(208.33333333333334,15)\" font-family=\"sans-serif\" font-size=\"10px\" fill=\"#000\" opacity=\"1\">25</text><text text-anchor=\"middle\" transform=\"translate(250,15)\" font-family=\"sans-serif\" font-size=\"10px\" fill=\"#000\" opacity=\"1\">30</text><text text-anchor=\"middle\" transform=\"translate(291.6666666666667,15)\" font-family=\"sans-serif\" font-size=\"10px\" fill=\"#000\" opacity=\"1\">35</text><text text-anchor=\"middle\" transform=\"translate(333.3333333333333,15)\" font-family=\"sans-serif\" font-size=\"10px\" fill=\"#000\" opacity=\"1\">40</text><text text-anchor=\"middle\" transform=\"translate(375,15)\" font-family=\"sans-serif\" font-size=\"10px\" fill=\"#000\" opacity=\"1\">45</text><text text-anchor=\"middle\" transform=\"translate(416.6666666666667,15)\" font-family=\"sans-serif\" font-size=\"10px\" fill=\"#000\" opacity=\"1\">50</text><text text-anchor=\"middle\" transform=\"translate(458.3333333333333,15)\" font-family=\"sans-serif\" font-size=\"10px\" fill=\"#000\" opacity=\"1\">55</text><text text-anchor=\"middle\" transform=\"translate(500,15)\" font-family=\"sans-serif\" font-size=\"10px\" fill=\"#000\" opacity=\"1\">60</text><text text-anchor=\"middle\" transform=\"translate(541.6666666666666,15)\" font-family=\"sans-serif\" font-size=\"10px\" fill=\"#000\" opacity=\"1\">65</text><text text-anchor=\"middle\" transform=\"translate(583.3333333333334,15)\" font-family=\"sans-serif\" font-size=\"10px\" fill=\"#000\" opacity=\"1\">70</text><text text-anchor=\"middle\" transform=\"translate(625,15)\" font-family=\"sans-serif\" font-size=\"10px\" fill=\"#000\" opacity=\"1\">75</text><text text-anchor=\"middle\" transform=\"translate(666.6666666666666,15)\" font-family=\"sans-serif\" font-size=\"10px\" fill=\"#000\" opacity=\"1\">80</text><text text-anchor=\"middle\" transform=\"translate(708.3333333333334,15)\" font-family=\"sans-serif\" font-size=\"10px\" fill=\"#000\" opacity=\"1\">85</text><text text-anchor=\"middle\" transform=\"translate(750,15)\" font-family=\"sans-serif\" font-size=\"10px\" fill=\"#000\" opacity=\"1\">90</text><text text-anchor=\"middle\" transform=\"translate(791.6666666666666,15)\" font-family=\"sans-serif\" font-size=\"10px\" fill=\"#000\" opacity=\"1\">95</text><text text-anchor=\"middle\" transform=\"translate(833.3333333333334,15)\" font-family=\"sans-serif\" font-size=\"10px\" fill=\"#000\" opacity=\"1\">100</text><text text-anchor=\"middle\" transform=\"translate(875,15)\" font-family=\"sans-serif\" font-size=\"10px\" fill=\"#000\" opacity=\"1\">105</text><text text-anchor=\"middle\" transform=\"translate(916.6666666666666,15)\" font-family=\"sans-serif\" font-size=\"10px\" fill=\"#000\" opacity=\"1\">110</text><text text-anchor=\"middle\" transform=\"translate(958.3333333333334,15)\" font-family=\"sans-serif\" font-size=\"10px\" fill=\"#000\" opacity=\"1\">115</text><text text-anchor=\"end\" transform=\"translate(1000,15)\" font-family=\"sans-serif\" font-size=\"10px\" fill=\"#000\" opacity=\"1\">120</text></g><g class=\"mark-rule role-axis-domain\" pointer-events=\"none\"><line transform=\"translate(0,0)\" x2=\"1000\" y2=\"0\" stroke=\"#888\" stroke-width=\"1\" opacity=\"1\"/></g><g class=\"mark-text role-axis-title\" pointer-events=\"none\"><text text-anchor=\"middle\" transform=\"translate(500,30)\" font-family=\"sans-serif\" font-size=\"11px\" font-weight=\"bold\" fill=\"#000\" opacity=\"1\">hour</text></g></g><path class=\"foreground\" aria-hidden=\"true\" d=\"\" pointer-events=\"none\" display=\"none\"/></g></g><g class=\"mark-group role-axis\" role=\"graphics-symbol\" aria-roledescription=\"axis\" aria-label=\"Y-axis titled 'gen_sum' for a linear scale with values from 0 to 4,000\"><g transform=\"translate(0.5,0.5)\"><path class=\"background\" aria-hidden=\"true\" d=\"M0,0h0v0h0Z\" pointer-events=\"none\"/><g><g class=\"mark-rule role-axis-tick\" pointer-events=\"none\"><line transform=\"translate(0,200)\" x2=\"-5\" y2=\"0\" stroke=\"#888\" stroke-width=\"1\" opacity=\"1\"/><line transform=\"translate(0,150)\" x2=\"-5\" y2=\"0\" stroke=\"#888\" stroke-width=\"1\" opacity=\"1\"/><line transform=\"translate(0,100)\" x2=\"-5\" y2=\"0\" stroke=\"#888\" stroke-width=\"1\" opacity=\"1\"/><line transform=\"translate(0,50)\" x2=\"-5\" y2=\"0\" stroke=\"#888\" stroke-width=\"1\" opacity=\"1\"/><line transform=\"translate(0,0)\" x2=\"-5\" y2=\"0\" stroke=\"#888\" stroke-width=\"1\" opacity=\"1\"/></g><g class=\"mark-text role-axis-label\" pointer-events=\"none\"><text text-anchor=\"end\" transform=\"translate(-7,203)\" font-family=\"sans-serif\" font-size=\"10px\" fill=\"#000\" opacity=\"1\">0</text><text text-anchor=\"end\" transform=\"translate(-7,153)\" font-family=\"sans-serif\" font-size=\"10px\" fill=\"#000\" opacity=\"1\">1,000</text><text text-anchor=\"end\" transform=\"translate(-7,103)\" font-family=\"sans-serif\" font-size=\"10px\" fill=\"#000\" opacity=\"1\">2,000</text><text text-anchor=\"end\" transform=\"translate(-7,53)\" font-family=\"sans-serif\" font-size=\"10px\" fill=\"#000\" opacity=\"1\">3,000</text><text text-anchor=\"end\" transform=\"translate(-7,3)\" font-family=\"sans-serif\" font-size=\"10px\" fill=\"#000\" opacity=\"1\">4,000</text></g><g class=\"mark-rule role-axis-domain\" pointer-events=\"none\"><line transform=\"translate(0,200)\" x2=\"0\" y2=\"-200\" stroke=\"#888\" stroke-width=\"1\" opacity=\"1\"/></g><g class=\"mark-text role-axis-title\" pointer-events=\"none\"><text text-anchor=\"middle\" transform=\"translate(-36.0244140625,100) rotate(-90) translate(0,-2)\" font-family=\"sans-serif\" font-size=\"11px\" font-weight=\"bold\" fill=\"#000\" opacity=\"1\">gen_sum</text></g></g><path class=\"foreground\" aria-hidden=\"true\" d=\"\" pointer-events=\"none\" display=\"none\"/></g></g><g class=\"mark-group role-scope pathgroup\" role=\"graphics-object\" aria-roledescription=\"group mark container\"><g transform=\"translate(0,0)\"><path class=\"background\" aria-hidden=\"true\" d=\"M0,0h1000v200h-1000Z\"/><g><g class=\"mark-area role-mark marks\" role=\"graphics-object\" aria-roledescription=\"area mark container\"><path aria-label=\"hour: 1; gen_sum: 21.4; resource: biomass\" role=\"graphics-symbol\" aria-roledescription=\"area mark\" d=\"M8.333,95.363L16.667,102.98L25,106.098L33.333,105.858L41.667,101.718L50,112.976L58.333,127.483L66.667,131.144L75,130.041L83.333,123.003L91.667,119.432L100,125.312L108.333,131.952L116.667,126.692L125,123.646L133.333,114.338L141.667,103.407L150,86.527L158.333,69.333L166.667,44.988L175,51.085L183.333,63.327L191.667,78.447L200,90.64L208.333,96.247L216.667,102.271L225,105.039L233.333,107.446L241.667,103.613L250,110.954L258.333,126.489L266.667,133.235L275,133.518L283.333,125.893L291.667,121.456L300,125.95L308.333,129.75L316.667,131.243L325,120.492L333.333,111.1L341.667,99.47L350,76.371L358.333,59.405L366.667,40.125L375,46.542L383.333,59.36L391.667,78.248L400,94.688L408.333,103.946L416.667,109.175L425,109.551L433.333,106.653L441.667,97.947L450,92.716L458.333,109.048L466.667,112.886L475,112.881L483.333,108.968L491.667,107.384L500,97.393L508.333,91.406L516.667,88.214L525,80.847L533.333,74.057L541.667,65.621L550,53.868L558.333,39.125L566.667,20.022L575,28.328L583.333,41.616L591.667,60.514L600,76.661L608.333,87.153L616.667,94.505L625,97.017L633.333,94.809L641.667,90.596L650,83.535L658.333,93.709L666.667,96.933L675,101.492L683.333,95.155L691.667,95.134L700,83.959L708.333,80.402L716.667,74.031L725,66.008L733.333,57.78L741.667,49.431L750,33.491L758.333,16.675L766.667,10.93L775,20.137L783.333,35.828L791.667,56.673L800,73.185L808.333,83.386L816.667,90.799L825,95.785L833.333,94.157L841.667,89.639L850,80.262L858.333,93.427L866.667,95.875L875,95.347L883.333,85.17L891.667,71.787L900,65.304L908.333,72.219L916.667,62.693L925,50.86L933.333,32.501L941.667,31.891L950,19.298L958.333,12.473L966.667,12.984L975,18.694L983.333,33.127L991.667,53.514L1000,70.438L1000,71.508L991.667,54.584L983.333,34.197L975,19.764L966.667,14.054L958.333,13.543L950,20.368L941.667,32.961L933.333,33.571L925,51.93L916.667,63.763L908.333,73.289L900,66.374L891.667,72.857L883.333,86.24L875,96.417L866.667,96.945L858.333,94.497L850,81.332L841.667,90.709L833.333,95.227L825,96.855L816.667,91.869L808.333,84.456L800,74.255L791.667,57.743L783.333,36.898L775,21.207L766.667,12L758.333,17.745L750,34.561L741.667,50.501L733.333,58.85L725,67.078L716.667,75.101L708.333,81.472L700,85.029L691.667,96.204L683.333,96.225L675,102.562L666.667,98.003L658.333,94.779L650,84.605L641.667,91.666L633.333,95.879L625,98.087L616.667,95.575L608.333,88.223L600,77.731L591.667,61.584L583.333,42.686L575,29.398L566.667,21.092L558.333,40.195L550,54.938L541.667,66.691L533.333,75.127L525,81.917L516.667,89.284L508.333,92.476L500,98.463L491.667,108.454L483.333,110.038L475,113.951L466.667,113.956L458.333,110.118L450,93.786L441.667,99.017L433.333,107.723L425,110.621L416.667,110.245L408.333,105.016L400,95.758L391.667,79.318L383.333,60.43L375,47.612L366.667,41.195L358.333,60.475L350,77.441L341.667,100.54L333.333,112.17L325,121.562L316.667,132.313L308.333,130.82L300,127.02L291.667,122.526L283.333,126.963L275,134.588L266.667,134.305L258.333,127.559L250,112.024L241.667,104.683L233.333,108.516L225,106.109L216.667,103.341L208.333,97.317L200,91.71L191.667,79.517L183.333,64.397L175,52.155L166.667,46.058L158.333,70.403L150,87.597L141.667,104.477L133.333,115.408L125,124.716L116.667,127.762L108.333,133.022L100,126.382L91.667,120.502L83.333,124.073L75,131.111L66.667,132.214L58.333,128.553L50,114.046L41.667,102.788L33.333,106.928L25,107.168L16.667,104.05L8.333,96.433Z\" fill=\"#1f77b4\"/></g></g><path class=\"foreground\" aria-hidden=\"true\" d=\"\" display=\"none\"/></g><g transform=\"translate(0,0)\"><path class=\"background\" aria-hidden=\"true\" d=\"M0,0h1000v200h-1000Z\"/><g><g class=\"mark-area role-mark marks\" role=\"graphics-object\" aria-roledescription=\"area mark container\"><path aria-label=\"hour: 1; gen_sum: 42; resource: hydroelectric_pumped_storage\" role=\"graphics-symbol\" aria-roledescription=\"area mark\" d=\"M8.333,96.433L16.667,104.05L25,107.168L33.333,106.928L41.667,102.788L50,114.046L58.333,128.553L66.667,132.214L75,131.111L83.333,124.073L91.667,120.502L100,126.382L108.333,133.022L116.667,127.762L125,124.716L133.333,115.408L141.667,104.477L150,87.597L158.333,70.403L166.667,46.058L175,52.155L183.333,64.397L191.667,79.517L200,91.71L208.333,97.317L216.667,103.341L225,106.109L233.333,108.516L241.667,104.683L250,112.024L258.333,127.559L266.667,134.305L275,134.588L283.333,126.963L291.667,122.526L300,127.02L308.333,130.82L316.667,132.313L325,121.562L333.333,112.17L341.667,100.54L350,77.441L358.333,60.475L366.667,41.195L375,47.612L383.333,60.43L391.667,79.318L400,95.758L408.333,105.016L416.667,110.245L425,110.621L433.333,107.723L441.667,99.017L450,93.786L458.333,110.118L466.667,113.956L475,113.951L483.333,110.038L491.667,108.454L500,98.463L508.333,92.476L516.667,89.284L525,81.917L533.333,75.127L541.667,66.691L550,54.938L558.333,40.195L566.667,21.092L575,29.398L583.333,42.686L591.667,61.584L600,77.731L608.333,88.223L616.667,95.575L625,98.087L633.333,95.879L641.667,91.666L650,84.605L658.333,94.779L666.667,98.003L675,102.562L683.333,96.225L691.667,96.204L700,85.029L708.333,81.472L716.667,75.101L725,67.078L733.333,58.85L741.667,50.501L750,34.561L758.333,17.745L766.667,12L775,21.207L783.333,36.898L791.667,57.743L800,74.255L808.333,84.456L816.667,91.869L825,96.855L833.333,95.227L841.667,90.709L850,81.332L858.333,94.497L866.667,96.945L875,96.417L883.333,86.24L891.667,72.857L900,66.374L908.333,73.289L916.667,63.763L925,51.93L933.333,33.571L941.667,32.961L950,20.368L958.333,13.543L966.667,14.054L975,19.764L983.333,34.197L991.667,54.584L1000,71.508L1000,73.608L991.667,56.684L983.333,36.297L975,21.864L966.667,16.154L958.333,15.643L950,22.468L941.667,35.061L933.333,35.671L925,54.03L916.667,65.863L908.333,75.389L900,68.474L891.667,74.957L883.333,88.34L875,98.517L866.667,99.045L858.333,96.597L850,83.432L841.667,92.809L833.333,97.327L825,98.955L816.667,93.969L808.333,86.556L800,76.355L791.667,59.843L783.333,38.998L775,23.307L766.667,14.1L758.333,19.845L750,36.661L741.667,52.601L733.333,60.95L725,69.178L716.667,77.201L708.333,83.572L700,87.129L691.667,98.304L683.333,98.325L675,104.662L666.667,100.103L658.333,96.879L650,86.705L641.667,93.766L633.333,97.979L625,100.187L616.667,97.675L608.333,90.323L600,79.831L591.667,63.684L583.333,44.786L575,31.498L566.667,23.192L558.333,42.295L550,57.038L541.667,68.791L533.333,77.227L525,84.017L516.667,91.384L508.333,94.576L500,100.563L491.667,110.554L483.333,112.138L475,116.051L466.667,116.056L458.333,112.218L450,95.886L441.667,101.117L433.333,109.823L425,112.721L416.667,112.345L408.333,107.116L400,97.858L391.667,81.418L383.333,62.53L375,49.712L366.667,43.295L358.333,62.575L350,79.541L341.667,102.64L333.333,114.27L325,123.662L316.667,134.413L308.333,132.92L300,129.12L291.667,124.626L283.333,129.063L275,136.688L266.667,136.405L258.333,129.659L250,114.124L241.667,106.783L233.333,110.616L225,108.209L216.667,105.441L208.333,99.417L200,93.81L191.667,81.617L183.333,66.497L175,54.255L166.667,48.158L158.333,72.503L150,89.697L141.667,106.577L133.333,117.508L125,126.816L116.667,129.862L108.333,135.122L100,128.482L91.667,122.602L83.333,126.173L75,133.211L66.667,134.314L58.333,130.653L50,116.146L41.667,104.888L33.333,109.028L25,109.268L16.667,106.15L8.333,98.533Z\" fill=\"#ff7f0e\"/></g></g><path class=\"foreground\" aria-hidden=\"true\" d=\"\" display=\"none\"/></g><g transform=\"translate(0,0)\"><path class=\"background\" aria-hidden=\"true\" d=\"M0,0h1000v200h-1000Z\"/><g><g class=\"mark-area role-mark marks\" role=\"graphics-object\" aria-roledescription=\"area mark container\"><path aria-label=\"hour: 1; gen_sum: 2029.33094; resource: natural_gas_fired_combined_cycle\" role=\"graphics-symbol\" aria-roledescription=\"area mark\" d=\"M8.333,98.533L16.667,106.15L25,109.268L33.333,109.028L41.667,104.888L50,116.146L58.333,130.653L66.667,134.314L75,133.211L83.333,126.173L91.667,122.602L100,128.482L108.333,135.122L116.667,129.862L125,126.816L133.333,117.508L141.667,106.577L150,89.697L158.333,72.503L166.667,48.158L175,54.255L183.333,66.497L191.667,81.617L200,93.81L208.333,99.417L216.667,105.441L225,108.209L233.333,110.616L241.667,106.783L250,114.124L258.333,129.659L266.667,136.405L275,136.688L283.333,129.063L291.667,124.626L300,129.12L308.333,132.92L316.667,134.413L325,123.662L333.333,114.27L341.667,102.64L350,79.541L358.333,62.575L366.667,43.295L375,49.712L383.333,62.53L391.667,81.418L400,97.858L408.333,107.116L416.667,112.345L425,112.721L433.333,109.823L441.667,101.117L450,95.886L458.333,112.218L466.667,116.056L475,116.051L483.333,112.138L491.667,110.554L500,100.563L508.333,94.576L516.667,91.384L525,84.017L533.333,77.227L541.667,68.791L550,57.038L558.333,42.295L566.667,23.192L575,31.498L583.333,44.786L591.667,63.684L600,79.831L608.333,90.323L616.667,97.675L625,100.187L633.333,97.979L641.667,93.766L650,86.705L658.333,96.879L666.667,100.103L675,104.662L683.333,98.325L691.667,98.304L700,87.129L708.333,83.572L716.667,77.201L725,69.178L733.333,60.95L741.667,52.601L750,36.661L758.333,19.845L766.667,14.1L775,23.307L783.333,38.998L791.667,59.843L800,76.355L808.333,86.556L816.667,93.969L825,98.955L833.333,97.327L841.667,92.809L850,83.432L858.333,96.597L866.667,99.045L875,98.517L883.333,88.34L891.667,74.957L900,68.474L908.333,75.389L916.667,65.863L925,54.03L933.333,35.671L941.667,35.061L950,22.468L958.333,15.643L966.667,16.154L975,21.864L983.333,36.297L991.667,56.684L1000,73.608L1000,200L991.667,197.039L983.333,176.652L975,162.219L966.667,156.509L958.333,155.998L950,162.823L941.667,175.416L933.333,176.026L925,194.385L916.667,200L908.333,200L900,200L891.667,200L883.333,200L875,200L866.667,200L858.333,200L850,200L841.667,200L833.333,200L825,200L816.667,200L808.333,200L800,198.949L791.667,197.734L783.333,179.353L775,163.662L766.667,154.455L758.333,160.2L750,177.016L741.667,192.956L733.333,200L725,200L716.667,200L708.333,200L700,200L691.667,200L683.333,200L675,200L666.667,200L658.333,200L650,200L641.667,200L633.333,200L625,200L616.667,200L608.333,200L600,195.186L591.667,179.039L583.333,160.141L575,146.853L566.667,138.547L558.333,157.65L550,172.393L541.667,184.146L533.333,192.582L525,199.372L516.667,200L508.333,200L500,200L491.667,200L483.333,200L475,200L466.667,200L458.333,200L450,200L441.667,200L433.333,200L425,200L416.667,200L408.333,200L400,200L391.667,196.715L383.333,177.885L375,165.067L366.667,158.65L358.333,177.93L350,194.896L341.667,200L333.333,200L325,200L316.667,200L308.333,200L300,200L291.667,200L283.333,200L275,200L266.667,200L258.333,200L250,200L241.667,200L233.333,200L225,200L216.667,200L208.333,200L200,200L191.667,195.095L183.333,181.852L175,169.61L166.667,163.513L158.333,187.858L150,198.385L141.667,200L133.333,200L125,200L116.667,200L108.333,200L100,200L91.667,200L83.333,200L75,200L66.667,200L58.333,200L50,200L41.667,200L33.333,200L25,200L16.667,200L8.333,200Z\" fill=\"#2ca02c\"/></g></g><path class=\"foreground\" aria-hidden=\"true\" d=\"\" display=\"none\"/></g><g transform=\"translate(0,0)\"><path class=\"background\" aria-hidden=\"true\" d=\"M0,0h1000v200h-1000Z\"/><g><g class=\"mark-area role-mark marks\" role=\"graphics-object\" aria-roledescription=\"area mark container\"><path aria-label=\"hour: 1; gen_sum: 0; resource: natural_gas_fired_combustion_turbine\" role=\"graphics-symbol\" aria-roledescription=\"area mark\" d=\"M8.333,200L16.667,200L25,200L33.333,200L41.667,200L50,200L58.333,200L66.667,200L75,200L83.333,200L91.667,200L100,200L108.333,200L116.667,200L125,200L133.333,200L141.667,200L150,198.385L158.333,187.858L166.667,163.513L175,169.61L183.333,181.852L191.667,195.095L200,200L208.333,200L216.667,200L225,200L233.333,200L241.667,200L250,200L258.333,200L266.667,200L275,200L283.333,200L291.667,200L300,200L308.333,200L316.667,200L325,200L333.333,200L341.667,200L350,194.896L358.333,177.93L366.667,158.65L375,165.067L383.333,177.885L391.667,196.715L400,200L408.333,200L416.667,200L425,200L433.333,200L441.667,200L450,200L458.333,200L466.667,200L475,200L483.333,200L491.667,200L500,200L508.333,200L516.667,200L525,199.372L533.333,192.582L541.667,184.146L550,172.393L558.333,157.65L566.667,138.547L575,146.853L583.333,160.141L591.667,179.039L600,195.186L608.333,200L616.667,200L625,200L633.333,200L641.667,200L650,200L658.333,200L666.667,200L675,200L683.333,200L691.667,200L700,200L708.333,200L716.667,200L725,200L733.333,200L741.667,192.956L750,177.016L758.333,160.2L766.667,154.455L775,163.662L783.333,179.353L791.667,197.734L800,198.949L808.333,200L816.667,200L825,200L833.333,200L841.667,200L850,200L858.333,200L866.667,200L875,200L883.333,200L891.667,200L900,200L908.333,200L916.667,200L925,194.385L933.333,176.026L941.667,175.416L950,162.823L958.333,155.998L966.667,156.509L975,162.219L983.333,176.652L991.667,197.039L1000,200L1000,200L991.667,200L983.333,200L975,200L966.667,200L958.333,200L950,194.698L941.667,192.641L933.333,183.431L925,194.385L916.667,200L908.333,200L900,200L891.667,200L883.333,200L875,200L866.667,200L858.333,200L850,200L841.667,200L833.333,200L825,200L816.667,200L808.333,200L800,200L791.667,200L783.333,200L775,200L766.667,200L758.333,189.65L750,189.331L741.667,192.956L733.333,200L725,200L716.667,200L708.333,200L700,200L691.667,200L683.333,200L675,200L666.667,200L658.333,200L650,200L641.667,200L633.333,200L625,200L616.667,200L608.333,200L600,195.186L591.667,188.859L583.333,189.551L575,190.993L566.667,189.447L558.333,196.385L550,189.688L541.667,184.146L533.333,192.582L525,199.372L516.667,200L508.333,200L500,200L491.667,200L483.333,200L475,200L466.667,200L458.333,200L450,200L441.667,200L433.333,200L425,200L416.667,200L408.333,200L400,200L391.667,200L383.333,200L375,200L366.667,200L358.333,197.72L350,197.391L341.667,200L333.333,200L325,200L316.667,200L308.333,200L300,200L291.667,200L283.333,200L275,200L266.667,200L258.333,200L250,200L241.667,200L233.333,200L225,200L216.667,200L208.333,200L200,200L191.667,200L183.333,200L175,200L166.667,200L158.333,200L150,200L141.667,200L133.333,200L125,200L116.667,200L108.333,200L100,200L91.667,200L83.333,200L75,200L66.667,200L58.333,200L50,200L41.667,200L33.333,200L25,200L16.667,200L8.333,200Z\" fill=\"#d62728\"/></g></g><path class=\"foreground\" aria-hidden=\"true\" d=\"\" display=\"none\"/></g><g transform=\"translate(0,0)\"><path class=\"background\" aria-hidden=\"true\" d=\"M0,0h1000v200h-1000Z\"/><g><g class=\"mark-area role-mark marks\" role=\"graphics-object\" aria-roledescription=\"area mark container\"><path aria-label=\"hour: 1; gen_sum: 0; resource: non_served_energy\" role=\"graphics-symbol\" aria-roledescription=\"area mark\" d=\"M8.333,200L16.667,200L25,200L33.333,200L41.667,200L50,200L58.333,200L66.667,200L75,200L83.333,200L91.667,200L100,200L108.333,200L116.667,200L125,200L133.333,200L141.667,200L150,200L158.333,200L166.667,200L175,200L183.333,200L191.667,200L200,200L208.333,200L216.667,200L225,200L233.333,200L241.667,200L250,200L258.333,200L266.667,200L275,200L283.333,200L291.667,200L300,200L308.333,200L316.667,200L325,200L333.333,200L341.667,200L350,197.391L358.333,197.72L366.667,200L375,200L383.333,200L391.667,200L400,200L408.333,200L416.667,200L425,200L433.333,200L441.667,200L450,200L458.333,200L466.667,200L475,200L483.333,200L491.667,200L500,200L508.333,200L516.667,200L525,199.372L533.333,192.582L541.667,184.146L550,189.688L558.333,196.385L566.667,189.447L575,190.993L583.333,189.551L591.667,188.859L600,195.186L608.333,200L616.667,200L625,200L633.333,200L641.667,200L650,200L658.333,200L666.667,200L675,200L683.333,200L691.667,200L700,200L708.333,200L716.667,200L725,200L733.333,200L741.667,192.956L750,189.331L758.333,189.65L766.667,200L775,200L783.333,200L791.667,200L800,200L808.333,200L816.667,200L825,200L833.333,200L841.667,200L850,200L858.333,200L866.667,200L875,200L883.333,200L891.667,200L900,200L908.333,200L916.667,200L925,194.385L933.333,183.431L941.667,192.641L950,194.698L958.333,200L966.667,200L975,200L983.333,200L991.667,200L1000,200L1000,200L991.667,200L983.333,200L975,200L966.667,200L958.333,200L950,200L941.667,200L933.333,200L925,200L916.667,200L908.333,200L900,200L891.667,200L883.333,200L875,200L866.667,200L858.333,200L850,200L841.667,200L833.333,200L825,200L816.667,200L808.333,200L800,200L791.667,200L783.333,200L775,200L766.667,200L758.333,200L750,200L741.667,200L733.333,200L725,200L716.667,200L708.333,200L700,200L691.667,200L683.333,200L675,200L666.667,200L658.333,200L650,200L641.667,200L633.333,200L625,200L616.667,200L608.333,200L600,200L591.667,200L583.333,200L575,200L566.667,200L558.333,200L550,200L541.667,200L533.333,200L525,200L516.667,200L508.333,200L500,200L491.667,200L483.333,200L475,200L466.667,200L458.333,200L450,200L441.667,200L433.333,200L425,200L416.667,200L408.333,200L400,200L391.667,200L383.333,200L375,200L366.667,200L358.333,200L350,200L341.667,200L333.333,200L325,200L316.667,200L308.333,200L300,200L291.667,200L283.333,200L275,200L266.667,200L258.333,200L250,200L241.667,200L233.333,200L225,200L216.667,200L208.333,200L200,200L191.667,200L183.333,200L175,200L166.667,200L158.333,200L150,200L141.667,200L133.333,200L125,200L116.667,200L108.333,200L100,200L91.667,200L83.333,200L75,200L66.667,200L58.333,200L50,200L41.667,200L33.333,200L25,200L16.667,200L8.333,200Z\" fill=\"#9467bd\"/></g></g><path class=\"foreground\" aria-hidden=\"true\" d=\"\" display=\"none\"/></g></g><g class=\"mark-group role-legend\" role=\"graphics-symbol\" aria-roledescription=\"legend\" aria-label=\"Symbol legend titled 'resource' for fill color with 5 values: biomass, hydroelectric_pumped_storage, natural_gas_fired_combined_cycle, natural_gas_fired_combustion_turbine, non_served_energy\"><g transform=\"translate(1018,0)\"><path class=\"background\" aria-hidden=\"true\" d=\"M0,0h174v79h-174Z\" pointer-events=\"none\"/><g><g class=\"mark-group role-legend-entry\"><g transform=\"translate(0,16)\"><path class=\"background\" aria-hidden=\"true\" d=\"M0,0h0v0h0Z\" pointer-events=\"none\"/><g><g class=\"mark-group role-scope\" role=\"graphics-object\" aria-roledescription=\"group mark container\"><g transform=\"translate(0,0)\"><path class=\"background\" aria-hidden=\"true\" d=\"M0,0h173.8759765625v11h-173.8759765625Z\" pointer-events=\"none\" opacity=\"1\"/><g><g class=\"mark-symbol role-legend-symbol\" pointer-events=\"none\"><path transform=\"translate(6,6)\" d=\"M5,0A5,5,0,1,1,-5,0A5,5,0,1,1,5,0\" fill=\"#1f77b4\" stroke-width=\"1.5\" opacity=\"1\"/></g><g class=\"mark-text role-legend-label\" pointer-events=\"none\"><text text-anchor=\"start\" transform=\"translate(16,9)\" font-family=\"sans-serif\" font-size=\"10px\" fill=\"#000\" opacity=\"1\">biomass</text></g></g><path class=\"foreground\" aria-hidden=\"true\" d=\"\" pointer-events=\"none\" display=\"none\"/></g><g transform=\"translate(0,13)\"><path class=\"background\" aria-hidden=\"true\" d=\"M0,0h173.8759765625v11h-173.8759765625Z\" pointer-events=\"none\" opacity=\"1\"/><g><g class=\"mark-symbol role-legend-symbol\" pointer-events=\"none\"><path transform=\"translate(6,6)\" d=\"M5,0A5,5,0,1,1,-5,0A5,5,0,1,1,5,0\" fill=\"#ff7f0e\" stroke-width=\"1.5\" opacity=\"1\"/></g><g class=\"mark-text role-legend-label\" pointer-events=\"none\"><text text-anchor=\"start\" transform=\"translate(16,9)\" font-family=\"sans-serif\" font-size=\"10px\" fill=\"#000\" opacity=\"1\">hydroelectric_pumped_storage</text></g></g><path class=\"foreground\" aria-hidden=\"true\" d=\"\" pointer-events=\"none\" display=\"none\"/></g><g transform=\"translate(0,26)\"><path class=\"background\" aria-hidden=\"true\" d=\"M0,0h173.8759765625v11h-173.8759765625Z\" pointer-events=\"none\" opacity=\"1\"/><g><g class=\"mark-symbol role-legend-symbol\" pointer-events=\"none\"><path transform=\"translate(6,6)\" d=\"M5,0A5,5,0,1,1,-5,0A5,5,0,1,1,5,0\" fill=\"#2ca02c\" stroke-width=\"1.5\" opacity=\"1\"/></g><g class=\"mark-text role-legend-label\" pointer-events=\"none\"><text text-anchor=\"start\" transform=\"translate(16,9)\" font-family=\"sans-serif\" font-size=\"10px\" fill=\"#000\" opacity=\"1\">natural_gas_fired_combined_cycle</text></g></g><path class=\"foreground\" aria-hidden=\"true\" d=\"\" pointer-events=\"none\" display=\"none\"/></g><g transform=\"translate(0,39)\"><path class=\"background\" aria-hidden=\"true\" d=\"M0,0h173.8759765625v11h-173.8759765625Z\" pointer-events=\"none\" opacity=\"1\"/><g><g class=\"mark-symbol role-legend-symbol\" pointer-events=\"none\"><path transform=\"translate(6,6)\" d=\"M5,0A5,5,0,1,1,-5,0A5,5,0,1,1,5,0\" fill=\"#d62728\" stroke-width=\"1.5\" opacity=\"1\"/></g><g class=\"mark-text role-legend-label\" pointer-events=\"none\"><text text-anchor=\"start\" transform=\"translate(16,9)\" font-family=\"sans-serif\" font-size=\"10px\" fill=\"#000\" opacity=\"1\">natural_gas_fired_combustion_tu…</text></g></g><path class=\"foreground\" aria-hidden=\"true\" d=\"\" pointer-events=\"none\" display=\"none\"/></g><g transform=\"translate(0,52)\"><path class=\"background\" aria-hidden=\"true\" d=\"M0,0h173.8759765625v11h-173.8759765625Z\" pointer-events=\"none\" opacity=\"1\"/><g><g class=\"mark-symbol role-legend-symbol\" pointer-events=\"none\"><path transform=\"translate(6,6)\" d=\"M5,0A5,5,0,1,1,-5,0A5,5,0,1,1,5,0\" fill=\"#9467bd\" stroke-width=\"1.5\" opacity=\"1\"/></g><g class=\"mark-text role-legend-label\" pointer-events=\"none\"><text text-anchor=\"start\" transform=\"translate(16,9)\" font-family=\"sans-serif\" font-size=\"10px\" fill=\"#000\" opacity=\"1\">non_served_energy</text></g></g><path class=\"foreground\" aria-hidden=\"true\" d=\"\" pointer-events=\"none\" display=\"none\"/></g></g></g><path class=\"foreground\" aria-hidden=\"true\" d=\"\" pointer-events=\"none\" display=\"none\"/></g></g><g class=\"mark-text role-legend-title\" pointer-events=\"none\"><text text-anchor=\"start\" transform=\"translate(0,9)\" font-family=\"sans-serif\" font-size=\"11px\" font-weight=\"bold\" fill=\"#000\" opacity=\"1\">resource</text></g></g><path class=\"foreground\" aria-hidden=\"true\" d=\"\" pointer-events=\"none\" display=\"none\"/></g></g><g class=\"mark-group role-title\"><g transform=\"translate(500,-22)\"><path class=\"background\" aria-hidden=\"true\" d=\"M0,0h0v0h0Z\" pointer-events=\"none\"/><g><g class=\"mark-text role-title-text\" role=\"graphics-symbol\" aria-roledescription=\"title\" aria-label=\"Title text 'Dispatch results'\" pointer-events=\"none\"><text text-anchor=\"middle\" transform=\"translate(0,10)\" font-family=\"sans-serif\" font-size=\"13px\" font-weight=\"bold\" fill=\"#000\" opacity=\"1\">Dispatch results</text></g></g><path class=\"foreground\" aria-hidden=\"true\" d=\"\" pointer-events=\"none\" display=\"none\"/></g></g></g><path class=\"foreground\" aria-hidden=\"true\" d=\"\" display=\"none\"/></g></g></g></svg>"
      ],
      "text/plain": [
       "@vlplot(\n",
       "    width=1000,\n",
       "    title=\"Dispatch results\",\n",
       "    mark=\"area\",\n",
       "    encoding={\n",
       "        x={\n",
       "            field=\"hour\"\n",
       "        },\n",
       "        y={\n",
       "            stack=\"zero\",\n",
       "            field=\"gen_sum\"\n",
       "        },\n",
       "        color={\n",
       "            scale={\n",
       "                scheme=\"category10\"\n",
       "            },\n",
       "            field=\"resource\",\n",
       "            type=\"nominal\"\n",
       "        }\n",
       "    },\n",
       "    data={\n",
       "        values=...\n",
       "    }\n",
       ")"
      ]
     },
     "metadata": {},
     "output_type": "display_data"
    }
   ],
   "source": [
    "# A simulator!\n",
    "\n",
    "# initialize outputs\n",
    "contribution_total = 0.0\n",
    "policy_results = DataFrame(day=Int[], predicted_cost = Float64[], actual_cost_total = Float64[], actual_cost_nse = Float64[])\n",
    "dispatch_results=DataFrame(resource=String[],hour=Int64[],gen_sum=Float64[])\n",
    "\n",
    "# re-define dynamic state variable in case we run this multiple times\n",
    "state_variable_dynamic = Dict(\n",
    "    \"net_load_previous_day\" => net_load_for_simulation[1:24,:]\n",
    "    ) ;\n",
    "\n",
    "for day in 1:5\n",
    "\n",
    "    println(\"Day is $day\")\n",
    "\n",
    "    net_load_previous_day = state_variable_dynamic[\"net_load_previous_day\"]\n",
    "    \n",
    "    load_scenarios_for_stochastic_UC = hcat(net_load_previous_day.demand,net_load_previous_day.demand*0.95,net_load_previous_day.demand*1.05)\n",
    "\n",
    "    stochastic_UC_solution = unit_commitment_stochastic(\n",
    "        state_variable_static[\"gen_df\"],\n",
    "        load_scenarios_for_stochastic_UC,\n",
    "        0.01,\n",
    "        state_variable_static[\"nse_cost\"]\n",
    "        );    \n",
    "\n",
    "    # decision variable = set of commitment decisions\n",
    "    x_G_t = stochastic_UC_solution.commit\n",
    "\n",
    "    # we also record the start cost, which we know in advance because our commitment schedule is now known.\n",
    "    start_cost = stochastic_UC_solution.start_cost\n",
    "\n",
    "    #### ...... 24 hours later ...... ####\n",
    "\n",
    "    # Initialize dict for exogenous information. This will consist of both the actual net load, and the dispatch results.\n",
    "    W_tplus1 = Dict()\n",
    "\n",
    "    # Let's get the net load that actually occurred. This is part of our exogenous information.\n",
    "    time_current_day = (day*24+1):((day+1)*24)\n",
    "    net_load_actual = copy(net_load_for_simulation[in.(net_load_for_simulation.hour,Ref(time_current_day)),:])\n",
    "    net_load_actual.hour = 1:24\n",
    "    W_tplus1[\"net_load_actual\"] = net_load_actual\n",
    "\n",
    "    # Now we run economic dispatch on this actual net load to see how our commitment decisions performed. We add the actual energy and NSE cost to our exogenous information.\n",
    "\n",
    "    economic_dispatch_solution = economic_dispatch(\n",
    "        state_variable_static[\"gen_df\"],\n",
    "        net_load_actual,\n",
    "        0.01,\n",
    "        x_G_t,\n",
    "        state_variable_static[\"nse_cost\"]\n",
    "        );\n",
    "\n",
    "    W_tplus1[\"energy_cost_actual\"] = economic_dispatch_solution.energy_cost\n",
    "    W_tplus1[\"nse_cost_actual\"] = economic_dispatch_solution.nse_cost\n",
    "\n",
    "    # We also record the dispatch so we can see what happened.\n",
    "    sol_gen = combine(groupby(innerjoin(economic_dispatch_solution.gen, state_variable_static[\"gen_df\"][!, [:r_id, :resource]], on = :r_id),[:resource, :hour]), :gen => sum)\n",
    "    append!(sol_gen, DataFrame(resource = repeat([\"non_served_energy\"]; outer=24), hour = 1:24,gen_sum = economic_dispatch_solution.nse))\n",
    "    sol_gen.hour .= sol_gen.hour .+ 24*(day-1)\n",
    "    dispatch_results=vcat(dispatch_results,sol_gen)\n",
    "\n",
    "    # Now we run our transition function, which in this case is very simple: updating the previous day's net load for our next decision.\n",
    "    state_variable_dynamic[\"net_load_previous_day\"] = net_load_actual\n",
    "\n",
    "    # Finally we record our \"contributions\", which are the start costs (which we knew in advance), the actual energy costs, and the actual nse costs.\n",
    "    contribution_total += start_cost + W_tplus1[\"energy_cost_actual\"] + W_tplus1[\"nse_cost_actual\"]\n",
    "\n",
    "    # We also record our relevant results to our policy results dataframe\n",
    "    new_row = (\n",
    "        day=day,\n",
    "        predicted_cost=stochastic_UC_solution.cost,\n",
    "        actual_cost_total=start_cost + W_tplus1[\"energy_cost_actual\"] + W_tplus1[\"nse_cost_actual\"],\n",
    "        actual_cost_nse=W_tplus1[\"nse_cost_actual\"]\n",
    "        )\n",
    "        \n",
    "    push!(policy_results,new_row)\n",
    "\n",
    "end\n",
    "\n",
    "# Now we plot the results of our policy\n",
    "p1=plot(policy_results.day,policy_results.predicted_cost,label=\"Predicted cost\",xlabel=\"Day\",ylabel=\"Cost (\\$)\",title=\"Policy results: Stochastic UC\",legend = :outerright,size = (800, 300))\n",
    "plot!(p1,policy_results.day,policy_results.actual_cost_total,label=\"Actual cost\")\n",
    "plot!(p1,policy_results.day,policy_results.actual_cost_nse,label=\"NSE cost (subset of actual cost)\")\n",
    "display(p1)\n",
    "\n",
    "plot2=dispatch_results |>\n",
    "@vlplot(:area, \n",
    "    x=:hour, y={:gen_sum, stack=:zero}, \n",
    "    color={\"resource:n\", scale={scheme=\"category10\"}},width=1000,title=\"Dispatch results\")\n",
    "display(plot2)"
   ]
  },
  {
   "cell_type": "markdown",
   "id": "9517541d-ab9b-4f40-84bc-fa9b6d40327c",
   "metadata": {},
   "source": [
    "You can see that there is non-served energy on the last three days! This is because the scenarios were not sufficient to cover the net load pattern that actually happened. Can you find a better policy that minimizes start costs while also not resulting in any non-served energy?"
   ]
  },
  {
   "cell_type": "code",
   "execution_count": null,
   "id": "0cf985bd-0334-4b08-b908-686dc9d7478f",
   "metadata": {},
   "outputs": [],
   "source": []
  },
  {
   "cell_type": "code",
   "execution_count": null,
   "id": "9feb47ce-b5f5-468d-835b-20e7c2eccf5f",
   "metadata": {},
   "outputs": [],
   "source": []
  },
  {
   "cell_type": "markdown",
   "id": "2d3f9470-57e6-4c6d-beb3-22031a96f8a7",
   "metadata": {},
   "source": [
    "Now it's your turn. In the rest of this notebook, please complete the following tasks:\n",
    "\n",
    "- Write down what you think will happen when you use each of the three policies for this (for stochastic you already know the answer). Then, test them each, and write down the result. Keep in mind that the input format for loads is slightly different for the deterministic versions.\n",
    "- Try to improve both the reserves policy, and the stochastic policy. Then, compare the results plot for both of them. Is one of them a better policy?"
   ]
  }
 ],
 "metadata": {
  "kernelspec": {
   "display_name": "Julia 1.10.4",
   "language": "julia",
   "name": "julia-1.10"
  },
  "language_info": {
   "file_extension": ".jl",
   "mimetype": "application/julia",
   "name": "julia",
   "version": "1.10.4"
  }
 },
 "nbformat": 4,
 "nbformat_minor": 5
}
