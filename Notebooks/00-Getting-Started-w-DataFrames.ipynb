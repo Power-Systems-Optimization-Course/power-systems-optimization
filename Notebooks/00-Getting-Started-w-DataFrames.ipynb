{
 "cells": [
  {
   "cell_type": "markdown",
   "metadata": {},
   "source": [
    "# Working with tabular data in Julia. ([DataFrames.jl](https://github.com/JuliaData/DataFrames.jl/tree/main)).\n",
    "\n",
    "## What this notebook covers:\n",
    "\n",
    "- **Creating** a DataFrame from scratch.\n",
    "- **Reading** data from a CSV file.\n",
    "- **Basic information** about the DataFrame.\n",
    "- **Selecting specific columns** using `select`.\n",
    "- **Filtering rows** based on conditions.\n",
    "- **Subsetting rows** by index.\n",
    "- **Adding a new column**.\n",
    "- **Deleting** a column.\n",
    "- **Renaming columns**.\n",
    "- **Sorting** the DataFrame by a specific column.\n",
    "- **Grouping by a column** and performing aggregation.\n",
    "- **Looping** through groups and printing details.\n",
    "- **Writing** the DataFrame to a CSV file."
   ]
  },
  {
   "cell_type": "markdown",
   "metadata": {},
   "source": [
    "#### 1. Install necessary packages"
   ]
  },
  {
   "cell_type": "code",
   "execution_count": null,
   "metadata": {},
   "outputs": [],
   "source": [
    "using Pkg\n",
    "Pkg.add(\"DataFrames\")\n",
    "Pkg.add(\"CSV\")"
   ]
  },
  {
   "cell_type": "markdown",
   "metadata": {},
   "source": [
    "#### 2. Import the required packages"
   ]
  },
  {
   "cell_type": "code",
   "execution_count": null,
   "metadata": {},
   "outputs": [],
   "source": [
    "using DataFrames\n",
    "using CSV"
   ]
  },
  {
   "cell_type": "markdown",
   "metadata": {},
   "source": [
    "#### 3. Create a DataFrame"
   ]
  },
  {
   "cell_type": "code",
   "execution_count": null,
   "metadata": {},
   "outputs": [],
   "source": [
    "df = DataFrame(\n",
    "    Resource = [\"solar\", \"wind\", \"hydro\", \"nuclear\", \"coal\", \"natural gas\", \"biofuel\"],\n",
    "    Capacity = [500, 200, 10, 1000, 500, 5000, 50],\n",
    "    Fuel_type = [\"None\", \"None\", \"None\", \"Uranium\", \"Coal\", \"Natural Gas\", \"None\"],\n",
    "    Location = [\"California\", \"California\", \"Oregon\", \"Georgia\", \"Virginia\", \"Texas\", \"California\"]\n",
    ")"
   ]
  },
  {
   "cell_type": "markdown",
   "metadata": {},
   "source": [
    "#### 4. Load a CSV file into a DataFrame"
   ]
  },
  {
   "cell_type": "code",
   "execution_count": null,
   "metadata": {},
   "outputs": [],
   "source": [
    "filepath = \"uc_data/Demand.csv\"\n",
    "df = CSV.read(filepath, DataFrame)\n",
    "# df = DataFrame(CSV.File(filepath))\n",
    "# df = CSV.File(filepath) |> DataFrame"
   ]
  },
  {
   "cell_type": "markdown",
   "metadata": {},
   "source": [
    "#### 5. Work with DataFrames"
   ]
  },
  {
   "cell_type": "code",
   "execution_count": null,
   "metadata": {},
   "outputs": [],
   "source": [
    "# Load the CSV file into a DataFrame\n",
    "df = CSV.read(\"uc_data/Generators_data.csv\", DataFrame)\n",
    "# Display the DataFrame\n",
    "display(df)"
   ]
  },
  {
   "cell_type": "markdown",
   "metadata": {},
   "source": [
    "To extract the columns of a `DataFrame` directly (i.e. without copying) you can use one of the following syntaxes: `df.T`, `df.\"T\"`, `df[!, :T]` or `df[!, \"T\"]` (a copy is made when usign `df[:,T]`):"
   ]
  },
  {
   "cell_type": "code",
   "execution_count": null,
   "metadata": {},
   "outputs": [],
   "source": [
    "df.\"Existing_Cap_MW\""
   ]
  },
  {
   "cell_type": "markdown",
   "metadata": {},
   "source": [
    "You can obtain a vector of column names of the `DataFrames` as `Strings` using the `names` function:"
   ]
  },
  {
   "cell_type": "code",
   "execution_count": null,
   "metadata": {},
   "outputs": [],
   "source": [
    "names(df)"
   ]
  },
  {
   "cell_type": "markdown",
   "metadata": {},
   "source": [
    "If you were interested in element types of the columns, you can use the `eachcol` function to iterate over the columns, and `eltype` function to get the desired output:"
   ]
  },
  {
   "cell_type": "code",
   "execution_count": null,
   "metadata": {},
   "outputs": [],
   "source": [
    "eltype.(eachcol(df))"
   ]
  },
  {
   "cell_type": "markdown",
   "metadata": {},
   "source": [
    "Other useful functions:"
   ]
  },
  {
   "cell_type": "code",
   "execution_count": null,
   "metadata": {},
   "outputs": [],
   "source": [
    "@show size(df)  # dataframe dimensions\n",
    "@show size(df, 1)   # dataframe dimension along first axis\n",
    "@show size(df, 2)   # dataframe dimension along second axis\n",
    "@show nrow(df)  # number of rows\n",
    "@show ncol(df)  # number of columns"
   ]
  },
  {
   "cell_type": "markdown",
   "metadata": {},
   "source": [
    "Get basis statistcs of the `DataFrame`:"
   ]
  },
  {
   "cell_type": "code",
   "execution_count": null,
   "metadata": {},
   "outputs": [],
   "source": [
    "describe(df)  "
   ]
  },
  {
   "cell_type": "markdown",
   "metadata": {},
   "source": [
    "Visualize the first/last few rows of the `DataFrame`:"
   ]
  },
  {
   "cell_type": "code",
   "execution_count": null,
   "metadata": {},
   "outputs": [],
   "source": [
    "first(df,6) # first 6 rows"
   ]
  },
  {
   "cell_type": "code",
   "execution_count": null,
   "metadata": {},
   "outputs": [],
   "source": [
    "last(df,6)  # last 6 rows"
   ]
  },
  {
   "cell_type": "markdown",
   "metadata": {},
   "source": [
    "Select subsets of a `DataFrame` (Ref: [Indexing](https://dataframes.juliadata.org/stable/lib/indexing/)):"
   ]
  },
  {
   "cell_type": "code",
   "execution_count": null,
   "metadata": {},
   "outputs": [],
   "source": [
    "df[1:2, [1,3]]"
   ]
  },
  {
   "cell_type": "code",
   "execution_count": null,
   "metadata": {},
   "outputs": [],
   "source": [
    "df[1:3, 1:4]"
   ]
  },
  {
   "cell_type": "code",
   "execution_count": null,
   "metadata": {},
   "outputs": [],
   "source": [
    "df[1:3, [:Resource, :Existing_Cap_MW, :region]]"
   ]
  },
  {
   "cell_type": "code",
   "execution_count": null,
   "metadata": {},
   "outputs": [],
   "source": [
    "df_selected = select(df, Not([:Fuel, :region, :num_units, :Existing_Cap_MW]))\n",
    "display(df_selected)\n"
   ]
  },
  {
   "cell_type": "markdown",
   "metadata": {},
   "source": [
    "Filter rows based on a condition:"
   ]
  },
  {
   "cell_type": "code",
   "execution_count": null,
   "metadata": {},
   "outputs": [],
   "source": [
    "df_filtered = filter(row -> row.Existing_Cap_MW > 200, df)\n",
    "display(df_filtered)"
   ]
  },
  {
   "cell_type": "markdown",
   "metadata": {},
   "source": [
    "Change the data stored in a `DataFrame`:"
   ]
  },
  {
   "cell_type": "code",
   "execution_count": null,
   "metadata": {},
   "outputs": [],
   "source": [
    "new_val = zeros(Int, nrow(df))\n",
    "df1 = copy(df)\n",
    "df1.Cap_size = new_val\n",
    "df1"
   ]
  },
  {
   "cell_type": "markdown",
   "metadata": {},
   "source": [
    "Add a new column to the `DataFrame`:"
   ]
  },
  {
   "cell_type": "code",
   "execution_count": null,
   "metadata": {},
   "outputs": [],
   "source": [
    "df.Existing_Cap_GW = df.Existing_Cap_MW ./ 1000\n",
    "display(df)\n"
   ]
  },
  {
   "cell_type": "markdown",
   "metadata": {},
   "source": [
    "Delete a column:"
   ]
  },
  {
   "cell_type": "code",
   "execution_count": null,
   "metadata": {},
   "outputs": [],
   "source": [
    "select!(df, Not(:zone))\n",
    "display(df)"
   ]
  },
  {
   "cell_type": "markdown",
   "metadata": {},
   "source": [
    "Rename a column:"
   ]
  },
  {
   "cell_type": "code",
   "execution_count": null,
   "metadata": {},
   "outputs": [],
   "source": [
    "rename!(df, :region => :Location)\n",
    "display(df)"
   ]
  },
  {
   "cell_type": "markdown",
   "metadata": {},
   "source": [
    "Sort the `DataFrame` by the column `Existing_Cap_MW` in descending order:"
   ]
  },
  {
   "cell_type": "code",
   "execution_count": null,
   "metadata": {},
   "outputs": [],
   "source": [
    "df_sorted = sort(df, :Existing_Cap_MW, rev=true)\n",
    "display(df_sorted)"
   ]
  },
  {
   "cell_type": "markdown",
   "metadata": {},
   "source": [
    "Group by `Location` and calculate mean capacity per location:"
   ]
  },
  {
   "cell_type": "code",
   "execution_count": null,
   "metadata": {},
   "outputs": [],
   "source": [
    "Pkg.add(\"Statistics\")\n",
    "using Statistics"
   ]
  },
  {
   "cell_type": "code",
   "execution_count": null,
   "metadata": {},
   "outputs": [],
   "source": [
    "df_grouped = combine(groupby(df, :Fuel), :Inv_cost_per_MWyr => mean => :Avg_Inv_cost_per_MWyr)\n",
    "display(df_grouped)"
   ]
  },
  {
   "cell_type": "markdown",
   "metadata": {},
   "source": [
    "Use a loop to print the details of each group:"
   ]
  },
  {
   "cell_type": "code",
   "execution_count": null,
   "metadata": {},
   "outputs": [],
   "source": [
    "for fuel in unique(df.Fuel)\n",
    "    println(\"Fuel: $fuel\")\n",
    "    fuel_rows = filter(row -> row.Fuel == fuel, df)\n",
    "    display(fuel_rows)\n",
    "end"
   ]
  },
  {
   "cell_type": "markdown",
   "metadata": {},
   "source": [
    "Loop through `DataFrame` rows:"
   ]
  },
  {
   "cell_type": "code",
   "execution_count": null,
   "metadata": {},
   "outputs": [],
   "source": [
    "cap_therm = Float64[]\n",
    "for row in eachrow(df)\n",
    "    if row.THERM == 1\n",
    "        push!(cap_therm, row.Existing_Cap_MW)\n",
    "    end\n",
    "end\n",
    "cap_therm"
   ]
  },
  {
   "cell_type": "code",
   "execution_count": null,
   "metadata": {},
   "outputs": [],
   "source": [
    "cap_therm = [resource.Existing_Cap_MW for resource in eachrow(df) if resource.THERM == 1]"
   ]
  },
  {
   "cell_type": "code",
   "execution_count": null,
   "metadata": {},
   "outputs": [],
   "source": [
    "df[df.THERM .== 1, :Existing_Cap_MW]"
   ]
  },
  {
   "cell_type": "markdown",
   "metadata": {},
   "source": [
    "#### 6. Write the updated DataFrame to a CSV file"
   ]
  },
  {
   "cell_type": "code",
   "execution_count": null,
   "metadata": {},
   "outputs": [],
   "source": [
    "CSV.write(\"generators_data_modified.csv\", df, writeheader=true)"
   ]
  },
  {
   "cell_type": "markdown",
   "metadata": {},
   "source": [
    "### Exercise 1\n",
    "Read data stored in a gzip-compressed file `example8.csv.gz` into a `DataFrame` called `df`."
   ]
  },
  {
   "cell_type": "code",
   "execution_count": null,
   "metadata": {},
   "outputs": [],
   "source": [
    "# write your solution here"
   ]
  },
  {
   "cell_type": "markdown",
   "metadata": {},
   "source": [
    "<details>\n",
    "<summary>Solution</summary>\n",
    "\n",
    "```julia\n",
    "using CSV\n",
    "using DataFrames\n",
    "\n",
    "df = CSV.read(\"example8.csv.gz\", DataFrame)\n",
    "```"
   ]
  },
  {
   "cell_type": "markdown",
   "metadata": {},
   "source": [
    "### Exercise 2\n",
    "Get number of rows, columns, column names and summary statistics of the `df` data frame from exercise 10."
   ]
  },
  {
   "cell_type": "code",
   "execution_count": null,
   "metadata": {},
   "outputs": [],
   "source": [
    "# write your solution here"
   ]
  },
  {
   "cell_type": "markdown",
   "metadata": {},
   "source": [
    "<details>\n",
    "<summary>Solution</summary>\n",
    "\n",
    "```julia\n",
    "julia> nrow(df)\n",
    "4\n",
    "```\n",
    "```julia\n",
    "julia> ncol(df)\n",
    "2\n",
    "```\n",
    "```julia\n",
    "julia> names(df)\n",
    "2-element Vector{String}:\n",
    " \"number\"\n",
    " \"square\"\n",
    " ```\n",
    "```julia\n",
    "julia> describe(df)\n",
    "2×7 DataFrame\n",
    " Row │ variable  mean     min    median   max    nmissing  eltype\n",
    "     │ Symbol    Float64  Int64  Float64  Int64  Int64     DataType\n",
    "─────┼──────────────────────────────────────────────────────────────\n",
    "   1 │ number       2.5       1      2.5      4         0  Int64\n",
    "   2 │ square       7.75      2      6.5     16         0  Int64\n",
    "```\n"
   ]
  },
  {
   "cell_type": "markdown",
   "metadata": {},
   "source": [
    "### Exercise 3\n",
    "Add a column to `df` data frame with label \"name_string\" containing string representation of numbers in column number, i.e. [\"one\", \"two\", \"three\", \"four\"]."
   ]
  },
  {
   "cell_type": "code",
   "execution_count": null,
   "metadata": {},
   "outputs": [],
   "source": [
    "# write your solution here"
   ]
  },
  {
   "cell_type": "markdown",
   "metadata": {},
   "source": [
    "<details>\n",
    "<summary>Solution</summary>\n",
    "\n",
    "```bash\n",
    "julia> df.\"name string\" = [\"one\", \"two\", \"three\", \"four\"]\n",
    "4-element Vector{String}:\n",
    " \"one\"\n",
    " \"two\"\n",
    " \"three\"\n",
    " \"four\"\n",
    "```\n",
    "\n",
    "```bash\n",
    "julia> df\n",
    "4×3 DataFrame\n",
    " Row │ number  square  name string\n",
    "     │ Int64   Int64   String\n",
    "─────┼─────────────────────────────\n",
    "   1 │      1       2  one\n",
    "   2 │      2       4  two\n",
    "   3 │      3       9  three\n",
    "   4 │      4      16  four\n",
    "```"
   ]
  },
  {
   "cell_type": "markdown",
   "metadata": {},
   "source": [
    "### Exercise 4\n",
    "Check if `df` contains column `square2`."
   ]
  },
  {
   "cell_type": "code",
   "execution_count": null,
   "metadata": {},
   "outputs": [],
   "source": [
    "# write your solution here"
   ]
  },
  {
   "cell_type": "markdown",
   "metadata": {},
   "source": [
    "<details>\n",
    "<summary>Solution</summary>\n",
    "\n",
    "\n",
    "```bash\n",
    "hasproperty(df, :square2)\n",
    "```"
   ]
  },
  {
   "cell_type": "markdown",
   "metadata": {},
   "source": []
  }
 ],
 "metadata": {
  "kernelspec": {
   "display_name": "Julia 1.10.5",
   "language": "julia",
   "name": "julia-1.10"
  },
  "language_info": {
   "file_extension": ".jl",
   "mimetype": "application/julia",
   "name": "julia",
   "version": "1.10.5"
  }
 },
 "nbformat": 4,
 "nbformat_minor": 4
}
