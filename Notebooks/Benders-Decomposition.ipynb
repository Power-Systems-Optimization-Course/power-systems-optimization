{
 "cells": [
  {
   "cell_type": "markdown",
   "metadata": {},
   "source": [
    "In these notes, we consider a simple mixed integer linear program (MILP) and derive a Benders decomposition scheme to solve it."
   ]
  },
  {
   "cell_type": "code",
   "execution_count": null,
   "metadata": {},
   "outputs": [],
   "source": [
    "# Ensure these packages are installed; if not, use the Pkg package and Pkg.add() function to install\n",
    "using JuMP\n",
    "using HiGHS"
   ]
  },
  {
   "cell_type": "code",
   "execution_count": null,
   "metadata": {},
   "outputs": [],
   "source": [
    "f = [1, 4];\n",
    "c = [2, 3];\n",
    "e = [-2; -3];\n",
    "A = [1 -3; -1 -3];\n",
    "E = [1 -2; -1 -1];"
   ]
  },
  {
   "cell_type": "markdown",
   "metadata": {},
   "source": [
    "The full monolithic model is as follows:"
   ]
  },
  {
   "cell_type": "code",
   "execution_count": null,
   "metadata": {},
   "outputs": [],
   "source": [
    "monolithic_model = Model(HiGHS.Optimizer);\n",
    "@variable(monolithic_model, x[1:2] >= 0, Int);\n",
    "@variable(monolithic_model, y[1:2] >= 0);\n",
    "@constraint(monolithic_model, A*x + E*y .<= e);\n",
    "@objective(monolithic_model,Min, f'*x + c'*y);\n",
    "latex_formulation(monolithic_model)"
   ]
  },
  {
   "cell_type": "code",
   "execution_count": null,
   "metadata": {},
   "outputs": [],
   "source": [
    "optimize!(monolithic_model)"
   ]
  },
  {
   "cell_type": "code",
   "execution_count": null,
   "metadata": {},
   "outputs": [],
   "source": [
    "value.(monolithic_model[:x])"
   ]
  },
  {
   "cell_type": "markdown",
   "metadata": {},
   "source": [
    "Because we are considering a small example problem, the solver was able to quickly compute a solution. However, real-life mixed integer linear programs involve tens of thousands of integer decisions, pushing even the best commercial solvers to their computational limits. \n",
    "\n",
    "Note that if we fix the values of integer variables $x_1$ and $x_2$, we obtain a continuous linear program which can be easily solved. For this reason, Benders decomposition is often implemented to solve MILPs, considering integer decisions as complicating variables. "
   ]
  },
  {
   "cell_type": "markdown",
   "metadata": {},
   "source": [
    "Let's initialize the master (or planning) problem:"
   ]
  },
  {
   "cell_type": "code",
   "execution_count": null,
   "metadata": {},
   "outputs": [],
   "source": [
    "master = Model(HiGHS.Optimizer);\n",
    "@variable(master, x[1:2] >= 0, Int);\n",
    "@variable(master,θ>=-1000) #### Initial lower bound on the operational cost (if operational cost is always positive, this can be set to 0)\n",
    "@objective(master,Min, f'*x + θ);\n",
    "\n",
    "latex_formulation(master)"
   ]
  },
  {
   "cell_type": "markdown",
   "metadata": {},
   "source": [
    "Then, the subproblem is defined including auxiliary variables $z$ that act as local copies of the master variables:"
   ]
  },
  {
   "cell_type": "code",
   "execution_count": null,
   "metadata": {},
   "outputs": [],
   "source": [
    "subprob = Model(HiGHS.Optimizer);\n",
    "@variable(subprob, z[1:2] >= 0);\n",
    "@variable(subprob, y[1:2] >= 0);\n",
    "@constraint(subprob,A*z + E*y .<= e);\n",
    "@objective(subprob, Min, c'*y);\n",
    "latex_formulation(subprob)"
   ]
  },
  {
   "cell_type": "markdown",
   "metadata": {},
   "source": [
    "The Benders decomposition algorithm, starts from solving the master problem:"
   ]
  },
  {
   "cell_type": "code",
   "execution_count": null,
   "metadata": {},
   "outputs": [],
   "source": [
    "optimize!(master)"
   ]
  },
  {
   "cell_type": "markdown",
   "metadata": {},
   "source": [
    "Using the solution of the master, we define a lower bound to the optimal value of our original MILP:"
   ]
  },
  {
   "cell_type": "code",
   "execution_count": null,
   "metadata": {},
   "outputs": [],
   "source": [
    "LB = objective_value(master)"
   ]
  },
  {
   "cell_type": "markdown",
   "metadata": {},
   "source": [
    "and also guesses for the master variables:"
   ]
  },
  {
   "cell_type": "code",
   "execution_count": null,
   "metadata": {},
   "outputs": [],
   "source": [
    "xk = value.(master[:x])"
   ]
  },
  {
   "cell_type": "markdown",
   "metadata": {},
   "source": [
    "We fix these guesses in the subproblem adding the constraints:"
   ]
  },
  {
   "cell_type": "code",
   "execution_count": null,
   "metadata": {},
   "outputs": [],
   "source": [
    "fix.(subprob[:z],xk;force=true)\n",
    "FixRef.(subprob[:z])"
   ]
  },
  {
   "cell_type": "markdown",
   "metadata": {},
   "source": [
    "And solve it:"
   ]
  },
  {
   "cell_type": "code",
   "execution_count": null,
   "metadata": {},
   "outputs": [],
   "source": [
    "optimize!(subprob)"
   ]
  },
  {
   "cell_type": "markdown",
   "metadata": {},
   "source": [
    "We can now compute an upper bound to the optimal value of the original MILP as: "
   ]
  },
  {
   "cell_type": "code",
   "execution_count": null,
   "metadata": {},
   "outputs": [],
   "source": [
    "UB = f'*xk + objective_value(subprob)"
   ]
  },
  {
   "cell_type": "markdown",
   "metadata": {},
   "source": [
    "With lower and upper bounds, we can compute the optimality gap, which gives a conserative estimate of the degree of sub-optimality of our current best guess:"
   ]
  },
  {
   "cell_type": "code",
   "execution_count": null,
   "metadata": {},
   "outputs": [],
   "source": [
    "gap = (UB-LB)/abs(UB)"
   ]
  },
  {
   "cell_type": "markdown",
   "metadata": {},
   "source": [
    "To improve our guesses, we need to include additional information into the master problem. \n",
    "\n",
    "Hence, we derive the so called optimality cuts, which are based on the dual solutions associated with the constraints fixing the values of the master variables in the subproblems:"
   ]
  },
  {
   "cell_type": "code",
   "execution_count": null,
   "metadata": {},
   "outputs": [],
   "source": [
    "λ = dual.(FixRef.(subprob[:z]))"
   ]
  },
  {
   "cell_type": "markdown",
   "metadata": {},
   "source": [
    "Having only one subproblem, we add one optimality cut per iteration to the master problem, which is given by:"
   ]
  },
  {
   "cell_type": "markdown",
   "metadata": {},
   "source": [
    "$$\\theta \\geq f_k + \\lambda^T(x - x_k)$$"
   ]
  },
  {
   "cell_type": "markdown",
   "metadata": {},
   "source": [
    "where $f_k$ is the objective value of the subproblem obtained fixing variables $z$ to the value $x_k$."
   ]
  },
  {
   "cell_type": "markdown",
   "metadata": {},
   "source": [
    "Update the master problem by implementing the optimality cut above:"
   ]
  },
  {
   "cell_type": "code",
   "execution_count": null,
   "metadata": {},
   "outputs": [],
   "source": []
  },
  {
   "cell_type": "markdown",
   "metadata": {},
   "source": [
    "Then, repeat the above steps until you reach a zero gap. \n",
    "\n",
    "At each iteration: \n",
    "\n",
    "- Solve the upadted master problem\n",
    "- Fix the values of the master variables in the subproblem\n",
    "- Solve the subproblem to obtain an upper bound and compute the gap \n",
    "- If it is zero, then you are done! \n",
    "- If not zero, compute new optimality gaps and add them to the master problem, then repeat."
   ]
  },
  {
   "cell_type": "markdown",
   "metadata": {},
   "source": [
    "Then submit the optimal value you get and the final solution for vector $x$. Report also on how many iterations it took, and write out the cuts computed along the way."
   ]
  },
  {
   "cell_type": "markdown",
   "metadata": {},
   "source": [
    "**Bonus**: try to visualize the progression of the Benders algorithm by making a 3d plot of the cuts in $(\\theta, x_1, x_2)$ coordinates. The total objective function value should appear as a surface, while the optimality cuts should be planes. Then illustrate the guesses for $x$ for each iteration by showing points $(\\theta, x_1, x_2)$ on the surface."
   ]
  },
  {
   "cell_type": "markdown",
   "metadata": {},
   "source": []
  }
 ],
 "metadata": {
  "kernelspec": {
   "display_name": "Julia 1.11.1",
   "language": "julia",
   "name": "julia-1.11"
  },
  "language_info": {
   "file_extension": ".jl",
   "mimetype": "application/julia",
   "name": "julia",
   "version": "1.11.1"
  }
 },
 "nbformat": 4,
 "nbformat_minor": 2
}
