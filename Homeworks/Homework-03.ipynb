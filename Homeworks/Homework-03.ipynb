{
 "cells": [
  {
   "cell_type": "markdown",
   "metadata": {},
   "source": [
    "# Homework 3"
   ]
  },
  {
   "cell_type": "markdown",
   "metadata": {},
   "source": [
    "This Notebook builds on the unit commitment model introduced in [Notebook 5](https://github.com/east-winds/power-systems-optimization/tree/master/Notebooks) and the storage model introduced in [Notebook 2](https://github.com/east-winds/power-systems-optimization/tree/master/Notebooks).\n",
    "\n",
    "First, load (or install if necessary) a set of packages you'll need for this assignment..."
   ]
  },
  {
   "cell_type": "code",
   "execution_count": null,
   "metadata": {},
   "outputs": [],
   "source": [
    "# Uncomment and run this first line if you need to install or update packages\n",
    "#import Pkg; Pkg.add(\"JuMP\"); Pkg.add(\"HiGHS\"); Pkg.add(\"DataFrames\"); Pkg.add(\"CSV\"); Pkg.add(\"Plots\"); Pkg.add(\"VegaLite\")\n",
    "using JuMP\n",
    "using HiGHS\n",
    "using DataFrames\n",
    "using CSV\n",
    "using Plots; plotly();\n",
    "using VegaLite  # to make some nice plots\n",
    "\n",
    "#=\n",
    "Function to convert JuMP outputs (technically, AxisArrays) with two-indexes to a dataframe\n",
    "Inputs:\n",
    "    var -- JuMP AxisArray (e.g., value.(GEN))\n",
    "Reference: https://jump.dev/JuMP.jl/v0.19/containers/\n",
    "=#\n",
    "function value_to_df_2dim(var)\n",
    "    solution = DataFrame(var.data, :auto)\n",
    "    ax1 = var.axes[1]\n",
    "    ax2 = var.axes[2]\n",
    "    cols = names(solution)\n",
    "    insertcols!(solution, 1, :r_id => ax1)\n",
    "    solution = stack(solution, Not(:r_id), variable_name=:hour)\n",
    "    solution.hour = foldl(replace, [cols[i] => ax2[i] for i in 1:length(ax2)], init=solution.hour)\n",
    "    rename!(solution, :value => :gen)\n",
    "    solution.hour = convert.(Int64,solution.hour)\n",
    "    return solution\n",
    "end"
   ]
  },
  {
   "cell_type": "markdown",
   "metadata": {},
   "source": [
    "## Question 1 - Compare startup costs in unit commitment\n",
    "\n",
    "**A. Code and run basic model.**\n",
    "\n",
    "Data for this problem is stored in [`Homeworks/hw3_data`](hw3_data/).\n",
    "\n",
    "Following the `unit_commitment_simple` modeling formulation in [Notebook 5](https://github.com/east-winds/power-systems-optimization/tree/master/Notebooks), load the above data and create a unit commitment solver function with the following set of constraints:\n",
    "\n",
    "- Demand balance\n",
    "- Minimum / maximum generator constraints (non-committed)\n",
    "- Minimum / maximum generator constraints (committed)\n",
    "- Three-variable commitment formulation\n",
    "\n",
    "Note: the data (with hours 1-24) is already in local time. Hence, do not convert from GMT to GMT-8.\n",
    "\n",
    "Run the UC for the given day and plot a stacked area chart of generation using `@vlplot` from the `VegaLite` package.\n",
    "\n",
    "Throughout this assignment, please use a relative MIP gap of 1% for all questions. (If you are having difficulty getting this to solve on your computer in a reasonble amount of time, you can relax the gap but please then specify clearly in your comments that you have done so.)"
   ]
  },
  {
   "cell_type": "code",
   "execution_count": null,
   "metadata": {},
   "outputs": [],
   "source": []
  },
  {
   "cell_type": "markdown",
   "metadata": {},
   "source": [
    "**B. Zero startup costs sensitivity**\n",
    "\n",
    "Next, create a modified version of the generator dataframe (`gen_df_sens = copy(gen_df)`) and set the startup costs for all generators to be 0.\n",
    "\n",
    "Rerun the UC and compare with the first solution. What are the main differences and why?"
   ]
  },
  {
   "cell_type": "code",
   "execution_count": null,
   "metadata": {},
   "outputs": [],
   "source": []
  },
  {
   "cell_type": "markdown",
   "metadata": {},
   "source": [
    "## Question 2: Implement pumped hydropower storage\n",
    "\n",
    "In the data, we have a generator `hydroelectric_pumped_storage` which is a pumped hydro storage (PHS) facility. We have been treating it as a free resource, but in fact, it's a battery. \n",
    "\n",
    "The PHS equations for stored water are identical to the state of charge for the battery in Notebook 2:\n",
    "\n",
    "\\begin{align*} \n",
    "SOC_t = SOC_{t-1} + \\big(CHARGE_t * battery\\_eff - \\frac{DISCHARGE_t}{battery\\_eff}\\big)  \\quad \\forall t \\in T\n",
    "\\end{align*}\n",
    "\n",
    "In addition, the PHS has a power capacity constraint given in the dataframe's `existing_cap_mw` variable. You will also need to implement an energy capacity constraint. \n",
    "\n",
    "**A. Code pumped hydropower storage constraints.**\n",
    "\n",
    "Copy the `unit_commitment_simple` code above into a new cell below and rename the function `unit_commitment_storage`.\n",
    "\n",
    "Reviewing [Notebook 2](https://github.com/east-winds/power-systems-optimization/tree/master/Notebooks), add in relevant constraints for charging and discharging pumped hydropower. Assume the following parameters:\n",
    "\n",
    "- One-way efficiency is $battery_{eff} = 0.84$ (i.e., round-trip efficiency = $0.7$)\n",
    "- Energy capacity = 4 x Power capacity\n",
    "- Stored energy starts and ends the day at 50% capacity (you will need to code these constraints)\n",
    "\n",
    "Indicate which equations and variables you have added and explain your steps using inline code comments (e.g. `# Comment`)."
   ]
  },
  {
   "cell_type": "code",
   "execution_count": null,
   "metadata": {},
   "outputs": [],
   "source": []
  },
  {
   "cell_type": "markdown",
   "metadata": {},
   "source": [
    "**B. Solve the new UC with PHS and plot.**\n",
    "\n",
    "Using the above formulation, solve for the same parameters in Problem 1 and plot. For the purposes of plotting, you will want to create two resources&mdash;PHS_charge and PHS_discharge. By convention, you could put PHS_charge on top to indicate this is increasing system load."
   ]
  },
  {
   "cell_type": "code",
   "execution_count": null,
   "metadata": {},
   "outputs": [],
   "source": []
  },
  {
   "cell_type": "markdown",
   "metadata": {},
   "source": [
    "**C. Interpret results**\n",
    "\n",
    "Answer with a few sentences each of the following:\n",
    "\n",
    "1. Compare your results to `unit_commitment_simple`. Have any commitments changed?\n",
    "\n",
    "2. Interpret what is happening with the PHS facility during the day in terms of charging and discharging.\n",
    "\n",
    "3. Has curtailment reduced? (Explain this in the context of the PHS operation.)"
   ]
  },
  {
   "cell_type": "code",
   "execution_count": null,
   "metadata": {},
   "outputs": [],
   "source": []
  }
 ],
 "metadata": {
  "@webio": {
   "lastCommId": null,
   "lastKernelId": null
  },
  "kernelspec": {
   "display_name": "Julia 1.8.1",
   "language": "julia",
   "name": "julia-1.8"
  },
  "language_info": {
   "file_extension": ".jl",
   "mimetype": "application/julia",
   "name": "julia",
   "version": "1.8.1"
  }
 },
 "nbformat": 4,
 "nbformat_minor": 4
}
