{
 "cells": [
  {
   "cell_type": "markdown",
   "metadata": {},
   "source": [
    "# Homework 4"
   ]
  },
  {
   "cell_type": "markdown",
   "metadata": {},
   "source": [
    "This Notebook builds on the DCOPF model introduced in [Notebook 6](https://github.com/east-winds/power-systems-optimization/tree/master/Notebooks) and incorporates some elements of Economic Dispatch introduced in [Notebook 4](https://github.com/east-winds/power-systems-optimization/tree/master/Notebooks).\n",
    "\n",
    "First, load (or install if necessary) a set of packages you'll need for this assignment..."
   ]
  },
  {
   "cell_type": "code",
   "execution_count": 1,
   "metadata": {},
   "outputs": [
    {
     "name": "stderr",
     "output_type": "stream",
     "text": [
      "┌ Info: For saving to png with the Plotly backend PlotlyBase and PlotlyKaleido need to be installed.\n",
      "└ @ Plots /Users/jdj2/.julia/packages/Plots/W75kY/src/backends.jl:319\n"
     ]
    }
   ],
   "source": [
    "using JuMP\n",
    "using HiGHS\n",
    "using DataFrames\n",
    "using CSV\n",
    "using Plots; plotly();"
   ]
  },
  {
   "cell_type": "markdown",
   "metadata": {},
   "source": [
    "## Question 1: Modifying IEEE-14\n",
    "\n",
    "**A. Increased generation costs**\n",
    "\n",
    "Copy the IEEE 14 bus system and DCOPF solver function from Notebook 6. In addition, add the following line to the return call of the function:\n",
    "```julia\n",
    "status = termination_status(DCOPF)\n",
    "```\n",
    "This tells you the solver termination status for the problem: e.g. was an optimal solution found, was the solution infeasible, was it unbounded, etc.\n",
    "\n",
    "Make the following change to the system:\n",
    "\n",
    "- Increase the variable cost of Generator 1 to \\$30 / MWh\n",
    "\n",
    "Run the DCOPF and output generation, flows, and prices."
   ]
  },
  {
   "cell_type": "code",
   "execution_count": null,
   "metadata": {},
   "outputs": [],
   "source": [
    "datadir = joinpath(\"..\",\"Notebooks\",\"ieee_test_cases\") \n",
    "gens = CSV.read(joinpath(datadir,\"Gen14.csv\"), DataFrame);\n",
    "lines = CSV.read(joinpath(datadir,\"Tran14.csv\"), DataFrame);\n",
    "loads = CSV.read(joinpath(datadir,\"Load14.csv\"), DataFrame);\n",
    "\n",
    "# Rename all columns to lowercase (by convention)\n",
    "for f in [gens, lines, loads]\n",
    "    rename!(f,lowercase.(names(f)))\n",
    "end\n",
    "\n",
    "# create generator ids \n",
    "gens.id = 1:nrow(gens);\n",
    "\n",
    "# create line ids \n",
    "lines.id = 1:nrow(lines);\n",
    "# add set of rows for reverse direction with same parameters\n",
    "lines2 = copy(lines)\n",
    "lines2.f = lines2.fromnode\n",
    "lines2.fromnode = lines.tonode\n",
    "lines2.tonode = lines2.f\n",
    "lines2 = lines2[:,names(lines)]\n",
    "append!(lines,lines2)\n",
    "\n",
    "# calculate simple susceptance, ignoring resistance as earlier \n",
    "lines.b = 1 ./ lines.reactance\n",
    "\n",
    "# keep only a single time period\n",
    "loads = loads[:,[\"connnode\",\"interval-1_load\"]]\n",
    "rename!(loads,\"interval-1_load\" => \"demand\");"
   ]
  },
  {
   "cell_type": "code",
   "execution_count": null,
   "metadata": {},
   "outputs": [],
   "source": []
  },
  {
   "cell_type": "code",
   "execution_count": null,
   "metadata": {},
   "outputs": [],
   "source": []
  },
  {
   "cell_type": "code",
   "execution_count": null,
   "metadata": {},
   "outputs": [],
   "source": []
  },
  {
   "cell_type": "code",
   "execution_count": null,
   "metadata": {},
   "outputs": [],
   "source": []
  },
  {
   "cell_type": "markdown",
   "metadata": {},
   "source": [
    "Regarding the above results, answer the following:\n",
    "\n",
    "- How has generation changed compared to the default system?\n",
    "- What explains the new prices?\n"
   ]
  },
  {
   "cell_type": "code",
   "execution_count": null,
   "metadata": {},
   "outputs": [],
   "source": []
  },
  {
   "cell_type": "markdown",
   "metadata": {},
   "source": [
    "**B. Constrained line**\n",
    "\n",
    "Make the following changes to the system:\n",
    "\n",
    "- Increase the variable cost of Generator 1 to \\$30 / MWh\n",
    "- Reduce flow limit on the line connecting 2 and 3 ($l_{23}$) to 70 MW\n",
    "\n",
    "Run the DCOPF and output generation, flows, and prices."
   ]
  },
  {
   "cell_type": "code",
   "execution_count": null,
   "metadata": {},
   "outputs": [],
   "source": []
  },
  {
   "cell_type": "code",
   "execution_count": null,
   "metadata": {},
   "outputs": [],
   "source": []
  },
  {
   "cell_type": "code",
   "execution_count": null,
   "metadata": {},
   "outputs": [],
   "source": []
  },
  {
   "cell_type": "markdown",
   "metadata": {},
   "source": [
    "Regarding the above results, answer the following:\n",
    "\n",
    "- Which node has the highest price and why?\n",
    "- What is the difference in prices across $l_{23}$, also known as the congestion rent? How do you interpret this value (what is it's practical meaning?)"
   ]
  },
  {
   "cell_type": "code",
   "execution_count": null,
   "metadata": {},
   "outputs": [],
   "source": []
  },
  {
   "cell_type": "markdown",
   "metadata": {},
   "source": [
    "**C. Demand increase**\n",
    "\n",
    "Make the following changes to the system:\n",
    "\n",
    "- Increase the variable cost of Generator 1 to \\$30 / MWh\n",
    "- Reduce flow limit on the line connecting 2 and 3 ($l_{23}$) to 70 MW\n",
    "- Increase demands everywhere by 5\\%."
   ]
  },
  {
   "cell_type": "code",
   "execution_count": null,
   "metadata": {},
   "outputs": [],
   "source": []
  },
  {
   "cell_type": "markdown",
   "metadata": {},
   "source": [
    "Calculate the total available generating capacity:"
   ]
  },
  {
   "cell_type": "code",
   "execution_count": null,
   "metadata": {},
   "outputs": [],
   "source": []
  },
  {
   "cell_type": "markdown",
   "metadata": {},
   "source": [
    "Calculate the new total demand:"
   ]
  },
  {
   "cell_type": "code",
   "execution_count": null,
   "metadata": {},
   "outputs": [],
   "source": []
  },
  {
   "cell_type": "markdown",
   "metadata": {},
   "source": [
    "Run the DCOPF and show prices."
   ]
  },
  {
   "cell_type": "code",
   "execution_count": null,
   "metadata": {},
   "outputs": [],
   "source": []
  },
  {
   "cell_type": "markdown",
   "metadata": {},
   "source": [
    "**What is happening in this system?** "
   ]
  },
  {
   "cell_type": "code",
   "execution_count": null,
   "metadata": {},
   "outputs": [],
   "source": []
  },
  {
   "cell_type": "markdown",
   "metadata": {},
   "source": [
    "## Question 2: Linear losses\n",
    "\n",
    "Up until now, we have ignored transmission losses. A quadratic approximation of losses is given by:\n",
    "\n",
    "\\begin{align}\n",
    "LOSS_{ij} &\\approx \\frac{G_{ij}}{BaseMVA} (\\theta_i-\\theta_j)^2 \\\\\n",
    " & \\approx \\frac{1}{BaseMVA} \\frac{R_{ij}}{R_{ij}^2+X_{ij}^2}(\\theta_i-\\theta_j)^2\n",
    "\\end{align}\n",
    "\n",
    "\n",
    "where $G$ is the line's conductance, $R$ is the line's resistance and $X$ is the line's reactance. See the `lines` data frame for these parameters.\n",
    "\n",
    "For our purposes, we will approximate this quadratic via:\n",
    "\n",
    "\n",
    "$$\n",
    "LOSS_{ij} \\geq \\frac{R_{ij}}{BaseMVA} \\times (MaxFlow_{ij})^2 \n",
    "\\left(\\frac{|FLOW_{ij}|}{MaxFlow_{ij}} - 0.165 \\right)\n",
    "$$\n",
    "\n",
    "where $MaxFlow_{ij}=200 MW$ in this problem. Note the greater than equal sign, as we do not want to have negative losses.\n",
    "\n",
    "This approximation is based on Fitiwi et al. (2016), \"Finding a representative network losses model for large-scale transmission expansion planning with renewable energy sources,\" *Energy* 101: 343-358, https://doi.org/10.1016/j.energy.2016.02.015. \n",
    "\n",
    "Note that this is a linear approximation of transmission losses, which are actually a quadratic function of power flows. Fitiwi et al. 2016 and other papers describe piece-wise or segment-wise linear approximations of the quadratic function which provide a tighter lower bound approximation of losses, but we'll use a single linear term for this assignment. \n",
    "\n",
    "See Jenkins & Sepulveda et al. 2017, \"Enhanced decision support for a changing electricity landscape: the GenX configurable electricity resource capacity expansion model\", MIT Energy Initiative Working Paper 2017-10 http://bit.ly/GenXModel Section 5.8, for an example of a linear segment-wise approximation of quadratic transmission losses. \n",
    "\n",
    "\n",
    "**A. Code linear losses**\n",
    "\n",
    "Reload the original data from Notebook 6 and copy the IEEE 14 bus system and DCOPF solver function from Notebook 6 into a new function `dcopf_ieee_lossy`.\n",
    "\n",
    "Make the following changes:\n",
    "- Increase the variable cost of Generator 1 to \\$30 / MWh\n",
    "- Change all transmission line capacities to 200 MW\n",
    "\n",
    "Implement losses into the supply/demand balance equations. A standard way to implement absolute values in linear programming is by introducing two non-negative auxiliary variables $x^+$, $x^-$ $\\geq 0$:\n",
    "\n",
    "$$\n",
    "x = x^+ - x^-\n",
    "$$\n",
    "\n",
    "and the absolute value can be represented as:\n",
    "\n",
    "$$\n",
    "|x| = x^+ + x^-\n",
    "$$\n",
    "\n",
    "(You should satisfy yourself that this equality holds.)\n",
    "\n",
    "It makes the formulation easier if losses are added to the supply/demand balance constraint in each node by splitting losses in half between the receiving and sending end.\n",
    "\n",
    "Indicate which equations and variables you have added and explain your steps using inline code comments (e.g. `# Comment`).\n",
    "\n",
    "Run the lossy DCOPF and output generation, flows, losses, and prices."
   ]
  },
  {
   "cell_type": "code",
   "execution_count": null,
   "metadata": {},
   "outputs": [],
   "source": []
  },
  {
   "cell_type": "code",
   "execution_count": null,
   "metadata": {},
   "outputs": [],
   "source": []
  },
  {
   "cell_type": "code",
   "execution_count": null,
   "metadata": {},
   "outputs": [],
   "source": []
  },
  {
   "cell_type": "code",
   "execution_count": null,
   "metadata": {},
   "outputs": [],
   "source": []
  },
  {
   "cell_type": "code",
   "execution_count": null,
   "metadata": {},
   "outputs": [],
   "source": []
  },
  {
   "cell_type": "code",
   "execution_count": null,
   "metadata": {},
   "outputs": [],
   "source": []
  },
  {
   "cell_type": "markdown",
   "metadata": {},
   "source": [
    "**B. Interpret results**\n",
    "\n",
    "Run the same parameters in the lossless OPF from problem 1. How do prices and flows change? What is the largest magnitude difference in prices between the solution with losses and the lossless OPF solution?"
   ]
  },
  {
   "cell_type": "code",
   "execution_count": null,
   "metadata": {},
   "outputs": [],
   "source": []
  },
  {
   "cell_type": "markdown",
   "metadata": {},
   "source": [
    "## Question 3 - Security contingencies\n",
    "\n",
    "Power system operators need to ensure that power is delivered reliably even in the event of unexpected outages (**contingencies**). One common contigency that must be planned for is the loss of a transmission line. The security-constrained OPF (SCOPF) run by operators solves for an optimal dispatch that is simultaneously robust (i.e., feasible) to each of the lines failing individually. This is what is known as **N-1 security**, because we assume that at most one component fails in any given scenario.\n",
    "\n",
    "In this problem, we will not code a full SCOPF, but rather investigate what happens to the feasibility of our problem when we remove transmission lines.\n",
    "\n",
    "**A. Setup data**\n",
    "\n",
    "The following code loads the original dataset (with one row per line) and includes a function `format_lines` that converts this to a format that our solver function can use (duplicating rows for both directions, adding susceptance, etc.)."
   ]
  },
  {
   "cell_type": "code",
   "execution_count": null,
   "metadata": {},
   "outputs": [],
   "source": [
    "lines = CSV.read(joinpath(datadir,\"Tran14.csv\"), DataFrame);\n",
    "rename!(lines,lowercase.(names(lines)))\n",
    "\n",
    "function format_lines(lines)\n",
    "    # create line ids \n",
    "    lines.id = 1:nrow(lines);\n",
    "    # add set of rows for reverse direction with same parameters\n",
    "    lines2 = copy(lines)\n",
    "    lines2.f = lines2.fromnode\n",
    "    lines2.fromnode = lines.tonode\n",
    "    lines2.tonode = lines2.f\n",
    "    lines2 = lines2[:,names(lines)]\n",
    "    append!(lines,lines2)\n",
    "\n",
    "    # calculate simple susceptance, ignoring resistance as earlier \n",
    "    lines.b = 1 ./ lines.reactance\n",
    "    return(lines)\n",
    "end"
   ]
  },
  {
   "cell_type": "markdown",
   "metadata": {},
   "source": [
    "Next:\n",
    "\n",
    "1. Set the capacity of all lines in the system at 100 MW, except for the line $l_{12}$, which you should set to 200 MW.\n",
    "\n",
    "2. Create a load dataframe `loads_sens` that increases demands everywhere by 10\\%"
   ]
  },
  {
   "cell_type": "code",
   "execution_count": null,
   "metadata": {},
   "outputs": [],
   "source": []
  },
  {
   "cell_type": "markdown",
   "metadata": {},
   "source": [
    "**B. Loop over line contingencies**\n",
    "\n",
    "Create a dataframe `status` with the `fromnode` and `tonode` columns of `lines`.\n",
    "\n",
    "Create a [for loop](https://docs.julialang.org/en/v1/manual/control-flow/#man-loops) that iterates over each line and:\n",
    "- sets the reactance to be a very high value, 1e9 (i.e., no power will be transmitted)\n",
    "- creates a version of the dataframe that our solver function can use via `format_lines`\n",
    "- runs DCOPF\n",
    "- stores the solution status in a `opf` column in the corresponding row of the `status` dataframe\n",
    "\n",
    "Show the `status` results."
   ]
  },
  {
   "cell_type": "code",
   "execution_count": null,
   "metadata": {},
   "outputs": [],
   "source": []
  },
  {
   "cell_type": "markdown",
   "metadata": {},
   "source": [
    "**3. Interpret results**\n",
    "\n",
    "Are all of the cases feasible? If not, how many are infeasible? "
   ]
  },
  {
   "cell_type": "code",
   "execution_count": null,
   "metadata": {},
   "outputs": [],
   "source": []
  },
  {
   "cell_type": "markdown",
   "metadata": {},
   "source": [
    "Pick two cases where the solution gives a different status. (For our purposes, dual infeasible and primal infeasible are the same.) What is happening here?\n",
    "\n",
    "Given this, do you conclude that the system with the assumed transmission line ratings is secure as-is, or do we need to add more redundancy to the system?"
   ]
  },
  {
   "cell_type": "code",
   "execution_count": null,
   "metadata": {},
   "outputs": [],
   "source": []
  }
 ],
 "metadata": {
  "@webio": {
   "lastCommId": null,
   "lastKernelId": null
  },
  "kernelspec": {
   "display_name": "Julia 1.8.1",
   "language": "julia",
   "name": "julia-1.8"
  },
  "language_info": {
   "file_extension": ".jl",
   "mimetype": "application/julia",
   "name": "julia",
   "version": "1.8.1"
  }
 },
 "nbformat": 4,
 "nbformat_minor": 4
}
